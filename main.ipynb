{
 "cells": [
  {
   "cell_type": "code",
   "execution_count": 1,
   "metadata": {},
   "outputs": [
    {
     "name": "stderr",
     "output_type": "stream",
     "text": [
      "c:\\Users\\spn\\anaconda3\\envs\\capstone\\Lib\\site-packages\\transformers\\utils\\generic.py:441: UserWarning: torch.utils._pytree._register_pytree_node is deprecated. Please use torch.utils._pytree.register_pytree_node instead.\n",
      "  _torch_pytree._register_pytree_node(\n",
      "[NeMo W 2024-04-14 20:27:07 nemo_logging:393] c:\\Users\\spn\\anaconda3\\envs\\capstone\\Lib\\site-packages\\transformers\\utils\\generic.py:309: UserWarning: torch.utils._pytree._register_pytree_node is deprecated. Please use torch.utils._pytree.register_pytree_node instead.\n",
      "      _torch_pytree._register_pytree_node(\n",
      "    \n",
      "[NeMo W 2024-04-14 20:27:08 nemo_logging:393] c:\\Users\\spn\\anaconda3\\envs\\capstone\\Lib\\site-packages\\transformers\\utils\\generic.py:309: UserWarning: torch.utils._pytree._register_pytree_node is deprecated. Please use torch.utils._pytree.register_pytree_node instead.\n",
      "      _torch_pytree._register_pytree_node(\n",
      "    \n",
      "[NeMo W 2024-04-14 20:27:08 nemo_logging:393] Could not import NeMo NLP collection which is required for speech translation model.\n"
     ]
    },
    {
     "name": "stdout",
     "output_type": "stream",
     "text": [
      "[NeMo I 2024-04-14 20:27:26 nemo_logging:381] Tokenizer SentencePieceTokenizer initialized with 1024 tokens\n"
     ]
    },
    {
     "name": "stderr",
     "output_type": "stream",
     "text": [
      "[NeMo W 2024-04-14 20:27:26 nemo_logging:393] If you intend to do training or fine-tuning, please call the ModelPT.setup_training_data() method and provide a valid configuration file to setup the train data loader.\n",
      "    Train config : \n",
      "    manifest_filepath: /disk1/NVIDIA/datasets/LibriSpeech_NeMo/librivox-train-all.json\n",
      "    sample_rate: 16000\n",
      "    batch_size: 16\n",
      "    shuffle: true\n",
      "    num_workers: 8\n",
      "    pin_memory: true\n",
      "    use_start_end_token: false\n",
      "    trim_silence: false\n",
      "    max_duration: 16.7\n",
      "    min_duration: 0.1\n",
      "    is_tarred: false\n",
      "    tarred_audio_filepaths: null\n",
      "    shuffle_n: 2048\n",
      "    bucketing_strategy: fully_randomized\n",
      "    bucketing_batch_size: null\n",
      "    \n",
      "[NeMo W 2024-04-14 20:27:26 nemo_logging:393] If you intend to do validation, please call the ModelPT.setup_validation_data() or ModelPT.setup_multiple_validation_data() method and provide a valid configuration file to setup the validation data loader(s). \n",
      "    Validation config : \n",
      "    manifest_filepath: /disk1/NVIDIA/datasets/LibriSpeech_NeMo/librivox-dev-clean.json\n",
      "    sample_rate: 16000\n",
      "    batch_size: 16\n",
      "    shuffle: false\n",
      "    use_start_end_token: false\n",
      "    num_workers: 8\n",
      "    pin_memory: true\n",
      "    \n",
      "[NeMo W 2024-04-14 20:27:26 nemo_logging:393] Please call the ModelPT.setup_test_data() or ModelPT.setup_multiple_test_data() method and provide a valid configuration file to setup the test data loader(s).\n",
      "    Test config : \n",
      "    manifest_filepath: null\n",
      "    sample_rate: 16000\n",
      "    batch_size: 16\n",
      "    shuffle: false\n",
      "    use_start_end_token: false\n",
      "    num_workers: 8\n",
      "    pin_memory: true\n",
      "    \n"
     ]
    },
    {
     "name": "stdout",
     "output_type": "stream",
     "text": [
      "[NeMo I 2024-04-14 20:27:26 nemo_logging:381] PADDING: 0\n"
     ]
    },
    {
     "name": "stderr",
     "output_type": "stream",
     "text": [
      "[NeMo W 2024-04-14 20:27:29 nemo_logging:393] `method_cfg` is deprecated and will be removed in the future. Please use `measure_cfg` instead.\n",
      "[NeMo W 2024-04-14 20:27:29 nemo_logging:393] Re-writing `measure_cfg` with the value of `method_cfg`.\n",
      "[NeMo W 2024-04-14 20:27:29 nemo_logging:393] `temperature` is deprecated and will be removed in the future. Please use `alpha` instead.\n",
      "[NeMo W 2024-04-14 20:27:29 nemo_logging:393] Re-writing `alpha` with the value of `temperature`.\n",
      "[NeMo W 2024-04-14 20:27:29 nemo_logging:393] `method_cfg` is deprecated and will be removed in the future. Please use `measure_cfg` instead.\n",
      "[NeMo W 2024-04-14 20:27:29 nemo_logging:393] Re-writing `measure_cfg` with the value of `method_cfg`.\n",
      "[NeMo W 2024-04-14 20:27:29 nemo_logging:393] `temperature` is deprecated and will be removed in the future. Please use `alpha` instead.\n",
      "[NeMo W 2024-04-14 20:27:29 nemo_logging:393] Re-writing `alpha` with the value of `temperature`.\n"
     ]
    },
    {
     "name": "stdout",
     "output_type": "stream",
     "text": [
      "[NeMo I 2024-04-14 20:27:32 nemo_logging:381] Model EncDecCTCModelBPE was successfully restored from C:\\Users\\spn\\.cache\\huggingface\\hub\\models--nvidia--parakeet-ctc-0.6b\\snapshots\\097ffc5b027beabc73acb627def2d1d278e774e9\\parakeet-ctc-0.6b.nemo.\n"
     ]
    }
   ],
   "source": [
    "from models.nllb import nllb\n",
    "#from models.TTS_utils import xtts_v2\n",
    "from models.parakeet import parakeet_ctc_model\n",
    "from models.es_fastconformer import stt_es_model\n",
    "model_nllb, tokinizer_nllb = nllb()\n",
    "#xtts_v2_model = xtts_v2()\n",
    "parakeet = parakeet_ctc_model()\n",
    "#sst = stt_es_model()"
   ]
  },
  {
   "cell_type": "code",
   "execution_count": 2,
   "metadata": {},
   "outputs": [
    {
     "name": "stdout",
     "output_type": "stream",
     "text": [
      "Writing audio_segments\\segment_0.wav...\n",
      "Processing segment...\n",
      "0.14047542\n",
      "Noise reduction done!\n",
      "Noise removed. Time: 0.0631721019744873\n"
     ]
    },
    {
     "data": {
      "application/vnd.jupyter.widget-view+json": {
       "model_id": "33e672fbf07141d1bf71d550ae23ce8b",
       "version_major": 2,
       "version_minor": 0
      },
      "text/plain": [
       "Transcribing:   0%|          | 0/1 [00:00<?, ?it/s]"
      ]
     },
     "metadata": {},
     "output_type": "display_data"
    },
    {
     "name": "stdout",
     "output_type": "stream",
     "text": [
      "Transcription: and i want to go play football tomorrow\n",
      "Transcription time: 1.7835888862609863\n",
      "Translating...\n",
      "Processing translation...\n",
      "Writing audio_segments\\segment_1.wav...\n",
      "Processing segment...\n",
      "0.13762759\n",
      "Noise reduction done!\n",
      "Noise removed. Time: 0.03143167495727539\n",
      "Translation: Y quiero ir a jugar al fútbol mañana\n",
      "Translation time: 0.5573749542236328\n"
     ]
    },
    {
     "data": {
      "application/vnd.jupyter.widget-view+json": {
       "model_id": "a8b18872a2c94936b19b3bea47e2acf9",
       "version_major": 2,
       "version_minor": 0
      },
      "text/plain": [
       "Transcribing:   0%|          | 0/1 [00:00<?, ?it/s]"
      ]
     },
     "metadata": {},
     "output_type": "display_data"
    },
    {
     "name": "stdout",
     "output_type": "stream",
     "text": [
      "Transcription: i don't like studying\n",
      "Transcription time: 0.5444800853729248\n",
      "Translating...\n",
      "Processing translation...\n",
      "Translation: No me gusta estudiar.\n",
      "Translation time: 0.34766173362731934\n",
      "Writing audio_segments\\segment_2.wav...\n",
      "Processing segment...\n",
      "0.07208351\n",
      "Noise reduction done!\n",
      "Noise removed. Time: 0.030254602432250977\n"
     ]
    },
    {
     "data": {
      "application/vnd.jupyter.widget-view+json": {
       "model_id": "558218033441457aaccb518fe1a1f628",
       "version_major": 2,
       "version_minor": 0
      },
      "text/plain": [
       "Transcribing:   0%|          | 0/1 [00:00<?, ?it/s]"
      ]
     },
     "metadata": {},
     "output_type": "display_data"
    },
    {
     "name": "stdout",
     "output_type": "stream",
     "text": [
      "Transcription: and suck you\n",
      "Transcription time: 0.597923994064331\n",
      "Translating...\n",
      "Processing translation...\n",
      "Writing audio_segments\\segment_3.wav...\n",
      "Processing segment...\n",
      "0.00081341807\n",
      "No speech detected.\n",
      "Translation: y te chuparé\n",
      "Translation time: 1.064283847808838\n",
      "Writing audio_segments\\segment_4.wav...\n",
      "Processing segment...\n",
      "0.0005340556\n",
      "No speech detected.\n",
      "Writing audio_segments\\segment_5.wav...\n",
      "Processing segment...\n",
      "0.00080015033\n",
      "No speech detected.\n",
      "Writing audio_segments\\segment_6.wav...\n",
      "Processing segment...\n",
      "0.0019569562\n",
      "No speech detected.\n",
      "Writing audio_segments\\segment_7.wav...\n",
      "Processing segment...\n",
      "0.0005208579\n",
      "No speech detected.\n",
      "Writing audio_segments\\segment_8.wav...\n",
      "Processing segment...\n",
      "0.0006447705\n",
      "No speech detected.\n",
      "Writing audio_segments\\segment_9.wav...\n",
      "Processing segment...\n",
      "0.0004728608\n",
      "No speech detected.\n",
      "Writing audio_segments\\segment_10.wav...\n",
      "Processing segment...\n",
      "0.0032678815\n",
      "No speech detected.\n",
      "Writing audio_segments\\segment_11.wav...\n",
      "Processing segment...\n",
      "0.04486087\n",
      "Noise reduction done!\n",
      "Noise removed. Time: 0.05058574676513672\n"
     ]
    },
    {
     "data": {
      "application/vnd.jupyter.widget-view+json": {
       "model_id": "e903cbe338fa4a459ce6c1a490f6b6c1",
       "version_major": 2,
       "version_minor": 0
      },
      "text/plain": [
       "Transcribing:   0%|          | 0/1 [00:00<?, ?it/s]"
      ]
     },
     "metadata": {},
     "output_type": "display_data"
    },
    {
     "name": "stdout",
     "output_type": "stream",
     "text": [
      "Writing audio_segments\\segment_12.wav...\n",
      "Processing segment...\n",
      "0.0005157886\n",
      "No speech detected.\n",
      "Transcription: what are you talking about you son of a bitch\n",
      "Transcription time: 1.5866336822509766\n",
      "Translating...\n",
      "Processing translation...\n",
      "Translation: ¿De qué estás hablando hijo de puta?\n",
      "Translation time: 0.49901413917541504\n",
      "Writing audio_segments\\segment_13.wav...\n",
      "Processing segment...\n",
      "0.002481739\n",
      "No speech detected.\n",
      "Writing audio_segments\\segment_14.wav...\n",
      "Processing segment...\n",
      "0.0052153287\n",
      "No speech detected.\n",
      "Writing audio_segments\\segment_15.wav...\n",
      "Processing segment...\n",
      "0.09547324\n",
      "Noise reduction done!\n",
      "Noise removed. Time: 0.0359807014465332\n"
     ]
    },
    {
     "data": {
      "application/vnd.jupyter.widget-view+json": {
       "model_id": "0793748596d549ada0c6e2a50db96bec",
       "version_major": 2,
       "version_minor": 0
      },
      "text/plain": [
       "Transcribing:   0%|          | 0/1 [00:00<?, ?it/s]"
      ]
     },
     "metadata": {},
     "output_type": "display_data"
    },
    {
     "name": "stdout",
     "output_type": "stream",
     "text": [
      "Transcription: whatever\n",
      "Transcription time: 1.7222623825073242\n",
      "Translating...\n",
      "Processing translation...\n",
      "Translation: - No importa.\n",
      "Translation time: 0.31586360931396484\n",
      "Writing audio_segments\\segment_16.wav...\n",
      "Processing segment...\n",
      "0.0065325415\n",
      "No speech detected.\n",
      "Writing audio_segments\\segment_17.wav...\n",
      "Processing segment...\n",
      "0.0025932016\n",
      "No speech detected.\n",
      "Writing audio_segments\\segment_18.wav...\n",
      "Processing segment...\n",
      "0.103459105\n",
      "Noise reduction done!\n",
      "Noise removed. Time: 0.040578365325927734\n"
     ]
    },
    {
     "data": {
      "application/vnd.jupyter.widget-view+json": {
       "model_id": "198dc69fd00f46c5b7891920c2befa56",
       "version_major": 2,
       "version_minor": 0
      },
      "text/plain": [
       "Transcribing:   0%|          | 0/1 [00:00<?, ?it/s]"
      ]
     },
     "metadata": {},
     "output_type": "display_data"
    },
    {
     "name": "stdout",
     "output_type": "stream",
     "text": [
      "Transcription: i did not finish my thesis yet but i hope i do soon\n",
      "Transcription time: 1.7214529514312744\n",
      "Translating...\n",
      "Processing translation...\n",
      "Writing audio_segments\\segment_19.wav...\n",
      "Processing segment...\n",
      "0.088468924\n",
      "Noise reduction done!\n",
      "Noise removed. Time: 0.032984018325805664\n"
     ]
    },
    {
     "data": {
      "application/vnd.jupyter.widget-view+json": {
       "model_id": "f2e4fdcd9cc049d48632a5a1eb8a6bfe",
       "version_major": 2,
       "version_minor": 0
      },
      "text/plain": [
       "Transcribing:   0%|          | 0/1 [00:00<?, ?it/s]"
      ]
     },
     "metadata": {},
     "output_type": "display_data"
    },
    {
     "name": "stdout",
     "output_type": "stream",
     "text": [
      "Transcription: and fucky\n",
      "Transcription time: 0.4379451274871826\n",
      "Translating...\n",
      "Processing translation...\n",
      "Translation: No he terminado mi tesis todavía pero espero que lo haga pronto.\n",
      "Translation time: 1.0648999214172363\n",
      "Translation: y jodido\n",
      "Translation time: 0.28215813636779785\n",
      "Writing audio_segments\\segment_20.wav...\n",
      "Processing segment...\n",
      "0.044291057\n",
      "Noise reduction done!\n",
      "Noise removed. Time: 0.0395054817199707\n"
     ]
    },
    {
     "data": {
      "application/vnd.jupyter.widget-view+json": {
       "model_id": "306944e893394bd19a160e644ebc0d6f",
       "version_major": 2,
       "version_minor": 0
      },
      "text/plain": [
       "Transcribing:   0%|          | 0/1 [00:00<?, ?it/s]"
      ]
     },
     "metadata": {},
     "output_type": "display_data"
    },
    {
     "name": "stdout",
     "output_type": "stream",
     "text": [
      "Transcription: fuck you\n",
      "Transcription time: 0.8234844207763672\n",
      "Translating...\n",
      "Processing translation...\n",
      "Translation: Qué te jodas.\n",
      "Translation time: 0.37260913848876953\n",
      "Writing audio_segments\\segment_21.wav...\n",
      "Processing segment...\n",
      "0.0011425255\n",
      "No speech detected.\n",
      "Writing audio_segments\\segment_22.wav...\n",
      "Processing segment...\n",
      "0.0012596213\n",
      "No speech detected.\n",
      "Writing audio_segments\\segment_23.wav...\n",
      "Processing segment...\n",
      "0.0035753031\n",
      "No speech detected.\n",
      "Writing audio_segments\\segment_24.wav...\n",
      "Processing segment...\n",
      "0.0018089201\n",
      "No speech detected.\n",
      "Writing audio_segments\\segment_25.wav...\n",
      "Processing segment...\n",
      "0.017849797\n",
      "Noise reduction done!\n",
      "Noise removed. Time: 0.026580810546875\n"
     ]
    },
    {
     "data": {
      "application/vnd.jupyter.widget-view+json": {
       "model_id": "f1a12a57ff3543c2bdb2d1a0fe1d26d7",
       "version_major": 2,
       "version_minor": 0
      },
      "text/plain": [
       "Transcribing:   0%|          | 0/1 [00:00<?, ?it/s]"
      ]
     },
     "metadata": {},
     "output_type": "display_data"
    },
    {
     "name": "stdout",
     "output_type": "stream",
     "text": [
      "Transcription: they go faster she can\n",
      "Transcription time: 0.9959735870361328\n",
      "Translating...\n",
      "Processing translation...\n",
      "Translation: van más rápido que ella puede\n",
      "Translation time: 0.4044070243835449\n",
      "Writing audio_segments\\segment_26.wav...\n",
      "Processing segment...\n",
      "0.09707653\n",
      "Noise reduction done!\n",
      "Noise removed. Time: 0.03200244903564453\n"
     ]
    },
    {
     "data": {
      "application/vnd.jupyter.widget-view+json": {
       "model_id": "22a8f8e785d64c529e1bb4a415d083ac",
       "version_major": 2,
       "version_minor": 0
      },
      "text/plain": [
       "Transcribing:   0%|          | 0/1 [00:00<?, ?it/s]"
      ]
     },
     "metadata": {},
     "output_type": "display_data"
    },
    {
     "name": "stdout",
     "output_type": "stream",
     "text": [
      "Transcription: how are you doing today\n",
      "Transcription time: 1.940122365951538\n",
      "Translating...\n",
      "Processing translation...\n",
      "Translation: ¿Cómo estás hoy?\n",
      "Translation time: 0.40937161445617676\n",
      "Writing audio_segments\\segment_27.wav...\n",
      "Processing segment...\n",
      "0.0017378263\n",
      "No speech detected.\n",
      "Writing audio_segments\\segment_28.wav...\n",
      "Processing segment...\n",
      "0.000648206\n",
      "No speech detected.\n",
      "Writing audio_segments\\segment_29.wav...\n",
      "Processing segment...\n",
      "0.0013184701\n",
      "No speech detected.\n",
      "Writing audio_segments\\segment_30.wav...\n",
      "Processing segment...\n",
      "0.0113216955\n",
      "No speech detected.\n",
      "Writing audio_segments\\segment_31.wav...\n",
      "Processing segment...\n",
      "0.020482847\n",
      "Noise reduction done!\n",
      "Noise removed. Time: 0.05099821090698242\n"
     ]
    },
    {
     "data": {
      "application/vnd.jupyter.widget-view+json": {
       "model_id": "6a8eff3952314ecd9cfd9fbd3cb74ed6",
       "version_major": 2,
       "version_minor": 0
      },
      "text/plain": [
       "Transcribing:   0%|          | 0/1 [00:00<?, ?it/s]"
      ]
     },
     "metadata": {},
     "output_type": "display_data"
    },
    {
     "name": "stdout",
     "output_type": "stream",
     "text": [
      "Transcription: i dont know your points are\n",
      "Transcription time: 1.4436681270599365\n",
      "Translating...\n",
      "Processing translation...\n",
      "Translation: No sé cuáles son tus puntos.\n",
      "Translation time: 0.49947452545166016\n",
      "Writing audio_segments\\segment_32.wav...\n",
      "Processing segment...\n",
      "0.006733783\n",
      "No speech detected.\n",
      "Writing audio_segments\\segment_33.wav...\n",
      "Processing segment...\n",
      "0.0030180726\n",
      "No speech detected.\n",
      "Writing audio_segments\\segment_34.wav...\n",
      "Processing segment...\n",
      "0.0006968351\n",
      "No speech detected.\n",
      "Writing audio_segments\\segment_35.wav...\n",
      "Processing segment...\n",
      "0.06794208\n",
      "Noise reduction done!\n",
      "Noise removed. Time: 0.054068565368652344\n"
     ]
    },
    {
     "data": {
      "application/vnd.jupyter.widget-view+json": {
       "model_id": "7ec4fd7e4386450f892d47985328d852",
       "version_major": 2,
       "version_minor": 0
      },
      "text/plain": [
       "Transcribing:   0%|          | 0/1 [00:00<?, ?it/s]"
      ]
     },
     "metadata": {},
     "output_type": "display_data"
    },
    {
     "name": "stdout",
     "output_type": "stream",
     "text": [
      "Transcription: literally an opening the other day we went to the park to play badminton and it was super cool i want to play badminton again\n",
      "Transcription time: 1.5765085220336914\n",
      "Translating...\n",
      "Processing translation...\n",
      "Writing audio_segments\\segment_36.wav...\n",
      "Processing segment...\n",
      "0.0013807801\n",
      "No speech detected.\n",
      "Translation: Literalmente una apertura el otro día fuimos al parque a jugar al bádminton y fue súper genial quiero jugar al bád\n",
      "Translation time: 1.1817817687988281\n",
      "Writing audio_segments\\segment_37.wav...\n",
      "Processing segment...\n",
      "0.0027157827\n",
      "No speech detected.\n",
      "Writing audio_segments\\segment_38.wav...\n",
      "Processing segment...\n",
      "0.00043582742\n",
      "No speech detected.\n",
      "Writing audio_segments\\segment_39.wav...\n",
      "Processing segment...\n",
      "0.042788047\n",
      "Noise reduction done!\n",
      "Noise removed. Time: 0.025016069412231445\n"
     ]
    },
    {
     "data": {
      "application/vnd.jupyter.widget-view+json": {
       "model_id": "30277640b31a4301b9b2f99266f62828",
       "version_major": 2,
       "version_minor": 0
      },
      "text/plain": [
       "Transcribing:   0%|          | 0/1 [00:00<?, ?it/s]"
      ]
     },
     "metadata": {},
     "output_type": "display_data"
    },
    {
     "name": "stdout",
     "output_type": "stream",
     "text": [
      "Transcription: it's actually working way faster now\n",
      "Transcription time: 0.8943355083465576\n",
      "Translating...\n",
      "Processing translation...\n",
      "Translation: En realidad está trabajando mucho más rápido ahora\n",
      "Translation time: 0.5509023666381836\n",
      "Writing audio_segments\\segment_40.wav...\n",
      "Processing segment...\n",
      "0.0008817909\n",
      "No speech detected.\n",
      "Writing audio_segments\\segment_41.wav...\n",
      "Processing segment...\n",
      "0.0066929455\n",
      "No speech detected.\n",
      "Writing audio_segments\\segment_42.wav...\n",
      "Processing segment...\n",
      "0.00043830025\n",
      "No speech detected.\n",
      "Writing audio_segments\\segment_43.wav...\n",
      "Processing segment...\n",
      "0.041645348\n",
      "Noise reduction done!\n",
      "Noise removed. Time: 0.029555559158325195\n"
     ]
    },
    {
     "data": {
      "application/vnd.jupyter.widget-view+json": {
       "model_id": "b11228f1cc4e4b83b11b5e62b1b424e4",
       "version_major": 2,
       "version_minor": 0
      },
      "text/plain": [
       "Transcribing:   0%|          | 0/1 [00:00<?, ?it/s]"
      ]
     },
     "metadata": {},
     "output_type": "display_data"
    },
    {
     "name": "stdout",
     "output_type": "stream",
     "text": [
      "Transcription: didn't even take your voice brother\n",
      "Transcription time: 1.0085299015045166\n",
      "Translating...\n",
      "Processing translation...\n",
      "Translation: Ni siquiera te tomé la voz hermano\n",
      "Translation time: 0.5106682777404785\n",
      "Writing audio_segments\\segment_44.wav...\n",
      "Processing segment...\n",
      "0.08737671\n",
      "Noise reduction done!\n",
      "Noise removed. Time: 0.03449678421020508\n"
     ]
    },
    {
     "data": {
      "application/vnd.jupyter.widget-view+json": {
       "model_id": "cec8983af9d54660b2ee54eca69b48ee",
       "version_major": 2,
       "version_minor": 0
      },
      "text/plain": [
       "Transcribing:   0%|          | 0/1 [00:00<?, ?it/s]"
      ]
     },
     "metadata": {},
     "output_type": "display_data"
    },
    {
     "name": "stdout",
     "output_type": "stream",
     "text": [
      "Transcription: but why are you working so fast you son of a bitch\n",
      "Transcription time: 0.8426895141601562\n",
      "Translating...\n",
      "Processing translation...\n",
      "Translation: Pero ¿por qué trabajas tan rápido hijo de puta?\n",
      "Translation time: 0.5831234455108643\n",
      "Writing audio_segments\\segment_45.wav...\n",
      "Processing segment...\n",
      "0.0006919514\n",
      "No speech detected.\n",
      "Writing audio_segments\\segment_46.wav...\n",
      "Processing segment...\n",
      "0.0032763241\n",
      "No speech detected.\n",
      "Writing audio_segments\\segment_47.wav...\n",
      "Processing segment...\n",
      "0.0403241\n",
      "Noise reduction done!\n",
      "Noise removed. Time: 0.03335094451904297\n"
     ]
    },
    {
     "data": {
      "application/vnd.jupyter.widget-view+json": {
       "model_id": "7a073125d16842c6a308a99a31cfc1d2",
       "version_major": 2,
       "version_minor": 0
      },
      "text/plain": [
       "Transcribing:   0%|          | 0/1 [00:00<?, ?it/s]"
      ]
     },
     "metadata": {},
     "output_type": "display_data"
    },
    {
     "name": "stdout",
     "output_type": "stream",
     "text": [
      "Transcription: i think it's faster because memory is clean now\n",
      "Transcription time: 0.9958045482635498\n",
      "Translating...\n",
      "Processing translation...\n",
      "Translation: Creo que es más rápido porque la memoria está limpia ahora\n",
      "Translation time: 0.6214120388031006\n",
      "Writing audio_segments\\segment_48.wav...\n",
      "Processing segment...\n",
      "0.007390512\n",
      "No speech detected.\n",
      "Writing audio_segments\\segment_49.wav...\n",
      "Processing segment...\n",
      "0.00085504184\n",
      "No speech detected.\n",
      "Writing audio_segments\\segment_50.wav...\n",
      "Processing segment...\n",
      "0.0036930516\n",
      "No speech detected.\n",
      "Writing audio_segments\\segment_51.wav...\n",
      "Processing segment...\n",
      "0.077930905\n",
      "Noise reduction done!\n",
      "Noise removed. Time: 0.023746728897094727\n"
     ]
    },
    {
     "data": {
      "application/vnd.jupyter.widget-view+json": {
       "model_id": "ce27ddeca4d945aba171e209a4fdc213",
       "version_major": 2,
       "version_minor": 0
      },
      "text/plain": [
       "Transcribing:   0%|          | 0/1 [00:00<?, ?it/s]"
      ]
     },
     "metadata": {},
     "output_type": "display_data"
    },
    {
     "name": "stdout",
     "output_type": "stream",
     "text": [
      "Transcription: fourth year\n",
      "Transcription time: 0.7872610092163086\n",
      "Translating...\n",
      "Processing translation...\n",
      "Translation: Cuarto año\n",
      "Translation time: 0.2744121551513672\n",
      "Writing audio_segments\\segment_52.wav...\n",
      "Processing segment...\n",
      "0.004736593\n",
      "No speech detected.\n",
      "Writing audio_segments\\segment_53.wav...\n",
      "Processing segment...\n",
      "0.0131385\n",
      "No speech detected.\n",
      "Writing audio_segments\\segment_54.wav...\n",
      "Processing segment...\n",
      "0.017100735\n",
      "Noise reduction done!\n",
      "Noise removed. Time: 0.021006345748901367\n"
     ]
    },
    {
     "data": {
      "application/vnd.jupyter.widget-view+json": {
       "model_id": "1e045ccf623048b0a82355ed36e26c32",
       "version_major": 2,
       "version_minor": 0
      },
      "text/plain": [
       "Transcribing:   0%|          | 0/1 [00:00<?, ?it/s]"
      ]
     },
     "metadata": {},
     "output_type": "display_data"
    },
    {
     "name": "stdout",
     "output_type": "stream",
     "text": [
      "Transcription: i don't know how to\n",
      "Transcription time: 0.7338621616363525\n",
      "Translating...\n",
      "Processing translation...\n",
      "Translation: No sé cómo hacerlo.\n",
      "Translation time: 0.35717177391052246\n",
      "Writing audio_segments\\segment_55.wav...\n",
      "Processing segment...\n",
      "0.053688403\n",
      "Noise reduction done!\n",
      "Noise removed. Time: 0.03300356864929199\n"
     ]
    },
    {
     "data": {
      "application/vnd.jupyter.widget-view+json": {
       "model_id": "21712c4f4f1549c1bdb914e8f4169214",
       "version_major": 2,
       "version_minor": 0
      },
      "text/plain": [
       "Transcribing:   0%|          | 0/1 [00:00<?, ?it/s]"
      ]
     },
     "metadata": {},
     "output_type": "display_data"
    },
    {
     "name": "stdout",
     "output_type": "stream",
     "text": [
      "Transcription: set twinkle twinkle little star\n",
      "Transcription time: 1.141409158706665\n",
      "Translating...\n",
      "Processing translation...\n",
      "Translation: \"Pon un parpadeo, una pequeña estrella\".\n",
      "Translation time: 2.1752467155456543\n",
      "Writing audio_segments\\segment_56.wav...\n",
      "Processing segment...\n",
      "0.050990865\n",
      "Noise reduction done!\n",
      "Noise removed. Time: 0.02739572525024414\n"
     ]
    },
    {
     "data": {
      "application/vnd.jupyter.widget-view+json": {
       "model_id": "60316ca261ad4b8ea5dc423ff911fe8d",
       "version_major": 2,
       "version_minor": 0
      },
      "text/plain": [
       "Transcribing:   0%|          | 0/1 [00:00<?, ?it/s]"
      ]
     },
     "metadata": {},
     "output_type": "display_data"
    },
    {
     "name": "stdout",
     "output_type": "stream",
     "text": [
      "Transcription: i don't remember the l lyrics\n",
      "Transcription time: 0.6275699138641357\n",
      "Translating...\n",
      "Processing translation...\n",
      "Translation: No recuerdo la letra de la letra.\n",
      "Translation time: 0.4990861415863037\n",
      "Writing audio_segments\\segment_57.wav...\n",
      "Processing segment...\n",
      "0.0007169003\n",
      "No speech detected.\n",
      "Writing audio_segments\\segment_58.wav...\n",
      "Processing segment...\n",
      "0.002801539\n",
      "No speech detected.\n",
      "Writing audio_segments\\segment_59.wav...\n",
      "Processing segment...\n",
      "0.0005480374\n",
      "No speech detected.\n",
      "Writing audio_segments\\segment_60.wav...\n",
      "Processing segment...\n",
      "0.0040498897\n",
      "No speech detected.\n",
      "Writing audio_segments\\segment_61.wav...\n",
      "Processing segment...\n",
      "0.07130425\n",
      "Noise reduction done!\n",
      "Noise removed. Time: 0.10612368583679199\n"
     ]
    },
    {
     "data": {
      "application/vnd.jupyter.widget-view+json": {
       "model_id": "3b4458afeaac421da12929d362fa52e3",
       "version_major": 2,
       "version_minor": 0
      },
      "text/plain": [
       "Transcribing:   0%|          | 0/1 [00:00<?, ?it/s]"
      ]
     },
     "metadata": {},
     "output_type": "display_data"
    },
    {
     "name": "stdout",
     "output_type": "stream",
     "text": [
      "Transcription: in the jungle the mighty jungle the lightion sleeps tonight\n",
      "Transcription time: 3.758854627609253\n",
      "Translating...\n",
      "Processing translation...\n",
      "Writing audio_segments\\segment_62.wav...\n",
      "Processing segment...\n",
      "0.012126558\n",
      "No speech detected.\n",
      "Translation: En la selva la selva poderosa el relámpago duerme esta noche\n",
      "Translation time: 0.936586856842041\n",
      "Writing audio_segments\\segment_63.wav...\n",
      "Processing segment...\n",
      "0.0019903325\n",
      "No speech detected.\n",
      "Writing audio_segments\\segment_64.wav...\n",
      "Processing segment...\n",
      "0.0018843611\n",
      "No speech detected.\n",
      "Writing audio_segments\\segment_65.wav...\n",
      "Processing segment...\n",
      "0.0049202214\n",
      "No speech detected.\n",
      "Writing audio_segments\\segment_66.wav...\n",
      "Processing segment...\n",
      "0.03413759\n",
      "Noise reduction done!\n",
      "Noise removed. Time: 0.08652567863464355\n"
     ]
    },
    {
     "data": {
      "application/vnd.jupyter.widget-view+json": {
       "model_id": "6276166efb4842c69d3fa9c36ba61aee",
       "version_major": 2,
       "version_minor": 0
      },
      "text/plain": [
       "Transcribing:   0%|          | 0/1 [00:00<?, ?it/s]"
      ]
     },
     "metadata": {},
     "output_type": "display_data"
    },
    {
     "name": "stdout",
     "output_type": "stream",
     "text": [
      "Transcription: is that it it doesn't sing but like i didn't even train it to sing yeah no\n",
      "Transcription time: 1.908322811126709\n",
      "Translating...\n",
      "Processing translation...\n",
      "Translation: Es que no canta pero como si ni siquiera lo entrenara para cantar sí no\n",
      "Translation time: 0.8145771026611328\n",
      "Writing audio_segments\\segment_67.wav...\n",
      "Processing segment...\n",
      "0.014469972\n",
      "No speech detected.\n"
     ]
    },
    {
     "ename": "KeyboardInterrupt",
     "evalue": "",
     "output_type": "error",
     "traceback": [
      "\u001b[1;31m---------------------------------------------------------------------------\u001b[0m",
      "\u001b[1;31mKeyboardInterrupt\u001b[0m                         Traceback (most recent call last)",
      "Cell \u001b[1;32mIn[2], line 2\u001b[0m\n\u001b[0;32m      1\u001b[0m \u001b[38;5;28;01mfrom\u001b[39;00m \u001b[38;5;21;01mstream_VAD\u001b[39;00m \u001b[38;5;28;01mimport\u001b[39;00m stream\n\u001b[1;32m----> 2\u001b[0m \u001b[43mstream\u001b[49m\u001b[43m(\u001b[49m\u001b[43mparakeet\u001b[49m\u001b[43m,\u001b[49m\u001b[43m \u001b[49m\u001b[43mmodel_nllb\u001b[49m\u001b[43m,\u001b[49m\u001b[43m \u001b[49m\u001b[43mtokinizer_nllb\u001b[49m\u001b[43m,\u001b[49m\u001b[43m \u001b[49m\u001b[38;5;124;43m\"\u001b[39;49m\u001b[38;5;124;43menglish\u001b[39;49m\u001b[38;5;124;43m\"\u001b[39;49m\u001b[43m,\u001b[49m\u001b[43m \u001b[49m\u001b[38;5;124;43m\"\u001b[39;49m\u001b[38;5;124;43mspanish\u001b[39;49m\u001b[38;5;124;43m\"\u001b[39;49m\u001b[43m,\u001b[49m\u001b[43m \u001b[49m\u001b[38;5;124;43m'\u001b[39;49m\u001b[38;5;124;43mrecord_temp.json\u001b[39;49m\u001b[38;5;124;43m'\u001b[39;49m\u001b[43m,\u001b[49m\u001b[43m \u001b[49m\u001b[38;5;124;43m'\u001b[39;49m\u001b[38;5;124;43mrecord_per.json\u001b[39;49m\u001b[38;5;124;43m'\u001b[39;49m\u001b[43m)\u001b[49m\n",
      "File \u001b[1;32mc:\\Users\\spn\\Desktop\\IE_Last_year\\main_capstone\\stream_VAD.py:158\u001b[0m, in \u001b[0;36mstream\u001b[1;34m(asr_model, model_nllb, tokinizer_nllb, source_lang, target_lang, json_file_temp, json_file_record)\u001b[0m\n\u001b[0;32m    154\u001b[0m     os\u001b[38;5;241m.\u001b[39mmakedirs(result_dir)\n\u001b[0;32m    156\u001b[0m executor \u001b[38;5;241m=\u001b[39m ThreadPoolExecutor(max_workers\u001b[38;5;241m=\u001b[39m\u001b[38;5;241m2\u001b[39m)  \u001b[38;5;66;03m# Adjust the number of workers as per your requirement\u001b[39;00m\n\u001b[1;32m--> 158\u001b[0m \u001b[43m\u001b[49m\u001b[38;5;28;43;01mfor\u001b[39;49;00m\u001b[43m \u001b[49m\u001b[43mi\u001b[49m\u001b[43m,\u001b[49m\u001b[43m \u001b[49m\u001b[43msegment\u001b[49m\u001b[43m \u001b[49m\u001b[38;5;129;43;01min\u001b[39;49;00m\u001b[43m \u001b[49m\u001b[38;5;28;43menumerate\u001b[39;49m\u001b[43m(\u001b[49m\u001b[43mvad_collector\u001b[49m\u001b[43m(\u001b[49m\u001b[43mRATE\u001b[49m\u001b[43m,\u001b[49m\u001b[43m \u001b[49m\u001b[43mCHUNK_DURATION_MS\u001b[49m\u001b[43m,\u001b[49m\u001b[43m \u001b[49m\u001b[43mPADDING_DURATION_MS\u001b[49m\u001b[43m,\u001b[49m\u001b[43m \u001b[49m\u001b[43mvad\u001b[49m\u001b[43m,\u001b[49m\u001b[43m \u001b[49m\u001b[43mframes\u001b[49m\u001b[43m)\u001b[49m\u001b[43m)\u001b[49m\u001b[43m:\u001b[49m\n\u001b[0;32m    159\u001b[0m \u001b[43m    \u001b[49m\u001b[43mpath_segements\u001b[49m\u001b[43m \u001b[49m\u001b[38;5;241;43m=\u001b[39;49m\u001b[43m \u001b[49m\u001b[43mos\u001b[49m\u001b[38;5;241;43m.\u001b[39;49m\u001b[43mpath\u001b[49m\u001b[38;5;241;43m.\u001b[39;49m\u001b[43mjoin\u001b[49m\u001b[43m(\u001b[49m\u001b[43msegments_dir\u001b[49m\u001b[43m,\u001b[49m\u001b[43m \u001b[49m\u001b[38;5;124;43mf\u001b[39;49m\u001b[38;5;124;43m\"\u001b[39;49m\u001b[38;5;124;43msegment_\u001b[39;49m\u001b[38;5;132;43;01m{\u001b[39;49;00m\u001b[43mi\u001b[49m\u001b[38;5;132;43;01m}\u001b[39;49;00m\u001b[38;5;124;43m.wav\u001b[39;49m\u001b[38;5;124;43m\"\u001b[39;49m\u001b[43m)\u001b[49m\n\u001b[0;32m    160\u001b[0m \u001b[43m    \u001b[49m\u001b[43mpath_results\u001b[49m\u001b[43m \u001b[49m\u001b[38;5;241;43m=\u001b[39;49m\u001b[43m \u001b[49m\u001b[43mos\u001b[49m\u001b[38;5;241;43m.\u001b[39;49m\u001b[43mpath\u001b[49m\u001b[38;5;241;43m.\u001b[39;49m\u001b[43mjoin\u001b[49m\u001b[43m(\u001b[49m\u001b[43mresult_dir\u001b[49m\u001b[43m,\u001b[49m\u001b[43m \u001b[49m\u001b[38;5;124;43mf\u001b[39;49m\u001b[38;5;124;43m\"\u001b[39;49m\u001b[38;5;124;43mresult_\u001b[39;49m\u001b[38;5;132;43;01m{\u001b[39;49;00m\u001b[43mi\u001b[49m\u001b[38;5;132;43;01m}\u001b[39;49;00m\u001b[38;5;124;43m.wav\u001b[39;49m\u001b[38;5;124;43m\"\u001b[39;49m\u001b[43m)\u001b[49m\n",
      "File \u001b[1;32mc:\\Users\\spn\\Desktop\\IE_Last_year\\main_capstone\\stream_VAD.py:36\u001b[0m, in \u001b[0;36mvad_collector\u001b[1;34m(sample_rate, frame_duration_ms, padding_duration_ms, vad, frames)\u001b[0m\n\u001b[0;32m     33\u001b[0m triggered \u001b[38;5;241m=\u001b[39m \u001b[38;5;28;01mFalse\u001b[39;00m\n\u001b[0;32m     35\u001b[0m voiced_frames \u001b[38;5;241m=\u001b[39m []\n\u001b[1;32m---> 36\u001b[0m \u001b[43m\u001b[49m\u001b[38;5;28;43;01mfor\u001b[39;49;00m\u001b[43m \u001b[49m\u001b[43mframe\u001b[49m\u001b[43m \u001b[49m\u001b[38;5;129;43;01min\u001b[39;49;00m\u001b[43m \u001b[49m\u001b[43mframes\u001b[49m\u001b[43m:\u001b[49m\n\u001b[0;32m     37\u001b[0m \u001b[43m    \u001b[49m\u001b[43mis_speech\u001b[49m\u001b[43m \u001b[49m\u001b[38;5;241;43m=\u001b[39;49m\u001b[43m \u001b[49m\u001b[43mvad\u001b[49m\u001b[38;5;241;43m.\u001b[39;49m\u001b[43mis_speech\u001b[49m\u001b[43m(\u001b[49m\u001b[43mframe\u001b[49m\u001b[38;5;241;43m.\u001b[39;49m\u001b[43mbytes\u001b[49m\u001b[43m,\u001b[49m\u001b[43m \u001b[49m\u001b[43msample_rate\u001b[49m\u001b[43m)\u001b[49m\n\u001b[0;32m     39\u001b[0m \u001b[43m    \u001b[49m\u001b[38;5;28;43;01mif\u001b[39;49;00m\u001b[43m \u001b[49m\u001b[38;5;129;43;01mnot\u001b[39;49;00m\u001b[43m \u001b[49m\u001b[43mtriggered\u001b[49m\u001b[43m:\u001b[49m\n",
      "File \u001b[1;32mc:\\Users\\spn\\Desktop\\IE_Last_year\\main_capstone\\stream_VAD.py:147\u001b[0m, in \u001b[0;36m<genexpr>\u001b[1;34m(.0)\u001b[0m\n\u001b[0;32m    145\u001b[0m stream \u001b[38;5;241m=\u001b[39m audio\u001b[38;5;241m.\u001b[39mopen(\u001b[38;5;28mformat\u001b[39m\u001b[38;5;241m=\u001b[39mFORMAT, channels\u001b[38;5;241m=\u001b[39mCHANNELS, rate\u001b[38;5;241m=\u001b[39mRATE, \u001b[38;5;28minput\u001b[39m\u001b[38;5;241m=\u001b[39m\u001b[38;5;28;01mTrue\u001b[39;00m, frames_per_buffer\u001b[38;5;241m=\u001b[39m\u001b[38;5;241m160\u001b[39m)\n\u001b[0;32m    146\u001b[0m frames \u001b[38;5;241m=\u001b[39m read_audio(stream, CHUNK_DURATION_MS, RATE)\n\u001b[1;32m--> 147\u001b[0m frames \u001b[38;5;241m=\u001b[39m \u001b[43m(\u001b[49m\u001b[43mFrame\u001b[49m\u001b[43m(\u001b[49m\u001b[43mf\u001b[49m\u001b[43m,\u001b[49m\u001b[43m \u001b[49m\u001b[38;5;28;43;01mNone\u001b[39;49;00m\u001b[43m,\u001b[49m\u001b[43m \u001b[49m\u001b[38;5;28;43;01mNone\u001b[39;49;00m\u001b[43m)\u001b[49m\u001b[43m \u001b[49m\u001b[38;5;28;43;01mfor\u001b[39;49;00m\u001b[43m \u001b[49m\u001b[43mf\u001b[49m\u001b[43m \u001b[49m\u001b[38;5;129;43;01min\u001b[39;49;00m\u001b[43m \u001b[49m\u001b[43mframes\u001b[49m\u001b[43m)\u001b[49m\n\u001b[0;32m    149\u001b[0m segments_dir \u001b[38;5;241m=\u001b[39m \u001b[38;5;124m\"\u001b[39m\u001b[38;5;124maudio_segments\u001b[39m\u001b[38;5;124m\"\u001b[39m\n\u001b[0;32m    150\u001b[0m result_dir \u001b[38;5;241m=\u001b[39m \u001b[38;5;124m\"\u001b[39m\u001b[38;5;124mresults\u001b[39m\u001b[38;5;124m\"\u001b[39m\n",
      "File \u001b[1;32mc:\\Users\\spn\\Desktop\\IE_Last_year\\main_capstone\\stream_VAD.py:27\u001b[0m, in \u001b[0;36mread_audio\u001b[1;34m(stream, frame_duration_ms, rate)\u001b[0m\n\u001b[0;32m     25\u001b[0m frames_per_buffer \u001b[38;5;241m=\u001b[39m \u001b[38;5;28mint\u001b[39m(rate \u001b[38;5;241m*\u001b[39m frame_duration_ms \u001b[38;5;241m/\u001b[39m \u001b[38;5;241m1000\u001b[39m)\n\u001b[0;32m     26\u001b[0m \u001b[38;5;28;01mwhile\u001b[39;00m \u001b[38;5;28;01mTrue\u001b[39;00m:\n\u001b[1;32m---> 27\u001b[0m     \u001b[38;5;28;01myield\u001b[39;00m \u001b[43mstream\u001b[49m\u001b[38;5;241;43m.\u001b[39;49m\u001b[43mread\u001b[49m\u001b[43m(\u001b[49m\u001b[43mframes_per_buffer\u001b[49m\u001b[43m)\u001b[49m\n",
      "File \u001b[1;32mc:\\Users\\spn\\anaconda3\\envs\\capstone\\Lib\\site-packages\\pyaudio\\__init__.py:570\u001b[0m, in \u001b[0;36mPyAudio.Stream.read\u001b[1;34m(self, num_frames, exception_on_overflow)\u001b[0m\n\u001b[0;32m    567\u001b[0m \u001b[38;5;28;01mif\u001b[39;00m \u001b[38;5;129;01mnot\u001b[39;00m \u001b[38;5;28mself\u001b[39m\u001b[38;5;241m.\u001b[39m_is_input:\n\u001b[0;32m    568\u001b[0m     \u001b[38;5;28;01mraise\u001b[39;00m \u001b[38;5;167;01mIOError\u001b[39;00m(\u001b[38;5;124m\"\u001b[39m\u001b[38;5;124mNot input stream\u001b[39m\u001b[38;5;124m\"\u001b[39m,\n\u001b[0;32m    569\u001b[0m                   paCanNotReadFromAnOutputOnlyStream)\n\u001b[1;32m--> 570\u001b[0m \u001b[38;5;28;01mreturn\u001b[39;00m \u001b[43mpa\u001b[49m\u001b[38;5;241;43m.\u001b[39;49m\u001b[43mread_stream\u001b[49m\u001b[43m(\u001b[49m\u001b[38;5;28;43mself\u001b[39;49m\u001b[38;5;241;43m.\u001b[39;49m\u001b[43m_stream\u001b[49m\u001b[43m,\u001b[49m\u001b[43m \u001b[49m\u001b[43mnum_frames\u001b[49m\u001b[43m,\u001b[49m\n\u001b[0;32m    571\u001b[0m \u001b[43m                      \u001b[49m\u001b[43mexception_on_overflow\u001b[49m\u001b[43m)\u001b[49m\n",
      "\u001b[1;31mKeyboardInterrupt\u001b[0m: "
     ]
    }
   ],
   "source": [
    "from stream_VAD import stream\n",
    "stream(parakeet, model_nllb, tokinizer_nllb, \"english\", \"spanish\", 'record_temp.json', 'record_per.json')"
   ]
  },
  {
   "cell_type": "code",
   "execution_count": 4,
   "metadata": {},
   "outputs": [
    {
     "data": {
      "application/vnd.jupyter.widget-view+json": {
       "model_id": "fdc0440dfcaf4c9f814689fc47c10e3e",
       "version_major": 2,
       "version_minor": 0
      },
      "text/plain": [
       "(…)tt_es_fastconformer_hybrid_large_pc.nemo:   0%|          | 0.00/459M [00:00<?, ?B/s]"
      ]
     },
     "metadata": {},
     "output_type": "display_data"
    },
    {
     "name": "stdout",
     "output_type": "stream",
     "text": [
      "[NeMo I 2024-04-12 16:10:09 nemo_logging:381] Tokenizer SentencePieceTokenizer initialized with 1024 tokens\n"
     ]
    },
    {
     "name": "stderr",
     "output_type": "stream",
     "text": [
      "[NeMo W 2024-04-12 16:10:10 nemo_logging:393] If you intend to do training or fine-tuning, please call the ModelPT.setup_training_data() method and provide a valid configuration file to setup the train data loader.\n",
      "    Train config : \n",
      "    manifest_filepath: null\n",
      "    sample_rate: 16000\n",
      "    batch_size: 16\n",
      "    shuffle: true\n",
      "    num_workers: 8\n",
      "    pin_memory: true\n",
      "    use_start_end_token: false\n",
      "    trim_silence: false\n",
      "    max_duration: 20\n",
      "    min_duration: 0.1\n",
      "    is_tarred: false\n",
      "    tarred_audio_filepaths: null\n",
      "    shuffle_n: 2048\n",
      "    bucketing_strategy: fully_randomized\n",
      "    bucketing_batch_size: null\n",
      "    is_concat: false\n",
      "    concat_sampling_technique: random\n",
      "    concat_sampling_probabilities: ''\n",
      "    \n",
      "[NeMo W 2024-04-12 16:10:10 nemo_logging:393] If you intend to do validation, please call the ModelPT.setup_validation_data() or ModelPT.setup_multiple_validation_data() method and provide a valid configuration file to setup the validation data loader(s). \n",
      "    Validation config : \n",
      "    manifest_filepath: null\n",
      "    sample_rate: 16000\n",
      "    batch_size: 32\n",
      "    shuffle: false\n",
      "    num_workers: 8\n",
      "    pin_memory: true\n",
      "    use_start_end_token: false\n",
      "    is_concat: true\n",
      "    concat_sampling_technique: random\n",
      "    concat_sampling_probabilities:\n",
      "    - 0.099\n",
      "    - 0.2771\n",
      "    - 0.5482\n",
      "    - 0.0757\n",
      "    concat_shuffle: false\n",
      "    concat_sampling_seed: 1234\n",
      "    max_duration: 20\n",
      "    \n",
      "[NeMo W 2024-04-12 16:10:10 nemo_logging:393] Please call the ModelPT.setup_test_data() or ModelPT.setup_multiple_test_data() method and provide a valid configuration file to setup the test data loader(s).\n",
      "    Test config : \n",
      "    manifest_filepath: null\n",
      "    sample_rate: 16000\n",
      "    batch_size: 16\n",
      "    shuffle: false\n",
      "    num_workers: 8\n",
      "    pin_memory: true\n",
      "    use_start_end_token: false\n",
      "    \n"
     ]
    },
    {
     "name": "stdout",
     "output_type": "stream",
     "text": [
      "[NeMo I 2024-04-12 16:10:10 nemo_logging:381] PADDING: 0\n"
     ]
    },
    {
     "name": "stderr",
     "output_type": "stream",
     "text": [
      "[NeMo W 2024-04-12 16:10:11 nemo_logging:393] c:\\Users\\spn\\anaconda3\\envs\\capstone\\Lib\\site-packages\\torch\\nn\\modules\\rnn.py:83: UserWarning: dropout option adds dropout after all but last recurrent layer, so non-zero dropout expects num_layers greater than 1, but got dropout=0.2 and num_layers=1\n",
      "      warnings.warn(\"dropout option adds dropout after all but last \"\n",
      "    \n"
     ]
    },
    {
     "name": "stdout",
     "output_type": "stream",
     "text": [
      "[NeMo I 2024-04-12 16:10:11 nemo_logging:381] Using RNNT Loss : warprnnt_numba\n",
      "    Loss warprnnt_numba_kwargs: {'fastemit_lambda': 0.0, 'clamp': -1.0}\n",
      "[NeMo I 2024-04-12 16:10:12 nemo_logging:381] Model EncDecHybridRNNTCTCBPEModel was successfully restored from C:\\Users\\spn\\.cache\\huggingface\\hub\\models--nvidia--stt_es_fastconformer_hybrid_large_pc\\snapshots\\65f775445d5947d6784c3e80d9a14d859571947f\\stt_es_fastconformer_hybrid_large_pc.nemo.\n"
     ]
    }
   ],
   "source": [
    "from models.es_fastconformer import stt_es_model\n",
    "model = stt_es_model()\n",
    "# check how much memory is used by the model\n",
    "import torch\n",
    "import psutil\n",
    "import os\n",
    "import time\n",
    "\n"
   ]
  },
  {
   "cell_type": "code",
   "execution_count": 5,
   "metadata": {},
   "outputs": [
    {
     "name": "stdout",
     "output_type": "stream",
     "text": [
      "Model size: 458.86 MB\n"
     ]
    }
   ],
   "source": [
    "# get the size of the model in term of memory in MB\n",
    "def get_size(model):\n",
    "    torch.save(model.state_dict(), 'temp.p')\n",
    "    size = os.path.getsize('temp.p') / 1e6\n",
    "    os.remove('temp.p')\n",
    "    return size\n",
    "size = get_size(model)\n",
    "print(f\"Model size: {size:.2f} MB\")"
   ]
  }
 ],
 "metadata": {
  "kernelspec": {
   "display_name": "capstone",
   "language": "python",
   "name": "python3"
  },
  "language_info": {
   "codemirror_mode": {
    "name": "ipython",
    "version": 3
   },
   "file_extension": ".py",
   "mimetype": "text/x-python",
   "name": "python",
   "nbconvert_exporter": "python",
   "pygments_lexer": "ipython3",
   "version": "3.11.7"
  }
 },
 "nbformat": 4,
 "nbformat_minor": 2
}
