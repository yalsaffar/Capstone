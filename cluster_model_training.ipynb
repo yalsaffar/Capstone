{
 "cells": [
  {
   "cell_type": "code",
   "execution_count": 1,
   "metadata": {},
   "outputs": [
    {
     "name": "stderr",
     "output_type": "stream",
     "text": [
      "c:\\Users\\spn\\anaconda3\\envs\\capstone\\Lib\\site-packages\\transformers\\utils\\generic.py:441: UserWarning: torch.utils._pytree._register_pytree_node is deprecated. Please use torch.utils._pytree.register_pytree_node instead.\n",
      "  _torch_pytree._register_pytree_node(\n",
      "[NeMo W 2024-04-07 18:02:42 nemo_logging:393] c:\\Users\\spn\\anaconda3\\envs\\capstone\\Lib\\site-packages\\transformers\\utils\\generic.py:309: UserWarning: torch.utils._pytree._register_pytree_node is deprecated. Please use torch.utils._pytree.register_pytree_node instead.\n",
      "      _torch_pytree._register_pytree_node(\n",
      "    \n",
      "[NeMo W 2024-04-07 18:02:44 nemo_logging:393] c:\\Users\\spn\\anaconda3\\envs\\capstone\\Lib\\site-packages\\transformers\\utils\\generic.py:309: UserWarning: torch.utils._pytree._register_pytree_node is deprecated. Please use torch.utils._pytree.register_pytree_node instead.\n",
      "      _torch_pytree._register_pytree_node(\n",
      "    \n",
      "[NeMo W 2024-04-07 18:02:44 nemo_logging:393] Could not import NeMo NLP collection which is required for speech translation model.\n"
     ]
    }
   ],
   "source": [
    "from xtts_fine_tune.xtts_v2_data_formattor import Data_Pipeline\n",
    "from xtts_fine_tune.xtts_v2_fine_tuning import Train_XTTS_V2"
   ]
  },
  {
   "cell_type": "code",
   "execution_count": 1,
   "metadata": {},
   "outputs": [
    {
     "name": "stdout",
     "output_type": "stream",
     "text": [
      "['D:/daps/daps/ipad_office1\\\\f10_script1_ipad_office1.wav', 'D:/daps/daps/ipad_office1\\\\f10_script2_ipad_office1.wav', 'D:/daps/daps/ipad_office1\\\\f10_script3_ipad_office1.wav', 'D:/daps/daps/ipad_office1\\\\f10_script4_ipad_office1.wav', 'D:/daps/daps/ipad_office1\\\\f10_script5_ipad_office1.wav', 'D:/daps/daps/ipad_office1\\\\f1_script1_ipad_office1.wav', 'D:/daps/daps/ipad_office1\\\\f1_script2_ipad_office1.wav', 'D:/daps/daps/ipad_office1\\\\f1_script3_ipad_office1.wav', 'D:/daps/daps/ipad_office1\\\\f1_script4_ipad_office1.wav', 'D:/daps/daps/ipad_office1\\\\f1_script5_ipad_office1.wav', 'D:/daps/daps/ipad_office1\\\\f2_script1_ipad_office1.wav', 'D:/daps/daps/ipad_office1\\\\f2_script2_ipad_office1.wav', 'D:/daps/daps/ipad_office1\\\\f2_script3_ipad_office1.wav', 'D:/daps/daps/ipad_office1\\\\f2_script4_ipad_office1.wav', 'D:/daps/daps/ipad_office1\\\\f2_script5_ipad_office1.wav', 'D:/daps/daps/ipad_office1\\\\f3_script1_ipad_office1.wav', 'D:/daps/daps/ipad_office1\\\\f3_script2_ipad_office1.wav', 'D:/daps/daps/ipad_office1\\\\f3_script3_ipad_office1.wav', 'D:/daps/daps/ipad_office1\\\\f3_script4_ipad_office1.wav', 'D:/daps/daps/ipad_office1\\\\f3_script5_ipad_office1.wav', 'D:/daps/daps/ipad_office1\\\\f4_script1_ipad_office1.wav', 'D:/daps/daps/ipad_office1\\\\f4_script2_ipad_office1.wav', 'D:/daps/daps/ipad_office1\\\\f4_script3_ipad_office1.wav', 'D:/daps/daps/ipad_office1\\\\f4_script4_ipad_office1.wav', 'D:/daps/daps/ipad_office1\\\\f4_script5_ipad_office1.wav', 'D:/daps/daps/ipad_office1\\\\f5_script1_ipad_office1.wav', 'D:/daps/daps/ipad_office1\\\\f5_script2_ipad_office1.wav', 'D:/daps/daps/ipad_office1\\\\f5_script3_ipad_office1.wav', 'D:/daps/daps/ipad_office1\\\\f5_script4_ipad_office1.wav', 'D:/daps/daps/ipad_office1\\\\f5_script5_ipad_office1.wav', 'D:/daps/daps/ipad_office1\\\\f6_script1_ipad_office1.wav', 'D:/daps/daps/ipad_office1\\\\f6_script2_ipad_office1.wav', 'D:/daps/daps/ipad_office1\\\\f6_script3_ipad_office1.wav', 'D:/daps/daps/ipad_office1\\\\f6_script4_ipad_office1.wav', 'D:/daps/daps/ipad_office1\\\\f6_script5_ipad_office1.wav', 'D:/daps/daps/ipad_office1\\\\f7_script1_ipad_office1.wav', 'D:/daps/daps/ipad_office1\\\\f7_script2_ipad_office1.wav', 'D:/daps/daps/ipad_office1\\\\f7_script3_ipad_office1.wav', 'D:/daps/daps/ipad_office1\\\\f7_script4_ipad_office1.wav', 'D:/daps/daps/ipad_office1\\\\f7_script5_ipad_office1.wav', 'D:/daps/daps/ipad_office1\\\\f8_script1_ipad_office1.wav', 'D:/daps/daps/ipad_office1\\\\f8_script2_ipad_office1.wav', 'D:/daps/daps/ipad_office1\\\\f8_script3_ipad_office1.wav', 'D:/daps/daps/ipad_office1\\\\f8_script4_ipad_office1.wav', 'D:/daps/daps/ipad_office1\\\\f8_script5_ipad_office1.wav', 'D:/daps/daps/ipad_office1\\\\f9_script1_ipad_office1.wav', 'D:/daps/daps/ipad_office1\\\\f9_script2_ipad_office1.wav', 'D:/daps/daps/ipad_office1\\\\f9_script3_ipad_office1.wav', 'D:/daps/daps/ipad_office1\\\\f9_script4_ipad_office1.wav', 'D:/daps/daps/ipad_office1\\\\f9_script5_ipad_office1.wav', 'D:/daps/daps/ipad_office1\\\\m10_script1_ipad_office1.wav', 'D:/daps/daps/ipad_office1\\\\m10_script2_ipad_office1.wav', 'D:/daps/daps/ipad_office1\\\\m10_script3_ipad_office1.wav', 'D:/daps/daps/ipad_office1\\\\m10_script4_ipad_office1.wav', 'D:/daps/daps/ipad_office1\\\\m10_script5_ipad_office1.wav', 'D:/daps/daps/ipad_office1\\\\m1_script1_ipad_office1.wav', 'D:/daps/daps/ipad_office1\\\\m1_script2_ipad_office1.wav', 'D:/daps/daps/ipad_office1\\\\m1_script3_ipad_office1.wav', 'D:/daps/daps/ipad_office1\\\\m1_script4_ipad_office1.wav', 'D:/daps/daps/ipad_office1\\\\m1_script5_ipad_office1.wav', 'D:/daps/daps/ipad_office1\\\\m2_script1_ipad_office1.wav', 'D:/daps/daps/ipad_office1\\\\m2_script2_ipad_office1.wav', 'D:/daps/daps/ipad_office1\\\\m2_script3_ipad_office1.wav', 'D:/daps/daps/ipad_office1\\\\m2_script4_ipad_office1.wav', 'D:/daps/daps/ipad_office1\\\\m2_script5_ipad_office1.wav', 'D:/daps/daps/ipad_office1\\\\m3_script1_ipad_office1.wav', 'D:/daps/daps/ipad_office1\\\\m3_script2_ipad_office1.wav', 'D:/daps/daps/ipad_office1\\\\m3_script3_ipad_office1.wav', 'D:/daps/daps/ipad_office1\\\\m3_script4_ipad_office1.wav', 'D:/daps/daps/ipad_office1\\\\m3_script5_ipad_office1.wav', 'D:/daps/daps/ipad_office1\\\\m4_script1_ipad_office1.wav', 'D:/daps/daps/ipad_office1\\\\m4_script2_ipad_office1.wav', 'D:/daps/daps/ipad_office1\\\\m4_script3_ipad_office1.wav', 'D:/daps/daps/ipad_office1\\\\m4_script4_ipad_office1.wav', 'D:/daps/daps/ipad_office1\\\\m4_script5_ipad_office1.wav', 'D:/daps/daps/ipad_office1\\\\m5_script1_ipad_office1.wav', 'D:/daps/daps/ipad_office1\\\\m5_script2_ipad_office1.wav', 'D:/daps/daps/ipad_office1\\\\m5_script3_ipad_office1.wav', 'D:/daps/daps/ipad_office1\\\\m5_script4_ipad_office1.wav', 'D:/daps/daps/ipad_office1\\\\m5_script5_ipad_office1.wav', 'D:/daps/daps/ipad_office1\\\\m6_script1_ipad_office1.wav', 'D:/daps/daps/ipad_office1\\\\m6_script2_ipad_office1.wav', 'D:/daps/daps/ipad_office1\\\\m6_script3_ipad_office1.wav', 'D:/daps/daps/ipad_office1\\\\m6_script4_ipad_office1.wav', 'D:/daps/daps/ipad_office1\\\\m6_script5_ipad_office1.wav', 'D:/daps/daps/ipad_office1\\\\m7_script1_ipad_office1.wav', 'D:/daps/daps/ipad_office1\\\\m7_script2_ipad_office1.wav', 'D:/daps/daps/ipad_office1\\\\m7_script3_ipad_office1.wav', 'D:/daps/daps/ipad_office1\\\\m7_script4_ipad_office1.wav', 'D:/daps/daps/ipad_office1\\\\m7_script5_ipad_office1.wav', 'D:/daps/daps/ipad_office1\\\\m8_script1_ipad_office1.wav', 'D:/daps/daps/ipad_office1\\\\m8_script2_ipad_office1.wav', 'D:/daps/daps/ipad_office1\\\\m8_script3_ipad_office1.wav', 'D:/daps/daps/ipad_office1\\\\m8_script4_ipad_office1.wav', 'D:/daps/daps/ipad_office1\\\\m8_script5_ipad_office1.wav', 'D:/daps/daps/ipad_office1\\\\m9_script1_ipad_office1.wav', 'D:/daps/daps/ipad_office1\\\\m9_script2_ipad_office1.wav', 'D:/daps/daps/ipad_office1\\\\m9_script3_ipad_office1.wav', 'D:/daps/daps/ipad_office1\\\\m9_script4_ipad_office1.wav', 'D:/daps/daps/ipad_office1\\\\m9_script5_ipad_office1.wav']\n"
     ]
    }
   ],
   "source": [
    "# make a loop to go through a directory and list all .wav files in a list\n",
    "import os\n",
    "import glob\n",
    "# path = \"D:/daps/daps/ipad_office1\"\n",
    "wav_files = []\n",
    "for file in glob.glob(\"D:/daps/daps/ipad_office1/*.wav\"):\n",
    "    wav_files.append(file)\n",
    "print(wav_files)"
   ]
  },
  {
   "cell_type": "code",
   "execution_count": 2,
   "metadata": {},
   "outputs": [
    {
     "data": {
      "text/html": [
       "<div>\n",
       "<style scoped>\n",
       "    .dataframe tbody tr th:only-of-type {\n",
       "        vertical-align: middle;\n",
       "    }\n",
       "\n",
       "    .dataframe tbody tr th {\n",
       "        vertical-align: top;\n",
       "    }\n",
       "\n",
       "    .dataframe thead th {\n",
       "        text-align: right;\n",
       "    }\n",
       "</style>\n",
       "<table border=\"1\" class=\"dataframe\">\n",
       "  <thead>\n",
       "    <tr style=\"text-align: right;\">\n",
       "      <th></th>\n",
       "      <th>wav_files</th>\n",
       "    </tr>\n",
       "  </thead>\n",
       "  <tbody>\n",
       "    <tr>\n",
       "      <th>0</th>\n",
       "      <td>D:/daps/daps/ipad_office1\\f10_script1_ipad_off...</td>\n",
       "    </tr>\n",
       "    <tr>\n",
       "      <th>1</th>\n",
       "      <td>D:/daps/daps/ipad_office1\\f10_script2_ipad_off...</td>\n",
       "    </tr>\n",
       "    <tr>\n",
       "      <th>2</th>\n",
       "      <td>D:/daps/daps/ipad_office1\\f10_script3_ipad_off...</td>\n",
       "    </tr>\n",
       "    <tr>\n",
       "      <th>3</th>\n",
       "      <td>D:/daps/daps/ipad_office1\\f10_script4_ipad_off...</td>\n",
       "    </tr>\n",
       "    <tr>\n",
       "      <th>4</th>\n",
       "      <td>D:/daps/daps/ipad_office1\\f10_script5_ipad_off...</td>\n",
       "    </tr>\n",
       "    <tr>\n",
       "      <th>...</th>\n",
       "      <td>...</td>\n",
       "    </tr>\n",
       "    <tr>\n",
       "      <th>95</th>\n",
       "      <td>D:/daps/daps/ipad_office1\\m9_script1_ipad_offi...</td>\n",
       "    </tr>\n",
       "    <tr>\n",
       "      <th>96</th>\n",
       "      <td>D:/daps/daps/ipad_office1\\m9_script2_ipad_offi...</td>\n",
       "    </tr>\n",
       "    <tr>\n",
       "      <th>97</th>\n",
       "      <td>D:/daps/daps/ipad_office1\\m9_script3_ipad_offi...</td>\n",
       "    </tr>\n",
       "    <tr>\n",
       "      <th>98</th>\n",
       "      <td>D:/daps/daps/ipad_office1\\m9_script4_ipad_offi...</td>\n",
       "    </tr>\n",
       "    <tr>\n",
       "      <th>99</th>\n",
       "      <td>D:/daps/daps/ipad_office1\\m9_script5_ipad_offi...</td>\n",
       "    </tr>\n",
       "  </tbody>\n",
       "</table>\n",
       "<p>100 rows × 1 columns</p>\n",
       "</div>"
      ],
      "text/plain": [
       "                                            wav_files\n",
       "0   D:/daps/daps/ipad_office1\\f10_script1_ipad_off...\n",
       "1   D:/daps/daps/ipad_office1\\f10_script2_ipad_off...\n",
       "2   D:/daps/daps/ipad_office1\\f10_script3_ipad_off...\n",
       "3   D:/daps/daps/ipad_office1\\f10_script4_ipad_off...\n",
       "4   D:/daps/daps/ipad_office1\\f10_script5_ipad_off...\n",
       "..                                                ...\n",
       "95  D:/daps/daps/ipad_office1\\m9_script1_ipad_offi...\n",
       "96  D:/daps/daps/ipad_office1\\m9_script2_ipad_offi...\n",
       "97  D:/daps/daps/ipad_office1\\m9_script3_ipad_offi...\n",
       "98  D:/daps/daps/ipad_office1\\m9_script4_ipad_offi...\n",
       "99  D:/daps/daps/ipad_office1\\m9_script5_ipad_offi...\n",
       "\n",
       "[100 rows x 1 columns]"
      ]
     },
     "execution_count": 2,
     "metadata": {},
     "output_type": "execute_result"
    }
   ],
   "source": [
    "#create a df from pandas and add the wav files to the df as paths\n",
    "import pandas as pd\n",
    "df = pd.DataFrame(wav_files, columns=['wav_files'])\n",
    "df"
   ]
  },
  {
   "cell_type": "code",
   "execution_count": 3,
   "metadata": {},
   "outputs": [
    {
     "data": {
      "text/html": [
       "<div>\n",
       "<style scoped>\n",
       "    .dataframe tbody tr th:only-of-type {\n",
       "        vertical-align: middle;\n",
       "    }\n",
       "\n",
       "    .dataframe tbody tr th {\n",
       "        vertical-align: top;\n",
       "    }\n",
       "\n",
       "    .dataframe thead th {\n",
       "        text-align: right;\n",
       "    }\n",
       "</style>\n",
       "<table border=\"1\" class=\"dataframe\">\n",
       "  <thead>\n",
       "    <tr style=\"text-align: right;\">\n",
       "      <th></th>\n",
       "      <th>wav_files</th>\n",
       "      <th>file_name</th>\n",
       "      <th>speaker</th>\n",
       "    </tr>\n",
       "  </thead>\n",
       "  <tbody>\n",
       "    <tr>\n",
       "      <th>0</th>\n",
       "      <td>D:/daps/daps/ipad_office1\\f10_script1_ipad_off...</td>\n",
       "      <td>f10_script1_ipad_office1</td>\n",
       "      <td>f10</td>\n",
       "    </tr>\n",
       "    <tr>\n",
       "      <th>1</th>\n",
       "      <td>D:/daps/daps/ipad_office1\\f10_script2_ipad_off...</td>\n",
       "      <td>f10_script2_ipad_office1</td>\n",
       "      <td>f10</td>\n",
       "    </tr>\n",
       "    <tr>\n",
       "      <th>2</th>\n",
       "      <td>D:/daps/daps/ipad_office1\\f10_script3_ipad_off...</td>\n",
       "      <td>f10_script3_ipad_office1</td>\n",
       "      <td>f10</td>\n",
       "    </tr>\n",
       "    <tr>\n",
       "      <th>3</th>\n",
       "      <td>D:/daps/daps/ipad_office1\\f10_script4_ipad_off...</td>\n",
       "      <td>f10_script4_ipad_office1</td>\n",
       "      <td>f10</td>\n",
       "    </tr>\n",
       "    <tr>\n",
       "      <th>4</th>\n",
       "      <td>D:/daps/daps/ipad_office1\\f10_script5_ipad_off...</td>\n",
       "      <td>f10_script5_ipad_office1</td>\n",
       "      <td>f10</td>\n",
       "    </tr>\n",
       "    <tr>\n",
       "      <th>...</th>\n",
       "      <td>...</td>\n",
       "      <td>...</td>\n",
       "      <td>...</td>\n",
       "    </tr>\n",
       "    <tr>\n",
       "      <th>95</th>\n",
       "      <td>D:/daps/daps/ipad_office1\\m9_script1_ipad_offi...</td>\n",
       "      <td>m9_script1_ipad_office1</td>\n",
       "      <td>m9</td>\n",
       "    </tr>\n",
       "    <tr>\n",
       "      <th>96</th>\n",
       "      <td>D:/daps/daps/ipad_office1\\m9_script2_ipad_offi...</td>\n",
       "      <td>m9_script2_ipad_office1</td>\n",
       "      <td>m9</td>\n",
       "    </tr>\n",
       "    <tr>\n",
       "      <th>97</th>\n",
       "      <td>D:/daps/daps/ipad_office1\\m9_script3_ipad_offi...</td>\n",
       "      <td>m9_script3_ipad_office1</td>\n",
       "      <td>m9</td>\n",
       "    </tr>\n",
       "    <tr>\n",
       "      <th>98</th>\n",
       "      <td>D:/daps/daps/ipad_office1\\m9_script4_ipad_offi...</td>\n",
       "      <td>m9_script4_ipad_office1</td>\n",
       "      <td>m9</td>\n",
       "    </tr>\n",
       "    <tr>\n",
       "      <th>99</th>\n",
       "      <td>D:/daps/daps/ipad_office1\\m9_script5_ipad_offi...</td>\n",
       "      <td>m9_script5_ipad_office1</td>\n",
       "      <td>m9</td>\n",
       "    </tr>\n",
       "  </tbody>\n",
       "</table>\n",
       "<p>100 rows × 3 columns</p>\n",
       "</div>"
      ],
      "text/plain": [
       "                                            wav_files  \\\n",
       "0   D:/daps/daps/ipad_office1\\f10_script1_ipad_off...   \n",
       "1   D:/daps/daps/ipad_office1\\f10_script2_ipad_off...   \n",
       "2   D:/daps/daps/ipad_office1\\f10_script3_ipad_off...   \n",
       "3   D:/daps/daps/ipad_office1\\f10_script4_ipad_off...   \n",
       "4   D:/daps/daps/ipad_office1\\f10_script5_ipad_off...   \n",
       "..                                                ...   \n",
       "95  D:/daps/daps/ipad_office1\\m9_script1_ipad_offi...   \n",
       "96  D:/daps/daps/ipad_office1\\m9_script2_ipad_offi...   \n",
       "97  D:/daps/daps/ipad_office1\\m9_script3_ipad_offi...   \n",
       "98  D:/daps/daps/ipad_office1\\m9_script4_ipad_offi...   \n",
       "99  D:/daps/daps/ipad_office1\\m9_script5_ipad_offi...   \n",
       "\n",
       "                   file_name speaker  \n",
       "0   f10_script1_ipad_office1     f10  \n",
       "1   f10_script2_ipad_office1     f10  \n",
       "2   f10_script3_ipad_office1     f10  \n",
       "3   f10_script4_ipad_office1     f10  \n",
       "4   f10_script5_ipad_office1     f10  \n",
       "..                       ...     ...  \n",
       "95   m9_script1_ipad_office1      m9  \n",
       "96   m9_script2_ipad_office1      m9  \n",
       "97   m9_script3_ipad_office1      m9  \n",
       "98   m9_script4_ipad_office1      m9  \n",
       "99   m9_script5_ipad_office1      m9  \n",
       "\n",
       "[100 rows x 3 columns]"
      ]
     },
     "execution_count": 3,
     "metadata": {},
     "output_type": "execute_result"
    }
   ],
   "source": [
    "# the last part of each path has the name of the file starting with f{i} and m{i}, a new column is added to include that\n",
    "df['file_name'] = df['wav_files'].apply(lambda x: x.split('\\\\')[-1].split('.')[0])\n",
    "# split file name by _ and get the first part of the split and add to a new column\n",
    "df['speaker'] = df['file_name'].apply(lambda x: x.split('_')[0])\n",
    "# remove filename\n",
    "#df.drop('file_name', axis=1, inplace=True)\n",
    "\n",
    "df\n"
   ]
  },
  {
   "cell_type": "code",
   "execution_count": 4,
   "metadata": {},
   "outputs": [
    {
     "data": {
      "text/html": [
       "<div>\n",
       "<style scoped>\n",
       "    .dataframe tbody tr th:only-of-type {\n",
       "        vertical-align: middle;\n",
       "    }\n",
       "\n",
       "    .dataframe tbody tr th {\n",
       "        vertical-align: top;\n",
       "    }\n",
       "\n",
       "    .dataframe thead th {\n",
       "        text-align: right;\n",
       "    }\n",
       "</style>\n",
       "<table border=\"1\" class=\"dataframe\">\n",
       "  <thead>\n",
       "    <tr style=\"text-align: right;\">\n",
       "      <th></th>\n",
       "      <th>wav_files</th>\n",
       "      <th>file_name</th>\n",
       "      <th>speaker</th>\n",
       "    </tr>\n",
       "  </thead>\n",
       "  <tbody>\n",
       "    <tr>\n",
       "      <th>0</th>\n",
       "      <td>D:/daps/daps/ipad_office1/f10_script1_ipad_off...</td>\n",
       "      <td>f10_script1_ipad_office1</td>\n",
       "      <td>f10</td>\n",
       "    </tr>\n",
       "    <tr>\n",
       "      <th>1</th>\n",
       "      <td>D:/daps/daps/ipad_office1/f10_script2_ipad_off...</td>\n",
       "      <td>f10_script2_ipad_office1</td>\n",
       "      <td>f10</td>\n",
       "    </tr>\n",
       "    <tr>\n",
       "      <th>2</th>\n",
       "      <td>D:/daps/daps/ipad_office1/f10_script3_ipad_off...</td>\n",
       "      <td>f10_script3_ipad_office1</td>\n",
       "      <td>f10</td>\n",
       "    </tr>\n",
       "    <tr>\n",
       "      <th>3</th>\n",
       "      <td>D:/daps/daps/ipad_office1/f10_script4_ipad_off...</td>\n",
       "      <td>f10_script4_ipad_office1</td>\n",
       "      <td>f10</td>\n",
       "    </tr>\n",
       "    <tr>\n",
       "      <th>4</th>\n",
       "      <td>D:/daps/daps/ipad_office1/f10_script5_ipad_off...</td>\n",
       "      <td>f10_script5_ipad_office1</td>\n",
       "      <td>f10</td>\n",
       "    </tr>\n",
       "    <tr>\n",
       "      <th>...</th>\n",
       "      <td>...</td>\n",
       "      <td>...</td>\n",
       "      <td>...</td>\n",
       "    </tr>\n",
       "    <tr>\n",
       "      <th>95</th>\n",
       "      <td>D:/daps/daps/ipad_office1/m9_script1_ipad_offi...</td>\n",
       "      <td>m9_script1_ipad_office1</td>\n",
       "      <td>m9</td>\n",
       "    </tr>\n",
       "    <tr>\n",
       "      <th>96</th>\n",
       "      <td>D:/daps/daps/ipad_office1/m9_script2_ipad_offi...</td>\n",
       "      <td>m9_script2_ipad_office1</td>\n",
       "      <td>m9</td>\n",
       "    </tr>\n",
       "    <tr>\n",
       "      <th>97</th>\n",
       "      <td>D:/daps/daps/ipad_office1/m9_script3_ipad_offi...</td>\n",
       "      <td>m9_script3_ipad_office1</td>\n",
       "      <td>m9</td>\n",
       "    </tr>\n",
       "    <tr>\n",
       "      <th>98</th>\n",
       "      <td>D:/daps/daps/ipad_office1/m9_script4_ipad_offi...</td>\n",
       "      <td>m9_script4_ipad_office1</td>\n",
       "      <td>m9</td>\n",
       "    </tr>\n",
       "    <tr>\n",
       "      <th>99</th>\n",
       "      <td>D:/daps/daps/ipad_office1/m9_script5_ipad_offi...</td>\n",
       "      <td>m9_script5_ipad_office1</td>\n",
       "      <td>m9</td>\n",
       "    </tr>\n",
       "  </tbody>\n",
       "</table>\n",
       "<p>100 rows × 3 columns</p>\n",
       "</div>"
      ],
      "text/plain": [
       "                                            wav_files  \\\n",
       "0   D:/daps/daps/ipad_office1/f10_script1_ipad_off...   \n",
       "1   D:/daps/daps/ipad_office1/f10_script2_ipad_off...   \n",
       "2   D:/daps/daps/ipad_office1/f10_script3_ipad_off...   \n",
       "3   D:/daps/daps/ipad_office1/f10_script4_ipad_off...   \n",
       "4   D:/daps/daps/ipad_office1/f10_script5_ipad_off...   \n",
       "..                                                ...   \n",
       "95  D:/daps/daps/ipad_office1/m9_script1_ipad_offi...   \n",
       "96  D:/daps/daps/ipad_office1/m9_script2_ipad_offi...   \n",
       "97  D:/daps/daps/ipad_office1/m9_script3_ipad_offi...   \n",
       "98  D:/daps/daps/ipad_office1/m9_script4_ipad_offi...   \n",
       "99  D:/daps/daps/ipad_office1/m9_script5_ipad_offi...   \n",
       "\n",
       "                   file_name speaker  \n",
       "0   f10_script1_ipad_office1     f10  \n",
       "1   f10_script2_ipad_office1     f10  \n",
       "2   f10_script3_ipad_office1     f10  \n",
       "3   f10_script4_ipad_office1     f10  \n",
       "4   f10_script5_ipad_office1     f10  \n",
       "..                       ...     ...  \n",
       "95   m9_script1_ipad_office1      m9  \n",
       "96   m9_script2_ipad_office1      m9  \n",
       "97   m9_script3_ipad_office1      m9  \n",
       "98   m9_script4_ipad_office1      m9  \n",
       "99   m9_script5_ipad_office1      m9  \n",
       "\n",
       "[100 rows x 3 columns]"
      ]
     },
     "execution_count": 4,
     "metadata": {},
     "output_type": "execute_result"
    }
   ],
   "source": [
    "# replace every \"\\\\\" with \"/\" in the path\n",
    "df['wav_files'] = df['wav_files'].apply(lambda x: x.replace(\"\\\\\", \"/\"))\n",
    "# create a new column for the file name \n",
    "df"
   ]
  },
  {
   "cell_type": "code",
   "execution_count": 6,
   "metadata": {},
   "outputs": [
    {
     "name": "stdout",
     "output_type": "stream",
     "text": [
      "[NeMo I 2024-04-07 18:02:54 nemo_logging:381] Tokenizer SentencePieceTokenizer initialized with 1024 tokens\n"
     ]
    },
    {
     "name": "stderr",
     "output_type": "stream",
     "text": [
      "[NeMo W 2024-04-07 18:02:54 nemo_logging:393] If you intend to do training or fine-tuning, please call the ModelPT.setup_training_data() method and provide a valid configuration file to setup the train data loader.\n",
      "    Train config : \n",
      "    manifest_filepath: /disk1/NVIDIA/datasets/LibriSpeech_NeMo/librivox-train-all.json\n",
      "    sample_rate: 16000\n",
      "    batch_size: 16\n",
      "    shuffle: true\n",
      "    num_workers: 8\n",
      "    pin_memory: true\n",
      "    use_start_end_token: false\n",
      "    trim_silence: false\n",
      "    max_duration: 16.7\n",
      "    min_duration: 0.1\n",
      "    is_tarred: false\n",
      "    tarred_audio_filepaths: null\n",
      "    shuffle_n: 2048\n",
      "    bucketing_strategy: fully_randomized\n",
      "    bucketing_batch_size: null\n",
      "    \n",
      "[NeMo W 2024-04-07 18:02:54 nemo_logging:393] If you intend to do validation, please call the ModelPT.setup_validation_data() or ModelPT.setup_multiple_validation_data() method and provide a valid configuration file to setup the validation data loader(s). \n",
      "    Validation config : \n",
      "    manifest_filepath: /disk1/NVIDIA/datasets/LibriSpeech_NeMo/librivox-dev-clean.json\n",
      "    sample_rate: 16000\n",
      "    batch_size: 16\n",
      "    shuffle: false\n",
      "    use_start_end_token: false\n",
      "    num_workers: 8\n",
      "    pin_memory: true\n",
      "    \n",
      "[NeMo W 2024-04-07 18:02:54 nemo_logging:393] Please call the ModelPT.setup_test_data() or ModelPT.setup_multiple_test_data() method and provide a valid configuration file to setup the test data loader(s).\n",
      "    Test config : \n",
      "    manifest_filepath: null\n",
      "    sample_rate: 16000\n",
      "    batch_size: 16\n",
      "    shuffle: false\n",
      "    use_start_end_token: false\n",
      "    num_workers: 8\n",
      "    pin_memory: true\n",
      "    \n"
     ]
    },
    {
     "name": "stdout",
     "output_type": "stream",
     "text": [
      "[NeMo I 2024-04-07 18:02:54 nemo_logging:381] PADDING: 0\n"
     ]
    },
    {
     "name": "stderr",
     "output_type": "stream",
     "text": [
      "[NeMo W 2024-04-07 18:03:00 nemo_logging:393] `method_cfg` is deprecated and will be removed in the future. Please use `measure_cfg` instead.\n",
      "[NeMo W 2024-04-07 18:03:00 nemo_logging:393] Re-writing `measure_cfg` with the value of `method_cfg`.\n",
      "[NeMo W 2024-04-07 18:03:00 nemo_logging:393] `temperature` is deprecated and will be removed in the future. Please use `alpha` instead.\n",
      "[NeMo W 2024-04-07 18:03:00 nemo_logging:393] Re-writing `alpha` with the value of `temperature`.\n",
      "[NeMo W 2024-04-07 18:03:00 nemo_logging:393] `method_cfg` is deprecated and will be removed in the future. Please use `measure_cfg` instead.\n",
      "[NeMo W 2024-04-07 18:03:00 nemo_logging:393] Re-writing `measure_cfg` with the value of `method_cfg`.\n",
      "[NeMo W 2024-04-07 18:03:00 nemo_logging:393] `temperature` is deprecated and will be removed in the future. Please use `alpha` instead.\n",
      "[NeMo W 2024-04-07 18:03:00 nemo_logging:393] Re-writing `alpha` with the value of `temperature`.\n"
     ]
    },
    {
     "name": "stdout",
     "output_type": "stream",
     "text": [
      "[NeMo I 2024-04-07 18:03:02 nemo_logging:381] Model EncDecCTCModelBPE was successfully restored from C:\\Users\\spn\\.cache\\huggingface\\hub\\models--nvidia--parakeet-ctc-0.6b\\snapshots\\097ffc5b027beabc73acb627def2d1d278e774e9\\parakeet-ctc-0.6b.nemo.\n"
     ]
    }
   ],
   "source": [
    "from models.parakeet import parakeet_ctc_model, parakeet_ctc_process\n",
    "asr_model = parakeet_ctc_model()"
   ]
  },
  {
   "cell_type": "code",
   "execution_count": 80,
   "metadata": {},
   "outputs": [
    {
     "name": "stdout",
     "output_type": "stream",
     "text": [
      "D:/daps/daps/ipad_office1/f10_script1_ipad_office1.wav\n",
      "f10\n",
      "f10_script1_ipad_office1\n"
     ]
    },
    {
     "data": {
      "application/vnd.jupyter.widget-view+json": {
       "model_id": "549bb66cfee94da0a1c81fa5230ebca6",
       "version_major": 2,
       "version_minor": 0
      },
      "text/plain": [
       "Transcribing:   0%|          | 0/1 [00:00<?, ?it/s]"
      ]
     },
     "metadata": {},
     "output_type": "display_data"
    },
    {
     "name": "stdout",
     "output_type": "stream",
     "text": [
      "D:/daps/daps/ipad_office1/f10_script2_ipad_office1.wav\n",
      "f10\n",
      "f10_script2_ipad_office1\n"
     ]
    },
    {
     "data": {
      "application/vnd.jupyter.widget-view+json": {
       "model_id": "0940570ccbcc4a23b38364fab6c4a4f4",
       "version_major": 2,
       "version_minor": 0
      },
      "text/plain": [
       "Transcribing:   0%|          | 0/1 [00:00<?, ?it/s]"
      ]
     },
     "metadata": {},
     "output_type": "display_data"
    },
    {
     "name": "stdout",
     "output_type": "stream",
     "text": [
      "D:/daps/daps/ipad_office1/f10_script3_ipad_office1.wav\n",
      "f10\n",
      "f10_script3_ipad_office1\n"
     ]
    },
    {
     "data": {
      "application/vnd.jupyter.widget-view+json": {
       "model_id": "0f3d050c85f44195a3324d917fbe16c1",
       "version_major": 2,
       "version_minor": 0
      },
      "text/plain": [
       "Transcribing:   0%|          | 0/1 [00:00<?, ?it/s]"
      ]
     },
     "metadata": {},
     "output_type": "display_data"
    },
    {
     "name": "stdout",
     "output_type": "stream",
     "text": [
      "D:/daps/daps/ipad_office1/f10_script4_ipad_office1.wav\n",
      "f10\n",
      "f10_script4_ipad_office1\n"
     ]
    },
    {
     "data": {
      "application/vnd.jupyter.widget-view+json": {
       "model_id": "a83de4aa457544a2ad09cb46921d7d06",
       "version_major": 2,
       "version_minor": 0
      },
      "text/plain": [
       "Transcribing:   0%|          | 0/1 [00:00<?, ?it/s]"
      ]
     },
     "metadata": {},
     "output_type": "display_data"
    },
    {
     "name": "stdout",
     "output_type": "stream",
     "text": [
      "D:/daps/daps/ipad_office1/f10_script5_ipad_office1.wav\n",
      "f10\n",
      "f10_script5_ipad_office1\n"
     ]
    },
    {
     "data": {
      "application/vnd.jupyter.widget-view+json": {
       "model_id": "3757e304a0c34fb4b422780913f8d13a",
       "version_major": 2,
       "version_minor": 0
      },
      "text/plain": [
       "Transcribing:   0%|          | 0/1 [00:00<?, ?it/s]"
      ]
     },
     "metadata": {},
     "output_type": "display_data"
    },
    {
     "name": "stdout",
     "output_type": "stream",
     "text": [
      "D:/daps/daps/ipad_office1/f1_script1_ipad_office1.wav\n",
      "f1\n",
      "f1_script1_ipad_office1\n"
     ]
    },
    {
     "data": {
      "application/vnd.jupyter.widget-view+json": {
       "model_id": "544ea083a00141fe8a09c63c2513cab5",
       "version_major": 2,
       "version_minor": 0
      },
      "text/plain": [
       "Transcribing:   0%|          | 0/1 [00:00<?, ?it/s]"
      ]
     },
     "metadata": {},
     "output_type": "display_data"
    },
    {
     "name": "stdout",
     "output_type": "stream",
     "text": [
      "D:/daps/daps/ipad_office1/f1_script2_ipad_office1.wav\n",
      "f1\n",
      "f1_script2_ipad_office1\n"
     ]
    },
    {
     "data": {
      "application/vnd.jupyter.widget-view+json": {
       "model_id": "f04370684ce84d2682b51dc3b94a740c",
       "version_major": 2,
       "version_minor": 0
      },
      "text/plain": [
       "Transcribing:   0%|          | 0/1 [00:00<?, ?it/s]"
      ]
     },
     "metadata": {},
     "output_type": "display_data"
    },
    {
     "name": "stdout",
     "output_type": "stream",
     "text": [
      "D:/daps/daps/ipad_office1/f1_script3_ipad_office1.wav\n",
      "f1\n",
      "f1_script3_ipad_office1\n"
     ]
    },
    {
     "data": {
      "application/vnd.jupyter.widget-view+json": {
       "model_id": "a7700ccb03e947e8843624b0429616ba",
       "version_major": 2,
       "version_minor": 0
      },
      "text/plain": [
       "Transcribing:   0%|          | 0/1 [00:00<?, ?it/s]"
      ]
     },
     "metadata": {},
     "output_type": "display_data"
    },
    {
     "name": "stdout",
     "output_type": "stream",
     "text": [
      "D:/daps/daps/ipad_office1/f1_script4_ipad_office1.wav\n",
      "f1\n",
      "f1_script4_ipad_office1\n"
     ]
    },
    {
     "data": {
      "application/vnd.jupyter.widget-view+json": {
       "model_id": "9cd05a9596644d3081742e7a44fc598d",
       "version_major": 2,
       "version_minor": 0
      },
      "text/plain": [
       "Transcribing:   0%|          | 0/1 [00:00<?, ?it/s]"
      ]
     },
     "metadata": {},
     "output_type": "display_data"
    },
    {
     "name": "stdout",
     "output_type": "stream",
     "text": [
      "D:/daps/daps/ipad_office1/f1_script5_ipad_office1.wav\n",
      "f1\n",
      "f1_script5_ipad_office1\n"
     ]
    },
    {
     "data": {
      "application/vnd.jupyter.widget-view+json": {
       "model_id": "572ddc0dd2f1496b8bf01963cb60ed35",
       "version_major": 2,
       "version_minor": 0
      },
      "text/plain": [
       "Transcribing:   0%|          | 0/1 [00:00<?, ?it/s]"
      ]
     },
     "metadata": {},
     "output_type": "display_data"
    },
    {
     "name": "stdout",
     "output_type": "stream",
     "text": [
      "D:/daps/daps/ipad_office1/f2_script1_ipad_office1.wav\n",
      "f2\n",
      "f2_script1_ipad_office1\n"
     ]
    },
    {
     "data": {
      "application/vnd.jupyter.widget-view+json": {
       "model_id": "293eba24993745f589123e43ce7dd396",
       "version_major": 2,
       "version_minor": 0
      },
      "text/plain": [
       "Transcribing:   0%|          | 0/1 [00:00<?, ?it/s]"
      ]
     },
     "metadata": {},
     "output_type": "display_data"
    },
    {
     "name": "stdout",
     "output_type": "stream",
     "text": [
      "D:/daps/daps/ipad_office1/f2_script2_ipad_office1.wav\n",
      "f2\n",
      "f2_script2_ipad_office1\n"
     ]
    },
    {
     "data": {
      "application/vnd.jupyter.widget-view+json": {
       "model_id": "2c16b3e63012450fb7797450194b98d9",
       "version_major": 2,
       "version_minor": 0
      },
      "text/plain": [
       "Transcribing:   0%|          | 0/1 [00:00<?, ?it/s]"
      ]
     },
     "metadata": {},
     "output_type": "display_data"
    },
    {
     "name": "stdout",
     "output_type": "stream",
     "text": [
      "D:/daps/daps/ipad_office1/f2_script3_ipad_office1.wav\n",
      "f2\n",
      "f2_script3_ipad_office1\n"
     ]
    },
    {
     "data": {
      "application/vnd.jupyter.widget-view+json": {
       "model_id": "edb594562a3d4eecb80239792d9f5c64",
       "version_major": 2,
       "version_minor": 0
      },
      "text/plain": [
       "Transcribing:   0%|          | 0/1 [00:00<?, ?it/s]"
      ]
     },
     "metadata": {},
     "output_type": "display_data"
    },
    {
     "name": "stdout",
     "output_type": "stream",
     "text": [
      "D:/daps/daps/ipad_office1/f2_script4_ipad_office1.wav\n",
      "f2\n",
      "f2_script4_ipad_office1\n"
     ]
    },
    {
     "data": {
      "application/vnd.jupyter.widget-view+json": {
       "model_id": "b3251f2d84dc40779492d56a1c5523a7",
       "version_major": 2,
       "version_minor": 0
      },
      "text/plain": [
       "Transcribing:   0%|          | 0/1 [00:00<?, ?it/s]"
      ]
     },
     "metadata": {},
     "output_type": "display_data"
    },
    {
     "name": "stdout",
     "output_type": "stream",
     "text": [
      "D:/daps/daps/ipad_office1/f2_script5_ipad_office1.wav\n",
      "f2\n",
      "f2_script5_ipad_office1\n"
     ]
    },
    {
     "data": {
      "application/vnd.jupyter.widget-view+json": {
       "model_id": "29e0f58d9e3c43438925d0a6f4390685",
       "version_major": 2,
       "version_minor": 0
      },
      "text/plain": [
       "Transcribing:   0%|          | 0/1 [00:00<?, ?it/s]"
      ]
     },
     "metadata": {},
     "output_type": "display_data"
    },
    {
     "name": "stdout",
     "output_type": "stream",
     "text": [
      "D:/daps/daps/ipad_office1/f3_script1_ipad_office1.wav\n",
      "f3\n",
      "f3_script1_ipad_office1\n"
     ]
    },
    {
     "data": {
      "application/vnd.jupyter.widget-view+json": {
       "model_id": "3a43157299ce4a42b3600940e5651502",
       "version_major": 2,
       "version_minor": 0
      },
      "text/plain": [
       "Transcribing:   0%|          | 0/1 [00:00<?, ?it/s]"
      ]
     },
     "metadata": {},
     "output_type": "display_data"
    },
    {
     "name": "stdout",
     "output_type": "stream",
     "text": [
      "D:/daps/daps/ipad_office1/f3_script2_ipad_office1.wav\n",
      "f3\n",
      "f3_script2_ipad_office1\n"
     ]
    },
    {
     "data": {
      "application/vnd.jupyter.widget-view+json": {
       "model_id": "21735f92a7654b709ad2944783780d26",
       "version_major": 2,
       "version_minor": 0
      },
      "text/plain": [
       "Transcribing:   0%|          | 0/1 [00:00<?, ?it/s]"
      ]
     },
     "metadata": {},
     "output_type": "display_data"
    },
    {
     "name": "stdout",
     "output_type": "stream",
     "text": [
      "D:/daps/daps/ipad_office1/f3_script3_ipad_office1.wav\n",
      "f3\n",
      "f3_script3_ipad_office1\n"
     ]
    },
    {
     "data": {
      "application/vnd.jupyter.widget-view+json": {
       "model_id": "5005af96589346a1aa91dad604dcbfd0",
       "version_major": 2,
       "version_minor": 0
      },
      "text/plain": [
       "Transcribing:   0%|          | 0/1 [00:00<?, ?it/s]"
      ]
     },
     "metadata": {},
     "output_type": "display_data"
    },
    {
     "name": "stdout",
     "output_type": "stream",
     "text": [
      "D:/daps/daps/ipad_office1/f3_script4_ipad_office1.wav\n",
      "f3\n",
      "f3_script4_ipad_office1\n"
     ]
    },
    {
     "data": {
      "application/vnd.jupyter.widget-view+json": {
       "model_id": "61ac90b2c70d47bea646d11305ddbdb9",
       "version_major": 2,
       "version_minor": 0
      },
      "text/plain": [
       "Transcribing:   0%|          | 0/1 [00:00<?, ?it/s]"
      ]
     },
     "metadata": {},
     "output_type": "display_data"
    },
    {
     "name": "stdout",
     "output_type": "stream",
     "text": [
      "D:/daps/daps/ipad_office1/f3_script5_ipad_office1.wav\n",
      "f3\n",
      "f3_script5_ipad_office1\n"
     ]
    },
    {
     "data": {
      "application/vnd.jupyter.widget-view+json": {
       "model_id": "da73519e12d74829a5ba17aafae46804",
       "version_major": 2,
       "version_minor": 0
      },
      "text/plain": [
       "Transcribing:   0%|          | 0/1 [00:00<?, ?it/s]"
      ]
     },
     "metadata": {},
     "output_type": "display_data"
    },
    {
     "name": "stdout",
     "output_type": "stream",
     "text": [
      "D:/daps/daps/ipad_office1/f4_script1_ipad_office1.wav\n",
      "f4\n",
      "f4_script1_ipad_office1\n"
     ]
    },
    {
     "data": {
      "application/vnd.jupyter.widget-view+json": {
       "model_id": "0df4f2fa876149688c512e846e8850b6",
       "version_major": 2,
       "version_minor": 0
      },
      "text/plain": [
       "Transcribing:   0%|          | 0/1 [00:00<?, ?it/s]"
      ]
     },
     "metadata": {},
     "output_type": "display_data"
    },
    {
     "name": "stdout",
     "output_type": "stream",
     "text": [
      "D:/daps/daps/ipad_office1/f4_script2_ipad_office1.wav\n",
      "f4\n",
      "f4_script2_ipad_office1\n"
     ]
    },
    {
     "data": {
      "application/vnd.jupyter.widget-view+json": {
       "model_id": "516ea1e5d7104d298cdb8fd1f5c54a6e",
       "version_major": 2,
       "version_minor": 0
      },
      "text/plain": [
       "Transcribing:   0%|          | 0/1 [00:00<?, ?it/s]"
      ]
     },
     "metadata": {},
     "output_type": "display_data"
    },
    {
     "name": "stdout",
     "output_type": "stream",
     "text": [
      "D:/daps/daps/ipad_office1/f4_script3_ipad_office1.wav\n",
      "f4\n",
      "f4_script3_ipad_office1\n"
     ]
    },
    {
     "data": {
      "application/vnd.jupyter.widget-view+json": {
       "model_id": "f2af9f1a170141e78afb0ddcec9663a1",
       "version_major": 2,
       "version_minor": 0
      },
      "text/plain": [
       "Transcribing:   0%|          | 0/1 [00:00<?, ?it/s]"
      ]
     },
     "metadata": {},
     "output_type": "display_data"
    },
    {
     "name": "stdout",
     "output_type": "stream",
     "text": [
      "D:/daps/daps/ipad_office1/f4_script4_ipad_office1.wav\n",
      "f4\n",
      "f4_script4_ipad_office1\n"
     ]
    },
    {
     "data": {
      "application/vnd.jupyter.widget-view+json": {
       "model_id": "9d31647d36e64abb897524f54f4143e7",
       "version_major": 2,
       "version_minor": 0
      },
      "text/plain": [
       "Transcribing:   0%|          | 0/1 [00:00<?, ?it/s]"
      ]
     },
     "metadata": {},
     "output_type": "display_data"
    },
    {
     "name": "stdout",
     "output_type": "stream",
     "text": [
      "D:/daps/daps/ipad_office1/f4_script5_ipad_office1.wav\n",
      "f4\n",
      "f4_script5_ipad_office1\n"
     ]
    },
    {
     "data": {
      "application/vnd.jupyter.widget-view+json": {
       "model_id": "291c4f50bd89450eaf74f0dfec6bdb94",
       "version_major": 2,
       "version_minor": 0
      },
      "text/plain": [
       "Transcribing:   0%|          | 0/1 [00:00<?, ?it/s]"
      ]
     },
     "metadata": {},
     "output_type": "display_data"
    },
    {
     "name": "stdout",
     "output_type": "stream",
     "text": [
      "D:/daps/daps/ipad_office1/f5_script1_ipad_office1.wav\n",
      "f5\n",
      "f5_script1_ipad_office1\n"
     ]
    },
    {
     "data": {
      "application/vnd.jupyter.widget-view+json": {
       "model_id": "8b73be660e5c44dba24e5be2857e4b29",
       "version_major": 2,
       "version_minor": 0
      },
      "text/plain": [
       "Transcribing:   0%|          | 0/1 [00:00<?, ?it/s]"
      ]
     },
     "metadata": {},
     "output_type": "display_data"
    },
    {
     "name": "stdout",
     "output_type": "stream",
     "text": [
      "D:/daps/daps/ipad_office1/f5_script2_ipad_office1.wav\n",
      "f5\n",
      "f5_script2_ipad_office1\n"
     ]
    },
    {
     "data": {
      "application/vnd.jupyter.widget-view+json": {
       "model_id": "777f84201b8247dbb8cdc128ecf8dd00",
       "version_major": 2,
       "version_minor": 0
      },
      "text/plain": [
       "Transcribing:   0%|          | 0/1 [00:00<?, ?it/s]"
      ]
     },
     "metadata": {},
     "output_type": "display_data"
    },
    {
     "name": "stdout",
     "output_type": "stream",
     "text": [
      "D:/daps/daps/ipad_office1/f5_script3_ipad_office1.wav\n",
      "f5\n",
      "f5_script3_ipad_office1\n"
     ]
    },
    {
     "data": {
      "application/vnd.jupyter.widget-view+json": {
       "model_id": "df7f91aa836f419181ca259d64bde792",
       "version_major": 2,
       "version_minor": 0
      },
      "text/plain": [
       "Transcribing:   0%|          | 0/1 [00:00<?, ?it/s]"
      ]
     },
     "metadata": {},
     "output_type": "display_data"
    },
    {
     "name": "stdout",
     "output_type": "stream",
     "text": [
      "D:/daps/daps/ipad_office1/f5_script4_ipad_office1.wav\n",
      "f5\n",
      "f5_script4_ipad_office1\n"
     ]
    },
    {
     "data": {
      "application/vnd.jupyter.widget-view+json": {
       "model_id": "f846be262a0944d9bbf6532322b896c0",
       "version_major": 2,
       "version_minor": 0
      },
      "text/plain": [
       "Transcribing:   0%|          | 0/1 [00:00<?, ?it/s]"
      ]
     },
     "metadata": {},
     "output_type": "display_data"
    },
    {
     "name": "stdout",
     "output_type": "stream",
     "text": [
      "D:/daps/daps/ipad_office1/f5_script5_ipad_office1.wav\n",
      "f5\n",
      "f5_script5_ipad_office1\n"
     ]
    },
    {
     "data": {
      "application/vnd.jupyter.widget-view+json": {
       "model_id": "86d42c98f45442e485bdb873c880b719",
       "version_major": 2,
       "version_minor": 0
      },
      "text/plain": [
       "Transcribing:   0%|          | 0/1 [00:00<?, ?it/s]"
      ]
     },
     "metadata": {},
     "output_type": "display_data"
    },
    {
     "name": "stdout",
     "output_type": "stream",
     "text": [
      "D:/daps/daps/ipad_office1/f6_script1_ipad_office1.wav\n",
      "f6\n",
      "f6_script1_ipad_office1\n"
     ]
    },
    {
     "data": {
      "application/vnd.jupyter.widget-view+json": {
       "model_id": "7e82d5dc145f4e1aade89c5bcd63dfc2",
       "version_major": 2,
       "version_minor": 0
      },
      "text/plain": [
       "Transcribing:   0%|          | 0/1 [00:00<?, ?it/s]"
      ]
     },
     "metadata": {},
     "output_type": "display_data"
    },
    {
     "name": "stdout",
     "output_type": "stream",
     "text": [
      "D:/daps/daps/ipad_office1/f6_script2_ipad_office1.wav\n",
      "f6\n",
      "f6_script2_ipad_office1\n"
     ]
    },
    {
     "data": {
      "application/vnd.jupyter.widget-view+json": {
       "model_id": "ed35803dd2784440b859fe82b44bf1cb",
       "version_major": 2,
       "version_minor": 0
      },
      "text/plain": [
       "Transcribing:   0%|          | 0/1 [00:00<?, ?it/s]"
      ]
     },
     "metadata": {},
     "output_type": "display_data"
    },
    {
     "name": "stdout",
     "output_type": "stream",
     "text": [
      "D:/daps/daps/ipad_office1/f6_script3_ipad_office1.wav\n",
      "f6\n",
      "f6_script3_ipad_office1\n"
     ]
    },
    {
     "data": {
      "application/vnd.jupyter.widget-view+json": {
       "model_id": "0373b71e02d74488bf2cb7eea47444fb",
       "version_major": 2,
       "version_minor": 0
      },
      "text/plain": [
       "Transcribing:   0%|          | 0/1 [00:00<?, ?it/s]"
      ]
     },
     "metadata": {},
     "output_type": "display_data"
    },
    {
     "name": "stdout",
     "output_type": "stream",
     "text": [
      "D:/daps/daps/ipad_office1/f6_script4_ipad_office1.wav\n",
      "f6\n",
      "f6_script4_ipad_office1\n"
     ]
    },
    {
     "data": {
      "application/vnd.jupyter.widget-view+json": {
       "model_id": "4124b7cdc6c246a081d098f97987aec5",
       "version_major": 2,
       "version_minor": 0
      },
      "text/plain": [
       "Transcribing:   0%|          | 0/1 [00:00<?, ?it/s]"
      ]
     },
     "metadata": {},
     "output_type": "display_data"
    },
    {
     "name": "stdout",
     "output_type": "stream",
     "text": [
      "D:/daps/daps/ipad_office1/f6_script5_ipad_office1.wav\n",
      "f6\n",
      "f6_script5_ipad_office1\n"
     ]
    },
    {
     "data": {
      "application/vnd.jupyter.widget-view+json": {
       "model_id": "3430261f0df241dc9048c393853ff6ae",
       "version_major": 2,
       "version_minor": 0
      },
      "text/plain": [
       "Transcribing:   0%|          | 0/1 [00:00<?, ?it/s]"
      ]
     },
     "metadata": {},
     "output_type": "display_data"
    },
    {
     "name": "stdout",
     "output_type": "stream",
     "text": [
      "D:/daps/daps/ipad_office1/f7_script1_ipad_office1.wav\n",
      "f7\n",
      "f7_script1_ipad_office1\n"
     ]
    },
    {
     "data": {
      "application/vnd.jupyter.widget-view+json": {
       "model_id": "057576ac3cb146d49b9551161fc3b0f9",
       "version_major": 2,
       "version_minor": 0
      },
      "text/plain": [
       "Transcribing:   0%|          | 0/1 [00:00<?, ?it/s]"
      ]
     },
     "metadata": {},
     "output_type": "display_data"
    },
    {
     "name": "stdout",
     "output_type": "stream",
     "text": [
      "D:/daps/daps/ipad_office1/f7_script2_ipad_office1.wav\n",
      "f7\n",
      "f7_script2_ipad_office1\n"
     ]
    },
    {
     "data": {
      "application/vnd.jupyter.widget-view+json": {
       "model_id": "42ca2a237a3e4038b3b9a5ca6441144f",
       "version_major": 2,
       "version_minor": 0
      },
      "text/plain": [
       "Transcribing:   0%|          | 0/1 [00:00<?, ?it/s]"
      ]
     },
     "metadata": {},
     "output_type": "display_data"
    },
    {
     "name": "stdout",
     "output_type": "stream",
     "text": [
      "D:/daps/daps/ipad_office1/f7_script3_ipad_office1.wav\n",
      "f7\n",
      "f7_script3_ipad_office1\n"
     ]
    },
    {
     "data": {
      "application/vnd.jupyter.widget-view+json": {
       "model_id": "22fbbf2f6dcc4ad794d88836576eb9c8",
       "version_major": 2,
       "version_minor": 0
      },
      "text/plain": [
       "Transcribing:   0%|          | 0/1 [00:00<?, ?it/s]"
      ]
     },
     "metadata": {},
     "output_type": "display_data"
    },
    {
     "name": "stdout",
     "output_type": "stream",
     "text": [
      "D:/daps/daps/ipad_office1/f7_script4_ipad_office1.wav\n",
      "f7\n",
      "f7_script4_ipad_office1\n"
     ]
    },
    {
     "data": {
      "application/vnd.jupyter.widget-view+json": {
       "model_id": "bba5614ffba04c80af97ae9c52d9d911",
       "version_major": 2,
       "version_minor": 0
      },
      "text/plain": [
       "Transcribing:   0%|          | 0/1 [00:00<?, ?it/s]"
      ]
     },
     "metadata": {},
     "output_type": "display_data"
    },
    {
     "name": "stdout",
     "output_type": "stream",
     "text": [
      "D:/daps/daps/ipad_office1/f7_script5_ipad_office1.wav\n",
      "f7\n",
      "f7_script5_ipad_office1\n"
     ]
    },
    {
     "data": {
      "application/vnd.jupyter.widget-view+json": {
       "model_id": "0bec0cf7f0504e90aab97a9cca7b6532",
       "version_major": 2,
       "version_minor": 0
      },
      "text/plain": [
       "Transcribing:   0%|          | 0/1 [00:00<?, ?it/s]"
      ]
     },
     "metadata": {},
     "output_type": "display_data"
    },
    {
     "name": "stdout",
     "output_type": "stream",
     "text": [
      "D:/daps/daps/ipad_office1/f8_script1_ipad_office1.wav\n",
      "f8\n",
      "f8_script1_ipad_office1\n"
     ]
    },
    {
     "data": {
      "application/vnd.jupyter.widget-view+json": {
       "model_id": "afc0e6d494174d93987b522d7b3b7b76",
       "version_major": 2,
       "version_minor": 0
      },
      "text/plain": [
       "Transcribing:   0%|          | 0/1 [00:00<?, ?it/s]"
      ]
     },
     "metadata": {},
     "output_type": "display_data"
    },
    {
     "name": "stdout",
     "output_type": "stream",
     "text": [
      "D:/daps/daps/ipad_office1/f8_script2_ipad_office1.wav\n",
      "f8\n",
      "f8_script2_ipad_office1\n"
     ]
    },
    {
     "data": {
      "application/vnd.jupyter.widget-view+json": {
       "model_id": "dd6e970bfb97446d9e00833bf1603032",
       "version_major": 2,
       "version_minor": 0
      },
      "text/plain": [
       "Transcribing:   0%|          | 0/1 [00:00<?, ?it/s]"
      ]
     },
     "metadata": {},
     "output_type": "display_data"
    },
    {
     "name": "stdout",
     "output_type": "stream",
     "text": [
      "D:/daps/daps/ipad_office1/f8_script3_ipad_office1.wav\n",
      "f8\n",
      "f8_script3_ipad_office1\n"
     ]
    },
    {
     "data": {
      "application/vnd.jupyter.widget-view+json": {
       "model_id": "f61097c451114c95bada31b93dc25460",
       "version_major": 2,
       "version_minor": 0
      },
      "text/plain": [
       "Transcribing:   0%|          | 0/1 [00:00<?, ?it/s]"
      ]
     },
     "metadata": {},
     "output_type": "display_data"
    },
    {
     "name": "stdout",
     "output_type": "stream",
     "text": [
      "D:/daps/daps/ipad_office1/f8_script4_ipad_office1.wav\n",
      "f8\n",
      "f8_script4_ipad_office1\n"
     ]
    },
    {
     "data": {
      "application/vnd.jupyter.widget-view+json": {
       "model_id": "83505aafb6a247ae8cfbfbb8d1a3a178",
       "version_major": 2,
       "version_minor": 0
      },
      "text/plain": [
       "Transcribing:   0%|          | 0/1 [00:00<?, ?it/s]"
      ]
     },
     "metadata": {},
     "output_type": "display_data"
    },
    {
     "name": "stdout",
     "output_type": "stream",
     "text": [
      "D:/daps/daps/ipad_office1/f8_script5_ipad_office1.wav\n",
      "f8\n",
      "f8_script5_ipad_office1\n"
     ]
    },
    {
     "data": {
      "application/vnd.jupyter.widget-view+json": {
       "model_id": "c6a6718e396f48f2accecccf154ed2d0",
       "version_major": 2,
       "version_minor": 0
      },
      "text/plain": [
       "Transcribing:   0%|          | 0/1 [00:00<?, ?it/s]"
      ]
     },
     "metadata": {},
     "output_type": "display_data"
    },
    {
     "name": "stdout",
     "output_type": "stream",
     "text": [
      "D:/daps/daps/ipad_office1/f9_script1_ipad_office1.wav\n",
      "f9\n",
      "f9_script1_ipad_office1\n"
     ]
    },
    {
     "data": {
      "application/vnd.jupyter.widget-view+json": {
       "model_id": "36ab1b63680a415cb9188fd96949e539",
       "version_major": 2,
       "version_minor": 0
      },
      "text/plain": [
       "Transcribing:   0%|          | 0/1 [00:00<?, ?it/s]"
      ]
     },
     "metadata": {},
     "output_type": "display_data"
    },
    {
     "name": "stdout",
     "output_type": "stream",
     "text": [
      "D:/daps/daps/ipad_office1/f9_script2_ipad_office1.wav\n",
      "f9\n",
      "f9_script2_ipad_office1\n"
     ]
    },
    {
     "data": {
      "application/vnd.jupyter.widget-view+json": {
       "model_id": "19717b00d432411699ec54578448c620",
       "version_major": 2,
       "version_minor": 0
      },
      "text/plain": [
       "Transcribing:   0%|          | 0/1 [00:00<?, ?it/s]"
      ]
     },
     "metadata": {},
     "output_type": "display_data"
    },
    {
     "name": "stdout",
     "output_type": "stream",
     "text": [
      "D:/daps/daps/ipad_office1/f9_script3_ipad_office1.wav\n",
      "f9\n",
      "f9_script3_ipad_office1\n"
     ]
    },
    {
     "data": {
      "application/vnd.jupyter.widget-view+json": {
       "model_id": "1a6ffb9b6b0a46aa9efd0689fe8bfd64",
       "version_major": 2,
       "version_minor": 0
      },
      "text/plain": [
       "Transcribing:   0%|          | 0/1 [00:00<?, ?it/s]"
      ]
     },
     "metadata": {},
     "output_type": "display_data"
    },
    {
     "name": "stdout",
     "output_type": "stream",
     "text": [
      "D:/daps/daps/ipad_office1/f9_script4_ipad_office1.wav\n",
      "f9\n",
      "f9_script4_ipad_office1\n"
     ]
    },
    {
     "data": {
      "application/vnd.jupyter.widget-view+json": {
       "model_id": "1e01934b82d344159b1aebf52865774c",
       "version_major": 2,
       "version_minor": 0
      },
      "text/plain": [
       "Transcribing:   0%|          | 0/1 [00:00<?, ?it/s]"
      ]
     },
     "metadata": {},
     "output_type": "display_data"
    },
    {
     "name": "stdout",
     "output_type": "stream",
     "text": [
      "D:/daps/daps/ipad_office1/f9_script5_ipad_office1.wav\n",
      "f9\n",
      "f9_script5_ipad_office1\n"
     ]
    },
    {
     "data": {
      "application/vnd.jupyter.widget-view+json": {
       "model_id": "8ca23436ce4a42d0aff0bde47f6c73c0",
       "version_major": 2,
       "version_minor": 0
      },
      "text/plain": [
       "Transcribing:   0%|          | 0/1 [00:00<?, ?it/s]"
      ]
     },
     "metadata": {},
     "output_type": "display_data"
    },
    {
     "name": "stdout",
     "output_type": "stream",
     "text": [
      "D:/daps/daps/ipad_office1/m10_script1_ipad_office1.wav\n",
      "m10\n",
      "m10_script1_ipad_office1\n"
     ]
    },
    {
     "data": {
      "application/vnd.jupyter.widget-view+json": {
       "model_id": "7a94e745ef1f4aa892468290d4e998a6",
       "version_major": 2,
       "version_minor": 0
      },
      "text/plain": [
       "Transcribing:   0%|          | 0/1 [00:00<?, ?it/s]"
      ]
     },
     "metadata": {},
     "output_type": "display_data"
    },
    {
     "name": "stdout",
     "output_type": "stream",
     "text": [
      "D:/daps/daps/ipad_office1/m10_script2_ipad_office1.wav\n",
      "m10\n",
      "m10_script2_ipad_office1\n"
     ]
    },
    {
     "data": {
      "application/vnd.jupyter.widget-view+json": {
       "model_id": "0f7d347a330b411685a8fd11c59cc06d",
       "version_major": 2,
       "version_minor": 0
      },
      "text/plain": [
       "Transcribing:   0%|          | 0/1 [00:00<?, ?it/s]"
      ]
     },
     "metadata": {},
     "output_type": "display_data"
    },
    {
     "name": "stdout",
     "output_type": "stream",
     "text": [
      "D:/daps/daps/ipad_office1/m10_script3_ipad_office1.wav\n",
      "m10\n",
      "m10_script3_ipad_office1\n"
     ]
    },
    {
     "data": {
      "application/vnd.jupyter.widget-view+json": {
       "model_id": "fe2282a00a0942e8a52e79a76912298f",
       "version_major": 2,
       "version_minor": 0
      },
      "text/plain": [
       "Transcribing:   0%|          | 0/1 [00:00<?, ?it/s]"
      ]
     },
     "metadata": {},
     "output_type": "display_data"
    },
    {
     "name": "stdout",
     "output_type": "stream",
     "text": [
      "D:/daps/daps/ipad_office1/m10_script4_ipad_office1.wav\n",
      "m10\n",
      "m10_script4_ipad_office1\n"
     ]
    },
    {
     "data": {
      "application/vnd.jupyter.widget-view+json": {
       "model_id": "7822ca0ffa49424383280d724491d301",
       "version_major": 2,
       "version_minor": 0
      },
      "text/plain": [
       "Transcribing:   0%|          | 0/1 [00:00<?, ?it/s]"
      ]
     },
     "metadata": {},
     "output_type": "display_data"
    },
    {
     "name": "stdout",
     "output_type": "stream",
     "text": [
      "D:/daps/daps/ipad_office1/m10_script5_ipad_office1.wav\n",
      "m10\n",
      "m10_script5_ipad_office1\n"
     ]
    },
    {
     "data": {
      "application/vnd.jupyter.widget-view+json": {
       "model_id": "509b862231e1497baafe8b9d586d8811",
       "version_major": 2,
       "version_minor": 0
      },
      "text/plain": [
       "Transcribing:   0%|          | 0/1 [00:00<?, ?it/s]"
      ]
     },
     "metadata": {},
     "output_type": "display_data"
    },
    {
     "name": "stdout",
     "output_type": "stream",
     "text": [
      "D:/daps/daps/ipad_office1/m1_script1_ipad_office1.wav\n",
      "m1\n",
      "m1_script1_ipad_office1\n"
     ]
    },
    {
     "data": {
      "application/vnd.jupyter.widget-view+json": {
       "model_id": "57561ab3c3ab4613a3a43038cf561d47",
       "version_major": 2,
       "version_minor": 0
      },
      "text/plain": [
       "Transcribing:   0%|          | 0/1 [00:00<?, ?it/s]"
      ]
     },
     "metadata": {},
     "output_type": "display_data"
    },
    {
     "name": "stdout",
     "output_type": "stream",
     "text": [
      "D:/daps/daps/ipad_office1/m1_script2_ipad_office1.wav\n",
      "m1\n",
      "m1_script2_ipad_office1\n"
     ]
    },
    {
     "data": {
      "application/vnd.jupyter.widget-view+json": {
       "model_id": "25d33527840c4a37a25f9dba1dc3e9b0",
       "version_major": 2,
       "version_minor": 0
      },
      "text/plain": [
       "Transcribing:   0%|          | 0/1 [00:00<?, ?it/s]"
      ]
     },
     "metadata": {},
     "output_type": "display_data"
    },
    {
     "name": "stdout",
     "output_type": "stream",
     "text": [
      "D:/daps/daps/ipad_office1/m1_script3_ipad_office1.wav\n",
      "m1\n",
      "m1_script3_ipad_office1\n"
     ]
    },
    {
     "data": {
      "application/vnd.jupyter.widget-view+json": {
       "model_id": "efb552e83b144441bd3608b14dc9acdc",
       "version_major": 2,
       "version_minor": 0
      },
      "text/plain": [
       "Transcribing:   0%|          | 0/1 [00:00<?, ?it/s]"
      ]
     },
     "metadata": {},
     "output_type": "display_data"
    },
    {
     "name": "stdout",
     "output_type": "stream",
     "text": [
      "D:/daps/daps/ipad_office1/m1_script4_ipad_office1.wav\n",
      "m1\n",
      "m1_script4_ipad_office1\n"
     ]
    },
    {
     "data": {
      "application/vnd.jupyter.widget-view+json": {
       "model_id": "d45a3616edb14f19a8acb0b841b2969c",
       "version_major": 2,
       "version_minor": 0
      },
      "text/plain": [
       "Transcribing:   0%|          | 0/1 [00:00<?, ?it/s]"
      ]
     },
     "metadata": {},
     "output_type": "display_data"
    },
    {
     "name": "stdout",
     "output_type": "stream",
     "text": [
      "D:/daps/daps/ipad_office1/m1_script5_ipad_office1.wav\n",
      "m1\n",
      "m1_script5_ipad_office1\n"
     ]
    },
    {
     "data": {
      "application/vnd.jupyter.widget-view+json": {
       "model_id": "4ed29c49219a41b780b8aaa1f99ce6fe",
       "version_major": 2,
       "version_minor": 0
      },
      "text/plain": [
       "Transcribing:   0%|          | 0/1 [00:00<?, ?it/s]"
      ]
     },
     "metadata": {},
     "output_type": "display_data"
    },
    {
     "name": "stdout",
     "output_type": "stream",
     "text": [
      "D:/daps/daps/ipad_office1/m2_script1_ipad_office1.wav\n",
      "m2\n",
      "m2_script1_ipad_office1\n"
     ]
    },
    {
     "data": {
      "application/vnd.jupyter.widget-view+json": {
       "model_id": "61f4d5007627414ea25b0df36d8ad42a",
       "version_major": 2,
       "version_minor": 0
      },
      "text/plain": [
       "Transcribing:   0%|          | 0/1 [00:00<?, ?it/s]"
      ]
     },
     "metadata": {},
     "output_type": "display_data"
    },
    {
     "name": "stdout",
     "output_type": "stream",
     "text": [
      "D:/daps/daps/ipad_office1/m2_script2_ipad_office1.wav\n",
      "m2\n",
      "m2_script2_ipad_office1\n"
     ]
    },
    {
     "data": {
      "application/vnd.jupyter.widget-view+json": {
       "model_id": "add7f41bd57a40d697d4023a7c8fd84e",
       "version_major": 2,
       "version_minor": 0
      },
      "text/plain": [
       "Transcribing:   0%|          | 0/1 [00:00<?, ?it/s]"
      ]
     },
     "metadata": {},
     "output_type": "display_data"
    },
    {
     "name": "stdout",
     "output_type": "stream",
     "text": [
      "D:/daps/daps/ipad_office1/m2_script3_ipad_office1.wav\n",
      "m2\n",
      "m2_script3_ipad_office1\n"
     ]
    },
    {
     "data": {
      "application/vnd.jupyter.widget-view+json": {
       "model_id": "571e1af71d8647de8a05ae2159b47e0b",
       "version_major": 2,
       "version_minor": 0
      },
      "text/plain": [
       "Transcribing:   0%|          | 0/1 [00:00<?, ?it/s]"
      ]
     },
     "metadata": {},
     "output_type": "display_data"
    },
    {
     "name": "stdout",
     "output_type": "stream",
     "text": [
      "D:/daps/daps/ipad_office1/m2_script4_ipad_office1.wav\n",
      "m2\n",
      "m2_script4_ipad_office1\n"
     ]
    },
    {
     "data": {
      "application/vnd.jupyter.widget-view+json": {
       "model_id": "a941186672454b56878281c9077b66f7",
       "version_major": 2,
       "version_minor": 0
      },
      "text/plain": [
       "Transcribing:   0%|          | 0/1 [00:00<?, ?it/s]"
      ]
     },
     "metadata": {},
     "output_type": "display_data"
    },
    {
     "name": "stdout",
     "output_type": "stream",
     "text": [
      "D:/daps/daps/ipad_office1/m2_script5_ipad_office1.wav\n",
      "m2\n",
      "m2_script5_ipad_office1\n"
     ]
    },
    {
     "data": {
      "application/vnd.jupyter.widget-view+json": {
       "model_id": "16833cc56d65443abbb6559156a0d25d",
       "version_major": 2,
       "version_minor": 0
      },
      "text/plain": [
       "Transcribing:   0%|          | 0/1 [00:00<?, ?it/s]"
      ]
     },
     "metadata": {},
     "output_type": "display_data"
    },
    {
     "name": "stdout",
     "output_type": "stream",
     "text": [
      "D:/daps/daps/ipad_office1/m3_script1_ipad_office1.wav\n",
      "m3\n",
      "m3_script1_ipad_office1\n"
     ]
    },
    {
     "data": {
      "application/vnd.jupyter.widget-view+json": {
       "model_id": "46c63c7caed246729cfc1e98dadf6452",
       "version_major": 2,
       "version_minor": 0
      },
      "text/plain": [
       "Transcribing:   0%|          | 0/1 [00:00<?, ?it/s]"
      ]
     },
     "metadata": {},
     "output_type": "display_data"
    },
    {
     "name": "stdout",
     "output_type": "stream",
     "text": [
      "D:/daps/daps/ipad_office1/m3_script2_ipad_office1.wav\n",
      "m3\n",
      "m3_script2_ipad_office1\n"
     ]
    },
    {
     "data": {
      "application/vnd.jupyter.widget-view+json": {
       "model_id": "84069cbf3b9048eaa9040f74b4a2a467",
       "version_major": 2,
       "version_minor": 0
      },
      "text/plain": [
       "Transcribing:   0%|          | 0/1 [00:00<?, ?it/s]"
      ]
     },
     "metadata": {},
     "output_type": "display_data"
    },
    {
     "name": "stdout",
     "output_type": "stream",
     "text": [
      "D:/daps/daps/ipad_office1/m3_script3_ipad_office1.wav\n",
      "m3\n",
      "m3_script3_ipad_office1\n"
     ]
    },
    {
     "data": {
      "application/vnd.jupyter.widget-view+json": {
       "model_id": "ec87c7a462524640ad35bc2ece7e92c8",
       "version_major": 2,
       "version_minor": 0
      },
      "text/plain": [
       "Transcribing:   0%|          | 0/1 [00:00<?, ?it/s]"
      ]
     },
     "metadata": {},
     "output_type": "display_data"
    },
    {
     "name": "stdout",
     "output_type": "stream",
     "text": [
      "D:/daps/daps/ipad_office1/m3_script4_ipad_office1.wav\n",
      "m3\n",
      "m3_script4_ipad_office1\n"
     ]
    },
    {
     "data": {
      "application/vnd.jupyter.widget-view+json": {
       "model_id": "ac22b653eddd41b6963629341f3bd084",
       "version_major": 2,
       "version_minor": 0
      },
      "text/plain": [
       "Transcribing:   0%|          | 0/1 [00:00<?, ?it/s]"
      ]
     },
     "metadata": {},
     "output_type": "display_data"
    },
    {
     "name": "stdout",
     "output_type": "stream",
     "text": [
      "D:/daps/daps/ipad_office1/m3_script5_ipad_office1.wav\n",
      "m3\n",
      "m3_script5_ipad_office1\n"
     ]
    },
    {
     "data": {
      "application/vnd.jupyter.widget-view+json": {
       "model_id": "c60a3cf8ae924a04ab551f5f20da20e6",
       "version_major": 2,
       "version_minor": 0
      },
      "text/plain": [
       "Transcribing:   0%|          | 0/1 [00:00<?, ?it/s]"
      ]
     },
     "metadata": {},
     "output_type": "display_data"
    },
    {
     "name": "stdout",
     "output_type": "stream",
     "text": [
      "D:/daps/daps/ipad_office1/m4_script1_ipad_office1.wav\n",
      "m4\n",
      "m4_script1_ipad_office1\n"
     ]
    },
    {
     "data": {
      "application/vnd.jupyter.widget-view+json": {
       "model_id": "065df53aa70b492c98380cacd9745bc2",
       "version_major": 2,
       "version_minor": 0
      },
      "text/plain": [
       "Transcribing:   0%|          | 0/1 [00:00<?, ?it/s]"
      ]
     },
     "metadata": {},
     "output_type": "display_data"
    },
    {
     "name": "stdout",
     "output_type": "stream",
     "text": [
      "D:/daps/daps/ipad_office1/m4_script2_ipad_office1.wav\n",
      "m4\n",
      "m4_script2_ipad_office1\n"
     ]
    },
    {
     "data": {
      "application/vnd.jupyter.widget-view+json": {
       "model_id": "65e6d16b705749d8890af4ab54ba03f9",
       "version_major": 2,
       "version_minor": 0
      },
      "text/plain": [
       "Transcribing:   0%|          | 0/1 [00:00<?, ?it/s]"
      ]
     },
     "metadata": {},
     "output_type": "display_data"
    },
    {
     "name": "stdout",
     "output_type": "stream",
     "text": [
      "D:/daps/daps/ipad_office1/m4_script3_ipad_office1.wav\n",
      "m4\n",
      "m4_script3_ipad_office1\n"
     ]
    },
    {
     "data": {
      "application/vnd.jupyter.widget-view+json": {
       "model_id": "64cc40b1f08e414db9104b27f39a3072",
       "version_major": 2,
       "version_minor": 0
      },
      "text/plain": [
       "Transcribing:   0%|          | 0/1 [00:00<?, ?it/s]"
      ]
     },
     "metadata": {},
     "output_type": "display_data"
    },
    {
     "name": "stdout",
     "output_type": "stream",
     "text": [
      "D:/daps/daps/ipad_office1/m4_script4_ipad_office1.wav\n",
      "m4\n",
      "m4_script4_ipad_office1\n"
     ]
    },
    {
     "data": {
      "application/vnd.jupyter.widget-view+json": {
       "model_id": "e92715ae968746ec80a11526e5573b49",
       "version_major": 2,
       "version_minor": 0
      },
      "text/plain": [
       "Transcribing:   0%|          | 0/1 [00:00<?, ?it/s]"
      ]
     },
     "metadata": {},
     "output_type": "display_data"
    },
    {
     "name": "stdout",
     "output_type": "stream",
     "text": [
      "D:/daps/daps/ipad_office1/m4_script5_ipad_office1.wav\n",
      "m4\n",
      "m4_script5_ipad_office1\n"
     ]
    },
    {
     "data": {
      "application/vnd.jupyter.widget-view+json": {
       "model_id": "8a42af4d3fcf483ca233ab324e6b7d94",
       "version_major": 2,
       "version_minor": 0
      },
      "text/plain": [
       "Transcribing:   0%|          | 0/1 [00:00<?, ?it/s]"
      ]
     },
     "metadata": {},
     "output_type": "display_data"
    },
    {
     "name": "stdout",
     "output_type": "stream",
     "text": [
      "D:/daps/daps/ipad_office1/m5_script1_ipad_office1.wav\n",
      "m5\n",
      "m5_script1_ipad_office1\n"
     ]
    },
    {
     "data": {
      "application/vnd.jupyter.widget-view+json": {
       "model_id": "1f24e85d1030465f8a668693062b8c71",
       "version_major": 2,
       "version_minor": 0
      },
      "text/plain": [
       "Transcribing:   0%|          | 0/1 [00:00<?, ?it/s]"
      ]
     },
     "metadata": {},
     "output_type": "display_data"
    },
    {
     "name": "stdout",
     "output_type": "stream",
     "text": [
      "D:/daps/daps/ipad_office1/m5_script2_ipad_office1.wav\n",
      "m5\n",
      "m5_script2_ipad_office1\n"
     ]
    },
    {
     "data": {
      "application/vnd.jupyter.widget-view+json": {
       "model_id": "d2390f632fb64874880e13f936cc7ede",
       "version_major": 2,
       "version_minor": 0
      },
      "text/plain": [
       "Transcribing:   0%|          | 0/1 [00:00<?, ?it/s]"
      ]
     },
     "metadata": {},
     "output_type": "display_data"
    },
    {
     "name": "stdout",
     "output_type": "stream",
     "text": [
      "D:/daps/daps/ipad_office1/m5_script3_ipad_office1.wav\n",
      "m5\n",
      "m5_script3_ipad_office1\n"
     ]
    },
    {
     "data": {
      "application/vnd.jupyter.widget-view+json": {
       "model_id": "ca23a62672234948bcb544261b3f1484",
       "version_major": 2,
       "version_minor": 0
      },
      "text/plain": [
       "Transcribing:   0%|          | 0/1 [00:00<?, ?it/s]"
      ]
     },
     "metadata": {},
     "output_type": "display_data"
    },
    {
     "name": "stdout",
     "output_type": "stream",
     "text": [
      "D:/daps/daps/ipad_office1/m5_script4_ipad_office1.wav\n",
      "m5\n",
      "m5_script4_ipad_office1\n"
     ]
    },
    {
     "data": {
      "application/vnd.jupyter.widget-view+json": {
       "model_id": "ea4393f845564326bf5efbb2e81015c9",
       "version_major": 2,
       "version_minor": 0
      },
      "text/plain": [
       "Transcribing:   0%|          | 0/1 [00:00<?, ?it/s]"
      ]
     },
     "metadata": {},
     "output_type": "display_data"
    },
    {
     "name": "stdout",
     "output_type": "stream",
     "text": [
      "D:/daps/daps/ipad_office1/m5_script5_ipad_office1.wav\n",
      "m5\n",
      "m5_script5_ipad_office1\n"
     ]
    },
    {
     "data": {
      "application/vnd.jupyter.widget-view+json": {
       "model_id": "c156bf869fe74e8ba42d2faa62d9c2c7",
       "version_major": 2,
       "version_minor": 0
      },
      "text/plain": [
       "Transcribing:   0%|          | 0/1 [00:00<?, ?it/s]"
      ]
     },
     "metadata": {},
     "output_type": "display_data"
    },
    {
     "name": "stdout",
     "output_type": "stream",
     "text": [
      "D:/daps/daps/ipad_office1/m6_script1_ipad_office1.wav\n",
      "m6\n",
      "m6_script1_ipad_office1\n"
     ]
    },
    {
     "data": {
      "application/vnd.jupyter.widget-view+json": {
       "model_id": "50347ec9506149bab5b3d319d7d132ec",
       "version_major": 2,
       "version_minor": 0
      },
      "text/plain": [
       "Transcribing:   0%|          | 0/1 [00:00<?, ?it/s]"
      ]
     },
     "metadata": {},
     "output_type": "display_data"
    },
    {
     "name": "stdout",
     "output_type": "stream",
     "text": [
      "D:/daps/daps/ipad_office1/m6_script2_ipad_office1.wav\n",
      "m6\n",
      "m6_script2_ipad_office1\n"
     ]
    },
    {
     "data": {
      "application/vnd.jupyter.widget-view+json": {
       "model_id": "f4d5bbb4d7dd422a953fc2d662a73759",
       "version_major": 2,
       "version_minor": 0
      },
      "text/plain": [
       "Transcribing:   0%|          | 0/1 [00:00<?, ?it/s]"
      ]
     },
     "metadata": {},
     "output_type": "display_data"
    },
    {
     "name": "stdout",
     "output_type": "stream",
     "text": [
      "D:/daps/daps/ipad_office1/m6_script3_ipad_office1.wav\n",
      "m6\n",
      "m6_script3_ipad_office1\n"
     ]
    },
    {
     "data": {
      "application/vnd.jupyter.widget-view+json": {
       "model_id": "5d94d6fd0d1b4189b3e0142edac113bb",
       "version_major": 2,
       "version_minor": 0
      },
      "text/plain": [
       "Transcribing:   0%|          | 0/1 [00:00<?, ?it/s]"
      ]
     },
     "metadata": {},
     "output_type": "display_data"
    },
    {
     "name": "stdout",
     "output_type": "stream",
     "text": [
      "D:/daps/daps/ipad_office1/m6_script4_ipad_office1.wav\n",
      "m6\n",
      "m6_script4_ipad_office1\n"
     ]
    },
    {
     "data": {
      "application/vnd.jupyter.widget-view+json": {
       "model_id": "c02dee2adbde4a9e9df7f8dd56e6d0d5",
       "version_major": 2,
       "version_minor": 0
      },
      "text/plain": [
       "Transcribing:   0%|          | 0/1 [00:00<?, ?it/s]"
      ]
     },
     "metadata": {},
     "output_type": "display_data"
    },
    {
     "name": "stdout",
     "output_type": "stream",
     "text": [
      "D:/daps/daps/ipad_office1/m6_script5_ipad_office1.wav\n",
      "m6\n",
      "m6_script5_ipad_office1\n"
     ]
    },
    {
     "data": {
      "application/vnd.jupyter.widget-view+json": {
       "model_id": "5a78790febf44b1abcbd33bf42b3b153",
       "version_major": 2,
       "version_minor": 0
      },
      "text/plain": [
       "Transcribing:   0%|          | 0/1 [00:00<?, ?it/s]"
      ]
     },
     "metadata": {},
     "output_type": "display_data"
    },
    {
     "name": "stdout",
     "output_type": "stream",
     "text": [
      "D:/daps/daps/ipad_office1/m7_script1_ipad_office1.wav\n",
      "m7\n",
      "m7_script1_ipad_office1\n"
     ]
    },
    {
     "data": {
      "application/vnd.jupyter.widget-view+json": {
       "model_id": "ad2ca432428e4eb286051844705f09c2",
       "version_major": 2,
       "version_minor": 0
      },
      "text/plain": [
       "Transcribing:   0%|          | 0/1 [00:00<?, ?it/s]"
      ]
     },
     "metadata": {},
     "output_type": "display_data"
    },
    {
     "name": "stdout",
     "output_type": "stream",
     "text": [
      "D:/daps/daps/ipad_office1/m7_script2_ipad_office1.wav\n",
      "m7\n",
      "m7_script2_ipad_office1\n"
     ]
    },
    {
     "data": {
      "application/vnd.jupyter.widget-view+json": {
       "model_id": "7348ade23e6f4484bb3ab10f99d2b6f0",
       "version_major": 2,
       "version_minor": 0
      },
      "text/plain": [
       "Transcribing:   0%|          | 0/1 [00:00<?, ?it/s]"
      ]
     },
     "metadata": {},
     "output_type": "display_data"
    },
    {
     "name": "stdout",
     "output_type": "stream",
     "text": [
      "D:/daps/daps/ipad_office1/m7_script3_ipad_office1.wav\n",
      "m7\n",
      "m7_script3_ipad_office1\n"
     ]
    },
    {
     "data": {
      "application/vnd.jupyter.widget-view+json": {
       "model_id": "3beb189db2f247aaac87f62717c18a80",
       "version_major": 2,
       "version_minor": 0
      },
      "text/plain": [
       "Transcribing:   0%|          | 0/1 [00:00<?, ?it/s]"
      ]
     },
     "metadata": {},
     "output_type": "display_data"
    },
    {
     "name": "stdout",
     "output_type": "stream",
     "text": [
      "D:/daps/daps/ipad_office1/m7_script4_ipad_office1.wav\n",
      "m7\n",
      "m7_script4_ipad_office1\n"
     ]
    },
    {
     "data": {
      "application/vnd.jupyter.widget-view+json": {
       "model_id": "c1e7a9b21d01456d88f2c01df0ef9707",
       "version_major": 2,
       "version_minor": 0
      },
      "text/plain": [
       "Transcribing:   0%|          | 0/1 [00:00<?, ?it/s]"
      ]
     },
     "metadata": {},
     "output_type": "display_data"
    },
    {
     "name": "stdout",
     "output_type": "stream",
     "text": [
      "D:/daps/daps/ipad_office1/m7_script5_ipad_office1.wav\n",
      "m7\n",
      "m7_script5_ipad_office1\n"
     ]
    },
    {
     "data": {
      "application/vnd.jupyter.widget-view+json": {
       "model_id": "3c0f038b7fec4388933b21c855fe3e30",
       "version_major": 2,
       "version_minor": 0
      },
      "text/plain": [
       "Transcribing:   0%|          | 0/1 [00:00<?, ?it/s]"
      ]
     },
     "metadata": {},
     "output_type": "display_data"
    },
    {
     "name": "stdout",
     "output_type": "stream",
     "text": [
      "D:/daps/daps/ipad_office1/m8_script1_ipad_office1.wav\n",
      "m8\n",
      "m8_script1_ipad_office1\n"
     ]
    },
    {
     "data": {
      "application/vnd.jupyter.widget-view+json": {
       "model_id": "28686df84c3a45ff86f36a4aaa6744a6",
       "version_major": 2,
       "version_minor": 0
      },
      "text/plain": [
       "Transcribing:   0%|          | 0/1 [00:00<?, ?it/s]"
      ]
     },
     "metadata": {},
     "output_type": "display_data"
    },
    {
     "name": "stdout",
     "output_type": "stream",
     "text": [
      "D:/daps/daps/ipad_office1/m8_script2_ipad_office1.wav\n",
      "m8\n",
      "m8_script2_ipad_office1\n"
     ]
    },
    {
     "data": {
      "application/vnd.jupyter.widget-view+json": {
       "model_id": "a417d2b16ac245de9844c823604b6e33",
       "version_major": 2,
       "version_minor": 0
      },
      "text/plain": [
       "Transcribing:   0%|          | 0/1 [00:00<?, ?it/s]"
      ]
     },
     "metadata": {},
     "output_type": "display_data"
    },
    {
     "name": "stdout",
     "output_type": "stream",
     "text": [
      "D:/daps/daps/ipad_office1/m8_script3_ipad_office1.wav\n",
      "m8\n",
      "m8_script3_ipad_office1\n"
     ]
    },
    {
     "data": {
      "application/vnd.jupyter.widget-view+json": {
       "model_id": "8a578ee58e814bf6a104b093630b96f8",
       "version_major": 2,
       "version_minor": 0
      },
      "text/plain": [
       "Transcribing:   0%|          | 0/1 [00:00<?, ?it/s]"
      ]
     },
     "metadata": {},
     "output_type": "display_data"
    },
    {
     "name": "stdout",
     "output_type": "stream",
     "text": [
      "D:/daps/daps/ipad_office1/m8_script4_ipad_office1.wav\n",
      "m8\n",
      "m8_script4_ipad_office1\n"
     ]
    },
    {
     "data": {
      "application/vnd.jupyter.widget-view+json": {
       "model_id": "eae8a301c62a4d7fbf690b517f7b0b2e",
       "version_major": 2,
       "version_minor": 0
      },
      "text/plain": [
       "Transcribing:   0%|          | 0/1 [00:00<?, ?it/s]"
      ]
     },
     "metadata": {},
     "output_type": "display_data"
    },
    {
     "name": "stdout",
     "output_type": "stream",
     "text": [
      "D:/daps/daps/ipad_office1/m8_script5_ipad_office1.wav\n",
      "m8\n",
      "m8_script5_ipad_office1\n"
     ]
    },
    {
     "data": {
      "application/vnd.jupyter.widget-view+json": {
       "model_id": "7ffa4a2db6be4d63beca4a763c5cc84d",
       "version_major": 2,
       "version_minor": 0
      },
      "text/plain": [
       "Transcribing:   0%|          | 0/1 [00:00<?, ?it/s]"
      ]
     },
     "metadata": {},
     "output_type": "display_data"
    },
    {
     "name": "stdout",
     "output_type": "stream",
     "text": [
      "D:/daps/daps/ipad_office1/m9_script1_ipad_office1.wav\n",
      "m9\n",
      "m9_script1_ipad_office1\n"
     ]
    },
    {
     "data": {
      "application/vnd.jupyter.widget-view+json": {
       "model_id": "07880dcaf56a40ac9538c43d767f8b5a",
       "version_major": 2,
       "version_minor": 0
      },
      "text/plain": [
       "Transcribing:   0%|          | 0/1 [00:00<?, ?it/s]"
      ]
     },
     "metadata": {},
     "output_type": "display_data"
    },
    {
     "name": "stdout",
     "output_type": "stream",
     "text": [
      "D:/daps/daps/ipad_office1/m9_script2_ipad_office1.wav\n",
      "m9\n",
      "m9_script2_ipad_office1\n"
     ]
    },
    {
     "data": {
      "application/vnd.jupyter.widget-view+json": {
       "model_id": "7d24b3d3348e4d75b37d21e219ef817e",
       "version_major": 2,
       "version_minor": 0
      },
      "text/plain": [
       "Transcribing:   0%|          | 0/1 [00:00<?, ?it/s]"
      ]
     },
     "metadata": {},
     "output_type": "display_data"
    },
    {
     "name": "stdout",
     "output_type": "stream",
     "text": [
      "D:/daps/daps/ipad_office1/m9_script3_ipad_office1.wav\n",
      "m9\n",
      "m9_script3_ipad_office1\n"
     ]
    },
    {
     "data": {
      "application/vnd.jupyter.widget-view+json": {
       "model_id": "14f97629c1f54b648307e1c5a142da0b",
       "version_major": 2,
       "version_minor": 0
      },
      "text/plain": [
       "Transcribing:   0%|          | 0/1 [00:00<?, ?it/s]"
      ]
     },
     "metadata": {},
     "output_type": "display_data"
    },
    {
     "name": "stdout",
     "output_type": "stream",
     "text": [
      "D:/daps/daps/ipad_office1/m9_script4_ipad_office1.wav\n",
      "m9\n",
      "m9_script4_ipad_office1\n"
     ]
    },
    {
     "data": {
      "application/vnd.jupyter.widget-view+json": {
       "model_id": "08a092e0159a420f950de63b8e6c1c36",
       "version_major": 2,
       "version_minor": 0
      },
      "text/plain": [
       "Transcribing:   0%|          | 0/1 [00:00<?, ?it/s]"
      ]
     },
     "metadata": {},
     "output_type": "display_data"
    },
    {
     "name": "stdout",
     "output_type": "stream",
     "text": [
      "D:/daps/daps/ipad_office1/m9_script5_ipad_office1.wav\n",
      "m9\n",
      "m9_script5_ipad_office1\n"
     ]
    },
    {
     "data": {
      "application/vnd.jupyter.widget-view+json": {
       "model_id": "b451c8397b4947fcad9aba8883e13ce8",
       "version_major": 2,
       "version_minor": 0
      },
      "text/plain": [
       "Transcribing:   0%|          | 0/1 [00:00<?, ?it/s]"
      ]
     },
     "metadata": {},
     "output_type": "display_data"
    }
   ],
   "source": [
    "for index, row in df.iterrows():\n",
    "    print(row['wav_files'])\n",
    "    print(row['speaker'])\n",
    "    print(row['file_name'])\n",
    "    transcriptions = parakeet_ctc_process(asr_model, row['wav_files'])\n",
    "    # append the transcriptions to the df\n",
    "    df.at[index, 'transcriptions'] = transcriptions"
   ]
  },
  {
   "cell_type": "code",
   "execution_count": 7,
   "metadata": {},
   "outputs": [
    {
     "name": "stdout",
     "output_type": "stream",
     "text": [
      "Writing D:/daps/daps/ipad_office1/segments\\segment_0.wav...\n",
      "Writing D:/daps/daps/ipad_office1/segments\\segment_1.wav...\n",
      "Writing D:/daps/daps/ipad_office1/segments\\segment_2.wav...\n",
      "Writing D:/daps/daps/ipad_office1/segments\\segment_3.wav...\n",
      "Writing D:/daps/daps/ipad_office1/segments\\segment_4.wav...\n",
      "Writing D:/daps/daps/ipad_office1/segments\\segment_5.wav...\n",
      "Writing D:/daps/daps/ipad_office1/segments\\segment_6.wav...\n",
      "Writing D:/daps/daps/ipad_office1/segments\\segment_7.wav...\n",
      "Writing D:/daps/daps/ipad_office1/segments\\segment_8.wav...\n",
      "Writing D:/daps/daps/ipad_office1/segments\\segment_9.wav...\n",
      "Writing D:/daps/daps/ipad_office1/segments\\segment_10.wav...\n",
      "Writing D:/daps/daps/ipad_office1/segments\\segment_11.wav...\n",
      "Writing D:/daps/daps/ipad_office1/segments\\segment_12.wav...\n",
      "Writing D:/daps/daps/ipad_office1/segments\\segment_13.wav...\n",
      "Writing D:/daps/daps/ipad_office1/segments\\segment_14.wav...\n",
      "Writing D:/daps/daps/ipad_office1/segments\\segment_15.wav...\n",
      "Writing D:/daps/daps/ipad_office1/segments\\segment_16.wav...\n",
      "Writing D:/daps/daps/ipad_office1/segments\\segment_17.wav...\n",
      "Writing D:/daps/daps/ipad_office1/segments\\segment_18.wav...\n",
      "Writing D:/daps/daps/ipad_office1/segments\\segment_19.wav...\n",
      "Writing D:/daps/daps/ipad_office1/segments\\segment_20.wav...\n",
      "Writing D:/daps/daps/ipad_office1/segments\\segment_21.wav...\n",
      "Writing D:/daps/daps/ipad_office1/segments\\segment_22.wav...\n",
      "Writing D:/daps/daps/ipad_office1/segments\\segment_23.wav...\n",
      "Writing D:/daps/daps/ipad_office1/segments\\segment_24.wav...\n",
      "Writing D:/daps/daps/ipad_office1/segments\\segment_25.wav...\n",
      "Writing D:/daps/daps/ipad_office1/segments\\segment_26.wav...\n",
      "Writing D:/daps/daps/ipad_office1/segments\\segment_27.wav...\n",
      "Writing D:/daps/daps/ipad_office1/segments\\segment_28.wav...\n",
      "Writing D:/daps/daps/ipad_office1/segments\\segment_29.wav...\n",
      "Writing D:/daps/daps/ipad_office1/segments\\segment_30.wav...\n",
      "Skipping frame due to error: Error while processing frame\n"
     ]
    }
   ],
   "source": [
    "import collections\n",
    "import contextlib\n",
    "import wave\n",
    "import webrtcvad\n",
    "import os\n",
    "import librosa\n",
    "import numpy as np\n",
    "from concurrent.futures import ThreadPoolExecutor\n",
    "import time\n",
    "\n",
    "def read_audio_file(file_path, sample_rate=16000):\n",
    "    \"\"\"Read an audio file and resample it to the desired sample rate.\"\"\"\n",
    "    audio, sr = librosa.load(file_path, sr=sample_rate)\n",
    "    return audio, sr\n",
    "\n",
    "def write_wave(path, audio, sample_rate):\n",
    "    \"\"\"Write the audio data to a WAV file.\"\"\"\n",
    "    with contextlib.closing(wave.open(path, 'wb')) as wf:\n",
    "        wf.setnchannels(1)\n",
    "        wf.setsampwidth(2)  # Assuming 16-bit audio, hence sampwidth is 2 bytes\n",
    "        wf.setframerate(sample_rate)\n",
    "        wf.writeframes(audio)  # Write the audio directly without converting to bytes\n",
    "\n",
    "\n",
    "def vad_collector(sample_rate, frame_duration_ms, padding_duration_ms, vad, audio):\n",
    "    num_padding_frames = int(padding_duration_ms / frame_duration_ms)\n",
    "    ring_buffer = collections.deque(maxlen=num_padding_frames)\n",
    "    triggered = False\n",
    "\n",
    "    voiced_frames = []\n",
    "    frames_per_buffer = int(sample_rate * frame_duration_ms / 1000) * 2  # *2 for byte conversion\n",
    "    audio_bytes = (audio * 32767).astype(np.int16).tobytes()  # Ensure audio is in the correct format\n",
    "    \n",
    "    for i in range(0, len(audio_bytes), frames_per_buffer):\n",
    "        frame = audio_bytes[i:i+frames_per_buffer]\n",
    "        try:\n",
    "            is_speech = vad.is_speech(frame, sample_rate)\n",
    "        except Exception as e:\n",
    "            print(f\"Skipping frame due to error: {e}\")\n",
    "            continue  # Skip this frame and continue with the next\n",
    "        \n",
    "        if not triggered:\n",
    "            ring_buffer.append((frame, is_speech))\n",
    "            num_voiced = len([f for f, speech in ring_buffer if speech])\n",
    "            if num_voiced > 0.9 * ring_buffer.maxlen:\n",
    "                triggered = True\n",
    "                voiced_frames.extend(f for f, speech in ring_buffer)\n",
    "                ring_buffer.clear()\n",
    "        else:\n",
    "            voiced_frames.append(frame)\n",
    "            ring_buffer.append((frame, is_speech))\n",
    "            num_unvoiced = len([f for f, speech in ring_buffer if not speech])\n",
    "            if num_unvoiced > 0.9 * ring_buffer.maxlen:\n",
    "                yield b''.join(voiced_frames)  # Convert back to bytes for writing\n",
    "                ring_buffer.clear()\n",
    "                voiced_frames = []\n",
    "                triggered = False\n",
    "    if voiced_frames:\n",
    "        yield b''.join(voiced_frames)  # Convert back to bytes for writing\n",
    "\n",
    "\n",
    "def process_audio_file(input_file_path, output_directory, sample_rate=16000):\n",
    "    vad = webrtcvad.Vad(1)  # Aggressiveness level between 0 and 3\n",
    "    audio, sr = read_audio_file(input_file_path, sample_rate=sample_rate)\n",
    "\n",
    "    if not os.path.exists(output_directory):\n",
    "        os.makedirs(output_directory)\n",
    "\n",
    "    segments = vad_collector(sample_rate, 30, 300, vad, audio)\n",
    "    for i, segment in enumerate(segments):\n",
    "        segment_path = os.path.join(output_directory, f\"segment_{i}.wav\")\n",
    "        print(f\"Writing {segment_path}...\")\n",
    "        write_wave(segment_path, segment, sample_rate)\n",
    "\n",
    "# Example usage:\n",
    "input_file_path =  'D:/daps/daps/ipad_office1/f1_script1_ipad_office1.wav'\n",
    "output_directory = 'D:/daps/daps/ipad_office1/segments'\n",
    "process_audio_file(input_file_path, output_directory)\n"
   ]
  },
  {
   "cell_type": "code",
   "execution_count": 8,
   "metadata": {},
   "outputs": [
    {
     "name": "stdout",
     "output_type": "stream",
     "text": [
      "Writing D:/daps/daps/ipad_office1/segments/f10\\segment_0.wav...\n",
      "Writing D:/daps/daps/ipad_office1/segments/f10\\segment_1.wav...\n",
      "Writing D:/daps/daps/ipad_office1/segments/f10\\segment_2.wav...\n",
      "Writing D:/daps/daps/ipad_office1/segments/f10\\segment_3.wav...\n",
      "Writing D:/daps/daps/ipad_office1/segments/f10\\segment_4.wav...\n",
      "Writing D:/daps/daps/ipad_office1/segments/f10\\segment_5.wav...\n",
      "Writing D:/daps/daps/ipad_office1/segments/f10\\segment_6.wav...\n",
      "Writing D:/daps/daps/ipad_office1/segments/f10\\segment_7.wav...\n",
      "Writing D:/daps/daps/ipad_office1/segments/f10\\segment_8.wav...\n",
      "Writing D:/daps/daps/ipad_office1/segments/f10\\segment_9.wav...\n",
      "Writing D:/daps/daps/ipad_office1/segments/f10\\segment_10.wav...\n",
      "Writing D:/daps/daps/ipad_office1/segments/f10\\segment_11.wav...\n",
      "Writing D:/daps/daps/ipad_office1/segments/f10\\segment_12.wav...\n",
      "Writing D:/daps/daps/ipad_office1/segments/f10\\segment_13.wav...\n",
      "Writing D:/daps/daps/ipad_office1/segments/f10\\segment_14.wav...\n",
      "Writing D:/daps/daps/ipad_office1/segments/f10\\segment_15.wav...\n",
      "Writing D:/daps/daps/ipad_office1/segments/f10\\segment_16.wav...\n",
      "Writing D:/daps/daps/ipad_office1/segments/f10\\segment_17.wav...\n",
      "Writing D:/daps/daps/ipad_office1/segments/f10\\segment_18.wav...\n",
      "Writing D:/daps/daps/ipad_office1/segments/f10\\segment_19.wav...\n",
      "Writing D:/daps/daps/ipad_office1/segments/f10\\segment_20.wav...\n",
      "Skipping frame due to error: Error while processing frame\n",
      "Writing D:/daps/daps/ipad_office1/segments/f10\\segment_0.wav...\n",
      "Writing D:/daps/daps/ipad_office1/segments/f10\\segment_1.wav...\n",
      "Writing D:/daps/daps/ipad_office1/segments/f10\\segment_2.wav...\n",
      "Writing D:/daps/daps/ipad_office1/segments/f10\\segment_3.wav...\n",
      "Writing D:/daps/daps/ipad_office1/segments/f10\\segment_4.wav...\n",
      "Writing D:/daps/daps/ipad_office1/segments/f10\\segment_5.wav...\n",
      "Writing D:/daps/daps/ipad_office1/segments/f10\\segment_6.wav...\n",
      "Writing D:/daps/daps/ipad_office1/segments/f10\\segment_7.wav...\n",
      "Writing D:/daps/daps/ipad_office1/segments/f10\\segment_8.wav...\n",
      "Writing D:/daps/daps/ipad_office1/segments/f10\\segment_9.wav...\n",
      "Writing D:/daps/daps/ipad_office1/segments/f10\\segment_10.wav...\n",
      "Writing D:/daps/daps/ipad_office1/segments/f10\\segment_11.wav...\n",
      "Writing D:/daps/daps/ipad_office1/segments/f10\\segment_12.wav...\n",
      "Writing D:/daps/daps/ipad_office1/segments/f10\\segment_13.wav...\n",
      "Writing D:/daps/daps/ipad_office1/segments/f10\\segment_14.wav...\n",
      "Writing D:/daps/daps/ipad_office1/segments/f10\\segment_15.wav...\n",
      "Writing D:/daps/daps/ipad_office1/segments/f10\\segment_16.wav...\n",
      "Writing D:/daps/daps/ipad_office1/segments/f10\\segment_17.wav...\n",
      "Writing D:/daps/daps/ipad_office1/segments/f10\\segment_18.wav...\n",
      "Writing D:/daps/daps/ipad_office1/segments/f10\\segment_19.wav...\n",
      "Writing D:/daps/daps/ipad_office1/segments/f10\\segment_20.wav...\n",
      "Writing D:/daps/daps/ipad_office1/segments/f10\\segment_21.wav...\n",
      "Writing D:/daps/daps/ipad_office1/segments/f10\\segment_22.wav...\n",
      "Writing D:/daps/daps/ipad_office1/segments/f10\\segment_23.wav...\n",
      "Writing D:/daps/daps/ipad_office1/segments/f10\\segment_24.wav...\n",
      "Writing D:/daps/daps/ipad_office1/segments/f10\\segment_25.wav...\n",
      "Skipping frame due to error: Error while processing frame\n",
      "Writing D:/daps/daps/ipad_office1/segments/f10\\segment_0.wav...\n",
      "Writing D:/daps/daps/ipad_office1/segments/f10\\segment_1.wav...\n",
      "Writing D:/daps/daps/ipad_office1/segments/f10\\segment_2.wav...\n",
      "Writing D:/daps/daps/ipad_office1/segments/f10\\segment_3.wav...\n",
      "Writing D:/daps/daps/ipad_office1/segments/f10\\segment_4.wav...\n",
      "Writing D:/daps/daps/ipad_office1/segments/f10\\segment_5.wav...\n",
      "Writing D:/daps/daps/ipad_office1/segments/f10\\segment_6.wav...\n",
      "Writing D:/daps/daps/ipad_office1/segments/f10\\segment_7.wav...\n",
      "Writing D:/daps/daps/ipad_office1/segments/f10\\segment_8.wav...\n",
      "Writing D:/daps/daps/ipad_office1/segments/f10\\segment_9.wav...\n",
      "Writing D:/daps/daps/ipad_office1/segments/f10\\segment_10.wav...\n",
      "Writing D:/daps/daps/ipad_office1/segments/f10\\segment_11.wav...\n",
      "Writing D:/daps/daps/ipad_office1/segments/f10\\segment_12.wav...\n",
      "Writing D:/daps/daps/ipad_office1/segments/f10\\segment_13.wav...\n",
      "Writing D:/daps/daps/ipad_office1/segments/f10\\segment_14.wav...\n",
      "Writing D:/daps/daps/ipad_office1/segments/f10\\segment_15.wav...\n",
      "Writing D:/daps/daps/ipad_office1/segments/f10\\segment_16.wav...\n",
      "Writing D:/daps/daps/ipad_office1/segments/f10\\segment_17.wav...\n",
      "Writing D:/daps/daps/ipad_office1/segments/f10\\segment_18.wav...\n",
      "Writing D:/daps/daps/ipad_office1/segments/f10\\segment_19.wav...\n",
      "Writing D:/daps/daps/ipad_office1/segments/f10\\segment_20.wav...\n",
      "Writing D:/daps/daps/ipad_office1/segments/f10\\segment_21.wav...\n",
      "Writing D:/daps/daps/ipad_office1/segments/f10\\segment_22.wav...\n",
      "Writing D:/daps/daps/ipad_office1/segments/f10\\segment_23.wav...\n",
      "Writing D:/daps/daps/ipad_office1/segments/f10\\segment_24.wav...\n",
      "Skipping frame due to error: Error while processing frame\n",
      "Writing D:/daps/daps/ipad_office1/segments/f10\\segment_0.wav...\n",
      "Writing D:/daps/daps/ipad_office1/segments/f10\\segment_1.wav...\n",
      "Writing D:/daps/daps/ipad_office1/segments/f10\\segment_2.wav...\n",
      "Writing D:/daps/daps/ipad_office1/segments/f10\\segment_3.wav...\n",
      "Writing D:/daps/daps/ipad_office1/segments/f10\\segment_4.wav...\n",
      "Writing D:/daps/daps/ipad_office1/segments/f10\\segment_5.wav...\n",
      "Writing D:/daps/daps/ipad_office1/segments/f10\\segment_6.wav...\n",
      "Writing D:/daps/daps/ipad_office1/segments/f10\\segment_7.wav...\n",
      "Writing D:/daps/daps/ipad_office1/segments/f10\\segment_8.wav...\n",
      "Writing D:/daps/daps/ipad_office1/segments/f10\\segment_9.wav...\n",
      "Writing D:/daps/daps/ipad_office1/segments/f10\\segment_10.wav...\n",
      "Writing D:/daps/daps/ipad_office1/segments/f10\\segment_11.wav...\n",
      "Writing D:/daps/daps/ipad_office1/segments/f10\\segment_12.wav...\n",
      "Writing D:/daps/daps/ipad_office1/segments/f10\\segment_13.wav...\n",
      "Writing D:/daps/daps/ipad_office1/segments/f10\\segment_14.wav...\n",
      "Writing D:/daps/daps/ipad_office1/segments/f10\\segment_15.wav...\n",
      "Writing D:/daps/daps/ipad_office1/segments/f10\\segment_16.wav...\n",
      "Writing D:/daps/daps/ipad_office1/segments/f10\\segment_17.wav...\n",
      "Skipping frame due to error: Error while processing frame\n",
      "Writing D:/daps/daps/ipad_office1/segments/f10\\segment_0.wav...\n",
      "Writing D:/daps/daps/ipad_office1/segments/f10\\segment_1.wav...\n",
      "Writing D:/daps/daps/ipad_office1/segments/f10\\segment_2.wav...\n",
      "Writing D:/daps/daps/ipad_office1/segments/f10\\segment_3.wav...\n",
      "Writing D:/daps/daps/ipad_office1/segments/f10\\segment_4.wav...\n",
      "Writing D:/daps/daps/ipad_office1/segments/f10\\segment_5.wav...\n",
      "Writing D:/daps/daps/ipad_office1/segments/f10\\segment_6.wav...\n",
      "Writing D:/daps/daps/ipad_office1/segments/f10\\segment_7.wav...\n",
      "Writing D:/daps/daps/ipad_office1/segments/f10\\segment_8.wav...\n",
      "Writing D:/daps/daps/ipad_office1/segments/f10\\segment_9.wav...\n",
      "Writing D:/daps/daps/ipad_office1/segments/f10\\segment_10.wav...\n",
      "Writing D:/daps/daps/ipad_office1/segments/f10\\segment_11.wav...\n",
      "Writing D:/daps/daps/ipad_office1/segments/f10\\segment_12.wav...\n",
      "Writing D:/daps/daps/ipad_office1/segments/f10\\segment_13.wav...\n",
      "Writing D:/daps/daps/ipad_office1/segments/f10\\segment_14.wav...\n",
      "Writing D:/daps/daps/ipad_office1/segments/f10\\segment_15.wav...\n",
      "Writing D:/daps/daps/ipad_office1/segments/f10\\segment_16.wav...\n",
      "Writing D:/daps/daps/ipad_office1/segments/f10\\segment_17.wav...\n",
      "Writing D:/daps/daps/ipad_office1/segments/f10\\segment_18.wav...\n",
      "Writing D:/daps/daps/ipad_office1/segments/f10\\segment_19.wav...\n",
      "Writing D:/daps/daps/ipad_office1/segments/f10\\segment_20.wav...\n",
      "Writing D:/daps/daps/ipad_office1/segments/f10\\segment_21.wav...\n",
      "Writing D:/daps/daps/ipad_office1/segments/f10\\segment_22.wav...\n",
      "Writing D:/daps/daps/ipad_office1/segments/f10\\segment_23.wav...\n",
      "Skipping frame due to error: Error while processing frame\n",
      "Writing D:/daps/daps/ipad_office1/segments/f1\\segment_0.wav...\n",
      "Writing D:/daps/daps/ipad_office1/segments/f1\\segment_1.wav...\n",
      "Writing D:/daps/daps/ipad_office1/segments/f1\\segment_2.wav...\n",
      "Writing D:/daps/daps/ipad_office1/segments/f1\\segment_3.wav...\n",
      "Writing D:/daps/daps/ipad_office1/segments/f1\\segment_4.wav...\n",
      "Writing D:/daps/daps/ipad_office1/segments/f1\\segment_5.wav...\n",
      "Writing D:/daps/daps/ipad_office1/segments/f1\\segment_6.wav...\n",
      "Writing D:/daps/daps/ipad_office1/segments/f1\\segment_7.wav...\n",
      "Writing D:/daps/daps/ipad_office1/segments/f1\\segment_8.wav...\n",
      "Writing D:/daps/daps/ipad_office1/segments/f1\\segment_9.wav...\n",
      "Writing D:/daps/daps/ipad_office1/segments/f1\\segment_10.wav...\n",
      "Writing D:/daps/daps/ipad_office1/segments/f1\\segment_11.wav...\n",
      "Writing D:/daps/daps/ipad_office1/segments/f1\\segment_12.wav...\n",
      "Writing D:/daps/daps/ipad_office1/segments/f1\\segment_13.wav...\n",
      "Writing D:/daps/daps/ipad_office1/segments/f1\\segment_14.wav...\n",
      "Writing D:/daps/daps/ipad_office1/segments/f1\\segment_15.wav...\n",
      "Writing D:/daps/daps/ipad_office1/segments/f1\\segment_16.wav...\n",
      "Writing D:/daps/daps/ipad_office1/segments/f1\\segment_17.wav...\n",
      "Writing D:/daps/daps/ipad_office1/segments/f1\\segment_18.wav...\n",
      "Writing D:/daps/daps/ipad_office1/segments/f1\\segment_19.wav...\n",
      "Writing D:/daps/daps/ipad_office1/segments/f1\\segment_20.wav...\n",
      "Writing D:/daps/daps/ipad_office1/segments/f1\\segment_21.wav...\n",
      "Writing D:/daps/daps/ipad_office1/segments/f1\\segment_22.wav...\n",
      "Writing D:/daps/daps/ipad_office1/segments/f1\\segment_23.wav...\n",
      "Writing D:/daps/daps/ipad_office1/segments/f1\\segment_24.wav...\n",
      "Writing D:/daps/daps/ipad_office1/segments/f1\\segment_25.wav...\n",
      "Writing D:/daps/daps/ipad_office1/segments/f1\\segment_26.wav...\n",
      "Writing D:/daps/daps/ipad_office1/segments/f1\\segment_27.wav...\n",
      "Writing D:/daps/daps/ipad_office1/segments/f1\\segment_28.wav...\n",
      "Writing D:/daps/daps/ipad_office1/segments/f1\\segment_29.wav...\n",
      "Writing D:/daps/daps/ipad_office1/segments/f1\\segment_30.wav...\n",
      "Skipping frame due to error: Error while processing frame\n",
      "Writing D:/daps/daps/ipad_office1/segments/f1\\segment_0.wav...\n",
      "Writing D:/daps/daps/ipad_office1/segments/f1\\segment_1.wav...\n",
      "Writing D:/daps/daps/ipad_office1/segments/f1\\segment_2.wav...\n",
      "Writing D:/daps/daps/ipad_office1/segments/f1\\segment_3.wav...\n",
      "Writing D:/daps/daps/ipad_office1/segments/f1\\segment_4.wav...\n",
      "Writing D:/daps/daps/ipad_office1/segments/f1\\segment_5.wav...\n",
      "Writing D:/daps/daps/ipad_office1/segments/f1\\segment_6.wav...\n",
      "Writing D:/daps/daps/ipad_office1/segments/f1\\segment_7.wav...\n",
      "Writing D:/daps/daps/ipad_office1/segments/f1\\segment_8.wav...\n",
      "Writing D:/daps/daps/ipad_office1/segments/f1\\segment_9.wav...\n",
      "Writing D:/daps/daps/ipad_office1/segments/f1\\segment_10.wav...\n",
      "Writing D:/daps/daps/ipad_office1/segments/f1\\segment_11.wav...\n",
      "Writing D:/daps/daps/ipad_office1/segments/f1\\segment_12.wav...\n",
      "Writing D:/daps/daps/ipad_office1/segments/f1\\segment_13.wav...\n",
      "Writing D:/daps/daps/ipad_office1/segments/f1\\segment_14.wav...\n",
      "Writing D:/daps/daps/ipad_office1/segments/f1\\segment_15.wav...\n",
      "Writing D:/daps/daps/ipad_office1/segments/f1\\segment_16.wav...\n",
      "Writing D:/daps/daps/ipad_office1/segments/f1\\segment_17.wav...\n",
      "Writing D:/daps/daps/ipad_office1/segments/f1\\segment_18.wav...\n",
      "Writing D:/daps/daps/ipad_office1/segments/f1\\segment_19.wav...\n",
      "Writing D:/daps/daps/ipad_office1/segments/f1\\segment_20.wav...\n",
      "Writing D:/daps/daps/ipad_office1/segments/f1\\segment_21.wav...\n",
      "Writing D:/daps/daps/ipad_office1/segments/f1\\segment_22.wav...\n",
      "Writing D:/daps/daps/ipad_office1/segments/f1\\segment_23.wav...\n",
      "Writing D:/daps/daps/ipad_office1/segments/f1\\segment_24.wav...\n",
      "Writing D:/daps/daps/ipad_office1/segments/f1\\segment_25.wav...\n",
      "Writing D:/daps/daps/ipad_office1/segments/f1\\segment_26.wav...\n",
      "Writing D:/daps/daps/ipad_office1/segments/f1\\segment_27.wav...\n",
      "Writing D:/daps/daps/ipad_office1/segments/f1\\segment_28.wav...\n",
      "Writing D:/daps/daps/ipad_office1/segments/f1\\segment_29.wav...\n",
      "Writing D:/daps/daps/ipad_office1/segments/f1\\segment_30.wav...\n",
      "Writing D:/daps/daps/ipad_office1/segments/f1\\segment_31.wav...\n",
      "Writing D:/daps/daps/ipad_office1/segments/f1\\segment_32.wav...\n",
      "Writing D:/daps/daps/ipad_office1/segments/f1\\segment_33.wav...\n",
      "Writing D:/daps/daps/ipad_office1/segments/f1\\segment_34.wav...\n",
      "Writing D:/daps/daps/ipad_office1/segments/f1\\segment_35.wav...\n",
      "Writing D:/daps/daps/ipad_office1/segments/f1\\segment_36.wav...\n",
      "Skipping frame due to error: Error while processing frame\n",
      "Writing D:/daps/daps/ipad_office1/segments/f1\\segment_0.wav...\n",
      "Writing D:/daps/daps/ipad_office1/segments/f1\\segment_1.wav...\n",
      "Writing D:/daps/daps/ipad_office1/segments/f1\\segment_2.wav...\n",
      "Writing D:/daps/daps/ipad_office1/segments/f1\\segment_3.wav...\n",
      "Writing D:/daps/daps/ipad_office1/segments/f1\\segment_4.wav...\n",
      "Writing D:/daps/daps/ipad_office1/segments/f1\\segment_5.wav...\n",
      "Writing D:/daps/daps/ipad_office1/segments/f1\\segment_6.wav...\n",
      "Writing D:/daps/daps/ipad_office1/segments/f1\\segment_7.wav...\n",
      "Writing D:/daps/daps/ipad_office1/segments/f1\\segment_8.wav...\n",
      "Writing D:/daps/daps/ipad_office1/segments/f1\\segment_9.wav...\n",
      "Writing D:/daps/daps/ipad_office1/segments/f1\\segment_10.wav...\n",
      "Writing D:/daps/daps/ipad_office1/segments/f1\\segment_11.wav...\n",
      "Writing D:/daps/daps/ipad_office1/segments/f1\\segment_12.wav...\n",
      "Writing D:/daps/daps/ipad_office1/segments/f1\\segment_13.wav...\n",
      "Writing D:/daps/daps/ipad_office1/segments/f1\\segment_14.wav...\n",
      "Writing D:/daps/daps/ipad_office1/segments/f1\\segment_15.wav...\n",
      "Writing D:/daps/daps/ipad_office1/segments/f1\\segment_16.wav...\n",
      "Writing D:/daps/daps/ipad_office1/segments/f1\\segment_17.wav...\n",
      "Writing D:/daps/daps/ipad_office1/segments/f1\\segment_18.wav...\n",
      "Writing D:/daps/daps/ipad_office1/segments/f1\\segment_19.wav...\n",
      "Writing D:/daps/daps/ipad_office1/segments/f1\\segment_20.wav...\n",
      "Writing D:/daps/daps/ipad_office1/segments/f1\\segment_21.wav...\n",
      "Writing D:/daps/daps/ipad_office1/segments/f1\\segment_22.wav...\n",
      "Writing D:/daps/daps/ipad_office1/segments/f1\\segment_23.wav...\n",
      "Writing D:/daps/daps/ipad_office1/segments/f1\\segment_24.wav...\n",
      "Writing D:/daps/daps/ipad_office1/segments/f1\\segment_25.wav...\n",
      "Writing D:/daps/daps/ipad_office1/segments/f1\\segment_26.wav...\n",
      "Writing D:/daps/daps/ipad_office1/segments/f1\\segment_27.wav...\n",
      "Writing D:/daps/daps/ipad_office1/segments/f1\\segment_28.wav...\n",
      "Writing D:/daps/daps/ipad_office1/segments/f1\\segment_29.wav...\n",
      "Writing D:/daps/daps/ipad_office1/segments/f1\\segment_30.wav...\n",
      "Writing D:/daps/daps/ipad_office1/segments/f1\\segment_31.wav...\n",
      "Writing D:/daps/daps/ipad_office1/segments/f1\\segment_32.wav...\n",
      "Writing D:/daps/daps/ipad_office1/segments/f1\\segment_33.wav...\n",
      "Writing D:/daps/daps/ipad_office1/segments/f1\\segment_34.wav...\n",
      "Writing D:/daps/daps/ipad_office1/segments/f1\\segment_35.wav...\n",
      "Writing D:/daps/daps/ipad_office1/segments/f1\\segment_36.wav...\n",
      "Writing D:/daps/daps/ipad_office1/segments/f1\\segment_37.wav...\n",
      "Writing D:/daps/daps/ipad_office1/segments/f1\\segment_38.wav...\n",
      "Writing D:/daps/daps/ipad_office1/segments/f1\\segment_39.wav...\n",
      "Writing D:/daps/daps/ipad_office1/segments/f1\\segment_40.wav...\n",
      "Writing D:/daps/daps/ipad_office1/segments/f1\\segment_41.wav...\n",
      "Writing D:/daps/daps/ipad_office1/segments/f1\\segment_42.wav...\n",
      "Skipping frame due to error: Error while processing frame\n",
      "Writing D:/daps/daps/ipad_office1/segments/f1\\segment_0.wav...\n",
      "Writing D:/daps/daps/ipad_office1/segments/f1\\segment_1.wav...\n",
      "Writing D:/daps/daps/ipad_office1/segments/f1\\segment_2.wav...\n",
      "Writing D:/daps/daps/ipad_office1/segments/f1\\segment_3.wav...\n",
      "Writing D:/daps/daps/ipad_office1/segments/f1\\segment_4.wav...\n",
      "Writing D:/daps/daps/ipad_office1/segments/f1\\segment_5.wav...\n",
      "Writing D:/daps/daps/ipad_office1/segments/f1\\segment_6.wav...\n",
      "Writing D:/daps/daps/ipad_office1/segments/f1\\segment_7.wav...\n",
      "Writing D:/daps/daps/ipad_office1/segments/f1\\segment_8.wav...\n",
      "Writing D:/daps/daps/ipad_office1/segments/f1\\segment_9.wav...\n",
      "Writing D:/daps/daps/ipad_office1/segments/f1\\segment_10.wav...\n",
      "Writing D:/daps/daps/ipad_office1/segments/f1\\segment_11.wav...\n",
      "Writing D:/daps/daps/ipad_office1/segments/f1\\segment_12.wav...\n",
      "Writing D:/daps/daps/ipad_office1/segments/f1\\segment_13.wav...\n",
      "Writing D:/daps/daps/ipad_office1/segments/f1\\segment_14.wav...\n",
      "Writing D:/daps/daps/ipad_office1/segments/f1\\segment_15.wav...\n",
      "Writing D:/daps/daps/ipad_office1/segments/f1\\segment_16.wav...\n",
      "Writing D:/daps/daps/ipad_office1/segments/f1\\segment_17.wav...\n",
      "Writing D:/daps/daps/ipad_office1/segments/f1\\segment_18.wav...\n",
      "Writing D:/daps/daps/ipad_office1/segments/f1\\segment_19.wav...\n",
      "Writing D:/daps/daps/ipad_office1/segments/f1\\segment_20.wav...\n",
      "Writing D:/daps/daps/ipad_office1/segments/f1\\segment_21.wav...\n",
      "Writing D:/daps/daps/ipad_office1/segments/f1\\segment_22.wav...\n",
      "Writing D:/daps/daps/ipad_office1/segments/f1\\segment_23.wav...\n",
      "Writing D:/daps/daps/ipad_office1/segments/f1\\segment_24.wav...\n",
      "Writing D:/daps/daps/ipad_office1/segments/f1\\segment_25.wav...\n",
      "Skipping frame due to error: Error while processing frame\n",
      "Writing D:/daps/daps/ipad_office1/segments/f1\\segment_0.wav...\n",
      "Writing D:/daps/daps/ipad_office1/segments/f1\\segment_1.wav...\n",
      "Writing D:/daps/daps/ipad_office1/segments/f1\\segment_2.wav...\n",
      "Writing D:/daps/daps/ipad_office1/segments/f1\\segment_3.wav...\n",
      "Writing D:/daps/daps/ipad_office1/segments/f1\\segment_4.wav...\n",
      "Writing D:/daps/daps/ipad_office1/segments/f1\\segment_5.wav...\n",
      "Writing D:/daps/daps/ipad_office1/segments/f1\\segment_6.wav...\n",
      "Writing D:/daps/daps/ipad_office1/segments/f1\\segment_7.wav...\n",
      "Writing D:/daps/daps/ipad_office1/segments/f1\\segment_8.wav...\n",
      "Writing D:/daps/daps/ipad_office1/segments/f1\\segment_9.wav...\n",
      "Writing D:/daps/daps/ipad_office1/segments/f1\\segment_10.wav...\n",
      "Writing D:/daps/daps/ipad_office1/segments/f1\\segment_11.wav...\n",
      "Writing D:/daps/daps/ipad_office1/segments/f1\\segment_12.wav...\n",
      "Writing D:/daps/daps/ipad_office1/segments/f1\\segment_13.wav...\n",
      "Writing D:/daps/daps/ipad_office1/segments/f1\\segment_14.wav...\n",
      "Writing D:/daps/daps/ipad_office1/segments/f1\\segment_15.wav...\n",
      "Writing D:/daps/daps/ipad_office1/segments/f1\\segment_16.wav...\n",
      "Writing D:/daps/daps/ipad_office1/segments/f1\\segment_17.wav...\n",
      "Writing D:/daps/daps/ipad_office1/segments/f1\\segment_18.wav...\n",
      "Writing D:/daps/daps/ipad_office1/segments/f1\\segment_19.wav...\n",
      "Writing D:/daps/daps/ipad_office1/segments/f1\\segment_20.wav...\n",
      "Writing D:/daps/daps/ipad_office1/segments/f1\\segment_21.wav...\n",
      "Writing D:/daps/daps/ipad_office1/segments/f1\\segment_22.wav...\n",
      "Writing D:/daps/daps/ipad_office1/segments/f1\\segment_23.wav...\n",
      "Writing D:/daps/daps/ipad_office1/segments/f1\\segment_24.wav...\n",
      "Writing D:/daps/daps/ipad_office1/segments/f1\\segment_25.wav...\n",
      "Writing D:/daps/daps/ipad_office1/segments/f1\\segment_26.wav...\n",
      "Writing D:/daps/daps/ipad_office1/segments/f1\\segment_27.wav...\n",
      "Writing D:/daps/daps/ipad_office1/segments/f1\\segment_28.wav...\n",
      "Writing D:/daps/daps/ipad_office1/segments/f1\\segment_29.wav...\n",
      "Writing D:/daps/daps/ipad_office1/segments/f1\\segment_30.wav...\n",
      "Writing D:/daps/daps/ipad_office1/segments/f1\\segment_31.wav...\n",
      "Writing D:/daps/daps/ipad_office1/segments/f1\\segment_32.wav...\n",
      "Writing D:/daps/daps/ipad_office1/segments/f1\\segment_33.wav...\n",
      "Writing D:/daps/daps/ipad_office1/segments/f1\\segment_34.wav...\n",
      "Writing D:/daps/daps/ipad_office1/segments/f1\\segment_35.wav...\n",
      "Skipping frame due to error: Error while processing frame\n",
      "Writing D:/daps/daps/ipad_office1/segments/f2\\segment_0.wav...\n",
      "Writing D:/daps/daps/ipad_office1/segments/f2\\segment_1.wav...\n",
      "Writing D:/daps/daps/ipad_office1/segments/f2\\segment_2.wav...\n",
      "Writing D:/daps/daps/ipad_office1/segments/f2\\segment_3.wav...\n",
      "Writing D:/daps/daps/ipad_office1/segments/f2\\segment_4.wav...\n",
      "Writing D:/daps/daps/ipad_office1/segments/f2\\segment_5.wav...\n",
      "Writing D:/daps/daps/ipad_office1/segments/f2\\segment_6.wav...\n",
      "Writing D:/daps/daps/ipad_office1/segments/f2\\segment_7.wav...\n",
      "Writing D:/daps/daps/ipad_office1/segments/f2\\segment_8.wav...\n",
      "Writing D:/daps/daps/ipad_office1/segments/f2\\segment_9.wav...\n",
      "Writing D:/daps/daps/ipad_office1/segments/f2\\segment_10.wav...\n",
      "Writing D:/daps/daps/ipad_office1/segments/f2\\segment_11.wav...\n",
      "Writing D:/daps/daps/ipad_office1/segments/f2\\segment_12.wav...\n",
      "Writing D:/daps/daps/ipad_office1/segments/f2\\segment_13.wav...\n",
      "Writing D:/daps/daps/ipad_office1/segments/f2\\segment_14.wav...\n",
      "Writing D:/daps/daps/ipad_office1/segments/f2\\segment_15.wav...\n",
      "Writing D:/daps/daps/ipad_office1/segments/f2\\segment_16.wav...\n",
      "Writing D:/daps/daps/ipad_office1/segments/f2\\segment_17.wav...\n",
      "Writing D:/daps/daps/ipad_office1/segments/f2\\segment_18.wav...\n",
      "Writing D:/daps/daps/ipad_office1/segments/f2\\segment_19.wav...\n",
      "Writing D:/daps/daps/ipad_office1/segments/f2\\segment_20.wav...\n",
      "Writing D:/daps/daps/ipad_office1/segments/f2\\segment_21.wav...\n",
      "Writing D:/daps/daps/ipad_office1/segments/f2\\segment_22.wav...\n",
      "Writing D:/daps/daps/ipad_office1/segments/f2\\segment_23.wav...\n",
      "Writing D:/daps/daps/ipad_office1/segments/f2\\segment_24.wav...\n",
      "Skipping frame due to error: Error while processing frame\n",
      "Writing D:/daps/daps/ipad_office1/segments/f2\\segment_0.wav...\n",
      "Writing D:/daps/daps/ipad_office1/segments/f2\\segment_1.wav...\n",
      "Writing D:/daps/daps/ipad_office1/segments/f2\\segment_2.wav...\n",
      "Writing D:/daps/daps/ipad_office1/segments/f2\\segment_3.wav...\n",
      "Writing D:/daps/daps/ipad_office1/segments/f2\\segment_4.wav...\n",
      "Writing D:/daps/daps/ipad_office1/segments/f2\\segment_5.wav...\n",
      "Writing D:/daps/daps/ipad_office1/segments/f2\\segment_6.wav...\n",
      "Writing D:/daps/daps/ipad_office1/segments/f2\\segment_7.wav...\n",
      "Writing D:/daps/daps/ipad_office1/segments/f2\\segment_8.wav...\n",
      "Writing D:/daps/daps/ipad_office1/segments/f2\\segment_9.wav...\n",
      "Writing D:/daps/daps/ipad_office1/segments/f2\\segment_10.wav...\n",
      "Writing D:/daps/daps/ipad_office1/segments/f2\\segment_11.wav...\n",
      "Writing D:/daps/daps/ipad_office1/segments/f2\\segment_12.wav...\n",
      "Writing D:/daps/daps/ipad_office1/segments/f2\\segment_13.wav...\n",
      "Writing D:/daps/daps/ipad_office1/segments/f2\\segment_14.wav...\n",
      "Writing D:/daps/daps/ipad_office1/segments/f2\\segment_15.wav...\n",
      "Writing D:/daps/daps/ipad_office1/segments/f2\\segment_16.wav...\n",
      "Writing D:/daps/daps/ipad_office1/segments/f2\\segment_17.wav...\n",
      "Writing D:/daps/daps/ipad_office1/segments/f2\\segment_18.wav...\n",
      "Writing D:/daps/daps/ipad_office1/segments/f2\\segment_19.wav...\n",
      "Writing D:/daps/daps/ipad_office1/segments/f2\\segment_20.wav...\n",
      "Writing D:/daps/daps/ipad_office1/segments/f2\\segment_21.wav...\n",
      "Writing D:/daps/daps/ipad_office1/segments/f2\\segment_22.wav...\n",
      "Writing D:/daps/daps/ipad_office1/segments/f2\\segment_23.wav...\n",
      "Writing D:/daps/daps/ipad_office1/segments/f2\\segment_24.wav...\n",
      "Writing D:/daps/daps/ipad_office1/segments/f2\\segment_25.wav...\n",
      "Writing D:/daps/daps/ipad_office1/segments/f2\\segment_26.wav...\n",
      "Writing D:/daps/daps/ipad_office1/segments/f2\\segment_27.wav...\n",
      "Skipping frame due to error: Error while processing frame\n",
      "Writing D:/daps/daps/ipad_office1/segments/f2\\segment_0.wav...\n",
      "Writing D:/daps/daps/ipad_office1/segments/f2\\segment_1.wav...\n",
      "Writing D:/daps/daps/ipad_office1/segments/f2\\segment_2.wav...\n",
      "Writing D:/daps/daps/ipad_office1/segments/f2\\segment_3.wav...\n",
      "Writing D:/daps/daps/ipad_office1/segments/f2\\segment_4.wav...\n",
      "Writing D:/daps/daps/ipad_office1/segments/f2\\segment_5.wav...\n",
      "Writing D:/daps/daps/ipad_office1/segments/f2\\segment_6.wav...\n",
      "Writing D:/daps/daps/ipad_office1/segments/f2\\segment_7.wav...\n",
      "Writing D:/daps/daps/ipad_office1/segments/f2\\segment_8.wav...\n",
      "Writing D:/daps/daps/ipad_office1/segments/f2\\segment_9.wav...\n",
      "Writing D:/daps/daps/ipad_office1/segments/f2\\segment_10.wav...\n",
      "Writing D:/daps/daps/ipad_office1/segments/f2\\segment_11.wav...\n",
      "Writing D:/daps/daps/ipad_office1/segments/f2\\segment_12.wav...\n",
      "Writing D:/daps/daps/ipad_office1/segments/f2\\segment_13.wav...\n",
      "Writing D:/daps/daps/ipad_office1/segments/f2\\segment_14.wav...\n",
      "Writing D:/daps/daps/ipad_office1/segments/f2\\segment_15.wav...\n",
      "Writing D:/daps/daps/ipad_office1/segments/f2\\segment_16.wav...\n",
      "Writing D:/daps/daps/ipad_office1/segments/f2\\segment_17.wav...\n",
      "Writing D:/daps/daps/ipad_office1/segments/f2\\segment_18.wav...\n",
      "Writing D:/daps/daps/ipad_office1/segments/f2\\segment_19.wav...\n",
      "Writing D:/daps/daps/ipad_office1/segments/f2\\segment_20.wav...\n",
      "Writing D:/daps/daps/ipad_office1/segments/f2\\segment_21.wav...\n",
      "Writing D:/daps/daps/ipad_office1/segments/f2\\segment_22.wav...\n",
      "Writing D:/daps/daps/ipad_office1/segments/f2\\segment_23.wav...\n",
      "Writing D:/daps/daps/ipad_office1/segments/f2\\segment_24.wav...\n",
      "Skipping frame due to error: Error while processing frame\n",
      "Writing D:/daps/daps/ipad_office1/segments/f2\\segment_0.wav...\n",
      "Writing D:/daps/daps/ipad_office1/segments/f2\\segment_1.wav...\n",
      "Writing D:/daps/daps/ipad_office1/segments/f2\\segment_2.wav...\n",
      "Writing D:/daps/daps/ipad_office1/segments/f2\\segment_3.wav...\n",
      "Writing D:/daps/daps/ipad_office1/segments/f2\\segment_4.wav...\n",
      "Writing D:/daps/daps/ipad_office1/segments/f2\\segment_5.wav...\n",
      "Writing D:/daps/daps/ipad_office1/segments/f2\\segment_6.wav...\n",
      "Writing D:/daps/daps/ipad_office1/segments/f2\\segment_7.wav...\n",
      "Writing D:/daps/daps/ipad_office1/segments/f2\\segment_8.wav...\n",
      "Writing D:/daps/daps/ipad_office1/segments/f2\\segment_9.wav...\n",
      "Writing D:/daps/daps/ipad_office1/segments/f2\\segment_10.wav...\n",
      "Writing D:/daps/daps/ipad_office1/segments/f2\\segment_11.wav...\n",
      "Writing D:/daps/daps/ipad_office1/segments/f2\\segment_12.wav...\n",
      "Writing D:/daps/daps/ipad_office1/segments/f2\\segment_13.wav...\n",
      "Writing D:/daps/daps/ipad_office1/segments/f2\\segment_14.wav...\n",
      "Writing D:/daps/daps/ipad_office1/segments/f2\\segment_15.wav...\n",
      "Writing D:/daps/daps/ipad_office1/segments/f2\\segment_16.wav...\n",
      "Writing D:/daps/daps/ipad_office1/segments/f2\\segment_17.wav...\n",
      "Writing D:/daps/daps/ipad_office1/segments/f2\\segment_18.wav...\n",
      "Writing D:/daps/daps/ipad_office1/segments/f2\\segment_19.wav...\n",
      "Writing D:/daps/daps/ipad_office1/segments/f2\\segment_20.wav...\n",
      "Writing D:/daps/daps/ipad_office1/segments/f2\\segment_21.wav...\n",
      "Writing D:/daps/daps/ipad_office1/segments/f2\\segment_22.wav...\n",
      "Skipping frame due to error: Error while processing frame\n",
      "Writing D:/daps/daps/ipad_office1/segments/f2\\segment_0.wav...\n",
      "Writing D:/daps/daps/ipad_office1/segments/f2\\segment_1.wav...\n",
      "Writing D:/daps/daps/ipad_office1/segments/f2\\segment_2.wav...\n",
      "Writing D:/daps/daps/ipad_office1/segments/f2\\segment_3.wav...\n",
      "Writing D:/daps/daps/ipad_office1/segments/f2\\segment_4.wav...\n",
      "Writing D:/daps/daps/ipad_office1/segments/f2\\segment_5.wav...\n",
      "Writing D:/daps/daps/ipad_office1/segments/f2\\segment_6.wav...\n",
      "Writing D:/daps/daps/ipad_office1/segments/f2\\segment_7.wav...\n",
      "Writing D:/daps/daps/ipad_office1/segments/f2\\segment_8.wav...\n",
      "Writing D:/daps/daps/ipad_office1/segments/f2\\segment_9.wav...\n",
      "Writing D:/daps/daps/ipad_office1/segments/f2\\segment_10.wav...\n",
      "Writing D:/daps/daps/ipad_office1/segments/f2\\segment_11.wav...\n",
      "Writing D:/daps/daps/ipad_office1/segments/f2\\segment_12.wav...\n",
      "Writing D:/daps/daps/ipad_office1/segments/f2\\segment_13.wav...\n",
      "Writing D:/daps/daps/ipad_office1/segments/f2\\segment_14.wav...\n",
      "Writing D:/daps/daps/ipad_office1/segments/f2\\segment_15.wav...\n",
      "Writing D:/daps/daps/ipad_office1/segments/f2\\segment_16.wav...\n",
      "Writing D:/daps/daps/ipad_office1/segments/f2\\segment_17.wav...\n",
      "Writing D:/daps/daps/ipad_office1/segments/f2\\segment_18.wav...\n",
      "Writing D:/daps/daps/ipad_office1/segments/f2\\segment_19.wav...\n",
      "Writing D:/daps/daps/ipad_office1/segments/f2\\segment_20.wav...\n",
      "Writing D:/daps/daps/ipad_office1/segments/f2\\segment_21.wav...\n",
      "Writing D:/daps/daps/ipad_office1/segments/f2\\segment_22.wav...\n",
      "Writing D:/daps/daps/ipad_office1/segments/f2\\segment_23.wav...\n",
      "Writing D:/daps/daps/ipad_office1/segments/f2\\segment_24.wav...\n",
      "Writing D:/daps/daps/ipad_office1/segments/f2\\segment_25.wav...\n",
      "Writing D:/daps/daps/ipad_office1/segments/f2\\segment_26.wav...\n",
      "Writing D:/daps/daps/ipad_office1/segments/f2\\segment_27.wav...\n",
      "Writing D:/daps/daps/ipad_office1/segments/f2\\segment_28.wav...\n",
      "Writing D:/daps/daps/ipad_office1/segments/f2\\segment_29.wav...\n",
      "Writing D:/daps/daps/ipad_office1/segments/f2\\segment_30.wav...\n",
      "Writing D:/daps/daps/ipad_office1/segments/f2\\segment_31.wav...\n",
      "Skipping frame due to error: Error while processing frame\n",
      "Writing D:/daps/daps/ipad_office1/segments/f3\\segment_0.wav...\n",
      "Writing D:/daps/daps/ipad_office1/segments/f3\\segment_1.wav...\n",
      "Writing D:/daps/daps/ipad_office1/segments/f3\\segment_2.wav...\n",
      "Writing D:/daps/daps/ipad_office1/segments/f3\\segment_3.wav...\n",
      "Writing D:/daps/daps/ipad_office1/segments/f3\\segment_4.wav...\n",
      "Writing D:/daps/daps/ipad_office1/segments/f3\\segment_5.wav...\n",
      "Writing D:/daps/daps/ipad_office1/segments/f3\\segment_6.wav...\n",
      "Writing D:/daps/daps/ipad_office1/segments/f3\\segment_7.wav...\n",
      "Writing D:/daps/daps/ipad_office1/segments/f3\\segment_8.wav...\n",
      "Writing D:/daps/daps/ipad_office1/segments/f3\\segment_9.wav...\n",
      "Writing D:/daps/daps/ipad_office1/segments/f3\\segment_10.wav...\n",
      "Writing D:/daps/daps/ipad_office1/segments/f3\\segment_11.wav...\n",
      "Writing D:/daps/daps/ipad_office1/segments/f3\\segment_12.wav...\n",
      "Writing D:/daps/daps/ipad_office1/segments/f3\\segment_13.wav...\n",
      "Writing D:/daps/daps/ipad_office1/segments/f3\\segment_14.wav...\n",
      "Writing D:/daps/daps/ipad_office1/segments/f3\\segment_15.wav...\n",
      "Writing D:/daps/daps/ipad_office1/segments/f3\\segment_16.wav...\n",
      "Writing D:/daps/daps/ipad_office1/segments/f3\\segment_17.wav...\n",
      "Writing D:/daps/daps/ipad_office1/segments/f3\\segment_18.wav...\n",
      "Skipping frame due to error: Error while processing frame\n",
      "Writing D:/daps/daps/ipad_office1/segments/f3\\segment_0.wav...\n",
      "Writing D:/daps/daps/ipad_office1/segments/f3\\segment_1.wav...\n",
      "Writing D:/daps/daps/ipad_office1/segments/f3\\segment_2.wav...\n",
      "Writing D:/daps/daps/ipad_office1/segments/f3\\segment_3.wav...\n",
      "Writing D:/daps/daps/ipad_office1/segments/f3\\segment_4.wav...\n",
      "Writing D:/daps/daps/ipad_office1/segments/f3\\segment_5.wav...\n",
      "Writing D:/daps/daps/ipad_office1/segments/f3\\segment_6.wav...\n",
      "Writing D:/daps/daps/ipad_office1/segments/f3\\segment_7.wav...\n",
      "Writing D:/daps/daps/ipad_office1/segments/f3\\segment_8.wav...\n",
      "Writing D:/daps/daps/ipad_office1/segments/f3\\segment_9.wav...\n",
      "Writing D:/daps/daps/ipad_office1/segments/f3\\segment_10.wav...\n",
      "Writing D:/daps/daps/ipad_office1/segments/f3\\segment_11.wav...\n",
      "Writing D:/daps/daps/ipad_office1/segments/f3\\segment_12.wav...\n",
      "Writing D:/daps/daps/ipad_office1/segments/f3\\segment_13.wav...\n",
      "Writing D:/daps/daps/ipad_office1/segments/f3\\segment_14.wav...\n",
      "Writing D:/daps/daps/ipad_office1/segments/f3\\segment_15.wav...\n",
      "Writing D:/daps/daps/ipad_office1/segments/f3\\segment_16.wav...\n",
      "Writing D:/daps/daps/ipad_office1/segments/f3\\segment_17.wav...\n",
      "Writing D:/daps/daps/ipad_office1/segments/f3\\segment_18.wav...\n",
      "Skipping frame due to error: Error while processing frame\n",
      "Writing D:/daps/daps/ipad_office1/segments/f3\\segment_0.wav...\n",
      "Writing D:/daps/daps/ipad_office1/segments/f3\\segment_1.wav...\n",
      "Writing D:/daps/daps/ipad_office1/segments/f3\\segment_2.wav...\n",
      "Writing D:/daps/daps/ipad_office1/segments/f3\\segment_3.wav...\n",
      "Writing D:/daps/daps/ipad_office1/segments/f3\\segment_4.wav...\n",
      "Writing D:/daps/daps/ipad_office1/segments/f3\\segment_5.wav...\n",
      "Writing D:/daps/daps/ipad_office1/segments/f3\\segment_6.wav...\n",
      "Writing D:/daps/daps/ipad_office1/segments/f3\\segment_7.wav...\n",
      "Writing D:/daps/daps/ipad_office1/segments/f3\\segment_8.wav...\n",
      "Writing D:/daps/daps/ipad_office1/segments/f3\\segment_9.wav...\n",
      "Writing D:/daps/daps/ipad_office1/segments/f3\\segment_10.wav...\n",
      "Writing D:/daps/daps/ipad_office1/segments/f3\\segment_11.wav...\n",
      "Writing D:/daps/daps/ipad_office1/segments/f3\\segment_12.wav...\n",
      "Writing D:/daps/daps/ipad_office1/segments/f3\\segment_13.wav...\n",
      "Writing D:/daps/daps/ipad_office1/segments/f3\\segment_14.wav...\n",
      "Writing D:/daps/daps/ipad_office1/segments/f3\\segment_15.wav...\n",
      "Writing D:/daps/daps/ipad_office1/segments/f3\\segment_16.wav...\n",
      "Writing D:/daps/daps/ipad_office1/segments/f3\\segment_17.wav...\n",
      "Writing D:/daps/daps/ipad_office1/segments/f3\\segment_18.wav...\n",
      "Writing D:/daps/daps/ipad_office1/segments/f3\\segment_19.wav...\n",
      "Writing D:/daps/daps/ipad_office1/segments/f3\\segment_20.wav...\n",
      "Writing D:/daps/daps/ipad_office1/segments/f3\\segment_21.wav...\n",
      "Writing D:/daps/daps/ipad_office1/segments/f3\\segment_22.wav...\n",
      "Writing D:/daps/daps/ipad_office1/segments/f3\\segment_23.wav...\n",
      "Writing D:/daps/daps/ipad_office1/segments/f3\\segment_24.wav...\n",
      "Writing D:/daps/daps/ipad_office1/segments/f3\\segment_25.wav...\n",
      "Writing D:/daps/daps/ipad_office1/segments/f3\\segment_26.wav...\n",
      "Skipping frame due to error: Error while processing frame\n",
      "Writing D:/daps/daps/ipad_office1/segments/f3\\segment_0.wav...\n",
      "Writing D:/daps/daps/ipad_office1/segments/f3\\segment_1.wav...\n",
      "Writing D:/daps/daps/ipad_office1/segments/f3\\segment_2.wav...\n",
      "Writing D:/daps/daps/ipad_office1/segments/f3\\segment_3.wav...\n",
      "Writing D:/daps/daps/ipad_office1/segments/f3\\segment_4.wav...\n",
      "Writing D:/daps/daps/ipad_office1/segments/f3\\segment_5.wav...\n",
      "Writing D:/daps/daps/ipad_office1/segments/f3\\segment_6.wav...\n",
      "Writing D:/daps/daps/ipad_office1/segments/f3\\segment_7.wav...\n",
      "Writing D:/daps/daps/ipad_office1/segments/f3\\segment_8.wav...\n",
      "Writing D:/daps/daps/ipad_office1/segments/f3\\segment_9.wav...\n",
      "Writing D:/daps/daps/ipad_office1/segments/f3\\segment_10.wav...\n",
      "Writing D:/daps/daps/ipad_office1/segments/f3\\segment_11.wav...\n",
      "Writing D:/daps/daps/ipad_office1/segments/f3\\segment_12.wav...\n",
      "Writing D:/daps/daps/ipad_office1/segments/f3\\segment_13.wav...\n",
      "Writing D:/daps/daps/ipad_office1/segments/f3\\segment_14.wav...\n",
      "Writing D:/daps/daps/ipad_office1/segments/f3\\segment_15.wav...\n",
      "Writing D:/daps/daps/ipad_office1/segments/f3\\segment_16.wav...\n",
      "Writing D:/daps/daps/ipad_office1/segments/f3\\segment_17.wav...\n",
      "Writing D:/daps/daps/ipad_office1/segments/f3\\segment_18.wav...\n",
      "Skipping frame due to error: Error while processing frame\n",
      "Writing D:/daps/daps/ipad_office1/segments/f3\\segment_19.wav...\n",
      "Writing D:/daps/daps/ipad_office1/segments/f3\\segment_0.wav...\n",
      "Writing D:/daps/daps/ipad_office1/segments/f3\\segment_1.wav...\n",
      "Writing D:/daps/daps/ipad_office1/segments/f3\\segment_2.wav...\n",
      "Writing D:/daps/daps/ipad_office1/segments/f3\\segment_3.wav...\n",
      "Writing D:/daps/daps/ipad_office1/segments/f3\\segment_4.wav...\n",
      "Writing D:/daps/daps/ipad_office1/segments/f3\\segment_5.wav...\n",
      "Writing D:/daps/daps/ipad_office1/segments/f3\\segment_6.wav...\n",
      "Writing D:/daps/daps/ipad_office1/segments/f3\\segment_7.wav...\n",
      "Writing D:/daps/daps/ipad_office1/segments/f3\\segment_8.wav...\n",
      "Writing D:/daps/daps/ipad_office1/segments/f3\\segment_9.wav...\n",
      "Writing D:/daps/daps/ipad_office1/segments/f3\\segment_10.wav...\n",
      "Writing D:/daps/daps/ipad_office1/segments/f3\\segment_11.wav...\n",
      "Writing D:/daps/daps/ipad_office1/segments/f3\\segment_12.wav...\n",
      "Writing D:/daps/daps/ipad_office1/segments/f3\\segment_13.wav...\n",
      "Writing D:/daps/daps/ipad_office1/segments/f3\\segment_14.wav...\n",
      "Writing D:/daps/daps/ipad_office1/segments/f3\\segment_15.wav...\n",
      "Writing D:/daps/daps/ipad_office1/segments/f3\\segment_16.wav...\n",
      "Writing D:/daps/daps/ipad_office1/segments/f3\\segment_17.wav...\n",
      "Writing D:/daps/daps/ipad_office1/segments/f3\\segment_18.wav...\n",
      "Writing D:/daps/daps/ipad_office1/segments/f3\\segment_19.wav...\n",
      "Writing D:/daps/daps/ipad_office1/segments/f3\\segment_20.wav...\n",
      "Writing D:/daps/daps/ipad_office1/segments/f3\\segment_21.wav...\n",
      "Writing D:/daps/daps/ipad_office1/segments/f3\\segment_22.wav...\n",
      "Skipping frame due to error: Error while processing frame\n",
      "Writing D:/daps/daps/ipad_office1/segments/f4\\segment_0.wav...\n",
      "Writing D:/daps/daps/ipad_office1/segments/f4\\segment_1.wav...\n",
      "Writing D:/daps/daps/ipad_office1/segments/f4\\segment_2.wav...\n",
      "Writing D:/daps/daps/ipad_office1/segments/f4\\segment_3.wav...\n",
      "Writing D:/daps/daps/ipad_office1/segments/f4\\segment_4.wav...\n",
      "Writing D:/daps/daps/ipad_office1/segments/f4\\segment_5.wav...\n",
      "Writing D:/daps/daps/ipad_office1/segments/f4\\segment_6.wav...\n",
      "Writing D:/daps/daps/ipad_office1/segments/f4\\segment_7.wav...\n",
      "Writing D:/daps/daps/ipad_office1/segments/f4\\segment_8.wav...\n",
      "Writing D:/daps/daps/ipad_office1/segments/f4\\segment_9.wav...\n",
      "Writing D:/daps/daps/ipad_office1/segments/f4\\segment_10.wav...\n",
      "Writing D:/daps/daps/ipad_office1/segments/f4\\segment_11.wav...\n",
      "Writing D:/daps/daps/ipad_office1/segments/f4\\segment_12.wav...\n",
      "Writing D:/daps/daps/ipad_office1/segments/f4\\segment_13.wav...\n",
      "Writing D:/daps/daps/ipad_office1/segments/f4\\segment_14.wav...\n",
      "Writing D:/daps/daps/ipad_office1/segments/f4\\segment_15.wav...\n",
      "Writing D:/daps/daps/ipad_office1/segments/f4\\segment_16.wav...\n",
      "Writing D:/daps/daps/ipad_office1/segments/f4\\segment_17.wav...\n",
      "Writing D:/daps/daps/ipad_office1/segments/f4\\segment_18.wav...\n",
      "Writing D:/daps/daps/ipad_office1/segments/f4\\segment_19.wav...\n",
      "Writing D:/daps/daps/ipad_office1/segments/f4\\segment_20.wav...\n",
      "Writing D:/daps/daps/ipad_office1/segments/f4\\segment_21.wav...\n",
      "Skipping frame due to error: Error while processing frame\n",
      "Writing D:/daps/daps/ipad_office1/segments/f4\\segment_0.wav...\n",
      "Writing D:/daps/daps/ipad_office1/segments/f4\\segment_1.wav...\n",
      "Writing D:/daps/daps/ipad_office1/segments/f4\\segment_2.wav...\n",
      "Writing D:/daps/daps/ipad_office1/segments/f4\\segment_3.wav...\n",
      "Writing D:/daps/daps/ipad_office1/segments/f4\\segment_4.wav...\n",
      "Writing D:/daps/daps/ipad_office1/segments/f4\\segment_5.wav...\n",
      "Writing D:/daps/daps/ipad_office1/segments/f4\\segment_6.wav...\n",
      "Writing D:/daps/daps/ipad_office1/segments/f4\\segment_7.wav...\n",
      "Writing D:/daps/daps/ipad_office1/segments/f4\\segment_8.wav...\n",
      "Writing D:/daps/daps/ipad_office1/segments/f4\\segment_9.wav...\n",
      "Writing D:/daps/daps/ipad_office1/segments/f4\\segment_10.wav...\n",
      "Writing D:/daps/daps/ipad_office1/segments/f4\\segment_11.wav...\n",
      "Writing D:/daps/daps/ipad_office1/segments/f4\\segment_12.wav...\n",
      "Writing D:/daps/daps/ipad_office1/segments/f4\\segment_13.wav...\n",
      "Writing D:/daps/daps/ipad_office1/segments/f4\\segment_14.wav...\n",
      "Writing D:/daps/daps/ipad_office1/segments/f4\\segment_15.wav...\n",
      "Writing D:/daps/daps/ipad_office1/segments/f4\\segment_16.wav...\n",
      "Writing D:/daps/daps/ipad_office1/segments/f4\\segment_17.wav...\n",
      "Writing D:/daps/daps/ipad_office1/segments/f4\\segment_18.wav...\n",
      "Writing D:/daps/daps/ipad_office1/segments/f4\\segment_19.wav...\n",
      "Writing D:/daps/daps/ipad_office1/segments/f4\\segment_20.wav...\n",
      "Writing D:/daps/daps/ipad_office1/segments/f4\\segment_21.wav...\n",
      "Writing D:/daps/daps/ipad_office1/segments/f4\\segment_22.wav...\n",
      "Skipping frame due to error: Error while processing frame\n",
      "Writing D:/daps/daps/ipad_office1/segments/f4\\segment_0.wav...\n",
      "Writing D:/daps/daps/ipad_office1/segments/f4\\segment_1.wav...\n",
      "Writing D:/daps/daps/ipad_office1/segments/f4\\segment_2.wav...\n",
      "Writing D:/daps/daps/ipad_office1/segments/f4\\segment_3.wav...\n",
      "Writing D:/daps/daps/ipad_office1/segments/f4\\segment_4.wav...\n",
      "Writing D:/daps/daps/ipad_office1/segments/f4\\segment_5.wav...\n",
      "Writing D:/daps/daps/ipad_office1/segments/f4\\segment_6.wav...\n",
      "Writing D:/daps/daps/ipad_office1/segments/f4\\segment_7.wav...\n",
      "Writing D:/daps/daps/ipad_office1/segments/f4\\segment_8.wav...\n",
      "Writing D:/daps/daps/ipad_office1/segments/f4\\segment_9.wav...\n",
      "Writing D:/daps/daps/ipad_office1/segments/f4\\segment_10.wav...\n",
      "Writing D:/daps/daps/ipad_office1/segments/f4\\segment_11.wav...\n",
      "Writing D:/daps/daps/ipad_office1/segments/f4\\segment_12.wav...\n",
      "Writing D:/daps/daps/ipad_office1/segments/f4\\segment_13.wav...\n",
      "Writing D:/daps/daps/ipad_office1/segments/f4\\segment_14.wav...\n",
      "Writing D:/daps/daps/ipad_office1/segments/f4\\segment_15.wav...\n",
      "Writing D:/daps/daps/ipad_office1/segments/f4\\segment_16.wav...\n",
      "Writing D:/daps/daps/ipad_office1/segments/f4\\segment_17.wav...\n",
      "Writing D:/daps/daps/ipad_office1/segments/f4\\segment_18.wav...\n",
      "Writing D:/daps/daps/ipad_office1/segments/f4\\segment_19.wav...\n",
      "Writing D:/daps/daps/ipad_office1/segments/f4\\segment_20.wav...\n",
      "Skipping frame due to error: Error while processing frame\n",
      "Writing D:/daps/daps/ipad_office1/segments/f4\\segment_0.wav...\n",
      "Writing D:/daps/daps/ipad_office1/segments/f4\\segment_1.wav...\n",
      "Writing D:/daps/daps/ipad_office1/segments/f4\\segment_2.wav...\n",
      "Writing D:/daps/daps/ipad_office1/segments/f4\\segment_3.wav...\n",
      "Writing D:/daps/daps/ipad_office1/segments/f4\\segment_4.wav...\n",
      "Writing D:/daps/daps/ipad_office1/segments/f4\\segment_5.wav...\n",
      "Writing D:/daps/daps/ipad_office1/segments/f4\\segment_6.wav...\n",
      "Writing D:/daps/daps/ipad_office1/segments/f4\\segment_7.wav...\n",
      "Writing D:/daps/daps/ipad_office1/segments/f4\\segment_8.wav...\n",
      "Writing D:/daps/daps/ipad_office1/segments/f4\\segment_9.wav...\n",
      "Writing D:/daps/daps/ipad_office1/segments/f4\\segment_10.wav...\n",
      "Writing D:/daps/daps/ipad_office1/segments/f4\\segment_11.wav...\n",
      "Writing D:/daps/daps/ipad_office1/segments/f4\\segment_12.wav...\n",
      "Skipping frame due to error: Error while processing frame\n",
      "Writing D:/daps/daps/ipad_office1/segments/f4\\segment_0.wav...\n",
      "Writing D:/daps/daps/ipad_office1/segments/f4\\segment_1.wav...\n",
      "Writing D:/daps/daps/ipad_office1/segments/f4\\segment_2.wav...\n",
      "Writing D:/daps/daps/ipad_office1/segments/f4\\segment_3.wav...\n",
      "Writing D:/daps/daps/ipad_office1/segments/f4\\segment_4.wav...\n",
      "Writing D:/daps/daps/ipad_office1/segments/f4\\segment_5.wav...\n",
      "Writing D:/daps/daps/ipad_office1/segments/f4\\segment_6.wav...\n",
      "Writing D:/daps/daps/ipad_office1/segments/f4\\segment_7.wav...\n",
      "Writing D:/daps/daps/ipad_office1/segments/f4\\segment_8.wav...\n",
      "Writing D:/daps/daps/ipad_office1/segments/f4\\segment_9.wav...\n",
      "Writing D:/daps/daps/ipad_office1/segments/f4\\segment_10.wav...\n",
      "Writing D:/daps/daps/ipad_office1/segments/f4\\segment_11.wav...\n",
      "Writing D:/daps/daps/ipad_office1/segments/f4\\segment_12.wav...\n",
      "Writing D:/daps/daps/ipad_office1/segments/f4\\segment_13.wav...\n",
      "Writing D:/daps/daps/ipad_office1/segments/f4\\segment_14.wav...\n",
      "Writing D:/daps/daps/ipad_office1/segments/f4\\segment_15.wav...\n",
      "Writing D:/daps/daps/ipad_office1/segments/f4\\segment_16.wav...\n",
      "Writing D:/daps/daps/ipad_office1/segments/f4\\segment_17.wav...\n",
      "Skipping frame due to error: Error while processing frame\n",
      "Writing D:/daps/daps/ipad_office1/segments/f5\\segment_0.wav...\n",
      "Writing D:/daps/daps/ipad_office1/segments/f5\\segment_1.wav...\n",
      "Writing D:/daps/daps/ipad_office1/segments/f5\\segment_2.wav...\n",
      "Writing D:/daps/daps/ipad_office1/segments/f5\\segment_3.wav...\n",
      "Writing D:/daps/daps/ipad_office1/segments/f5\\segment_4.wav...\n",
      "Writing D:/daps/daps/ipad_office1/segments/f5\\segment_5.wav...\n",
      "Writing D:/daps/daps/ipad_office1/segments/f5\\segment_6.wav...\n",
      "Writing D:/daps/daps/ipad_office1/segments/f5\\segment_7.wav...\n",
      "Writing D:/daps/daps/ipad_office1/segments/f5\\segment_8.wav...\n",
      "Writing D:/daps/daps/ipad_office1/segments/f5\\segment_9.wav...\n",
      "Writing D:/daps/daps/ipad_office1/segments/f5\\segment_10.wav...\n",
      "Writing D:/daps/daps/ipad_office1/segments/f5\\segment_11.wav...\n",
      "Writing D:/daps/daps/ipad_office1/segments/f5\\segment_12.wav...\n",
      "Writing D:/daps/daps/ipad_office1/segments/f5\\segment_13.wav...\n",
      "Writing D:/daps/daps/ipad_office1/segments/f5\\segment_14.wav...\n",
      "Writing D:/daps/daps/ipad_office1/segments/f5\\segment_15.wav...\n",
      "Writing D:/daps/daps/ipad_office1/segments/f5\\segment_16.wav...\n",
      "Writing D:/daps/daps/ipad_office1/segments/f5\\segment_17.wav...\n",
      "Writing D:/daps/daps/ipad_office1/segments/f5\\segment_18.wav...\n",
      "Writing D:/daps/daps/ipad_office1/segments/f5\\segment_19.wav...\n",
      "Writing D:/daps/daps/ipad_office1/segments/f5\\segment_20.wav...\n",
      "Writing D:/daps/daps/ipad_office1/segments/f5\\segment_21.wav...\n",
      "Skipping frame due to error: Error while processing frame\n",
      "Writing D:/daps/daps/ipad_office1/segments/f5\\segment_0.wav...\n",
      "Writing D:/daps/daps/ipad_office1/segments/f5\\segment_1.wav...\n",
      "Writing D:/daps/daps/ipad_office1/segments/f5\\segment_2.wav...\n",
      "Writing D:/daps/daps/ipad_office1/segments/f5\\segment_3.wav...\n",
      "Writing D:/daps/daps/ipad_office1/segments/f5\\segment_4.wav...\n",
      "Writing D:/daps/daps/ipad_office1/segments/f5\\segment_5.wav...\n",
      "Writing D:/daps/daps/ipad_office1/segments/f5\\segment_6.wav...\n",
      "Writing D:/daps/daps/ipad_office1/segments/f5\\segment_7.wav...\n",
      "Writing D:/daps/daps/ipad_office1/segments/f5\\segment_8.wav...\n",
      "Writing D:/daps/daps/ipad_office1/segments/f5\\segment_9.wav...\n",
      "Writing D:/daps/daps/ipad_office1/segments/f5\\segment_10.wav...\n",
      "Writing D:/daps/daps/ipad_office1/segments/f5\\segment_11.wav...\n",
      "Writing D:/daps/daps/ipad_office1/segments/f5\\segment_12.wav...\n",
      "Writing D:/daps/daps/ipad_office1/segments/f5\\segment_13.wav...\n",
      "Writing D:/daps/daps/ipad_office1/segments/f5\\segment_14.wav...\n",
      "Writing D:/daps/daps/ipad_office1/segments/f5\\segment_15.wav...\n",
      "Writing D:/daps/daps/ipad_office1/segments/f5\\segment_16.wav...\n",
      "Writing D:/daps/daps/ipad_office1/segments/f5\\segment_17.wav...\n",
      "Writing D:/daps/daps/ipad_office1/segments/f5\\segment_18.wav...\n",
      "Writing D:/daps/daps/ipad_office1/segments/f5\\segment_19.wav...\n",
      "Writing D:/daps/daps/ipad_office1/segments/f5\\segment_20.wav...\n",
      "Writing D:/daps/daps/ipad_office1/segments/f5\\segment_21.wav...\n",
      "Writing D:/daps/daps/ipad_office1/segments/f5\\segment_22.wav...\n",
      "Writing D:/daps/daps/ipad_office1/segments/f5\\segment_23.wav...\n",
      "Skipping frame due to error: Error while processing frame\n",
      "Writing D:/daps/daps/ipad_office1/segments/f5\\segment_0.wav...\n",
      "Writing D:/daps/daps/ipad_office1/segments/f5\\segment_1.wav...\n",
      "Writing D:/daps/daps/ipad_office1/segments/f5\\segment_2.wav...\n",
      "Writing D:/daps/daps/ipad_office1/segments/f5\\segment_3.wav...\n",
      "Writing D:/daps/daps/ipad_office1/segments/f5\\segment_4.wav...\n",
      "Writing D:/daps/daps/ipad_office1/segments/f5\\segment_5.wav...\n",
      "Writing D:/daps/daps/ipad_office1/segments/f5\\segment_6.wav...\n",
      "Writing D:/daps/daps/ipad_office1/segments/f5\\segment_7.wav...\n",
      "Writing D:/daps/daps/ipad_office1/segments/f5\\segment_8.wav...\n",
      "Writing D:/daps/daps/ipad_office1/segments/f5\\segment_9.wav...\n",
      "Writing D:/daps/daps/ipad_office1/segments/f5\\segment_10.wav...\n",
      "Writing D:/daps/daps/ipad_office1/segments/f5\\segment_11.wav...\n",
      "Writing D:/daps/daps/ipad_office1/segments/f5\\segment_12.wav...\n",
      "Writing D:/daps/daps/ipad_office1/segments/f5\\segment_13.wav...\n",
      "Writing D:/daps/daps/ipad_office1/segments/f5\\segment_14.wav...\n",
      "Writing D:/daps/daps/ipad_office1/segments/f5\\segment_15.wav...\n",
      "Writing D:/daps/daps/ipad_office1/segments/f5\\segment_16.wav...\n",
      "Writing D:/daps/daps/ipad_office1/segments/f5\\segment_17.wav...\n",
      "Skipping frame due to error: Error while processing frame\n",
      "Writing D:/daps/daps/ipad_office1/segments/f5\\segment_0.wav...\n",
      "Writing D:/daps/daps/ipad_office1/segments/f5\\segment_1.wav...\n",
      "Writing D:/daps/daps/ipad_office1/segments/f5\\segment_2.wav...\n",
      "Writing D:/daps/daps/ipad_office1/segments/f5\\segment_3.wav...\n",
      "Writing D:/daps/daps/ipad_office1/segments/f5\\segment_4.wav...\n",
      "Writing D:/daps/daps/ipad_office1/segments/f5\\segment_5.wav...\n",
      "Writing D:/daps/daps/ipad_office1/segments/f5\\segment_6.wav...\n",
      "Writing D:/daps/daps/ipad_office1/segments/f5\\segment_7.wav...\n",
      "Writing D:/daps/daps/ipad_office1/segments/f5\\segment_8.wav...\n",
      "Writing D:/daps/daps/ipad_office1/segments/f5\\segment_9.wav...\n",
      "Writing D:/daps/daps/ipad_office1/segments/f5\\segment_10.wav...\n",
      "Writing D:/daps/daps/ipad_office1/segments/f5\\segment_11.wav...\n",
      "Writing D:/daps/daps/ipad_office1/segments/f5\\segment_12.wav...\n",
      "Skipping frame due to error: Error while processing frame\n",
      "Writing D:/daps/daps/ipad_office1/segments/f5\\segment_0.wav...\n",
      "Writing D:/daps/daps/ipad_office1/segments/f5\\segment_1.wav...\n",
      "Writing D:/daps/daps/ipad_office1/segments/f5\\segment_2.wav...\n",
      "Writing D:/daps/daps/ipad_office1/segments/f5\\segment_3.wav...\n",
      "Writing D:/daps/daps/ipad_office1/segments/f5\\segment_4.wav...\n",
      "Writing D:/daps/daps/ipad_office1/segments/f5\\segment_5.wav...\n",
      "Writing D:/daps/daps/ipad_office1/segments/f5\\segment_6.wav...\n",
      "Writing D:/daps/daps/ipad_office1/segments/f5\\segment_7.wav...\n",
      "Writing D:/daps/daps/ipad_office1/segments/f5\\segment_8.wav...\n",
      "Writing D:/daps/daps/ipad_office1/segments/f5\\segment_9.wav...\n",
      "Writing D:/daps/daps/ipad_office1/segments/f5\\segment_10.wav...\n",
      "Writing D:/daps/daps/ipad_office1/segments/f5\\segment_11.wav...\n",
      "Writing D:/daps/daps/ipad_office1/segments/f5\\segment_12.wav...\n",
      "Writing D:/daps/daps/ipad_office1/segments/f5\\segment_13.wav...\n",
      "Writing D:/daps/daps/ipad_office1/segments/f5\\segment_14.wav...\n",
      "Writing D:/daps/daps/ipad_office1/segments/f5\\segment_15.wav...\n",
      "Writing D:/daps/daps/ipad_office1/segments/f5\\segment_16.wav...\n",
      "Writing D:/daps/daps/ipad_office1/segments/f5\\segment_17.wav...\n",
      "Skipping frame due to error: Error while processing frame\n",
      "Writing D:/daps/daps/ipad_office1/segments/f6\\segment_0.wav...\n",
      "Writing D:/daps/daps/ipad_office1/segments/f6\\segment_1.wav...\n",
      "Writing D:/daps/daps/ipad_office1/segments/f6\\segment_2.wav...\n",
      "Writing D:/daps/daps/ipad_office1/segments/f6\\segment_3.wav...\n",
      "Writing D:/daps/daps/ipad_office1/segments/f6\\segment_4.wav...\n",
      "Writing D:/daps/daps/ipad_office1/segments/f6\\segment_5.wav...\n",
      "Writing D:/daps/daps/ipad_office1/segments/f6\\segment_6.wav...\n",
      "Writing D:/daps/daps/ipad_office1/segments/f6\\segment_7.wav...\n",
      "Writing D:/daps/daps/ipad_office1/segments/f6\\segment_8.wav...\n",
      "Writing D:/daps/daps/ipad_office1/segments/f6\\segment_9.wav...\n",
      "Writing D:/daps/daps/ipad_office1/segments/f6\\segment_10.wav...\n",
      "Writing D:/daps/daps/ipad_office1/segments/f6\\segment_11.wav...\n",
      "Writing D:/daps/daps/ipad_office1/segments/f6\\segment_12.wav...\n",
      "Writing D:/daps/daps/ipad_office1/segments/f6\\segment_13.wav...\n",
      "Writing D:/daps/daps/ipad_office1/segments/f6\\segment_14.wav...\n",
      "Writing D:/daps/daps/ipad_office1/segments/f6\\segment_15.wav...\n",
      "Writing D:/daps/daps/ipad_office1/segments/f6\\segment_16.wav...\n",
      "Writing D:/daps/daps/ipad_office1/segments/f6\\segment_17.wav...\n",
      "Writing D:/daps/daps/ipad_office1/segments/f6\\segment_18.wav...\n",
      "Writing D:/daps/daps/ipad_office1/segments/f6\\segment_19.wav...\n",
      "Writing D:/daps/daps/ipad_office1/segments/f6\\segment_20.wav...\n",
      "Writing D:/daps/daps/ipad_office1/segments/f6\\segment_21.wav...\n",
      "Writing D:/daps/daps/ipad_office1/segments/f6\\segment_22.wav...\n",
      "Writing D:/daps/daps/ipad_office1/segments/f6\\segment_23.wav...\n",
      "Writing D:/daps/daps/ipad_office1/segments/f6\\segment_24.wav...\n",
      "Writing D:/daps/daps/ipad_office1/segments/f6\\segment_25.wav...\n",
      "Writing D:/daps/daps/ipad_office1/segments/f6\\segment_26.wav...\n",
      "Writing D:/daps/daps/ipad_office1/segments/f6\\segment_27.wav...\n",
      "Skipping frame due to error: Error while processing frame\n",
      "Writing D:/daps/daps/ipad_office1/segments/f6\\segment_0.wav...\n",
      "Writing D:/daps/daps/ipad_office1/segments/f6\\segment_1.wav...\n",
      "Writing D:/daps/daps/ipad_office1/segments/f6\\segment_2.wav...\n",
      "Writing D:/daps/daps/ipad_office1/segments/f6\\segment_3.wav...\n",
      "Writing D:/daps/daps/ipad_office1/segments/f6\\segment_4.wav...\n",
      "Writing D:/daps/daps/ipad_office1/segments/f6\\segment_5.wav...\n",
      "Writing D:/daps/daps/ipad_office1/segments/f6\\segment_6.wav...\n",
      "Writing D:/daps/daps/ipad_office1/segments/f6\\segment_7.wav...\n",
      "Writing D:/daps/daps/ipad_office1/segments/f6\\segment_8.wav...\n",
      "Writing D:/daps/daps/ipad_office1/segments/f6\\segment_9.wav...\n",
      "Writing D:/daps/daps/ipad_office1/segments/f6\\segment_10.wav...\n",
      "Writing D:/daps/daps/ipad_office1/segments/f6\\segment_11.wav...\n",
      "Writing D:/daps/daps/ipad_office1/segments/f6\\segment_12.wav...\n",
      "Writing D:/daps/daps/ipad_office1/segments/f6\\segment_13.wav...\n",
      "Writing D:/daps/daps/ipad_office1/segments/f6\\segment_14.wav...\n",
      "Writing D:/daps/daps/ipad_office1/segments/f6\\segment_15.wav...\n",
      "Writing D:/daps/daps/ipad_office1/segments/f6\\segment_16.wav...\n",
      "Writing D:/daps/daps/ipad_office1/segments/f6\\segment_17.wav...\n",
      "Writing D:/daps/daps/ipad_office1/segments/f6\\segment_18.wav...\n",
      "Writing D:/daps/daps/ipad_office1/segments/f6\\segment_19.wav...\n",
      "Writing D:/daps/daps/ipad_office1/segments/f6\\segment_20.wav...\n",
      "Writing D:/daps/daps/ipad_office1/segments/f6\\segment_21.wav...\n",
      "Writing D:/daps/daps/ipad_office1/segments/f6\\segment_22.wav...\n",
      "Writing D:/daps/daps/ipad_office1/segments/f6\\segment_23.wav...\n",
      "Writing D:/daps/daps/ipad_office1/segments/f6\\segment_24.wav...\n",
      "Writing D:/daps/daps/ipad_office1/segments/f6\\segment_25.wav...\n",
      "Writing D:/daps/daps/ipad_office1/segments/f6\\segment_26.wav...\n",
      "Writing D:/daps/daps/ipad_office1/segments/f6\\segment_27.wav...\n",
      "Writing D:/daps/daps/ipad_office1/segments/f6\\segment_28.wav...\n",
      "Writing D:/daps/daps/ipad_office1/segments/f6\\segment_29.wav...\n",
      "Writing D:/daps/daps/ipad_office1/segments/f6\\segment_30.wav...\n",
      "Writing D:/daps/daps/ipad_office1/segments/f6\\segment_31.wav...\n",
      "Writing D:/daps/daps/ipad_office1/segments/f6\\segment_32.wav...\n",
      "Writing D:/daps/daps/ipad_office1/segments/f6\\segment_33.wav...\n",
      "Writing D:/daps/daps/ipad_office1/segments/f6\\segment_34.wav...\n",
      "Skipping frame due to error: Error while processing frame\n",
      "Writing D:/daps/daps/ipad_office1/segments/f6\\segment_0.wav...\n",
      "Writing D:/daps/daps/ipad_office1/segments/f6\\segment_1.wav...\n",
      "Writing D:/daps/daps/ipad_office1/segments/f6\\segment_2.wav...\n",
      "Writing D:/daps/daps/ipad_office1/segments/f6\\segment_3.wav...\n",
      "Writing D:/daps/daps/ipad_office1/segments/f6\\segment_4.wav...\n",
      "Writing D:/daps/daps/ipad_office1/segments/f6\\segment_5.wav...\n",
      "Writing D:/daps/daps/ipad_office1/segments/f6\\segment_6.wav...\n",
      "Writing D:/daps/daps/ipad_office1/segments/f6\\segment_7.wav...\n",
      "Writing D:/daps/daps/ipad_office1/segments/f6\\segment_8.wav...\n",
      "Writing D:/daps/daps/ipad_office1/segments/f6\\segment_9.wav...\n",
      "Writing D:/daps/daps/ipad_office1/segments/f6\\segment_10.wav...\n",
      "Writing D:/daps/daps/ipad_office1/segments/f6\\segment_11.wav...\n",
      "Writing D:/daps/daps/ipad_office1/segments/f6\\segment_12.wav...\n",
      "Writing D:/daps/daps/ipad_office1/segments/f6\\segment_13.wav...\n",
      "Writing D:/daps/daps/ipad_office1/segments/f6\\segment_14.wav...\n",
      "Writing D:/daps/daps/ipad_office1/segments/f6\\segment_15.wav...\n",
      "Writing D:/daps/daps/ipad_office1/segments/f6\\segment_16.wav...\n",
      "Writing D:/daps/daps/ipad_office1/segments/f6\\segment_17.wav...\n",
      "Writing D:/daps/daps/ipad_office1/segments/f6\\segment_18.wav...\n",
      "Writing D:/daps/daps/ipad_office1/segments/f6\\segment_19.wav...\n",
      "Writing D:/daps/daps/ipad_office1/segments/f6\\segment_20.wav...\n",
      "Writing D:/daps/daps/ipad_office1/segments/f6\\segment_21.wav...\n",
      "Writing D:/daps/daps/ipad_office1/segments/f6\\segment_22.wav...\n",
      "Writing D:/daps/daps/ipad_office1/segments/f6\\segment_23.wav...\n",
      "Writing D:/daps/daps/ipad_office1/segments/f6\\segment_24.wav...\n",
      "Writing D:/daps/daps/ipad_office1/segments/f6\\segment_25.wav...\n",
      "Writing D:/daps/daps/ipad_office1/segments/f6\\segment_26.wav...\n",
      "Writing D:/daps/daps/ipad_office1/segments/f6\\segment_27.wav...\n",
      "Writing D:/daps/daps/ipad_office1/segments/f6\\segment_28.wav...\n",
      "Writing D:/daps/daps/ipad_office1/segments/f6\\segment_29.wav...\n",
      "Writing D:/daps/daps/ipad_office1/segments/f6\\segment_30.wav...\n",
      "Writing D:/daps/daps/ipad_office1/segments/f6\\segment_31.wav...\n",
      "Writing D:/daps/daps/ipad_office1/segments/f6\\segment_32.wav...\n",
      "Skipping frame due to error: Error while processing frame\n",
      "Writing D:/daps/daps/ipad_office1/segments/f6\\segment_0.wav...\n",
      "Writing D:/daps/daps/ipad_office1/segments/f6\\segment_1.wav...\n",
      "Writing D:/daps/daps/ipad_office1/segments/f6\\segment_2.wav...\n",
      "Writing D:/daps/daps/ipad_office1/segments/f6\\segment_3.wav...\n",
      "Writing D:/daps/daps/ipad_office1/segments/f6\\segment_4.wav...\n",
      "Writing D:/daps/daps/ipad_office1/segments/f6\\segment_5.wav...\n",
      "Writing D:/daps/daps/ipad_office1/segments/f6\\segment_6.wav...\n",
      "Writing D:/daps/daps/ipad_office1/segments/f6\\segment_7.wav...\n",
      "Writing D:/daps/daps/ipad_office1/segments/f6\\segment_8.wav...\n",
      "Writing D:/daps/daps/ipad_office1/segments/f6\\segment_9.wav...\n",
      "Writing D:/daps/daps/ipad_office1/segments/f6\\segment_10.wav...\n",
      "Writing D:/daps/daps/ipad_office1/segments/f6\\segment_11.wav...\n",
      "Writing D:/daps/daps/ipad_office1/segments/f6\\segment_12.wav...\n",
      "Writing D:/daps/daps/ipad_office1/segments/f6\\segment_13.wav...\n",
      "Writing D:/daps/daps/ipad_office1/segments/f6\\segment_14.wav...\n",
      "Skipping frame due to error: Error while processing frame\n",
      "Writing D:/daps/daps/ipad_office1/segments/f6\\segment_0.wav...\n",
      "Writing D:/daps/daps/ipad_office1/segments/f6\\segment_1.wav...\n",
      "Writing D:/daps/daps/ipad_office1/segments/f6\\segment_2.wav...\n",
      "Writing D:/daps/daps/ipad_office1/segments/f6\\segment_3.wav...\n",
      "Writing D:/daps/daps/ipad_office1/segments/f6\\segment_4.wav...\n",
      "Writing D:/daps/daps/ipad_office1/segments/f6\\segment_5.wav...\n",
      "Writing D:/daps/daps/ipad_office1/segments/f6\\segment_6.wav...\n",
      "Writing D:/daps/daps/ipad_office1/segments/f6\\segment_7.wav...\n",
      "Writing D:/daps/daps/ipad_office1/segments/f6\\segment_8.wav...\n",
      "Writing D:/daps/daps/ipad_office1/segments/f6\\segment_9.wav...\n",
      "Writing D:/daps/daps/ipad_office1/segments/f6\\segment_10.wav...\n",
      "Writing D:/daps/daps/ipad_office1/segments/f6\\segment_11.wav...\n",
      "Writing D:/daps/daps/ipad_office1/segments/f6\\segment_12.wav...\n",
      "Writing D:/daps/daps/ipad_office1/segments/f6\\segment_13.wav...\n",
      "Writing D:/daps/daps/ipad_office1/segments/f6\\segment_14.wav...\n",
      "Writing D:/daps/daps/ipad_office1/segments/f6\\segment_15.wav...\n",
      "Writing D:/daps/daps/ipad_office1/segments/f6\\segment_16.wav...\n",
      "Writing D:/daps/daps/ipad_office1/segments/f6\\segment_17.wav...\n",
      "Writing D:/daps/daps/ipad_office1/segments/f6\\segment_18.wav...\n",
      "Writing D:/daps/daps/ipad_office1/segments/f6\\segment_19.wav...\n",
      "Writing D:/daps/daps/ipad_office1/segments/f6\\segment_20.wav...\n",
      "Writing D:/daps/daps/ipad_office1/segments/f6\\segment_21.wav...\n",
      "Writing D:/daps/daps/ipad_office1/segments/f6\\segment_22.wav...\n",
      "Writing D:/daps/daps/ipad_office1/segments/f6\\segment_23.wav...\n",
      "Writing D:/daps/daps/ipad_office1/segments/f6\\segment_24.wav...\n",
      "Writing D:/daps/daps/ipad_office1/segments/f6\\segment_25.wav...\n",
      "Writing D:/daps/daps/ipad_office1/segments/f6\\segment_26.wav...\n",
      "Writing D:/daps/daps/ipad_office1/segments/f6\\segment_27.wav...\n",
      "Skipping frame due to error: Error while processing frame\n",
      "Writing D:/daps/daps/ipad_office1/segments/f7\\segment_0.wav...\n",
      "Writing D:/daps/daps/ipad_office1/segments/f7\\segment_1.wav...\n",
      "Writing D:/daps/daps/ipad_office1/segments/f7\\segment_2.wav...\n",
      "Writing D:/daps/daps/ipad_office1/segments/f7\\segment_3.wav...\n",
      "Writing D:/daps/daps/ipad_office1/segments/f7\\segment_4.wav...\n",
      "Writing D:/daps/daps/ipad_office1/segments/f7\\segment_5.wav...\n",
      "Writing D:/daps/daps/ipad_office1/segments/f7\\segment_6.wav...\n",
      "Writing D:/daps/daps/ipad_office1/segments/f7\\segment_7.wav...\n",
      "Writing D:/daps/daps/ipad_office1/segments/f7\\segment_8.wav...\n",
      "Writing D:/daps/daps/ipad_office1/segments/f7\\segment_9.wav...\n",
      "Writing D:/daps/daps/ipad_office1/segments/f7\\segment_10.wav...\n",
      "Writing D:/daps/daps/ipad_office1/segments/f7\\segment_11.wav...\n",
      "Writing D:/daps/daps/ipad_office1/segments/f7\\segment_12.wav...\n",
      "Writing D:/daps/daps/ipad_office1/segments/f7\\segment_13.wav...\n",
      "Writing D:/daps/daps/ipad_office1/segments/f7\\segment_14.wav...\n",
      "Writing D:/daps/daps/ipad_office1/segments/f7\\segment_15.wav...\n",
      "Writing D:/daps/daps/ipad_office1/segments/f7\\segment_16.wav...\n",
      "Writing D:/daps/daps/ipad_office1/segments/f7\\segment_17.wav...\n",
      "Writing D:/daps/daps/ipad_office1/segments/f7\\segment_18.wav...\n",
      "Writing D:/daps/daps/ipad_office1/segments/f7\\segment_19.wav...\n",
      "Writing D:/daps/daps/ipad_office1/segments/f7\\segment_20.wav...\n",
      "Writing D:/daps/daps/ipad_office1/segments/f7\\segment_21.wav...\n",
      "Writing D:/daps/daps/ipad_office1/segments/f7\\segment_22.wav...\n",
      "Writing D:/daps/daps/ipad_office1/segments/f7\\segment_23.wav...\n",
      "Writing D:/daps/daps/ipad_office1/segments/f7\\segment_24.wav...\n",
      "Writing D:/daps/daps/ipad_office1/segments/f7\\segment_25.wav...\n",
      "Writing D:/daps/daps/ipad_office1/segments/f7\\segment_26.wav...\n",
      "Writing D:/daps/daps/ipad_office1/segments/f7\\segment_27.wav...\n",
      "Writing D:/daps/daps/ipad_office1/segments/f7\\segment_28.wav...\n",
      "Writing D:/daps/daps/ipad_office1/segments/f7\\segment_29.wav...\n",
      "Writing D:/daps/daps/ipad_office1/segments/f7\\segment_30.wav...\n",
      "Writing D:/daps/daps/ipad_office1/segments/f7\\segment_31.wav...\n",
      "Skipping frame due to error: Error while processing frame\n",
      "Writing D:/daps/daps/ipad_office1/segments/f7\\segment_0.wav...\n",
      "Writing D:/daps/daps/ipad_office1/segments/f7\\segment_1.wav...\n",
      "Writing D:/daps/daps/ipad_office1/segments/f7\\segment_2.wav...\n",
      "Writing D:/daps/daps/ipad_office1/segments/f7\\segment_3.wav...\n",
      "Writing D:/daps/daps/ipad_office1/segments/f7\\segment_4.wav...\n",
      "Writing D:/daps/daps/ipad_office1/segments/f7\\segment_5.wav...\n",
      "Writing D:/daps/daps/ipad_office1/segments/f7\\segment_6.wav...\n",
      "Writing D:/daps/daps/ipad_office1/segments/f7\\segment_7.wav...\n",
      "Writing D:/daps/daps/ipad_office1/segments/f7\\segment_8.wav...\n",
      "Writing D:/daps/daps/ipad_office1/segments/f7\\segment_9.wav...\n",
      "Writing D:/daps/daps/ipad_office1/segments/f7\\segment_10.wav...\n",
      "Writing D:/daps/daps/ipad_office1/segments/f7\\segment_11.wav...\n",
      "Writing D:/daps/daps/ipad_office1/segments/f7\\segment_12.wav...\n",
      "Writing D:/daps/daps/ipad_office1/segments/f7\\segment_13.wav...\n",
      "Writing D:/daps/daps/ipad_office1/segments/f7\\segment_14.wav...\n",
      "Writing D:/daps/daps/ipad_office1/segments/f7\\segment_15.wav...\n",
      "Writing D:/daps/daps/ipad_office1/segments/f7\\segment_16.wav...\n",
      "Writing D:/daps/daps/ipad_office1/segments/f7\\segment_17.wav...\n",
      "Writing D:/daps/daps/ipad_office1/segments/f7\\segment_18.wav...\n",
      "Writing D:/daps/daps/ipad_office1/segments/f7\\segment_19.wav...\n",
      "Writing D:/daps/daps/ipad_office1/segments/f7\\segment_20.wav...\n",
      "Writing D:/daps/daps/ipad_office1/segments/f7\\segment_21.wav...\n",
      "Writing D:/daps/daps/ipad_office1/segments/f7\\segment_22.wav...\n",
      "Writing D:/daps/daps/ipad_office1/segments/f7\\segment_23.wav...\n",
      "Writing D:/daps/daps/ipad_office1/segments/f7\\segment_24.wav...\n",
      "Writing D:/daps/daps/ipad_office1/segments/f7\\segment_25.wav...\n",
      "Writing D:/daps/daps/ipad_office1/segments/f7\\segment_26.wav...\n",
      "Writing D:/daps/daps/ipad_office1/segments/f7\\segment_27.wav...\n",
      "Writing D:/daps/daps/ipad_office1/segments/f7\\segment_28.wav...\n",
      "Writing D:/daps/daps/ipad_office1/segments/f7\\segment_29.wav...\n",
      "Writing D:/daps/daps/ipad_office1/segments/f7\\segment_30.wav...\n",
      "Writing D:/daps/daps/ipad_office1/segments/f7\\segment_31.wav...\n",
      "Writing D:/daps/daps/ipad_office1/segments/f7\\segment_32.wav...\n",
      "Writing D:/daps/daps/ipad_office1/segments/f7\\segment_33.wav...\n",
      "Skipping frame due to error: Error while processing frame\n",
      "Writing D:/daps/daps/ipad_office1/segments/f7\\segment_0.wav...\n",
      "Writing D:/daps/daps/ipad_office1/segments/f7\\segment_1.wav...\n",
      "Writing D:/daps/daps/ipad_office1/segments/f7\\segment_2.wav...\n",
      "Writing D:/daps/daps/ipad_office1/segments/f7\\segment_3.wav...\n",
      "Writing D:/daps/daps/ipad_office1/segments/f7\\segment_4.wav...\n",
      "Writing D:/daps/daps/ipad_office1/segments/f7\\segment_5.wav...\n",
      "Writing D:/daps/daps/ipad_office1/segments/f7\\segment_6.wav...\n",
      "Writing D:/daps/daps/ipad_office1/segments/f7\\segment_7.wav...\n",
      "Writing D:/daps/daps/ipad_office1/segments/f7\\segment_8.wav...\n",
      "Writing D:/daps/daps/ipad_office1/segments/f7\\segment_9.wav...\n",
      "Writing D:/daps/daps/ipad_office1/segments/f7\\segment_10.wav...\n",
      "Writing D:/daps/daps/ipad_office1/segments/f7\\segment_11.wav...\n",
      "Writing D:/daps/daps/ipad_office1/segments/f7\\segment_12.wav...\n",
      "Writing D:/daps/daps/ipad_office1/segments/f7\\segment_13.wav...\n",
      "Writing D:/daps/daps/ipad_office1/segments/f7\\segment_14.wav...\n",
      "Writing D:/daps/daps/ipad_office1/segments/f7\\segment_15.wav...\n",
      "Writing D:/daps/daps/ipad_office1/segments/f7\\segment_16.wav...\n",
      "Writing D:/daps/daps/ipad_office1/segments/f7\\segment_17.wav...\n",
      "Writing D:/daps/daps/ipad_office1/segments/f7\\segment_18.wav...\n",
      "Writing D:/daps/daps/ipad_office1/segments/f7\\segment_19.wav...\n",
      "Writing D:/daps/daps/ipad_office1/segments/f7\\segment_20.wav...\n",
      "Writing D:/daps/daps/ipad_office1/segments/f7\\segment_21.wav...\n",
      "Writing D:/daps/daps/ipad_office1/segments/f7\\segment_22.wav...\n",
      "Writing D:/daps/daps/ipad_office1/segments/f7\\segment_23.wav...\n",
      "Writing D:/daps/daps/ipad_office1/segments/f7\\segment_24.wav...\n",
      "Writing D:/daps/daps/ipad_office1/segments/f7\\segment_25.wav...\n",
      "Writing D:/daps/daps/ipad_office1/segments/f7\\segment_26.wav...\n",
      "Writing D:/daps/daps/ipad_office1/segments/f7\\segment_27.wav...\n",
      "Writing D:/daps/daps/ipad_office1/segments/f7\\segment_28.wav...\n",
      "Writing D:/daps/daps/ipad_office1/segments/f7\\segment_29.wav...\n",
      "Writing D:/daps/daps/ipad_office1/segments/f7\\segment_30.wav...\n",
      "Writing D:/daps/daps/ipad_office1/segments/f7\\segment_31.wav...\n",
      "Writing D:/daps/daps/ipad_office1/segments/f7\\segment_32.wav...\n",
      "Writing D:/daps/daps/ipad_office1/segments/f7\\segment_33.wav...\n",
      "Writing D:/daps/daps/ipad_office1/segments/f7\\segment_34.wav...\n",
      "Writing D:/daps/daps/ipad_office1/segments/f7\\segment_35.wav...\n",
      "Writing D:/daps/daps/ipad_office1/segments/f7\\segment_36.wav...\n",
      "Writing D:/daps/daps/ipad_office1/segments/f7\\segment_37.wav...\n",
      "Writing D:/daps/daps/ipad_office1/segments/f7\\segment_38.wav...\n",
      "Writing D:/daps/daps/ipad_office1/segments/f7\\segment_39.wav...\n",
      "Skipping frame due to error: Error while processing frame\n",
      "Writing D:/daps/daps/ipad_office1/segments/f7\\segment_0.wav...\n",
      "Writing D:/daps/daps/ipad_office1/segments/f7\\segment_1.wav...\n",
      "Writing D:/daps/daps/ipad_office1/segments/f7\\segment_2.wav...\n",
      "Writing D:/daps/daps/ipad_office1/segments/f7\\segment_3.wav...\n",
      "Writing D:/daps/daps/ipad_office1/segments/f7\\segment_4.wav...\n",
      "Writing D:/daps/daps/ipad_office1/segments/f7\\segment_5.wav...\n",
      "Writing D:/daps/daps/ipad_office1/segments/f7\\segment_6.wav...\n",
      "Writing D:/daps/daps/ipad_office1/segments/f7\\segment_7.wav...\n",
      "Writing D:/daps/daps/ipad_office1/segments/f7\\segment_8.wav...\n",
      "Writing D:/daps/daps/ipad_office1/segments/f7\\segment_9.wav...\n",
      "Writing D:/daps/daps/ipad_office1/segments/f7\\segment_10.wav...\n",
      "Writing D:/daps/daps/ipad_office1/segments/f7\\segment_11.wav...\n",
      "Writing D:/daps/daps/ipad_office1/segments/f7\\segment_12.wav...\n",
      "Writing D:/daps/daps/ipad_office1/segments/f7\\segment_13.wav...\n",
      "Writing D:/daps/daps/ipad_office1/segments/f7\\segment_14.wav...\n",
      "Writing D:/daps/daps/ipad_office1/segments/f7\\segment_15.wav...\n",
      "Writing D:/daps/daps/ipad_office1/segments/f7\\segment_16.wav...\n",
      "Writing D:/daps/daps/ipad_office1/segments/f7\\segment_17.wav...\n",
      "Writing D:/daps/daps/ipad_office1/segments/f7\\segment_18.wav...\n",
      "Writing D:/daps/daps/ipad_office1/segments/f7\\segment_19.wav...\n",
      "Writing D:/daps/daps/ipad_office1/segments/f7\\segment_20.wav...\n",
      "Writing D:/daps/daps/ipad_office1/segments/f7\\segment_21.wav...\n",
      "Writing D:/daps/daps/ipad_office1/segments/f7\\segment_22.wav...\n",
      "Writing D:/daps/daps/ipad_office1/segments/f7\\segment_23.wav...\n",
      "Writing D:/daps/daps/ipad_office1/segments/f7\\segment_24.wav...\n",
      "Skipping frame due to error: Error while processing frame\n",
      "Writing D:/daps/daps/ipad_office1/segments/f7\\segment_0.wav...\n",
      "Writing D:/daps/daps/ipad_office1/segments/f7\\segment_1.wav...\n",
      "Writing D:/daps/daps/ipad_office1/segments/f7\\segment_2.wav...\n",
      "Writing D:/daps/daps/ipad_office1/segments/f7\\segment_3.wav...\n",
      "Writing D:/daps/daps/ipad_office1/segments/f7\\segment_4.wav...\n",
      "Writing D:/daps/daps/ipad_office1/segments/f7\\segment_5.wav...\n",
      "Writing D:/daps/daps/ipad_office1/segments/f7\\segment_6.wav...\n",
      "Writing D:/daps/daps/ipad_office1/segments/f7\\segment_7.wav...\n",
      "Writing D:/daps/daps/ipad_office1/segments/f7\\segment_8.wav...\n",
      "Writing D:/daps/daps/ipad_office1/segments/f7\\segment_9.wav...\n",
      "Writing D:/daps/daps/ipad_office1/segments/f7\\segment_10.wav...\n",
      "Writing D:/daps/daps/ipad_office1/segments/f7\\segment_11.wav...\n",
      "Writing D:/daps/daps/ipad_office1/segments/f7\\segment_12.wav...\n",
      "Writing D:/daps/daps/ipad_office1/segments/f7\\segment_13.wav...\n",
      "Writing D:/daps/daps/ipad_office1/segments/f7\\segment_14.wav...\n",
      "Writing D:/daps/daps/ipad_office1/segments/f7\\segment_15.wav...\n",
      "Writing D:/daps/daps/ipad_office1/segments/f7\\segment_16.wav...\n",
      "Writing D:/daps/daps/ipad_office1/segments/f7\\segment_17.wav...\n",
      "Writing D:/daps/daps/ipad_office1/segments/f7\\segment_18.wav...\n",
      "Writing D:/daps/daps/ipad_office1/segments/f7\\segment_19.wav...\n",
      "Writing D:/daps/daps/ipad_office1/segments/f7\\segment_20.wav...\n",
      "Writing D:/daps/daps/ipad_office1/segments/f7\\segment_21.wav...\n",
      "Writing D:/daps/daps/ipad_office1/segments/f7\\segment_22.wav...\n",
      "Writing D:/daps/daps/ipad_office1/segments/f7\\segment_23.wav...\n",
      "Writing D:/daps/daps/ipad_office1/segments/f7\\segment_24.wav...\n",
      "Writing D:/daps/daps/ipad_office1/segments/f7\\segment_25.wav...\n",
      "Writing D:/daps/daps/ipad_office1/segments/f7\\segment_26.wav...\n",
      "Writing D:/daps/daps/ipad_office1/segments/f7\\segment_27.wav...\n",
      "Writing D:/daps/daps/ipad_office1/segments/f7\\segment_28.wav...\n",
      "Writing D:/daps/daps/ipad_office1/segments/f7\\segment_29.wav...\n",
      "Writing D:/daps/daps/ipad_office1/segments/f7\\segment_30.wav...\n",
      "Writing D:/daps/daps/ipad_office1/segments/f7\\segment_31.wav...\n",
      "Writing D:/daps/daps/ipad_office1/segments/f7\\segment_32.wav...\n",
      "Writing D:/daps/daps/ipad_office1/segments/f7\\segment_33.wav...\n",
      "Writing D:/daps/daps/ipad_office1/segments/f7\\segment_34.wav...\n",
      "Writing D:/daps/daps/ipad_office1/segments/f7\\segment_35.wav...\n",
      "Writing D:/daps/daps/ipad_office1/segments/f7\\segment_36.wav...\n",
      "Writing D:/daps/daps/ipad_office1/segments/f7\\segment_37.wav...\n",
      "Skipping frame due to error: Error while processing frame\n",
      "Writing D:/daps/daps/ipad_office1/segments/f8\\segment_0.wav...\n",
      "Writing D:/daps/daps/ipad_office1/segments/f8\\segment_1.wav...\n",
      "Writing D:/daps/daps/ipad_office1/segments/f8\\segment_2.wav...\n",
      "Writing D:/daps/daps/ipad_office1/segments/f8\\segment_3.wav...\n",
      "Writing D:/daps/daps/ipad_office1/segments/f8\\segment_4.wav...\n",
      "Writing D:/daps/daps/ipad_office1/segments/f8\\segment_5.wav...\n",
      "Writing D:/daps/daps/ipad_office1/segments/f8\\segment_6.wav...\n",
      "Writing D:/daps/daps/ipad_office1/segments/f8\\segment_7.wav...\n",
      "Writing D:/daps/daps/ipad_office1/segments/f8\\segment_8.wav...\n",
      "Writing D:/daps/daps/ipad_office1/segments/f8\\segment_9.wav...\n",
      "Writing D:/daps/daps/ipad_office1/segments/f8\\segment_10.wav...\n",
      "Writing D:/daps/daps/ipad_office1/segments/f8\\segment_11.wav...\n",
      "Writing D:/daps/daps/ipad_office1/segments/f8\\segment_12.wav...\n",
      "Writing D:/daps/daps/ipad_office1/segments/f8\\segment_13.wav...\n",
      "Writing D:/daps/daps/ipad_office1/segments/f8\\segment_14.wav...\n",
      "Writing D:/daps/daps/ipad_office1/segments/f8\\segment_15.wav...\n",
      "Writing D:/daps/daps/ipad_office1/segments/f8\\segment_16.wav...\n",
      "Writing D:/daps/daps/ipad_office1/segments/f8\\segment_17.wav...\n",
      "Writing D:/daps/daps/ipad_office1/segments/f8\\segment_18.wav...\n",
      "Writing D:/daps/daps/ipad_office1/segments/f8\\segment_19.wav...\n",
      "Writing D:/daps/daps/ipad_office1/segments/f8\\segment_20.wav...\n",
      "Writing D:/daps/daps/ipad_office1/segments/f8\\segment_21.wav...\n",
      "Writing D:/daps/daps/ipad_office1/segments/f8\\segment_22.wav...\n",
      "Writing D:/daps/daps/ipad_office1/segments/f8\\segment_23.wav...\n",
      "Writing D:/daps/daps/ipad_office1/segments/f8\\segment_24.wav...\n",
      "Writing D:/daps/daps/ipad_office1/segments/f8\\segment_25.wav...\n",
      "Writing D:/daps/daps/ipad_office1/segments/f8\\segment_26.wav...\n",
      "Writing D:/daps/daps/ipad_office1/segments/f8\\segment_27.wav...\n",
      "Writing D:/daps/daps/ipad_office1/segments/f8\\segment_28.wav...\n",
      "Writing D:/daps/daps/ipad_office1/segments/f8\\segment_29.wav...\n",
      "Writing D:/daps/daps/ipad_office1/segments/f8\\segment_30.wav...\n",
      "Skipping frame due to error: Error while processing frame\n",
      "Writing D:/daps/daps/ipad_office1/segments/f8\\segment_0.wav...\n",
      "Writing D:/daps/daps/ipad_office1/segments/f8\\segment_1.wav...\n",
      "Writing D:/daps/daps/ipad_office1/segments/f8\\segment_2.wav...\n",
      "Writing D:/daps/daps/ipad_office1/segments/f8\\segment_3.wav...\n",
      "Writing D:/daps/daps/ipad_office1/segments/f8\\segment_4.wav...\n",
      "Writing D:/daps/daps/ipad_office1/segments/f8\\segment_5.wav...\n",
      "Writing D:/daps/daps/ipad_office1/segments/f8\\segment_6.wav...\n",
      "Writing D:/daps/daps/ipad_office1/segments/f8\\segment_7.wav...\n",
      "Writing D:/daps/daps/ipad_office1/segments/f8\\segment_8.wav...\n",
      "Writing D:/daps/daps/ipad_office1/segments/f8\\segment_9.wav...\n",
      "Writing D:/daps/daps/ipad_office1/segments/f8\\segment_10.wav...\n",
      "Writing D:/daps/daps/ipad_office1/segments/f8\\segment_11.wav...\n",
      "Writing D:/daps/daps/ipad_office1/segments/f8\\segment_12.wav...\n",
      "Writing D:/daps/daps/ipad_office1/segments/f8\\segment_13.wav...\n",
      "Writing D:/daps/daps/ipad_office1/segments/f8\\segment_14.wav...\n",
      "Writing D:/daps/daps/ipad_office1/segments/f8\\segment_15.wav...\n",
      "Writing D:/daps/daps/ipad_office1/segments/f8\\segment_16.wav...\n",
      "Writing D:/daps/daps/ipad_office1/segments/f8\\segment_17.wav...\n",
      "Writing D:/daps/daps/ipad_office1/segments/f8\\segment_18.wav...\n",
      "Writing D:/daps/daps/ipad_office1/segments/f8\\segment_19.wav...\n",
      "Writing D:/daps/daps/ipad_office1/segments/f8\\segment_20.wav...\n",
      "Writing D:/daps/daps/ipad_office1/segments/f8\\segment_21.wav...\n",
      "Writing D:/daps/daps/ipad_office1/segments/f8\\segment_22.wav...\n",
      "Writing D:/daps/daps/ipad_office1/segments/f8\\segment_23.wav...\n",
      "Writing D:/daps/daps/ipad_office1/segments/f8\\segment_24.wav...\n",
      "Writing D:/daps/daps/ipad_office1/segments/f8\\segment_25.wav...\n",
      "Writing D:/daps/daps/ipad_office1/segments/f8\\segment_26.wav...\n",
      "Writing D:/daps/daps/ipad_office1/segments/f8\\segment_27.wav...\n",
      "Writing D:/daps/daps/ipad_office1/segments/f8\\segment_28.wav...\n",
      "Writing D:/daps/daps/ipad_office1/segments/f8\\segment_29.wav...\n",
      "Writing D:/daps/daps/ipad_office1/segments/f8\\segment_30.wav...\n",
      "Writing D:/daps/daps/ipad_office1/segments/f8\\segment_31.wav...\n",
      "Writing D:/daps/daps/ipad_office1/segments/f8\\segment_32.wav...\n",
      "Writing D:/daps/daps/ipad_office1/segments/f8\\segment_33.wav...\n",
      "Writing D:/daps/daps/ipad_office1/segments/f8\\segment_34.wav...\n",
      "Writing D:/daps/daps/ipad_office1/segments/f8\\segment_35.wav...\n",
      "Writing D:/daps/daps/ipad_office1/segments/f8\\segment_36.wav...\n",
      "Writing D:/daps/daps/ipad_office1/segments/f8\\segment_37.wav...\n",
      "Writing D:/daps/daps/ipad_office1/segments/f8\\segment_38.wav...\n",
      "Skipping frame due to error: Error while processing frame\n",
      "Writing D:/daps/daps/ipad_office1/segments/f8\\segment_0.wav...\n",
      "Writing D:/daps/daps/ipad_office1/segments/f8\\segment_1.wav...\n",
      "Writing D:/daps/daps/ipad_office1/segments/f8\\segment_2.wav...\n",
      "Writing D:/daps/daps/ipad_office1/segments/f8\\segment_3.wav...\n",
      "Writing D:/daps/daps/ipad_office1/segments/f8\\segment_4.wav...\n",
      "Writing D:/daps/daps/ipad_office1/segments/f8\\segment_5.wav...\n",
      "Writing D:/daps/daps/ipad_office1/segments/f8\\segment_6.wav...\n",
      "Writing D:/daps/daps/ipad_office1/segments/f8\\segment_7.wav...\n",
      "Writing D:/daps/daps/ipad_office1/segments/f8\\segment_8.wav...\n",
      "Writing D:/daps/daps/ipad_office1/segments/f8\\segment_9.wav...\n",
      "Writing D:/daps/daps/ipad_office1/segments/f8\\segment_10.wav...\n",
      "Writing D:/daps/daps/ipad_office1/segments/f8\\segment_11.wav...\n",
      "Writing D:/daps/daps/ipad_office1/segments/f8\\segment_12.wav...\n",
      "Writing D:/daps/daps/ipad_office1/segments/f8\\segment_13.wav...\n",
      "Writing D:/daps/daps/ipad_office1/segments/f8\\segment_14.wav...\n",
      "Writing D:/daps/daps/ipad_office1/segments/f8\\segment_15.wav...\n",
      "Writing D:/daps/daps/ipad_office1/segments/f8\\segment_16.wav...\n",
      "Writing D:/daps/daps/ipad_office1/segments/f8\\segment_17.wav...\n",
      "Writing D:/daps/daps/ipad_office1/segments/f8\\segment_18.wav...\n",
      "Writing D:/daps/daps/ipad_office1/segments/f8\\segment_19.wav...\n",
      "Writing D:/daps/daps/ipad_office1/segments/f8\\segment_20.wav...\n",
      "Writing D:/daps/daps/ipad_office1/segments/f8\\segment_21.wav...\n",
      "Writing D:/daps/daps/ipad_office1/segments/f8\\segment_22.wav...\n",
      "Writing D:/daps/daps/ipad_office1/segments/f8\\segment_23.wav...\n",
      "Writing D:/daps/daps/ipad_office1/segments/f8\\segment_24.wav...\n",
      "Writing D:/daps/daps/ipad_office1/segments/f8\\segment_25.wav...\n",
      "Writing D:/daps/daps/ipad_office1/segments/f8\\segment_26.wav...\n",
      "Writing D:/daps/daps/ipad_office1/segments/f8\\segment_27.wav...\n",
      "Skipping frame due to error: Error while processing frame\n",
      "Writing D:/daps/daps/ipad_office1/segments/f8\\segment_0.wav...\n",
      "Writing D:/daps/daps/ipad_office1/segments/f8\\segment_1.wav...\n",
      "Writing D:/daps/daps/ipad_office1/segments/f8\\segment_2.wav...\n",
      "Writing D:/daps/daps/ipad_office1/segments/f8\\segment_3.wav...\n",
      "Writing D:/daps/daps/ipad_office1/segments/f8\\segment_4.wav...\n",
      "Writing D:/daps/daps/ipad_office1/segments/f8\\segment_5.wav...\n",
      "Writing D:/daps/daps/ipad_office1/segments/f8\\segment_6.wav...\n",
      "Writing D:/daps/daps/ipad_office1/segments/f8\\segment_7.wav...\n",
      "Writing D:/daps/daps/ipad_office1/segments/f8\\segment_8.wav...\n",
      "Writing D:/daps/daps/ipad_office1/segments/f8\\segment_9.wav...\n",
      "Writing D:/daps/daps/ipad_office1/segments/f8\\segment_10.wav...\n",
      "Writing D:/daps/daps/ipad_office1/segments/f8\\segment_11.wav...\n",
      "Writing D:/daps/daps/ipad_office1/segments/f8\\segment_12.wav...\n",
      "Writing D:/daps/daps/ipad_office1/segments/f8\\segment_13.wav...\n",
      "Writing D:/daps/daps/ipad_office1/segments/f8\\segment_14.wav...\n",
      "Writing D:/daps/daps/ipad_office1/segments/f8\\segment_15.wav...\n",
      "Writing D:/daps/daps/ipad_office1/segments/f8\\segment_16.wav...\n",
      "Writing D:/daps/daps/ipad_office1/segments/f8\\segment_17.wav...\n",
      "Writing D:/daps/daps/ipad_office1/segments/f8\\segment_18.wav...\n",
      "Writing D:/daps/daps/ipad_office1/segments/f8\\segment_19.wav...\n",
      "Writing D:/daps/daps/ipad_office1/segments/f8\\segment_20.wav...\n",
      "Writing D:/daps/daps/ipad_office1/segments/f8\\segment_21.wav...\n",
      "Writing D:/daps/daps/ipad_office1/segments/f8\\segment_22.wav...\n",
      "Skipping frame due to error: Error while processing frame\n",
      "Writing D:/daps/daps/ipad_office1/segments/f8\\segment_0.wav...\n",
      "Writing D:/daps/daps/ipad_office1/segments/f8\\segment_1.wav...\n",
      "Writing D:/daps/daps/ipad_office1/segments/f8\\segment_2.wav...\n",
      "Writing D:/daps/daps/ipad_office1/segments/f8\\segment_3.wav...\n",
      "Writing D:/daps/daps/ipad_office1/segments/f8\\segment_4.wav...\n",
      "Writing D:/daps/daps/ipad_office1/segments/f8\\segment_5.wav...\n",
      "Writing D:/daps/daps/ipad_office1/segments/f8\\segment_6.wav...\n",
      "Writing D:/daps/daps/ipad_office1/segments/f8\\segment_7.wav...\n",
      "Writing D:/daps/daps/ipad_office1/segments/f8\\segment_8.wav...\n",
      "Writing D:/daps/daps/ipad_office1/segments/f8\\segment_9.wav...\n",
      "Writing D:/daps/daps/ipad_office1/segments/f8\\segment_10.wav...\n",
      "Writing D:/daps/daps/ipad_office1/segments/f8\\segment_11.wav...\n",
      "Writing D:/daps/daps/ipad_office1/segments/f8\\segment_12.wav...\n",
      "Writing D:/daps/daps/ipad_office1/segments/f8\\segment_13.wav...\n",
      "Writing D:/daps/daps/ipad_office1/segments/f8\\segment_14.wav...\n",
      "Writing D:/daps/daps/ipad_office1/segments/f8\\segment_15.wav...\n",
      "Writing D:/daps/daps/ipad_office1/segments/f8\\segment_16.wav...\n",
      "Writing D:/daps/daps/ipad_office1/segments/f8\\segment_17.wav...\n",
      "Writing D:/daps/daps/ipad_office1/segments/f8\\segment_18.wav...\n",
      "Writing D:/daps/daps/ipad_office1/segments/f8\\segment_19.wav...\n",
      "Writing D:/daps/daps/ipad_office1/segments/f8\\segment_20.wav...\n",
      "Writing D:/daps/daps/ipad_office1/segments/f8\\segment_21.wav...\n",
      "Writing D:/daps/daps/ipad_office1/segments/f8\\segment_22.wav...\n",
      "Writing D:/daps/daps/ipad_office1/segments/f8\\segment_23.wav...\n",
      "Writing D:/daps/daps/ipad_office1/segments/f8\\segment_24.wav...\n",
      "Writing D:/daps/daps/ipad_office1/segments/f8\\segment_25.wav...\n",
      "Skipping frame due to error: Error while processing frame\n",
      "Writing D:/daps/daps/ipad_office1/segments/f9\\segment_0.wav...\n",
      "Writing D:/daps/daps/ipad_office1/segments/f9\\segment_1.wav...\n",
      "Writing D:/daps/daps/ipad_office1/segments/f9\\segment_2.wav...\n",
      "Writing D:/daps/daps/ipad_office1/segments/f9\\segment_3.wav...\n",
      "Writing D:/daps/daps/ipad_office1/segments/f9\\segment_4.wav...\n",
      "Writing D:/daps/daps/ipad_office1/segments/f9\\segment_5.wav...\n",
      "Writing D:/daps/daps/ipad_office1/segments/f9\\segment_6.wav...\n",
      "Writing D:/daps/daps/ipad_office1/segments/f9\\segment_7.wav...\n",
      "Writing D:/daps/daps/ipad_office1/segments/f9\\segment_8.wav...\n",
      "Writing D:/daps/daps/ipad_office1/segments/f9\\segment_9.wav...\n",
      "Writing D:/daps/daps/ipad_office1/segments/f9\\segment_10.wav...\n",
      "Writing D:/daps/daps/ipad_office1/segments/f9\\segment_11.wav...\n",
      "Writing D:/daps/daps/ipad_office1/segments/f9\\segment_12.wav...\n",
      "Writing D:/daps/daps/ipad_office1/segments/f9\\segment_13.wav...\n",
      "Writing D:/daps/daps/ipad_office1/segments/f9\\segment_14.wav...\n",
      "Writing D:/daps/daps/ipad_office1/segments/f9\\segment_15.wav...\n",
      "Writing D:/daps/daps/ipad_office1/segments/f9\\segment_16.wav...\n",
      "Writing D:/daps/daps/ipad_office1/segments/f9\\segment_17.wav...\n",
      "Writing D:/daps/daps/ipad_office1/segments/f9\\segment_18.wav...\n",
      "Writing D:/daps/daps/ipad_office1/segments/f9\\segment_19.wav...\n",
      "Writing D:/daps/daps/ipad_office1/segments/f9\\segment_20.wav...\n",
      "Writing D:/daps/daps/ipad_office1/segments/f9\\segment_21.wav...\n",
      "Writing D:/daps/daps/ipad_office1/segments/f9\\segment_22.wav...\n",
      "Writing D:/daps/daps/ipad_office1/segments/f9\\segment_23.wav...\n",
      "Writing D:/daps/daps/ipad_office1/segments/f9\\segment_24.wav...\n",
      "Writing D:/daps/daps/ipad_office1/segments/f9\\segment_25.wav...\n",
      "Skipping frame due to error: Error while processing frame\n",
      "Writing D:/daps/daps/ipad_office1/segments/f9\\segment_0.wav...\n",
      "Writing D:/daps/daps/ipad_office1/segments/f9\\segment_1.wav...\n",
      "Writing D:/daps/daps/ipad_office1/segments/f9\\segment_2.wav...\n",
      "Writing D:/daps/daps/ipad_office1/segments/f9\\segment_3.wav...\n",
      "Writing D:/daps/daps/ipad_office1/segments/f9\\segment_4.wav...\n",
      "Writing D:/daps/daps/ipad_office1/segments/f9\\segment_5.wav...\n",
      "Writing D:/daps/daps/ipad_office1/segments/f9\\segment_6.wav...\n",
      "Writing D:/daps/daps/ipad_office1/segments/f9\\segment_7.wav...\n",
      "Writing D:/daps/daps/ipad_office1/segments/f9\\segment_8.wav...\n",
      "Writing D:/daps/daps/ipad_office1/segments/f9\\segment_9.wav...\n",
      "Writing D:/daps/daps/ipad_office1/segments/f9\\segment_10.wav...\n",
      "Writing D:/daps/daps/ipad_office1/segments/f9\\segment_11.wav...\n",
      "Writing D:/daps/daps/ipad_office1/segments/f9\\segment_12.wav...\n",
      "Writing D:/daps/daps/ipad_office1/segments/f9\\segment_13.wav...\n",
      "Writing D:/daps/daps/ipad_office1/segments/f9\\segment_14.wav...\n",
      "Writing D:/daps/daps/ipad_office1/segments/f9\\segment_15.wav...\n",
      "Writing D:/daps/daps/ipad_office1/segments/f9\\segment_16.wav...\n",
      "Writing D:/daps/daps/ipad_office1/segments/f9\\segment_17.wav...\n",
      "Writing D:/daps/daps/ipad_office1/segments/f9\\segment_18.wav...\n",
      "Writing D:/daps/daps/ipad_office1/segments/f9\\segment_19.wav...\n",
      "Writing D:/daps/daps/ipad_office1/segments/f9\\segment_20.wav...\n",
      "Writing D:/daps/daps/ipad_office1/segments/f9\\segment_21.wav...\n",
      "Writing D:/daps/daps/ipad_office1/segments/f9\\segment_22.wav...\n",
      "Writing D:/daps/daps/ipad_office1/segments/f9\\segment_23.wav...\n",
      "Writing D:/daps/daps/ipad_office1/segments/f9\\segment_24.wav...\n",
      "Writing D:/daps/daps/ipad_office1/segments/f9\\segment_25.wav...\n",
      "Skipping frame due to error: Error while processing frame\n",
      "Writing D:/daps/daps/ipad_office1/segments/f9\\segment_0.wav...\n",
      "Writing D:/daps/daps/ipad_office1/segments/f9\\segment_1.wav...\n",
      "Writing D:/daps/daps/ipad_office1/segments/f9\\segment_2.wav...\n",
      "Writing D:/daps/daps/ipad_office1/segments/f9\\segment_3.wav...\n",
      "Writing D:/daps/daps/ipad_office1/segments/f9\\segment_4.wav...\n",
      "Writing D:/daps/daps/ipad_office1/segments/f9\\segment_5.wav...\n",
      "Writing D:/daps/daps/ipad_office1/segments/f9\\segment_6.wav...\n",
      "Writing D:/daps/daps/ipad_office1/segments/f9\\segment_7.wav...\n",
      "Writing D:/daps/daps/ipad_office1/segments/f9\\segment_8.wav...\n",
      "Writing D:/daps/daps/ipad_office1/segments/f9\\segment_9.wav...\n",
      "Writing D:/daps/daps/ipad_office1/segments/f9\\segment_10.wav...\n",
      "Writing D:/daps/daps/ipad_office1/segments/f9\\segment_11.wav...\n",
      "Writing D:/daps/daps/ipad_office1/segments/f9\\segment_12.wav...\n",
      "Writing D:/daps/daps/ipad_office1/segments/f9\\segment_13.wav...\n",
      "Writing D:/daps/daps/ipad_office1/segments/f9\\segment_14.wav...\n",
      "Writing D:/daps/daps/ipad_office1/segments/f9\\segment_15.wav...\n",
      "Writing D:/daps/daps/ipad_office1/segments/f9\\segment_16.wav...\n",
      "Writing D:/daps/daps/ipad_office1/segments/f9\\segment_17.wav...\n",
      "Writing D:/daps/daps/ipad_office1/segments/f9\\segment_18.wav...\n",
      "Writing D:/daps/daps/ipad_office1/segments/f9\\segment_19.wav...\n",
      "Writing D:/daps/daps/ipad_office1/segments/f9\\segment_20.wav...\n",
      "Writing D:/daps/daps/ipad_office1/segments/f9\\segment_21.wav...\n",
      "Writing D:/daps/daps/ipad_office1/segments/f9\\segment_22.wav...\n",
      "Writing D:/daps/daps/ipad_office1/segments/f9\\segment_23.wav...\n",
      "Writing D:/daps/daps/ipad_office1/segments/f9\\segment_24.wav...\n",
      "Writing D:/daps/daps/ipad_office1/segments/f9\\segment_25.wav...\n",
      "Writing D:/daps/daps/ipad_office1/segments/f9\\segment_26.wav...\n",
      "Writing D:/daps/daps/ipad_office1/segments/f9\\segment_27.wav...\n",
      "Skipping frame due to error: Error while processing frame\n",
      "Writing D:/daps/daps/ipad_office1/segments/f9\\segment_0.wav...\n",
      "Writing D:/daps/daps/ipad_office1/segments/f9\\segment_1.wav...\n",
      "Writing D:/daps/daps/ipad_office1/segments/f9\\segment_2.wav...\n",
      "Writing D:/daps/daps/ipad_office1/segments/f9\\segment_3.wav...\n",
      "Writing D:/daps/daps/ipad_office1/segments/f9\\segment_4.wav...\n",
      "Writing D:/daps/daps/ipad_office1/segments/f9\\segment_5.wav...\n",
      "Writing D:/daps/daps/ipad_office1/segments/f9\\segment_6.wav...\n",
      "Writing D:/daps/daps/ipad_office1/segments/f9\\segment_7.wav...\n",
      "Writing D:/daps/daps/ipad_office1/segments/f9\\segment_8.wav...\n",
      "Writing D:/daps/daps/ipad_office1/segments/f9\\segment_9.wav...\n",
      "Writing D:/daps/daps/ipad_office1/segments/f9\\segment_10.wav...\n",
      "Writing D:/daps/daps/ipad_office1/segments/f9\\segment_11.wav...\n",
      "Writing D:/daps/daps/ipad_office1/segments/f9\\segment_12.wav...\n",
      "Writing D:/daps/daps/ipad_office1/segments/f9\\segment_13.wav...\n",
      "Writing D:/daps/daps/ipad_office1/segments/f9\\segment_14.wav...\n",
      "Writing D:/daps/daps/ipad_office1/segments/f9\\segment_15.wav...\n",
      "Writing D:/daps/daps/ipad_office1/segments/f9\\segment_16.wav...\n",
      "Writing D:/daps/daps/ipad_office1/segments/f9\\segment_17.wav...\n",
      "Writing D:/daps/daps/ipad_office1/segments/f9\\segment_18.wav...\n",
      "Skipping frame due to error: Error while processing frame\n",
      "Writing D:/daps/daps/ipad_office1/segments/f9\\segment_0.wav...\n",
      "Writing D:/daps/daps/ipad_office1/segments/f9\\segment_1.wav...\n",
      "Writing D:/daps/daps/ipad_office1/segments/f9\\segment_2.wav...\n",
      "Writing D:/daps/daps/ipad_office1/segments/f9\\segment_3.wav...\n",
      "Writing D:/daps/daps/ipad_office1/segments/f9\\segment_4.wav...\n",
      "Writing D:/daps/daps/ipad_office1/segments/f9\\segment_5.wav...\n",
      "Writing D:/daps/daps/ipad_office1/segments/f9\\segment_6.wav...\n",
      "Writing D:/daps/daps/ipad_office1/segments/f9\\segment_7.wav...\n",
      "Writing D:/daps/daps/ipad_office1/segments/f9\\segment_8.wav...\n",
      "Writing D:/daps/daps/ipad_office1/segments/f9\\segment_9.wav...\n",
      "Writing D:/daps/daps/ipad_office1/segments/f9\\segment_10.wav...\n",
      "Writing D:/daps/daps/ipad_office1/segments/f9\\segment_11.wav...\n",
      "Writing D:/daps/daps/ipad_office1/segments/f9\\segment_12.wav...\n",
      "Writing D:/daps/daps/ipad_office1/segments/f9\\segment_13.wav...\n",
      "Writing D:/daps/daps/ipad_office1/segments/f9\\segment_14.wav...\n",
      "Writing D:/daps/daps/ipad_office1/segments/f9\\segment_15.wav...\n",
      "Writing D:/daps/daps/ipad_office1/segments/f9\\segment_16.wav...\n",
      "Writing D:/daps/daps/ipad_office1/segments/f9\\segment_17.wav...\n",
      "Writing D:/daps/daps/ipad_office1/segments/f9\\segment_18.wav...\n",
      "Writing D:/daps/daps/ipad_office1/segments/f9\\segment_19.wav...\n",
      "Writing D:/daps/daps/ipad_office1/segments/f9\\segment_20.wav...\n",
      "Writing D:/daps/daps/ipad_office1/segments/f9\\segment_21.wav...\n",
      "Writing D:/daps/daps/ipad_office1/segments/f9\\segment_22.wav...\n",
      "Writing D:/daps/daps/ipad_office1/segments/f9\\segment_23.wav...\n",
      "Writing D:/daps/daps/ipad_office1/segments/f9\\segment_24.wav...\n",
      "Writing D:/daps/daps/ipad_office1/segments/f9\\segment_25.wav...\n",
      "Writing D:/daps/daps/ipad_office1/segments/f9\\segment_26.wav...\n",
      "Writing D:/daps/daps/ipad_office1/segments/f9\\segment_27.wav...\n",
      "Writing D:/daps/daps/ipad_office1/segments/f9\\segment_28.wav...\n",
      "Writing D:/daps/daps/ipad_office1/segments/f9\\segment_29.wav...\n",
      "Writing D:/daps/daps/ipad_office1/segments/f9\\segment_30.wav...\n",
      "Skipping frame due to error: Error while processing frame\n",
      "Writing D:/daps/daps/ipad_office1/segments/m10\\segment_0.wav...\n",
      "Writing D:/daps/daps/ipad_office1/segments/m10\\segment_1.wav...\n",
      "Writing D:/daps/daps/ipad_office1/segments/m10\\segment_2.wav...\n",
      "Writing D:/daps/daps/ipad_office1/segments/m10\\segment_3.wav...\n",
      "Writing D:/daps/daps/ipad_office1/segments/m10\\segment_4.wav...\n",
      "Writing D:/daps/daps/ipad_office1/segments/m10\\segment_5.wav...\n",
      "Writing D:/daps/daps/ipad_office1/segments/m10\\segment_6.wav...\n",
      "Writing D:/daps/daps/ipad_office1/segments/m10\\segment_7.wav...\n",
      "Writing D:/daps/daps/ipad_office1/segments/m10\\segment_8.wav...\n",
      "Writing D:/daps/daps/ipad_office1/segments/m10\\segment_9.wav...\n",
      "Writing D:/daps/daps/ipad_office1/segments/m10\\segment_10.wav...\n",
      "Writing D:/daps/daps/ipad_office1/segments/m10\\segment_11.wav...\n",
      "Writing D:/daps/daps/ipad_office1/segments/m10\\segment_12.wav...\n",
      "Writing D:/daps/daps/ipad_office1/segments/m10\\segment_13.wav...\n",
      "Writing D:/daps/daps/ipad_office1/segments/m10\\segment_14.wav...\n",
      "Writing D:/daps/daps/ipad_office1/segments/m10\\segment_15.wav...\n",
      "Writing D:/daps/daps/ipad_office1/segments/m10\\segment_16.wav...\n",
      "Writing D:/daps/daps/ipad_office1/segments/m10\\segment_17.wav...\n",
      "Writing D:/daps/daps/ipad_office1/segments/m10\\segment_18.wav...\n",
      "Writing D:/daps/daps/ipad_office1/segments/m10\\segment_19.wav...\n",
      "Writing D:/daps/daps/ipad_office1/segments/m10\\segment_20.wav...\n",
      "Writing D:/daps/daps/ipad_office1/segments/m10\\segment_21.wav...\n",
      "Writing D:/daps/daps/ipad_office1/segments/m10\\segment_22.wav...\n",
      "Writing D:/daps/daps/ipad_office1/segments/m10\\segment_23.wav...\n",
      "Writing D:/daps/daps/ipad_office1/segments/m10\\segment_24.wav...\n",
      "Writing D:/daps/daps/ipad_office1/segments/m10\\segment_25.wav...\n",
      "Writing D:/daps/daps/ipad_office1/segments/m10\\segment_26.wav...\n",
      "Writing D:/daps/daps/ipad_office1/segments/m10\\segment_27.wav...\n",
      "Writing D:/daps/daps/ipad_office1/segments/m10\\segment_28.wav...\n",
      "Writing D:/daps/daps/ipad_office1/segments/m10\\segment_29.wav...\n",
      "Writing D:/daps/daps/ipad_office1/segments/m10\\segment_30.wav...\n",
      "Writing D:/daps/daps/ipad_office1/segments/m10\\segment_31.wav...\n",
      "Writing D:/daps/daps/ipad_office1/segments/m10\\segment_32.wav...\n",
      "Writing D:/daps/daps/ipad_office1/segments/m10\\segment_33.wav...\n",
      "Writing D:/daps/daps/ipad_office1/segments/m10\\segment_34.wav...\n",
      "Writing D:/daps/daps/ipad_office1/segments/m10\\segment_35.wav...\n",
      "Writing D:/daps/daps/ipad_office1/segments/m10\\segment_36.wav...\n",
      "Writing D:/daps/daps/ipad_office1/segments/m10\\segment_37.wav...\n",
      "Writing D:/daps/daps/ipad_office1/segments/m10\\segment_38.wav...\n",
      "Writing D:/daps/daps/ipad_office1/segments/m10\\segment_39.wav...\n",
      "Writing D:/daps/daps/ipad_office1/segments/m10\\segment_40.wav...\n",
      "Writing D:/daps/daps/ipad_office1/segments/m10\\segment_41.wav...\n",
      "Writing D:/daps/daps/ipad_office1/segments/m10\\segment_42.wav...\n",
      "Skipping frame due to error: Error while processing frame\n",
      "Writing D:/daps/daps/ipad_office1/segments/m10\\segment_0.wav...\n",
      "Writing D:/daps/daps/ipad_office1/segments/m10\\segment_1.wav...\n",
      "Writing D:/daps/daps/ipad_office1/segments/m10\\segment_2.wav...\n",
      "Writing D:/daps/daps/ipad_office1/segments/m10\\segment_3.wav...\n",
      "Writing D:/daps/daps/ipad_office1/segments/m10\\segment_4.wav...\n",
      "Writing D:/daps/daps/ipad_office1/segments/m10\\segment_5.wav...\n",
      "Writing D:/daps/daps/ipad_office1/segments/m10\\segment_6.wav...\n",
      "Writing D:/daps/daps/ipad_office1/segments/m10\\segment_7.wav...\n",
      "Writing D:/daps/daps/ipad_office1/segments/m10\\segment_8.wav...\n",
      "Writing D:/daps/daps/ipad_office1/segments/m10\\segment_9.wav...\n",
      "Writing D:/daps/daps/ipad_office1/segments/m10\\segment_10.wav...\n",
      "Writing D:/daps/daps/ipad_office1/segments/m10\\segment_11.wav...\n",
      "Writing D:/daps/daps/ipad_office1/segments/m10\\segment_12.wav...\n",
      "Writing D:/daps/daps/ipad_office1/segments/m10\\segment_13.wav...\n",
      "Writing D:/daps/daps/ipad_office1/segments/m10\\segment_14.wav...\n",
      "Writing D:/daps/daps/ipad_office1/segments/m10\\segment_15.wav...\n",
      "Writing D:/daps/daps/ipad_office1/segments/m10\\segment_16.wav...\n",
      "Writing D:/daps/daps/ipad_office1/segments/m10\\segment_17.wav...\n",
      "Writing D:/daps/daps/ipad_office1/segments/m10\\segment_18.wav...\n",
      "Writing D:/daps/daps/ipad_office1/segments/m10\\segment_19.wav...\n",
      "Writing D:/daps/daps/ipad_office1/segments/m10\\segment_20.wav...\n",
      "Writing D:/daps/daps/ipad_office1/segments/m10\\segment_21.wav...\n",
      "Writing D:/daps/daps/ipad_office1/segments/m10\\segment_22.wav...\n",
      "Writing D:/daps/daps/ipad_office1/segments/m10\\segment_23.wav...\n",
      "Writing D:/daps/daps/ipad_office1/segments/m10\\segment_24.wav...\n",
      "Writing D:/daps/daps/ipad_office1/segments/m10\\segment_25.wav...\n",
      "Writing D:/daps/daps/ipad_office1/segments/m10\\segment_26.wav...\n",
      "Writing D:/daps/daps/ipad_office1/segments/m10\\segment_27.wav...\n",
      "Writing D:/daps/daps/ipad_office1/segments/m10\\segment_28.wav...\n",
      "Writing D:/daps/daps/ipad_office1/segments/m10\\segment_29.wav...\n",
      "Writing D:/daps/daps/ipad_office1/segments/m10\\segment_30.wav...\n",
      "Writing D:/daps/daps/ipad_office1/segments/m10\\segment_31.wav...\n",
      "Writing D:/daps/daps/ipad_office1/segments/m10\\segment_32.wav...\n",
      "Writing D:/daps/daps/ipad_office1/segments/m10\\segment_33.wav...\n",
      "Writing D:/daps/daps/ipad_office1/segments/m10\\segment_34.wav...\n",
      "Writing D:/daps/daps/ipad_office1/segments/m10\\segment_35.wav...\n",
      "Writing D:/daps/daps/ipad_office1/segments/m10\\segment_36.wav...\n",
      "Writing D:/daps/daps/ipad_office1/segments/m10\\segment_37.wav...\n",
      "Writing D:/daps/daps/ipad_office1/segments/m10\\segment_38.wav...\n",
      "Writing D:/daps/daps/ipad_office1/segments/m10\\segment_39.wav...\n",
      "Writing D:/daps/daps/ipad_office1/segments/m10\\segment_40.wav...\n",
      "Writing D:/daps/daps/ipad_office1/segments/m10\\segment_41.wav...\n",
      "Writing D:/daps/daps/ipad_office1/segments/m10\\segment_42.wav...\n",
      "Writing D:/daps/daps/ipad_office1/segments/m10\\segment_43.wav...\n",
      "Writing D:/daps/daps/ipad_office1/segments/m10\\segment_44.wav...\n",
      "Writing D:/daps/daps/ipad_office1/segments/m10\\segment_45.wav...\n",
      "Writing D:/daps/daps/ipad_office1/segments/m10\\segment_46.wav...\n",
      "Writing D:/daps/daps/ipad_office1/segments/m10\\segment_47.wav...\n",
      "Writing D:/daps/daps/ipad_office1/segments/m10\\segment_48.wav...\n",
      "Writing D:/daps/daps/ipad_office1/segments/m10\\segment_49.wav...\n",
      "Writing D:/daps/daps/ipad_office1/segments/m10\\segment_50.wav...\n",
      "Writing D:/daps/daps/ipad_office1/segments/m10\\segment_51.wav...\n",
      "Writing D:/daps/daps/ipad_office1/segments/m10\\segment_52.wav...\n",
      "Writing D:/daps/daps/ipad_office1/segments/m10\\segment_53.wav...\n",
      "Writing D:/daps/daps/ipad_office1/segments/m10\\segment_54.wav...\n",
      "Writing D:/daps/daps/ipad_office1/segments/m10\\segment_55.wav...\n",
      "Writing D:/daps/daps/ipad_office1/segments/m10\\segment_56.wav...\n",
      "Writing D:/daps/daps/ipad_office1/segments/m10\\segment_57.wav...\n",
      "Writing D:/daps/daps/ipad_office1/segments/m10\\segment_58.wav...\n",
      "Skipping frame due to error: Error while processing frame\n",
      "Writing D:/daps/daps/ipad_office1/segments/m10\\segment_0.wav...\n",
      "Writing D:/daps/daps/ipad_office1/segments/m10\\segment_1.wav...\n",
      "Writing D:/daps/daps/ipad_office1/segments/m10\\segment_2.wav...\n",
      "Writing D:/daps/daps/ipad_office1/segments/m10\\segment_3.wav...\n",
      "Writing D:/daps/daps/ipad_office1/segments/m10\\segment_4.wav...\n",
      "Writing D:/daps/daps/ipad_office1/segments/m10\\segment_5.wav...\n",
      "Writing D:/daps/daps/ipad_office1/segments/m10\\segment_6.wav...\n",
      "Writing D:/daps/daps/ipad_office1/segments/m10\\segment_7.wav...\n",
      "Writing D:/daps/daps/ipad_office1/segments/m10\\segment_8.wav...\n",
      "Writing D:/daps/daps/ipad_office1/segments/m10\\segment_9.wav...\n",
      "Writing D:/daps/daps/ipad_office1/segments/m10\\segment_10.wav...\n",
      "Writing D:/daps/daps/ipad_office1/segments/m10\\segment_11.wav...\n",
      "Writing D:/daps/daps/ipad_office1/segments/m10\\segment_12.wav...\n",
      "Writing D:/daps/daps/ipad_office1/segments/m10\\segment_13.wav...\n",
      "Writing D:/daps/daps/ipad_office1/segments/m10\\segment_14.wav...\n",
      "Writing D:/daps/daps/ipad_office1/segments/m10\\segment_15.wav...\n",
      "Writing D:/daps/daps/ipad_office1/segments/m10\\segment_16.wav...\n",
      "Writing D:/daps/daps/ipad_office1/segments/m10\\segment_17.wav...\n",
      "Writing D:/daps/daps/ipad_office1/segments/m10\\segment_18.wav...\n",
      "Writing D:/daps/daps/ipad_office1/segments/m10\\segment_19.wav...\n",
      "Writing D:/daps/daps/ipad_office1/segments/m10\\segment_20.wav...\n",
      "Writing D:/daps/daps/ipad_office1/segments/m10\\segment_21.wav...\n",
      "Writing D:/daps/daps/ipad_office1/segments/m10\\segment_22.wav...\n",
      "Writing D:/daps/daps/ipad_office1/segments/m10\\segment_23.wav...\n",
      "Writing D:/daps/daps/ipad_office1/segments/m10\\segment_24.wav...\n",
      "Writing D:/daps/daps/ipad_office1/segments/m10\\segment_25.wav...\n",
      "Writing D:/daps/daps/ipad_office1/segments/m10\\segment_26.wav...\n",
      "Writing D:/daps/daps/ipad_office1/segments/m10\\segment_27.wav...\n",
      "Writing D:/daps/daps/ipad_office1/segments/m10\\segment_28.wav...\n",
      "Writing D:/daps/daps/ipad_office1/segments/m10\\segment_29.wav...\n",
      "Writing D:/daps/daps/ipad_office1/segments/m10\\segment_30.wav...\n",
      "Writing D:/daps/daps/ipad_office1/segments/m10\\segment_31.wav...\n",
      "Writing D:/daps/daps/ipad_office1/segments/m10\\segment_32.wav...\n",
      "Writing D:/daps/daps/ipad_office1/segments/m10\\segment_33.wav...\n",
      "Writing D:/daps/daps/ipad_office1/segments/m10\\segment_34.wav...\n",
      "Writing D:/daps/daps/ipad_office1/segments/m10\\segment_35.wav...\n",
      "Writing D:/daps/daps/ipad_office1/segments/m10\\segment_36.wav...\n",
      "Writing D:/daps/daps/ipad_office1/segments/m10\\segment_37.wav...\n",
      "Writing D:/daps/daps/ipad_office1/segments/m10\\segment_38.wav...\n",
      "Writing D:/daps/daps/ipad_office1/segments/m10\\segment_39.wav...\n",
      "Writing D:/daps/daps/ipad_office1/segments/m10\\segment_40.wav...\n",
      "Writing D:/daps/daps/ipad_office1/segments/m10\\segment_41.wav...\n",
      "Writing D:/daps/daps/ipad_office1/segments/m10\\segment_42.wav...\n",
      "Writing D:/daps/daps/ipad_office1/segments/m10\\segment_43.wav...\n",
      "Writing D:/daps/daps/ipad_office1/segments/m10\\segment_44.wav...\n",
      "Writing D:/daps/daps/ipad_office1/segments/m10\\segment_45.wav...\n",
      "Writing D:/daps/daps/ipad_office1/segments/m10\\segment_46.wav...\n",
      "Writing D:/daps/daps/ipad_office1/segments/m10\\segment_47.wav...\n",
      "Skipping frame due to error: Error while processing frame\n",
      "Writing D:/daps/daps/ipad_office1/segments/m10\\segment_0.wav...\n",
      "Writing D:/daps/daps/ipad_office1/segments/m10\\segment_1.wav...\n",
      "Writing D:/daps/daps/ipad_office1/segments/m10\\segment_2.wav...\n",
      "Writing D:/daps/daps/ipad_office1/segments/m10\\segment_3.wav...\n",
      "Writing D:/daps/daps/ipad_office1/segments/m10\\segment_4.wav...\n",
      "Writing D:/daps/daps/ipad_office1/segments/m10\\segment_5.wav...\n",
      "Writing D:/daps/daps/ipad_office1/segments/m10\\segment_6.wav...\n",
      "Writing D:/daps/daps/ipad_office1/segments/m10\\segment_7.wav...\n",
      "Writing D:/daps/daps/ipad_office1/segments/m10\\segment_8.wav...\n",
      "Writing D:/daps/daps/ipad_office1/segments/m10\\segment_9.wav...\n",
      "Writing D:/daps/daps/ipad_office1/segments/m10\\segment_10.wav...\n",
      "Writing D:/daps/daps/ipad_office1/segments/m10\\segment_11.wav...\n",
      "Writing D:/daps/daps/ipad_office1/segments/m10\\segment_12.wav...\n",
      "Writing D:/daps/daps/ipad_office1/segments/m10\\segment_13.wav...\n",
      "Writing D:/daps/daps/ipad_office1/segments/m10\\segment_14.wav...\n",
      "Writing D:/daps/daps/ipad_office1/segments/m10\\segment_15.wav...\n",
      "Writing D:/daps/daps/ipad_office1/segments/m10\\segment_16.wav...\n",
      "Writing D:/daps/daps/ipad_office1/segments/m10\\segment_17.wav...\n",
      "Writing D:/daps/daps/ipad_office1/segments/m10\\segment_18.wav...\n",
      "Writing D:/daps/daps/ipad_office1/segments/m10\\segment_19.wav...\n",
      "Writing D:/daps/daps/ipad_office1/segments/m10\\segment_20.wav...\n",
      "Writing D:/daps/daps/ipad_office1/segments/m10\\segment_21.wav...\n",
      "Writing D:/daps/daps/ipad_office1/segments/m10\\segment_22.wav...\n",
      "Writing D:/daps/daps/ipad_office1/segments/m10\\segment_23.wav...\n",
      "Writing D:/daps/daps/ipad_office1/segments/m10\\segment_24.wav...\n",
      "Writing D:/daps/daps/ipad_office1/segments/m10\\segment_25.wav...\n",
      "Writing D:/daps/daps/ipad_office1/segments/m10\\segment_26.wav...\n",
      "Writing D:/daps/daps/ipad_office1/segments/m10\\segment_27.wav...\n",
      "Writing D:/daps/daps/ipad_office1/segments/m10\\segment_28.wav...\n",
      "Writing D:/daps/daps/ipad_office1/segments/m10\\segment_29.wav...\n",
      "Writing D:/daps/daps/ipad_office1/segments/m10\\segment_30.wav...\n",
      "Writing D:/daps/daps/ipad_office1/segments/m10\\segment_31.wav...\n",
      "Skipping frame due to error: Error while processing frame\n",
      "Writing D:/daps/daps/ipad_office1/segments/m10\\segment_0.wav...\n",
      "Writing D:/daps/daps/ipad_office1/segments/m10\\segment_1.wav...\n",
      "Writing D:/daps/daps/ipad_office1/segments/m10\\segment_2.wav...\n",
      "Writing D:/daps/daps/ipad_office1/segments/m10\\segment_3.wav...\n",
      "Writing D:/daps/daps/ipad_office1/segments/m10\\segment_4.wav...\n",
      "Writing D:/daps/daps/ipad_office1/segments/m10\\segment_5.wav...\n",
      "Writing D:/daps/daps/ipad_office1/segments/m10\\segment_6.wav...\n",
      "Writing D:/daps/daps/ipad_office1/segments/m10\\segment_7.wav...\n",
      "Writing D:/daps/daps/ipad_office1/segments/m10\\segment_8.wav...\n",
      "Writing D:/daps/daps/ipad_office1/segments/m10\\segment_9.wav...\n",
      "Writing D:/daps/daps/ipad_office1/segments/m10\\segment_10.wav...\n",
      "Writing D:/daps/daps/ipad_office1/segments/m10\\segment_11.wav...\n",
      "Writing D:/daps/daps/ipad_office1/segments/m10\\segment_12.wav...\n",
      "Writing D:/daps/daps/ipad_office1/segments/m10\\segment_13.wav...\n",
      "Writing D:/daps/daps/ipad_office1/segments/m10\\segment_14.wav...\n",
      "Writing D:/daps/daps/ipad_office1/segments/m10\\segment_15.wav...\n",
      "Writing D:/daps/daps/ipad_office1/segments/m10\\segment_16.wav...\n",
      "Writing D:/daps/daps/ipad_office1/segments/m10\\segment_17.wav...\n",
      "Writing D:/daps/daps/ipad_office1/segments/m10\\segment_18.wav...\n",
      "Writing D:/daps/daps/ipad_office1/segments/m10\\segment_19.wav...\n",
      "Writing D:/daps/daps/ipad_office1/segments/m10\\segment_20.wav...\n",
      "Writing D:/daps/daps/ipad_office1/segments/m10\\segment_21.wav...\n",
      "Writing D:/daps/daps/ipad_office1/segments/m10\\segment_22.wav...\n",
      "Writing D:/daps/daps/ipad_office1/segments/m10\\segment_23.wav...\n",
      "Writing D:/daps/daps/ipad_office1/segments/m10\\segment_24.wav...\n",
      "Writing D:/daps/daps/ipad_office1/segments/m10\\segment_25.wav...\n",
      "Writing D:/daps/daps/ipad_office1/segments/m10\\segment_26.wav...\n",
      "Writing D:/daps/daps/ipad_office1/segments/m10\\segment_27.wav...\n",
      "Writing D:/daps/daps/ipad_office1/segments/m10\\segment_28.wav...\n",
      "Writing D:/daps/daps/ipad_office1/segments/m10\\segment_29.wav...\n",
      "Writing D:/daps/daps/ipad_office1/segments/m10\\segment_30.wav...\n",
      "Writing D:/daps/daps/ipad_office1/segments/m10\\segment_31.wav...\n",
      "Writing D:/daps/daps/ipad_office1/segments/m10\\segment_32.wav...\n",
      "Writing D:/daps/daps/ipad_office1/segments/m10\\segment_33.wav...\n",
      "Writing D:/daps/daps/ipad_office1/segments/m10\\segment_34.wav...\n",
      "Writing D:/daps/daps/ipad_office1/segments/m10\\segment_35.wav...\n",
      "Writing D:/daps/daps/ipad_office1/segments/m10\\segment_36.wav...\n",
      "Writing D:/daps/daps/ipad_office1/segments/m10\\segment_37.wav...\n",
      "Writing D:/daps/daps/ipad_office1/segments/m10\\segment_38.wav...\n",
      "Writing D:/daps/daps/ipad_office1/segments/m10\\segment_39.wav...\n",
      "Writing D:/daps/daps/ipad_office1/segments/m10\\segment_40.wav...\n",
      "Writing D:/daps/daps/ipad_office1/segments/m10\\segment_41.wav...\n",
      "Writing D:/daps/daps/ipad_office1/segments/m10\\segment_42.wav...\n",
      "Writing D:/daps/daps/ipad_office1/segments/m10\\segment_43.wav...\n",
      "Writing D:/daps/daps/ipad_office1/segments/m10\\segment_44.wav...\n",
      "Writing D:/daps/daps/ipad_office1/segments/m10\\segment_45.wav...\n",
      "Writing D:/daps/daps/ipad_office1/segments/m10\\segment_46.wav...\n",
      "Writing D:/daps/daps/ipad_office1/segments/m10\\segment_47.wav...\n",
      "Writing D:/daps/daps/ipad_office1/segments/m10\\segment_48.wav...\n",
      "Writing D:/daps/daps/ipad_office1/segments/m10\\segment_49.wav...\n",
      "Writing D:/daps/daps/ipad_office1/segments/m10\\segment_50.wav...\n",
      "Writing D:/daps/daps/ipad_office1/segments/m10\\segment_51.wav...\n",
      "Skipping frame due to error: Error while processing frame\n",
      "Writing D:/daps/daps/ipad_office1/segments/m1\\segment_0.wav...\n",
      "Writing D:/daps/daps/ipad_office1/segments/m1\\segment_1.wav...\n",
      "Writing D:/daps/daps/ipad_office1/segments/m1\\segment_2.wav...\n",
      "Writing D:/daps/daps/ipad_office1/segments/m1\\segment_3.wav...\n",
      "Writing D:/daps/daps/ipad_office1/segments/m1\\segment_4.wav...\n",
      "Writing D:/daps/daps/ipad_office1/segments/m1\\segment_5.wav...\n",
      "Writing D:/daps/daps/ipad_office1/segments/m1\\segment_6.wav...\n",
      "Writing D:/daps/daps/ipad_office1/segments/m1\\segment_7.wav...\n",
      "Writing D:/daps/daps/ipad_office1/segments/m1\\segment_8.wav...\n",
      "Writing D:/daps/daps/ipad_office1/segments/m1\\segment_9.wav...\n",
      "Writing D:/daps/daps/ipad_office1/segments/m1\\segment_10.wav...\n",
      "Writing D:/daps/daps/ipad_office1/segments/m1\\segment_11.wav...\n",
      "Writing D:/daps/daps/ipad_office1/segments/m1\\segment_12.wav...\n",
      "Writing D:/daps/daps/ipad_office1/segments/m1\\segment_13.wav...\n",
      "Writing D:/daps/daps/ipad_office1/segments/m1\\segment_14.wav...\n",
      "Writing D:/daps/daps/ipad_office1/segments/m1\\segment_15.wav...\n",
      "Writing D:/daps/daps/ipad_office1/segments/m1\\segment_16.wav...\n",
      "Writing D:/daps/daps/ipad_office1/segments/m1\\segment_17.wav...\n",
      "Writing D:/daps/daps/ipad_office1/segments/m1\\segment_18.wav...\n",
      "Writing D:/daps/daps/ipad_office1/segments/m1\\segment_19.wav...\n",
      "Writing D:/daps/daps/ipad_office1/segments/m1\\segment_20.wav...\n",
      "Writing D:/daps/daps/ipad_office1/segments/m1\\segment_21.wav...\n",
      "Writing D:/daps/daps/ipad_office1/segments/m1\\segment_22.wav...\n",
      "Writing D:/daps/daps/ipad_office1/segments/m1\\segment_23.wav...\n",
      "Writing D:/daps/daps/ipad_office1/segments/m1\\segment_24.wav...\n",
      "Writing D:/daps/daps/ipad_office1/segments/m1\\segment_25.wav...\n",
      "Writing D:/daps/daps/ipad_office1/segments/m1\\segment_26.wav...\n",
      "Writing D:/daps/daps/ipad_office1/segments/m1\\segment_27.wav...\n",
      "Writing D:/daps/daps/ipad_office1/segments/m1\\segment_28.wav...\n",
      "Writing D:/daps/daps/ipad_office1/segments/m1\\segment_29.wav...\n",
      "Writing D:/daps/daps/ipad_office1/segments/m1\\segment_30.wav...\n",
      "Skipping frame due to error: Error while processing frame\n",
      "Writing D:/daps/daps/ipad_office1/segments/m1\\segment_0.wav...\n",
      "Writing D:/daps/daps/ipad_office1/segments/m1\\segment_1.wav...\n",
      "Writing D:/daps/daps/ipad_office1/segments/m1\\segment_2.wav...\n",
      "Writing D:/daps/daps/ipad_office1/segments/m1\\segment_3.wav...\n",
      "Writing D:/daps/daps/ipad_office1/segments/m1\\segment_4.wav...\n",
      "Writing D:/daps/daps/ipad_office1/segments/m1\\segment_5.wav...\n",
      "Writing D:/daps/daps/ipad_office1/segments/m1\\segment_6.wav...\n",
      "Writing D:/daps/daps/ipad_office1/segments/m1\\segment_7.wav...\n",
      "Writing D:/daps/daps/ipad_office1/segments/m1\\segment_8.wav...\n",
      "Writing D:/daps/daps/ipad_office1/segments/m1\\segment_9.wav...\n",
      "Writing D:/daps/daps/ipad_office1/segments/m1\\segment_10.wav...\n",
      "Writing D:/daps/daps/ipad_office1/segments/m1\\segment_11.wav...\n",
      "Writing D:/daps/daps/ipad_office1/segments/m1\\segment_12.wav...\n",
      "Writing D:/daps/daps/ipad_office1/segments/m1\\segment_13.wav...\n",
      "Writing D:/daps/daps/ipad_office1/segments/m1\\segment_14.wav...\n",
      "Writing D:/daps/daps/ipad_office1/segments/m1\\segment_15.wav...\n",
      "Writing D:/daps/daps/ipad_office1/segments/m1\\segment_16.wav...\n",
      "Writing D:/daps/daps/ipad_office1/segments/m1\\segment_17.wav...\n",
      "Writing D:/daps/daps/ipad_office1/segments/m1\\segment_18.wav...\n",
      "Writing D:/daps/daps/ipad_office1/segments/m1\\segment_19.wav...\n",
      "Writing D:/daps/daps/ipad_office1/segments/m1\\segment_20.wav...\n",
      "Writing D:/daps/daps/ipad_office1/segments/m1\\segment_21.wav...\n",
      "Writing D:/daps/daps/ipad_office1/segments/m1\\segment_22.wav...\n",
      "Writing D:/daps/daps/ipad_office1/segments/m1\\segment_23.wav...\n",
      "Writing D:/daps/daps/ipad_office1/segments/m1\\segment_24.wav...\n",
      "Writing D:/daps/daps/ipad_office1/segments/m1\\segment_25.wav...\n",
      "Writing D:/daps/daps/ipad_office1/segments/m1\\segment_26.wav...\n",
      "Writing D:/daps/daps/ipad_office1/segments/m1\\segment_27.wav...\n",
      "Writing D:/daps/daps/ipad_office1/segments/m1\\segment_28.wav...\n",
      "Writing D:/daps/daps/ipad_office1/segments/m1\\segment_29.wav...\n",
      "Writing D:/daps/daps/ipad_office1/segments/m1\\segment_30.wav...\n",
      "Writing D:/daps/daps/ipad_office1/segments/m1\\segment_31.wav...\n",
      "Writing D:/daps/daps/ipad_office1/segments/m1\\segment_32.wav...\n",
      "Writing D:/daps/daps/ipad_office1/segments/m1\\segment_33.wav...\n",
      "Writing D:/daps/daps/ipad_office1/segments/m1\\segment_34.wav...\n",
      "Skipping frame due to error: Error while processing frame\n",
      "Writing D:/daps/daps/ipad_office1/segments/m1\\segment_0.wav...\n",
      "Writing D:/daps/daps/ipad_office1/segments/m1\\segment_1.wav...\n",
      "Writing D:/daps/daps/ipad_office1/segments/m1\\segment_2.wav...\n",
      "Writing D:/daps/daps/ipad_office1/segments/m1\\segment_3.wav...\n",
      "Writing D:/daps/daps/ipad_office1/segments/m1\\segment_4.wav...\n",
      "Writing D:/daps/daps/ipad_office1/segments/m1\\segment_5.wav...\n",
      "Writing D:/daps/daps/ipad_office1/segments/m1\\segment_6.wav...\n",
      "Writing D:/daps/daps/ipad_office1/segments/m1\\segment_7.wav...\n",
      "Writing D:/daps/daps/ipad_office1/segments/m1\\segment_8.wav...\n",
      "Writing D:/daps/daps/ipad_office1/segments/m1\\segment_9.wav...\n",
      "Writing D:/daps/daps/ipad_office1/segments/m1\\segment_10.wav...\n",
      "Writing D:/daps/daps/ipad_office1/segments/m1\\segment_11.wav...\n",
      "Writing D:/daps/daps/ipad_office1/segments/m1\\segment_12.wav...\n",
      "Writing D:/daps/daps/ipad_office1/segments/m1\\segment_13.wav...\n",
      "Writing D:/daps/daps/ipad_office1/segments/m1\\segment_14.wav...\n",
      "Writing D:/daps/daps/ipad_office1/segments/m1\\segment_15.wav...\n",
      "Writing D:/daps/daps/ipad_office1/segments/m1\\segment_16.wav...\n",
      "Writing D:/daps/daps/ipad_office1/segments/m1\\segment_17.wav...\n",
      "Writing D:/daps/daps/ipad_office1/segments/m1\\segment_18.wav...\n",
      "Writing D:/daps/daps/ipad_office1/segments/m1\\segment_19.wav...\n",
      "Writing D:/daps/daps/ipad_office1/segments/m1\\segment_20.wav...\n",
      "Writing D:/daps/daps/ipad_office1/segments/m1\\segment_21.wav...\n",
      "Writing D:/daps/daps/ipad_office1/segments/m1\\segment_22.wav...\n",
      "Writing D:/daps/daps/ipad_office1/segments/m1\\segment_23.wav...\n",
      "Writing D:/daps/daps/ipad_office1/segments/m1\\segment_24.wav...\n",
      "Writing D:/daps/daps/ipad_office1/segments/m1\\segment_25.wav...\n",
      "Writing D:/daps/daps/ipad_office1/segments/m1\\segment_26.wav...\n",
      "Writing D:/daps/daps/ipad_office1/segments/m1\\segment_27.wav...\n",
      "Writing D:/daps/daps/ipad_office1/segments/m1\\segment_28.wav...\n",
      "Skipping frame due to error: Error while processing frame\n",
      "Writing D:/daps/daps/ipad_office1/segments/m1\\segment_0.wav...\n",
      "Writing D:/daps/daps/ipad_office1/segments/m1\\segment_1.wav...\n",
      "Writing D:/daps/daps/ipad_office1/segments/m1\\segment_2.wav...\n",
      "Writing D:/daps/daps/ipad_office1/segments/m1\\segment_3.wav...\n",
      "Writing D:/daps/daps/ipad_office1/segments/m1\\segment_4.wav...\n",
      "Writing D:/daps/daps/ipad_office1/segments/m1\\segment_5.wav...\n",
      "Writing D:/daps/daps/ipad_office1/segments/m1\\segment_6.wav...\n",
      "Writing D:/daps/daps/ipad_office1/segments/m1\\segment_7.wav...\n",
      "Writing D:/daps/daps/ipad_office1/segments/m1\\segment_8.wav...\n",
      "Writing D:/daps/daps/ipad_office1/segments/m1\\segment_9.wav...\n",
      "Writing D:/daps/daps/ipad_office1/segments/m1\\segment_10.wav...\n",
      "Writing D:/daps/daps/ipad_office1/segments/m1\\segment_11.wav...\n",
      "Writing D:/daps/daps/ipad_office1/segments/m1\\segment_12.wav...\n",
      "Writing D:/daps/daps/ipad_office1/segments/m1\\segment_13.wav...\n",
      "Writing D:/daps/daps/ipad_office1/segments/m1\\segment_14.wav...\n",
      "Skipping frame due to error: Error while processing frame\n",
      "Writing D:/daps/daps/ipad_office1/segments/m1\\segment_0.wav...\n",
      "Writing D:/daps/daps/ipad_office1/segments/m1\\segment_1.wav...\n",
      "Writing D:/daps/daps/ipad_office1/segments/m1\\segment_2.wav...\n",
      "Writing D:/daps/daps/ipad_office1/segments/m1\\segment_3.wav...\n",
      "Writing D:/daps/daps/ipad_office1/segments/m1\\segment_4.wav...\n",
      "Writing D:/daps/daps/ipad_office1/segments/m1\\segment_5.wav...\n",
      "Writing D:/daps/daps/ipad_office1/segments/m1\\segment_6.wav...\n",
      "Writing D:/daps/daps/ipad_office1/segments/m1\\segment_7.wav...\n",
      "Writing D:/daps/daps/ipad_office1/segments/m1\\segment_8.wav...\n",
      "Writing D:/daps/daps/ipad_office1/segments/m1\\segment_9.wav...\n",
      "Writing D:/daps/daps/ipad_office1/segments/m1\\segment_10.wav...\n",
      "Writing D:/daps/daps/ipad_office1/segments/m1\\segment_11.wav...\n",
      "Writing D:/daps/daps/ipad_office1/segments/m1\\segment_12.wav...\n",
      "Writing D:/daps/daps/ipad_office1/segments/m1\\segment_13.wav...\n",
      "Writing D:/daps/daps/ipad_office1/segments/m1\\segment_14.wav...\n",
      "Writing D:/daps/daps/ipad_office1/segments/m1\\segment_15.wav...\n",
      "Writing D:/daps/daps/ipad_office1/segments/m1\\segment_16.wav...\n",
      "Writing D:/daps/daps/ipad_office1/segments/m1\\segment_17.wav...\n",
      "Writing D:/daps/daps/ipad_office1/segments/m1\\segment_18.wav...\n",
      "Writing D:/daps/daps/ipad_office1/segments/m1\\segment_19.wav...\n",
      "Writing D:/daps/daps/ipad_office1/segments/m1\\segment_20.wav...\n",
      "Writing D:/daps/daps/ipad_office1/segments/m1\\segment_21.wav...\n",
      "Writing D:/daps/daps/ipad_office1/segments/m1\\segment_22.wav...\n",
      "Writing D:/daps/daps/ipad_office1/segments/m1\\segment_23.wav...\n",
      "Writing D:/daps/daps/ipad_office1/segments/m1\\segment_24.wav...\n",
      "Skipping frame due to error: Error while processing frame\n",
      "Writing D:/daps/daps/ipad_office1/segments/m2\\segment_0.wav...\n",
      "Writing D:/daps/daps/ipad_office1/segments/m2\\segment_1.wav...\n",
      "Writing D:/daps/daps/ipad_office1/segments/m2\\segment_2.wav...\n",
      "Writing D:/daps/daps/ipad_office1/segments/m2\\segment_3.wav...\n",
      "Writing D:/daps/daps/ipad_office1/segments/m2\\segment_4.wav...\n",
      "Writing D:/daps/daps/ipad_office1/segments/m2\\segment_5.wav...\n",
      "Writing D:/daps/daps/ipad_office1/segments/m2\\segment_6.wav...\n",
      "Writing D:/daps/daps/ipad_office1/segments/m2\\segment_7.wav...\n",
      "Writing D:/daps/daps/ipad_office1/segments/m2\\segment_8.wav...\n",
      "Writing D:/daps/daps/ipad_office1/segments/m2\\segment_9.wav...\n",
      "Writing D:/daps/daps/ipad_office1/segments/m2\\segment_10.wav...\n",
      "Writing D:/daps/daps/ipad_office1/segments/m2\\segment_11.wav...\n",
      "Writing D:/daps/daps/ipad_office1/segments/m2\\segment_12.wav...\n",
      "Writing D:/daps/daps/ipad_office1/segments/m2\\segment_13.wav...\n",
      "Writing D:/daps/daps/ipad_office1/segments/m2\\segment_14.wav...\n",
      "Writing D:/daps/daps/ipad_office1/segments/m2\\segment_15.wav...\n",
      "Writing D:/daps/daps/ipad_office1/segments/m2\\segment_16.wav...\n",
      "Writing D:/daps/daps/ipad_office1/segments/m2\\segment_17.wav...\n",
      "Writing D:/daps/daps/ipad_office1/segments/m2\\segment_18.wav...\n",
      "Skipping frame due to error: Error while processing frame\n",
      "Writing D:/daps/daps/ipad_office1/segments/m2\\segment_0.wav...\n",
      "Writing D:/daps/daps/ipad_office1/segments/m2\\segment_1.wav...\n",
      "Writing D:/daps/daps/ipad_office1/segments/m2\\segment_2.wav...\n",
      "Writing D:/daps/daps/ipad_office1/segments/m2\\segment_3.wav...\n",
      "Writing D:/daps/daps/ipad_office1/segments/m2\\segment_4.wav...\n",
      "Writing D:/daps/daps/ipad_office1/segments/m2\\segment_5.wav...\n",
      "Writing D:/daps/daps/ipad_office1/segments/m2\\segment_6.wav...\n",
      "Writing D:/daps/daps/ipad_office1/segments/m2\\segment_7.wav...\n",
      "Writing D:/daps/daps/ipad_office1/segments/m2\\segment_8.wav...\n",
      "Writing D:/daps/daps/ipad_office1/segments/m2\\segment_9.wav...\n",
      "Writing D:/daps/daps/ipad_office1/segments/m2\\segment_10.wav...\n",
      "Writing D:/daps/daps/ipad_office1/segments/m2\\segment_11.wav...\n",
      "Writing D:/daps/daps/ipad_office1/segments/m2\\segment_12.wav...\n",
      "Writing D:/daps/daps/ipad_office1/segments/m2\\segment_13.wav...\n",
      "Writing D:/daps/daps/ipad_office1/segments/m2\\segment_14.wav...\n",
      "Writing D:/daps/daps/ipad_office1/segments/m2\\segment_15.wav...\n",
      "Writing D:/daps/daps/ipad_office1/segments/m2\\segment_16.wav...\n",
      "Writing D:/daps/daps/ipad_office1/segments/m2\\segment_17.wav...\n",
      "Writing D:/daps/daps/ipad_office1/segments/m2\\segment_18.wav...\n",
      "Writing D:/daps/daps/ipad_office1/segments/m2\\segment_19.wav...\n",
      "Writing D:/daps/daps/ipad_office1/segments/m2\\segment_20.wav...\n",
      "Writing D:/daps/daps/ipad_office1/segments/m2\\segment_21.wav...\n",
      "Writing D:/daps/daps/ipad_office1/segments/m2\\segment_22.wav...\n",
      "Skipping frame due to error: Error while processing frame\n",
      "Writing D:/daps/daps/ipad_office1/segments/m2\\segment_0.wav...\n",
      "Writing D:/daps/daps/ipad_office1/segments/m2\\segment_1.wav...\n",
      "Writing D:/daps/daps/ipad_office1/segments/m2\\segment_2.wav...\n",
      "Writing D:/daps/daps/ipad_office1/segments/m2\\segment_3.wav...\n",
      "Writing D:/daps/daps/ipad_office1/segments/m2\\segment_4.wav...\n",
      "Writing D:/daps/daps/ipad_office1/segments/m2\\segment_5.wav...\n",
      "Writing D:/daps/daps/ipad_office1/segments/m2\\segment_6.wav...\n",
      "Writing D:/daps/daps/ipad_office1/segments/m2\\segment_7.wav...\n",
      "Writing D:/daps/daps/ipad_office1/segments/m2\\segment_8.wav...\n",
      "Writing D:/daps/daps/ipad_office1/segments/m2\\segment_9.wav...\n",
      "Writing D:/daps/daps/ipad_office1/segments/m2\\segment_10.wav...\n",
      "Writing D:/daps/daps/ipad_office1/segments/m2\\segment_11.wav...\n",
      "Writing D:/daps/daps/ipad_office1/segments/m2\\segment_12.wav...\n",
      "Writing D:/daps/daps/ipad_office1/segments/m2\\segment_13.wav...\n",
      "Writing D:/daps/daps/ipad_office1/segments/m2\\segment_14.wav...\n",
      "Skipping frame due to error: Error while processing frame\n",
      "Writing D:/daps/daps/ipad_office1/segments/m2\\segment_0.wav...\n",
      "Writing D:/daps/daps/ipad_office1/segments/m2\\segment_1.wav...\n",
      "Writing D:/daps/daps/ipad_office1/segments/m2\\segment_2.wav...\n",
      "Writing D:/daps/daps/ipad_office1/segments/m2\\segment_3.wav...\n",
      "Writing D:/daps/daps/ipad_office1/segments/m2\\segment_4.wav...\n",
      "Writing D:/daps/daps/ipad_office1/segments/m2\\segment_5.wav...\n",
      "Writing D:/daps/daps/ipad_office1/segments/m2\\segment_6.wav...\n",
      "Writing D:/daps/daps/ipad_office1/segments/m2\\segment_7.wav...\n",
      "Writing D:/daps/daps/ipad_office1/segments/m2\\segment_8.wav...\n",
      "Writing D:/daps/daps/ipad_office1/segments/m2\\segment_9.wav...\n",
      "Writing D:/daps/daps/ipad_office1/segments/m2\\segment_10.wav...\n",
      "Writing D:/daps/daps/ipad_office1/segments/m2\\segment_11.wav...\n",
      "Writing D:/daps/daps/ipad_office1/segments/m2\\segment_12.wav...\n",
      "Writing D:/daps/daps/ipad_office1/segments/m2\\segment_13.wav...\n",
      "Skipping frame due to error: Error while processing frame\n",
      "Writing D:/daps/daps/ipad_office1/segments/m2\\segment_0.wav...\n",
      "Writing D:/daps/daps/ipad_office1/segments/m2\\segment_1.wav...\n",
      "Writing D:/daps/daps/ipad_office1/segments/m2\\segment_2.wav...\n",
      "Writing D:/daps/daps/ipad_office1/segments/m2\\segment_3.wav...\n",
      "Writing D:/daps/daps/ipad_office1/segments/m2\\segment_4.wav...\n",
      "Writing D:/daps/daps/ipad_office1/segments/m2\\segment_5.wav...\n",
      "Writing D:/daps/daps/ipad_office1/segments/m2\\segment_6.wav...\n",
      "Writing D:/daps/daps/ipad_office1/segments/m2\\segment_7.wav...\n",
      "Writing D:/daps/daps/ipad_office1/segments/m2\\segment_8.wav...\n",
      "Writing D:/daps/daps/ipad_office1/segments/m2\\segment_9.wav...\n",
      "Writing D:/daps/daps/ipad_office1/segments/m2\\segment_10.wav...\n",
      "Writing D:/daps/daps/ipad_office1/segments/m2\\segment_11.wav...\n",
      "Writing D:/daps/daps/ipad_office1/segments/m2\\segment_12.wav...\n",
      "Writing D:/daps/daps/ipad_office1/segments/m2\\segment_13.wav...\n",
      "Writing D:/daps/daps/ipad_office1/segments/m2\\segment_14.wav...\n",
      "Writing D:/daps/daps/ipad_office1/segments/m2\\segment_15.wav...\n",
      "Writing D:/daps/daps/ipad_office1/segments/m2\\segment_16.wav...\n",
      "Writing D:/daps/daps/ipad_office1/segments/m2\\segment_17.wav...\n",
      "Writing D:/daps/daps/ipad_office1/segments/m2\\segment_18.wav...\n",
      "Writing D:/daps/daps/ipad_office1/segments/m2\\segment_19.wav...\n",
      "Writing D:/daps/daps/ipad_office1/segments/m2\\segment_20.wav...\n",
      "Skipping frame due to error: Error while processing frame\n",
      "Writing D:/daps/daps/ipad_office1/segments/m3\\segment_0.wav...\n",
      "Writing D:/daps/daps/ipad_office1/segments/m3\\segment_1.wav...\n",
      "Writing D:/daps/daps/ipad_office1/segments/m3\\segment_2.wav...\n",
      "Writing D:/daps/daps/ipad_office1/segments/m3\\segment_3.wav...\n",
      "Writing D:/daps/daps/ipad_office1/segments/m3\\segment_4.wav...\n",
      "Writing D:/daps/daps/ipad_office1/segments/m3\\segment_5.wav...\n",
      "Writing D:/daps/daps/ipad_office1/segments/m3\\segment_6.wav...\n",
      "Writing D:/daps/daps/ipad_office1/segments/m3\\segment_7.wav...\n",
      "Writing D:/daps/daps/ipad_office1/segments/m3\\segment_8.wav...\n",
      "Writing D:/daps/daps/ipad_office1/segments/m3\\segment_9.wav...\n",
      "Writing D:/daps/daps/ipad_office1/segments/m3\\segment_10.wav...\n",
      "Writing D:/daps/daps/ipad_office1/segments/m3\\segment_11.wav...\n",
      "Writing D:/daps/daps/ipad_office1/segments/m3\\segment_12.wav...\n",
      "Writing D:/daps/daps/ipad_office1/segments/m3\\segment_13.wav...\n",
      "Writing D:/daps/daps/ipad_office1/segments/m3\\segment_14.wav...\n",
      "Writing D:/daps/daps/ipad_office1/segments/m3\\segment_15.wav...\n",
      "Writing D:/daps/daps/ipad_office1/segments/m3\\segment_16.wav...\n",
      "Writing D:/daps/daps/ipad_office1/segments/m3\\segment_17.wav...\n",
      "Writing D:/daps/daps/ipad_office1/segments/m3\\segment_18.wav...\n",
      "Writing D:/daps/daps/ipad_office1/segments/m3\\segment_19.wav...\n",
      "Writing D:/daps/daps/ipad_office1/segments/m3\\segment_20.wav...\n",
      "Writing D:/daps/daps/ipad_office1/segments/m3\\segment_21.wav...\n",
      "Writing D:/daps/daps/ipad_office1/segments/m3\\segment_22.wav...\n",
      "Writing D:/daps/daps/ipad_office1/segments/m3\\segment_23.wav...\n",
      "Writing D:/daps/daps/ipad_office1/segments/m3\\segment_24.wav...\n",
      "Writing D:/daps/daps/ipad_office1/segments/m3\\segment_25.wav...\n",
      "Writing D:/daps/daps/ipad_office1/segments/m3\\segment_26.wav...\n",
      "Writing D:/daps/daps/ipad_office1/segments/m3\\segment_27.wav...\n",
      "Writing D:/daps/daps/ipad_office1/segments/m3\\segment_28.wav...\n",
      "Writing D:/daps/daps/ipad_office1/segments/m3\\segment_29.wav...\n",
      "Writing D:/daps/daps/ipad_office1/segments/m3\\segment_30.wav...\n",
      "Skipping frame due to error: Error while processing frame\n",
      "Writing D:/daps/daps/ipad_office1/segments/m3\\segment_0.wav...\n",
      "Writing D:/daps/daps/ipad_office1/segments/m3\\segment_1.wav...\n",
      "Writing D:/daps/daps/ipad_office1/segments/m3\\segment_2.wav...\n",
      "Writing D:/daps/daps/ipad_office1/segments/m3\\segment_3.wav...\n",
      "Writing D:/daps/daps/ipad_office1/segments/m3\\segment_4.wav...\n",
      "Writing D:/daps/daps/ipad_office1/segments/m3\\segment_5.wav...\n",
      "Writing D:/daps/daps/ipad_office1/segments/m3\\segment_6.wav...\n",
      "Writing D:/daps/daps/ipad_office1/segments/m3\\segment_7.wav...\n",
      "Writing D:/daps/daps/ipad_office1/segments/m3\\segment_8.wav...\n",
      "Writing D:/daps/daps/ipad_office1/segments/m3\\segment_9.wav...\n",
      "Writing D:/daps/daps/ipad_office1/segments/m3\\segment_10.wav...\n",
      "Writing D:/daps/daps/ipad_office1/segments/m3\\segment_11.wav...\n",
      "Writing D:/daps/daps/ipad_office1/segments/m3\\segment_12.wav...\n",
      "Writing D:/daps/daps/ipad_office1/segments/m3\\segment_13.wav...\n",
      "Writing D:/daps/daps/ipad_office1/segments/m3\\segment_14.wav...\n",
      "Writing D:/daps/daps/ipad_office1/segments/m3\\segment_15.wav...\n",
      "Writing D:/daps/daps/ipad_office1/segments/m3\\segment_16.wav...\n",
      "Writing D:/daps/daps/ipad_office1/segments/m3\\segment_17.wav...\n",
      "Writing D:/daps/daps/ipad_office1/segments/m3\\segment_18.wav...\n",
      "Writing D:/daps/daps/ipad_office1/segments/m3\\segment_19.wav...\n",
      "Writing D:/daps/daps/ipad_office1/segments/m3\\segment_20.wav...\n",
      "Writing D:/daps/daps/ipad_office1/segments/m3\\segment_21.wav...\n",
      "Writing D:/daps/daps/ipad_office1/segments/m3\\segment_22.wav...\n",
      "Writing D:/daps/daps/ipad_office1/segments/m3\\segment_23.wav...\n",
      "Writing D:/daps/daps/ipad_office1/segments/m3\\segment_24.wav...\n",
      "Writing D:/daps/daps/ipad_office1/segments/m3\\segment_25.wav...\n",
      "Writing D:/daps/daps/ipad_office1/segments/m3\\segment_26.wav...\n",
      "Writing D:/daps/daps/ipad_office1/segments/m3\\segment_27.wav...\n",
      "Writing D:/daps/daps/ipad_office1/segments/m3\\segment_28.wav...\n",
      "Writing D:/daps/daps/ipad_office1/segments/m3\\segment_29.wav...\n",
      "Writing D:/daps/daps/ipad_office1/segments/m3\\segment_30.wav...\n",
      "Writing D:/daps/daps/ipad_office1/segments/m3\\segment_31.wav...\n",
      "Writing D:/daps/daps/ipad_office1/segments/m3\\segment_32.wav...\n",
      "Writing D:/daps/daps/ipad_office1/segments/m3\\segment_33.wav...\n",
      "Writing D:/daps/daps/ipad_office1/segments/m3\\segment_34.wav...\n",
      "Writing D:/daps/daps/ipad_office1/segments/m3\\segment_35.wav...\n",
      "Writing D:/daps/daps/ipad_office1/segments/m3\\segment_36.wav...\n",
      "Writing D:/daps/daps/ipad_office1/segments/m3\\segment_37.wav...\n",
      "Skipping frame due to error: Error while processing frame\n",
      "Writing D:/daps/daps/ipad_office1/segments/m3\\segment_0.wav...\n",
      "Writing D:/daps/daps/ipad_office1/segments/m3\\segment_1.wav...\n",
      "Writing D:/daps/daps/ipad_office1/segments/m3\\segment_2.wav...\n",
      "Writing D:/daps/daps/ipad_office1/segments/m3\\segment_3.wav...\n",
      "Writing D:/daps/daps/ipad_office1/segments/m3\\segment_4.wav...\n",
      "Writing D:/daps/daps/ipad_office1/segments/m3\\segment_5.wav...\n",
      "Writing D:/daps/daps/ipad_office1/segments/m3\\segment_6.wav...\n",
      "Writing D:/daps/daps/ipad_office1/segments/m3\\segment_7.wav...\n",
      "Writing D:/daps/daps/ipad_office1/segments/m3\\segment_8.wav...\n",
      "Writing D:/daps/daps/ipad_office1/segments/m3\\segment_9.wav...\n",
      "Writing D:/daps/daps/ipad_office1/segments/m3\\segment_10.wav...\n",
      "Writing D:/daps/daps/ipad_office1/segments/m3\\segment_11.wav...\n",
      "Writing D:/daps/daps/ipad_office1/segments/m3\\segment_12.wav...\n",
      "Writing D:/daps/daps/ipad_office1/segments/m3\\segment_13.wav...\n",
      "Writing D:/daps/daps/ipad_office1/segments/m3\\segment_14.wav...\n",
      "Writing D:/daps/daps/ipad_office1/segments/m3\\segment_15.wav...\n",
      "Writing D:/daps/daps/ipad_office1/segments/m3\\segment_16.wav...\n",
      "Writing D:/daps/daps/ipad_office1/segments/m3\\segment_17.wav...\n",
      "Writing D:/daps/daps/ipad_office1/segments/m3\\segment_18.wav...\n",
      "Writing D:/daps/daps/ipad_office1/segments/m3\\segment_19.wav...\n",
      "Writing D:/daps/daps/ipad_office1/segments/m3\\segment_20.wav...\n",
      "Writing D:/daps/daps/ipad_office1/segments/m3\\segment_21.wav...\n",
      "Writing D:/daps/daps/ipad_office1/segments/m3\\segment_22.wav...\n",
      "Writing D:/daps/daps/ipad_office1/segments/m3\\segment_23.wav...\n",
      "Writing D:/daps/daps/ipad_office1/segments/m3\\segment_24.wav...\n",
      "Writing D:/daps/daps/ipad_office1/segments/m3\\segment_25.wav...\n",
      "Writing D:/daps/daps/ipad_office1/segments/m3\\segment_26.wav...\n",
      "Writing D:/daps/daps/ipad_office1/segments/m3\\segment_27.wav...\n",
      "Writing D:/daps/daps/ipad_office1/segments/m3\\segment_28.wav...\n",
      "Writing D:/daps/daps/ipad_office1/segments/m3\\segment_29.wav...\n",
      "Writing D:/daps/daps/ipad_office1/segments/m3\\segment_30.wav...\n",
      "Writing D:/daps/daps/ipad_office1/segments/m3\\segment_31.wav...\n",
      "Writing D:/daps/daps/ipad_office1/segments/m3\\segment_32.wav...\n",
      "Writing D:/daps/daps/ipad_office1/segments/m3\\segment_33.wav...\n",
      "Skipping frame due to error: Error while processing frame\n",
      "Writing D:/daps/daps/ipad_office1/segments/m3\\segment_0.wav...\n",
      "Writing D:/daps/daps/ipad_office1/segments/m3\\segment_1.wav...\n",
      "Writing D:/daps/daps/ipad_office1/segments/m3\\segment_2.wav...\n",
      "Writing D:/daps/daps/ipad_office1/segments/m3\\segment_3.wav...\n",
      "Writing D:/daps/daps/ipad_office1/segments/m3\\segment_4.wav...\n",
      "Writing D:/daps/daps/ipad_office1/segments/m3\\segment_5.wav...\n",
      "Writing D:/daps/daps/ipad_office1/segments/m3\\segment_6.wav...\n",
      "Writing D:/daps/daps/ipad_office1/segments/m3\\segment_7.wav...\n",
      "Writing D:/daps/daps/ipad_office1/segments/m3\\segment_8.wav...\n",
      "Writing D:/daps/daps/ipad_office1/segments/m3\\segment_9.wav...\n",
      "Writing D:/daps/daps/ipad_office1/segments/m3\\segment_10.wav...\n",
      "Writing D:/daps/daps/ipad_office1/segments/m3\\segment_11.wav...\n",
      "Writing D:/daps/daps/ipad_office1/segments/m3\\segment_12.wav...\n",
      "Writing D:/daps/daps/ipad_office1/segments/m3\\segment_13.wav...\n",
      "Writing D:/daps/daps/ipad_office1/segments/m3\\segment_14.wav...\n",
      "Writing D:/daps/daps/ipad_office1/segments/m3\\segment_15.wav...\n",
      "Writing D:/daps/daps/ipad_office1/segments/m3\\segment_16.wav...\n",
      "Writing D:/daps/daps/ipad_office1/segments/m3\\segment_17.wav...\n",
      "Writing D:/daps/daps/ipad_office1/segments/m3\\segment_18.wav...\n",
      "Writing D:/daps/daps/ipad_office1/segments/m3\\segment_19.wav...\n",
      "Writing D:/daps/daps/ipad_office1/segments/m3\\segment_20.wav...\n",
      "Writing D:/daps/daps/ipad_office1/segments/m3\\segment_21.wav...\n",
      "Skipping frame due to error: Error while processing frame\n",
      "Writing D:/daps/daps/ipad_office1/segments/m3\\segment_0.wav...\n",
      "Writing D:/daps/daps/ipad_office1/segments/m3\\segment_1.wav...\n",
      "Writing D:/daps/daps/ipad_office1/segments/m3\\segment_2.wav...\n",
      "Writing D:/daps/daps/ipad_office1/segments/m3\\segment_3.wav...\n",
      "Writing D:/daps/daps/ipad_office1/segments/m3\\segment_4.wav...\n",
      "Writing D:/daps/daps/ipad_office1/segments/m3\\segment_5.wav...\n",
      "Writing D:/daps/daps/ipad_office1/segments/m3\\segment_6.wav...\n",
      "Writing D:/daps/daps/ipad_office1/segments/m3\\segment_7.wav...\n",
      "Writing D:/daps/daps/ipad_office1/segments/m3\\segment_8.wav...\n",
      "Writing D:/daps/daps/ipad_office1/segments/m3\\segment_9.wav...\n",
      "Writing D:/daps/daps/ipad_office1/segments/m3\\segment_10.wav...\n",
      "Writing D:/daps/daps/ipad_office1/segments/m3\\segment_11.wav...\n",
      "Writing D:/daps/daps/ipad_office1/segments/m3\\segment_12.wav...\n",
      "Writing D:/daps/daps/ipad_office1/segments/m3\\segment_13.wav...\n",
      "Writing D:/daps/daps/ipad_office1/segments/m3\\segment_14.wav...\n",
      "Writing D:/daps/daps/ipad_office1/segments/m3\\segment_15.wav...\n",
      "Writing D:/daps/daps/ipad_office1/segments/m3\\segment_16.wav...\n",
      "Writing D:/daps/daps/ipad_office1/segments/m3\\segment_17.wav...\n",
      "Writing D:/daps/daps/ipad_office1/segments/m3\\segment_18.wav...\n",
      "Writing D:/daps/daps/ipad_office1/segments/m3\\segment_19.wav...\n",
      "Writing D:/daps/daps/ipad_office1/segments/m3\\segment_20.wav...\n",
      "Writing D:/daps/daps/ipad_office1/segments/m3\\segment_21.wav...\n",
      "Writing D:/daps/daps/ipad_office1/segments/m3\\segment_22.wav...\n",
      "Writing D:/daps/daps/ipad_office1/segments/m3\\segment_23.wav...\n",
      "Writing D:/daps/daps/ipad_office1/segments/m3\\segment_24.wav...\n",
      "Writing D:/daps/daps/ipad_office1/segments/m3\\segment_25.wav...\n",
      "Writing D:/daps/daps/ipad_office1/segments/m3\\segment_26.wav...\n",
      "Writing D:/daps/daps/ipad_office1/segments/m3\\segment_27.wav...\n",
      "Writing D:/daps/daps/ipad_office1/segments/m3\\segment_28.wav...\n",
      "Writing D:/daps/daps/ipad_office1/segments/m3\\segment_29.wav...\n",
      "Writing D:/daps/daps/ipad_office1/segments/m3\\segment_30.wav...\n",
      "Skipping frame due to error: Error while processing frame\n",
      "Writing D:/daps/daps/ipad_office1/segments/m4\\segment_0.wav...\n",
      "Writing D:/daps/daps/ipad_office1/segments/m4\\segment_1.wav...\n",
      "Writing D:/daps/daps/ipad_office1/segments/m4\\segment_2.wav...\n",
      "Writing D:/daps/daps/ipad_office1/segments/m4\\segment_3.wav...\n",
      "Writing D:/daps/daps/ipad_office1/segments/m4\\segment_4.wav...\n",
      "Writing D:/daps/daps/ipad_office1/segments/m4\\segment_5.wav...\n",
      "Writing D:/daps/daps/ipad_office1/segments/m4\\segment_6.wav...\n",
      "Writing D:/daps/daps/ipad_office1/segments/m4\\segment_7.wav...\n",
      "Writing D:/daps/daps/ipad_office1/segments/m4\\segment_8.wav...\n",
      "Writing D:/daps/daps/ipad_office1/segments/m4\\segment_9.wav...\n",
      "Writing D:/daps/daps/ipad_office1/segments/m4\\segment_10.wav...\n",
      "Writing D:/daps/daps/ipad_office1/segments/m4\\segment_11.wav...\n",
      "Writing D:/daps/daps/ipad_office1/segments/m4\\segment_12.wav...\n",
      "Writing D:/daps/daps/ipad_office1/segments/m4\\segment_13.wav...\n",
      "Writing D:/daps/daps/ipad_office1/segments/m4\\segment_14.wav...\n",
      "Writing D:/daps/daps/ipad_office1/segments/m4\\segment_15.wav...\n",
      "Writing D:/daps/daps/ipad_office1/segments/m4\\segment_16.wav...\n",
      "Writing D:/daps/daps/ipad_office1/segments/m4\\segment_17.wav...\n",
      "Writing D:/daps/daps/ipad_office1/segments/m4\\segment_18.wav...\n",
      "Writing D:/daps/daps/ipad_office1/segments/m4\\segment_19.wav...\n",
      "Writing D:/daps/daps/ipad_office1/segments/m4\\segment_20.wav...\n",
      "Writing D:/daps/daps/ipad_office1/segments/m4\\segment_21.wav...\n",
      "Writing D:/daps/daps/ipad_office1/segments/m4\\segment_22.wav...\n",
      "Skipping frame due to error: Error while processing frame\n",
      "Writing D:/daps/daps/ipad_office1/segments/m4\\segment_0.wav...\n",
      "Writing D:/daps/daps/ipad_office1/segments/m4\\segment_1.wav...\n",
      "Writing D:/daps/daps/ipad_office1/segments/m4\\segment_2.wav...\n",
      "Writing D:/daps/daps/ipad_office1/segments/m4\\segment_3.wav...\n",
      "Writing D:/daps/daps/ipad_office1/segments/m4\\segment_4.wav...\n",
      "Writing D:/daps/daps/ipad_office1/segments/m4\\segment_5.wav...\n",
      "Writing D:/daps/daps/ipad_office1/segments/m4\\segment_6.wav...\n",
      "Writing D:/daps/daps/ipad_office1/segments/m4\\segment_7.wav...\n",
      "Writing D:/daps/daps/ipad_office1/segments/m4\\segment_8.wav...\n",
      "Writing D:/daps/daps/ipad_office1/segments/m4\\segment_9.wav...\n",
      "Writing D:/daps/daps/ipad_office1/segments/m4\\segment_10.wav...\n",
      "Writing D:/daps/daps/ipad_office1/segments/m4\\segment_11.wav...\n",
      "Writing D:/daps/daps/ipad_office1/segments/m4\\segment_12.wav...\n",
      "Writing D:/daps/daps/ipad_office1/segments/m4\\segment_13.wav...\n",
      "Writing D:/daps/daps/ipad_office1/segments/m4\\segment_14.wav...\n",
      "Writing D:/daps/daps/ipad_office1/segments/m4\\segment_15.wav...\n",
      "Writing D:/daps/daps/ipad_office1/segments/m4\\segment_16.wav...\n",
      "Writing D:/daps/daps/ipad_office1/segments/m4\\segment_17.wav...\n",
      "Writing D:/daps/daps/ipad_office1/segments/m4\\segment_18.wav...\n",
      "Writing D:/daps/daps/ipad_office1/segments/m4\\segment_19.wav...\n",
      "Writing D:/daps/daps/ipad_office1/segments/m4\\segment_20.wav...\n",
      "Writing D:/daps/daps/ipad_office1/segments/m4\\segment_21.wav...\n",
      "Writing D:/daps/daps/ipad_office1/segments/m4\\segment_22.wav...\n",
      "Writing D:/daps/daps/ipad_office1/segments/m4\\segment_23.wav...\n",
      "Skipping frame due to error: Error while processing frame\n",
      "Writing D:/daps/daps/ipad_office1/segments/m4\\segment_0.wav...\n",
      "Writing D:/daps/daps/ipad_office1/segments/m4\\segment_1.wav...\n",
      "Writing D:/daps/daps/ipad_office1/segments/m4\\segment_2.wav...\n",
      "Writing D:/daps/daps/ipad_office1/segments/m4\\segment_3.wav...\n",
      "Writing D:/daps/daps/ipad_office1/segments/m4\\segment_4.wav...\n",
      "Writing D:/daps/daps/ipad_office1/segments/m4\\segment_5.wav...\n",
      "Writing D:/daps/daps/ipad_office1/segments/m4\\segment_6.wav...\n",
      "Writing D:/daps/daps/ipad_office1/segments/m4\\segment_7.wav...\n",
      "Writing D:/daps/daps/ipad_office1/segments/m4\\segment_8.wav...\n",
      "Writing D:/daps/daps/ipad_office1/segments/m4\\segment_9.wav...\n",
      "Writing D:/daps/daps/ipad_office1/segments/m4\\segment_10.wav...\n",
      "Writing D:/daps/daps/ipad_office1/segments/m4\\segment_11.wav...\n",
      "Writing D:/daps/daps/ipad_office1/segments/m4\\segment_12.wav...\n",
      "Writing D:/daps/daps/ipad_office1/segments/m4\\segment_13.wav...\n",
      "Writing D:/daps/daps/ipad_office1/segments/m4\\segment_14.wav...\n",
      "Writing D:/daps/daps/ipad_office1/segments/m4\\segment_15.wav...\n",
      "Writing D:/daps/daps/ipad_office1/segments/m4\\segment_16.wav...\n",
      "Writing D:/daps/daps/ipad_office1/segments/m4\\segment_17.wav...\n",
      "Writing D:/daps/daps/ipad_office1/segments/m4\\segment_18.wav...\n",
      "Writing D:/daps/daps/ipad_office1/segments/m4\\segment_19.wav...\n",
      "Skipping frame due to error: Error while processing frame\n",
      "Writing D:/daps/daps/ipad_office1/segments/m4\\segment_0.wav...\n",
      "Writing D:/daps/daps/ipad_office1/segments/m4\\segment_1.wav...\n",
      "Writing D:/daps/daps/ipad_office1/segments/m4\\segment_2.wav...\n",
      "Writing D:/daps/daps/ipad_office1/segments/m4\\segment_3.wav...\n",
      "Writing D:/daps/daps/ipad_office1/segments/m4\\segment_4.wav...\n",
      "Writing D:/daps/daps/ipad_office1/segments/m4\\segment_5.wav...\n",
      "Writing D:/daps/daps/ipad_office1/segments/m4\\segment_6.wav...\n",
      "Writing D:/daps/daps/ipad_office1/segments/m4\\segment_7.wav...\n",
      "Writing D:/daps/daps/ipad_office1/segments/m4\\segment_8.wav...\n",
      "Writing D:/daps/daps/ipad_office1/segments/m4\\segment_9.wav...\n",
      "Writing D:/daps/daps/ipad_office1/segments/m4\\segment_10.wav...\n",
      "Writing D:/daps/daps/ipad_office1/segments/m4\\segment_11.wav...\n",
      "Writing D:/daps/daps/ipad_office1/segments/m4\\segment_12.wav...\n",
      "Writing D:/daps/daps/ipad_office1/segments/m4\\segment_13.wav...\n",
      "Writing D:/daps/daps/ipad_office1/segments/m4\\segment_14.wav...\n",
      "Writing D:/daps/daps/ipad_office1/segments/m4\\segment_15.wav...\n",
      "Skipping frame due to error: Error while processing frame\n",
      "Writing D:/daps/daps/ipad_office1/segments/m4\\segment_0.wav...\n",
      "Writing D:/daps/daps/ipad_office1/segments/m4\\segment_1.wav...\n",
      "Writing D:/daps/daps/ipad_office1/segments/m4\\segment_2.wav...\n",
      "Writing D:/daps/daps/ipad_office1/segments/m4\\segment_3.wav...\n",
      "Writing D:/daps/daps/ipad_office1/segments/m4\\segment_4.wav...\n",
      "Writing D:/daps/daps/ipad_office1/segments/m4\\segment_5.wav...\n",
      "Writing D:/daps/daps/ipad_office1/segments/m4\\segment_6.wav...\n",
      "Writing D:/daps/daps/ipad_office1/segments/m4\\segment_7.wav...\n",
      "Writing D:/daps/daps/ipad_office1/segments/m4\\segment_8.wav...\n",
      "Writing D:/daps/daps/ipad_office1/segments/m4\\segment_9.wav...\n",
      "Writing D:/daps/daps/ipad_office1/segments/m4\\segment_10.wav...\n",
      "Writing D:/daps/daps/ipad_office1/segments/m4\\segment_11.wav...\n",
      "Writing D:/daps/daps/ipad_office1/segments/m4\\segment_12.wav...\n",
      "Writing D:/daps/daps/ipad_office1/segments/m4\\segment_13.wav...\n",
      "Writing D:/daps/daps/ipad_office1/segments/m4\\segment_14.wav...\n",
      "Writing D:/daps/daps/ipad_office1/segments/m4\\segment_15.wav...\n",
      "Writing D:/daps/daps/ipad_office1/segments/m4\\segment_16.wav...\n",
      "Writing D:/daps/daps/ipad_office1/segments/m4\\segment_17.wav...\n",
      "Writing D:/daps/daps/ipad_office1/segments/m4\\segment_18.wav...\n",
      "Writing D:/daps/daps/ipad_office1/segments/m4\\segment_19.wav...\n",
      "Writing D:/daps/daps/ipad_office1/segments/m4\\segment_20.wav...\n",
      "Writing D:/daps/daps/ipad_office1/segments/m4\\segment_21.wav...\n",
      "Writing D:/daps/daps/ipad_office1/segments/m4\\segment_22.wav...\n",
      "Writing D:/daps/daps/ipad_office1/segments/m4\\segment_23.wav...\n",
      "Skipping frame due to error: Error while processing frame\n",
      "Writing D:/daps/daps/ipad_office1/segments/m5\\segment_0.wav...\n",
      "Writing D:/daps/daps/ipad_office1/segments/m5\\segment_1.wav...\n",
      "Writing D:/daps/daps/ipad_office1/segments/m5\\segment_2.wav...\n",
      "Writing D:/daps/daps/ipad_office1/segments/m5\\segment_3.wav...\n",
      "Writing D:/daps/daps/ipad_office1/segments/m5\\segment_4.wav...\n",
      "Writing D:/daps/daps/ipad_office1/segments/m5\\segment_5.wav...\n",
      "Writing D:/daps/daps/ipad_office1/segments/m5\\segment_6.wav...\n",
      "Writing D:/daps/daps/ipad_office1/segments/m5\\segment_7.wav...\n",
      "Writing D:/daps/daps/ipad_office1/segments/m5\\segment_8.wav...\n",
      "Writing D:/daps/daps/ipad_office1/segments/m5\\segment_9.wav...\n",
      "Writing D:/daps/daps/ipad_office1/segments/m5\\segment_10.wav...\n",
      "Writing D:/daps/daps/ipad_office1/segments/m5\\segment_11.wav...\n",
      "Writing D:/daps/daps/ipad_office1/segments/m5\\segment_12.wav...\n",
      "Writing D:/daps/daps/ipad_office1/segments/m5\\segment_13.wav...\n",
      "Writing D:/daps/daps/ipad_office1/segments/m5\\segment_14.wav...\n",
      "Writing D:/daps/daps/ipad_office1/segments/m5\\segment_15.wav...\n",
      "Writing D:/daps/daps/ipad_office1/segments/m5\\segment_16.wav...\n",
      "Writing D:/daps/daps/ipad_office1/segments/m5\\segment_17.wav...\n",
      "Writing D:/daps/daps/ipad_office1/segments/m5\\segment_18.wav...\n",
      "Writing D:/daps/daps/ipad_office1/segments/m5\\segment_19.wav...\n",
      "Writing D:/daps/daps/ipad_office1/segments/m5\\segment_20.wav...\n",
      "Writing D:/daps/daps/ipad_office1/segments/m5\\segment_21.wav...\n",
      "Writing D:/daps/daps/ipad_office1/segments/m5\\segment_22.wav...\n",
      "Writing D:/daps/daps/ipad_office1/segments/m5\\segment_23.wav...\n",
      "Skipping frame due to error: Error while processing frame\n",
      "Writing D:/daps/daps/ipad_office1/segments/m5\\segment_0.wav...\n",
      "Writing D:/daps/daps/ipad_office1/segments/m5\\segment_1.wav...\n",
      "Writing D:/daps/daps/ipad_office1/segments/m5\\segment_2.wav...\n",
      "Writing D:/daps/daps/ipad_office1/segments/m5\\segment_3.wav...\n",
      "Writing D:/daps/daps/ipad_office1/segments/m5\\segment_4.wav...\n",
      "Writing D:/daps/daps/ipad_office1/segments/m5\\segment_5.wav...\n",
      "Writing D:/daps/daps/ipad_office1/segments/m5\\segment_6.wav...\n",
      "Writing D:/daps/daps/ipad_office1/segments/m5\\segment_7.wav...\n",
      "Writing D:/daps/daps/ipad_office1/segments/m5\\segment_8.wav...\n",
      "Writing D:/daps/daps/ipad_office1/segments/m5\\segment_9.wav...\n",
      "Writing D:/daps/daps/ipad_office1/segments/m5\\segment_10.wav...\n",
      "Writing D:/daps/daps/ipad_office1/segments/m5\\segment_11.wav...\n",
      "Writing D:/daps/daps/ipad_office1/segments/m5\\segment_12.wav...\n",
      "Writing D:/daps/daps/ipad_office1/segments/m5\\segment_13.wav...\n",
      "Writing D:/daps/daps/ipad_office1/segments/m5\\segment_14.wav...\n",
      "Writing D:/daps/daps/ipad_office1/segments/m5\\segment_15.wav...\n",
      "Writing D:/daps/daps/ipad_office1/segments/m5\\segment_16.wav...\n",
      "Writing D:/daps/daps/ipad_office1/segments/m5\\segment_17.wav...\n",
      "Writing D:/daps/daps/ipad_office1/segments/m5\\segment_18.wav...\n",
      "Writing D:/daps/daps/ipad_office1/segments/m5\\segment_19.wav...\n",
      "Writing D:/daps/daps/ipad_office1/segments/m5\\segment_20.wav...\n",
      "Writing D:/daps/daps/ipad_office1/segments/m5\\segment_21.wav...\n",
      "Writing D:/daps/daps/ipad_office1/segments/m5\\segment_22.wav...\n",
      "Writing D:/daps/daps/ipad_office1/segments/m5\\segment_23.wav...\n",
      "Writing D:/daps/daps/ipad_office1/segments/m5\\segment_24.wav...\n",
      "Writing D:/daps/daps/ipad_office1/segments/m5\\segment_25.wav...\n",
      "Writing D:/daps/daps/ipad_office1/segments/m5\\segment_26.wav...\n",
      "Writing D:/daps/daps/ipad_office1/segments/m5\\segment_27.wav...\n",
      "Writing D:/daps/daps/ipad_office1/segments/m5\\segment_28.wav...\n",
      "Writing D:/daps/daps/ipad_office1/segments/m5\\segment_29.wav...\n",
      "Writing D:/daps/daps/ipad_office1/segments/m5\\segment_30.wav...\n",
      "Writing D:/daps/daps/ipad_office1/segments/m5\\segment_31.wav...\n",
      "Writing D:/daps/daps/ipad_office1/segments/m5\\segment_32.wav...\n",
      "Writing D:/daps/daps/ipad_office1/segments/m5\\segment_33.wav...\n",
      "Writing D:/daps/daps/ipad_office1/segments/m5\\segment_34.wav...\n",
      "Writing D:/daps/daps/ipad_office1/segments/m5\\segment_35.wav...\n",
      "Skipping frame due to error: Error while processing frame\n",
      "Writing D:/daps/daps/ipad_office1/segments/m5\\segment_0.wav...\n",
      "Writing D:/daps/daps/ipad_office1/segments/m5\\segment_1.wav...\n",
      "Writing D:/daps/daps/ipad_office1/segments/m5\\segment_2.wav...\n",
      "Writing D:/daps/daps/ipad_office1/segments/m5\\segment_3.wav...\n",
      "Writing D:/daps/daps/ipad_office1/segments/m5\\segment_4.wav...\n",
      "Writing D:/daps/daps/ipad_office1/segments/m5\\segment_5.wav...\n",
      "Writing D:/daps/daps/ipad_office1/segments/m5\\segment_6.wav...\n",
      "Writing D:/daps/daps/ipad_office1/segments/m5\\segment_7.wav...\n",
      "Writing D:/daps/daps/ipad_office1/segments/m5\\segment_8.wav...\n",
      "Writing D:/daps/daps/ipad_office1/segments/m5\\segment_9.wav...\n",
      "Writing D:/daps/daps/ipad_office1/segments/m5\\segment_10.wav...\n",
      "Writing D:/daps/daps/ipad_office1/segments/m5\\segment_11.wav...\n",
      "Writing D:/daps/daps/ipad_office1/segments/m5\\segment_12.wav...\n",
      "Writing D:/daps/daps/ipad_office1/segments/m5\\segment_13.wav...\n",
      "Writing D:/daps/daps/ipad_office1/segments/m5\\segment_14.wav...\n",
      "Writing D:/daps/daps/ipad_office1/segments/m5\\segment_15.wav...\n",
      "Writing D:/daps/daps/ipad_office1/segments/m5\\segment_16.wav...\n",
      "Writing D:/daps/daps/ipad_office1/segments/m5\\segment_17.wav...\n",
      "Writing D:/daps/daps/ipad_office1/segments/m5\\segment_18.wav...\n",
      "Writing D:/daps/daps/ipad_office1/segments/m5\\segment_19.wav...\n",
      "Writing D:/daps/daps/ipad_office1/segments/m5\\segment_20.wav...\n",
      "Writing D:/daps/daps/ipad_office1/segments/m5\\segment_21.wav...\n",
      "Writing D:/daps/daps/ipad_office1/segments/m5\\segment_22.wav...\n",
      "Writing D:/daps/daps/ipad_office1/segments/m5\\segment_23.wav...\n",
      "Writing D:/daps/daps/ipad_office1/segments/m5\\segment_24.wav...\n",
      "Writing D:/daps/daps/ipad_office1/segments/m5\\segment_25.wav...\n",
      "Writing D:/daps/daps/ipad_office1/segments/m5\\segment_26.wav...\n",
      "Writing D:/daps/daps/ipad_office1/segments/m5\\segment_27.wav...\n",
      "Writing D:/daps/daps/ipad_office1/segments/m5\\segment_28.wav...\n",
      "Writing D:/daps/daps/ipad_office1/segments/m5\\segment_29.wav...\n",
      "Writing D:/daps/daps/ipad_office1/segments/m5\\segment_30.wav...\n",
      "Writing D:/daps/daps/ipad_office1/segments/m5\\segment_31.wav...\n",
      "Writing D:/daps/daps/ipad_office1/segments/m5\\segment_32.wav...\n",
      "Writing D:/daps/daps/ipad_office1/segments/m5\\segment_33.wav...\n",
      "Skipping frame due to error: Error while processing frame\n",
      "Writing D:/daps/daps/ipad_office1/segments/m5\\segment_0.wav...\n",
      "Writing D:/daps/daps/ipad_office1/segments/m5\\segment_1.wav...\n",
      "Writing D:/daps/daps/ipad_office1/segments/m5\\segment_2.wav...\n",
      "Writing D:/daps/daps/ipad_office1/segments/m5\\segment_3.wav...\n",
      "Writing D:/daps/daps/ipad_office1/segments/m5\\segment_4.wav...\n",
      "Writing D:/daps/daps/ipad_office1/segments/m5\\segment_5.wav...\n",
      "Writing D:/daps/daps/ipad_office1/segments/m5\\segment_6.wav...\n",
      "Writing D:/daps/daps/ipad_office1/segments/m5\\segment_7.wav...\n",
      "Writing D:/daps/daps/ipad_office1/segments/m5\\segment_8.wav...\n",
      "Writing D:/daps/daps/ipad_office1/segments/m5\\segment_9.wav...\n",
      "Writing D:/daps/daps/ipad_office1/segments/m5\\segment_10.wav...\n",
      "Writing D:/daps/daps/ipad_office1/segments/m5\\segment_11.wav...\n",
      "Writing D:/daps/daps/ipad_office1/segments/m5\\segment_12.wav...\n",
      "Writing D:/daps/daps/ipad_office1/segments/m5\\segment_13.wav...\n",
      "Writing D:/daps/daps/ipad_office1/segments/m5\\segment_14.wav...\n",
      "Writing D:/daps/daps/ipad_office1/segments/m5\\segment_15.wav...\n",
      "Writing D:/daps/daps/ipad_office1/segments/m5\\segment_16.wav...\n",
      "Writing D:/daps/daps/ipad_office1/segments/m5\\segment_17.wav...\n",
      "Writing D:/daps/daps/ipad_office1/segments/m5\\segment_18.wav...\n",
      "Writing D:/daps/daps/ipad_office1/segments/m5\\segment_19.wav...\n",
      "Skipping frame due to error: Error while processing frame\n",
      "Writing D:/daps/daps/ipad_office1/segments/m5\\segment_0.wav...\n",
      "Writing D:/daps/daps/ipad_office1/segments/m5\\segment_1.wav...\n",
      "Writing D:/daps/daps/ipad_office1/segments/m5\\segment_2.wav...\n",
      "Writing D:/daps/daps/ipad_office1/segments/m5\\segment_3.wav...\n",
      "Writing D:/daps/daps/ipad_office1/segments/m5\\segment_4.wav...\n",
      "Writing D:/daps/daps/ipad_office1/segments/m5\\segment_5.wav...\n",
      "Writing D:/daps/daps/ipad_office1/segments/m5\\segment_6.wav...\n",
      "Writing D:/daps/daps/ipad_office1/segments/m5\\segment_7.wav...\n",
      "Writing D:/daps/daps/ipad_office1/segments/m5\\segment_8.wav...\n",
      "Writing D:/daps/daps/ipad_office1/segments/m5\\segment_9.wav...\n",
      "Writing D:/daps/daps/ipad_office1/segments/m5\\segment_10.wav...\n",
      "Writing D:/daps/daps/ipad_office1/segments/m5\\segment_11.wav...\n",
      "Writing D:/daps/daps/ipad_office1/segments/m5\\segment_12.wav...\n",
      "Writing D:/daps/daps/ipad_office1/segments/m5\\segment_13.wav...\n",
      "Writing D:/daps/daps/ipad_office1/segments/m5\\segment_14.wav...\n",
      "Writing D:/daps/daps/ipad_office1/segments/m5\\segment_15.wav...\n",
      "Writing D:/daps/daps/ipad_office1/segments/m5\\segment_16.wav...\n",
      "Writing D:/daps/daps/ipad_office1/segments/m5\\segment_17.wav...\n",
      "Writing D:/daps/daps/ipad_office1/segments/m5\\segment_18.wav...\n",
      "Writing D:/daps/daps/ipad_office1/segments/m5\\segment_19.wav...\n",
      "Writing D:/daps/daps/ipad_office1/segments/m5\\segment_20.wav...\n",
      "Writing D:/daps/daps/ipad_office1/segments/m5\\segment_21.wav...\n",
      "Writing D:/daps/daps/ipad_office1/segments/m5\\segment_22.wav...\n",
      "Writing D:/daps/daps/ipad_office1/segments/m5\\segment_23.wav...\n",
      "Writing D:/daps/daps/ipad_office1/segments/m5\\segment_24.wav...\n",
      "Writing D:/daps/daps/ipad_office1/segments/m5\\segment_25.wav...\n",
      "Writing D:/daps/daps/ipad_office1/segments/m5\\segment_26.wav...\n",
      "Writing D:/daps/daps/ipad_office1/segments/m5\\segment_27.wav...\n",
      "Writing D:/daps/daps/ipad_office1/segments/m5\\segment_28.wav...\n",
      "Writing D:/daps/daps/ipad_office1/segments/m5\\segment_29.wav...\n",
      "Skipping frame due to error: Error while processing frame\n",
      "Writing D:/daps/daps/ipad_office1/segments/m6\\segment_0.wav...\n",
      "Writing D:/daps/daps/ipad_office1/segments/m6\\segment_1.wav...\n",
      "Writing D:/daps/daps/ipad_office1/segments/m6\\segment_2.wav...\n",
      "Writing D:/daps/daps/ipad_office1/segments/m6\\segment_3.wav...\n",
      "Writing D:/daps/daps/ipad_office1/segments/m6\\segment_4.wav...\n",
      "Writing D:/daps/daps/ipad_office1/segments/m6\\segment_5.wav...\n",
      "Writing D:/daps/daps/ipad_office1/segments/m6\\segment_6.wav...\n",
      "Writing D:/daps/daps/ipad_office1/segments/m6\\segment_7.wav...\n",
      "Writing D:/daps/daps/ipad_office1/segments/m6\\segment_8.wav...\n",
      "Writing D:/daps/daps/ipad_office1/segments/m6\\segment_9.wav...\n",
      "Writing D:/daps/daps/ipad_office1/segments/m6\\segment_10.wav...\n",
      "Writing D:/daps/daps/ipad_office1/segments/m6\\segment_11.wav...\n",
      "Writing D:/daps/daps/ipad_office1/segments/m6\\segment_12.wav...\n",
      "Writing D:/daps/daps/ipad_office1/segments/m6\\segment_13.wav...\n",
      "Writing D:/daps/daps/ipad_office1/segments/m6\\segment_14.wav...\n",
      "Writing D:/daps/daps/ipad_office1/segments/m6\\segment_15.wav...\n",
      "Writing D:/daps/daps/ipad_office1/segments/m6\\segment_16.wav...\n",
      "Writing D:/daps/daps/ipad_office1/segments/m6\\segment_17.wav...\n",
      "Writing D:/daps/daps/ipad_office1/segments/m6\\segment_18.wav...\n",
      "Writing D:/daps/daps/ipad_office1/segments/m6\\segment_19.wav...\n",
      "Writing D:/daps/daps/ipad_office1/segments/m6\\segment_20.wav...\n",
      "Writing D:/daps/daps/ipad_office1/segments/m6\\segment_21.wav...\n",
      "Writing D:/daps/daps/ipad_office1/segments/m6\\segment_22.wav...\n",
      "Skipping frame due to error: Error while processing frame\n",
      "Writing D:/daps/daps/ipad_office1/segments/m6\\segment_0.wav...\n",
      "Writing D:/daps/daps/ipad_office1/segments/m6\\segment_1.wav...\n",
      "Writing D:/daps/daps/ipad_office1/segments/m6\\segment_2.wav...\n",
      "Writing D:/daps/daps/ipad_office1/segments/m6\\segment_3.wav...\n",
      "Writing D:/daps/daps/ipad_office1/segments/m6\\segment_4.wav...\n",
      "Writing D:/daps/daps/ipad_office1/segments/m6\\segment_5.wav...\n",
      "Writing D:/daps/daps/ipad_office1/segments/m6\\segment_6.wav...\n",
      "Writing D:/daps/daps/ipad_office1/segments/m6\\segment_7.wav...\n",
      "Writing D:/daps/daps/ipad_office1/segments/m6\\segment_8.wav...\n",
      "Writing D:/daps/daps/ipad_office1/segments/m6\\segment_9.wav...\n",
      "Writing D:/daps/daps/ipad_office1/segments/m6\\segment_10.wav...\n",
      "Writing D:/daps/daps/ipad_office1/segments/m6\\segment_11.wav...\n",
      "Writing D:/daps/daps/ipad_office1/segments/m6\\segment_12.wav...\n",
      "Writing D:/daps/daps/ipad_office1/segments/m6\\segment_13.wav...\n",
      "Writing D:/daps/daps/ipad_office1/segments/m6\\segment_14.wav...\n",
      "Writing D:/daps/daps/ipad_office1/segments/m6\\segment_15.wav...\n",
      "Writing D:/daps/daps/ipad_office1/segments/m6\\segment_16.wav...\n",
      "Writing D:/daps/daps/ipad_office1/segments/m6\\segment_17.wav...\n",
      "Writing D:/daps/daps/ipad_office1/segments/m6\\segment_18.wav...\n",
      "Writing D:/daps/daps/ipad_office1/segments/m6\\segment_19.wav...\n",
      "Writing D:/daps/daps/ipad_office1/segments/m6\\segment_20.wav...\n",
      "Writing D:/daps/daps/ipad_office1/segments/m6\\segment_21.wav...\n",
      "Writing D:/daps/daps/ipad_office1/segments/m6\\segment_22.wav...\n",
      "Writing D:/daps/daps/ipad_office1/segments/m6\\segment_23.wav...\n",
      "Writing D:/daps/daps/ipad_office1/segments/m6\\segment_24.wav...\n",
      "Writing D:/daps/daps/ipad_office1/segments/m6\\segment_25.wav...\n",
      "Writing D:/daps/daps/ipad_office1/segments/m6\\segment_26.wav...\n",
      "Writing D:/daps/daps/ipad_office1/segments/m6\\segment_27.wav...\n",
      "Writing D:/daps/daps/ipad_office1/segments/m6\\segment_28.wav...\n",
      "Writing D:/daps/daps/ipad_office1/segments/m6\\segment_29.wav...\n",
      "Writing D:/daps/daps/ipad_office1/segments/m6\\segment_30.wav...\n",
      "Writing D:/daps/daps/ipad_office1/segments/m6\\segment_31.wav...\n",
      "Writing D:/daps/daps/ipad_office1/segments/m6\\segment_32.wav...\n",
      "Writing D:/daps/daps/ipad_office1/segments/m6\\segment_33.wav...\n",
      "Writing D:/daps/daps/ipad_office1/segments/m6\\segment_34.wav...\n",
      "Writing D:/daps/daps/ipad_office1/segments/m6\\segment_35.wav...\n",
      "Skipping frame due to error: Error while processing frame\n",
      "Writing D:/daps/daps/ipad_office1/segments/m6\\segment_0.wav...\n",
      "Writing D:/daps/daps/ipad_office1/segments/m6\\segment_1.wav...\n",
      "Writing D:/daps/daps/ipad_office1/segments/m6\\segment_2.wav...\n",
      "Writing D:/daps/daps/ipad_office1/segments/m6\\segment_3.wav...\n",
      "Writing D:/daps/daps/ipad_office1/segments/m6\\segment_4.wav...\n",
      "Writing D:/daps/daps/ipad_office1/segments/m6\\segment_5.wav...\n",
      "Writing D:/daps/daps/ipad_office1/segments/m6\\segment_6.wav...\n",
      "Writing D:/daps/daps/ipad_office1/segments/m6\\segment_7.wav...\n",
      "Writing D:/daps/daps/ipad_office1/segments/m6\\segment_8.wav...\n",
      "Writing D:/daps/daps/ipad_office1/segments/m6\\segment_9.wav...\n",
      "Writing D:/daps/daps/ipad_office1/segments/m6\\segment_10.wav...\n",
      "Writing D:/daps/daps/ipad_office1/segments/m6\\segment_11.wav...\n",
      "Writing D:/daps/daps/ipad_office1/segments/m6\\segment_12.wav...\n",
      "Writing D:/daps/daps/ipad_office1/segments/m6\\segment_13.wav...\n",
      "Writing D:/daps/daps/ipad_office1/segments/m6\\segment_14.wav...\n",
      "Writing D:/daps/daps/ipad_office1/segments/m6\\segment_15.wav...\n",
      "Writing D:/daps/daps/ipad_office1/segments/m6\\segment_16.wav...\n",
      "Writing D:/daps/daps/ipad_office1/segments/m6\\segment_17.wav...\n",
      "Writing D:/daps/daps/ipad_office1/segments/m6\\segment_18.wav...\n",
      "Writing D:/daps/daps/ipad_office1/segments/m6\\segment_19.wav...\n",
      "Writing D:/daps/daps/ipad_office1/segments/m6\\segment_20.wav...\n",
      "Writing D:/daps/daps/ipad_office1/segments/m6\\segment_21.wav...\n",
      "Skipping frame due to error: Error while processing frame\n",
      "Writing D:/daps/daps/ipad_office1/segments/m6\\segment_0.wav...\n",
      "Writing D:/daps/daps/ipad_office1/segments/m6\\segment_1.wav...\n",
      "Writing D:/daps/daps/ipad_office1/segments/m6\\segment_2.wav...\n",
      "Writing D:/daps/daps/ipad_office1/segments/m6\\segment_3.wav...\n",
      "Writing D:/daps/daps/ipad_office1/segments/m6\\segment_4.wav...\n",
      "Writing D:/daps/daps/ipad_office1/segments/m6\\segment_5.wav...\n",
      "Writing D:/daps/daps/ipad_office1/segments/m6\\segment_6.wav...\n",
      "Writing D:/daps/daps/ipad_office1/segments/m6\\segment_7.wav...\n",
      "Writing D:/daps/daps/ipad_office1/segments/m6\\segment_8.wav...\n",
      "Writing D:/daps/daps/ipad_office1/segments/m6\\segment_9.wav...\n",
      "Writing D:/daps/daps/ipad_office1/segments/m6\\segment_10.wav...\n",
      "Writing D:/daps/daps/ipad_office1/segments/m6\\segment_11.wav...\n",
      "Writing D:/daps/daps/ipad_office1/segments/m6\\segment_12.wav...\n",
      "Writing D:/daps/daps/ipad_office1/segments/m6\\segment_13.wav...\n",
      "Writing D:/daps/daps/ipad_office1/segments/m6\\segment_14.wav...\n",
      "Writing D:/daps/daps/ipad_office1/segments/m6\\segment_15.wav...\n",
      "Writing D:/daps/daps/ipad_office1/segments/m6\\segment_16.wav...\n",
      "Writing D:/daps/daps/ipad_office1/segments/m6\\segment_17.wav...\n",
      "Writing D:/daps/daps/ipad_office1/segments/m6\\segment_18.wav...\n",
      "Writing D:/daps/daps/ipad_office1/segments/m6\\segment_19.wav...\n",
      "Writing D:/daps/daps/ipad_office1/segments/m6\\segment_20.wav...\n",
      "Writing D:/daps/daps/ipad_office1/segments/m6\\segment_21.wav...\n",
      "Writing D:/daps/daps/ipad_office1/segments/m6\\segment_22.wav...\n",
      "Writing D:/daps/daps/ipad_office1/segments/m6\\segment_23.wav...\n",
      "Writing D:/daps/daps/ipad_office1/segments/m6\\segment_24.wav...\n",
      "Writing D:/daps/daps/ipad_office1/segments/m6\\segment_25.wav...\n",
      "Skipping frame due to error: Error while processing frame\n",
      "Writing D:/daps/daps/ipad_office1/segments/m6\\segment_0.wav...\n",
      "Writing D:/daps/daps/ipad_office1/segments/m6\\segment_1.wav...\n",
      "Writing D:/daps/daps/ipad_office1/segments/m6\\segment_2.wav...\n",
      "Writing D:/daps/daps/ipad_office1/segments/m6\\segment_3.wav...\n",
      "Writing D:/daps/daps/ipad_office1/segments/m6\\segment_4.wav...\n",
      "Writing D:/daps/daps/ipad_office1/segments/m6\\segment_5.wav...\n",
      "Writing D:/daps/daps/ipad_office1/segments/m6\\segment_6.wav...\n",
      "Writing D:/daps/daps/ipad_office1/segments/m6\\segment_7.wav...\n",
      "Writing D:/daps/daps/ipad_office1/segments/m6\\segment_8.wav...\n",
      "Writing D:/daps/daps/ipad_office1/segments/m6\\segment_9.wav...\n",
      "Writing D:/daps/daps/ipad_office1/segments/m6\\segment_10.wav...\n",
      "Writing D:/daps/daps/ipad_office1/segments/m6\\segment_11.wav...\n",
      "Writing D:/daps/daps/ipad_office1/segments/m6\\segment_12.wav...\n",
      "Writing D:/daps/daps/ipad_office1/segments/m6\\segment_13.wav...\n",
      "Writing D:/daps/daps/ipad_office1/segments/m6\\segment_14.wav...\n",
      "Writing D:/daps/daps/ipad_office1/segments/m6\\segment_15.wav...\n",
      "Writing D:/daps/daps/ipad_office1/segments/m6\\segment_16.wav...\n",
      "Writing D:/daps/daps/ipad_office1/segments/m6\\segment_17.wav...\n",
      "Writing D:/daps/daps/ipad_office1/segments/m6\\segment_18.wav...\n",
      "Writing D:/daps/daps/ipad_office1/segments/m6\\segment_19.wav...\n",
      "Writing D:/daps/daps/ipad_office1/segments/m6\\segment_20.wav...\n",
      "Writing D:/daps/daps/ipad_office1/segments/m6\\segment_21.wav...\n",
      "Writing D:/daps/daps/ipad_office1/segments/m6\\segment_22.wav...\n",
      "Writing D:/daps/daps/ipad_office1/segments/m6\\segment_23.wav...\n",
      "Writing D:/daps/daps/ipad_office1/segments/m6\\segment_24.wav...\n",
      "Writing D:/daps/daps/ipad_office1/segments/m6\\segment_25.wav...\n",
      "Writing D:/daps/daps/ipad_office1/segments/m6\\segment_26.wav...\n",
      "Writing D:/daps/daps/ipad_office1/segments/m6\\segment_27.wav...\n",
      "Writing D:/daps/daps/ipad_office1/segments/m6\\segment_28.wav...\n",
      "Writing D:/daps/daps/ipad_office1/segments/m6\\segment_29.wav...\n",
      "Writing D:/daps/daps/ipad_office1/segments/m6\\segment_30.wav...\n",
      "Writing D:/daps/daps/ipad_office1/segments/m6\\segment_31.wav...\n",
      "Skipping frame due to error: Error while processing frame\n",
      "Writing D:/daps/daps/ipad_office1/segments/m7\\segment_0.wav...\n",
      "Writing D:/daps/daps/ipad_office1/segments/m7\\segment_1.wav...\n",
      "Writing D:/daps/daps/ipad_office1/segments/m7\\segment_2.wav...\n",
      "Writing D:/daps/daps/ipad_office1/segments/m7\\segment_3.wav...\n",
      "Writing D:/daps/daps/ipad_office1/segments/m7\\segment_4.wav...\n",
      "Writing D:/daps/daps/ipad_office1/segments/m7\\segment_5.wav...\n",
      "Writing D:/daps/daps/ipad_office1/segments/m7\\segment_6.wav...\n",
      "Writing D:/daps/daps/ipad_office1/segments/m7\\segment_7.wav...\n",
      "Writing D:/daps/daps/ipad_office1/segments/m7\\segment_8.wav...\n",
      "Skipping frame due to error: Error while processing frame\n",
      "Writing D:/daps/daps/ipad_office1/segments/m7\\segment_0.wav...\n",
      "Writing D:/daps/daps/ipad_office1/segments/m7\\segment_1.wav...\n",
      "Writing D:/daps/daps/ipad_office1/segments/m7\\segment_2.wav...\n",
      "Writing D:/daps/daps/ipad_office1/segments/m7\\segment_3.wav...\n",
      "Writing D:/daps/daps/ipad_office1/segments/m7\\segment_4.wav...\n",
      "Writing D:/daps/daps/ipad_office1/segments/m7\\segment_5.wav...\n",
      "Writing D:/daps/daps/ipad_office1/segments/m7\\segment_6.wav...\n",
      "Writing D:/daps/daps/ipad_office1/segments/m7\\segment_7.wav...\n",
      "Writing D:/daps/daps/ipad_office1/segments/m7\\segment_8.wav...\n",
      "Writing D:/daps/daps/ipad_office1/segments/m7\\segment_9.wav...\n",
      "Writing D:/daps/daps/ipad_office1/segments/m7\\segment_10.wav...\n",
      "Writing D:/daps/daps/ipad_office1/segments/m7\\segment_11.wav...\n",
      "Skipping frame due to error: Error while processing frame\n",
      "Writing D:/daps/daps/ipad_office1/segments/m7\\segment_0.wav...\n",
      "Writing D:/daps/daps/ipad_office1/segments/m7\\segment_1.wav...\n",
      "Writing D:/daps/daps/ipad_office1/segments/m7\\segment_2.wav...\n",
      "Writing D:/daps/daps/ipad_office1/segments/m7\\segment_3.wav...\n",
      "Writing D:/daps/daps/ipad_office1/segments/m7\\segment_4.wav...\n",
      "Writing D:/daps/daps/ipad_office1/segments/m7\\segment_5.wav...\n",
      "Writing D:/daps/daps/ipad_office1/segments/m7\\segment_6.wav...\n",
      "Writing D:/daps/daps/ipad_office1/segments/m7\\segment_7.wav...\n",
      "Writing D:/daps/daps/ipad_office1/segments/m7\\segment_8.wav...\n",
      "Writing D:/daps/daps/ipad_office1/segments/m7\\segment_9.wav...\n",
      "Writing D:/daps/daps/ipad_office1/segments/m7\\segment_10.wav...\n",
      "Writing D:/daps/daps/ipad_office1/segments/m7\\segment_11.wav...\n",
      "Writing D:/daps/daps/ipad_office1/segments/m7\\segment_12.wav...\n",
      "Skipping frame due to error: Error while processing frame\n",
      "Writing D:/daps/daps/ipad_office1/segments/m7\\segment_0.wav...\n",
      "Writing D:/daps/daps/ipad_office1/segments/m7\\segment_1.wav...\n",
      "Writing D:/daps/daps/ipad_office1/segments/m7\\segment_2.wav...\n",
      "Writing D:/daps/daps/ipad_office1/segments/m7\\segment_3.wav...\n",
      "Writing D:/daps/daps/ipad_office1/segments/m7\\segment_4.wav...\n",
      "Writing D:/daps/daps/ipad_office1/segments/m7\\segment_5.wav...\n",
      "Writing D:/daps/daps/ipad_office1/segments/m7\\segment_6.wav...\n",
      "Writing D:/daps/daps/ipad_office1/segments/m7\\segment_7.wav...\n",
      "Writing D:/daps/daps/ipad_office1/segments/m7\\segment_8.wav...\n",
      "Writing D:/daps/daps/ipad_office1/segments/m7\\segment_9.wav...\n",
      "Writing D:/daps/daps/ipad_office1/segments/m7\\segment_10.wav...\n",
      "Writing D:/daps/daps/ipad_office1/segments/m7\\segment_11.wav...\n",
      "Writing D:/daps/daps/ipad_office1/segments/m7\\segment_12.wav...\n",
      "Writing D:/daps/daps/ipad_office1/segments/m7\\segment_13.wav...\n",
      "Writing D:/daps/daps/ipad_office1/segments/m7\\segment_14.wav...\n",
      "Writing D:/daps/daps/ipad_office1/segments/m7\\segment_15.wav...\n",
      "Writing D:/daps/daps/ipad_office1/segments/m7\\segment_16.wav...\n",
      "Skipping frame due to error: Error while processing frame\n",
      "Writing D:/daps/daps/ipad_office1/segments/m7\\segment_0.wav...\n",
      "Writing D:/daps/daps/ipad_office1/segments/m7\\segment_1.wav...\n",
      "Writing D:/daps/daps/ipad_office1/segments/m7\\segment_2.wav...\n",
      "Writing D:/daps/daps/ipad_office1/segments/m7\\segment_3.wav...\n",
      "Writing D:/daps/daps/ipad_office1/segments/m7\\segment_4.wav...\n",
      "Writing D:/daps/daps/ipad_office1/segments/m7\\segment_5.wav...\n",
      "Writing D:/daps/daps/ipad_office1/segments/m7\\segment_6.wav...\n",
      "Writing D:/daps/daps/ipad_office1/segments/m7\\segment_7.wav...\n",
      "Writing D:/daps/daps/ipad_office1/segments/m7\\segment_8.wav...\n",
      "Writing D:/daps/daps/ipad_office1/segments/m7\\segment_9.wav...\n",
      "Writing D:/daps/daps/ipad_office1/segments/m7\\segment_10.wav...\n",
      "Writing D:/daps/daps/ipad_office1/segments/m7\\segment_11.wav...\n",
      "Writing D:/daps/daps/ipad_office1/segments/m7\\segment_12.wav...\n",
      "Writing D:/daps/daps/ipad_office1/segments/m7\\segment_13.wav...\n",
      "Writing D:/daps/daps/ipad_office1/segments/m7\\segment_14.wav...\n",
      "Writing D:/daps/daps/ipad_office1/segments/m7\\segment_15.wav...\n",
      "Writing D:/daps/daps/ipad_office1/segments/m7\\segment_16.wav...\n",
      "Writing D:/daps/daps/ipad_office1/segments/m7\\segment_17.wav...\n",
      "Writing D:/daps/daps/ipad_office1/segments/m7\\segment_18.wav...\n",
      "Writing D:/daps/daps/ipad_office1/segments/m7\\segment_19.wav...\n",
      "Writing D:/daps/daps/ipad_office1/segments/m7\\segment_20.wav...\n",
      "Writing D:/daps/daps/ipad_office1/segments/m7\\segment_21.wav...\n",
      "Writing D:/daps/daps/ipad_office1/segments/m7\\segment_22.wav...\n",
      "Skipping frame due to error: Error while processing frame\n",
      "Writing D:/daps/daps/ipad_office1/segments/m8\\segment_0.wav...\n",
      "Writing D:/daps/daps/ipad_office1/segments/m8\\segment_1.wav...\n",
      "Writing D:/daps/daps/ipad_office1/segments/m8\\segment_2.wav...\n",
      "Writing D:/daps/daps/ipad_office1/segments/m8\\segment_3.wav...\n",
      "Writing D:/daps/daps/ipad_office1/segments/m8\\segment_4.wav...\n",
      "Writing D:/daps/daps/ipad_office1/segments/m8\\segment_5.wav...\n",
      "Writing D:/daps/daps/ipad_office1/segments/m8\\segment_6.wav...\n",
      "Writing D:/daps/daps/ipad_office1/segments/m8\\segment_7.wav...\n",
      "Writing D:/daps/daps/ipad_office1/segments/m8\\segment_8.wav...\n",
      "Writing D:/daps/daps/ipad_office1/segments/m8\\segment_9.wav...\n",
      "Writing D:/daps/daps/ipad_office1/segments/m8\\segment_10.wav...\n",
      "Writing D:/daps/daps/ipad_office1/segments/m8\\segment_11.wav...\n",
      "Writing D:/daps/daps/ipad_office1/segments/m8\\segment_12.wav...\n",
      "Writing D:/daps/daps/ipad_office1/segments/m8\\segment_13.wav...\n",
      "Writing D:/daps/daps/ipad_office1/segments/m8\\segment_14.wav...\n",
      "Writing D:/daps/daps/ipad_office1/segments/m8\\segment_15.wav...\n",
      "Writing D:/daps/daps/ipad_office1/segments/m8\\segment_16.wav...\n",
      "Writing D:/daps/daps/ipad_office1/segments/m8\\segment_17.wav...\n",
      "Writing D:/daps/daps/ipad_office1/segments/m8\\segment_18.wav...\n",
      "Writing D:/daps/daps/ipad_office1/segments/m8\\segment_19.wav...\n",
      "Writing D:/daps/daps/ipad_office1/segments/m8\\segment_20.wav...\n",
      "Writing D:/daps/daps/ipad_office1/segments/m8\\segment_21.wav...\n",
      "Writing D:/daps/daps/ipad_office1/segments/m8\\segment_22.wav...\n",
      "Writing D:/daps/daps/ipad_office1/segments/m8\\segment_23.wav...\n",
      "Writing D:/daps/daps/ipad_office1/segments/m8\\segment_24.wav...\n",
      "Writing D:/daps/daps/ipad_office1/segments/m8\\segment_25.wav...\n",
      "Writing D:/daps/daps/ipad_office1/segments/m8\\segment_26.wav...\n",
      "Writing D:/daps/daps/ipad_office1/segments/m8\\segment_27.wav...\n",
      "Writing D:/daps/daps/ipad_office1/segments/m8\\segment_28.wav...\n",
      "Writing D:/daps/daps/ipad_office1/segments/m8\\segment_29.wav...\n",
      "Writing D:/daps/daps/ipad_office1/segments/m8\\segment_30.wav...\n",
      "Writing D:/daps/daps/ipad_office1/segments/m8\\segment_31.wav...\n",
      "Writing D:/daps/daps/ipad_office1/segments/m8\\segment_32.wav...\n",
      "Writing D:/daps/daps/ipad_office1/segments/m8\\segment_33.wav...\n",
      "Writing D:/daps/daps/ipad_office1/segments/m8\\segment_34.wav...\n",
      "Writing D:/daps/daps/ipad_office1/segments/m8\\segment_35.wav...\n",
      "Skipping frame due to error: Error while processing frame\n",
      "Writing D:/daps/daps/ipad_office1/segments/m8\\segment_0.wav...\n",
      "Writing D:/daps/daps/ipad_office1/segments/m8\\segment_1.wav...\n",
      "Writing D:/daps/daps/ipad_office1/segments/m8\\segment_2.wav...\n",
      "Writing D:/daps/daps/ipad_office1/segments/m8\\segment_3.wav...\n",
      "Writing D:/daps/daps/ipad_office1/segments/m8\\segment_4.wav...\n",
      "Writing D:/daps/daps/ipad_office1/segments/m8\\segment_5.wav...\n",
      "Writing D:/daps/daps/ipad_office1/segments/m8\\segment_6.wav...\n",
      "Writing D:/daps/daps/ipad_office1/segments/m8\\segment_7.wav...\n",
      "Writing D:/daps/daps/ipad_office1/segments/m8\\segment_8.wav...\n",
      "Writing D:/daps/daps/ipad_office1/segments/m8\\segment_9.wav...\n",
      "Writing D:/daps/daps/ipad_office1/segments/m8\\segment_10.wav...\n",
      "Writing D:/daps/daps/ipad_office1/segments/m8\\segment_11.wav...\n",
      "Writing D:/daps/daps/ipad_office1/segments/m8\\segment_12.wav...\n",
      "Writing D:/daps/daps/ipad_office1/segments/m8\\segment_13.wav...\n",
      "Writing D:/daps/daps/ipad_office1/segments/m8\\segment_14.wav...\n",
      "Writing D:/daps/daps/ipad_office1/segments/m8\\segment_15.wav...\n",
      "Writing D:/daps/daps/ipad_office1/segments/m8\\segment_16.wav...\n",
      "Writing D:/daps/daps/ipad_office1/segments/m8\\segment_17.wav...\n",
      "Writing D:/daps/daps/ipad_office1/segments/m8\\segment_18.wav...\n",
      "Writing D:/daps/daps/ipad_office1/segments/m8\\segment_19.wav...\n",
      "Writing D:/daps/daps/ipad_office1/segments/m8\\segment_20.wav...\n",
      "Writing D:/daps/daps/ipad_office1/segments/m8\\segment_21.wav...\n",
      "Writing D:/daps/daps/ipad_office1/segments/m8\\segment_22.wav...\n",
      "Writing D:/daps/daps/ipad_office1/segments/m8\\segment_23.wav...\n",
      "Writing D:/daps/daps/ipad_office1/segments/m8\\segment_24.wav...\n",
      "Writing D:/daps/daps/ipad_office1/segments/m8\\segment_25.wav...\n",
      "Writing D:/daps/daps/ipad_office1/segments/m8\\segment_26.wav...\n",
      "Writing D:/daps/daps/ipad_office1/segments/m8\\segment_27.wav...\n",
      "Writing D:/daps/daps/ipad_office1/segments/m8\\segment_28.wav...\n",
      "Writing D:/daps/daps/ipad_office1/segments/m8\\segment_29.wav...\n",
      "Writing D:/daps/daps/ipad_office1/segments/m8\\segment_30.wav...\n",
      "Writing D:/daps/daps/ipad_office1/segments/m8\\segment_31.wav...\n",
      "Writing D:/daps/daps/ipad_office1/segments/m8\\segment_32.wav...\n",
      "Writing D:/daps/daps/ipad_office1/segments/m8\\segment_33.wav...\n",
      "Writing D:/daps/daps/ipad_office1/segments/m8\\segment_34.wav...\n",
      "Writing D:/daps/daps/ipad_office1/segments/m8\\segment_35.wav...\n",
      "Skipping frame due to error: Error while processing frame\n",
      "Writing D:/daps/daps/ipad_office1/segments/m8\\segment_0.wav...\n",
      "Writing D:/daps/daps/ipad_office1/segments/m8\\segment_1.wav...\n",
      "Writing D:/daps/daps/ipad_office1/segments/m8\\segment_2.wav...\n",
      "Writing D:/daps/daps/ipad_office1/segments/m8\\segment_3.wav...\n",
      "Writing D:/daps/daps/ipad_office1/segments/m8\\segment_4.wav...\n",
      "Writing D:/daps/daps/ipad_office1/segments/m8\\segment_5.wav...\n",
      "Writing D:/daps/daps/ipad_office1/segments/m8\\segment_6.wav...\n",
      "Writing D:/daps/daps/ipad_office1/segments/m8\\segment_7.wav...\n",
      "Writing D:/daps/daps/ipad_office1/segments/m8\\segment_8.wav...\n",
      "Writing D:/daps/daps/ipad_office1/segments/m8\\segment_9.wav...\n",
      "Writing D:/daps/daps/ipad_office1/segments/m8\\segment_10.wav...\n",
      "Writing D:/daps/daps/ipad_office1/segments/m8\\segment_11.wav...\n",
      "Writing D:/daps/daps/ipad_office1/segments/m8\\segment_12.wav...\n",
      "Writing D:/daps/daps/ipad_office1/segments/m8\\segment_13.wav...\n",
      "Writing D:/daps/daps/ipad_office1/segments/m8\\segment_14.wav...\n",
      "Writing D:/daps/daps/ipad_office1/segments/m8\\segment_15.wav...\n",
      "Writing D:/daps/daps/ipad_office1/segments/m8\\segment_16.wav...\n",
      "Writing D:/daps/daps/ipad_office1/segments/m8\\segment_17.wav...\n",
      "Writing D:/daps/daps/ipad_office1/segments/m8\\segment_18.wav...\n",
      "Writing D:/daps/daps/ipad_office1/segments/m8\\segment_19.wav...\n",
      "Writing D:/daps/daps/ipad_office1/segments/m8\\segment_20.wav...\n",
      "Writing D:/daps/daps/ipad_office1/segments/m8\\segment_21.wav...\n",
      "Writing D:/daps/daps/ipad_office1/segments/m8\\segment_22.wav...\n",
      "Writing D:/daps/daps/ipad_office1/segments/m8\\segment_23.wav...\n",
      "Writing D:/daps/daps/ipad_office1/segments/m8\\segment_24.wav...\n",
      "Writing D:/daps/daps/ipad_office1/segments/m8\\segment_25.wav...\n",
      "Writing D:/daps/daps/ipad_office1/segments/m8\\segment_26.wav...\n",
      "Writing D:/daps/daps/ipad_office1/segments/m8\\segment_27.wav...\n",
      "Writing D:/daps/daps/ipad_office1/segments/m8\\segment_28.wav...\n",
      "Writing D:/daps/daps/ipad_office1/segments/m8\\segment_29.wav...\n",
      "Writing D:/daps/daps/ipad_office1/segments/m8\\segment_30.wav...\n",
      "Writing D:/daps/daps/ipad_office1/segments/m8\\segment_31.wav...\n",
      "Writing D:/daps/daps/ipad_office1/segments/m8\\segment_32.wav...\n",
      "Skipping frame due to error: Error while processing frame\n",
      "Writing D:/daps/daps/ipad_office1/segments/m8\\segment_0.wav...\n",
      "Writing D:/daps/daps/ipad_office1/segments/m8\\segment_1.wav...\n",
      "Writing D:/daps/daps/ipad_office1/segments/m8\\segment_2.wav...\n",
      "Writing D:/daps/daps/ipad_office1/segments/m8\\segment_3.wav...\n",
      "Writing D:/daps/daps/ipad_office1/segments/m8\\segment_4.wav...\n",
      "Writing D:/daps/daps/ipad_office1/segments/m8\\segment_5.wav...\n",
      "Writing D:/daps/daps/ipad_office1/segments/m8\\segment_6.wav...\n",
      "Writing D:/daps/daps/ipad_office1/segments/m8\\segment_7.wav...\n",
      "Writing D:/daps/daps/ipad_office1/segments/m8\\segment_8.wav...\n",
      "Writing D:/daps/daps/ipad_office1/segments/m8\\segment_9.wav...\n",
      "Writing D:/daps/daps/ipad_office1/segments/m8\\segment_10.wav...\n",
      "Writing D:/daps/daps/ipad_office1/segments/m8\\segment_11.wav...\n",
      "Writing D:/daps/daps/ipad_office1/segments/m8\\segment_12.wav...\n",
      "Writing D:/daps/daps/ipad_office1/segments/m8\\segment_13.wav...\n",
      "Writing D:/daps/daps/ipad_office1/segments/m8\\segment_14.wav...\n",
      "Writing D:/daps/daps/ipad_office1/segments/m8\\segment_15.wav...\n",
      "Writing D:/daps/daps/ipad_office1/segments/m8\\segment_16.wav...\n",
      "Writing D:/daps/daps/ipad_office1/segments/m8\\segment_17.wav...\n",
      "Writing D:/daps/daps/ipad_office1/segments/m8\\segment_18.wav...\n",
      "Writing D:/daps/daps/ipad_office1/segments/m8\\segment_19.wav...\n",
      "Writing D:/daps/daps/ipad_office1/segments/m8\\segment_20.wav...\n",
      "Writing D:/daps/daps/ipad_office1/segments/m8\\segment_21.wav...\n",
      "Writing D:/daps/daps/ipad_office1/segments/m8\\segment_22.wav...\n",
      "Writing D:/daps/daps/ipad_office1/segments/m8\\segment_23.wav...\n",
      "Writing D:/daps/daps/ipad_office1/segments/m8\\segment_24.wav...\n",
      "Writing D:/daps/daps/ipad_office1/segments/m8\\segment_25.wav...\n",
      "Writing D:/daps/daps/ipad_office1/segments/m8\\segment_26.wav...\n",
      "Writing D:/daps/daps/ipad_office1/segments/m8\\segment_27.wav...\n",
      "Writing D:/daps/daps/ipad_office1/segments/m8\\segment_28.wav...\n",
      "Writing D:/daps/daps/ipad_office1/segments/m8\\segment_29.wav...\n",
      "Skipping frame due to error: Error while processing frame\n",
      "Writing D:/daps/daps/ipad_office1/segments/m8\\segment_0.wav...\n",
      "Writing D:/daps/daps/ipad_office1/segments/m8\\segment_1.wav...\n",
      "Writing D:/daps/daps/ipad_office1/segments/m8\\segment_2.wav...\n",
      "Writing D:/daps/daps/ipad_office1/segments/m8\\segment_3.wav...\n",
      "Writing D:/daps/daps/ipad_office1/segments/m8\\segment_4.wav...\n",
      "Writing D:/daps/daps/ipad_office1/segments/m8\\segment_5.wav...\n",
      "Writing D:/daps/daps/ipad_office1/segments/m8\\segment_6.wav...\n",
      "Writing D:/daps/daps/ipad_office1/segments/m8\\segment_7.wav...\n",
      "Writing D:/daps/daps/ipad_office1/segments/m8\\segment_8.wav...\n",
      "Writing D:/daps/daps/ipad_office1/segments/m8\\segment_9.wav...\n",
      "Writing D:/daps/daps/ipad_office1/segments/m8\\segment_10.wav...\n",
      "Writing D:/daps/daps/ipad_office1/segments/m8\\segment_11.wav...\n",
      "Writing D:/daps/daps/ipad_office1/segments/m8\\segment_12.wav...\n",
      "Writing D:/daps/daps/ipad_office1/segments/m8\\segment_13.wav...\n",
      "Writing D:/daps/daps/ipad_office1/segments/m8\\segment_14.wav...\n",
      "Writing D:/daps/daps/ipad_office1/segments/m8\\segment_15.wav...\n",
      "Writing D:/daps/daps/ipad_office1/segments/m8\\segment_16.wav...\n",
      "Writing D:/daps/daps/ipad_office1/segments/m8\\segment_17.wav...\n",
      "Writing D:/daps/daps/ipad_office1/segments/m8\\segment_18.wav...\n",
      "Writing D:/daps/daps/ipad_office1/segments/m8\\segment_19.wav...\n",
      "Writing D:/daps/daps/ipad_office1/segments/m8\\segment_20.wav...\n",
      "Writing D:/daps/daps/ipad_office1/segments/m8\\segment_21.wav...\n",
      "Writing D:/daps/daps/ipad_office1/segments/m8\\segment_22.wav...\n",
      "Writing D:/daps/daps/ipad_office1/segments/m8\\segment_23.wav...\n",
      "Writing D:/daps/daps/ipad_office1/segments/m8\\segment_24.wav...\n",
      "Writing D:/daps/daps/ipad_office1/segments/m8\\segment_25.wav...\n",
      "Writing D:/daps/daps/ipad_office1/segments/m8\\segment_26.wav...\n",
      "Writing D:/daps/daps/ipad_office1/segments/m8\\segment_27.wav...\n",
      "Writing D:/daps/daps/ipad_office1/segments/m8\\segment_28.wav...\n",
      "Writing D:/daps/daps/ipad_office1/segments/m8\\segment_29.wav...\n",
      "Writing D:/daps/daps/ipad_office1/segments/m8\\segment_30.wav...\n",
      "Writing D:/daps/daps/ipad_office1/segments/m8\\segment_31.wav...\n",
      "Writing D:/daps/daps/ipad_office1/segments/m8\\segment_32.wav...\n",
      "Writing D:/daps/daps/ipad_office1/segments/m8\\segment_33.wav...\n",
      "Writing D:/daps/daps/ipad_office1/segments/m8\\segment_34.wav...\n",
      "Writing D:/daps/daps/ipad_office1/segments/m8\\segment_35.wav...\n",
      "Skipping frame due to error: Error while processing frame\n",
      "Writing D:/daps/daps/ipad_office1/segments/m9\\segment_0.wav...\n",
      "Writing D:/daps/daps/ipad_office1/segments/m9\\segment_1.wav...\n",
      "Writing D:/daps/daps/ipad_office1/segments/m9\\segment_2.wav...\n",
      "Writing D:/daps/daps/ipad_office1/segments/m9\\segment_3.wav...\n",
      "Writing D:/daps/daps/ipad_office1/segments/m9\\segment_4.wav...\n",
      "Writing D:/daps/daps/ipad_office1/segments/m9\\segment_5.wav...\n",
      "Writing D:/daps/daps/ipad_office1/segments/m9\\segment_6.wav...\n",
      "Writing D:/daps/daps/ipad_office1/segments/m9\\segment_7.wav...\n",
      "Writing D:/daps/daps/ipad_office1/segments/m9\\segment_8.wav...\n",
      "Writing D:/daps/daps/ipad_office1/segments/m9\\segment_9.wav...\n",
      "Writing D:/daps/daps/ipad_office1/segments/m9\\segment_10.wav...\n",
      "Writing D:/daps/daps/ipad_office1/segments/m9\\segment_11.wav...\n",
      "Writing D:/daps/daps/ipad_office1/segments/m9\\segment_12.wav...\n",
      "Writing D:/daps/daps/ipad_office1/segments/m9\\segment_13.wav...\n",
      "Writing D:/daps/daps/ipad_office1/segments/m9\\segment_14.wav...\n",
      "Writing D:/daps/daps/ipad_office1/segments/m9\\segment_15.wav...\n",
      "Writing D:/daps/daps/ipad_office1/segments/m9\\segment_16.wav...\n",
      "Writing D:/daps/daps/ipad_office1/segments/m9\\segment_17.wav...\n",
      "Writing D:/daps/daps/ipad_office1/segments/m9\\segment_18.wav...\n",
      "Writing D:/daps/daps/ipad_office1/segments/m9\\segment_19.wav...\n",
      "Writing D:/daps/daps/ipad_office1/segments/m9\\segment_20.wav...\n",
      "Writing D:/daps/daps/ipad_office1/segments/m9\\segment_21.wav...\n",
      "Writing D:/daps/daps/ipad_office1/segments/m9\\segment_22.wav...\n",
      "Writing D:/daps/daps/ipad_office1/segments/m9\\segment_23.wav...\n",
      "Skipping frame due to error: Error while processing frame\n",
      "Writing D:/daps/daps/ipad_office1/segments/m9\\segment_0.wav...\n",
      "Writing D:/daps/daps/ipad_office1/segments/m9\\segment_1.wav...\n",
      "Writing D:/daps/daps/ipad_office1/segments/m9\\segment_2.wav...\n",
      "Writing D:/daps/daps/ipad_office1/segments/m9\\segment_3.wav...\n",
      "Writing D:/daps/daps/ipad_office1/segments/m9\\segment_4.wav...\n",
      "Writing D:/daps/daps/ipad_office1/segments/m9\\segment_5.wav...\n",
      "Writing D:/daps/daps/ipad_office1/segments/m9\\segment_6.wav...\n",
      "Writing D:/daps/daps/ipad_office1/segments/m9\\segment_7.wav...\n",
      "Writing D:/daps/daps/ipad_office1/segments/m9\\segment_8.wav...\n",
      "Writing D:/daps/daps/ipad_office1/segments/m9\\segment_9.wav...\n",
      "Writing D:/daps/daps/ipad_office1/segments/m9\\segment_10.wav...\n",
      "Writing D:/daps/daps/ipad_office1/segments/m9\\segment_11.wav...\n",
      "Writing D:/daps/daps/ipad_office1/segments/m9\\segment_12.wav...\n",
      "Writing D:/daps/daps/ipad_office1/segments/m9\\segment_13.wav...\n",
      "Writing D:/daps/daps/ipad_office1/segments/m9\\segment_14.wav...\n",
      "Writing D:/daps/daps/ipad_office1/segments/m9\\segment_15.wav...\n",
      "Writing D:/daps/daps/ipad_office1/segments/m9\\segment_16.wav...\n",
      "Writing D:/daps/daps/ipad_office1/segments/m9\\segment_17.wav...\n",
      "Writing D:/daps/daps/ipad_office1/segments/m9\\segment_18.wav...\n",
      "Writing D:/daps/daps/ipad_office1/segments/m9\\segment_19.wav...\n",
      "Writing D:/daps/daps/ipad_office1/segments/m9\\segment_20.wav...\n",
      "Writing D:/daps/daps/ipad_office1/segments/m9\\segment_21.wav...\n",
      "Writing D:/daps/daps/ipad_office1/segments/m9\\segment_22.wav...\n",
      "Writing D:/daps/daps/ipad_office1/segments/m9\\segment_23.wav...\n",
      "Writing D:/daps/daps/ipad_office1/segments/m9\\segment_24.wav...\n",
      "Writing D:/daps/daps/ipad_office1/segments/m9\\segment_25.wav...\n",
      "Writing D:/daps/daps/ipad_office1/segments/m9\\segment_26.wav...\n",
      "Skipping frame due to error: Error while processing frame\n",
      "Writing D:/daps/daps/ipad_office1/segments/m9\\segment_0.wav...\n",
      "Writing D:/daps/daps/ipad_office1/segments/m9\\segment_1.wav...\n",
      "Writing D:/daps/daps/ipad_office1/segments/m9\\segment_2.wav...\n",
      "Writing D:/daps/daps/ipad_office1/segments/m9\\segment_3.wav...\n",
      "Writing D:/daps/daps/ipad_office1/segments/m9\\segment_4.wav...\n",
      "Writing D:/daps/daps/ipad_office1/segments/m9\\segment_5.wav...\n",
      "Writing D:/daps/daps/ipad_office1/segments/m9\\segment_6.wav...\n",
      "Writing D:/daps/daps/ipad_office1/segments/m9\\segment_7.wav...\n",
      "Writing D:/daps/daps/ipad_office1/segments/m9\\segment_8.wav...\n",
      "Writing D:/daps/daps/ipad_office1/segments/m9\\segment_9.wav...\n",
      "Writing D:/daps/daps/ipad_office1/segments/m9\\segment_10.wav...\n",
      "Writing D:/daps/daps/ipad_office1/segments/m9\\segment_11.wav...\n",
      "Writing D:/daps/daps/ipad_office1/segments/m9\\segment_12.wav...\n",
      "Writing D:/daps/daps/ipad_office1/segments/m9\\segment_13.wav...\n",
      "Writing D:/daps/daps/ipad_office1/segments/m9\\segment_14.wav...\n",
      "Writing D:/daps/daps/ipad_office1/segments/m9\\segment_15.wav...\n",
      "Writing D:/daps/daps/ipad_office1/segments/m9\\segment_16.wav...\n",
      "Writing D:/daps/daps/ipad_office1/segments/m9\\segment_17.wav...\n",
      "Writing D:/daps/daps/ipad_office1/segments/m9\\segment_18.wav...\n",
      "Writing D:/daps/daps/ipad_office1/segments/m9\\segment_19.wav...\n",
      "Writing D:/daps/daps/ipad_office1/segments/m9\\segment_20.wav...\n",
      "Writing D:/daps/daps/ipad_office1/segments/m9\\segment_21.wav...\n",
      "Writing D:/daps/daps/ipad_office1/segments/m9\\segment_22.wav...\n",
      "Writing D:/daps/daps/ipad_office1/segments/m9\\segment_23.wav...\n",
      "Writing D:/daps/daps/ipad_office1/segments/m9\\segment_24.wav...\n",
      "Writing D:/daps/daps/ipad_office1/segments/m9\\segment_25.wav...\n",
      "Writing D:/daps/daps/ipad_office1/segments/m9\\segment_26.wav...\n",
      "Writing D:/daps/daps/ipad_office1/segments/m9\\segment_27.wav...\n",
      "Writing D:/daps/daps/ipad_office1/segments/m9\\segment_28.wav...\n",
      "Writing D:/daps/daps/ipad_office1/segments/m9\\segment_29.wav...\n",
      "Writing D:/daps/daps/ipad_office1/segments/m9\\segment_30.wav...\n",
      "Writing D:/daps/daps/ipad_office1/segments/m9\\segment_31.wav...\n",
      "Skipping frame due to error: Error while processing frame\n",
      "Writing D:/daps/daps/ipad_office1/segments/m9\\segment_0.wav...\n",
      "Writing D:/daps/daps/ipad_office1/segments/m9\\segment_1.wav...\n",
      "Writing D:/daps/daps/ipad_office1/segments/m9\\segment_2.wav...\n",
      "Writing D:/daps/daps/ipad_office1/segments/m9\\segment_3.wav...\n",
      "Writing D:/daps/daps/ipad_office1/segments/m9\\segment_4.wav...\n",
      "Writing D:/daps/daps/ipad_office1/segments/m9\\segment_5.wav...\n",
      "Writing D:/daps/daps/ipad_office1/segments/m9\\segment_6.wav...\n",
      "Writing D:/daps/daps/ipad_office1/segments/m9\\segment_7.wav...\n",
      "Writing D:/daps/daps/ipad_office1/segments/m9\\segment_8.wav...\n",
      "Writing D:/daps/daps/ipad_office1/segments/m9\\segment_9.wav...\n",
      "Writing D:/daps/daps/ipad_office1/segments/m9\\segment_10.wav...\n",
      "Writing D:/daps/daps/ipad_office1/segments/m9\\segment_11.wav...\n",
      "Writing D:/daps/daps/ipad_office1/segments/m9\\segment_12.wav...\n",
      "Writing D:/daps/daps/ipad_office1/segments/m9\\segment_13.wav...\n",
      "Writing D:/daps/daps/ipad_office1/segments/m9\\segment_14.wav...\n",
      "Writing D:/daps/daps/ipad_office1/segments/m9\\segment_15.wav...\n",
      "Writing D:/daps/daps/ipad_office1/segments/m9\\segment_16.wav...\n",
      "Writing D:/daps/daps/ipad_office1/segments/m9\\segment_17.wav...\n",
      "Writing D:/daps/daps/ipad_office1/segments/m9\\segment_18.wav...\n",
      "Skipping frame due to error: Error while processing frame\n",
      "Writing D:/daps/daps/ipad_office1/segments/m9\\segment_0.wav...\n",
      "Writing D:/daps/daps/ipad_office1/segments/m9\\segment_1.wav...\n",
      "Writing D:/daps/daps/ipad_office1/segments/m9\\segment_2.wav...\n",
      "Writing D:/daps/daps/ipad_office1/segments/m9\\segment_3.wav...\n",
      "Writing D:/daps/daps/ipad_office1/segments/m9\\segment_4.wav...\n",
      "Writing D:/daps/daps/ipad_office1/segments/m9\\segment_5.wav...\n",
      "Writing D:/daps/daps/ipad_office1/segments/m9\\segment_6.wav...\n",
      "Writing D:/daps/daps/ipad_office1/segments/m9\\segment_7.wav...\n",
      "Writing D:/daps/daps/ipad_office1/segments/m9\\segment_8.wav...\n",
      "Writing D:/daps/daps/ipad_office1/segments/m9\\segment_9.wav...\n",
      "Writing D:/daps/daps/ipad_office1/segments/m9\\segment_10.wav...\n",
      "Writing D:/daps/daps/ipad_office1/segments/m9\\segment_11.wav...\n",
      "Writing D:/daps/daps/ipad_office1/segments/m9\\segment_12.wav...\n",
      "Writing D:/daps/daps/ipad_office1/segments/m9\\segment_13.wav...\n",
      "Writing D:/daps/daps/ipad_office1/segments/m9\\segment_14.wav...\n",
      "Writing D:/daps/daps/ipad_office1/segments/m9\\segment_15.wav...\n",
      "Writing D:/daps/daps/ipad_office1/segments/m9\\segment_16.wav...\n",
      "Writing D:/daps/daps/ipad_office1/segments/m9\\segment_17.wav...\n",
      "Writing D:/daps/daps/ipad_office1/segments/m9\\segment_18.wav...\n",
      "Writing D:/daps/daps/ipad_office1/segments/m9\\segment_19.wav...\n",
      "Writing D:/daps/daps/ipad_office1/segments/m9\\segment_20.wav...\n",
      "Writing D:/daps/daps/ipad_office1/segments/m9\\segment_21.wav...\n",
      "Writing D:/daps/daps/ipad_office1/segments/m9\\segment_22.wav...\n",
      "Writing D:/daps/daps/ipad_office1/segments/m9\\segment_23.wav...\n",
      "Writing D:/daps/daps/ipad_office1/segments/m9\\segment_24.wav...\n",
      "Writing D:/daps/daps/ipad_office1/segments/m9\\segment_25.wav...\n",
      "Writing D:/daps/daps/ipad_office1/segments/m9\\segment_26.wav...\n",
      "Writing D:/daps/daps/ipad_office1/segments/m9\\segment_27.wav...\n",
      "Writing D:/daps/daps/ipad_office1/segments/m9\\segment_28.wav...\n",
      "Writing D:/daps/daps/ipad_office1/segments/m9\\segment_29.wav...\n",
      "Writing D:/daps/daps/ipad_office1/segments/m9\\segment_30.wav...\n",
      "Writing D:/daps/daps/ipad_office1/segments/m9\\segment_31.wav...\n",
      "Writing D:/daps/daps/ipad_office1/segments/m9\\segment_32.wav...\n",
      "Writing D:/daps/daps/ipad_office1/segments/m9\\segment_33.wav...\n",
      "Writing D:/daps/daps/ipad_office1/segments/m9\\segment_34.wav...\n",
      "Skipping frame due to error: Error while processing frame\n"
     ]
    }
   ],
   "source": [
    "# make a loop to go through all rows in the df and process the audio files, save the segments in a new directory for each speaker\n",
    "for index, row in df.iterrows():\n",
    "    input_file_path = row['wav_files']\n",
    "    output_directory = f\"D:/daps/daps/ipad_office1/segments/{row['speaker']}\"\n",
    "    process_audio_file(input_file_path, output_directory)"
   ]
  },
  {
   "cell_type": "code",
   "execution_count": 12,
   "metadata": {},
   "outputs": [
    {
     "data": {
      "text/html": [
       "<div>\n",
       "<style scoped>\n",
       "    .dataframe tbody tr th:only-of-type {\n",
       "        vertical-align: middle;\n",
       "    }\n",
       "\n",
       "    .dataframe tbody tr th {\n",
       "        vertical-align: top;\n",
       "    }\n",
       "\n",
       "    .dataframe thead th {\n",
       "        text-align: right;\n",
       "    }\n",
       "</style>\n",
       "<table border=\"1\" class=\"dataframe\">\n",
       "  <thead>\n",
       "    <tr style=\"text-align: right;\">\n",
       "      <th></th>\n",
       "      <th>wav_files</th>\n",
       "      <th>file_name</th>\n",
       "      <th>speaker</th>\n",
       "    </tr>\n",
       "  </thead>\n",
       "  <tbody>\n",
       "    <tr>\n",
       "      <th>0</th>\n",
       "      <td>D:/daps/daps/ipad_office1/segments\\f1\\segment_...</td>\n",
       "      <td>f1</td>\n",
       "      <td>f1</td>\n",
       "    </tr>\n",
       "    <tr>\n",
       "      <th>1</th>\n",
       "      <td>D:/daps/daps/ipad_office1/segments\\f1\\segment_...</td>\n",
       "      <td>f1</td>\n",
       "      <td>f1</td>\n",
       "    </tr>\n",
       "    <tr>\n",
       "      <th>2</th>\n",
       "      <td>D:/daps/daps/ipad_office1/segments\\f1\\segment_...</td>\n",
       "      <td>f1</td>\n",
       "      <td>f1</td>\n",
       "    </tr>\n",
       "    <tr>\n",
       "      <th>3</th>\n",
       "      <td>D:/daps/daps/ipad_office1/segments\\f1\\segment_...</td>\n",
       "      <td>f1</td>\n",
       "      <td>f1</td>\n",
       "    </tr>\n",
       "    <tr>\n",
       "      <th>4</th>\n",
       "      <td>D:/daps/daps/ipad_office1/segments\\f1\\segment_...</td>\n",
       "      <td>f1</td>\n",
       "      <td>f1</td>\n",
       "    </tr>\n",
       "    <tr>\n",
       "      <th>...</th>\n",
       "      <td>...</td>\n",
       "      <td>...</td>\n",
       "      <td>...</td>\n",
       "    </tr>\n",
       "    <tr>\n",
       "      <th>660</th>\n",
       "      <td>D:/daps/daps/ipad_office1/segments\\m9\\segment_...</td>\n",
       "      <td>m9</td>\n",
       "      <td>m9</td>\n",
       "    </tr>\n",
       "    <tr>\n",
       "      <th>661</th>\n",
       "      <td>D:/daps/daps/ipad_office1/segments\\m9\\segment_...</td>\n",
       "      <td>m9</td>\n",
       "      <td>m9</td>\n",
       "    </tr>\n",
       "    <tr>\n",
       "      <th>662</th>\n",
       "      <td>D:/daps/daps/ipad_office1/segments\\m9\\segment_...</td>\n",
       "      <td>m9</td>\n",
       "      <td>m9</td>\n",
       "    </tr>\n",
       "    <tr>\n",
       "      <th>663</th>\n",
       "      <td>D:/daps/daps/ipad_office1/segments\\m9\\segment_...</td>\n",
       "      <td>m9</td>\n",
       "      <td>m9</td>\n",
       "    </tr>\n",
       "    <tr>\n",
       "      <th>664</th>\n",
       "      <td>D:/daps/daps/ipad_office1/segments\\m9\\segment_...</td>\n",
       "      <td>m9</td>\n",
       "      <td>m9</td>\n",
       "    </tr>\n",
       "  </tbody>\n",
       "</table>\n",
       "<p>665 rows × 3 columns</p>\n",
       "</div>"
      ],
      "text/plain": [
       "                                             wav_files file_name speaker\n",
       "0    D:/daps/daps/ipad_office1/segments\\f1\\segment_...        f1      f1\n",
       "1    D:/daps/daps/ipad_office1/segments\\f1\\segment_...        f1      f1\n",
       "2    D:/daps/daps/ipad_office1/segments\\f1\\segment_...        f1      f1\n",
       "3    D:/daps/daps/ipad_office1/segments\\f1\\segment_...        f1      f1\n",
       "4    D:/daps/daps/ipad_office1/segments\\f1\\segment_...        f1      f1\n",
       "..                                                 ...       ...     ...\n",
       "660  D:/daps/daps/ipad_office1/segments\\m9\\segment_...        m9      m9\n",
       "661  D:/daps/daps/ipad_office1/segments\\m9\\segment_...        m9      m9\n",
       "662  D:/daps/daps/ipad_office1/segments\\m9\\segment_...        m9      m9\n",
       "663  D:/daps/daps/ipad_office1/segments\\m9\\segment_...        m9      m9\n",
       "664  D:/daps/daps/ipad_office1/segments\\m9\\segment_...        m9      m9\n",
       "\n",
       "[665 rows x 3 columns]"
      ]
     },
     "execution_count": 12,
     "metadata": {},
     "output_type": "execute_result"
    }
   ],
   "source": [
    "# create a new df with the segments\n",
    "segments = []\n",
    "for file in glob.glob(\"D:/daps/daps/ipad_office1/segments/**/*.wav\"):\n",
    "    segments.append(file)\n",
    "segments_df = pd.DataFrame(segments, columns=['wav_files'])\n",
    "segments_df['file_name'] = segments_df['wav_files'].apply(lambda x: x.split('\\\\')[-2].split('.')[0])\n",
    "segments_df['speaker'] = segments_df['file_name'].apply(lambda x: x.split('_')[0])\n",
    "segments_df"
   ]
  },
  {
   "cell_type": "code",
   "execution_count": 13,
   "metadata": {},
   "outputs": [
    {
     "name": "stdout",
     "output_type": "stream",
     "text": [
      "D:/daps/daps/ipad_office1/segments\\f1\\segment_0.wav\n",
      "f1\n"
     ]
    },
    {
     "data": {
      "application/vnd.jupyter.widget-view+json": {
       "model_id": "52cb3b3690e44dd7b83281eb2488194c",
       "version_major": 2,
       "version_minor": 0
      },
      "text/plain": [
       "Transcribing:   0%|          | 0/1 [00:00<?, ?it/s]"
      ]
     },
     "metadata": {},
     "output_type": "display_data"
    },
    {
     "name": "stdout",
     "output_type": "stream",
     "text": [
      "D:/daps/daps/ipad_office1/segments\\f1\\segment_1.wav\n",
      "f1\n"
     ]
    },
    {
     "data": {
      "application/vnd.jupyter.widget-view+json": {
       "model_id": "d18987a54a394a7aa8005ef76f0dfe15",
       "version_major": 2,
       "version_minor": 0
      },
      "text/plain": [
       "Transcribing:   0%|          | 0/1 [00:00<?, ?it/s]"
      ]
     },
     "metadata": {},
     "output_type": "display_data"
    },
    {
     "name": "stdout",
     "output_type": "stream",
     "text": [
      "D:/daps/daps/ipad_office1/segments\\f1\\segment_10.wav\n",
      "f1\n"
     ]
    },
    {
     "data": {
      "application/vnd.jupyter.widget-view+json": {
       "model_id": "7a55f9c4cf884899b2f5e4ab90715e90",
       "version_major": 2,
       "version_minor": 0
      },
      "text/plain": [
       "Transcribing:   0%|          | 0/1 [00:00<?, ?it/s]"
      ]
     },
     "metadata": {},
     "output_type": "display_data"
    },
    {
     "name": "stdout",
     "output_type": "stream",
     "text": [
      "D:/daps/daps/ipad_office1/segments\\f1\\segment_11.wav\n",
      "f1\n"
     ]
    },
    {
     "data": {
      "application/vnd.jupyter.widget-view+json": {
       "model_id": "6a6c7c02626f43b3a191b6626ec4d57a",
       "version_major": 2,
       "version_minor": 0
      },
      "text/plain": [
       "Transcribing:   0%|          | 0/1 [00:00<?, ?it/s]"
      ]
     },
     "metadata": {},
     "output_type": "display_data"
    },
    {
     "name": "stdout",
     "output_type": "stream",
     "text": [
      "D:/daps/daps/ipad_office1/segments\\f1\\segment_12.wav\n",
      "f1\n"
     ]
    },
    {
     "data": {
      "application/vnd.jupyter.widget-view+json": {
       "model_id": "482551219d0b4abe97121b963b02cafa",
       "version_major": 2,
       "version_minor": 0
      },
      "text/plain": [
       "Transcribing:   0%|          | 0/1 [00:00<?, ?it/s]"
      ]
     },
     "metadata": {},
     "output_type": "display_data"
    },
    {
     "name": "stdout",
     "output_type": "stream",
     "text": [
      "D:/daps/daps/ipad_office1/segments\\f1\\segment_13.wav\n",
      "f1\n"
     ]
    },
    {
     "data": {
      "application/vnd.jupyter.widget-view+json": {
       "model_id": "cb00ab212b7a4a2e8565fbf4f2523873",
       "version_major": 2,
       "version_minor": 0
      },
      "text/plain": [
       "Transcribing:   0%|          | 0/1 [00:00<?, ?it/s]"
      ]
     },
     "metadata": {},
     "output_type": "display_data"
    },
    {
     "name": "stdout",
     "output_type": "stream",
     "text": [
      "D:/daps/daps/ipad_office1/segments\\f1\\segment_14.wav\n",
      "f1\n"
     ]
    },
    {
     "data": {
      "application/vnd.jupyter.widget-view+json": {
       "model_id": "98993bb9f4d1442b994f0d19300a08a1",
       "version_major": 2,
       "version_minor": 0
      },
      "text/plain": [
       "Transcribing:   0%|          | 0/1 [00:00<?, ?it/s]"
      ]
     },
     "metadata": {},
     "output_type": "display_data"
    },
    {
     "name": "stdout",
     "output_type": "stream",
     "text": [
      "D:/daps/daps/ipad_office1/segments\\f1\\segment_15.wav\n",
      "f1\n"
     ]
    },
    {
     "data": {
      "application/vnd.jupyter.widget-view+json": {
       "model_id": "872d4edebaa64b6e95647d7895271348",
       "version_major": 2,
       "version_minor": 0
      },
      "text/plain": [
       "Transcribing:   0%|          | 0/1 [00:00<?, ?it/s]"
      ]
     },
     "metadata": {},
     "output_type": "display_data"
    },
    {
     "name": "stdout",
     "output_type": "stream",
     "text": [
      "D:/daps/daps/ipad_office1/segments\\f1\\segment_16.wav\n",
      "f1\n"
     ]
    },
    {
     "data": {
      "application/vnd.jupyter.widget-view+json": {
       "model_id": "2e3d82e82acc4ad6897864e087386120",
       "version_major": 2,
       "version_minor": 0
      },
      "text/plain": [
       "Transcribing:   0%|          | 0/1 [00:00<?, ?it/s]"
      ]
     },
     "metadata": {},
     "output_type": "display_data"
    },
    {
     "name": "stdout",
     "output_type": "stream",
     "text": [
      "D:/daps/daps/ipad_office1/segments\\f1\\segment_17.wav\n",
      "f1\n"
     ]
    },
    {
     "data": {
      "application/vnd.jupyter.widget-view+json": {
       "model_id": "f72d22c2cdb54074b68adeddfbe09721",
       "version_major": 2,
       "version_minor": 0
      },
      "text/plain": [
       "Transcribing:   0%|          | 0/1 [00:00<?, ?it/s]"
      ]
     },
     "metadata": {},
     "output_type": "display_data"
    },
    {
     "name": "stdout",
     "output_type": "stream",
     "text": [
      "D:/daps/daps/ipad_office1/segments\\f1\\segment_18.wav\n",
      "f1\n"
     ]
    },
    {
     "data": {
      "application/vnd.jupyter.widget-view+json": {
       "model_id": "1a9c4abcde014c308f02ed0f042456b0",
       "version_major": 2,
       "version_minor": 0
      },
      "text/plain": [
       "Transcribing:   0%|          | 0/1 [00:00<?, ?it/s]"
      ]
     },
     "metadata": {},
     "output_type": "display_data"
    },
    {
     "name": "stdout",
     "output_type": "stream",
     "text": [
      "D:/daps/daps/ipad_office1/segments\\f1\\segment_19.wav\n",
      "f1\n"
     ]
    },
    {
     "data": {
      "application/vnd.jupyter.widget-view+json": {
       "model_id": "db5f05df41b849398151b192263abc82",
       "version_major": 2,
       "version_minor": 0
      },
      "text/plain": [
       "Transcribing:   0%|          | 0/1 [00:00<?, ?it/s]"
      ]
     },
     "metadata": {},
     "output_type": "display_data"
    },
    {
     "name": "stdout",
     "output_type": "stream",
     "text": [
      "D:/daps/daps/ipad_office1/segments\\f1\\segment_2.wav\n",
      "f1\n"
     ]
    },
    {
     "data": {
      "application/vnd.jupyter.widget-view+json": {
       "model_id": "2bb3c3dcbe35445f91ba991dbbb39e76",
       "version_major": 2,
       "version_minor": 0
      },
      "text/plain": [
       "Transcribing:   0%|          | 0/1 [00:00<?, ?it/s]"
      ]
     },
     "metadata": {},
     "output_type": "display_data"
    },
    {
     "name": "stdout",
     "output_type": "stream",
     "text": [
      "D:/daps/daps/ipad_office1/segments\\f1\\segment_20.wav\n",
      "f1\n"
     ]
    },
    {
     "data": {
      "application/vnd.jupyter.widget-view+json": {
       "model_id": "c8b69dd2f31346ec9bcb20d52377a27a",
       "version_major": 2,
       "version_minor": 0
      },
      "text/plain": [
       "Transcribing:   0%|          | 0/1 [00:00<?, ?it/s]"
      ]
     },
     "metadata": {},
     "output_type": "display_data"
    },
    {
     "name": "stdout",
     "output_type": "stream",
     "text": [
      "D:/daps/daps/ipad_office1/segments\\f1\\segment_21.wav\n",
      "f1\n"
     ]
    },
    {
     "data": {
      "application/vnd.jupyter.widget-view+json": {
       "model_id": "6e7b3e4134384a2e88102c86b0f75cb4",
       "version_major": 2,
       "version_minor": 0
      },
      "text/plain": [
       "Transcribing:   0%|          | 0/1 [00:00<?, ?it/s]"
      ]
     },
     "metadata": {},
     "output_type": "display_data"
    },
    {
     "name": "stdout",
     "output_type": "stream",
     "text": [
      "D:/daps/daps/ipad_office1/segments\\f1\\segment_22.wav\n",
      "f1\n"
     ]
    },
    {
     "data": {
      "application/vnd.jupyter.widget-view+json": {
       "model_id": "923fed31cbae412380f53bfbe5ad1e5e",
       "version_major": 2,
       "version_minor": 0
      },
      "text/plain": [
       "Transcribing:   0%|          | 0/1 [00:00<?, ?it/s]"
      ]
     },
     "metadata": {},
     "output_type": "display_data"
    },
    {
     "name": "stdout",
     "output_type": "stream",
     "text": [
      "D:/daps/daps/ipad_office1/segments\\f1\\segment_23.wav\n",
      "f1\n"
     ]
    },
    {
     "data": {
      "application/vnd.jupyter.widget-view+json": {
       "model_id": "b4fb12ba613f412cbf1410f4f34b0716",
       "version_major": 2,
       "version_minor": 0
      },
      "text/plain": [
       "Transcribing:   0%|          | 0/1 [00:00<?, ?it/s]"
      ]
     },
     "metadata": {},
     "output_type": "display_data"
    },
    {
     "name": "stdout",
     "output_type": "stream",
     "text": [
      "D:/daps/daps/ipad_office1/segments\\f1\\segment_24.wav\n",
      "f1\n"
     ]
    },
    {
     "data": {
      "application/vnd.jupyter.widget-view+json": {
       "model_id": "76c3f5ba49bb4062b8a5bfc91fe15d21",
       "version_major": 2,
       "version_minor": 0
      },
      "text/plain": [
       "Transcribing:   0%|          | 0/1 [00:00<?, ?it/s]"
      ]
     },
     "metadata": {},
     "output_type": "display_data"
    },
    {
     "name": "stdout",
     "output_type": "stream",
     "text": [
      "D:/daps/daps/ipad_office1/segments\\f1\\segment_25.wav\n",
      "f1\n"
     ]
    },
    {
     "data": {
      "application/vnd.jupyter.widget-view+json": {
       "model_id": "f1638b7765014f6f8a3c22d8cdf3c146",
       "version_major": 2,
       "version_minor": 0
      },
      "text/plain": [
       "Transcribing:   0%|          | 0/1 [00:00<?, ?it/s]"
      ]
     },
     "metadata": {},
     "output_type": "display_data"
    },
    {
     "name": "stdout",
     "output_type": "stream",
     "text": [
      "D:/daps/daps/ipad_office1/segments\\f1\\segment_26.wav\n",
      "f1\n"
     ]
    },
    {
     "data": {
      "application/vnd.jupyter.widget-view+json": {
       "model_id": "c9aaa51bcd634ec2ad812426ef60e1c7",
       "version_major": 2,
       "version_minor": 0
      },
      "text/plain": [
       "Transcribing:   0%|          | 0/1 [00:00<?, ?it/s]"
      ]
     },
     "metadata": {},
     "output_type": "display_data"
    },
    {
     "name": "stdout",
     "output_type": "stream",
     "text": [
      "D:/daps/daps/ipad_office1/segments\\f1\\segment_27.wav\n",
      "f1\n"
     ]
    },
    {
     "data": {
      "application/vnd.jupyter.widget-view+json": {
       "model_id": "b3826b09c8b44d289d07b91b9583301e",
       "version_major": 2,
       "version_minor": 0
      },
      "text/plain": [
       "Transcribing:   0%|          | 0/1 [00:00<?, ?it/s]"
      ]
     },
     "metadata": {},
     "output_type": "display_data"
    },
    {
     "name": "stdout",
     "output_type": "stream",
     "text": [
      "D:/daps/daps/ipad_office1/segments\\f1\\segment_28.wav\n",
      "f1\n"
     ]
    },
    {
     "data": {
      "application/vnd.jupyter.widget-view+json": {
       "model_id": "299091bfa6f0463e81cf396e747f4dfd",
       "version_major": 2,
       "version_minor": 0
      },
      "text/plain": [
       "Transcribing:   0%|          | 0/1 [00:00<?, ?it/s]"
      ]
     },
     "metadata": {},
     "output_type": "display_data"
    },
    {
     "name": "stdout",
     "output_type": "stream",
     "text": [
      "D:/daps/daps/ipad_office1/segments\\f1\\segment_29.wav\n",
      "f1\n"
     ]
    },
    {
     "data": {
      "application/vnd.jupyter.widget-view+json": {
       "model_id": "11217863412349189ac4f6d5e7440c87",
       "version_major": 2,
       "version_minor": 0
      },
      "text/plain": [
       "Transcribing:   0%|          | 0/1 [00:00<?, ?it/s]"
      ]
     },
     "metadata": {},
     "output_type": "display_data"
    },
    {
     "name": "stdout",
     "output_type": "stream",
     "text": [
      "D:/daps/daps/ipad_office1/segments\\f1\\segment_3.wav\n",
      "f1\n"
     ]
    },
    {
     "data": {
      "application/vnd.jupyter.widget-view+json": {
       "model_id": "4205634183f6413f845066707a07f06c",
       "version_major": 2,
       "version_minor": 0
      },
      "text/plain": [
       "Transcribing:   0%|          | 0/1 [00:00<?, ?it/s]"
      ]
     },
     "metadata": {},
     "output_type": "display_data"
    },
    {
     "name": "stdout",
     "output_type": "stream",
     "text": [
      "D:/daps/daps/ipad_office1/segments\\f1\\segment_30.wav\n",
      "f1\n"
     ]
    },
    {
     "data": {
      "application/vnd.jupyter.widget-view+json": {
       "model_id": "69ea89cfa4f14431b64690ddd9f01b31",
       "version_major": 2,
       "version_minor": 0
      },
      "text/plain": [
       "Transcribing:   0%|          | 0/1 [00:00<?, ?it/s]"
      ]
     },
     "metadata": {},
     "output_type": "display_data"
    },
    {
     "name": "stdout",
     "output_type": "stream",
     "text": [
      "D:/daps/daps/ipad_office1/segments\\f1\\segment_31.wav\n",
      "f1\n"
     ]
    },
    {
     "data": {
      "application/vnd.jupyter.widget-view+json": {
       "model_id": "990c73694eb84fba8bbb91841937b9d4",
       "version_major": 2,
       "version_minor": 0
      },
      "text/plain": [
       "Transcribing:   0%|          | 0/1 [00:00<?, ?it/s]"
      ]
     },
     "metadata": {},
     "output_type": "display_data"
    },
    {
     "name": "stdout",
     "output_type": "stream",
     "text": [
      "D:/daps/daps/ipad_office1/segments\\f1\\segment_32.wav\n",
      "f1\n"
     ]
    },
    {
     "data": {
      "application/vnd.jupyter.widget-view+json": {
       "model_id": "35f2b695e8b547cfbc70fc243e995541",
       "version_major": 2,
       "version_minor": 0
      },
      "text/plain": [
       "Transcribing:   0%|          | 0/1 [00:00<?, ?it/s]"
      ]
     },
     "metadata": {},
     "output_type": "display_data"
    },
    {
     "name": "stdout",
     "output_type": "stream",
     "text": [
      "D:/daps/daps/ipad_office1/segments\\f1\\segment_33.wav\n",
      "f1\n"
     ]
    },
    {
     "data": {
      "application/vnd.jupyter.widget-view+json": {
       "model_id": "e93f69079c384c5fa3a540d6fdeaf84c",
       "version_major": 2,
       "version_minor": 0
      },
      "text/plain": [
       "Transcribing:   0%|          | 0/1 [00:00<?, ?it/s]"
      ]
     },
     "metadata": {},
     "output_type": "display_data"
    },
    {
     "name": "stdout",
     "output_type": "stream",
     "text": [
      "D:/daps/daps/ipad_office1/segments\\f1\\segment_34.wav\n",
      "f1\n"
     ]
    },
    {
     "data": {
      "application/vnd.jupyter.widget-view+json": {
       "model_id": "a490827856334d278bfc0da35776e345",
       "version_major": 2,
       "version_minor": 0
      },
      "text/plain": [
       "Transcribing:   0%|          | 0/1 [00:00<?, ?it/s]"
      ]
     },
     "metadata": {},
     "output_type": "display_data"
    },
    {
     "name": "stdout",
     "output_type": "stream",
     "text": [
      "D:/daps/daps/ipad_office1/segments\\f1\\segment_35.wav\n",
      "f1\n"
     ]
    },
    {
     "data": {
      "application/vnd.jupyter.widget-view+json": {
       "model_id": "bf8e967750d1459993829ec0cabce094",
       "version_major": 2,
       "version_minor": 0
      },
      "text/plain": [
       "Transcribing:   0%|          | 0/1 [00:00<?, ?it/s]"
      ]
     },
     "metadata": {},
     "output_type": "display_data"
    },
    {
     "name": "stdout",
     "output_type": "stream",
     "text": [
      "D:/daps/daps/ipad_office1/segments\\f1\\segment_36.wav\n",
      "f1\n"
     ]
    },
    {
     "data": {
      "application/vnd.jupyter.widget-view+json": {
       "model_id": "a9e38a98189b4cdea25dc7669ebd3cea",
       "version_major": 2,
       "version_minor": 0
      },
      "text/plain": [
       "Transcribing:   0%|          | 0/1 [00:00<?, ?it/s]"
      ]
     },
     "metadata": {},
     "output_type": "display_data"
    },
    {
     "name": "stdout",
     "output_type": "stream",
     "text": [
      "D:/daps/daps/ipad_office1/segments\\f1\\segment_37.wav\n",
      "f1\n"
     ]
    },
    {
     "data": {
      "application/vnd.jupyter.widget-view+json": {
       "model_id": "a72d18147b54449c8903880e5a8c2e38",
       "version_major": 2,
       "version_minor": 0
      },
      "text/plain": [
       "Transcribing:   0%|          | 0/1 [00:00<?, ?it/s]"
      ]
     },
     "metadata": {},
     "output_type": "display_data"
    },
    {
     "name": "stdout",
     "output_type": "stream",
     "text": [
      "D:/daps/daps/ipad_office1/segments\\f1\\segment_38.wav\n",
      "f1\n"
     ]
    },
    {
     "data": {
      "application/vnd.jupyter.widget-view+json": {
       "model_id": "0fcdf128681d41278ea51ba9cd50dd9f",
       "version_major": 2,
       "version_minor": 0
      },
      "text/plain": [
       "Transcribing:   0%|          | 0/1 [00:00<?, ?it/s]"
      ]
     },
     "metadata": {},
     "output_type": "display_data"
    },
    {
     "name": "stdout",
     "output_type": "stream",
     "text": [
      "D:/daps/daps/ipad_office1/segments\\f1\\segment_39.wav\n",
      "f1\n"
     ]
    },
    {
     "data": {
      "application/vnd.jupyter.widget-view+json": {
       "model_id": "4ea96b53a7af4ebab57b1568db693891",
       "version_major": 2,
       "version_minor": 0
      },
      "text/plain": [
       "Transcribing:   0%|          | 0/1 [00:00<?, ?it/s]"
      ]
     },
     "metadata": {},
     "output_type": "display_data"
    },
    {
     "name": "stdout",
     "output_type": "stream",
     "text": [
      "D:/daps/daps/ipad_office1/segments\\f1\\segment_4.wav\n",
      "f1\n"
     ]
    },
    {
     "data": {
      "application/vnd.jupyter.widget-view+json": {
       "model_id": "7272a1dd8542446dae6e0f398c3a4a5b",
       "version_major": 2,
       "version_minor": 0
      },
      "text/plain": [
       "Transcribing:   0%|          | 0/1 [00:00<?, ?it/s]"
      ]
     },
     "metadata": {},
     "output_type": "display_data"
    },
    {
     "name": "stdout",
     "output_type": "stream",
     "text": [
      "D:/daps/daps/ipad_office1/segments\\f1\\segment_40.wav\n",
      "f1\n"
     ]
    },
    {
     "data": {
      "application/vnd.jupyter.widget-view+json": {
       "model_id": "40faf298345b434b8cf315cf2b0f7d8a",
       "version_major": 2,
       "version_minor": 0
      },
      "text/plain": [
       "Transcribing:   0%|          | 0/1 [00:00<?, ?it/s]"
      ]
     },
     "metadata": {},
     "output_type": "display_data"
    },
    {
     "name": "stdout",
     "output_type": "stream",
     "text": [
      "D:/daps/daps/ipad_office1/segments\\f1\\segment_41.wav\n",
      "f1\n"
     ]
    },
    {
     "data": {
      "application/vnd.jupyter.widget-view+json": {
       "model_id": "226ff027233141fd93279bc021a5bba6",
       "version_major": 2,
       "version_minor": 0
      },
      "text/plain": [
       "Transcribing:   0%|          | 0/1 [00:00<?, ?it/s]"
      ]
     },
     "metadata": {},
     "output_type": "display_data"
    },
    {
     "name": "stdout",
     "output_type": "stream",
     "text": [
      "D:/daps/daps/ipad_office1/segments\\f1\\segment_42.wav\n",
      "f1\n"
     ]
    },
    {
     "data": {
      "application/vnd.jupyter.widget-view+json": {
       "model_id": "48972c08ec694b77a691ca5cf7da4ef7",
       "version_major": 2,
       "version_minor": 0
      },
      "text/plain": [
       "Transcribing:   0%|          | 0/1 [00:00<?, ?it/s]"
      ]
     },
     "metadata": {},
     "output_type": "display_data"
    },
    {
     "name": "stdout",
     "output_type": "stream",
     "text": [
      "D:/daps/daps/ipad_office1/segments\\f1\\segment_5.wav\n",
      "f1\n"
     ]
    },
    {
     "data": {
      "application/vnd.jupyter.widget-view+json": {
       "model_id": "a7060ed873494d7484e09e0b98823f4f",
       "version_major": 2,
       "version_minor": 0
      },
      "text/plain": [
       "Transcribing:   0%|          | 0/1 [00:00<?, ?it/s]"
      ]
     },
     "metadata": {},
     "output_type": "display_data"
    },
    {
     "name": "stdout",
     "output_type": "stream",
     "text": [
      "D:/daps/daps/ipad_office1/segments\\f1\\segment_6.wav\n",
      "f1\n"
     ]
    },
    {
     "data": {
      "application/vnd.jupyter.widget-view+json": {
       "model_id": "33268551dfeb4cf6abbf54b001eeeaac",
       "version_major": 2,
       "version_minor": 0
      },
      "text/plain": [
       "Transcribing:   0%|          | 0/1 [00:00<?, ?it/s]"
      ]
     },
     "metadata": {},
     "output_type": "display_data"
    },
    {
     "name": "stdout",
     "output_type": "stream",
     "text": [
      "D:/daps/daps/ipad_office1/segments\\f1\\segment_7.wav\n",
      "f1\n"
     ]
    },
    {
     "data": {
      "application/vnd.jupyter.widget-view+json": {
       "model_id": "1b1015544c9d4713acb680638c9841fe",
       "version_major": 2,
       "version_minor": 0
      },
      "text/plain": [
       "Transcribing:   0%|          | 0/1 [00:00<?, ?it/s]"
      ]
     },
     "metadata": {},
     "output_type": "display_data"
    },
    {
     "name": "stdout",
     "output_type": "stream",
     "text": [
      "D:/daps/daps/ipad_office1/segments\\f1\\segment_8.wav\n",
      "f1\n"
     ]
    },
    {
     "data": {
      "application/vnd.jupyter.widget-view+json": {
       "model_id": "a9284d6b17a949118e56cb7d7297d194",
       "version_major": 2,
       "version_minor": 0
      },
      "text/plain": [
       "Transcribing:   0%|          | 0/1 [00:00<?, ?it/s]"
      ]
     },
     "metadata": {},
     "output_type": "display_data"
    },
    {
     "name": "stdout",
     "output_type": "stream",
     "text": [
      "D:/daps/daps/ipad_office1/segments\\f1\\segment_9.wav\n",
      "f1\n"
     ]
    },
    {
     "data": {
      "application/vnd.jupyter.widget-view+json": {
       "model_id": "e268591eb7bb4bdf9423cdc852dfd6d6",
       "version_major": 2,
       "version_minor": 0
      },
      "text/plain": [
       "Transcribing:   0%|          | 0/1 [00:00<?, ?it/s]"
      ]
     },
     "metadata": {},
     "output_type": "display_data"
    },
    {
     "name": "stdout",
     "output_type": "stream",
     "text": [
      "D:/daps/daps/ipad_office1/segments\\f10\\segment_0.wav\n",
      "f10\n"
     ]
    },
    {
     "data": {
      "application/vnd.jupyter.widget-view+json": {
       "model_id": "6c557050560a462684ab253087bef2a3",
       "version_major": 2,
       "version_minor": 0
      },
      "text/plain": [
       "Transcribing:   0%|          | 0/1 [00:00<?, ?it/s]"
      ]
     },
     "metadata": {},
     "output_type": "display_data"
    },
    {
     "name": "stdout",
     "output_type": "stream",
     "text": [
      "D:/daps/daps/ipad_office1/segments\\f10\\segment_1.wav\n",
      "f10\n"
     ]
    },
    {
     "data": {
      "application/vnd.jupyter.widget-view+json": {
       "model_id": "c6bba2380a3644cd967e195846c4c43f",
       "version_major": 2,
       "version_minor": 0
      },
      "text/plain": [
       "Transcribing:   0%|          | 0/1 [00:00<?, ?it/s]"
      ]
     },
     "metadata": {},
     "output_type": "display_data"
    },
    {
     "name": "stdout",
     "output_type": "stream",
     "text": [
      "D:/daps/daps/ipad_office1/segments\\f10\\segment_10.wav\n",
      "f10\n"
     ]
    },
    {
     "data": {
      "application/vnd.jupyter.widget-view+json": {
       "model_id": "ca8a99398e514f39a4fbe9210ba440ec",
       "version_major": 2,
       "version_minor": 0
      },
      "text/plain": [
       "Transcribing:   0%|          | 0/1 [00:00<?, ?it/s]"
      ]
     },
     "metadata": {},
     "output_type": "display_data"
    },
    {
     "name": "stdout",
     "output_type": "stream",
     "text": [
      "D:/daps/daps/ipad_office1/segments\\f10\\segment_11.wav\n",
      "f10\n"
     ]
    },
    {
     "data": {
      "application/vnd.jupyter.widget-view+json": {
       "model_id": "e375aae5c98d4064bb0acc5e6c2f60ad",
       "version_major": 2,
       "version_minor": 0
      },
      "text/plain": [
       "Transcribing:   0%|          | 0/1 [00:00<?, ?it/s]"
      ]
     },
     "metadata": {},
     "output_type": "display_data"
    },
    {
     "name": "stdout",
     "output_type": "stream",
     "text": [
      "D:/daps/daps/ipad_office1/segments\\f10\\segment_12.wav\n",
      "f10\n"
     ]
    },
    {
     "data": {
      "application/vnd.jupyter.widget-view+json": {
       "model_id": "d7a4d29c21fb4b2da577ce4f22066043",
       "version_major": 2,
       "version_minor": 0
      },
      "text/plain": [
       "Transcribing:   0%|          | 0/1 [00:00<?, ?it/s]"
      ]
     },
     "metadata": {},
     "output_type": "display_data"
    },
    {
     "name": "stdout",
     "output_type": "stream",
     "text": [
      "D:/daps/daps/ipad_office1/segments\\f10\\segment_13.wav\n",
      "f10\n"
     ]
    },
    {
     "data": {
      "application/vnd.jupyter.widget-view+json": {
       "model_id": "c025f469d58246e7a1a76c321b581882",
       "version_major": 2,
       "version_minor": 0
      },
      "text/plain": [
       "Transcribing:   0%|          | 0/1 [00:00<?, ?it/s]"
      ]
     },
     "metadata": {},
     "output_type": "display_data"
    },
    {
     "name": "stdout",
     "output_type": "stream",
     "text": [
      "D:/daps/daps/ipad_office1/segments\\f10\\segment_14.wav\n",
      "f10\n"
     ]
    },
    {
     "data": {
      "application/vnd.jupyter.widget-view+json": {
       "model_id": "1687811ec80743cc9e511e926e861543",
       "version_major": 2,
       "version_minor": 0
      },
      "text/plain": [
       "Transcribing:   0%|          | 0/1 [00:00<?, ?it/s]"
      ]
     },
     "metadata": {},
     "output_type": "display_data"
    },
    {
     "name": "stdout",
     "output_type": "stream",
     "text": [
      "D:/daps/daps/ipad_office1/segments\\f10\\segment_15.wav\n",
      "f10\n"
     ]
    },
    {
     "data": {
      "application/vnd.jupyter.widget-view+json": {
       "model_id": "410af81e71f6435593897a54614c77b6",
       "version_major": 2,
       "version_minor": 0
      },
      "text/plain": [
       "Transcribing:   0%|          | 0/1 [00:00<?, ?it/s]"
      ]
     },
     "metadata": {},
     "output_type": "display_data"
    },
    {
     "name": "stdout",
     "output_type": "stream",
     "text": [
      "D:/daps/daps/ipad_office1/segments\\f10\\segment_16.wav\n",
      "f10\n"
     ]
    },
    {
     "data": {
      "application/vnd.jupyter.widget-view+json": {
       "model_id": "b09c8fbe5b1f403d86f6a03754791dd6",
       "version_major": 2,
       "version_minor": 0
      },
      "text/plain": [
       "Transcribing:   0%|          | 0/1 [00:00<?, ?it/s]"
      ]
     },
     "metadata": {},
     "output_type": "display_data"
    },
    {
     "name": "stdout",
     "output_type": "stream",
     "text": [
      "D:/daps/daps/ipad_office1/segments\\f10\\segment_17.wav\n",
      "f10\n"
     ]
    },
    {
     "data": {
      "application/vnd.jupyter.widget-view+json": {
       "model_id": "cd6285e21d584958a78c69047c454ca1",
       "version_major": 2,
       "version_minor": 0
      },
      "text/plain": [
       "Transcribing:   0%|          | 0/1 [00:00<?, ?it/s]"
      ]
     },
     "metadata": {},
     "output_type": "display_data"
    },
    {
     "name": "stdout",
     "output_type": "stream",
     "text": [
      "D:/daps/daps/ipad_office1/segments\\f10\\segment_18.wav\n",
      "f10\n"
     ]
    },
    {
     "data": {
      "application/vnd.jupyter.widget-view+json": {
       "model_id": "03a182e3286f45188dcbe7b0de701fcf",
       "version_major": 2,
       "version_minor": 0
      },
      "text/plain": [
       "Transcribing:   0%|          | 0/1 [00:00<?, ?it/s]"
      ]
     },
     "metadata": {},
     "output_type": "display_data"
    },
    {
     "name": "stdout",
     "output_type": "stream",
     "text": [
      "D:/daps/daps/ipad_office1/segments\\f10\\segment_19.wav\n",
      "f10\n"
     ]
    },
    {
     "data": {
      "application/vnd.jupyter.widget-view+json": {
       "model_id": "6627febd98744ed4a6e5ca4be91f59d0",
       "version_major": 2,
       "version_minor": 0
      },
      "text/plain": [
       "Transcribing:   0%|          | 0/1 [00:00<?, ?it/s]"
      ]
     },
     "metadata": {},
     "output_type": "display_data"
    },
    {
     "name": "stdout",
     "output_type": "stream",
     "text": [
      "D:/daps/daps/ipad_office1/segments\\f10\\segment_2.wav\n",
      "f10\n"
     ]
    },
    {
     "data": {
      "application/vnd.jupyter.widget-view+json": {
       "model_id": "872f3c5553954f02ac49ebc5ab16facd",
       "version_major": 2,
       "version_minor": 0
      },
      "text/plain": [
       "Transcribing:   0%|          | 0/1 [00:00<?, ?it/s]"
      ]
     },
     "metadata": {},
     "output_type": "display_data"
    },
    {
     "name": "stdout",
     "output_type": "stream",
     "text": [
      "D:/daps/daps/ipad_office1/segments\\f10\\segment_20.wav\n",
      "f10\n"
     ]
    },
    {
     "data": {
      "application/vnd.jupyter.widget-view+json": {
       "model_id": "ecef1c9aca08402bbfb50a85dd3cb3d9",
       "version_major": 2,
       "version_minor": 0
      },
      "text/plain": [
       "Transcribing:   0%|          | 0/1 [00:00<?, ?it/s]"
      ]
     },
     "metadata": {},
     "output_type": "display_data"
    },
    {
     "name": "stdout",
     "output_type": "stream",
     "text": [
      "D:/daps/daps/ipad_office1/segments\\f10\\segment_21.wav\n",
      "f10\n"
     ]
    },
    {
     "data": {
      "application/vnd.jupyter.widget-view+json": {
       "model_id": "d8a9bc93fdce4744ab914f8a58dfffee",
       "version_major": 2,
       "version_minor": 0
      },
      "text/plain": [
       "Transcribing:   0%|          | 0/1 [00:00<?, ?it/s]"
      ]
     },
     "metadata": {},
     "output_type": "display_data"
    },
    {
     "name": "stdout",
     "output_type": "stream",
     "text": [
      "D:/daps/daps/ipad_office1/segments\\f10\\segment_22.wav\n",
      "f10\n"
     ]
    },
    {
     "data": {
      "application/vnd.jupyter.widget-view+json": {
       "model_id": "20936a24b2494c72b79d46ea3f6b528f",
       "version_major": 2,
       "version_minor": 0
      },
      "text/plain": [
       "Transcribing:   0%|          | 0/1 [00:00<?, ?it/s]"
      ]
     },
     "metadata": {},
     "output_type": "display_data"
    },
    {
     "name": "stdout",
     "output_type": "stream",
     "text": [
      "D:/daps/daps/ipad_office1/segments\\f10\\segment_23.wav\n",
      "f10\n"
     ]
    },
    {
     "data": {
      "application/vnd.jupyter.widget-view+json": {
       "model_id": "2741db15908f4fd79fc130e3c214f494",
       "version_major": 2,
       "version_minor": 0
      },
      "text/plain": [
       "Transcribing:   0%|          | 0/1 [00:00<?, ?it/s]"
      ]
     },
     "metadata": {},
     "output_type": "display_data"
    },
    {
     "name": "stdout",
     "output_type": "stream",
     "text": [
      "D:/daps/daps/ipad_office1/segments\\f10\\segment_24.wav\n",
      "f10\n"
     ]
    },
    {
     "data": {
      "application/vnd.jupyter.widget-view+json": {
       "model_id": "8423a5e3dfec48e3991986e365f151eb",
       "version_major": 2,
       "version_minor": 0
      },
      "text/plain": [
       "Transcribing:   0%|          | 0/1 [00:00<?, ?it/s]"
      ]
     },
     "metadata": {},
     "output_type": "display_data"
    },
    {
     "name": "stdout",
     "output_type": "stream",
     "text": [
      "D:/daps/daps/ipad_office1/segments\\f10\\segment_25.wav\n",
      "f10\n"
     ]
    },
    {
     "data": {
      "application/vnd.jupyter.widget-view+json": {
       "model_id": "7036b6ca6aa648bebd31638a99fd2ffa",
       "version_major": 2,
       "version_minor": 0
      },
      "text/plain": [
       "Transcribing:   0%|          | 0/1 [00:00<?, ?it/s]"
      ]
     },
     "metadata": {},
     "output_type": "display_data"
    },
    {
     "name": "stdout",
     "output_type": "stream",
     "text": [
      "D:/daps/daps/ipad_office1/segments\\f10\\segment_3.wav\n",
      "f10\n"
     ]
    },
    {
     "data": {
      "application/vnd.jupyter.widget-view+json": {
       "model_id": "b4eafb43035548b182dbb0a68a17eaac",
       "version_major": 2,
       "version_minor": 0
      },
      "text/plain": [
       "Transcribing:   0%|          | 0/1 [00:00<?, ?it/s]"
      ]
     },
     "metadata": {},
     "output_type": "display_data"
    },
    {
     "name": "stdout",
     "output_type": "stream",
     "text": [
      "D:/daps/daps/ipad_office1/segments\\f10\\segment_4.wav\n",
      "f10\n"
     ]
    },
    {
     "data": {
      "application/vnd.jupyter.widget-view+json": {
       "model_id": "fdc92d979d10462d836d2f464a3f35a1",
       "version_major": 2,
       "version_minor": 0
      },
      "text/plain": [
       "Transcribing:   0%|          | 0/1 [00:00<?, ?it/s]"
      ]
     },
     "metadata": {},
     "output_type": "display_data"
    },
    {
     "name": "stdout",
     "output_type": "stream",
     "text": [
      "D:/daps/daps/ipad_office1/segments\\f10\\segment_5.wav\n",
      "f10\n"
     ]
    },
    {
     "data": {
      "application/vnd.jupyter.widget-view+json": {
       "model_id": "a9120778a3c744d981053412c1a788cb",
       "version_major": 2,
       "version_minor": 0
      },
      "text/plain": [
       "Transcribing:   0%|          | 0/1 [00:00<?, ?it/s]"
      ]
     },
     "metadata": {},
     "output_type": "display_data"
    },
    {
     "name": "stdout",
     "output_type": "stream",
     "text": [
      "D:/daps/daps/ipad_office1/segments\\f10\\segment_6.wav\n",
      "f10\n"
     ]
    },
    {
     "data": {
      "application/vnd.jupyter.widget-view+json": {
       "model_id": "92dd3150089b473a9e3f1f8a70b89768",
       "version_major": 2,
       "version_minor": 0
      },
      "text/plain": [
       "Transcribing:   0%|          | 0/1 [00:00<?, ?it/s]"
      ]
     },
     "metadata": {},
     "output_type": "display_data"
    },
    {
     "name": "stdout",
     "output_type": "stream",
     "text": [
      "D:/daps/daps/ipad_office1/segments\\f10\\segment_7.wav\n",
      "f10\n"
     ]
    },
    {
     "data": {
      "application/vnd.jupyter.widget-view+json": {
       "model_id": "dee45a51be294161a28bdfd68d3edf53",
       "version_major": 2,
       "version_minor": 0
      },
      "text/plain": [
       "Transcribing:   0%|          | 0/1 [00:00<?, ?it/s]"
      ]
     },
     "metadata": {},
     "output_type": "display_data"
    },
    {
     "name": "stdout",
     "output_type": "stream",
     "text": [
      "D:/daps/daps/ipad_office1/segments\\f10\\segment_8.wav\n",
      "f10\n"
     ]
    },
    {
     "data": {
      "application/vnd.jupyter.widget-view+json": {
       "model_id": "8d044a7e13e845849bd98a09384dc3e1",
       "version_major": 2,
       "version_minor": 0
      },
      "text/plain": [
       "Transcribing:   0%|          | 0/1 [00:00<?, ?it/s]"
      ]
     },
     "metadata": {},
     "output_type": "display_data"
    },
    {
     "name": "stdout",
     "output_type": "stream",
     "text": [
      "D:/daps/daps/ipad_office1/segments\\f10\\segment_9.wav\n",
      "f10\n"
     ]
    },
    {
     "data": {
      "application/vnd.jupyter.widget-view+json": {
       "model_id": "701dd9b69a9f48569c77ad39ae546892",
       "version_major": 2,
       "version_minor": 0
      },
      "text/plain": [
       "Transcribing:   0%|          | 0/1 [00:00<?, ?it/s]"
      ]
     },
     "metadata": {},
     "output_type": "display_data"
    },
    {
     "name": "stdout",
     "output_type": "stream",
     "text": [
      "D:/daps/daps/ipad_office1/segments\\f2\\segment_0.wav\n",
      "f2\n"
     ]
    },
    {
     "data": {
      "application/vnd.jupyter.widget-view+json": {
       "model_id": "f2ad4de998504420bb37ff2e1e188bbf",
       "version_major": 2,
       "version_minor": 0
      },
      "text/plain": [
       "Transcribing:   0%|          | 0/1 [00:00<?, ?it/s]"
      ]
     },
     "metadata": {},
     "output_type": "display_data"
    },
    {
     "name": "stdout",
     "output_type": "stream",
     "text": [
      "D:/daps/daps/ipad_office1/segments\\f2\\segment_1.wav\n",
      "f2\n"
     ]
    },
    {
     "data": {
      "application/vnd.jupyter.widget-view+json": {
       "model_id": "5328fadc1bb14c7f81fc35d3968fea9b",
       "version_major": 2,
       "version_minor": 0
      },
      "text/plain": [
       "Transcribing:   0%|          | 0/1 [00:00<?, ?it/s]"
      ]
     },
     "metadata": {},
     "output_type": "display_data"
    },
    {
     "name": "stdout",
     "output_type": "stream",
     "text": [
      "D:/daps/daps/ipad_office1/segments\\f2\\segment_10.wav\n",
      "f2\n"
     ]
    },
    {
     "data": {
      "application/vnd.jupyter.widget-view+json": {
       "model_id": "a8709cc8b48247738ed6983214882ff7",
       "version_major": 2,
       "version_minor": 0
      },
      "text/plain": [
       "Transcribing:   0%|          | 0/1 [00:00<?, ?it/s]"
      ]
     },
     "metadata": {},
     "output_type": "display_data"
    },
    {
     "name": "stdout",
     "output_type": "stream",
     "text": [
      "D:/daps/daps/ipad_office1/segments\\f2\\segment_11.wav\n",
      "f2\n"
     ]
    },
    {
     "data": {
      "application/vnd.jupyter.widget-view+json": {
       "model_id": "d149a0339d3140a9aedc83b77c2bf01a",
       "version_major": 2,
       "version_minor": 0
      },
      "text/plain": [
       "Transcribing:   0%|          | 0/1 [00:00<?, ?it/s]"
      ]
     },
     "metadata": {},
     "output_type": "display_data"
    },
    {
     "name": "stdout",
     "output_type": "stream",
     "text": [
      "D:/daps/daps/ipad_office1/segments\\f2\\segment_12.wav\n",
      "f2\n"
     ]
    },
    {
     "data": {
      "application/vnd.jupyter.widget-view+json": {
       "model_id": "fecf4a4a9d1b44e39f996fa0eb2c9a73",
       "version_major": 2,
       "version_minor": 0
      },
      "text/plain": [
       "Transcribing:   0%|          | 0/1 [00:00<?, ?it/s]"
      ]
     },
     "metadata": {},
     "output_type": "display_data"
    },
    {
     "name": "stdout",
     "output_type": "stream",
     "text": [
      "D:/daps/daps/ipad_office1/segments\\f2\\segment_13.wav\n",
      "f2\n"
     ]
    },
    {
     "data": {
      "application/vnd.jupyter.widget-view+json": {
       "model_id": "374cc8826ee04c379b00187ec527a170",
       "version_major": 2,
       "version_minor": 0
      },
      "text/plain": [
       "Transcribing:   0%|          | 0/1 [00:00<?, ?it/s]"
      ]
     },
     "metadata": {},
     "output_type": "display_data"
    },
    {
     "name": "stdout",
     "output_type": "stream",
     "text": [
      "D:/daps/daps/ipad_office1/segments\\f2\\segment_14.wav\n",
      "f2\n"
     ]
    },
    {
     "data": {
      "application/vnd.jupyter.widget-view+json": {
       "model_id": "e21141ae6b464734ba924f4493018e81",
       "version_major": 2,
       "version_minor": 0
      },
      "text/plain": [
       "Transcribing:   0%|          | 0/1 [00:00<?, ?it/s]"
      ]
     },
     "metadata": {},
     "output_type": "display_data"
    },
    {
     "name": "stdout",
     "output_type": "stream",
     "text": [
      "D:/daps/daps/ipad_office1/segments\\f2\\segment_15.wav\n",
      "f2\n"
     ]
    },
    {
     "data": {
      "application/vnd.jupyter.widget-view+json": {
       "model_id": "cacfedd5f4dd4ff9b223372fe3326baa",
       "version_major": 2,
       "version_minor": 0
      },
      "text/plain": [
       "Transcribing:   0%|          | 0/1 [00:00<?, ?it/s]"
      ]
     },
     "metadata": {},
     "output_type": "display_data"
    },
    {
     "name": "stdout",
     "output_type": "stream",
     "text": [
      "D:/daps/daps/ipad_office1/segments\\f2\\segment_16.wav\n",
      "f2\n"
     ]
    },
    {
     "data": {
      "application/vnd.jupyter.widget-view+json": {
       "model_id": "5889f29eb03d4918a7d86b8a328d56cc",
       "version_major": 2,
       "version_minor": 0
      },
      "text/plain": [
       "Transcribing:   0%|          | 0/1 [00:00<?, ?it/s]"
      ]
     },
     "metadata": {},
     "output_type": "display_data"
    },
    {
     "name": "stdout",
     "output_type": "stream",
     "text": [
      "D:/daps/daps/ipad_office1/segments\\f2\\segment_17.wav\n",
      "f2\n"
     ]
    },
    {
     "data": {
      "application/vnd.jupyter.widget-view+json": {
       "model_id": "15e9ad09eda8458989097d349eebb9e5",
       "version_major": 2,
       "version_minor": 0
      },
      "text/plain": [
       "Transcribing:   0%|          | 0/1 [00:00<?, ?it/s]"
      ]
     },
     "metadata": {},
     "output_type": "display_data"
    },
    {
     "name": "stdout",
     "output_type": "stream",
     "text": [
      "D:/daps/daps/ipad_office1/segments\\f2\\segment_18.wav\n",
      "f2\n"
     ]
    },
    {
     "data": {
      "application/vnd.jupyter.widget-view+json": {
       "model_id": "a84eac668c1b43349f7c2e0987832dcf",
       "version_major": 2,
       "version_minor": 0
      },
      "text/plain": [
       "Transcribing:   0%|          | 0/1 [00:00<?, ?it/s]"
      ]
     },
     "metadata": {},
     "output_type": "display_data"
    },
    {
     "name": "stdout",
     "output_type": "stream",
     "text": [
      "D:/daps/daps/ipad_office1/segments\\f2\\segment_19.wav\n",
      "f2\n"
     ]
    },
    {
     "data": {
      "application/vnd.jupyter.widget-view+json": {
       "model_id": "1102025bd6974f81a5edf4eb114cd969",
       "version_major": 2,
       "version_minor": 0
      },
      "text/plain": [
       "Transcribing:   0%|          | 0/1 [00:00<?, ?it/s]"
      ]
     },
     "metadata": {},
     "output_type": "display_data"
    },
    {
     "name": "stdout",
     "output_type": "stream",
     "text": [
      "D:/daps/daps/ipad_office1/segments\\f2\\segment_2.wav\n",
      "f2\n"
     ]
    },
    {
     "data": {
      "application/vnd.jupyter.widget-view+json": {
       "model_id": "e38390dcf9d542b388117339520801ba",
       "version_major": 2,
       "version_minor": 0
      },
      "text/plain": [
       "Transcribing:   0%|          | 0/1 [00:00<?, ?it/s]"
      ]
     },
     "metadata": {},
     "output_type": "display_data"
    },
    {
     "name": "stdout",
     "output_type": "stream",
     "text": [
      "D:/daps/daps/ipad_office1/segments\\f2\\segment_20.wav\n",
      "f2\n"
     ]
    },
    {
     "data": {
      "application/vnd.jupyter.widget-view+json": {
       "model_id": "75de0c3a3f0045b6a20bf22f62f4a4e1",
       "version_major": 2,
       "version_minor": 0
      },
      "text/plain": [
       "Transcribing:   0%|          | 0/1 [00:00<?, ?it/s]"
      ]
     },
     "metadata": {},
     "output_type": "display_data"
    },
    {
     "name": "stdout",
     "output_type": "stream",
     "text": [
      "D:/daps/daps/ipad_office1/segments\\f2\\segment_21.wav\n",
      "f2\n"
     ]
    },
    {
     "data": {
      "application/vnd.jupyter.widget-view+json": {
       "model_id": "550fdb04dca7430f82a7b52b40eb3c9e",
       "version_major": 2,
       "version_minor": 0
      },
      "text/plain": [
       "Transcribing:   0%|          | 0/1 [00:00<?, ?it/s]"
      ]
     },
     "metadata": {},
     "output_type": "display_data"
    },
    {
     "name": "stdout",
     "output_type": "stream",
     "text": [
      "D:/daps/daps/ipad_office1/segments\\f2\\segment_22.wav\n",
      "f2\n"
     ]
    },
    {
     "data": {
      "application/vnd.jupyter.widget-view+json": {
       "model_id": "823e5c5ea8794633b3de2c0a99a02b37",
       "version_major": 2,
       "version_minor": 0
      },
      "text/plain": [
       "Transcribing:   0%|          | 0/1 [00:00<?, ?it/s]"
      ]
     },
     "metadata": {},
     "output_type": "display_data"
    },
    {
     "name": "stdout",
     "output_type": "stream",
     "text": [
      "D:/daps/daps/ipad_office1/segments\\f2\\segment_23.wav\n",
      "f2\n"
     ]
    },
    {
     "data": {
      "application/vnd.jupyter.widget-view+json": {
       "model_id": "8ca657634b854f25aa452618f41cd417",
       "version_major": 2,
       "version_minor": 0
      },
      "text/plain": [
       "Transcribing:   0%|          | 0/1 [00:00<?, ?it/s]"
      ]
     },
     "metadata": {},
     "output_type": "display_data"
    },
    {
     "name": "stdout",
     "output_type": "stream",
     "text": [
      "D:/daps/daps/ipad_office1/segments\\f2\\segment_24.wav\n",
      "f2\n"
     ]
    },
    {
     "data": {
      "application/vnd.jupyter.widget-view+json": {
       "model_id": "ad0cac5e2a9044ca9a41419deb30680d",
       "version_major": 2,
       "version_minor": 0
      },
      "text/plain": [
       "Transcribing:   0%|          | 0/1 [00:00<?, ?it/s]"
      ]
     },
     "metadata": {},
     "output_type": "display_data"
    },
    {
     "name": "stdout",
     "output_type": "stream",
     "text": [
      "D:/daps/daps/ipad_office1/segments\\f2\\segment_25.wav\n",
      "f2\n"
     ]
    },
    {
     "data": {
      "application/vnd.jupyter.widget-view+json": {
       "model_id": "afea3708d5684e0990affa93fe0e1088",
       "version_major": 2,
       "version_minor": 0
      },
      "text/plain": [
       "Transcribing:   0%|          | 0/1 [00:00<?, ?it/s]"
      ]
     },
     "metadata": {},
     "output_type": "display_data"
    },
    {
     "name": "stdout",
     "output_type": "stream",
     "text": [
      "D:/daps/daps/ipad_office1/segments\\f2\\segment_26.wav\n",
      "f2\n"
     ]
    },
    {
     "data": {
      "application/vnd.jupyter.widget-view+json": {
       "model_id": "b31a897329c647deb827e39015712f4a",
       "version_major": 2,
       "version_minor": 0
      },
      "text/plain": [
       "Transcribing:   0%|          | 0/1 [00:00<?, ?it/s]"
      ]
     },
     "metadata": {},
     "output_type": "display_data"
    },
    {
     "name": "stdout",
     "output_type": "stream",
     "text": [
      "D:/daps/daps/ipad_office1/segments\\f2\\segment_27.wav\n",
      "f2\n"
     ]
    },
    {
     "data": {
      "application/vnd.jupyter.widget-view+json": {
       "model_id": "3c55a8824abe47feb41d5b64735dfeb9",
       "version_major": 2,
       "version_minor": 0
      },
      "text/plain": [
       "Transcribing:   0%|          | 0/1 [00:00<?, ?it/s]"
      ]
     },
     "metadata": {},
     "output_type": "display_data"
    },
    {
     "name": "stdout",
     "output_type": "stream",
     "text": [
      "D:/daps/daps/ipad_office1/segments\\f2\\segment_28.wav\n",
      "f2\n"
     ]
    },
    {
     "data": {
      "application/vnd.jupyter.widget-view+json": {
       "model_id": "97c5d8d6aad14d7f847b8e55c7a3ce1f",
       "version_major": 2,
       "version_minor": 0
      },
      "text/plain": [
       "Transcribing:   0%|          | 0/1 [00:00<?, ?it/s]"
      ]
     },
     "metadata": {},
     "output_type": "display_data"
    },
    {
     "name": "stdout",
     "output_type": "stream",
     "text": [
      "D:/daps/daps/ipad_office1/segments\\f2\\segment_29.wav\n",
      "f2\n"
     ]
    },
    {
     "data": {
      "application/vnd.jupyter.widget-view+json": {
       "model_id": "360e1d92ea4e4d03b918178d7eee5c0c",
       "version_major": 2,
       "version_minor": 0
      },
      "text/plain": [
       "Transcribing:   0%|          | 0/1 [00:00<?, ?it/s]"
      ]
     },
     "metadata": {},
     "output_type": "display_data"
    },
    {
     "name": "stdout",
     "output_type": "stream",
     "text": [
      "D:/daps/daps/ipad_office1/segments\\f2\\segment_3.wav\n",
      "f2\n"
     ]
    },
    {
     "data": {
      "application/vnd.jupyter.widget-view+json": {
       "model_id": "a2701f4d721d4fcb8b0b6187f1995a1f",
       "version_major": 2,
       "version_minor": 0
      },
      "text/plain": [
       "Transcribing:   0%|          | 0/1 [00:00<?, ?it/s]"
      ]
     },
     "metadata": {},
     "output_type": "display_data"
    },
    {
     "name": "stdout",
     "output_type": "stream",
     "text": [
      "D:/daps/daps/ipad_office1/segments\\f2\\segment_30.wav\n",
      "f2\n"
     ]
    },
    {
     "data": {
      "application/vnd.jupyter.widget-view+json": {
       "model_id": "921420184e2d4385a02c0eaf17231b6d",
       "version_major": 2,
       "version_minor": 0
      },
      "text/plain": [
       "Transcribing:   0%|          | 0/1 [00:00<?, ?it/s]"
      ]
     },
     "metadata": {},
     "output_type": "display_data"
    },
    {
     "name": "stdout",
     "output_type": "stream",
     "text": [
      "D:/daps/daps/ipad_office1/segments\\f2\\segment_31.wav\n",
      "f2\n"
     ]
    },
    {
     "data": {
      "application/vnd.jupyter.widget-view+json": {
       "model_id": "5be4ea8ebcc14ac88701477d8f384c31",
       "version_major": 2,
       "version_minor": 0
      },
      "text/plain": [
       "Transcribing:   0%|          | 0/1 [00:00<?, ?it/s]"
      ]
     },
     "metadata": {},
     "output_type": "display_data"
    },
    {
     "name": "stdout",
     "output_type": "stream",
     "text": [
      "D:/daps/daps/ipad_office1/segments\\f2\\segment_4.wav\n",
      "f2\n"
     ]
    },
    {
     "data": {
      "application/vnd.jupyter.widget-view+json": {
       "model_id": "97e89123c2814532b6d4137303509733",
       "version_major": 2,
       "version_minor": 0
      },
      "text/plain": [
       "Transcribing:   0%|          | 0/1 [00:00<?, ?it/s]"
      ]
     },
     "metadata": {},
     "output_type": "display_data"
    },
    {
     "name": "stdout",
     "output_type": "stream",
     "text": [
      "D:/daps/daps/ipad_office1/segments\\f2\\segment_5.wav\n",
      "f2\n"
     ]
    },
    {
     "data": {
      "application/vnd.jupyter.widget-view+json": {
       "model_id": "9ba21b36e7704d20bd8639319b0e49f9",
       "version_major": 2,
       "version_minor": 0
      },
      "text/plain": [
       "Transcribing:   0%|          | 0/1 [00:00<?, ?it/s]"
      ]
     },
     "metadata": {},
     "output_type": "display_data"
    },
    {
     "name": "stdout",
     "output_type": "stream",
     "text": [
      "D:/daps/daps/ipad_office1/segments\\f2\\segment_6.wav\n",
      "f2\n"
     ]
    },
    {
     "data": {
      "application/vnd.jupyter.widget-view+json": {
       "model_id": "63c93bfb33fb41d4970ef55f86174b14",
       "version_major": 2,
       "version_minor": 0
      },
      "text/plain": [
       "Transcribing:   0%|          | 0/1 [00:00<?, ?it/s]"
      ]
     },
     "metadata": {},
     "output_type": "display_data"
    },
    {
     "name": "stdout",
     "output_type": "stream",
     "text": [
      "D:/daps/daps/ipad_office1/segments\\f2\\segment_7.wav\n",
      "f2\n"
     ]
    },
    {
     "data": {
      "application/vnd.jupyter.widget-view+json": {
       "model_id": "74a5cce825944440a95285ba5d5d3462",
       "version_major": 2,
       "version_minor": 0
      },
      "text/plain": [
       "Transcribing:   0%|          | 0/1 [00:00<?, ?it/s]"
      ]
     },
     "metadata": {},
     "output_type": "display_data"
    },
    {
     "name": "stdout",
     "output_type": "stream",
     "text": [
      "D:/daps/daps/ipad_office1/segments\\f2\\segment_8.wav\n",
      "f2\n"
     ]
    },
    {
     "data": {
      "application/vnd.jupyter.widget-view+json": {
       "model_id": "21ba0460a9234705ad011cf4b57986e7",
       "version_major": 2,
       "version_minor": 0
      },
      "text/plain": [
       "Transcribing:   0%|          | 0/1 [00:00<?, ?it/s]"
      ]
     },
     "metadata": {},
     "output_type": "display_data"
    },
    {
     "name": "stdout",
     "output_type": "stream",
     "text": [
      "D:/daps/daps/ipad_office1/segments\\f2\\segment_9.wav\n",
      "f2\n"
     ]
    },
    {
     "data": {
      "application/vnd.jupyter.widget-view+json": {
       "model_id": "3998245fd25b4c2892c99cd451976e7c",
       "version_major": 2,
       "version_minor": 0
      },
      "text/plain": [
       "Transcribing:   0%|          | 0/1 [00:00<?, ?it/s]"
      ]
     },
     "metadata": {},
     "output_type": "display_data"
    },
    {
     "name": "stdout",
     "output_type": "stream",
     "text": [
      "D:/daps/daps/ipad_office1/segments\\f3\\segment_0.wav\n",
      "f3\n"
     ]
    },
    {
     "data": {
      "application/vnd.jupyter.widget-view+json": {
       "model_id": "65c7d57a5cd14b87be909f3c2cb95e02",
       "version_major": 2,
       "version_minor": 0
      },
      "text/plain": [
       "Transcribing:   0%|          | 0/1 [00:00<?, ?it/s]"
      ]
     },
     "metadata": {},
     "output_type": "display_data"
    },
    {
     "name": "stdout",
     "output_type": "stream",
     "text": [
      "D:/daps/daps/ipad_office1/segments\\f3\\segment_1.wav\n",
      "f3\n"
     ]
    },
    {
     "data": {
      "application/vnd.jupyter.widget-view+json": {
       "model_id": "0e26066adc054ef1ad60b35889ee3b5f",
       "version_major": 2,
       "version_minor": 0
      },
      "text/plain": [
       "Transcribing:   0%|          | 0/1 [00:00<?, ?it/s]"
      ]
     },
     "metadata": {},
     "output_type": "display_data"
    },
    {
     "name": "stdout",
     "output_type": "stream",
     "text": [
      "D:/daps/daps/ipad_office1/segments\\f3\\segment_10.wav\n",
      "f3\n"
     ]
    },
    {
     "data": {
      "application/vnd.jupyter.widget-view+json": {
       "model_id": "92d9234de4e64a749ec30126e3311e2e",
       "version_major": 2,
       "version_minor": 0
      },
      "text/plain": [
       "Transcribing:   0%|          | 0/1 [00:00<?, ?it/s]"
      ]
     },
     "metadata": {},
     "output_type": "display_data"
    },
    {
     "name": "stdout",
     "output_type": "stream",
     "text": [
      "D:/daps/daps/ipad_office1/segments\\f3\\segment_11.wav\n",
      "f3\n"
     ]
    },
    {
     "data": {
      "application/vnd.jupyter.widget-view+json": {
       "model_id": "5f7b98b02d45463a907e9a04c190baae",
       "version_major": 2,
       "version_minor": 0
      },
      "text/plain": [
       "Transcribing:   0%|          | 0/1 [00:00<?, ?it/s]"
      ]
     },
     "metadata": {},
     "output_type": "display_data"
    },
    {
     "name": "stdout",
     "output_type": "stream",
     "text": [
      "D:/daps/daps/ipad_office1/segments\\f3\\segment_12.wav\n",
      "f3\n"
     ]
    },
    {
     "data": {
      "application/vnd.jupyter.widget-view+json": {
       "model_id": "c4cc50924d30405b92f64def075703c7",
       "version_major": 2,
       "version_minor": 0
      },
      "text/plain": [
       "Transcribing:   0%|          | 0/1 [00:00<?, ?it/s]"
      ]
     },
     "metadata": {},
     "output_type": "display_data"
    },
    {
     "name": "stdout",
     "output_type": "stream",
     "text": [
      "D:/daps/daps/ipad_office1/segments\\f3\\segment_13.wav\n",
      "f3\n"
     ]
    },
    {
     "data": {
      "application/vnd.jupyter.widget-view+json": {
       "model_id": "1ad84db2bfb643fb879b56bd8fab55b3",
       "version_major": 2,
       "version_minor": 0
      },
      "text/plain": [
       "Transcribing:   0%|          | 0/1 [00:00<?, ?it/s]"
      ]
     },
     "metadata": {},
     "output_type": "display_data"
    },
    {
     "name": "stdout",
     "output_type": "stream",
     "text": [
      "D:/daps/daps/ipad_office1/segments\\f3\\segment_14.wav\n",
      "f3\n"
     ]
    },
    {
     "data": {
      "application/vnd.jupyter.widget-view+json": {
       "model_id": "8944b1211f4c49efa43b3d33a9b9cbb8",
       "version_major": 2,
       "version_minor": 0
      },
      "text/plain": [
       "Transcribing:   0%|          | 0/1 [00:00<?, ?it/s]"
      ]
     },
     "metadata": {},
     "output_type": "display_data"
    },
    {
     "name": "stdout",
     "output_type": "stream",
     "text": [
      "D:/daps/daps/ipad_office1/segments\\f3\\segment_15.wav\n",
      "f3\n"
     ]
    },
    {
     "data": {
      "application/vnd.jupyter.widget-view+json": {
       "model_id": "ffa6f60ecc6d48499414f6b849eef751",
       "version_major": 2,
       "version_minor": 0
      },
      "text/plain": [
       "Transcribing:   0%|          | 0/1 [00:00<?, ?it/s]"
      ]
     },
     "metadata": {},
     "output_type": "display_data"
    },
    {
     "name": "stdout",
     "output_type": "stream",
     "text": [
      "D:/daps/daps/ipad_office1/segments\\f3\\segment_16.wav\n",
      "f3\n"
     ]
    },
    {
     "data": {
      "application/vnd.jupyter.widget-view+json": {
       "model_id": "fcd49f65c1b64d88857c62189079d994",
       "version_major": 2,
       "version_minor": 0
      },
      "text/plain": [
       "Transcribing:   0%|          | 0/1 [00:00<?, ?it/s]"
      ]
     },
     "metadata": {},
     "output_type": "display_data"
    },
    {
     "name": "stdout",
     "output_type": "stream",
     "text": [
      "D:/daps/daps/ipad_office1/segments\\f3\\segment_17.wav\n",
      "f3\n"
     ]
    },
    {
     "data": {
      "application/vnd.jupyter.widget-view+json": {
       "model_id": "cc0ae56734e047aea956a217347276f2",
       "version_major": 2,
       "version_minor": 0
      },
      "text/plain": [
       "Transcribing:   0%|          | 0/1 [00:00<?, ?it/s]"
      ]
     },
     "metadata": {},
     "output_type": "display_data"
    },
    {
     "name": "stdout",
     "output_type": "stream",
     "text": [
      "D:/daps/daps/ipad_office1/segments\\f3\\segment_18.wav\n",
      "f3\n"
     ]
    },
    {
     "data": {
      "application/vnd.jupyter.widget-view+json": {
       "model_id": "fc6e5852a8644424a8255450301482a1",
       "version_major": 2,
       "version_minor": 0
      },
      "text/plain": [
       "Transcribing:   0%|          | 0/1 [00:00<?, ?it/s]"
      ]
     },
     "metadata": {},
     "output_type": "display_data"
    },
    {
     "name": "stdout",
     "output_type": "stream",
     "text": [
      "D:/daps/daps/ipad_office1/segments\\f3\\segment_19.wav\n",
      "f3\n"
     ]
    },
    {
     "data": {
      "application/vnd.jupyter.widget-view+json": {
       "model_id": "78d68d0296b14beabaf4455aaee07e6c",
       "version_major": 2,
       "version_minor": 0
      },
      "text/plain": [
       "Transcribing:   0%|          | 0/1 [00:00<?, ?it/s]"
      ]
     },
     "metadata": {},
     "output_type": "display_data"
    },
    {
     "name": "stdout",
     "output_type": "stream",
     "text": [
      "D:/daps/daps/ipad_office1/segments\\f3\\segment_2.wav\n",
      "f3\n"
     ]
    },
    {
     "data": {
      "application/vnd.jupyter.widget-view+json": {
       "model_id": "cdd9d927577548908e32fc9c33aa9a90",
       "version_major": 2,
       "version_minor": 0
      },
      "text/plain": [
       "Transcribing:   0%|          | 0/1 [00:00<?, ?it/s]"
      ]
     },
     "metadata": {},
     "output_type": "display_data"
    },
    {
     "name": "stdout",
     "output_type": "stream",
     "text": [
      "D:/daps/daps/ipad_office1/segments\\f3\\segment_20.wav\n",
      "f3\n"
     ]
    },
    {
     "data": {
      "application/vnd.jupyter.widget-view+json": {
       "model_id": "09017868961f4e5eb3f05694aceade1b",
       "version_major": 2,
       "version_minor": 0
      },
      "text/plain": [
       "Transcribing:   0%|          | 0/1 [00:00<?, ?it/s]"
      ]
     },
     "metadata": {},
     "output_type": "display_data"
    },
    {
     "name": "stdout",
     "output_type": "stream",
     "text": [
      "D:/daps/daps/ipad_office1/segments\\f3\\segment_21.wav\n",
      "f3\n"
     ]
    },
    {
     "data": {
      "application/vnd.jupyter.widget-view+json": {
       "model_id": "f8dabff2f0364f2f88796b581ea1d0f6",
       "version_major": 2,
       "version_minor": 0
      },
      "text/plain": [
       "Transcribing:   0%|          | 0/1 [00:00<?, ?it/s]"
      ]
     },
     "metadata": {},
     "output_type": "display_data"
    },
    {
     "name": "stdout",
     "output_type": "stream",
     "text": [
      "D:/daps/daps/ipad_office1/segments\\f3\\segment_22.wav\n",
      "f3\n"
     ]
    },
    {
     "data": {
      "application/vnd.jupyter.widget-view+json": {
       "model_id": "541a8529fe0d4874998cd03174d75cae",
       "version_major": 2,
       "version_minor": 0
      },
      "text/plain": [
       "Transcribing:   0%|          | 0/1 [00:00<?, ?it/s]"
      ]
     },
     "metadata": {},
     "output_type": "display_data"
    },
    {
     "name": "stdout",
     "output_type": "stream",
     "text": [
      "D:/daps/daps/ipad_office1/segments\\f3\\segment_23.wav\n",
      "f3\n"
     ]
    },
    {
     "data": {
      "application/vnd.jupyter.widget-view+json": {
       "model_id": "6eb6352bfe854d2991d23a243467a442",
       "version_major": 2,
       "version_minor": 0
      },
      "text/plain": [
       "Transcribing:   0%|          | 0/1 [00:00<?, ?it/s]"
      ]
     },
     "metadata": {},
     "output_type": "display_data"
    },
    {
     "name": "stdout",
     "output_type": "stream",
     "text": [
      "D:/daps/daps/ipad_office1/segments\\f3\\segment_24.wav\n",
      "f3\n"
     ]
    },
    {
     "data": {
      "application/vnd.jupyter.widget-view+json": {
       "model_id": "afd20bec066a4e7ba3eb7f765cac1cdd",
       "version_major": 2,
       "version_minor": 0
      },
      "text/plain": [
       "Transcribing:   0%|          | 0/1 [00:00<?, ?it/s]"
      ]
     },
     "metadata": {},
     "output_type": "display_data"
    },
    {
     "name": "stdout",
     "output_type": "stream",
     "text": [
      "D:/daps/daps/ipad_office1/segments\\f3\\segment_25.wav\n",
      "f3\n"
     ]
    },
    {
     "data": {
      "application/vnd.jupyter.widget-view+json": {
       "model_id": "adf34fd23f1d4ea3985464f2e3ea36b3",
       "version_major": 2,
       "version_minor": 0
      },
      "text/plain": [
       "Transcribing:   0%|          | 0/1 [00:00<?, ?it/s]"
      ]
     },
     "metadata": {},
     "output_type": "display_data"
    },
    {
     "name": "stdout",
     "output_type": "stream",
     "text": [
      "D:/daps/daps/ipad_office1/segments\\f3\\segment_26.wav\n",
      "f3\n"
     ]
    },
    {
     "data": {
      "application/vnd.jupyter.widget-view+json": {
       "model_id": "e71bc3a7ea1c4489bd1bd3217078112c",
       "version_major": 2,
       "version_minor": 0
      },
      "text/plain": [
       "Transcribing:   0%|          | 0/1 [00:00<?, ?it/s]"
      ]
     },
     "metadata": {},
     "output_type": "display_data"
    },
    {
     "name": "stdout",
     "output_type": "stream",
     "text": [
      "D:/daps/daps/ipad_office1/segments\\f3\\segment_3.wav\n",
      "f3\n"
     ]
    },
    {
     "data": {
      "application/vnd.jupyter.widget-view+json": {
       "model_id": "47a9a14265694923aa6a7058b8b87a0d",
       "version_major": 2,
       "version_minor": 0
      },
      "text/plain": [
       "Transcribing:   0%|          | 0/1 [00:00<?, ?it/s]"
      ]
     },
     "metadata": {},
     "output_type": "display_data"
    },
    {
     "name": "stdout",
     "output_type": "stream",
     "text": [
      "D:/daps/daps/ipad_office1/segments\\f3\\segment_4.wav\n",
      "f3\n"
     ]
    },
    {
     "data": {
      "application/vnd.jupyter.widget-view+json": {
       "model_id": "1ee37ca1072c42e99bf468e371c86f6e",
       "version_major": 2,
       "version_minor": 0
      },
      "text/plain": [
       "Transcribing:   0%|          | 0/1 [00:00<?, ?it/s]"
      ]
     },
     "metadata": {},
     "output_type": "display_data"
    },
    {
     "name": "stdout",
     "output_type": "stream",
     "text": [
      "D:/daps/daps/ipad_office1/segments\\f3\\segment_5.wav\n",
      "f3\n"
     ]
    },
    {
     "data": {
      "application/vnd.jupyter.widget-view+json": {
       "model_id": "adf1aa4fd5c54abd90c7b18b026ac650",
       "version_major": 2,
       "version_minor": 0
      },
      "text/plain": [
       "Transcribing:   0%|          | 0/1 [00:00<?, ?it/s]"
      ]
     },
     "metadata": {},
     "output_type": "display_data"
    },
    {
     "name": "stdout",
     "output_type": "stream",
     "text": [
      "D:/daps/daps/ipad_office1/segments\\f3\\segment_6.wav\n",
      "f3\n"
     ]
    },
    {
     "data": {
      "application/vnd.jupyter.widget-view+json": {
       "model_id": "a292a066759043f5be4c14d463d33076",
       "version_major": 2,
       "version_minor": 0
      },
      "text/plain": [
       "Transcribing:   0%|          | 0/1 [00:00<?, ?it/s]"
      ]
     },
     "metadata": {},
     "output_type": "display_data"
    },
    {
     "name": "stdout",
     "output_type": "stream",
     "text": [
      "D:/daps/daps/ipad_office1/segments\\f3\\segment_7.wav\n",
      "f3\n"
     ]
    },
    {
     "data": {
      "application/vnd.jupyter.widget-view+json": {
       "model_id": "40236408e92b4aa9b1124c8f811d869d",
       "version_major": 2,
       "version_minor": 0
      },
      "text/plain": [
       "Transcribing:   0%|          | 0/1 [00:00<?, ?it/s]"
      ]
     },
     "metadata": {},
     "output_type": "display_data"
    },
    {
     "name": "stdout",
     "output_type": "stream",
     "text": [
      "D:/daps/daps/ipad_office1/segments\\f3\\segment_8.wav\n",
      "f3\n"
     ]
    },
    {
     "data": {
      "application/vnd.jupyter.widget-view+json": {
       "model_id": "91d0eee12ef444128b6c7d81a1521150",
       "version_major": 2,
       "version_minor": 0
      },
      "text/plain": [
       "Transcribing:   0%|          | 0/1 [00:00<?, ?it/s]"
      ]
     },
     "metadata": {},
     "output_type": "display_data"
    },
    {
     "name": "stdout",
     "output_type": "stream",
     "text": [
      "D:/daps/daps/ipad_office1/segments\\f3\\segment_9.wav\n",
      "f3\n"
     ]
    },
    {
     "data": {
      "application/vnd.jupyter.widget-view+json": {
       "model_id": "c46e27cc95874880993c9536807daa94",
       "version_major": 2,
       "version_minor": 0
      },
      "text/plain": [
       "Transcribing:   0%|          | 0/1 [00:00<?, ?it/s]"
      ]
     },
     "metadata": {},
     "output_type": "display_data"
    },
    {
     "name": "stdout",
     "output_type": "stream",
     "text": [
      "D:/daps/daps/ipad_office1/segments\\f4\\segment_0.wav\n",
      "f4\n"
     ]
    },
    {
     "data": {
      "application/vnd.jupyter.widget-view+json": {
       "model_id": "8ce360ee4d0946789d14ead5e7d53e23",
       "version_major": 2,
       "version_minor": 0
      },
      "text/plain": [
       "Transcribing:   0%|          | 0/1 [00:00<?, ?it/s]"
      ]
     },
     "metadata": {},
     "output_type": "display_data"
    },
    {
     "name": "stdout",
     "output_type": "stream",
     "text": [
      "D:/daps/daps/ipad_office1/segments\\f4\\segment_1.wav\n",
      "f4\n"
     ]
    },
    {
     "data": {
      "application/vnd.jupyter.widget-view+json": {
       "model_id": "79310063841543dba243bf65c6daa09a",
       "version_major": 2,
       "version_minor": 0
      },
      "text/plain": [
       "Transcribing:   0%|          | 0/1 [00:00<?, ?it/s]"
      ]
     },
     "metadata": {},
     "output_type": "display_data"
    },
    {
     "name": "stdout",
     "output_type": "stream",
     "text": [
      "D:/daps/daps/ipad_office1/segments\\f4\\segment_10.wav\n",
      "f4\n"
     ]
    },
    {
     "data": {
      "application/vnd.jupyter.widget-view+json": {
       "model_id": "ea5435187b8c47de8aad9a26b7aa5f99",
       "version_major": 2,
       "version_minor": 0
      },
      "text/plain": [
       "Transcribing:   0%|          | 0/1 [00:00<?, ?it/s]"
      ]
     },
     "metadata": {},
     "output_type": "display_data"
    },
    {
     "name": "stdout",
     "output_type": "stream",
     "text": [
      "D:/daps/daps/ipad_office1/segments\\f4\\segment_11.wav\n",
      "f4\n"
     ]
    },
    {
     "data": {
      "application/vnd.jupyter.widget-view+json": {
       "model_id": "2b97f06f9adb4fbd860263b39e33fa2a",
       "version_major": 2,
       "version_minor": 0
      },
      "text/plain": [
       "Transcribing:   0%|          | 0/1 [00:00<?, ?it/s]"
      ]
     },
     "metadata": {},
     "output_type": "display_data"
    },
    {
     "name": "stdout",
     "output_type": "stream",
     "text": [
      "D:/daps/daps/ipad_office1/segments\\f4\\segment_12.wav\n",
      "f4\n"
     ]
    },
    {
     "data": {
      "application/vnd.jupyter.widget-view+json": {
       "model_id": "390209b02a554acdae674ecb3460770a",
       "version_major": 2,
       "version_minor": 0
      },
      "text/plain": [
       "Transcribing:   0%|          | 0/1 [00:00<?, ?it/s]"
      ]
     },
     "metadata": {},
     "output_type": "display_data"
    },
    {
     "name": "stdout",
     "output_type": "stream",
     "text": [
      "D:/daps/daps/ipad_office1/segments\\f4\\segment_13.wav\n",
      "f4\n"
     ]
    },
    {
     "data": {
      "application/vnd.jupyter.widget-view+json": {
       "model_id": "c61f202da7094e3d9062a2bb51c66d8b",
       "version_major": 2,
       "version_minor": 0
      },
      "text/plain": [
       "Transcribing:   0%|          | 0/1 [00:00<?, ?it/s]"
      ]
     },
     "metadata": {},
     "output_type": "display_data"
    },
    {
     "name": "stdout",
     "output_type": "stream",
     "text": [
      "D:/daps/daps/ipad_office1/segments\\f4\\segment_14.wav\n",
      "f4\n"
     ]
    },
    {
     "data": {
      "application/vnd.jupyter.widget-view+json": {
       "model_id": "21f4a08d8d2d442c8595bd6c3eca1d8e",
       "version_major": 2,
       "version_minor": 0
      },
      "text/plain": [
       "Transcribing:   0%|          | 0/1 [00:00<?, ?it/s]"
      ]
     },
     "metadata": {},
     "output_type": "display_data"
    },
    {
     "name": "stdout",
     "output_type": "stream",
     "text": [
      "D:/daps/daps/ipad_office1/segments\\f4\\segment_15.wav\n",
      "f4\n"
     ]
    },
    {
     "data": {
      "application/vnd.jupyter.widget-view+json": {
       "model_id": "7a4174628bfd49e3afee5edd265ba19e",
       "version_major": 2,
       "version_minor": 0
      },
      "text/plain": [
       "Transcribing:   0%|          | 0/1 [00:00<?, ?it/s]"
      ]
     },
     "metadata": {},
     "output_type": "display_data"
    },
    {
     "name": "stdout",
     "output_type": "stream",
     "text": [
      "D:/daps/daps/ipad_office1/segments\\f4\\segment_16.wav\n",
      "f4\n"
     ]
    },
    {
     "data": {
      "application/vnd.jupyter.widget-view+json": {
       "model_id": "f7ade361d08b45a9895785d4747d73c9",
       "version_major": 2,
       "version_minor": 0
      },
      "text/plain": [
       "Transcribing:   0%|          | 0/1 [00:00<?, ?it/s]"
      ]
     },
     "metadata": {},
     "output_type": "display_data"
    },
    {
     "name": "stdout",
     "output_type": "stream",
     "text": [
      "D:/daps/daps/ipad_office1/segments\\f4\\segment_17.wav\n",
      "f4\n"
     ]
    },
    {
     "data": {
      "application/vnd.jupyter.widget-view+json": {
       "model_id": "d3659f704b464f43afda110ee67bd078",
       "version_major": 2,
       "version_minor": 0
      },
      "text/plain": [
       "Transcribing:   0%|          | 0/1 [00:00<?, ?it/s]"
      ]
     },
     "metadata": {},
     "output_type": "display_data"
    },
    {
     "name": "stdout",
     "output_type": "stream",
     "text": [
      "D:/daps/daps/ipad_office1/segments\\f4\\segment_18.wav\n",
      "f4\n"
     ]
    },
    {
     "data": {
      "application/vnd.jupyter.widget-view+json": {
       "model_id": "ee1855e0780849f79b7983844412f430",
       "version_major": 2,
       "version_minor": 0
      },
      "text/plain": [
       "Transcribing:   0%|          | 0/1 [00:00<?, ?it/s]"
      ]
     },
     "metadata": {},
     "output_type": "display_data"
    },
    {
     "name": "stdout",
     "output_type": "stream",
     "text": [
      "D:/daps/daps/ipad_office1/segments\\f4\\segment_19.wav\n",
      "f4\n"
     ]
    },
    {
     "data": {
      "application/vnd.jupyter.widget-view+json": {
       "model_id": "76c0bb935f3b4970bf6922348baf553b",
       "version_major": 2,
       "version_minor": 0
      },
      "text/plain": [
       "Transcribing:   0%|          | 0/1 [00:00<?, ?it/s]"
      ]
     },
     "metadata": {},
     "output_type": "display_data"
    },
    {
     "name": "stdout",
     "output_type": "stream",
     "text": [
      "D:/daps/daps/ipad_office1/segments\\f4\\segment_2.wav\n",
      "f4\n"
     ]
    },
    {
     "data": {
      "application/vnd.jupyter.widget-view+json": {
       "model_id": "e71ef56898a04e79b6d7746d0939a31f",
       "version_major": 2,
       "version_minor": 0
      },
      "text/plain": [
       "Transcribing:   0%|          | 0/1 [00:00<?, ?it/s]"
      ]
     },
     "metadata": {},
     "output_type": "display_data"
    },
    {
     "name": "stdout",
     "output_type": "stream",
     "text": [
      "D:/daps/daps/ipad_office1/segments\\f4\\segment_20.wav\n",
      "f4\n"
     ]
    },
    {
     "data": {
      "application/vnd.jupyter.widget-view+json": {
       "model_id": "3dd90774edfc434796ebd575c988908d",
       "version_major": 2,
       "version_minor": 0
      },
      "text/plain": [
       "Transcribing:   0%|          | 0/1 [00:00<?, ?it/s]"
      ]
     },
     "metadata": {},
     "output_type": "display_data"
    },
    {
     "name": "stdout",
     "output_type": "stream",
     "text": [
      "D:/daps/daps/ipad_office1/segments\\f4\\segment_21.wav\n",
      "f4\n"
     ]
    },
    {
     "data": {
      "application/vnd.jupyter.widget-view+json": {
       "model_id": "960d354c5bfd4f95ad3c0dec73af7f24",
       "version_major": 2,
       "version_minor": 0
      },
      "text/plain": [
       "Transcribing:   0%|          | 0/1 [00:00<?, ?it/s]"
      ]
     },
     "metadata": {},
     "output_type": "display_data"
    },
    {
     "name": "stdout",
     "output_type": "stream",
     "text": [
      "D:/daps/daps/ipad_office1/segments\\f4\\segment_22.wav\n",
      "f4\n"
     ]
    },
    {
     "data": {
      "application/vnd.jupyter.widget-view+json": {
       "model_id": "974b53360d394b55b2a012c627a79b9c",
       "version_major": 2,
       "version_minor": 0
      },
      "text/plain": [
       "Transcribing:   0%|          | 0/1 [00:00<?, ?it/s]"
      ]
     },
     "metadata": {},
     "output_type": "display_data"
    },
    {
     "name": "stdout",
     "output_type": "stream",
     "text": [
      "D:/daps/daps/ipad_office1/segments\\f4\\segment_3.wav\n",
      "f4\n"
     ]
    },
    {
     "data": {
      "application/vnd.jupyter.widget-view+json": {
       "model_id": "f0465ed0cc964e19a94df20e0435d140",
       "version_major": 2,
       "version_minor": 0
      },
      "text/plain": [
       "Transcribing:   0%|          | 0/1 [00:00<?, ?it/s]"
      ]
     },
     "metadata": {},
     "output_type": "display_data"
    },
    {
     "name": "stdout",
     "output_type": "stream",
     "text": [
      "D:/daps/daps/ipad_office1/segments\\f4\\segment_4.wav\n",
      "f4\n"
     ]
    },
    {
     "data": {
      "application/vnd.jupyter.widget-view+json": {
       "model_id": "38ee6e506bc4494193f96b9614ba895e",
       "version_major": 2,
       "version_minor": 0
      },
      "text/plain": [
       "Transcribing:   0%|          | 0/1 [00:00<?, ?it/s]"
      ]
     },
     "metadata": {},
     "output_type": "display_data"
    },
    {
     "name": "stdout",
     "output_type": "stream",
     "text": [
      "D:/daps/daps/ipad_office1/segments\\f4\\segment_5.wav\n",
      "f4\n"
     ]
    },
    {
     "data": {
      "application/vnd.jupyter.widget-view+json": {
       "model_id": "16aa45462c3840ce86726d64dbbe4289",
       "version_major": 2,
       "version_minor": 0
      },
      "text/plain": [
       "Transcribing:   0%|          | 0/1 [00:00<?, ?it/s]"
      ]
     },
     "metadata": {},
     "output_type": "display_data"
    },
    {
     "name": "stdout",
     "output_type": "stream",
     "text": [
      "D:/daps/daps/ipad_office1/segments\\f4\\segment_6.wav\n",
      "f4\n"
     ]
    },
    {
     "data": {
      "application/vnd.jupyter.widget-view+json": {
       "model_id": "106789fe16494304af333ab3c4144625",
       "version_major": 2,
       "version_minor": 0
      },
      "text/plain": [
       "Transcribing:   0%|          | 0/1 [00:00<?, ?it/s]"
      ]
     },
     "metadata": {},
     "output_type": "display_data"
    },
    {
     "name": "stdout",
     "output_type": "stream",
     "text": [
      "D:/daps/daps/ipad_office1/segments\\f4\\segment_7.wav\n",
      "f4\n"
     ]
    },
    {
     "data": {
      "application/vnd.jupyter.widget-view+json": {
       "model_id": "e85841ce5bc14a8795bf1891f173bdd6",
       "version_major": 2,
       "version_minor": 0
      },
      "text/plain": [
       "Transcribing:   0%|          | 0/1 [00:00<?, ?it/s]"
      ]
     },
     "metadata": {},
     "output_type": "display_data"
    },
    {
     "name": "stdout",
     "output_type": "stream",
     "text": [
      "D:/daps/daps/ipad_office1/segments\\f4\\segment_8.wav\n",
      "f4\n"
     ]
    },
    {
     "data": {
      "application/vnd.jupyter.widget-view+json": {
       "model_id": "ed289d62f57b43c0a07eacae5640716e",
       "version_major": 2,
       "version_minor": 0
      },
      "text/plain": [
       "Transcribing:   0%|          | 0/1 [00:00<?, ?it/s]"
      ]
     },
     "metadata": {},
     "output_type": "display_data"
    },
    {
     "name": "stdout",
     "output_type": "stream",
     "text": [
      "D:/daps/daps/ipad_office1/segments\\f4\\segment_9.wav\n",
      "f4\n"
     ]
    },
    {
     "data": {
      "application/vnd.jupyter.widget-view+json": {
       "model_id": "bb88ed02347a4865a1bc5f84b8033b24",
       "version_major": 2,
       "version_minor": 0
      },
      "text/plain": [
       "Transcribing:   0%|          | 0/1 [00:00<?, ?it/s]"
      ]
     },
     "metadata": {},
     "output_type": "display_data"
    },
    {
     "name": "stdout",
     "output_type": "stream",
     "text": [
      "D:/daps/daps/ipad_office1/segments\\f5\\segment_0.wav\n",
      "f5\n"
     ]
    },
    {
     "data": {
      "application/vnd.jupyter.widget-view+json": {
       "model_id": "2c2156de6e9f46b5b53d0727b507cdf7",
       "version_major": 2,
       "version_minor": 0
      },
      "text/plain": [
       "Transcribing:   0%|          | 0/1 [00:00<?, ?it/s]"
      ]
     },
     "metadata": {},
     "output_type": "display_data"
    },
    {
     "name": "stdout",
     "output_type": "stream",
     "text": [
      "D:/daps/daps/ipad_office1/segments\\f5\\segment_1.wav\n",
      "f5\n"
     ]
    },
    {
     "data": {
      "application/vnd.jupyter.widget-view+json": {
       "model_id": "3edd072527074c3d99a2d7f5745667c0",
       "version_major": 2,
       "version_minor": 0
      },
      "text/plain": [
       "Transcribing:   0%|          | 0/1 [00:00<?, ?it/s]"
      ]
     },
     "metadata": {},
     "output_type": "display_data"
    },
    {
     "name": "stdout",
     "output_type": "stream",
     "text": [
      "D:/daps/daps/ipad_office1/segments\\f5\\segment_10.wav\n",
      "f5\n"
     ]
    },
    {
     "data": {
      "application/vnd.jupyter.widget-view+json": {
       "model_id": "8c82052951624b9f98f7ced52c3b4918",
       "version_major": 2,
       "version_minor": 0
      },
      "text/plain": [
       "Transcribing:   0%|          | 0/1 [00:00<?, ?it/s]"
      ]
     },
     "metadata": {},
     "output_type": "display_data"
    },
    {
     "name": "stdout",
     "output_type": "stream",
     "text": [
      "D:/daps/daps/ipad_office1/segments\\f5\\segment_11.wav\n",
      "f5\n"
     ]
    },
    {
     "data": {
      "application/vnd.jupyter.widget-view+json": {
       "model_id": "67629a491fc5436cb7bd54b73f594a3f",
       "version_major": 2,
       "version_minor": 0
      },
      "text/plain": [
       "Transcribing:   0%|          | 0/1 [00:00<?, ?it/s]"
      ]
     },
     "metadata": {},
     "output_type": "display_data"
    },
    {
     "name": "stdout",
     "output_type": "stream",
     "text": [
      "D:/daps/daps/ipad_office1/segments\\f5\\segment_12.wav\n",
      "f5\n"
     ]
    },
    {
     "data": {
      "application/vnd.jupyter.widget-view+json": {
       "model_id": "bb73635e8c704ff58096a212e3eb7252",
       "version_major": 2,
       "version_minor": 0
      },
      "text/plain": [
       "Transcribing:   0%|          | 0/1 [00:00<?, ?it/s]"
      ]
     },
     "metadata": {},
     "output_type": "display_data"
    },
    {
     "name": "stdout",
     "output_type": "stream",
     "text": [
      "D:/daps/daps/ipad_office1/segments\\f5\\segment_13.wav\n",
      "f5\n"
     ]
    },
    {
     "data": {
      "application/vnd.jupyter.widget-view+json": {
       "model_id": "6ecc6f66cbaa45618d8b19f7507a8af0",
       "version_major": 2,
       "version_minor": 0
      },
      "text/plain": [
       "Transcribing:   0%|          | 0/1 [00:00<?, ?it/s]"
      ]
     },
     "metadata": {},
     "output_type": "display_data"
    },
    {
     "name": "stdout",
     "output_type": "stream",
     "text": [
      "D:/daps/daps/ipad_office1/segments\\f5\\segment_14.wav\n",
      "f5\n"
     ]
    },
    {
     "data": {
      "application/vnd.jupyter.widget-view+json": {
       "model_id": "2d30ec50be9942a7bb73161cb89797c0",
       "version_major": 2,
       "version_minor": 0
      },
      "text/plain": [
       "Transcribing:   0%|          | 0/1 [00:00<?, ?it/s]"
      ]
     },
     "metadata": {},
     "output_type": "display_data"
    },
    {
     "name": "stdout",
     "output_type": "stream",
     "text": [
      "D:/daps/daps/ipad_office1/segments\\f5\\segment_15.wav\n",
      "f5\n"
     ]
    },
    {
     "data": {
      "application/vnd.jupyter.widget-view+json": {
       "model_id": "642029e29a0b41c2b04366ca2e61893c",
       "version_major": 2,
       "version_minor": 0
      },
      "text/plain": [
       "Transcribing:   0%|          | 0/1 [00:00<?, ?it/s]"
      ]
     },
     "metadata": {},
     "output_type": "display_data"
    },
    {
     "name": "stdout",
     "output_type": "stream",
     "text": [
      "D:/daps/daps/ipad_office1/segments\\f5\\segment_16.wav\n",
      "f5\n"
     ]
    },
    {
     "data": {
      "application/vnd.jupyter.widget-view+json": {
       "model_id": "2fe37eb10c0a4381bc6b484f6054a53c",
       "version_major": 2,
       "version_minor": 0
      },
      "text/plain": [
       "Transcribing:   0%|          | 0/1 [00:00<?, ?it/s]"
      ]
     },
     "metadata": {},
     "output_type": "display_data"
    },
    {
     "name": "stdout",
     "output_type": "stream",
     "text": [
      "D:/daps/daps/ipad_office1/segments\\f5\\segment_17.wav\n",
      "f5\n"
     ]
    },
    {
     "data": {
      "application/vnd.jupyter.widget-view+json": {
       "model_id": "8d6225658c3a451fbd170979cf4d347d",
       "version_major": 2,
       "version_minor": 0
      },
      "text/plain": [
       "Transcribing:   0%|          | 0/1 [00:00<?, ?it/s]"
      ]
     },
     "metadata": {},
     "output_type": "display_data"
    },
    {
     "name": "stdout",
     "output_type": "stream",
     "text": [
      "D:/daps/daps/ipad_office1/segments\\f5\\segment_18.wav\n",
      "f5\n"
     ]
    },
    {
     "data": {
      "application/vnd.jupyter.widget-view+json": {
       "model_id": "ef434411206e400699f0be97dfdfdda6",
       "version_major": 2,
       "version_minor": 0
      },
      "text/plain": [
       "Transcribing:   0%|          | 0/1 [00:00<?, ?it/s]"
      ]
     },
     "metadata": {},
     "output_type": "display_data"
    },
    {
     "name": "stdout",
     "output_type": "stream",
     "text": [
      "D:/daps/daps/ipad_office1/segments\\f5\\segment_19.wav\n",
      "f5\n"
     ]
    },
    {
     "data": {
      "application/vnd.jupyter.widget-view+json": {
       "model_id": "0ebe20d0e3234464bc53b13f4aa24773",
       "version_major": 2,
       "version_minor": 0
      },
      "text/plain": [
       "Transcribing:   0%|          | 0/1 [00:00<?, ?it/s]"
      ]
     },
     "metadata": {},
     "output_type": "display_data"
    },
    {
     "name": "stdout",
     "output_type": "stream",
     "text": [
      "D:/daps/daps/ipad_office1/segments\\f5\\segment_2.wav\n",
      "f5\n"
     ]
    },
    {
     "data": {
      "application/vnd.jupyter.widget-view+json": {
       "model_id": "0565f230dcf24904962476f481aced16",
       "version_major": 2,
       "version_minor": 0
      },
      "text/plain": [
       "Transcribing:   0%|          | 0/1 [00:00<?, ?it/s]"
      ]
     },
     "metadata": {},
     "output_type": "display_data"
    },
    {
     "name": "stdout",
     "output_type": "stream",
     "text": [
      "D:/daps/daps/ipad_office1/segments\\f5\\segment_20.wav\n",
      "f5\n"
     ]
    },
    {
     "data": {
      "application/vnd.jupyter.widget-view+json": {
       "model_id": "cbbdfd258f5a4f9fb71d3af2243f454d",
       "version_major": 2,
       "version_minor": 0
      },
      "text/plain": [
       "Transcribing:   0%|          | 0/1 [00:00<?, ?it/s]"
      ]
     },
     "metadata": {},
     "output_type": "display_data"
    },
    {
     "name": "stdout",
     "output_type": "stream",
     "text": [
      "D:/daps/daps/ipad_office1/segments\\f5\\segment_21.wav\n",
      "f5\n"
     ]
    },
    {
     "data": {
      "application/vnd.jupyter.widget-view+json": {
       "model_id": "99cc0f72eaba4f6cb9ae388a0523c492",
       "version_major": 2,
       "version_minor": 0
      },
      "text/plain": [
       "Transcribing:   0%|          | 0/1 [00:00<?, ?it/s]"
      ]
     },
     "metadata": {},
     "output_type": "display_data"
    },
    {
     "name": "stdout",
     "output_type": "stream",
     "text": [
      "D:/daps/daps/ipad_office1/segments\\f5\\segment_22.wav\n",
      "f5\n"
     ]
    },
    {
     "data": {
      "application/vnd.jupyter.widget-view+json": {
       "model_id": "061fd8e69821430b91a5c0716747d6bd",
       "version_major": 2,
       "version_minor": 0
      },
      "text/plain": [
       "Transcribing:   0%|          | 0/1 [00:00<?, ?it/s]"
      ]
     },
     "metadata": {},
     "output_type": "display_data"
    },
    {
     "name": "stdout",
     "output_type": "stream",
     "text": [
      "D:/daps/daps/ipad_office1/segments\\f5\\segment_23.wav\n",
      "f5\n"
     ]
    },
    {
     "data": {
      "application/vnd.jupyter.widget-view+json": {
       "model_id": "d7bae7e0d98c45c098e8954c6691669a",
       "version_major": 2,
       "version_minor": 0
      },
      "text/plain": [
       "Transcribing:   0%|          | 0/1 [00:00<?, ?it/s]"
      ]
     },
     "metadata": {},
     "output_type": "display_data"
    },
    {
     "name": "stdout",
     "output_type": "stream",
     "text": [
      "D:/daps/daps/ipad_office1/segments\\f5\\segment_3.wav\n",
      "f5\n"
     ]
    },
    {
     "data": {
      "application/vnd.jupyter.widget-view+json": {
       "model_id": "8c682be97ce54f16a41fa85000d4df11",
       "version_major": 2,
       "version_minor": 0
      },
      "text/plain": [
       "Transcribing:   0%|          | 0/1 [00:00<?, ?it/s]"
      ]
     },
     "metadata": {},
     "output_type": "display_data"
    },
    {
     "name": "stdout",
     "output_type": "stream",
     "text": [
      "D:/daps/daps/ipad_office1/segments\\f5\\segment_4.wav\n",
      "f5\n"
     ]
    },
    {
     "data": {
      "application/vnd.jupyter.widget-view+json": {
       "model_id": "62e46f50dd3a4774944c3df2b109572e",
       "version_major": 2,
       "version_minor": 0
      },
      "text/plain": [
       "Transcribing:   0%|          | 0/1 [00:00<?, ?it/s]"
      ]
     },
     "metadata": {},
     "output_type": "display_data"
    },
    {
     "name": "stdout",
     "output_type": "stream",
     "text": [
      "D:/daps/daps/ipad_office1/segments\\f5\\segment_5.wav\n",
      "f5\n"
     ]
    },
    {
     "data": {
      "application/vnd.jupyter.widget-view+json": {
       "model_id": "114057a06d6743d994dcd764cf2dd568",
       "version_major": 2,
       "version_minor": 0
      },
      "text/plain": [
       "Transcribing:   0%|          | 0/1 [00:00<?, ?it/s]"
      ]
     },
     "metadata": {},
     "output_type": "display_data"
    },
    {
     "name": "stdout",
     "output_type": "stream",
     "text": [
      "D:/daps/daps/ipad_office1/segments\\f5\\segment_6.wav\n",
      "f5\n"
     ]
    },
    {
     "data": {
      "application/vnd.jupyter.widget-view+json": {
       "model_id": "e1afe8aabe4f46ff8ef6c91249084ed3",
       "version_major": 2,
       "version_minor": 0
      },
      "text/plain": [
       "Transcribing:   0%|          | 0/1 [00:00<?, ?it/s]"
      ]
     },
     "metadata": {},
     "output_type": "display_data"
    },
    {
     "name": "stdout",
     "output_type": "stream",
     "text": [
      "D:/daps/daps/ipad_office1/segments\\f5\\segment_7.wav\n",
      "f5\n"
     ]
    },
    {
     "data": {
      "application/vnd.jupyter.widget-view+json": {
       "model_id": "32b02aa52fa245d1a87212e35cb1746c",
       "version_major": 2,
       "version_minor": 0
      },
      "text/plain": [
       "Transcribing:   0%|          | 0/1 [00:00<?, ?it/s]"
      ]
     },
     "metadata": {},
     "output_type": "display_data"
    },
    {
     "name": "stdout",
     "output_type": "stream",
     "text": [
      "D:/daps/daps/ipad_office1/segments\\f5\\segment_8.wav\n",
      "f5\n"
     ]
    },
    {
     "data": {
      "application/vnd.jupyter.widget-view+json": {
       "model_id": "cdb356e6d8eb4f02832f0c11f6672032",
       "version_major": 2,
       "version_minor": 0
      },
      "text/plain": [
       "Transcribing:   0%|          | 0/1 [00:00<?, ?it/s]"
      ]
     },
     "metadata": {},
     "output_type": "display_data"
    },
    {
     "name": "stdout",
     "output_type": "stream",
     "text": [
      "D:/daps/daps/ipad_office1/segments\\f5\\segment_9.wav\n",
      "f5\n"
     ]
    },
    {
     "data": {
      "application/vnd.jupyter.widget-view+json": {
       "model_id": "13274aa39b594e5abf4687c0fc340fdf",
       "version_major": 2,
       "version_minor": 0
      },
      "text/plain": [
       "Transcribing:   0%|          | 0/1 [00:00<?, ?it/s]"
      ]
     },
     "metadata": {},
     "output_type": "display_data"
    },
    {
     "name": "stdout",
     "output_type": "stream",
     "text": [
      "D:/daps/daps/ipad_office1/segments\\f6\\segment_0.wav\n",
      "f6\n"
     ]
    },
    {
     "data": {
      "application/vnd.jupyter.widget-view+json": {
       "model_id": "2da5a0301d584fc896a8c6186f8af7bf",
       "version_major": 2,
       "version_minor": 0
      },
      "text/plain": [
       "Transcribing:   0%|          | 0/1 [00:00<?, ?it/s]"
      ]
     },
     "metadata": {},
     "output_type": "display_data"
    },
    {
     "name": "stdout",
     "output_type": "stream",
     "text": [
      "D:/daps/daps/ipad_office1/segments\\f6\\segment_1.wav\n",
      "f6\n"
     ]
    },
    {
     "data": {
      "application/vnd.jupyter.widget-view+json": {
       "model_id": "d14e2b3aa15a45cb8130ad47fc06917b",
       "version_major": 2,
       "version_minor": 0
      },
      "text/plain": [
       "Transcribing:   0%|          | 0/1 [00:00<?, ?it/s]"
      ]
     },
     "metadata": {},
     "output_type": "display_data"
    },
    {
     "name": "stdout",
     "output_type": "stream",
     "text": [
      "D:/daps/daps/ipad_office1/segments\\f6\\segment_10.wav\n",
      "f6\n"
     ]
    },
    {
     "data": {
      "application/vnd.jupyter.widget-view+json": {
       "model_id": "35ae9735480d4827a180cca605686a98",
       "version_major": 2,
       "version_minor": 0
      },
      "text/plain": [
       "Transcribing:   0%|          | 0/1 [00:00<?, ?it/s]"
      ]
     },
     "metadata": {},
     "output_type": "display_data"
    },
    {
     "name": "stdout",
     "output_type": "stream",
     "text": [
      "D:/daps/daps/ipad_office1/segments\\f6\\segment_11.wav\n",
      "f6\n"
     ]
    },
    {
     "data": {
      "application/vnd.jupyter.widget-view+json": {
       "model_id": "f0729edee8184c06a2cca32aee75449b",
       "version_major": 2,
       "version_minor": 0
      },
      "text/plain": [
       "Transcribing:   0%|          | 0/1 [00:00<?, ?it/s]"
      ]
     },
     "metadata": {},
     "output_type": "display_data"
    },
    {
     "name": "stdout",
     "output_type": "stream",
     "text": [
      "D:/daps/daps/ipad_office1/segments\\f6\\segment_12.wav\n",
      "f6\n"
     ]
    },
    {
     "data": {
      "application/vnd.jupyter.widget-view+json": {
       "model_id": "6e025ddc1da84fbc90af679da0927cf7",
       "version_major": 2,
       "version_minor": 0
      },
      "text/plain": [
       "Transcribing:   0%|          | 0/1 [00:00<?, ?it/s]"
      ]
     },
     "metadata": {},
     "output_type": "display_data"
    },
    {
     "name": "stdout",
     "output_type": "stream",
     "text": [
      "D:/daps/daps/ipad_office1/segments\\f6\\segment_13.wav\n",
      "f6\n"
     ]
    },
    {
     "data": {
      "application/vnd.jupyter.widget-view+json": {
       "model_id": "1a09f6722f96484080d40f6f523eb6e3",
       "version_major": 2,
       "version_minor": 0
      },
      "text/plain": [
       "Transcribing:   0%|          | 0/1 [00:00<?, ?it/s]"
      ]
     },
     "metadata": {},
     "output_type": "display_data"
    },
    {
     "name": "stdout",
     "output_type": "stream",
     "text": [
      "D:/daps/daps/ipad_office1/segments\\f6\\segment_14.wav\n",
      "f6\n"
     ]
    },
    {
     "data": {
      "application/vnd.jupyter.widget-view+json": {
       "model_id": "77a3481e69fc455a84a63510a00f8692",
       "version_major": 2,
       "version_minor": 0
      },
      "text/plain": [
       "Transcribing:   0%|          | 0/1 [00:00<?, ?it/s]"
      ]
     },
     "metadata": {},
     "output_type": "display_data"
    },
    {
     "name": "stdout",
     "output_type": "stream",
     "text": [
      "D:/daps/daps/ipad_office1/segments\\f6\\segment_15.wav\n",
      "f6\n"
     ]
    },
    {
     "data": {
      "application/vnd.jupyter.widget-view+json": {
       "model_id": "95a9083241324d438b77717107f1a53e",
       "version_major": 2,
       "version_minor": 0
      },
      "text/plain": [
       "Transcribing:   0%|          | 0/1 [00:00<?, ?it/s]"
      ]
     },
     "metadata": {},
     "output_type": "display_data"
    },
    {
     "name": "stdout",
     "output_type": "stream",
     "text": [
      "D:/daps/daps/ipad_office1/segments\\f6\\segment_16.wav\n",
      "f6\n"
     ]
    },
    {
     "data": {
      "application/vnd.jupyter.widget-view+json": {
       "model_id": "68affbc18c944740ae463d84c6ba1376",
       "version_major": 2,
       "version_minor": 0
      },
      "text/plain": [
       "Transcribing:   0%|          | 0/1 [00:00<?, ?it/s]"
      ]
     },
     "metadata": {},
     "output_type": "display_data"
    },
    {
     "name": "stdout",
     "output_type": "stream",
     "text": [
      "D:/daps/daps/ipad_office1/segments\\f6\\segment_17.wav\n",
      "f6\n"
     ]
    },
    {
     "data": {
      "application/vnd.jupyter.widget-view+json": {
       "model_id": "650d6b4afddb49e3994569f8b775a596",
       "version_major": 2,
       "version_minor": 0
      },
      "text/plain": [
       "Transcribing:   0%|          | 0/1 [00:00<?, ?it/s]"
      ]
     },
     "metadata": {},
     "output_type": "display_data"
    },
    {
     "name": "stdout",
     "output_type": "stream",
     "text": [
      "D:/daps/daps/ipad_office1/segments\\f6\\segment_18.wav\n",
      "f6\n"
     ]
    },
    {
     "data": {
      "application/vnd.jupyter.widget-view+json": {
       "model_id": "7f3991e56f974bf3812770536e56a23b",
       "version_major": 2,
       "version_minor": 0
      },
      "text/plain": [
       "Transcribing:   0%|          | 0/1 [00:00<?, ?it/s]"
      ]
     },
     "metadata": {},
     "output_type": "display_data"
    },
    {
     "name": "stdout",
     "output_type": "stream",
     "text": [
      "D:/daps/daps/ipad_office1/segments\\f6\\segment_19.wav\n",
      "f6\n"
     ]
    },
    {
     "data": {
      "application/vnd.jupyter.widget-view+json": {
       "model_id": "48d499b7928044a6bbe2c4d12b3bbe9b",
       "version_major": 2,
       "version_minor": 0
      },
      "text/plain": [
       "Transcribing:   0%|          | 0/1 [00:00<?, ?it/s]"
      ]
     },
     "metadata": {},
     "output_type": "display_data"
    },
    {
     "name": "stdout",
     "output_type": "stream",
     "text": [
      "D:/daps/daps/ipad_office1/segments\\f6\\segment_2.wav\n",
      "f6\n"
     ]
    },
    {
     "data": {
      "application/vnd.jupyter.widget-view+json": {
       "model_id": "0caed7dd90fa40c980492a03d4fbefc6",
       "version_major": 2,
       "version_minor": 0
      },
      "text/plain": [
       "Transcribing:   0%|          | 0/1 [00:00<?, ?it/s]"
      ]
     },
     "metadata": {},
     "output_type": "display_data"
    },
    {
     "name": "stdout",
     "output_type": "stream",
     "text": [
      "D:/daps/daps/ipad_office1/segments\\f6\\segment_20.wav\n",
      "f6\n"
     ]
    },
    {
     "data": {
      "application/vnd.jupyter.widget-view+json": {
       "model_id": "ade9e4ac651e4de28cf16a6e138ce1fe",
       "version_major": 2,
       "version_minor": 0
      },
      "text/plain": [
       "Transcribing:   0%|          | 0/1 [00:00<?, ?it/s]"
      ]
     },
     "metadata": {},
     "output_type": "display_data"
    },
    {
     "name": "stdout",
     "output_type": "stream",
     "text": [
      "D:/daps/daps/ipad_office1/segments\\f6\\segment_21.wav\n",
      "f6\n"
     ]
    },
    {
     "data": {
      "application/vnd.jupyter.widget-view+json": {
       "model_id": "c25b1fcae710465ba63be22f4de18be8",
       "version_major": 2,
       "version_minor": 0
      },
      "text/plain": [
       "Transcribing:   0%|          | 0/1 [00:00<?, ?it/s]"
      ]
     },
     "metadata": {},
     "output_type": "display_data"
    },
    {
     "name": "stdout",
     "output_type": "stream",
     "text": [
      "D:/daps/daps/ipad_office1/segments\\f6\\segment_22.wav\n",
      "f6\n"
     ]
    },
    {
     "data": {
      "application/vnd.jupyter.widget-view+json": {
       "model_id": "511d1e86e8414d0aadb99cf8b748df1c",
       "version_major": 2,
       "version_minor": 0
      },
      "text/plain": [
       "Transcribing:   0%|          | 0/1 [00:00<?, ?it/s]"
      ]
     },
     "metadata": {},
     "output_type": "display_data"
    },
    {
     "name": "stdout",
     "output_type": "stream",
     "text": [
      "D:/daps/daps/ipad_office1/segments\\f6\\segment_23.wav\n",
      "f6\n"
     ]
    },
    {
     "data": {
      "application/vnd.jupyter.widget-view+json": {
       "model_id": "4ce1bcd57d72463a93eecf39b5ac0399",
       "version_major": 2,
       "version_minor": 0
      },
      "text/plain": [
       "Transcribing:   0%|          | 0/1 [00:00<?, ?it/s]"
      ]
     },
     "metadata": {},
     "output_type": "display_data"
    },
    {
     "name": "stdout",
     "output_type": "stream",
     "text": [
      "D:/daps/daps/ipad_office1/segments\\f6\\segment_24.wav\n",
      "f6\n"
     ]
    },
    {
     "data": {
      "application/vnd.jupyter.widget-view+json": {
       "model_id": "922a41924feb489cb7944003cbdb0ef8",
       "version_major": 2,
       "version_minor": 0
      },
      "text/plain": [
       "Transcribing:   0%|          | 0/1 [00:00<?, ?it/s]"
      ]
     },
     "metadata": {},
     "output_type": "display_data"
    },
    {
     "name": "stdout",
     "output_type": "stream",
     "text": [
      "D:/daps/daps/ipad_office1/segments\\f6\\segment_25.wav\n",
      "f6\n"
     ]
    },
    {
     "data": {
      "application/vnd.jupyter.widget-view+json": {
       "model_id": "ac2f027bd0914721b9b09d97298f1e74",
       "version_major": 2,
       "version_minor": 0
      },
      "text/plain": [
       "Transcribing:   0%|          | 0/1 [00:00<?, ?it/s]"
      ]
     },
     "metadata": {},
     "output_type": "display_data"
    },
    {
     "name": "stdout",
     "output_type": "stream",
     "text": [
      "D:/daps/daps/ipad_office1/segments\\f6\\segment_26.wav\n",
      "f6\n"
     ]
    },
    {
     "data": {
      "application/vnd.jupyter.widget-view+json": {
       "model_id": "0c241b5dd8684755a95431664608f705",
       "version_major": 2,
       "version_minor": 0
      },
      "text/plain": [
       "Transcribing:   0%|          | 0/1 [00:00<?, ?it/s]"
      ]
     },
     "metadata": {},
     "output_type": "display_data"
    },
    {
     "name": "stdout",
     "output_type": "stream",
     "text": [
      "D:/daps/daps/ipad_office1/segments\\f6\\segment_27.wav\n",
      "f6\n"
     ]
    },
    {
     "data": {
      "application/vnd.jupyter.widget-view+json": {
       "model_id": "8a272efc84a74e3db9db06f59d0d919f",
       "version_major": 2,
       "version_minor": 0
      },
      "text/plain": [
       "Transcribing:   0%|          | 0/1 [00:00<?, ?it/s]"
      ]
     },
     "metadata": {},
     "output_type": "display_data"
    },
    {
     "name": "stdout",
     "output_type": "stream",
     "text": [
      "D:/daps/daps/ipad_office1/segments\\f6\\segment_28.wav\n",
      "f6\n"
     ]
    },
    {
     "data": {
      "application/vnd.jupyter.widget-view+json": {
       "model_id": "97e937098562469289fd085d4faecf7b",
       "version_major": 2,
       "version_minor": 0
      },
      "text/plain": [
       "Transcribing:   0%|          | 0/1 [00:00<?, ?it/s]"
      ]
     },
     "metadata": {},
     "output_type": "display_data"
    },
    {
     "name": "stdout",
     "output_type": "stream",
     "text": [
      "D:/daps/daps/ipad_office1/segments\\f6\\segment_29.wav\n",
      "f6\n"
     ]
    },
    {
     "data": {
      "application/vnd.jupyter.widget-view+json": {
       "model_id": "b144fd48af074c8b907009fa2b549f6e",
       "version_major": 2,
       "version_minor": 0
      },
      "text/plain": [
       "Transcribing:   0%|          | 0/1 [00:00<?, ?it/s]"
      ]
     },
     "metadata": {},
     "output_type": "display_data"
    },
    {
     "name": "stdout",
     "output_type": "stream",
     "text": [
      "D:/daps/daps/ipad_office1/segments\\f6\\segment_3.wav\n",
      "f6\n"
     ]
    },
    {
     "data": {
      "application/vnd.jupyter.widget-view+json": {
       "model_id": "6d28bd217fe24b878561965b4f79af44",
       "version_major": 2,
       "version_minor": 0
      },
      "text/plain": [
       "Transcribing:   0%|          | 0/1 [00:00<?, ?it/s]"
      ]
     },
     "metadata": {},
     "output_type": "display_data"
    },
    {
     "name": "stdout",
     "output_type": "stream",
     "text": [
      "D:/daps/daps/ipad_office1/segments\\f6\\segment_30.wav\n",
      "f6\n"
     ]
    },
    {
     "data": {
      "application/vnd.jupyter.widget-view+json": {
       "model_id": "25be8ee6f2a9494dba03e6f3774df738",
       "version_major": 2,
       "version_minor": 0
      },
      "text/plain": [
       "Transcribing:   0%|          | 0/1 [00:00<?, ?it/s]"
      ]
     },
     "metadata": {},
     "output_type": "display_data"
    },
    {
     "name": "stdout",
     "output_type": "stream",
     "text": [
      "D:/daps/daps/ipad_office1/segments\\f6\\segment_31.wav\n",
      "f6\n"
     ]
    },
    {
     "data": {
      "application/vnd.jupyter.widget-view+json": {
       "model_id": "a27cf0b778074eadabb21f674312c453",
       "version_major": 2,
       "version_minor": 0
      },
      "text/plain": [
       "Transcribing:   0%|          | 0/1 [00:00<?, ?it/s]"
      ]
     },
     "metadata": {},
     "output_type": "display_data"
    },
    {
     "name": "stdout",
     "output_type": "stream",
     "text": [
      "D:/daps/daps/ipad_office1/segments\\f6\\segment_32.wav\n",
      "f6\n"
     ]
    },
    {
     "data": {
      "application/vnd.jupyter.widget-view+json": {
       "model_id": "a96a66f0e1fa44e5b194380fe38df73c",
       "version_major": 2,
       "version_minor": 0
      },
      "text/plain": [
       "Transcribing:   0%|          | 0/1 [00:00<?, ?it/s]"
      ]
     },
     "metadata": {},
     "output_type": "display_data"
    },
    {
     "name": "stdout",
     "output_type": "stream",
     "text": [
      "D:/daps/daps/ipad_office1/segments\\f6\\segment_33.wav\n",
      "f6\n"
     ]
    },
    {
     "data": {
      "application/vnd.jupyter.widget-view+json": {
       "model_id": "ea084989582b40b089c27c613aa6f06c",
       "version_major": 2,
       "version_minor": 0
      },
      "text/plain": [
       "Transcribing:   0%|          | 0/1 [00:00<?, ?it/s]"
      ]
     },
     "metadata": {},
     "output_type": "display_data"
    },
    {
     "name": "stdout",
     "output_type": "stream",
     "text": [
      "D:/daps/daps/ipad_office1/segments\\f6\\segment_34.wav\n",
      "f6\n"
     ]
    },
    {
     "data": {
      "application/vnd.jupyter.widget-view+json": {
       "model_id": "0650e8f43a2b40029571fa6a00e1095f",
       "version_major": 2,
       "version_minor": 0
      },
      "text/plain": [
       "Transcribing:   0%|          | 0/1 [00:00<?, ?it/s]"
      ]
     },
     "metadata": {},
     "output_type": "display_data"
    },
    {
     "name": "stdout",
     "output_type": "stream",
     "text": [
      "D:/daps/daps/ipad_office1/segments\\f6\\segment_4.wav\n",
      "f6\n"
     ]
    },
    {
     "data": {
      "application/vnd.jupyter.widget-view+json": {
       "model_id": "a455aa6c961149dc834d45b9f037a35c",
       "version_major": 2,
       "version_minor": 0
      },
      "text/plain": [
       "Transcribing:   0%|          | 0/1 [00:00<?, ?it/s]"
      ]
     },
     "metadata": {},
     "output_type": "display_data"
    },
    {
     "name": "stdout",
     "output_type": "stream",
     "text": [
      "D:/daps/daps/ipad_office1/segments\\f6\\segment_5.wav\n",
      "f6\n"
     ]
    },
    {
     "data": {
      "application/vnd.jupyter.widget-view+json": {
       "model_id": "963f1064fc084c67bf109aee154c9843",
       "version_major": 2,
       "version_minor": 0
      },
      "text/plain": [
       "Transcribing:   0%|          | 0/1 [00:00<?, ?it/s]"
      ]
     },
     "metadata": {},
     "output_type": "display_data"
    },
    {
     "name": "stdout",
     "output_type": "stream",
     "text": [
      "D:/daps/daps/ipad_office1/segments\\f6\\segment_6.wav\n",
      "f6\n"
     ]
    },
    {
     "data": {
      "application/vnd.jupyter.widget-view+json": {
       "model_id": "3650f2db1c574a6fb4b40f9dd20cf623",
       "version_major": 2,
       "version_minor": 0
      },
      "text/plain": [
       "Transcribing:   0%|          | 0/1 [00:00<?, ?it/s]"
      ]
     },
     "metadata": {},
     "output_type": "display_data"
    },
    {
     "name": "stdout",
     "output_type": "stream",
     "text": [
      "D:/daps/daps/ipad_office1/segments\\f6\\segment_7.wav\n",
      "f6\n"
     ]
    },
    {
     "data": {
      "application/vnd.jupyter.widget-view+json": {
       "model_id": "75fe379b2f84487aa171954d5c2b3eeb",
       "version_major": 2,
       "version_minor": 0
      },
      "text/plain": [
       "Transcribing:   0%|          | 0/1 [00:00<?, ?it/s]"
      ]
     },
     "metadata": {},
     "output_type": "display_data"
    },
    {
     "name": "stdout",
     "output_type": "stream",
     "text": [
      "D:/daps/daps/ipad_office1/segments\\f6\\segment_8.wav\n",
      "f6\n"
     ]
    },
    {
     "data": {
      "application/vnd.jupyter.widget-view+json": {
       "model_id": "65e6254b8ea64820b650b80a7b18ee5b",
       "version_major": 2,
       "version_minor": 0
      },
      "text/plain": [
       "Transcribing:   0%|          | 0/1 [00:00<?, ?it/s]"
      ]
     },
     "metadata": {},
     "output_type": "display_data"
    },
    {
     "name": "stdout",
     "output_type": "stream",
     "text": [
      "D:/daps/daps/ipad_office1/segments\\f6\\segment_9.wav\n",
      "f6\n"
     ]
    },
    {
     "data": {
      "application/vnd.jupyter.widget-view+json": {
       "model_id": "34444c76837f4f95ac9ba8a7346fa0b6",
       "version_major": 2,
       "version_minor": 0
      },
      "text/plain": [
       "Transcribing:   0%|          | 0/1 [00:00<?, ?it/s]"
      ]
     },
     "metadata": {},
     "output_type": "display_data"
    },
    {
     "name": "stdout",
     "output_type": "stream",
     "text": [
      "D:/daps/daps/ipad_office1/segments\\f7\\segment_0.wav\n",
      "f7\n"
     ]
    },
    {
     "data": {
      "application/vnd.jupyter.widget-view+json": {
       "model_id": "a287db0f8aa749a0b71283c2df82e85e",
       "version_major": 2,
       "version_minor": 0
      },
      "text/plain": [
       "Transcribing:   0%|          | 0/1 [00:00<?, ?it/s]"
      ]
     },
     "metadata": {},
     "output_type": "display_data"
    },
    {
     "name": "stdout",
     "output_type": "stream",
     "text": [
      "D:/daps/daps/ipad_office1/segments\\f7\\segment_1.wav\n",
      "f7\n"
     ]
    },
    {
     "data": {
      "application/vnd.jupyter.widget-view+json": {
       "model_id": "a49a896575064d11b06fc0d6156cc388",
       "version_major": 2,
       "version_minor": 0
      },
      "text/plain": [
       "Transcribing:   0%|          | 0/1 [00:00<?, ?it/s]"
      ]
     },
     "metadata": {},
     "output_type": "display_data"
    },
    {
     "name": "stdout",
     "output_type": "stream",
     "text": [
      "D:/daps/daps/ipad_office1/segments\\f7\\segment_10.wav\n",
      "f7\n"
     ]
    },
    {
     "data": {
      "application/vnd.jupyter.widget-view+json": {
       "model_id": "8fab3cb5a5da4ce8bb0dd12d67fb35e7",
       "version_major": 2,
       "version_minor": 0
      },
      "text/plain": [
       "Transcribing:   0%|          | 0/1 [00:00<?, ?it/s]"
      ]
     },
     "metadata": {},
     "output_type": "display_data"
    },
    {
     "name": "stdout",
     "output_type": "stream",
     "text": [
      "D:/daps/daps/ipad_office1/segments\\f7\\segment_11.wav\n",
      "f7\n"
     ]
    },
    {
     "data": {
      "application/vnd.jupyter.widget-view+json": {
       "model_id": "38f71697ec644325b6df1ce272bee2af",
       "version_major": 2,
       "version_minor": 0
      },
      "text/plain": [
       "Transcribing:   0%|          | 0/1 [00:00<?, ?it/s]"
      ]
     },
     "metadata": {},
     "output_type": "display_data"
    },
    {
     "name": "stdout",
     "output_type": "stream",
     "text": [
      "D:/daps/daps/ipad_office1/segments\\f7\\segment_12.wav\n",
      "f7\n"
     ]
    },
    {
     "data": {
      "application/vnd.jupyter.widget-view+json": {
       "model_id": "daf8078c82f6461bba201566bdaf35f0",
       "version_major": 2,
       "version_minor": 0
      },
      "text/plain": [
       "Transcribing:   0%|          | 0/1 [00:00<?, ?it/s]"
      ]
     },
     "metadata": {},
     "output_type": "display_data"
    },
    {
     "name": "stdout",
     "output_type": "stream",
     "text": [
      "D:/daps/daps/ipad_office1/segments\\f7\\segment_13.wav\n",
      "f7\n"
     ]
    },
    {
     "data": {
      "application/vnd.jupyter.widget-view+json": {
       "model_id": "cef450b00f7f45329ac6ce3b976e6e93",
       "version_major": 2,
       "version_minor": 0
      },
      "text/plain": [
       "Transcribing:   0%|          | 0/1 [00:00<?, ?it/s]"
      ]
     },
     "metadata": {},
     "output_type": "display_data"
    },
    {
     "name": "stdout",
     "output_type": "stream",
     "text": [
      "D:/daps/daps/ipad_office1/segments\\f7\\segment_14.wav\n",
      "f7\n"
     ]
    },
    {
     "data": {
      "application/vnd.jupyter.widget-view+json": {
       "model_id": "36a0d9084ec04efc9390a28df57c8a6e",
       "version_major": 2,
       "version_minor": 0
      },
      "text/plain": [
       "Transcribing:   0%|          | 0/1 [00:00<?, ?it/s]"
      ]
     },
     "metadata": {},
     "output_type": "display_data"
    },
    {
     "name": "stdout",
     "output_type": "stream",
     "text": [
      "D:/daps/daps/ipad_office1/segments\\f7\\segment_15.wav\n",
      "f7\n"
     ]
    },
    {
     "data": {
      "application/vnd.jupyter.widget-view+json": {
       "model_id": "0bda10e64238470685b585515bcd395d",
       "version_major": 2,
       "version_minor": 0
      },
      "text/plain": [
       "Transcribing:   0%|          | 0/1 [00:00<?, ?it/s]"
      ]
     },
     "metadata": {},
     "output_type": "display_data"
    },
    {
     "name": "stdout",
     "output_type": "stream",
     "text": [
      "D:/daps/daps/ipad_office1/segments\\f7\\segment_16.wav\n",
      "f7\n"
     ]
    },
    {
     "data": {
      "application/vnd.jupyter.widget-view+json": {
       "model_id": "b3f36a718fee4f6280e668161c9a9019",
       "version_major": 2,
       "version_minor": 0
      },
      "text/plain": [
       "Transcribing:   0%|          | 0/1 [00:00<?, ?it/s]"
      ]
     },
     "metadata": {},
     "output_type": "display_data"
    },
    {
     "name": "stdout",
     "output_type": "stream",
     "text": [
      "D:/daps/daps/ipad_office1/segments\\f7\\segment_17.wav\n",
      "f7\n"
     ]
    },
    {
     "data": {
      "application/vnd.jupyter.widget-view+json": {
       "model_id": "263d7b4bd4e44319bdb5376d209e4ba5",
       "version_major": 2,
       "version_minor": 0
      },
      "text/plain": [
       "Transcribing:   0%|          | 0/1 [00:00<?, ?it/s]"
      ]
     },
     "metadata": {},
     "output_type": "display_data"
    },
    {
     "name": "stdout",
     "output_type": "stream",
     "text": [
      "D:/daps/daps/ipad_office1/segments\\f7\\segment_18.wav\n",
      "f7\n"
     ]
    },
    {
     "data": {
      "application/vnd.jupyter.widget-view+json": {
       "model_id": "7a6e9242f03e41278c778211ca006908",
       "version_major": 2,
       "version_minor": 0
      },
      "text/plain": [
       "Transcribing:   0%|          | 0/1 [00:00<?, ?it/s]"
      ]
     },
     "metadata": {},
     "output_type": "display_data"
    },
    {
     "name": "stdout",
     "output_type": "stream",
     "text": [
      "D:/daps/daps/ipad_office1/segments\\f7\\segment_19.wav\n",
      "f7\n"
     ]
    },
    {
     "data": {
      "application/vnd.jupyter.widget-view+json": {
       "model_id": "59bbe1fc21bc414c88df60bc986ef264",
       "version_major": 2,
       "version_minor": 0
      },
      "text/plain": [
       "Transcribing:   0%|          | 0/1 [00:00<?, ?it/s]"
      ]
     },
     "metadata": {},
     "output_type": "display_data"
    },
    {
     "name": "stdout",
     "output_type": "stream",
     "text": [
      "D:/daps/daps/ipad_office1/segments\\f7\\segment_2.wav\n",
      "f7\n"
     ]
    },
    {
     "data": {
      "application/vnd.jupyter.widget-view+json": {
       "model_id": "fce2ff8381ac46dfa580a36f673fa8cc",
       "version_major": 2,
       "version_minor": 0
      },
      "text/plain": [
       "Transcribing:   0%|          | 0/1 [00:00<?, ?it/s]"
      ]
     },
     "metadata": {},
     "output_type": "display_data"
    },
    {
     "name": "stdout",
     "output_type": "stream",
     "text": [
      "D:/daps/daps/ipad_office1/segments\\f7\\segment_20.wav\n",
      "f7\n"
     ]
    },
    {
     "data": {
      "application/vnd.jupyter.widget-view+json": {
       "model_id": "0abb84aabb664716b27d0a995f7a032a",
       "version_major": 2,
       "version_minor": 0
      },
      "text/plain": [
       "Transcribing:   0%|          | 0/1 [00:00<?, ?it/s]"
      ]
     },
     "metadata": {},
     "output_type": "display_data"
    },
    {
     "name": "stdout",
     "output_type": "stream",
     "text": [
      "D:/daps/daps/ipad_office1/segments\\f7\\segment_21.wav\n",
      "f7\n"
     ]
    },
    {
     "data": {
      "application/vnd.jupyter.widget-view+json": {
       "model_id": "14faf9d1fa3546b5a437bc037bea4528",
       "version_major": 2,
       "version_minor": 0
      },
      "text/plain": [
       "Transcribing:   0%|          | 0/1 [00:00<?, ?it/s]"
      ]
     },
     "metadata": {},
     "output_type": "display_data"
    },
    {
     "name": "stdout",
     "output_type": "stream",
     "text": [
      "D:/daps/daps/ipad_office1/segments\\f7\\segment_22.wav\n",
      "f7\n"
     ]
    },
    {
     "data": {
      "application/vnd.jupyter.widget-view+json": {
       "model_id": "d72d3d7740d8423290c94f72a0cd261c",
       "version_major": 2,
       "version_minor": 0
      },
      "text/plain": [
       "Transcribing:   0%|          | 0/1 [00:00<?, ?it/s]"
      ]
     },
     "metadata": {},
     "output_type": "display_data"
    },
    {
     "name": "stdout",
     "output_type": "stream",
     "text": [
      "D:/daps/daps/ipad_office1/segments\\f7\\segment_23.wav\n",
      "f7\n"
     ]
    },
    {
     "data": {
      "application/vnd.jupyter.widget-view+json": {
       "model_id": "eeef1c8623d74776b34ac1f9aa5a732c",
       "version_major": 2,
       "version_minor": 0
      },
      "text/plain": [
       "Transcribing:   0%|          | 0/1 [00:00<?, ?it/s]"
      ]
     },
     "metadata": {},
     "output_type": "display_data"
    },
    {
     "name": "stdout",
     "output_type": "stream",
     "text": [
      "D:/daps/daps/ipad_office1/segments\\f7\\segment_24.wav\n",
      "f7\n"
     ]
    },
    {
     "data": {
      "application/vnd.jupyter.widget-view+json": {
       "model_id": "53da91b9eb7f4983a53be8c111f25190",
       "version_major": 2,
       "version_minor": 0
      },
      "text/plain": [
       "Transcribing:   0%|          | 0/1 [00:00<?, ?it/s]"
      ]
     },
     "metadata": {},
     "output_type": "display_data"
    },
    {
     "name": "stdout",
     "output_type": "stream",
     "text": [
      "D:/daps/daps/ipad_office1/segments\\f7\\segment_25.wav\n",
      "f7\n"
     ]
    },
    {
     "data": {
      "application/vnd.jupyter.widget-view+json": {
       "model_id": "c7cd2f25c1124a29a71219bdf482b984",
       "version_major": 2,
       "version_minor": 0
      },
      "text/plain": [
       "Transcribing:   0%|          | 0/1 [00:00<?, ?it/s]"
      ]
     },
     "metadata": {},
     "output_type": "display_data"
    },
    {
     "name": "stdout",
     "output_type": "stream",
     "text": [
      "D:/daps/daps/ipad_office1/segments\\f7\\segment_26.wav\n",
      "f7\n"
     ]
    },
    {
     "data": {
      "application/vnd.jupyter.widget-view+json": {
       "model_id": "895c4163bd734a1887cda4054bb1788a",
       "version_major": 2,
       "version_minor": 0
      },
      "text/plain": [
       "Transcribing:   0%|          | 0/1 [00:00<?, ?it/s]"
      ]
     },
     "metadata": {},
     "output_type": "display_data"
    },
    {
     "name": "stdout",
     "output_type": "stream",
     "text": [
      "D:/daps/daps/ipad_office1/segments\\f7\\segment_27.wav\n",
      "f7\n"
     ]
    },
    {
     "data": {
      "application/vnd.jupyter.widget-view+json": {
       "model_id": "b7492d6375254b4997e4316034c0bdfd",
       "version_major": 2,
       "version_minor": 0
      },
      "text/plain": [
       "Transcribing:   0%|          | 0/1 [00:00<?, ?it/s]"
      ]
     },
     "metadata": {},
     "output_type": "display_data"
    },
    {
     "name": "stdout",
     "output_type": "stream",
     "text": [
      "D:/daps/daps/ipad_office1/segments\\f7\\segment_28.wav\n",
      "f7\n"
     ]
    },
    {
     "data": {
      "application/vnd.jupyter.widget-view+json": {
       "model_id": "938f63c939404354aec589336190ad0f",
       "version_major": 2,
       "version_minor": 0
      },
      "text/plain": [
       "Transcribing:   0%|          | 0/1 [00:00<?, ?it/s]"
      ]
     },
     "metadata": {},
     "output_type": "display_data"
    },
    {
     "name": "stdout",
     "output_type": "stream",
     "text": [
      "D:/daps/daps/ipad_office1/segments\\f7\\segment_29.wav\n",
      "f7\n"
     ]
    },
    {
     "data": {
      "application/vnd.jupyter.widget-view+json": {
       "model_id": "cc9cddc209604767b0f4ef647b96ed79",
       "version_major": 2,
       "version_minor": 0
      },
      "text/plain": [
       "Transcribing:   0%|          | 0/1 [00:00<?, ?it/s]"
      ]
     },
     "metadata": {},
     "output_type": "display_data"
    },
    {
     "name": "stdout",
     "output_type": "stream",
     "text": [
      "D:/daps/daps/ipad_office1/segments\\f7\\segment_3.wav\n",
      "f7\n"
     ]
    },
    {
     "data": {
      "application/vnd.jupyter.widget-view+json": {
       "model_id": "6124060c6d0c4a65a140830fbe69dccb",
       "version_major": 2,
       "version_minor": 0
      },
      "text/plain": [
       "Transcribing:   0%|          | 0/1 [00:00<?, ?it/s]"
      ]
     },
     "metadata": {},
     "output_type": "display_data"
    },
    {
     "name": "stdout",
     "output_type": "stream",
     "text": [
      "D:/daps/daps/ipad_office1/segments\\f7\\segment_30.wav\n",
      "f7\n"
     ]
    },
    {
     "data": {
      "application/vnd.jupyter.widget-view+json": {
       "model_id": "c46b2c91c7c64a5595086f12f63e9cb5",
       "version_major": 2,
       "version_minor": 0
      },
      "text/plain": [
       "Transcribing:   0%|          | 0/1 [00:00<?, ?it/s]"
      ]
     },
     "metadata": {},
     "output_type": "display_data"
    },
    {
     "name": "stdout",
     "output_type": "stream",
     "text": [
      "D:/daps/daps/ipad_office1/segments\\f7\\segment_31.wav\n",
      "f7\n"
     ]
    },
    {
     "data": {
      "application/vnd.jupyter.widget-view+json": {
       "model_id": "247c212e454c4f2fbdf26a1b80889207",
       "version_major": 2,
       "version_minor": 0
      },
      "text/plain": [
       "Transcribing:   0%|          | 0/1 [00:00<?, ?it/s]"
      ]
     },
     "metadata": {},
     "output_type": "display_data"
    },
    {
     "name": "stdout",
     "output_type": "stream",
     "text": [
      "D:/daps/daps/ipad_office1/segments\\f7\\segment_32.wav\n",
      "f7\n"
     ]
    },
    {
     "data": {
      "application/vnd.jupyter.widget-view+json": {
       "model_id": "74a9a55167f145db8404144f290a02fd",
       "version_major": 2,
       "version_minor": 0
      },
      "text/plain": [
       "Transcribing:   0%|          | 0/1 [00:00<?, ?it/s]"
      ]
     },
     "metadata": {},
     "output_type": "display_data"
    },
    {
     "name": "stdout",
     "output_type": "stream",
     "text": [
      "D:/daps/daps/ipad_office1/segments\\f7\\segment_33.wav\n",
      "f7\n"
     ]
    },
    {
     "data": {
      "application/vnd.jupyter.widget-view+json": {
       "model_id": "9384401e58b34caab723afbbb2b8a992",
       "version_major": 2,
       "version_minor": 0
      },
      "text/plain": [
       "Transcribing:   0%|          | 0/1 [00:00<?, ?it/s]"
      ]
     },
     "metadata": {},
     "output_type": "display_data"
    },
    {
     "name": "stdout",
     "output_type": "stream",
     "text": [
      "D:/daps/daps/ipad_office1/segments\\f7\\segment_34.wav\n",
      "f7\n"
     ]
    },
    {
     "data": {
      "application/vnd.jupyter.widget-view+json": {
       "model_id": "ef4634a1539f4e1e90d9577585756507",
       "version_major": 2,
       "version_minor": 0
      },
      "text/plain": [
       "Transcribing:   0%|          | 0/1 [00:00<?, ?it/s]"
      ]
     },
     "metadata": {},
     "output_type": "display_data"
    },
    {
     "name": "stdout",
     "output_type": "stream",
     "text": [
      "D:/daps/daps/ipad_office1/segments\\f7\\segment_35.wav\n",
      "f7\n"
     ]
    },
    {
     "data": {
      "application/vnd.jupyter.widget-view+json": {
       "model_id": "1f23618ac97c4d09a0c92a42a10f7804",
       "version_major": 2,
       "version_minor": 0
      },
      "text/plain": [
       "Transcribing:   0%|          | 0/1 [00:00<?, ?it/s]"
      ]
     },
     "metadata": {},
     "output_type": "display_data"
    },
    {
     "name": "stdout",
     "output_type": "stream",
     "text": [
      "D:/daps/daps/ipad_office1/segments\\f7\\segment_36.wav\n",
      "f7\n"
     ]
    },
    {
     "data": {
      "application/vnd.jupyter.widget-view+json": {
       "model_id": "b6244272ed4043bb9ae1a212a7bffc50",
       "version_major": 2,
       "version_minor": 0
      },
      "text/plain": [
       "Transcribing:   0%|          | 0/1 [00:00<?, ?it/s]"
      ]
     },
     "metadata": {},
     "output_type": "display_data"
    },
    {
     "name": "stdout",
     "output_type": "stream",
     "text": [
      "D:/daps/daps/ipad_office1/segments\\f7\\segment_37.wav\n",
      "f7\n"
     ]
    },
    {
     "data": {
      "application/vnd.jupyter.widget-view+json": {
       "model_id": "8e70c4ba1f804c4c96c6abbf5aa2142a",
       "version_major": 2,
       "version_minor": 0
      },
      "text/plain": [
       "Transcribing:   0%|          | 0/1 [00:00<?, ?it/s]"
      ]
     },
     "metadata": {},
     "output_type": "display_data"
    },
    {
     "name": "stdout",
     "output_type": "stream",
     "text": [
      "D:/daps/daps/ipad_office1/segments\\f7\\segment_38.wav\n",
      "f7\n"
     ]
    },
    {
     "data": {
      "application/vnd.jupyter.widget-view+json": {
       "model_id": "18941eab808648ddb10aa93c71296cd8",
       "version_major": 2,
       "version_minor": 0
      },
      "text/plain": [
       "Transcribing:   0%|          | 0/1 [00:00<?, ?it/s]"
      ]
     },
     "metadata": {},
     "output_type": "display_data"
    },
    {
     "name": "stdout",
     "output_type": "stream",
     "text": [
      "D:/daps/daps/ipad_office1/segments\\f7\\segment_39.wav\n",
      "f7\n"
     ]
    },
    {
     "data": {
      "application/vnd.jupyter.widget-view+json": {
       "model_id": "150f8e18b6df4ddaad0c7fbecae392b2",
       "version_major": 2,
       "version_minor": 0
      },
      "text/plain": [
       "Transcribing:   0%|          | 0/1 [00:00<?, ?it/s]"
      ]
     },
     "metadata": {},
     "output_type": "display_data"
    },
    {
     "name": "stdout",
     "output_type": "stream",
     "text": [
      "D:/daps/daps/ipad_office1/segments\\f7\\segment_4.wav\n",
      "f7\n"
     ]
    },
    {
     "data": {
      "application/vnd.jupyter.widget-view+json": {
       "model_id": "81b07682864648b7990034d00f07ab2a",
       "version_major": 2,
       "version_minor": 0
      },
      "text/plain": [
       "Transcribing:   0%|          | 0/1 [00:00<?, ?it/s]"
      ]
     },
     "metadata": {},
     "output_type": "display_data"
    },
    {
     "name": "stdout",
     "output_type": "stream",
     "text": [
      "D:/daps/daps/ipad_office1/segments\\f7\\segment_5.wav\n",
      "f7\n"
     ]
    },
    {
     "data": {
      "application/vnd.jupyter.widget-view+json": {
       "model_id": "947a8b09e26c4de39e300edd4355809d",
       "version_major": 2,
       "version_minor": 0
      },
      "text/plain": [
       "Transcribing:   0%|          | 0/1 [00:00<?, ?it/s]"
      ]
     },
     "metadata": {},
     "output_type": "display_data"
    },
    {
     "name": "stdout",
     "output_type": "stream",
     "text": [
      "D:/daps/daps/ipad_office1/segments\\f7\\segment_6.wav\n",
      "f7\n"
     ]
    },
    {
     "data": {
      "application/vnd.jupyter.widget-view+json": {
       "model_id": "35f982fe14404c3aa122f1c274412b6c",
       "version_major": 2,
       "version_minor": 0
      },
      "text/plain": [
       "Transcribing:   0%|          | 0/1 [00:00<?, ?it/s]"
      ]
     },
     "metadata": {},
     "output_type": "display_data"
    },
    {
     "name": "stdout",
     "output_type": "stream",
     "text": [
      "D:/daps/daps/ipad_office1/segments\\f7\\segment_7.wav\n",
      "f7\n"
     ]
    },
    {
     "data": {
      "application/vnd.jupyter.widget-view+json": {
       "model_id": "0d9cc1d0a44e4856bfb1b618491c0677",
       "version_major": 2,
       "version_minor": 0
      },
      "text/plain": [
       "Transcribing:   0%|          | 0/1 [00:00<?, ?it/s]"
      ]
     },
     "metadata": {},
     "output_type": "display_data"
    },
    {
     "name": "stdout",
     "output_type": "stream",
     "text": [
      "D:/daps/daps/ipad_office1/segments\\f7\\segment_8.wav\n",
      "f7\n"
     ]
    },
    {
     "data": {
      "application/vnd.jupyter.widget-view+json": {
       "model_id": "ba66f449fd2b41baabd2572dd8cb5876",
       "version_major": 2,
       "version_minor": 0
      },
      "text/plain": [
       "Transcribing:   0%|          | 0/1 [00:00<?, ?it/s]"
      ]
     },
     "metadata": {},
     "output_type": "display_data"
    },
    {
     "name": "stdout",
     "output_type": "stream",
     "text": [
      "D:/daps/daps/ipad_office1/segments\\f7\\segment_9.wav\n",
      "f7\n"
     ]
    },
    {
     "data": {
      "application/vnd.jupyter.widget-view+json": {
       "model_id": "33de80fd067f4ee08db3a395a4931b0f",
       "version_major": 2,
       "version_minor": 0
      },
      "text/plain": [
       "Transcribing:   0%|          | 0/1 [00:00<?, ?it/s]"
      ]
     },
     "metadata": {},
     "output_type": "display_data"
    },
    {
     "name": "stdout",
     "output_type": "stream",
     "text": [
      "D:/daps/daps/ipad_office1/segments\\f8\\segment_0.wav\n",
      "f8\n"
     ]
    },
    {
     "data": {
      "application/vnd.jupyter.widget-view+json": {
       "model_id": "08bd21807f444879b4e121440bbae2ff",
       "version_major": 2,
       "version_minor": 0
      },
      "text/plain": [
       "Transcribing:   0%|          | 0/1 [00:00<?, ?it/s]"
      ]
     },
     "metadata": {},
     "output_type": "display_data"
    },
    {
     "name": "stdout",
     "output_type": "stream",
     "text": [
      "D:/daps/daps/ipad_office1/segments\\f8\\segment_1.wav\n",
      "f8\n"
     ]
    },
    {
     "data": {
      "application/vnd.jupyter.widget-view+json": {
       "model_id": "3c8e5123bbe44f85b53e83bc7b625ff1",
       "version_major": 2,
       "version_minor": 0
      },
      "text/plain": [
       "Transcribing:   0%|          | 0/1 [00:00<?, ?it/s]"
      ]
     },
     "metadata": {},
     "output_type": "display_data"
    },
    {
     "name": "stdout",
     "output_type": "stream",
     "text": [
      "D:/daps/daps/ipad_office1/segments\\f8\\segment_10.wav\n",
      "f8\n"
     ]
    },
    {
     "data": {
      "application/vnd.jupyter.widget-view+json": {
       "model_id": "1c362f3f1a06449d8f87e9edd47a3402",
       "version_major": 2,
       "version_minor": 0
      },
      "text/plain": [
       "Transcribing:   0%|          | 0/1 [00:00<?, ?it/s]"
      ]
     },
     "metadata": {},
     "output_type": "display_data"
    },
    {
     "name": "stdout",
     "output_type": "stream",
     "text": [
      "D:/daps/daps/ipad_office1/segments\\f8\\segment_11.wav\n",
      "f8\n"
     ]
    },
    {
     "data": {
      "application/vnd.jupyter.widget-view+json": {
       "model_id": "607d20d94b47435e828841f71077d8e4",
       "version_major": 2,
       "version_minor": 0
      },
      "text/plain": [
       "Transcribing:   0%|          | 0/1 [00:00<?, ?it/s]"
      ]
     },
     "metadata": {},
     "output_type": "display_data"
    },
    {
     "name": "stdout",
     "output_type": "stream",
     "text": [
      "D:/daps/daps/ipad_office1/segments\\f8\\segment_12.wav\n",
      "f8\n"
     ]
    },
    {
     "data": {
      "application/vnd.jupyter.widget-view+json": {
       "model_id": "37c34f654160454981ac942714f48119",
       "version_major": 2,
       "version_minor": 0
      },
      "text/plain": [
       "Transcribing:   0%|          | 0/1 [00:00<?, ?it/s]"
      ]
     },
     "metadata": {},
     "output_type": "display_data"
    },
    {
     "name": "stdout",
     "output_type": "stream",
     "text": [
      "D:/daps/daps/ipad_office1/segments\\f8\\segment_13.wav\n",
      "f8\n"
     ]
    },
    {
     "data": {
      "application/vnd.jupyter.widget-view+json": {
       "model_id": "7525149cf9744dc7b0e554fcb6811d25",
       "version_major": 2,
       "version_minor": 0
      },
      "text/plain": [
       "Transcribing:   0%|          | 0/1 [00:00<?, ?it/s]"
      ]
     },
     "metadata": {},
     "output_type": "display_data"
    },
    {
     "name": "stdout",
     "output_type": "stream",
     "text": [
      "D:/daps/daps/ipad_office1/segments\\f8\\segment_14.wav\n",
      "f8\n"
     ]
    },
    {
     "data": {
      "application/vnd.jupyter.widget-view+json": {
       "model_id": "ef3cdc7ad043464cb911cc1133b3428b",
       "version_major": 2,
       "version_minor": 0
      },
      "text/plain": [
       "Transcribing:   0%|          | 0/1 [00:00<?, ?it/s]"
      ]
     },
     "metadata": {},
     "output_type": "display_data"
    },
    {
     "name": "stdout",
     "output_type": "stream",
     "text": [
      "D:/daps/daps/ipad_office1/segments\\f8\\segment_15.wav\n",
      "f8\n"
     ]
    },
    {
     "data": {
      "application/vnd.jupyter.widget-view+json": {
       "model_id": "4999bcbb667e444bbf36ed5d8b749f69",
       "version_major": 2,
       "version_minor": 0
      },
      "text/plain": [
       "Transcribing:   0%|          | 0/1 [00:00<?, ?it/s]"
      ]
     },
     "metadata": {},
     "output_type": "display_data"
    },
    {
     "name": "stdout",
     "output_type": "stream",
     "text": [
      "D:/daps/daps/ipad_office1/segments\\f8\\segment_16.wav\n",
      "f8\n"
     ]
    },
    {
     "data": {
      "application/vnd.jupyter.widget-view+json": {
       "model_id": "5ba6fcbff2f84fa6be3ff077cb9dd816",
       "version_major": 2,
       "version_minor": 0
      },
      "text/plain": [
       "Transcribing:   0%|          | 0/1 [00:00<?, ?it/s]"
      ]
     },
     "metadata": {},
     "output_type": "display_data"
    },
    {
     "name": "stdout",
     "output_type": "stream",
     "text": [
      "D:/daps/daps/ipad_office1/segments\\f8\\segment_17.wav\n",
      "f8\n"
     ]
    },
    {
     "data": {
      "application/vnd.jupyter.widget-view+json": {
       "model_id": "0dc0183a66534b03b3f904071299cd03",
       "version_major": 2,
       "version_minor": 0
      },
      "text/plain": [
       "Transcribing:   0%|          | 0/1 [00:00<?, ?it/s]"
      ]
     },
     "metadata": {},
     "output_type": "display_data"
    },
    {
     "name": "stdout",
     "output_type": "stream",
     "text": [
      "D:/daps/daps/ipad_office1/segments\\f8\\segment_18.wav\n",
      "f8\n"
     ]
    },
    {
     "data": {
      "application/vnd.jupyter.widget-view+json": {
       "model_id": "8e611ed0f9574797af1cde2da7ed2649",
       "version_major": 2,
       "version_minor": 0
      },
      "text/plain": [
       "Transcribing:   0%|          | 0/1 [00:00<?, ?it/s]"
      ]
     },
     "metadata": {},
     "output_type": "display_data"
    },
    {
     "name": "stdout",
     "output_type": "stream",
     "text": [
      "D:/daps/daps/ipad_office1/segments\\f8\\segment_19.wav\n",
      "f8\n"
     ]
    },
    {
     "data": {
      "application/vnd.jupyter.widget-view+json": {
       "model_id": "e303429c68754a1d80028b6fcd5d80af",
       "version_major": 2,
       "version_minor": 0
      },
      "text/plain": [
       "Transcribing:   0%|          | 0/1 [00:00<?, ?it/s]"
      ]
     },
     "metadata": {},
     "output_type": "display_data"
    },
    {
     "name": "stdout",
     "output_type": "stream",
     "text": [
      "D:/daps/daps/ipad_office1/segments\\f8\\segment_2.wav\n",
      "f8\n"
     ]
    },
    {
     "data": {
      "application/vnd.jupyter.widget-view+json": {
       "model_id": "ea5b6f63cf8248f5833d065c3a1d5e66",
       "version_major": 2,
       "version_minor": 0
      },
      "text/plain": [
       "Transcribing:   0%|          | 0/1 [00:00<?, ?it/s]"
      ]
     },
     "metadata": {},
     "output_type": "display_data"
    },
    {
     "name": "stdout",
     "output_type": "stream",
     "text": [
      "D:/daps/daps/ipad_office1/segments\\f8\\segment_20.wav\n",
      "f8\n"
     ]
    },
    {
     "data": {
      "application/vnd.jupyter.widget-view+json": {
       "model_id": "ecd9a38f69a94768a75eb3cc453c8bb5",
       "version_major": 2,
       "version_minor": 0
      },
      "text/plain": [
       "Transcribing:   0%|          | 0/1 [00:00<?, ?it/s]"
      ]
     },
     "metadata": {},
     "output_type": "display_data"
    },
    {
     "name": "stdout",
     "output_type": "stream",
     "text": [
      "D:/daps/daps/ipad_office1/segments\\f8\\segment_21.wav\n",
      "f8\n"
     ]
    },
    {
     "data": {
      "application/vnd.jupyter.widget-view+json": {
       "model_id": "a6a8d407811840a1932da51acfa80afe",
       "version_major": 2,
       "version_minor": 0
      },
      "text/plain": [
       "Transcribing:   0%|          | 0/1 [00:00<?, ?it/s]"
      ]
     },
     "metadata": {},
     "output_type": "display_data"
    },
    {
     "name": "stdout",
     "output_type": "stream",
     "text": [
      "D:/daps/daps/ipad_office1/segments\\f8\\segment_22.wav\n",
      "f8\n"
     ]
    },
    {
     "data": {
      "application/vnd.jupyter.widget-view+json": {
       "model_id": "fddf8151f14b4cac9297044e5312509f",
       "version_major": 2,
       "version_minor": 0
      },
      "text/plain": [
       "Transcribing:   0%|          | 0/1 [00:00<?, ?it/s]"
      ]
     },
     "metadata": {},
     "output_type": "display_data"
    },
    {
     "name": "stdout",
     "output_type": "stream",
     "text": [
      "D:/daps/daps/ipad_office1/segments\\f8\\segment_23.wav\n",
      "f8\n"
     ]
    },
    {
     "data": {
      "application/vnd.jupyter.widget-view+json": {
       "model_id": "d434e9ca270e4413b8f23ffb361da956",
       "version_major": 2,
       "version_minor": 0
      },
      "text/plain": [
       "Transcribing:   0%|          | 0/1 [00:00<?, ?it/s]"
      ]
     },
     "metadata": {},
     "output_type": "display_data"
    },
    {
     "name": "stdout",
     "output_type": "stream",
     "text": [
      "D:/daps/daps/ipad_office1/segments\\f8\\segment_24.wav\n",
      "f8\n"
     ]
    },
    {
     "data": {
      "application/vnd.jupyter.widget-view+json": {
       "model_id": "6c38cc7d03f748f08794625c0ef9046d",
       "version_major": 2,
       "version_minor": 0
      },
      "text/plain": [
       "Transcribing:   0%|          | 0/1 [00:00<?, ?it/s]"
      ]
     },
     "metadata": {},
     "output_type": "display_data"
    },
    {
     "name": "stdout",
     "output_type": "stream",
     "text": [
      "D:/daps/daps/ipad_office1/segments\\f8\\segment_25.wav\n",
      "f8\n"
     ]
    },
    {
     "data": {
      "application/vnd.jupyter.widget-view+json": {
       "model_id": "d7c7951a1e8b48e8adc49ee8e6c05632",
       "version_major": 2,
       "version_minor": 0
      },
      "text/plain": [
       "Transcribing:   0%|          | 0/1 [00:00<?, ?it/s]"
      ]
     },
     "metadata": {},
     "output_type": "display_data"
    },
    {
     "name": "stdout",
     "output_type": "stream",
     "text": [
      "D:/daps/daps/ipad_office1/segments\\f8\\segment_26.wav\n",
      "f8\n"
     ]
    },
    {
     "data": {
      "application/vnd.jupyter.widget-view+json": {
       "model_id": "6ddba9233ae8413c89a8ab365ede3542",
       "version_major": 2,
       "version_minor": 0
      },
      "text/plain": [
       "Transcribing:   0%|          | 0/1 [00:00<?, ?it/s]"
      ]
     },
     "metadata": {},
     "output_type": "display_data"
    },
    {
     "name": "stdout",
     "output_type": "stream",
     "text": [
      "D:/daps/daps/ipad_office1/segments\\f8\\segment_27.wav\n",
      "f8\n"
     ]
    },
    {
     "data": {
      "application/vnd.jupyter.widget-view+json": {
       "model_id": "50c891e21c09423e8463943b8b8908a7",
       "version_major": 2,
       "version_minor": 0
      },
      "text/plain": [
       "Transcribing:   0%|          | 0/1 [00:00<?, ?it/s]"
      ]
     },
     "metadata": {},
     "output_type": "display_data"
    },
    {
     "name": "stdout",
     "output_type": "stream",
     "text": [
      "D:/daps/daps/ipad_office1/segments\\f8\\segment_28.wav\n",
      "f8\n"
     ]
    },
    {
     "data": {
      "application/vnd.jupyter.widget-view+json": {
       "model_id": "232cccb4b96e46db9089f21f18f3a252",
       "version_major": 2,
       "version_minor": 0
      },
      "text/plain": [
       "Transcribing:   0%|          | 0/1 [00:00<?, ?it/s]"
      ]
     },
     "metadata": {},
     "output_type": "display_data"
    },
    {
     "name": "stdout",
     "output_type": "stream",
     "text": [
      "D:/daps/daps/ipad_office1/segments\\f8\\segment_29.wav\n",
      "f8\n"
     ]
    },
    {
     "data": {
      "application/vnd.jupyter.widget-view+json": {
       "model_id": "1a4bd257819448bd82181435e3c207ed",
       "version_major": 2,
       "version_minor": 0
      },
      "text/plain": [
       "Transcribing:   0%|          | 0/1 [00:00<?, ?it/s]"
      ]
     },
     "metadata": {},
     "output_type": "display_data"
    },
    {
     "name": "stdout",
     "output_type": "stream",
     "text": [
      "D:/daps/daps/ipad_office1/segments\\f8\\segment_3.wav\n",
      "f8\n"
     ]
    },
    {
     "data": {
      "application/vnd.jupyter.widget-view+json": {
       "model_id": "3c765d22d79a4065bd4426c3089b9cb0",
       "version_major": 2,
       "version_minor": 0
      },
      "text/plain": [
       "Transcribing:   0%|          | 0/1 [00:00<?, ?it/s]"
      ]
     },
     "metadata": {},
     "output_type": "display_data"
    },
    {
     "name": "stdout",
     "output_type": "stream",
     "text": [
      "D:/daps/daps/ipad_office1/segments\\f8\\segment_30.wav\n",
      "f8\n"
     ]
    },
    {
     "data": {
      "application/vnd.jupyter.widget-view+json": {
       "model_id": "bd0b12f9d0f54059836cf88d7b42d092",
       "version_major": 2,
       "version_minor": 0
      },
      "text/plain": [
       "Transcribing:   0%|          | 0/1 [00:00<?, ?it/s]"
      ]
     },
     "metadata": {},
     "output_type": "display_data"
    },
    {
     "name": "stdout",
     "output_type": "stream",
     "text": [
      "D:/daps/daps/ipad_office1/segments\\f8\\segment_31.wav\n",
      "f8\n"
     ]
    },
    {
     "data": {
      "application/vnd.jupyter.widget-view+json": {
       "model_id": "916f81c07df846a98dd729dbd5d5e81e",
       "version_major": 2,
       "version_minor": 0
      },
      "text/plain": [
       "Transcribing:   0%|          | 0/1 [00:00<?, ?it/s]"
      ]
     },
     "metadata": {},
     "output_type": "display_data"
    },
    {
     "name": "stdout",
     "output_type": "stream",
     "text": [
      "D:/daps/daps/ipad_office1/segments\\f8\\segment_32.wav\n",
      "f8\n"
     ]
    },
    {
     "data": {
      "application/vnd.jupyter.widget-view+json": {
       "model_id": "05ed57410d394ee2a7e9d8725c1de671",
       "version_major": 2,
       "version_minor": 0
      },
      "text/plain": [
       "Transcribing:   0%|          | 0/1 [00:00<?, ?it/s]"
      ]
     },
     "metadata": {},
     "output_type": "display_data"
    },
    {
     "name": "stdout",
     "output_type": "stream",
     "text": [
      "D:/daps/daps/ipad_office1/segments\\f8\\segment_33.wav\n",
      "f8\n"
     ]
    },
    {
     "data": {
      "application/vnd.jupyter.widget-view+json": {
       "model_id": "8130226f77c549c7b0b9ca4cff508af1",
       "version_major": 2,
       "version_minor": 0
      },
      "text/plain": [
       "Transcribing:   0%|          | 0/1 [00:00<?, ?it/s]"
      ]
     },
     "metadata": {},
     "output_type": "display_data"
    },
    {
     "name": "stdout",
     "output_type": "stream",
     "text": [
      "D:/daps/daps/ipad_office1/segments\\f8\\segment_34.wav\n",
      "f8\n"
     ]
    },
    {
     "data": {
      "application/vnd.jupyter.widget-view+json": {
       "model_id": "efd9bc095d094da3908716aa675f5d39",
       "version_major": 2,
       "version_minor": 0
      },
      "text/plain": [
       "Transcribing:   0%|          | 0/1 [00:00<?, ?it/s]"
      ]
     },
     "metadata": {},
     "output_type": "display_data"
    },
    {
     "name": "stdout",
     "output_type": "stream",
     "text": [
      "D:/daps/daps/ipad_office1/segments\\f8\\segment_35.wav\n",
      "f8\n"
     ]
    },
    {
     "data": {
      "application/vnd.jupyter.widget-view+json": {
       "model_id": "514b2a70a03849fc8fc4fd89052f5fb5",
       "version_major": 2,
       "version_minor": 0
      },
      "text/plain": [
       "Transcribing:   0%|          | 0/1 [00:00<?, ?it/s]"
      ]
     },
     "metadata": {},
     "output_type": "display_data"
    },
    {
     "name": "stdout",
     "output_type": "stream",
     "text": [
      "D:/daps/daps/ipad_office1/segments\\f8\\segment_36.wav\n",
      "f8\n"
     ]
    },
    {
     "data": {
      "application/vnd.jupyter.widget-view+json": {
       "model_id": "88372b78429044cb8c2b5f78950d539a",
       "version_major": 2,
       "version_minor": 0
      },
      "text/plain": [
       "Transcribing:   0%|          | 0/1 [00:00<?, ?it/s]"
      ]
     },
     "metadata": {},
     "output_type": "display_data"
    },
    {
     "name": "stdout",
     "output_type": "stream",
     "text": [
      "D:/daps/daps/ipad_office1/segments\\f8\\segment_37.wav\n",
      "f8\n"
     ]
    },
    {
     "data": {
      "application/vnd.jupyter.widget-view+json": {
       "model_id": "f8fb725d1178468587752c9f82bc8a4f",
       "version_major": 2,
       "version_minor": 0
      },
      "text/plain": [
       "Transcribing:   0%|          | 0/1 [00:00<?, ?it/s]"
      ]
     },
     "metadata": {},
     "output_type": "display_data"
    },
    {
     "name": "stdout",
     "output_type": "stream",
     "text": [
      "D:/daps/daps/ipad_office1/segments\\f8\\segment_38.wav\n",
      "f8\n"
     ]
    },
    {
     "data": {
      "application/vnd.jupyter.widget-view+json": {
       "model_id": "cbcb952280584490b7e80f0c4e1d7376",
       "version_major": 2,
       "version_minor": 0
      },
      "text/plain": [
       "Transcribing:   0%|          | 0/1 [00:00<?, ?it/s]"
      ]
     },
     "metadata": {},
     "output_type": "display_data"
    },
    {
     "name": "stdout",
     "output_type": "stream",
     "text": [
      "D:/daps/daps/ipad_office1/segments\\f8\\segment_4.wav\n",
      "f8\n"
     ]
    },
    {
     "data": {
      "application/vnd.jupyter.widget-view+json": {
       "model_id": "8a084d06b69848be898744d754b30f0e",
       "version_major": 2,
       "version_minor": 0
      },
      "text/plain": [
       "Transcribing:   0%|          | 0/1 [00:00<?, ?it/s]"
      ]
     },
     "metadata": {},
     "output_type": "display_data"
    },
    {
     "name": "stdout",
     "output_type": "stream",
     "text": [
      "D:/daps/daps/ipad_office1/segments\\f8\\segment_5.wav\n",
      "f8\n"
     ]
    },
    {
     "data": {
      "application/vnd.jupyter.widget-view+json": {
       "model_id": "d396f05da3ef49689ea4969534962a66",
       "version_major": 2,
       "version_minor": 0
      },
      "text/plain": [
       "Transcribing:   0%|          | 0/1 [00:00<?, ?it/s]"
      ]
     },
     "metadata": {},
     "output_type": "display_data"
    },
    {
     "name": "stdout",
     "output_type": "stream",
     "text": [
      "D:/daps/daps/ipad_office1/segments\\f8\\segment_6.wav\n",
      "f8\n"
     ]
    },
    {
     "data": {
      "application/vnd.jupyter.widget-view+json": {
       "model_id": "d4ea2c7984264f87a2b8933457930c23",
       "version_major": 2,
       "version_minor": 0
      },
      "text/plain": [
       "Transcribing:   0%|          | 0/1 [00:00<?, ?it/s]"
      ]
     },
     "metadata": {},
     "output_type": "display_data"
    },
    {
     "name": "stdout",
     "output_type": "stream",
     "text": [
      "D:/daps/daps/ipad_office1/segments\\f8\\segment_7.wav\n",
      "f8\n"
     ]
    },
    {
     "data": {
      "application/vnd.jupyter.widget-view+json": {
       "model_id": "b0bbdbcb7b46410bbb6736b23fb130e1",
       "version_major": 2,
       "version_minor": 0
      },
      "text/plain": [
       "Transcribing:   0%|          | 0/1 [00:00<?, ?it/s]"
      ]
     },
     "metadata": {},
     "output_type": "display_data"
    },
    {
     "name": "stdout",
     "output_type": "stream",
     "text": [
      "D:/daps/daps/ipad_office1/segments\\f8\\segment_8.wav\n",
      "f8\n"
     ]
    },
    {
     "data": {
      "application/vnd.jupyter.widget-view+json": {
       "model_id": "64f9bd995cdf40c583d7f57650aa0d0b",
       "version_major": 2,
       "version_minor": 0
      },
      "text/plain": [
       "Transcribing:   0%|          | 0/1 [00:00<?, ?it/s]"
      ]
     },
     "metadata": {},
     "output_type": "display_data"
    },
    {
     "name": "stdout",
     "output_type": "stream",
     "text": [
      "D:/daps/daps/ipad_office1/segments\\f8\\segment_9.wav\n",
      "f8\n"
     ]
    },
    {
     "data": {
      "application/vnd.jupyter.widget-view+json": {
       "model_id": "5473d3e88e274a8aa6b0298ab31ba62a",
       "version_major": 2,
       "version_minor": 0
      },
      "text/plain": [
       "Transcribing:   0%|          | 0/1 [00:00<?, ?it/s]"
      ]
     },
     "metadata": {},
     "output_type": "display_data"
    },
    {
     "name": "stdout",
     "output_type": "stream",
     "text": [
      "D:/daps/daps/ipad_office1/segments\\f9\\segment_0.wav\n",
      "f9\n"
     ]
    },
    {
     "data": {
      "application/vnd.jupyter.widget-view+json": {
       "model_id": "d945b33f351c48a0a98665248f9d86ce",
       "version_major": 2,
       "version_minor": 0
      },
      "text/plain": [
       "Transcribing:   0%|          | 0/1 [00:00<?, ?it/s]"
      ]
     },
     "metadata": {},
     "output_type": "display_data"
    },
    {
     "name": "stdout",
     "output_type": "stream",
     "text": [
      "D:/daps/daps/ipad_office1/segments\\f9\\segment_1.wav\n",
      "f9\n"
     ]
    },
    {
     "data": {
      "application/vnd.jupyter.widget-view+json": {
       "model_id": "a199935e018b491d94e4fd675d2dc4ac",
       "version_major": 2,
       "version_minor": 0
      },
      "text/plain": [
       "Transcribing:   0%|          | 0/1 [00:00<?, ?it/s]"
      ]
     },
     "metadata": {},
     "output_type": "display_data"
    },
    {
     "name": "stdout",
     "output_type": "stream",
     "text": [
      "D:/daps/daps/ipad_office1/segments\\f9\\segment_10.wav\n",
      "f9\n"
     ]
    },
    {
     "data": {
      "application/vnd.jupyter.widget-view+json": {
       "model_id": "6147c196c7c843b58449c5efa8e2d15c",
       "version_major": 2,
       "version_minor": 0
      },
      "text/plain": [
       "Transcribing:   0%|          | 0/1 [00:00<?, ?it/s]"
      ]
     },
     "metadata": {},
     "output_type": "display_data"
    },
    {
     "name": "stdout",
     "output_type": "stream",
     "text": [
      "D:/daps/daps/ipad_office1/segments\\f9\\segment_11.wav\n",
      "f9\n"
     ]
    },
    {
     "data": {
      "application/vnd.jupyter.widget-view+json": {
       "model_id": "f20769eb19524917b243da2c912fe8f0",
       "version_major": 2,
       "version_minor": 0
      },
      "text/plain": [
       "Transcribing:   0%|          | 0/1 [00:00<?, ?it/s]"
      ]
     },
     "metadata": {},
     "output_type": "display_data"
    },
    {
     "name": "stdout",
     "output_type": "stream",
     "text": [
      "D:/daps/daps/ipad_office1/segments\\f9\\segment_12.wav\n",
      "f9\n"
     ]
    },
    {
     "data": {
      "application/vnd.jupyter.widget-view+json": {
       "model_id": "de0bde01767f4911bb0c4b8a12198d71",
       "version_major": 2,
       "version_minor": 0
      },
      "text/plain": [
       "Transcribing:   0%|          | 0/1 [00:00<?, ?it/s]"
      ]
     },
     "metadata": {},
     "output_type": "display_data"
    },
    {
     "name": "stdout",
     "output_type": "stream",
     "text": [
      "D:/daps/daps/ipad_office1/segments\\f9\\segment_13.wav\n",
      "f9\n"
     ]
    },
    {
     "data": {
      "application/vnd.jupyter.widget-view+json": {
       "model_id": "8db19f6022984b749b12847f6bf06a20",
       "version_major": 2,
       "version_minor": 0
      },
      "text/plain": [
       "Transcribing:   0%|          | 0/1 [00:00<?, ?it/s]"
      ]
     },
     "metadata": {},
     "output_type": "display_data"
    },
    {
     "name": "stdout",
     "output_type": "stream",
     "text": [
      "D:/daps/daps/ipad_office1/segments\\f9\\segment_14.wav\n",
      "f9\n"
     ]
    },
    {
     "data": {
      "application/vnd.jupyter.widget-view+json": {
       "model_id": "afc7d59068d9449b9dc955fee15011ec",
       "version_major": 2,
       "version_minor": 0
      },
      "text/plain": [
       "Transcribing:   0%|          | 0/1 [00:00<?, ?it/s]"
      ]
     },
     "metadata": {},
     "output_type": "display_data"
    },
    {
     "name": "stdout",
     "output_type": "stream",
     "text": [
      "D:/daps/daps/ipad_office1/segments\\f9\\segment_15.wav\n",
      "f9\n"
     ]
    },
    {
     "data": {
      "application/vnd.jupyter.widget-view+json": {
       "model_id": "85e75b0c5f454882a502a9d6d4573be7",
       "version_major": 2,
       "version_minor": 0
      },
      "text/plain": [
       "Transcribing:   0%|          | 0/1 [00:00<?, ?it/s]"
      ]
     },
     "metadata": {},
     "output_type": "display_data"
    },
    {
     "name": "stdout",
     "output_type": "stream",
     "text": [
      "D:/daps/daps/ipad_office1/segments\\f9\\segment_16.wav\n",
      "f9\n"
     ]
    },
    {
     "data": {
      "application/vnd.jupyter.widget-view+json": {
       "model_id": "8ad669d3aad94e1e9c78613b38468ec8",
       "version_major": 2,
       "version_minor": 0
      },
      "text/plain": [
       "Transcribing:   0%|          | 0/1 [00:00<?, ?it/s]"
      ]
     },
     "metadata": {},
     "output_type": "display_data"
    },
    {
     "name": "stdout",
     "output_type": "stream",
     "text": [
      "D:/daps/daps/ipad_office1/segments\\f9\\segment_17.wav\n",
      "f9\n"
     ]
    },
    {
     "data": {
      "application/vnd.jupyter.widget-view+json": {
       "model_id": "7415c3af39874a909974d8644023c094",
       "version_major": 2,
       "version_minor": 0
      },
      "text/plain": [
       "Transcribing:   0%|          | 0/1 [00:00<?, ?it/s]"
      ]
     },
     "metadata": {},
     "output_type": "display_data"
    },
    {
     "name": "stdout",
     "output_type": "stream",
     "text": [
      "D:/daps/daps/ipad_office1/segments\\f9\\segment_18.wav\n",
      "f9\n"
     ]
    },
    {
     "data": {
      "application/vnd.jupyter.widget-view+json": {
       "model_id": "9322d2c4362b4b1683a5eaed54229fad",
       "version_major": 2,
       "version_minor": 0
      },
      "text/plain": [
       "Transcribing:   0%|          | 0/1 [00:00<?, ?it/s]"
      ]
     },
     "metadata": {},
     "output_type": "display_data"
    },
    {
     "name": "stdout",
     "output_type": "stream",
     "text": [
      "D:/daps/daps/ipad_office1/segments\\f9\\segment_19.wav\n",
      "f9\n"
     ]
    },
    {
     "data": {
      "application/vnd.jupyter.widget-view+json": {
       "model_id": "81b1cbb9e24e4bab87c58d11a1367e9c",
       "version_major": 2,
       "version_minor": 0
      },
      "text/plain": [
       "Transcribing:   0%|          | 0/1 [00:00<?, ?it/s]"
      ]
     },
     "metadata": {},
     "output_type": "display_data"
    },
    {
     "name": "stdout",
     "output_type": "stream",
     "text": [
      "D:/daps/daps/ipad_office1/segments\\f9\\segment_2.wav\n",
      "f9\n"
     ]
    },
    {
     "data": {
      "application/vnd.jupyter.widget-view+json": {
       "model_id": "ee5d939603274e12935e8559bb744279",
       "version_major": 2,
       "version_minor": 0
      },
      "text/plain": [
       "Transcribing:   0%|          | 0/1 [00:00<?, ?it/s]"
      ]
     },
     "metadata": {},
     "output_type": "display_data"
    },
    {
     "name": "stdout",
     "output_type": "stream",
     "text": [
      "D:/daps/daps/ipad_office1/segments\\f9\\segment_20.wav\n",
      "f9\n"
     ]
    },
    {
     "data": {
      "application/vnd.jupyter.widget-view+json": {
       "model_id": "bdf141663bdc45158d1acd522a5f6aad",
       "version_major": 2,
       "version_minor": 0
      },
      "text/plain": [
       "Transcribing:   0%|          | 0/1 [00:00<?, ?it/s]"
      ]
     },
     "metadata": {},
     "output_type": "display_data"
    },
    {
     "name": "stdout",
     "output_type": "stream",
     "text": [
      "D:/daps/daps/ipad_office1/segments\\f9\\segment_21.wav\n",
      "f9\n"
     ]
    },
    {
     "data": {
      "application/vnd.jupyter.widget-view+json": {
       "model_id": "182d0f3b13044aa6b8670e99b890fa0e",
       "version_major": 2,
       "version_minor": 0
      },
      "text/plain": [
       "Transcribing:   0%|          | 0/1 [00:00<?, ?it/s]"
      ]
     },
     "metadata": {},
     "output_type": "display_data"
    },
    {
     "name": "stdout",
     "output_type": "stream",
     "text": [
      "D:/daps/daps/ipad_office1/segments\\f9\\segment_22.wav\n",
      "f9\n"
     ]
    },
    {
     "data": {
      "application/vnd.jupyter.widget-view+json": {
       "model_id": "aca488df056f47fa9af967c042f633da",
       "version_major": 2,
       "version_minor": 0
      },
      "text/plain": [
       "Transcribing:   0%|          | 0/1 [00:00<?, ?it/s]"
      ]
     },
     "metadata": {},
     "output_type": "display_data"
    },
    {
     "name": "stdout",
     "output_type": "stream",
     "text": [
      "D:/daps/daps/ipad_office1/segments\\f9\\segment_23.wav\n",
      "f9\n"
     ]
    },
    {
     "data": {
      "application/vnd.jupyter.widget-view+json": {
       "model_id": "7b4e6ff74a22408aaf79558fd029d7a6",
       "version_major": 2,
       "version_minor": 0
      },
      "text/plain": [
       "Transcribing:   0%|          | 0/1 [00:00<?, ?it/s]"
      ]
     },
     "metadata": {},
     "output_type": "display_data"
    },
    {
     "name": "stdout",
     "output_type": "stream",
     "text": [
      "D:/daps/daps/ipad_office1/segments\\f9\\segment_24.wav\n",
      "f9\n"
     ]
    },
    {
     "data": {
      "application/vnd.jupyter.widget-view+json": {
       "model_id": "918ff758029d4263bf427990415f4828",
       "version_major": 2,
       "version_minor": 0
      },
      "text/plain": [
       "Transcribing:   0%|          | 0/1 [00:00<?, ?it/s]"
      ]
     },
     "metadata": {},
     "output_type": "display_data"
    },
    {
     "name": "stdout",
     "output_type": "stream",
     "text": [
      "D:/daps/daps/ipad_office1/segments\\f9\\segment_25.wav\n",
      "f9\n"
     ]
    },
    {
     "data": {
      "application/vnd.jupyter.widget-view+json": {
       "model_id": "3e31a1b1d47c469dbd97b0e09dc338e0",
       "version_major": 2,
       "version_minor": 0
      },
      "text/plain": [
       "Transcribing:   0%|          | 0/1 [00:00<?, ?it/s]"
      ]
     },
     "metadata": {},
     "output_type": "display_data"
    },
    {
     "name": "stdout",
     "output_type": "stream",
     "text": [
      "D:/daps/daps/ipad_office1/segments\\f9\\segment_26.wav\n",
      "f9\n"
     ]
    },
    {
     "data": {
      "application/vnd.jupyter.widget-view+json": {
       "model_id": "36d2d4d45de44cba884981ec36ac490a",
       "version_major": 2,
       "version_minor": 0
      },
      "text/plain": [
       "Transcribing:   0%|          | 0/1 [00:00<?, ?it/s]"
      ]
     },
     "metadata": {},
     "output_type": "display_data"
    },
    {
     "name": "stdout",
     "output_type": "stream",
     "text": [
      "D:/daps/daps/ipad_office1/segments\\f9\\segment_27.wav\n",
      "f9\n"
     ]
    },
    {
     "data": {
      "application/vnd.jupyter.widget-view+json": {
       "model_id": "f8a30c856e044af6b5372450749928d3",
       "version_major": 2,
       "version_minor": 0
      },
      "text/plain": [
       "Transcribing:   0%|          | 0/1 [00:00<?, ?it/s]"
      ]
     },
     "metadata": {},
     "output_type": "display_data"
    },
    {
     "name": "stdout",
     "output_type": "stream",
     "text": [
      "D:/daps/daps/ipad_office1/segments\\f9\\segment_28.wav\n",
      "f9\n"
     ]
    },
    {
     "data": {
      "application/vnd.jupyter.widget-view+json": {
       "model_id": "6136ff2b9e4a4b328621dac2591ee70d",
       "version_major": 2,
       "version_minor": 0
      },
      "text/plain": [
       "Transcribing:   0%|          | 0/1 [00:00<?, ?it/s]"
      ]
     },
     "metadata": {},
     "output_type": "display_data"
    },
    {
     "name": "stdout",
     "output_type": "stream",
     "text": [
      "D:/daps/daps/ipad_office1/segments\\f9\\segment_29.wav\n",
      "f9\n"
     ]
    },
    {
     "data": {
      "application/vnd.jupyter.widget-view+json": {
       "model_id": "3c8393c250cc423eb6cf9e1a8208c4ac",
       "version_major": 2,
       "version_minor": 0
      },
      "text/plain": [
       "Transcribing:   0%|          | 0/1 [00:00<?, ?it/s]"
      ]
     },
     "metadata": {},
     "output_type": "display_data"
    },
    {
     "name": "stdout",
     "output_type": "stream",
     "text": [
      "D:/daps/daps/ipad_office1/segments\\f9\\segment_3.wav\n",
      "f9\n"
     ]
    },
    {
     "data": {
      "application/vnd.jupyter.widget-view+json": {
       "model_id": "551bc624ffc141b394e31a1952465cc3",
       "version_major": 2,
       "version_minor": 0
      },
      "text/plain": [
       "Transcribing:   0%|          | 0/1 [00:00<?, ?it/s]"
      ]
     },
     "metadata": {},
     "output_type": "display_data"
    },
    {
     "name": "stdout",
     "output_type": "stream",
     "text": [
      "D:/daps/daps/ipad_office1/segments\\f9\\segment_30.wav\n",
      "f9\n"
     ]
    },
    {
     "data": {
      "application/vnd.jupyter.widget-view+json": {
       "model_id": "f0b76fd635824852917844d5340cb891",
       "version_major": 2,
       "version_minor": 0
      },
      "text/plain": [
       "Transcribing:   0%|          | 0/1 [00:00<?, ?it/s]"
      ]
     },
     "metadata": {},
     "output_type": "display_data"
    },
    {
     "name": "stdout",
     "output_type": "stream",
     "text": [
      "D:/daps/daps/ipad_office1/segments\\f9\\segment_4.wav\n",
      "f9\n"
     ]
    },
    {
     "data": {
      "application/vnd.jupyter.widget-view+json": {
       "model_id": "173300489f46426a9eac8bd501eff74d",
       "version_major": 2,
       "version_minor": 0
      },
      "text/plain": [
       "Transcribing:   0%|          | 0/1 [00:00<?, ?it/s]"
      ]
     },
     "metadata": {},
     "output_type": "display_data"
    },
    {
     "name": "stdout",
     "output_type": "stream",
     "text": [
      "D:/daps/daps/ipad_office1/segments\\f9\\segment_5.wav\n",
      "f9\n"
     ]
    },
    {
     "data": {
      "application/vnd.jupyter.widget-view+json": {
       "model_id": "e419c5c939014a06bb3266d72cb9d0ad",
       "version_major": 2,
       "version_minor": 0
      },
      "text/plain": [
       "Transcribing:   0%|          | 0/1 [00:00<?, ?it/s]"
      ]
     },
     "metadata": {},
     "output_type": "display_data"
    },
    {
     "name": "stdout",
     "output_type": "stream",
     "text": [
      "D:/daps/daps/ipad_office1/segments\\f9\\segment_6.wav\n",
      "f9\n"
     ]
    },
    {
     "data": {
      "application/vnd.jupyter.widget-view+json": {
       "model_id": "3e21a1f5b7ab4daeaeb21ba8ddcb20e4",
       "version_major": 2,
       "version_minor": 0
      },
      "text/plain": [
       "Transcribing:   0%|          | 0/1 [00:00<?, ?it/s]"
      ]
     },
     "metadata": {},
     "output_type": "display_data"
    },
    {
     "name": "stdout",
     "output_type": "stream",
     "text": [
      "D:/daps/daps/ipad_office1/segments\\f9\\segment_7.wav\n",
      "f9\n"
     ]
    },
    {
     "data": {
      "application/vnd.jupyter.widget-view+json": {
       "model_id": "b7fdfecb06464b4bb544e6e9ec44558d",
       "version_major": 2,
       "version_minor": 0
      },
      "text/plain": [
       "Transcribing:   0%|          | 0/1 [00:00<?, ?it/s]"
      ]
     },
     "metadata": {},
     "output_type": "display_data"
    },
    {
     "name": "stdout",
     "output_type": "stream",
     "text": [
      "D:/daps/daps/ipad_office1/segments\\f9\\segment_8.wav\n",
      "f9\n"
     ]
    },
    {
     "data": {
      "application/vnd.jupyter.widget-view+json": {
       "model_id": "d93bd0035b294090bdfafba490ff4d70",
       "version_major": 2,
       "version_minor": 0
      },
      "text/plain": [
       "Transcribing:   0%|          | 0/1 [00:00<?, ?it/s]"
      ]
     },
     "metadata": {},
     "output_type": "display_data"
    },
    {
     "name": "stdout",
     "output_type": "stream",
     "text": [
      "D:/daps/daps/ipad_office1/segments\\f9\\segment_9.wav\n",
      "f9\n"
     ]
    },
    {
     "data": {
      "application/vnd.jupyter.widget-view+json": {
       "model_id": "04ecaffd54464a6790432577888f910e",
       "version_major": 2,
       "version_minor": 0
      },
      "text/plain": [
       "Transcribing:   0%|          | 0/1 [00:00<?, ?it/s]"
      ]
     },
     "metadata": {},
     "output_type": "display_data"
    },
    {
     "name": "stdout",
     "output_type": "stream",
     "text": [
      "D:/daps/daps/ipad_office1/segments\\m1\\segment_0.wav\n",
      "m1\n"
     ]
    },
    {
     "data": {
      "application/vnd.jupyter.widget-view+json": {
       "model_id": "cd5c67f9c0104db58f0f27bb3bb2d203",
       "version_major": 2,
       "version_minor": 0
      },
      "text/plain": [
       "Transcribing:   0%|          | 0/1 [00:00<?, ?it/s]"
      ]
     },
     "metadata": {},
     "output_type": "display_data"
    },
    {
     "name": "stdout",
     "output_type": "stream",
     "text": [
      "D:/daps/daps/ipad_office1/segments\\m1\\segment_1.wav\n",
      "m1\n"
     ]
    },
    {
     "data": {
      "application/vnd.jupyter.widget-view+json": {
       "model_id": "9c72814b7d9b42a78bc7497d0410ca6a",
       "version_major": 2,
       "version_minor": 0
      },
      "text/plain": [
       "Transcribing:   0%|          | 0/1 [00:00<?, ?it/s]"
      ]
     },
     "metadata": {},
     "output_type": "display_data"
    },
    {
     "name": "stdout",
     "output_type": "stream",
     "text": [
      "D:/daps/daps/ipad_office1/segments\\m1\\segment_10.wav\n",
      "m1\n"
     ]
    },
    {
     "data": {
      "application/vnd.jupyter.widget-view+json": {
       "model_id": "732d922598db4e74a5df95821fb92f21",
       "version_major": 2,
       "version_minor": 0
      },
      "text/plain": [
       "Transcribing:   0%|          | 0/1 [00:00<?, ?it/s]"
      ]
     },
     "metadata": {},
     "output_type": "display_data"
    },
    {
     "name": "stdout",
     "output_type": "stream",
     "text": [
      "D:/daps/daps/ipad_office1/segments\\m1\\segment_11.wav\n",
      "m1\n"
     ]
    },
    {
     "data": {
      "application/vnd.jupyter.widget-view+json": {
       "model_id": "c22ccbb5e4754dae818aa66f1db98be7",
       "version_major": 2,
       "version_minor": 0
      },
      "text/plain": [
       "Transcribing:   0%|          | 0/1 [00:00<?, ?it/s]"
      ]
     },
     "metadata": {},
     "output_type": "display_data"
    },
    {
     "name": "stdout",
     "output_type": "stream",
     "text": [
      "D:/daps/daps/ipad_office1/segments\\m1\\segment_12.wav\n",
      "m1\n"
     ]
    },
    {
     "data": {
      "application/vnd.jupyter.widget-view+json": {
       "model_id": "53fee13a6c5144a18842ed60d1438756",
       "version_major": 2,
       "version_minor": 0
      },
      "text/plain": [
       "Transcribing:   0%|          | 0/1 [00:00<?, ?it/s]"
      ]
     },
     "metadata": {},
     "output_type": "display_data"
    },
    {
     "name": "stdout",
     "output_type": "stream",
     "text": [
      "D:/daps/daps/ipad_office1/segments\\m1\\segment_13.wav\n",
      "m1\n"
     ]
    },
    {
     "data": {
      "application/vnd.jupyter.widget-view+json": {
       "model_id": "f6a2d93c64ba4218a5130d7d2ebd9bc4",
       "version_major": 2,
       "version_minor": 0
      },
      "text/plain": [
       "Transcribing:   0%|          | 0/1 [00:00<?, ?it/s]"
      ]
     },
     "metadata": {},
     "output_type": "display_data"
    },
    {
     "name": "stdout",
     "output_type": "stream",
     "text": [
      "D:/daps/daps/ipad_office1/segments\\m1\\segment_14.wav\n",
      "m1\n"
     ]
    },
    {
     "data": {
      "application/vnd.jupyter.widget-view+json": {
       "model_id": "1c15f2a4bffc4bf78364e770607f9458",
       "version_major": 2,
       "version_minor": 0
      },
      "text/plain": [
       "Transcribing:   0%|          | 0/1 [00:00<?, ?it/s]"
      ]
     },
     "metadata": {},
     "output_type": "display_data"
    },
    {
     "name": "stdout",
     "output_type": "stream",
     "text": [
      "D:/daps/daps/ipad_office1/segments\\m1\\segment_15.wav\n",
      "m1\n"
     ]
    },
    {
     "data": {
      "application/vnd.jupyter.widget-view+json": {
       "model_id": "92536e9366724f6fa31ce36d1b4067ce",
       "version_major": 2,
       "version_minor": 0
      },
      "text/plain": [
       "Transcribing:   0%|          | 0/1 [00:00<?, ?it/s]"
      ]
     },
     "metadata": {},
     "output_type": "display_data"
    },
    {
     "name": "stdout",
     "output_type": "stream",
     "text": [
      "D:/daps/daps/ipad_office1/segments\\m1\\segment_16.wav\n",
      "m1\n"
     ]
    },
    {
     "data": {
      "application/vnd.jupyter.widget-view+json": {
       "model_id": "77edca9e645c4a0ba51050375043ad4c",
       "version_major": 2,
       "version_minor": 0
      },
      "text/plain": [
       "Transcribing:   0%|          | 0/1 [00:00<?, ?it/s]"
      ]
     },
     "metadata": {},
     "output_type": "display_data"
    },
    {
     "name": "stdout",
     "output_type": "stream",
     "text": [
      "D:/daps/daps/ipad_office1/segments\\m1\\segment_17.wav\n",
      "m1\n"
     ]
    },
    {
     "data": {
      "application/vnd.jupyter.widget-view+json": {
       "model_id": "99edf4b7a3364efda0614a4b9742b42a",
       "version_major": 2,
       "version_minor": 0
      },
      "text/plain": [
       "Transcribing:   0%|          | 0/1 [00:00<?, ?it/s]"
      ]
     },
     "metadata": {},
     "output_type": "display_data"
    },
    {
     "name": "stdout",
     "output_type": "stream",
     "text": [
      "D:/daps/daps/ipad_office1/segments\\m1\\segment_18.wav\n",
      "m1\n"
     ]
    },
    {
     "data": {
      "application/vnd.jupyter.widget-view+json": {
       "model_id": "821bcd460ac34b3fa5a01a62bfddbb54",
       "version_major": 2,
       "version_minor": 0
      },
      "text/plain": [
       "Transcribing:   0%|          | 0/1 [00:00<?, ?it/s]"
      ]
     },
     "metadata": {},
     "output_type": "display_data"
    },
    {
     "name": "stdout",
     "output_type": "stream",
     "text": [
      "D:/daps/daps/ipad_office1/segments\\m1\\segment_19.wav\n",
      "m1\n"
     ]
    },
    {
     "data": {
      "application/vnd.jupyter.widget-view+json": {
       "model_id": "d8b1e871f9f74bcc87e3f894e2c23d85",
       "version_major": 2,
       "version_minor": 0
      },
      "text/plain": [
       "Transcribing:   0%|          | 0/1 [00:00<?, ?it/s]"
      ]
     },
     "metadata": {},
     "output_type": "display_data"
    },
    {
     "name": "stdout",
     "output_type": "stream",
     "text": [
      "D:/daps/daps/ipad_office1/segments\\m1\\segment_2.wav\n",
      "m1\n"
     ]
    },
    {
     "data": {
      "application/vnd.jupyter.widget-view+json": {
       "model_id": "f7931c722cb84f5ab5eb7fa9826b674f",
       "version_major": 2,
       "version_minor": 0
      },
      "text/plain": [
       "Transcribing:   0%|          | 0/1 [00:00<?, ?it/s]"
      ]
     },
     "metadata": {},
     "output_type": "display_data"
    },
    {
     "name": "stdout",
     "output_type": "stream",
     "text": [
      "D:/daps/daps/ipad_office1/segments\\m1\\segment_20.wav\n",
      "m1\n"
     ]
    },
    {
     "data": {
      "application/vnd.jupyter.widget-view+json": {
       "model_id": "fbc3b92cf442464f9c8d1cc2eaa452db",
       "version_major": 2,
       "version_minor": 0
      },
      "text/plain": [
       "Transcribing:   0%|          | 0/1 [00:00<?, ?it/s]"
      ]
     },
     "metadata": {},
     "output_type": "display_data"
    },
    {
     "name": "stdout",
     "output_type": "stream",
     "text": [
      "D:/daps/daps/ipad_office1/segments\\m1\\segment_21.wav\n",
      "m1\n"
     ]
    },
    {
     "data": {
      "application/vnd.jupyter.widget-view+json": {
       "model_id": "5f5f87353ac74e228b5afb7702cda505",
       "version_major": 2,
       "version_minor": 0
      },
      "text/plain": [
       "Transcribing:   0%|          | 0/1 [00:00<?, ?it/s]"
      ]
     },
     "metadata": {},
     "output_type": "display_data"
    },
    {
     "name": "stdout",
     "output_type": "stream",
     "text": [
      "D:/daps/daps/ipad_office1/segments\\m1\\segment_22.wav\n",
      "m1\n"
     ]
    },
    {
     "data": {
      "application/vnd.jupyter.widget-view+json": {
       "model_id": "9f8c98d8f46943bba14dd729678503ae",
       "version_major": 2,
       "version_minor": 0
      },
      "text/plain": [
       "Transcribing:   0%|          | 0/1 [00:00<?, ?it/s]"
      ]
     },
     "metadata": {},
     "output_type": "display_data"
    },
    {
     "name": "stdout",
     "output_type": "stream",
     "text": [
      "D:/daps/daps/ipad_office1/segments\\m1\\segment_23.wav\n",
      "m1\n"
     ]
    },
    {
     "data": {
      "application/vnd.jupyter.widget-view+json": {
       "model_id": "857ed3bf55b0438196ae167428cd2650",
       "version_major": 2,
       "version_minor": 0
      },
      "text/plain": [
       "Transcribing:   0%|          | 0/1 [00:00<?, ?it/s]"
      ]
     },
     "metadata": {},
     "output_type": "display_data"
    },
    {
     "name": "stdout",
     "output_type": "stream",
     "text": [
      "D:/daps/daps/ipad_office1/segments\\m1\\segment_24.wav\n",
      "m1\n"
     ]
    },
    {
     "data": {
      "application/vnd.jupyter.widget-view+json": {
       "model_id": "57aa80ddff5f49efb368429021b0ee39",
       "version_major": 2,
       "version_minor": 0
      },
      "text/plain": [
       "Transcribing:   0%|          | 0/1 [00:00<?, ?it/s]"
      ]
     },
     "metadata": {},
     "output_type": "display_data"
    },
    {
     "name": "stdout",
     "output_type": "stream",
     "text": [
      "D:/daps/daps/ipad_office1/segments\\m1\\segment_25.wav\n",
      "m1\n"
     ]
    },
    {
     "data": {
      "application/vnd.jupyter.widget-view+json": {
       "model_id": "a8d61840e4d24983af51609bd5de9e61",
       "version_major": 2,
       "version_minor": 0
      },
      "text/plain": [
       "Transcribing:   0%|          | 0/1 [00:00<?, ?it/s]"
      ]
     },
     "metadata": {},
     "output_type": "display_data"
    },
    {
     "name": "stdout",
     "output_type": "stream",
     "text": [
      "D:/daps/daps/ipad_office1/segments\\m1\\segment_26.wav\n",
      "m1\n"
     ]
    },
    {
     "data": {
      "application/vnd.jupyter.widget-view+json": {
       "model_id": "361a08def0634a9499973d7342e8311d",
       "version_major": 2,
       "version_minor": 0
      },
      "text/plain": [
       "Transcribing:   0%|          | 0/1 [00:00<?, ?it/s]"
      ]
     },
     "metadata": {},
     "output_type": "display_data"
    },
    {
     "name": "stdout",
     "output_type": "stream",
     "text": [
      "D:/daps/daps/ipad_office1/segments\\m1\\segment_27.wav\n",
      "m1\n"
     ]
    },
    {
     "data": {
      "application/vnd.jupyter.widget-view+json": {
       "model_id": "de9135c1cc6549d986a768fa7cbc96e7",
       "version_major": 2,
       "version_minor": 0
      },
      "text/plain": [
       "Transcribing:   0%|          | 0/1 [00:00<?, ?it/s]"
      ]
     },
     "metadata": {},
     "output_type": "display_data"
    },
    {
     "name": "stdout",
     "output_type": "stream",
     "text": [
      "D:/daps/daps/ipad_office1/segments\\m1\\segment_28.wav\n",
      "m1\n"
     ]
    },
    {
     "data": {
      "application/vnd.jupyter.widget-view+json": {
       "model_id": "ebf0254e79c1406ab60de7695071f69c",
       "version_major": 2,
       "version_minor": 0
      },
      "text/plain": [
       "Transcribing:   0%|          | 0/1 [00:00<?, ?it/s]"
      ]
     },
     "metadata": {},
     "output_type": "display_data"
    },
    {
     "name": "stdout",
     "output_type": "stream",
     "text": [
      "D:/daps/daps/ipad_office1/segments\\m1\\segment_29.wav\n",
      "m1\n"
     ]
    },
    {
     "data": {
      "application/vnd.jupyter.widget-view+json": {
       "model_id": "7c9913aea62f4e319529f9373ea382e2",
       "version_major": 2,
       "version_minor": 0
      },
      "text/plain": [
       "Transcribing:   0%|          | 0/1 [00:00<?, ?it/s]"
      ]
     },
     "metadata": {},
     "output_type": "display_data"
    },
    {
     "name": "stdout",
     "output_type": "stream",
     "text": [
      "D:/daps/daps/ipad_office1/segments\\m1\\segment_3.wav\n",
      "m1\n"
     ]
    },
    {
     "data": {
      "application/vnd.jupyter.widget-view+json": {
       "model_id": "0b0e2283d666416daead23a5275858f5",
       "version_major": 2,
       "version_minor": 0
      },
      "text/plain": [
       "Transcribing:   0%|          | 0/1 [00:00<?, ?it/s]"
      ]
     },
     "metadata": {},
     "output_type": "display_data"
    },
    {
     "name": "stdout",
     "output_type": "stream",
     "text": [
      "D:/daps/daps/ipad_office1/segments\\m1\\segment_30.wav\n",
      "m1\n"
     ]
    },
    {
     "data": {
      "application/vnd.jupyter.widget-view+json": {
       "model_id": "cad15aeb86524321b36a3159e1898754",
       "version_major": 2,
       "version_minor": 0
      },
      "text/plain": [
       "Transcribing:   0%|          | 0/1 [00:00<?, ?it/s]"
      ]
     },
     "metadata": {},
     "output_type": "display_data"
    },
    {
     "name": "stdout",
     "output_type": "stream",
     "text": [
      "D:/daps/daps/ipad_office1/segments\\m1\\segment_31.wav\n",
      "m1\n"
     ]
    },
    {
     "data": {
      "application/vnd.jupyter.widget-view+json": {
       "model_id": "3abf4416d0ad438a824c85b79c34128a",
       "version_major": 2,
       "version_minor": 0
      },
      "text/plain": [
       "Transcribing:   0%|          | 0/1 [00:00<?, ?it/s]"
      ]
     },
     "metadata": {},
     "output_type": "display_data"
    },
    {
     "name": "stdout",
     "output_type": "stream",
     "text": [
      "D:/daps/daps/ipad_office1/segments\\m1\\segment_32.wav\n",
      "m1\n"
     ]
    },
    {
     "data": {
      "application/vnd.jupyter.widget-view+json": {
       "model_id": "194d1bdaa9e94faf93c77cc73425e06b",
       "version_major": 2,
       "version_minor": 0
      },
      "text/plain": [
       "Transcribing:   0%|          | 0/1 [00:00<?, ?it/s]"
      ]
     },
     "metadata": {},
     "output_type": "display_data"
    },
    {
     "name": "stdout",
     "output_type": "stream",
     "text": [
      "D:/daps/daps/ipad_office1/segments\\m1\\segment_33.wav\n",
      "m1\n"
     ]
    },
    {
     "data": {
      "application/vnd.jupyter.widget-view+json": {
       "model_id": "4043571013904389804224abd7811be5",
       "version_major": 2,
       "version_minor": 0
      },
      "text/plain": [
       "Transcribing:   0%|          | 0/1 [00:00<?, ?it/s]"
      ]
     },
     "metadata": {},
     "output_type": "display_data"
    },
    {
     "name": "stdout",
     "output_type": "stream",
     "text": [
      "D:/daps/daps/ipad_office1/segments\\m1\\segment_34.wav\n",
      "m1\n"
     ]
    },
    {
     "data": {
      "application/vnd.jupyter.widget-view+json": {
       "model_id": "1b3a297eff32488ca0f24397d5d594a5",
       "version_major": 2,
       "version_minor": 0
      },
      "text/plain": [
       "Transcribing:   0%|          | 0/1 [00:00<?, ?it/s]"
      ]
     },
     "metadata": {},
     "output_type": "display_data"
    },
    {
     "name": "stdout",
     "output_type": "stream",
     "text": [
      "D:/daps/daps/ipad_office1/segments\\m1\\segment_4.wav\n",
      "m1\n"
     ]
    },
    {
     "data": {
      "application/vnd.jupyter.widget-view+json": {
       "model_id": "c7917335453b4e9da2da1886b33093d8",
       "version_major": 2,
       "version_minor": 0
      },
      "text/plain": [
       "Transcribing:   0%|          | 0/1 [00:00<?, ?it/s]"
      ]
     },
     "metadata": {},
     "output_type": "display_data"
    },
    {
     "name": "stdout",
     "output_type": "stream",
     "text": [
      "D:/daps/daps/ipad_office1/segments\\m1\\segment_5.wav\n",
      "m1\n"
     ]
    },
    {
     "data": {
      "application/vnd.jupyter.widget-view+json": {
       "model_id": "c011a177faa94b7ca4008a118a56e64c",
       "version_major": 2,
       "version_minor": 0
      },
      "text/plain": [
       "Transcribing:   0%|          | 0/1 [00:00<?, ?it/s]"
      ]
     },
     "metadata": {},
     "output_type": "display_data"
    },
    {
     "name": "stdout",
     "output_type": "stream",
     "text": [
      "D:/daps/daps/ipad_office1/segments\\m1\\segment_6.wav\n",
      "m1\n"
     ]
    },
    {
     "data": {
      "application/vnd.jupyter.widget-view+json": {
       "model_id": "ea38a4f4ba2a4f21b4e773eea59ef793",
       "version_major": 2,
       "version_minor": 0
      },
      "text/plain": [
       "Transcribing:   0%|          | 0/1 [00:00<?, ?it/s]"
      ]
     },
     "metadata": {},
     "output_type": "display_data"
    },
    {
     "name": "stdout",
     "output_type": "stream",
     "text": [
      "D:/daps/daps/ipad_office1/segments\\m1\\segment_7.wav\n",
      "m1\n"
     ]
    },
    {
     "data": {
      "application/vnd.jupyter.widget-view+json": {
       "model_id": "ffff05ef134041d29ef7febb43317aa7",
       "version_major": 2,
       "version_minor": 0
      },
      "text/plain": [
       "Transcribing:   0%|          | 0/1 [00:00<?, ?it/s]"
      ]
     },
     "metadata": {},
     "output_type": "display_data"
    },
    {
     "name": "stdout",
     "output_type": "stream",
     "text": [
      "D:/daps/daps/ipad_office1/segments\\m1\\segment_8.wav\n",
      "m1\n"
     ]
    },
    {
     "data": {
      "application/vnd.jupyter.widget-view+json": {
       "model_id": "2322e1297b34468c846800eb72092180",
       "version_major": 2,
       "version_minor": 0
      },
      "text/plain": [
       "Transcribing:   0%|          | 0/1 [00:00<?, ?it/s]"
      ]
     },
     "metadata": {},
     "output_type": "display_data"
    },
    {
     "name": "stdout",
     "output_type": "stream",
     "text": [
      "D:/daps/daps/ipad_office1/segments\\m1\\segment_9.wav\n",
      "m1\n"
     ]
    },
    {
     "data": {
      "application/vnd.jupyter.widget-view+json": {
       "model_id": "7221a0d601f14417b4d584479cd01480",
       "version_major": 2,
       "version_minor": 0
      },
      "text/plain": [
       "Transcribing:   0%|          | 0/1 [00:00<?, ?it/s]"
      ]
     },
     "metadata": {},
     "output_type": "display_data"
    },
    {
     "name": "stdout",
     "output_type": "stream",
     "text": [
      "D:/daps/daps/ipad_office1/segments\\m10\\segment_0.wav\n",
      "m10\n"
     ]
    },
    {
     "data": {
      "application/vnd.jupyter.widget-view+json": {
       "model_id": "b68389bb0f484e73a68feed1abf643d2",
       "version_major": 2,
       "version_minor": 0
      },
      "text/plain": [
       "Transcribing:   0%|          | 0/1 [00:00<?, ?it/s]"
      ]
     },
     "metadata": {},
     "output_type": "display_data"
    },
    {
     "name": "stdout",
     "output_type": "stream",
     "text": [
      "D:/daps/daps/ipad_office1/segments\\m10\\segment_1.wav\n",
      "m10\n"
     ]
    },
    {
     "data": {
      "application/vnd.jupyter.widget-view+json": {
       "model_id": "245336ce53d74f81a264e6b7c00b2d61",
       "version_major": 2,
       "version_minor": 0
      },
      "text/plain": [
       "Transcribing:   0%|          | 0/1 [00:00<?, ?it/s]"
      ]
     },
     "metadata": {},
     "output_type": "display_data"
    },
    {
     "name": "stdout",
     "output_type": "stream",
     "text": [
      "D:/daps/daps/ipad_office1/segments\\m10\\segment_10.wav\n",
      "m10\n"
     ]
    },
    {
     "data": {
      "application/vnd.jupyter.widget-view+json": {
       "model_id": "c7352dcd42544e9881ab075cdd9a80f9",
       "version_major": 2,
       "version_minor": 0
      },
      "text/plain": [
       "Transcribing:   0%|          | 0/1 [00:00<?, ?it/s]"
      ]
     },
     "metadata": {},
     "output_type": "display_data"
    },
    {
     "name": "stdout",
     "output_type": "stream",
     "text": [
      "D:/daps/daps/ipad_office1/segments\\m10\\segment_11.wav\n",
      "m10\n"
     ]
    },
    {
     "data": {
      "application/vnd.jupyter.widget-view+json": {
       "model_id": "9c13a624239f47ddbca17f5a779245cc",
       "version_major": 2,
       "version_minor": 0
      },
      "text/plain": [
       "Transcribing:   0%|          | 0/1 [00:00<?, ?it/s]"
      ]
     },
     "metadata": {},
     "output_type": "display_data"
    },
    {
     "name": "stdout",
     "output_type": "stream",
     "text": [
      "D:/daps/daps/ipad_office1/segments\\m10\\segment_12.wav\n",
      "m10\n"
     ]
    },
    {
     "data": {
      "application/vnd.jupyter.widget-view+json": {
       "model_id": "b1b3a028f1f844ac86065522b18eff87",
       "version_major": 2,
       "version_minor": 0
      },
      "text/plain": [
       "Transcribing:   0%|          | 0/1 [00:00<?, ?it/s]"
      ]
     },
     "metadata": {},
     "output_type": "display_data"
    },
    {
     "name": "stdout",
     "output_type": "stream",
     "text": [
      "D:/daps/daps/ipad_office1/segments\\m10\\segment_13.wav\n",
      "m10\n"
     ]
    },
    {
     "data": {
      "application/vnd.jupyter.widget-view+json": {
       "model_id": "b971d2152a38433e9989d744d4b2d651",
       "version_major": 2,
       "version_minor": 0
      },
      "text/plain": [
       "Transcribing:   0%|          | 0/1 [00:00<?, ?it/s]"
      ]
     },
     "metadata": {},
     "output_type": "display_data"
    },
    {
     "name": "stdout",
     "output_type": "stream",
     "text": [
      "D:/daps/daps/ipad_office1/segments\\m10\\segment_14.wav\n",
      "m10\n"
     ]
    },
    {
     "data": {
      "application/vnd.jupyter.widget-view+json": {
       "model_id": "71c83470ebab4b608ba834a9e0d5dcf2",
       "version_major": 2,
       "version_minor": 0
      },
      "text/plain": [
       "Transcribing:   0%|          | 0/1 [00:00<?, ?it/s]"
      ]
     },
     "metadata": {},
     "output_type": "display_data"
    },
    {
     "name": "stdout",
     "output_type": "stream",
     "text": [
      "D:/daps/daps/ipad_office1/segments\\m10\\segment_15.wav\n",
      "m10\n"
     ]
    },
    {
     "data": {
      "application/vnd.jupyter.widget-view+json": {
       "model_id": "7336a84c247d48b3afbc3c6106cc89b7",
       "version_major": 2,
       "version_minor": 0
      },
      "text/plain": [
       "Transcribing:   0%|          | 0/1 [00:00<?, ?it/s]"
      ]
     },
     "metadata": {},
     "output_type": "display_data"
    },
    {
     "name": "stdout",
     "output_type": "stream",
     "text": [
      "D:/daps/daps/ipad_office1/segments\\m10\\segment_16.wav\n",
      "m10\n"
     ]
    },
    {
     "data": {
      "application/vnd.jupyter.widget-view+json": {
       "model_id": "f77b2fca173645ae9acd56aab72d0a3f",
       "version_major": 2,
       "version_minor": 0
      },
      "text/plain": [
       "Transcribing:   0%|          | 0/1 [00:00<?, ?it/s]"
      ]
     },
     "metadata": {},
     "output_type": "display_data"
    },
    {
     "name": "stdout",
     "output_type": "stream",
     "text": [
      "D:/daps/daps/ipad_office1/segments\\m10\\segment_17.wav\n",
      "m10\n"
     ]
    },
    {
     "data": {
      "application/vnd.jupyter.widget-view+json": {
       "model_id": "b720e90bd4bf4b5c8f30b8968c918ae0",
       "version_major": 2,
       "version_minor": 0
      },
      "text/plain": [
       "Transcribing:   0%|          | 0/1 [00:00<?, ?it/s]"
      ]
     },
     "metadata": {},
     "output_type": "display_data"
    },
    {
     "name": "stdout",
     "output_type": "stream",
     "text": [
      "D:/daps/daps/ipad_office1/segments\\m10\\segment_18.wav\n",
      "m10\n"
     ]
    },
    {
     "data": {
      "application/vnd.jupyter.widget-view+json": {
       "model_id": "92843b2a4503420b85ac48114f51a913",
       "version_major": 2,
       "version_minor": 0
      },
      "text/plain": [
       "Transcribing:   0%|          | 0/1 [00:00<?, ?it/s]"
      ]
     },
     "metadata": {},
     "output_type": "display_data"
    },
    {
     "name": "stdout",
     "output_type": "stream",
     "text": [
      "D:/daps/daps/ipad_office1/segments\\m10\\segment_19.wav\n",
      "m10\n"
     ]
    },
    {
     "data": {
      "application/vnd.jupyter.widget-view+json": {
       "model_id": "557717b737ae48908239cc6b78925636",
       "version_major": 2,
       "version_minor": 0
      },
      "text/plain": [
       "Transcribing:   0%|          | 0/1 [00:00<?, ?it/s]"
      ]
     },
     "metadata": {},
     "output_type": "display_data"
    },
    {
     "name": "stdout",
     "output_type": "stream",
     "text": [
      "D:/daps/daps/ipad_office1/segments\\m10\\segment_2.wav\n",
      "m10\n"
     ]
    },
    {
     "data": {
      "application/vnd.jupyter.widget-view+json": {
       "model_id": "caecfdcc697b466189f7d14005e9727e",
       "version_major": 2,
       "version_minor": 0
      },
      "text/plain": [
       "Transcribing:   0%|          | 0/1 [00:00<?, ?it/s]"
      ]
     },
     "metadata": {},
     "output_type": "display_data"
    },
    {
     "name": "stdout",
     "output_type": "stream",
     "text": [
      "D:/daps/daps/ipad_office1/segments\\m10\\segment_20.wav\n",
      "m10\n"
     ]
    },
    {
     "data": {
      "application/vnd.jupyter.widget-view+json": {
       "model_id": "5542660b31c64086918bfaa361e8223e",
       "version_major": 2,
       "version_minor": 0
      },
      "text/plain": [
       "Transcribing:   0%|          | 0/1 [00:00<?, ?it/s]"
      ]
     },
     "metadata": {},
     "output_type": "display_data"
    },
    {
     "name": "stdout",
     "output_type": "stream",
     "text": [
      "D:/daps/daps/ipad_office1/segments\\m10\\segment_21.wav\n",
      "m10\n"
     ]
    },
    {
     "data": {
      "application/vnd.jupyter.widget-view+json": {
       "model_id": "3207501ac9774c1faf20585e8817ee02",
       "version_major": 2,
       "version_minor": 0
      },
      "text/plain": [
       "Transcribing:   0%|          | 0/1 [00:00<?, ?it/s]"
      ]
     },
     "metadata": {},
     "output_type": "display_data"
    },
    {
     "name": "stdout",
     "output_type": "stream",
     "text": [
      "D:/daps/daps/ipad_office1/segments\\m10\\segment_22.wav\n",
      "m10\n"
     ]
    },
    {
     "data": {
      "application/vnd.jupyter.widget-view+json": {
       "model_id": "c4a76447933848d7a08d4118051fd835",
       "version_major": 2,
       "version_minor": 0
      },
      "text/plain": [
       "Transcribing:   0%|          | 0/1 [00:00<?, ?it/s]"
      ]
     },
     "metadata": {},
     "output_type": "display_data"
    },
    {
     "name": "stdout",
     "output_type": "stream",
     "text": [
      "D:/daps/daps/ipad_office1/segments\\m10\\segment_23.wav\n",
      "m10\n"
     ]
    },
    {
     "data": {
      "application/vnd.jupyter.widget-view+json": {
       "model_id": "283bed5ec53c4ce2b62715a5b3d96f36",
       "version_major": 2,
       "version_minor": 0
      },
      "text/plain": [
       "Transcribing:   0%|          | 0/1 [00:00<?, ?it/s]"
      ]
     },
     "metadata": {},
     "output_type": "display_data"
    },
    {
     "name": "stdout",
     "output_type": "stream",
     "text": [
      "D:/daps/daps/ipad_office1/segments\\m10\\segment_24.wav\n",
      "m10\n"
     ]
    },
    {
     "data": {
      "application/vnd.jupyter.widget-view+json": {
       "model_id": "da82ecfaa145418b92998f0daa97fba6",
       "version_major": 2,
       "version_minor": 0
      },
      "text/plain": [
       "Transcribing:   0%|          | 0/1 [00:00<?, ?it/s]"
      ]
     },
     "metadata": {},
     "output_type": "display_data"
    },
    {
     "name": "stdout",
     "output_type": "stream",
     "text": [
      "D:/daps/daps/ipad_office1/segments\\m10\\segment_25.wav\n",
      "m10\n"
     ]
    },
    {
     "data": {
      "application/vnd.jupyter.widget-view+json": {
       "model_id": "2b966bfa0a87484e94ba117755c9ee1e",
       "version_major": 2,
       "version_minor": 0
      },
      "text/plain": [
       "Transcribing:   0%|          | 0/1 [00:00<?, ?it/s]"
      ]
     },
     "metadata": {},
     "output_type": "display_data"
    },
    {
     "name": "stdout",
     "output_type": "stream",
     "text": [
      "D:/daps/daps/ipad_office1/segments\\m10\\segment_26.wav\n",
      "m10\n"
     ]
    },
    {
     "data": {
      "application/vnd.jupyter.widget-view+json": {
       "model_id": "d75888d3e6324b24a20ce0858098f009",
       "version_major": 2,
       "version_minor": 0
      },
      "text/plain": [
       "Transcribing:   0%|          | 0/1 [00:00<?, ?it/s]"
      ]
     },
     "metadata": {},
     "output_type": "display_data"
    },
    {
     "name": "stdout",
     "output_type": "stream",
     "text": [
      "D:/daps/daps/ipad_office1/segments\\m10\\segment_27.wav\n",
      "m10\n"
     ]
    },
    {
     "data": {
      "application/vnd.jupyter.widget-view+json": {
       "model_id": "019252328ba24e72863d42ccf11906ff",
       "version_major": 2,
       "version_minor": 0
      },
      "text/plain": [
       "Transcribing:   0%|          | 0/1 [00:00<?, ?it/s]"
      ]
     },
     "metadata": {},
     "output_type": "display_data"
    },
    {
     "name": "stdout",
     "output_type": "stream",
     "text": [
      "D:/daps/daps/ipad_office1/segments\\m10\\segment_28.wav\n",
      "m10\n"
     ]
    },
    {
     "data": {
      "application/vnd.jupyter.widget-view+json": {
       "model_id": "1284b82b884c4299a462f3d0ca8ab115",
       "version_major": 2,
       "version_minor": 0
      },
      "text/plain": [
       "Transcribing:   0%|          | 0/1 [00:00<?, ?it/s]"
      ]
     },
     "metadata": {},
     "output_type": "display_data"
    },
    {
     "name": "stdout",
     "output_type": "stream",
     "text": [
      "D:/daps/daps/ipad_office1/segments\\m10\\segment_29.wav\n",
      "m10\n"
     ]
    },
    {
     "data": {
      "application/vnd.jupyter.widget-view+json": {
       "model_id": "389e666e8e704697b3a8da9642349c44",
       "version_major": 2,
       "version_minor": 0
      },
      "text/plain": [
       "Transcribing:   0%|          | 0/1 [00:00<?, ?it/s]"
      ]
     },
     "metadata": {},
     "output_type": "display_data"
    },
    {
     "name": "stdout",
     "output_type": "stream",
     "text": [
      "D:/daps/daps/ipad_office1/segments\\m10\\segment_3.wav\n",
      "m10\n"
     ]
    },
    {
     "data": {
      "application/vnd.jupyter.widget-view+json": {
       "model_id": "0005b37cfe86468cbe0b4a09b1ce107d",
       "version_major": 2,
       "version_minor": 0
      },
      "text/plain": [
       "Transcribing:   0%|          | 0/1 [00:00<?, ?it/s]"
      ]
     },
     "metadata": {},
     "output_type": "display_data"
    },
    {
     "name": "stdout",
     "output_type": "stream",
     "text": [
      "D:/daps/daps/ipad_office1/segments\\m10\\segment_30.wav\n",
      "m10\n"
     ]
    },
    {
     "data": {
      "application/vnd.jupyter.widget-view+json": {
       "model_id": "a159236cde254896afc004681cbbfe26",
       "version_major": 2,
       "version_minor": 0
      },
      "text/plain": [
       "Transcribing:   0%|          | 0/1 [00:00<?, ?it/s]"
      ]
     },
     "metadata": {},
     "output_type": "display_data"
    },
    {
     "name": "stdout",
     "output_type": "stream",
     "text": [
      "D:/daps/daps/ipad_office1/segments\\m10\\segment_31.wav\n",
      "m10\n"
     ]
    },
    {
     "data": {
      "application/vnd.jupyter.widget-view+json": {
       "model_id": "5b180faac5434d828cf51941ef5bc9d0",
       "version_major": 2,
       "version_minor": 0
      },
      "text/plain": [
       "Transcribing:   0%|          | 0/1 [00:00<?, ?it/s]"
      ]
     },
     "metadata": {},
     "output_type": "display_data"
    },
    {
     "name": "stdout",
     "output_type": "stream",
     "text": [
      "D:/daps/daps/ipad_office1/segments\\m10\\segment_32.wav\n",
      "m10\n"
     ]
    },
    {
     "data": {
      "application/vnd.jupyter.widget-view+json": {
       "model_id": "273e90336ee143e798db86e943631b55",
       "version_major": 2,
       "version_minor": 0
      },
      "text/plain": [
       "Transcribing:   0%|          | 0/1 [00:00<?, ?it/s]"
      ]
     },
     "metadata": {},
     "output_type": "display_data"
    },
    {
     "name": "stdout",
     "output_type": "stream",
     "text": [
      "D:/daps/daps/ipad_office1/segments\\m10\\segment_33.wav\n",
      "m10\n"
     ]
    },
    {
     "data": {
      "application/vnd.jupyter.widget-view+json": {
       "model_id": "9665894f9d614f0e92369ec003898dbe",
       "version_major": 2,
       "version_minor": 0
      },
      "text/plain": [
       "Transcribing:   0%|          | 0/1 [00:00<?, ?it/s]"
      ]
     },
     "metadata": {},
     "output_type": "display_data"
    },
    {
     "name": "stdout",
     "output_type": "stream",
     "text": [
      "D:/daps/daps/ipad_office1/segments\\m10\\segment_34.wav\n",
      "m10\n"
     ]
    },
    {
     "data": {
      "application/vnd.jupyter.widget-view+json": {
       "model_id": "8518fd6a7a494ea09b01f3b575629546",
       "version_major": 2,
       "version_minor": 0
      },
      "text/plain": [
       "Transcribing:   0%|          | 0/1 [00:00<?, ?it/s]"
      ]
     },
     "metadata": {},
     "output_type": "display_data"
    },
    {
     "name": "stdout",
     "output_type": "stream",
     "text": [
      "D:/daps/daps/ipad_office1/segments\\m10\\segment_35.wav\n",
      "m10\n"
     ]
    },
    {
     "data": {
      "application/vnd.jupyter.widget-view+json": {
       "model_id": "d6ebc5ec87374f17b2b47640b5d38633",
       "version_major": 2,
       "version_minor": 0
      },
      "text/plain": [
       "Transcribing:   0%|          | 0/1 [00:00<?, ?it/s]"
      ]
     },
     "metadata": {},
     "output_type": "display_data"
    },
    {
     "name": "stdout",
     "output_type": "stream",
     "text": [
      "D:/daps/daps/ipad_office1/segments\\m10\\segment_36.wav\n",
      "m10\n"
     ]
    },
    {
     "data": {
      "application/vnd.jupyter.widget-view+json": {
       "model_id": "107c9437d29548dea34c254fcf7de511",
       "version_major": 2,
       "version_minor": 0
      },
      "text/plain": [
       "Transcribing:   0%|          | 0/1 [00:00<?, ?it/s]"
      ]
     },
     "metadata": {},
     "output_type": "display_data"
    },
    {
     "name": "stdout",
     "output_type": "stream",
     "text": [
      "D:/daps/daps/ipad_office1/segments\\m10\\segment_37.wav\n",
      "m10\n"
     ]
    },
    {
     "data": {
      "application/vnd.jupyter.widget-view+json": {
       "model_id": "06b62ca359d845b3b172479cd207620d",
       "version_major": 2,
       "version_minor": 0
      },
      "text/plain": [
       "Transcribing:   0%|          | 0/1 [00:00<?, ?it/s]"
      ]
     },
     "metadata": {},
     "output_type": "display_data"
    },
    {
     "name": "stdout",
     "output_type": "stream",
     "text": [
      "D:/daps/daps/ipad_office1/segments\\m10\\segment_38.wav\n",
      "m10\n"
     ]
    },
    {
     "data": {
      "application/vnd.jupyter.widget-view+json": {
       "model_id": "d6429ee16f424f8a83bcbad671ba6e04",
       "version_major": 2,
       "version_minor": 0
      },
      "text/plain": [
       "Transcribing:   0%|          | 0/1 [00:00<?, ?it/s]"
      ]
     },
     "metadata": {},
     "output_type": "display_data"
    },
    {
     "name": "stdout",
     "output_type": "stream",
     "text": [
      "D:/daps/daps/ipad_office1/segments\\m10\\segment_39.wav\n",
      "m10\n"
     ]
    },
    {
     "data": {
      "application/vnd.jupyter.widget-view+json": {
       "model_id": "524033f82e6743919cfb5a3c470a0215",
       "version_major": 2,
       "version_minor": 0
      },
      "text/plain": [
       "Transcribing:   0%|          | 0/1 [00:00<?, ?it/s]"
      ]
     },
     "metadata": {},
     "output_type": "display_data"
    },
    {
     "name": "stdout",
     "output_type": "stream",
     "text": [
      "D:/daps/daps/ipad_office1/segments\\m10\\segment_4.wav\n",
      "m10\n"
     ]
    },
    {
     "data": {
      "application/vnd.jupyter.widget-view+json": {
       "model_id": "cbb37d46000a48f4be10655aa64cb38b",
       "version_major": 2,
       "version_minor": 0
      },
      "text/plain": [
       "Transcribing:   0%|          | 0/1 [00:00<?, ?it/s]"
      ]
     },
     "metadata": {},
     "output_type": "display_data"
    },
    {
     "name": "stdout",
     "output_type": "stream",
     "text": [
      "D:/daps/daps/ipad_office1/segments\\m10\\segment_40.wav\n",
      "m10\n"
     ]
    },
    {
     "data": {
      "application/vnd.jupyter.widget-view+json": {
       "model_id": "b5257f6c32ba4ca8a1b2b1fdacbc2885",
       "version_major": 2,
       "version_minor": 0
      },
      "text/plain": [
       "Transcribing:   0%|          | 0/1 [00:00<?, ?it/s]"
      ]
     },
     "metadata": {},
     "output_type": "display_data"
    },
    {
     "name": "stdout",
     "output_type": "stream",
     "text": [
      "D:/daps/daps/ipad_office1/segments\\m10\\segment_41.wav\n",
      "m10\n"
     ]
    },
    {
     "data": {
      "application/vnd.jupyter.widget-view+json": {
       "model_id": "fcb29d3bc25a403e8261d3181b128588",
       "version_major": 2,
       "version_minor": 0
      },
      "text/plain": [
       "Transcribing:   0%|          | 0/1 [00:00<?, ?it/s]"
      ]
     },
     "metadata": {},
     "output_type": "display_data"
    },
    {
     "name": "stdout",
     "output_type": "stream",
     "text": [
      "D:/daps/daps/ipad_office1/segments\\m10\\segment_42.wav\n",
      "m10\n"
     ]
    },
    {
     "data": {
      "application/vnd.jupyter.widget-view+json": {
       "model_id": "6dc6de828cbd4c92a972b3526c6393ff",
       "version_major": 2,
       "version_minor": 0
      },
      "text/plain": [
       "Transcribing:   0%|          | 0/1 [00:00<?, ?it/s]"
      ]
     },
     "metadata": {},
     "output_type": "display_data"
    },
    {
     "name": "stdout",
     "output_type": "stream",
     "text": [
      "D:/daps/daps/ipad_office1/segments\\m10\\segment_43.wav\n",
      "m10\n"
     ]
    },
    {
     "data": {
      "application/vnd.jupyter.widget-view+json": {
       "model_id": "0bc45e94ce9d4586ae1f0423d9510ed9",
       "version_major": 2,
       "version_minor": 0
      },
      "text/plain": [
       "Transcribing:   0%|          | 0/1 [00:00<?, ?it/s]"
      ]
     },
     "metadata": {},
     "output_type": "display_data"
    },
    {
     "name": "stdout",
     "output_type": "stream",
     "text": [
      "D:/daps/daps/ipad_office1/segments\\m10\\segment_44.wav\n",
      "m10\n"
     ]
    },
    {
     "data": {
      "application/vnd.jupyter.widget-view+json": {
       "model_id": "ec0fafc793ff4654be9df375bf6ee0a2",
       "version_major": 2,
       "version_minor": 0
      },
      "text/plain": [
       "Transcribing:   0%|          | 0/1 [00:00<?, ?it/s]"
      ]
     },
     "metadata": {},
     "output_type": "display_data"
    },
    {
     "name": "stdout",
     "output_type": "stream",
     "text": [
      "D:/daps/daps/ipad_office1/segments\\m10\\segment_45.wav\n",
      "m10\n"
     ]
    },
    {
     "data": {
      "application/vnd.jupyter.widget-view+json": {
       "model_id": "d08c37c1623d439dabdd77873cfe09fd",
       "version_major": 2,
       "version_minor": 0
      },
      "text/plain": [
       "Transcribing:   0%|          | 0/1 [00:00<?, ?it/s]"
      ]
     },
     "metadata": {},
     "output_type": "display_data"
    },
    {
     "name": "stdout",
     "output_type": "stream",
     "text": [
      "D:/daps/daps/ipad_office1/segments\\m10\\segment_46.wav\n",
      "m10\n"
     ]
    },
    {
     "data": {
      "application/vnd.jupyter.widget-view+json": {
       "model_id": "cc715d19e10c4865add2f2f7f389c8fb",
       "version_major": 2,
       "version_minor": 0
      },
      "text/plain": [
       "Transcribing:   0%|          | 0/1 [00:00<?, ?it/s]"
      ]
     },
     "metadata": {},
     "output_type": "display_data"
    },
    {
     "name": "stdout",
     "output_type": "stream",
     "text": [
      "D:/daps/daps/ipad_office1/segments\\m10\\segment_47.wav\n",
      "m10\n"
     ]
    },
    {
     "data": {
      "application/vnd.jupyter.widget-view+json": {
       "model_id": "85f296f00eef4d6b8b5b0902c01d0019",
       "version_major": 2,
       "version_minor": 0
      },
      "text/plain": [
       "Transcribing:   0%|          | 0/1 [00:00<?, ?it/s]"
      ]
     },
     "metadata": {},
     "output_type": "display_data"
    },
    {
     "name": "stdout",
     "output_type": "stream",
     "text": [
      "D:/daps/daps/ipad_office1/segments\\m10\\segment_48.wav\n",
      "m10\n"
     ]
    },
    {
     "data": {
      "application/vnd.jupyter.widget-view+json": {
       "model_id": "3977475b573c4cb7bf101247a5c1f9b2",
       "version_major": 2,
       "version_minor": 0
      },
      "text/plain": [
       "Transcribing:   0%|          | 0/1 [00:00<?, ?it/s]"
      ]
     },
     "metadata": {},
     "output_type": "display_data"
    },
    {
     "name": "stdout",
     "output_type": "stream",
     "text": [
      "D:/daps/daps/ipad_office1/segments\\m10\\segment_49.wav\n",
      "m10\n"
     ]
    },
    {
     "data": {
      "application/vnd.jupyter.widget-view+json": {
       "model_id": "020baf8689d4480ca661e149bb8d8f03",
       "version_major": 2,
       "version_minor": 0
      },
      "text/plain": [
       "Transcribing:   0%|          | 0/1 [00:00<?, ?it/s]"
      ]
     },
     "metadata": {},
     "output_type": "display_data"
    },
    {
     "name": "stdout",
     "output_type": "stream",
     "text": [
      "D:/daps/daps/ipad_office1/segments\\m10\\segment_5.wav\n",
      "m10\n"
     ]
    },
    {
     "data": {
      "application/vnd.jupyter.widget-view+json": {
       "model_id": "5c44668de3824527b9eae961921653bd",
       "version_major": 2,
       "version_minor": 0
      },
      "text/plain": [
       "Transcribing:   0%|          | 0/1 [00:00<?, ?it/s]"
      ]
     },
     "metadata": {},
     "output_type": "display_data"
    },
    {
     "name": "stdout",
     "output_type": "stream",
     "text": [
      "D:/daps/daps/ipad_office1/segments\\m10\\segment_50.wav\n",
      "m10\n"
     ]
    },
    {
     "data": {
      "application/vnd.jupyter.widget-view+json": {
       "model_id": "d12d171163a4462ca43651179da72a20",
       "version_major": 2,
       "version_minor": 0
      },
      "text/plain": [
       "Transcribing:   0%|          | 0/1 [00:00<?, ?it/s]"
      ]
     },
     "metadata": {},
     "output_type": "display_data"
    },
    {
     "name": "stdout",
     "output_type": "stream",
     "text": [
      "D:/daps/daps/ipad_office1/segments\\m10\\segment_51.wav\n",
      "m10\n"
     ]
    },
    {
     "data": {
      "application/vnd.jupyter.widget-view+json": {
       "model_id": "c3c642d557944daf909319d351ac026e",
       "version_major": 2,
       "version_minor": 0
      },
      "text/plain": [
       "Transcribing:   0%|          | 0/1 [00:00<?, ?it/s]"
      ]
     },
     "metadata": {},
     "output_type": "display_data"
    },
    {
     "name": "stdout",
     "output_type": "stream",
     "text": [
      "D:/daps/daps/ipad_office1/segments\\m10\\segment_52.wav\n",
      "m10\n"
     ]
    },
    {
     "data": {
      "application/vnd.jupyter.widget-view+json": {
       "model_id": "209a0339d4f845938d374a23cef66427",
       "version_major": 2,
       "version_minor": 0
      },
      "text/plain": [
       "Transcribing:   0%|          | 0/1 [00:00<?, ?it/s]"
      ]
     },
     "metadata": {},
     "output_type": "display_data"
    },
    {
     "name": "stdout",
     "output_type": "stream",
     "text": [
      "D:/daps/daps/ipad_office1/segments\\m10\\segment_53.wav\n",
      "m10\n"
     ]
    },
    {
     "data": {
      "application/vnd.jupyter.widget-view+json": {
       "model_id": "63a523c96a7c4f368442e992da568c2e",
       "version_major": 2,
       "version_minor": 0
      },
      "text/plain": [
       "Transcribing:   0%|          | 0/1 [00:00<?, ?it/s]"
      ]
     },
     "metadata": {},
     "output_type": "display_data"
    },
    {
     "name": "stdout",
     "output_type": "stream",
     "text": [
      "D:/daps/daps/ipad_office1/segments\\m10\\segment_54.wav\n",
      "m10\n"
     ]
    },
    {
     "data": {
      "application/vnd.jupyter.widget-view+json": {
       "model_id": "72f7ee08900e4606a0cea0518574df4d",
       "version_major": 2,
       "version_minor": 0
      },
      "text/plain": [
       "Transcribing:   0%|          | 0/1 [00:00<?, ?it/s]"
      ]
     },
     "metadata": {},
     "output_type": "display_data"
    },
    {
     "name": "stdout",
     "output_type": "stream",
     "text": [
      "D:/daps/daps/ipad_office1/segments\\m10\\segment_55.wav\n",
      "m10\n"
     ]
    },
    {
     "data": {
      "application/vnd.jupyter.widget-view+json": {
       "model_id": "4181dd9208364582bef9244af623e78e",
       "version_major": 2,
       "version_minor": 0
      },
      "text/plain": [
       "Transcribing:   0%|          | 0/1 [00:00<?, ?it/s]"
      ]
     },
     "metadata": {},
     "output_type": "display_data"
    },
    {
     "name": "stdout",
     "output_type": "stream",
     "text": [
      "D:/daps/daps/ipad_office1/segments\\m10\\segment_56.wav\n",
      "m10\n"
     ]
    },
    {
     "data": {
      "application/vnd.jupyter.widget-view+json": {
       "model_id": "c4fbd8c4fb704eec90a8b37bb8ce517f",
       "version_major": 2,
       "version_minor": 0
      },
      "text/plain": [
       "Transcribing:   0%|          | 0/1 [00:00<?, ?it/s]"
      ]
     },
     "metadata": {},
     "output_type": "display_data"
    },
    {
     "name": "stdout",
     "output_type": "stream",
     "text": [
      "D:/daps/daps/ipad_office1/segments\\m10\\segment_57.wav\n",
      "m10\n"
     ]
    },
    {
     "data": {
      "application/vnd.jupyter.widget-view+json": {
       "model_id": "3d5b282a3ced41e0b710e16dcac679a9",
       "version_major": 2,
       "version_minor": 0
      },
      "text/plain": [
       "Transcribing:   0%|          | 0/1 [00:00<?, ?it/s]"
      ]
     },
     "metadata": {},
     "output_type": "display_data"
    },
    {
     "name": "stdout",
     "output_type": "stream",
     "text": [
      "D:/daps/daps/ipad_office1/segments\\m10\\segment_58.wav\n",
      "m10\n"
     ]
    },
    {
     "data": {
      "application/vnd.jupyter.widget-view+json": {
       "model_id": "e8d490462a584189aaa6d9972a2ab75c",
       "version_major": 2,
       "version_minor": 0
      },
      "text/plain": [
       "Transcribing:   0%|          | 0/1 [00:00<?, ?it/s]"
      ]
     },
     "metadata": {},
     "output_type": "display_data"
    },
    {
     "name": "stdout",
     "output_type": "stream",
     "text": [
      "D:/daps/daps/ipad_office1/segments\\m10\\segment_6.wav\n",
      "m10\n"
     ]
    },
    {
     "data": {
      "application/vnd.jupyter.widget-view+json": {
       "model_id": "d0e5edf9d51c4d638dc1af6e001e69d4",
       "version_major": 2,
       "version_minor": 0
      },
      "text/plain": [
       "Transcribing:   0%|          | 0/1 [00:00<?, ?it/s]"
      ]
     },
     "metadata": {},
     "output_type": "display_data"
    },
    {
     "name": "stdout",
     "output_type": "stream",
     "text": [
      "D:/daps/daps/ipad_office1/segments\\m10\\segment_7.wav\n",
      "m10\n"
     ]
    },
    {
     "data": {
      "application/vnd.jupyter.widget-view+json": {
       "model_id": "f4588aaca0e54790b2a6383920fb7436",
       "version_major": 2,
       "version_minor": 0
      },
      "text/plain": [
       "Transcribing:   0%|          | 0/1 [00:00<?, ?it/s]"
      ]
     },
     "metadata": {},
     "output_type": "display_data"
    },
    {
     "name": "stdout",
     "output_type": "stream",
     "text": [
      "D:/daps/daps/ipad_office1/segments\\m10\\segment_8.wav\n",
      "m10\n"
     ]
    },
    {
     "data": {
      "application/vnd.jupyter.widget-view+json": {
       "model_id": "01d26f85d0f545b68d8323054acfe938",
       "version_major": 2,
       "version_minor": 0
      },
      "text/plain": [
       "Transcribing:   0%|          | 0/1 [00:00<?, ?it/s]"
      ]
     },
     "metadata": {},
     "output_type": "display_data"
    },
    {
     "name": "stdout",
     "output_type": "stream",
     "text": [
      "D:/daps/daps/ipad_office1/segments\\m10\\segment_9.wav\n",
      "m10\n"
     ]
    },
    {
     "data": {
      "application/vnd.jupyter.widget-view+json": {
       "model_id": "41089738788a47ce9909098d73a4335d",
       "version_major": 2,
       "version_minor": 0
      },
      "text/plain": [
       "Transcribing:   0%|          | 0/1 [00:00<?, ?it/s]"
      ]
     },
     "metadata": {},
     "output_type": "display_data"
    },
    {
     "name": "stdout",
     "output_type": "stream",
     "text": [
      "D:/daps/daps/ipad_office1/segments\\m2\\segment_0.wav\n",
      "m2\n"
     ]
    },
    {
     "data": {
      "application/vnd.jupyter.widget-view+json": {
       "model_id": "4be346fc3dec47629c46d63fd9c6da0d",
       "version_major": 2,
       "version_minor": 0
      },
      "text/plain": [
       "Transcribing:   0%|          | 0/1 [00:00<?, ?it/s]"
      ]
     },
     "metadata": {},
     "output_type": "display_data"
    },
    {
     "name": "stdout",
     "output_type": "stream",
     "text": [
      "D:/daps/daps/ipad_office1/segments\\m2\\segment_1.wav\n",
      "m2\n"
     ]
    },
    {
     "data": {
      "application/vnd.jupyter.widget-view+json": {
       "model_id": "129699a196bb41c0b80015c7becea4b1",
       "version_major": 2,
       "version_minor": 0
      },
      "text/plain": [
       "Transcribing:   0%|          | 0/1 [00:00<?, ?it/s]"
      ]
     },
     "metadata": {},
     "output_type": "display_data"
    },
    {
     "name": "stdout",
     "output_type": "stream",
     "text": [
      "D:/daps/daps/ipad_office1/segments\\m2\\segment_10.wav\n",
      "m2\n"
     ]
    },
    {
     "data": {
      "application/vnd.jupyter.widget-view+json": {
       "model_id": "59fc0ba050104f16a082a00590689f25",
       "version_major": 2,
       "version_minor": 0
      },
      "text/plain": [
       "Transcribing:   0%|          | 0/1 [00:00<?, ?it/s]"
      ]
     },
     "metadata": {},
     "output_type": "display_data"
    },
    {
     "name": "stdout",
     "output_type": "stream",
     "text": [
      "D:/daps/daps/ipad_office1/segments\\m2\\segment_11.wav\n",
      "m2\n"
     ]
    },
    {
     "data": {
      "application/vnd.jupyter.widget-view+json": {
       "model_id": "253b2b22f58243e4bb79c5ac6ac607c0",
       "version_major": 2,
       "version_minor": 0
      },
      "text/plain": [
       "Transcribing:   0%|          | 0/1 [00:00<?, ?it/s]"
      ]
     },
     "metadata": {},
     "output_type": "display_data"
    },
    {
     "name": "stdout",
     "output_type": "stream",
     "text": [
      "D:/daps/daps/ipad_office1/segments\\m2\\segment_12.wav\n",
      "m2\n"
     ]
    },
    {
     "data": {
      "application/vnd.jupyter.widget-view+json": {
       "model_id": "c32c002c1d9146d694f71b3e2e82c81b",
       "version_major": 2,
       "version_minor": 0
      },
      "text/plain": [
       "Transcribing:   0%|          | 0/1 [00:00<?, ?it/s]"
      ]
     },
     "metadata": {},
     "output_type": "display_data"
    },
    {
     "name": "stdout",
     "output_type": "stream",
     "text": [
      "D:/daps/daps/ipad_office1/segments\\m2\\segment_13.wav\n",
      "m2\n"
     ]
    },
    {
     "data": {
      "application/vnd.jupyter.widget-view+json": {
       "model_id": "4782fa12977746afadd5f2f36fa5fafa",
       "version_major": 2,
       "version_minor": 0
      },
      "text/plain": [
       "Transcribing:   0%|          | 0/1 [00:00<?, ?it/s]"
      ]
     },
     "metadata": {},
     "output_type": "display_data"
    },
    {
     "name": "stdout",
     "output_type": "stream",
     "text": [
      "D:/daps/daps/ipad_office1/segments\\m2\\segment_14.wav\n",
      "m2\n"
     ]
    },
    {
     "data": {
      "application/vnd.jupyter.widget-view+json": {
       "model_id": "0fd1942b66d04f23b27d9a854352f603",
       "version_major": 2,
       "version_minor": 0
      },
      "text/plain": [
       "Transcribing:   0%|          | 0/1 [00:00<?, ?it/s]"
      ]
     },
     "metadata": {},
     "output_type": "display_data"
    },
    {
     "name": "stdout",
     "output_type": "stream",
     "text": [
      "D:/daps/daps/ipad_office1/segments\\m2\\segment_15.wav\n",
      "m2\n"
     ]
    },
    {
     "data": {
      "application/vnd.jupyter.widget-view+json": {
       "model_id": "fdcebc3cecb44d2e9e87a6d42a373a10",
       "version_major": 2,
       "version_minor": 0
      },
      "text/plain": [
       "Transcribing:   0%|          | 0/1 [00:00<?, ?it/s]"
      ]
     },
     "metadata": {},
     "output_type": "display_data"
    },
    {
     "name": "stdout",
     "output_type": "stream",
     "text": [
      "D:/daps/daps/ipad_office1/segments\\m2\\segment_16.wav\n",
      "m2\n"
     ]
    },
    {
     "data": {
      "application/vnd.jupyter.widget-view+json": {
       "model_id": "2e3ad02529c847218afef81567ee159c",
       "version_major": 2,
       "version_minor": 0
      },
      "text/plain": [
       "Transcribing:   0%|          | 0/1 [00:00<?, ?it/s]"
      ]
     },
     "metadata": {},
     "output_type": "display_data"
    },
    {
     "name": "stdout",
     "output_type": "stream",
     "text": [
      "D:/daps/daps/ipad_office1/segments\\m2\\segment_17.wav\n",
      "m2\n"
     ]
    },
    {
     "data": {
      "application/vnd.jupyter.widget-view+json": {
       "model_id": "d3627b7fb18a469a864488b17c8dd28b",
       "version_major": 2,
       "version_minor": 0
      },
      "text/plain": [
       "Transcribing:   0%|          | 0/1 [00:00<?, ?it/s]"
      ]
     },
     "metadata": {},
     "output_type": "display_data"
    },
    {
     "name": "stdout",
     "output_type": "stream",
     "text": [
      "D:/daps/daps/ipad_office1/segments\\m2\\segment_18.wav\n",
      "m2\n"
     ]
    },
    {
     "data": {
      "application/vnd.jupyter.widget-view+json": {
       "model_id": "7f2181eda0364ee1b87f042fa6a2f326",
       "version_major": 2,
       "version_minor": 0
      },
      "text/plain": [
       "Transcribing:   0%|          | 0/1 [00:00<?, ?it/s]"
      ]
     },
     "metadata": {},
     "output_type": "display_data"
    },
    {
     "name": "stdout",
     "output_type": "stream",
     "text": [
      "D:/daps/daps/ipad_office1/segments\\m2\\segment_19.wav\n",
      "m2\n"
     ]
    },
    {
     "data": {
      "application/vnd.jupyter.widget-view+json": {
       "model_id": "92fb5824ee9b4d69a15bf2400b371582",
       "version_major": 2,
       "version_minor": 0
      },
      "text/plain": [
       "Transcribing:   0%|          | 0/1 [00:00<?, ?it/s]"
      ]
     },
     "metadata": {},
     "output_type": "display_data"
    },
    {
     "name": "stdout",
     "output_type": "stream",
     "text": [
      "D:/daps/daps/ipad_office1/segments\\m2\\segment_2.wav\n",
      "m2\n"
     ]
    },
    {
     "data": {
      "application/vnd.jupyter.widget-view+json": {
       "model_id": "40bc560d86d741ba96066fac6d55031f",
       "version_major": 2,
       "version_minor": 0
      },
      "text/plain": [
       "Transcribing:   0%|          | 0/1 [00:00<?, ?it/s]"
      ]
     },
     "metadata": {},
     "output_type": "display_data"
    },
    {
     "name": "stdout",
     "output_type": "stream",
     "text": [
      "D:/daps/daps/ipad_office1/segments\\m2\\segment_20.wav\n",
      "m2\n"
     ]
    },
    {
     "data": {
      "application/vnd.jupyter.widget-view+json": {
       "model_id": "c440f0316d24409cb1becd546080489b",
       "version_major": 2,
       "version_minor": 0
      },
      "text/plain": [
       "Transcribing:   0%|          | 0/1 [00:00<?, ?it/s]"
      ]
     },
     "metadata": {},
     "output_type": "display_data"
    },
    {
     "name": "stdout",
     "output_type": "stream",
     "text": [
      "D:/daps/daps/ipad_office1/segments\\m2\\segment_21.wav\n",
      "m2\n"
     ]
    },
    {
     "data": {
      "application/vnd.jupyter.widget-view+json": {
       "model_id": "fcf80950d390450daf0960da2b1e2327",
       "version_major": 2,
       "version_minor": 0
      },
      "text/plain": [
       "Transcribing:   0%|          | 0/1 [00:00<?, ?it/s]"
      ]
     },
     "metadata": {},
     "output_type": "display_data"
    },
    {
     "name": "stdout",
     "output_type": "stream",
     "text": [
      "D:/daps/daps/ipad_office1/segments\\m2\\segment_22.wav\n",
      "m2\n"
     ]
    },
    {
     "data": {
      "application/vnd.jupyter.widget-view+json": {
       "model_id": "48422c9388174830b6f41bd17549e270",
       "version_major": 2,
       "version_minor": 0
      },
      "text/plain": [
       "Transcribing:   0%|          | 0/1 [00:00<?, ?it/s]"
      ]
     },
     "metadata": {},
     "output_type": "display_data"
    },
    {
     "name": "stdout",
     "output_type": "stream",
     "text": [
      "D:/daps/daps/ipad_office1/segments\\m2\\segment_3.wav\n",
      "m2\n"
     ]
    },
    {
     "data": {
      "application/vnd.jupyter.widget-view+json": {
       "model_id": "4a07f53b4c9544758b739c3b898dae65",
       "version_major": 2,
       "version_minor": 0
      },
      "text/plain": [
       "Transcribing:   0%|          | 0/1 [00:00<?, ?it/s]"
      ]
     },
     "metadata": {},
     "output_type": "display_data"
    },
    {
     "name": "stdout",
     "output_type": "stream",
     "text": [
      "D:/daps/daps/ipad_office1/segments\\m2\\segment_4.wav\n",
      "m2\n"
     ]
    },
    {
     "data": {
      "application/vnd.jupyter.widget-view+json": {
       "model_id": "9a930f1b3a9b419a92f1421652824956",
       "version_major": 2,
       "version_minor": 0
      },
      "text/plain": [
       "Transcribing:   0%|          | 0/1 [00:00<?, ?it/s]"
      ]
     },
     "metadata": {},
     "output_type": "display_data"
    },
    {
     "name": "stdout",
     "output_type": "stream",
     "text": [
      "D:/daps/daps/ipad_office1/segments\\m2\\segment_5.wav\n",
      "m2\n"
     ]
    },
    {
     "data": {
      "application/vnd.jupyter.widget-view+json": {
       "model_id": "75e15e7d8e094d5183e474d41db3b10e",
       "version_major": 2,
       "version_minor": 0
      },
      "text/plain": [
       "Transcribing:   0%|          | 0/1 [00:00<?, ?it/s]"
      ]
     },
     "metadata": {},
     "output_type": "display_data"
    },
    {
     "name": "stdout",
     "output_type": "stream",
     "text": [
      "D:/daps/daps/ipad_office1/segments\\m2\\segment_6.wav\n",
      "m2\n"
     ]
    },
    {
     "data": {
      "application/vnd.jupyter.widget-view+json": {
       "model_id": "91bc91c54eba4491bc4c61d69f188964",
       "version_major": 2,
       "version_minor": 0
      },
      "text/plain": [
       "Transcribing:   0%|          | 0/1 [00:00<?, ?it/s]"
      ]
     },
     "metadata": {},
     "output_type": "display_data"
    },
    {
     "name": "stdout",
     "output_type": "stream",
     "text": [
      "D:/daps/daps/ipad_office1/segments\\m2\\segment_7.wav\n",
      "m2\n"
     ]
    },
    {
     "data": {
      "application/vnd.jupyter.widget-view+json": {
       "model_id": "b5d9f0b9d9f7417c82cd1f9d829f8088",
       "version_major": 2,
       "version_minor": 0
      },
      "text/plain": [
       "Transcribing:   0%|          | 0/1 [00:00<?, ?it/s]"
      ]
     },
     "metadata": {},
     "output_type": "display_data"
    },
    {
     "name": "stdout",
     "output_type": "stream",
     "text": [
      "D:/daps/daps/ipad_office1/segments\\m2\\segment_8.wav\n",
      "m2\n"
     ]
    },
    {
     "data": {
      "application/vnd.jupyter.widget-view+json": {
       "model_id": "ac0d19f7a9ca4db0906549facb8b1b97",
       "version_major": 2,
       "version_minor": 0
      },
      "text/plain": [
       "Transcribing:   0%|          | 0/1 [00:00<?, ?it/s]"
      ]
     },
     "metadata": {},
     "output_type": "display_data"
    },
    {
     "name": "stdout",
     "output_type": "stream",
     "text": [
      "D:/daps/daps/ipad_office1/segments\\m2\\segment_9.wav\n",
      "m2\n"
     ]
    },
    {
     "data": {
      "application/vnd.jupyter.widget-view+json": {
       "model_id": "fbc695eb84b44bb4ba1d9c31148e0d7c",
       "version_major": 2,
       "version_minor": 0
      },
      "text/plain": [
       "Transcribing:   0%|          | 0/1 [00:00<?, ?it/s]"
      ]
     },
     "metadata": {},
     "output_type": "display_data"
    },
    {
     "name": "stdout",
     "output_type": "stream",
     "text": [
      "D:/daps/daps/ipad_office1/segments\\m3\\segment_0.wav\n",
      "m3\n"
     ]
    },
    {
     "data": {
      "application/vnd.jupyter.widget-view+json": {
       "model_id": "8072357b92e047a99735feae579af0f1",
       "version_major": 2,
       "version_minor": 0
      },
      "text/plain": [
       "Transcribing:   0%|          | 0/1 [00:00<?, ?it/s]"
      ]
     },
     "metadata": {},
     "output_type": "display_data"
    },
    {
     "name": "stdout",
     "output_type": "stream",
     "text": [
      "D:/daps/daps/ipad_office1/segments\\m3\\segment_1.wav\n",
      "m3\n"
     ]
    },
    {
     "data": {
      "application/vnd.jupyter.widget-view+json": {
       "model_id": "209ba844beeb4f5a8eaa264b6809a1ea",
       "version_major": 2,
       "version_minor": 0
      },
      "text/plain": [
       "Transcribing:   0%|          | 0/1 [00:00<?, ?it/s]"
      ]
     },
     "metadata": {},
     "output_type": "display_data"
    },
    {
     "name": "stdout",
     "output_type": "stream",
     "text": [
      "D:/daps/daps/ipad_office1/segments\\m3\\segment_10.wav\n",
      "m3\n"
     ]
    },
    {
     "data": {
      "application/vnd.jupyter.widget-view+json": {
       "model_id": "3fe075821bc145588dcbb92b615c6e8f",
       "version_major": 2,
       "version_minor": 0
      },
      "text/plain": [
       "Transcribing:   0%|          | 0/1 [00:00<?, ?it/s]"
      ]
     },
     "metadata": {},
     "output_type": "display_data"
    },
    {
     "name": "stdout",
     "output_type": "stream",
     "text": [
      "D:/daps/daps/ipad_office1/segments\\m3\\segment_11.wav\n",
      "m3\n"
     ]
    },
    {
     "data": {
      "application/vnd.jupyter.widget-view+json": {
       "model_id": "ec3cfa2f4b634971bf4dd7b3f69d0a05",
       "version_major": 2,
       "version_minor": 0
      },
      "text/plain": [
       "Transcribing:   0%|          | 0/1 [00:00<?, ?it/s]"
      ]
     },
     "metadata": {},
     "output_type": "display_data"
    },
    {
     "name": "stdout",
     "output_type": "stream",
     "text": [
      "D:/daps/daps/ipad_office1/segments\\m3\\segment_12.wav\n",
      "m3\n"
     ]
    },
    {
     "data": {
      "application/vnd.jupyter.widget-view+json": {
       "model_id": "1c51dd4b4a8e4e018e2123faab455442",
       "version_major": 2,
       "version_minor": 0
      },
      "text/plain": [
       "Transcribing:   0%|          | 0/1 [00:00<?, ?it/s]"
      ]
     },
     "metadata": {},
     "output_type": "display_data"
    },
    {
     "name": "stdout",
     "output_type": "stream",
     "text": [
      "D:/daps/daps/ipad_office1/segments\\m3\\segment_13.wav\n",
      "m3\n"
     ]
    },
    {
     "data": {
      "application/vnd.jupyter.widget-view+json": {
       "model_id": "5cb118d589dd49f6bcec7e3a5c10630b",
       "version_major": 2,
       "version_minor": 0
      },
      "text/plain": [
       "Transcribing:   0%|          | 0/1 [00:00<?, ?it/s]"
      ]
     },
     "metadata": {},
     "output_type": "display_data"
    },
    {
     "name": "stdout",
     "output_type": "stream",
     "text": [
      "D:/daps/daps/ipad_office1/segments\\m3\\segment_14.wav\n",
      "m3\n"
     ]
    },
    {
     "data": {
      "application/vnd.jupyter.widget-view+json": {
       "model_id": "22023b12955d4d6ba4ac0d191670d6ba",
       "version_major": 2,
       "version_minor": 0
      },
      "text/plain": [
       "Transcribing:   0%|          | 0/1 [00:00<?, ?it/s]"
      ]
     },
     "metadata": {},
     "output_type": "display_data"
    },
    {
     "name": "stdout",
     "output_type": "stream",
     "text": [
      "D:/daps/daps/ipad_office1/segments\\m3\\segment_15.wav\n",
      "m3\n"
     ]
    },
    {
     "data": {
      "application/vnd.jupyter.widget-view+json": {
       "model_id": "6f3235ea9ad34ca4941e24febbbf0f66",
       "version_major": 2,
       "version_minor": 0
      },
      "text/plain": [
       "Transcribing:   0%|          | 0/1 [00:00<?, ?it/s]"
      ]
     },
     "metadata": {},
     "output_type": "display_data"
    },
    {
     "name": "stdout",
     "output_type": "stream",
     "text": [
      "D:/daps/daps/ipad_office1/segments\\m3\\segment_16.wav\n",
      "m3\n"
     ]
    },
    {
     "data": {
      "application/vnd.jupyter.widget-view+json": {
       "model_id": "9dc78089e3d748d4be16b1c19ccf01d5",
       "version_major": 2,
       "version_minor": 0
      },
      "text/plain": [
       "Transcribing:   0%|          | 0/1 [00:00<?, ?it/s]"
      ]
     },
     "metadata": {},
     "output_type": "display_data"
    },
    {
     "name": "stdout",
     "output_type": "stream",
     "text": [
      "D:/daps/daps/ipad_office1/segments\\m3\\segment_17.wav\n",
      "m3\n"
     ]
    },
    {
     "data": {
      "application/vnd.jupyter.widget-view+json": {
       "model_id": "365ac01ba8084deba831caa009ec091b",
       "version_major": 2,
       "version_minor": 0
      },
      "text/plain": [
       "Transcribing:   0%|          | 0/1 [00:00<?, ?it/s]"
      ]
     },
     "metadata": {},
     "output_type": "display_data"
    },
    {
     "name": "stdout",
     "output_type": "stream",
     "text": [
      "D:/daps/daps/ipad_office1/segments\\m3\\segment_18.wav\n",
      "m3\n"
     ]
    },
    {
     "data": {
      "application/vnd.jupyter.widget-view+json": {
       "model_id": "110d13c1077c4bd9aa58758391742b73",
       "version_major": 2,
       "version_minor": 0
      },
      "text/plain": [
       "Transcribing:   0%|          | 0/1 [00:00<?, ?it/s]"
      ]
     },
     "metadata": {},
     "output_type": "display_data"
    },
    {
     "name": "stdout",
     "output_type": "stream",
     "text": [
      "D:/daps/daps/ipad_office1/segments\\m3\\segment_19.wav\n",
      "m3\n"
     ]
    },
    {
     "data": {
      "application/vnd.jupyter.widget-view+json": {
       "model_id": "4d9765e6d09f4f84aeed8066645d1bf1",
       "version_major": 2,
       "version_minor": 0
      },
      "text/plain": [
       "Transcribing:   0%|          | 0/1 [00:00<?, ?it/s]"
      ]
     },
     "metadata": {},
     "output_type": "display_data"
    },
    {
     "name": "stdout",
     "output_type": "stream",
     "text": [
      "D:/daps/daps/ipad_office1/segments\\m3\\segment_2.wav\n",
      "m3\n"
     ]
    },
    {
     "data": {
      "application/vnd.jupyter.widget-view+json": {
       "model_id": "216ef079ca4c40afb2ed4cf9a63f24d9",
       "version_major": 2,
       "version_minor": 0
      },
      "text/plain": [
       "Transcribing:   0%|          | 0/1 [00:00<?, ?it/s]"
      ]
     },
     "metadata": {},
     "output_type": "display_data"
    },
    {
     "name": "stdout",
     "output_type": "stream",
     "text": [
      "D:/daps/daps/ipad_office1/segments\\m3\\segment_20.wav\n",
      "m3\n"
     ]
    },
    {
     "data": {
      "application/vnd.jupyter.widget-view+json": {
       "model_id": "b87ec641be6347f59f549cb6cb7971c8",
       "version_major": 2,
       "version_minor": 0
      },
      "text/plain": [
       "Transcribing:   0%|          | 0/1 [00:00<?, ?it/s]"
      ]
     },
     "metadata": {},
     "output_type": "display_data"
    },
    {
     "name": "stdout",
     "output_type": "stream",
     "text": [
      "D:/daps/daps/ipad_office1/segments\\m3\\segment_21.wav\n",
      "m3\n"
     ]
    },
    {
     "data": {
      "application/vnd.jupyter.widget-view+json": {
       "model_id": "5fb6e7b1570e4870bc2c65760db8d0b1",
       "version_major": 2,
       "version_minor": 0
      },
      "text/plain": [
       "Transcribing:   0%|          | 0/1 [00:00<?, ?it/s]"
      ]
     },
     "metadata": {},
     "output_type": "display_data"
    },
    {
     "name": "stdout",
     "output_type": "stream",
     "text": [
      "D:/daps/daps/ipad_office1/segments\\m3\\segment_22.wav\n",
      "m3\n"
     ]
    },
    {
     "data": {
      "application/vnd.jupyter.widget-view+json": {
       "model_id": "9a99f02015f14c20956b4dcbfaa17dd5",
       "version_major": 2,
       "version_minor": 0
      },
      "text/plain": [
       "Transcribing:   0%|          | 0/1 [00:00<?, ?it/s]"
      ]
     },
     "metadata": {},
     "output_type": "display_data"
    },
    {
     "name": "stdout",
     "output_type": "stream",
     "text": [
      "D:/daps/daps/ipad_office1/segments\\m3\\segment_23.wav\n",
      "m3\n"
     ]
    },
    {
     "data": {
      "application/vnd.jupyter.widget-view+json": {
       "model_id": "63def77797494c59a5d0d0edd0486083",
       "version_major": 2,
       "version_minor": 0
      },
      "text/plain": [
       "Transcribing:   0%|          | 0/1 [00:00<?, ?it/s]"
      ]
     },
     "metadata": {},
     "output_type": "display_data"
    },
    {
     "name": "stdout",
     "output_type": "stream",
     "text": [
      "D:/daps/daps/ipad_office1/segments\\m3\\segment_24.wav\n",
      "m3\n"
     ]
    },
    {
     "data": {
      "application/vnd.jupyter.widget-view+json": {
       "model_id": "8df283f976ff4f479950e4e205c78f52",
       "version_major": 2,
       "version_minor": 0
      },
      "text/plain": [
       "Transcribing:   0%|          | 0/1 [00:00<?, ?it/s]"
      ]
     },
     "metadata": {},
     "output_type": "display_data"
    },
    {
     "name": "stdout",
     "output_type": "stream",
     "text": [
      "D:/daps/daps/ipad_office1/segments\\m3\\segment_25.wav\n",
      "m3\n"
     ]
    },
    {
     "data": {
      "application/vnd.jupyter.widget-view+json": {
       "model_id": "6a40b41876f04f05bcbd7805a5ed3b01",
       "version_major": 2,
       "version_minor": 0
      },
      "text/plain": [
       "Transcribing:   0%|          | 0/1 [00:00<?, ?it/s]"
      ]
     },
     "metadata": {},
     "output_type": "display_data"
    },
    {
     "name": "stdout",
     "output_type": "stream",
     "text": [
      "D:/daps/daps/ipad_office1/segments\\m3\\segment_26.wav\n",
      "m3\n"
     ]
    },
    {
     "data": {
      "application/vnd.jupyter.widget-view+json": {
       "model_id": "67aec60623d04c938f9d07b1546e1f24",
       "version_major": 2,
       "version_minor": 0
      },
      "text/plain": [
       "Transcribing:   0%|          | 0/1 [00:00<?, ?it/s]"
      ]
     },
     "metadata": {},
     "output_type": "display_data"
    },
    {
     "name": "stdout",
     "output_type": "stream",
     "text": [
      "D:/daps/daps/ipad_office1/segments\\m3\\segment_27.wav\n",
      "m3\n"
     ]
    },
    {
     "data": {
      "application/vnd.jupyter.widget-view+json": {
       "model_id": "e67408cb059c428db15dac94f242c6df",
       "version_major": 2,
       "version_minor": 0
      },
      "text/plain": [
       "Transcribing:   0%|          | 0/1 [00:00<?, ?it/s]"
      ]
     },
     "metadata": {},
     "output_type": "display_data"
    },
    {
     "name": "stdout",
     "output_type": "stream",
     "text": [
      "D:/daps/daps/ipad_office1/segments\\m3\\segment_28.wav\n",
      "m3\n"
     ]
    },
    {
     "data": {
      "application/vnd.jupyter.widget-view+json": {
       "model_id": "960df3841a874ee2baa87208d7785a73",
       "version_major": 2,
       "version_minor": 0
      },
      "text/plain": [
       "Transcribing:   0%|          | 0/1 [00:00<?, ?it/s]"
      ]
     },
     "metadata": {},
     "output_type": "display_data"
    },
    {
     "name": "stdout",
     "output_type": "stream",
     "text": [
      "D:/daps/daps/ipad_office1/segments\\m3\\segment_29.wav\n",
      "m3\n"
     ]
    },
    {
     "data": {
      "application/vnd.jupyter.widget-view+json": {
       "model_id": "3e780a2385a14be1a5aa0b72c56a8b57",
       "version_major": 2,
       "version_minor": 0
      },
      "text/plain": [
       "Transcribing:   0%|          | 0/1 [00:00<?, ?it/s]"
      ]
     },
     "metadata": {},
     "output_type": "display_data"
    },
    {
     "name": "stdout",
     "output_type": "stream",
     "text": [
      "D:/daps/daps/ipad_office1/segments\\m3\\segment_3.wav\n",
      "m3\n"
     ]
    },
    {
     "data": {
      "application/vnd.jupyter.widget-view+json": {
       "model_id": "c56bf63cd34648039c96e454b5469365",
       "version_major": 2,
       "version_minor": 0
      },
      "text/plain": [
       "Transcribing:   0%|          | 0/1 [00:00<?, ?it/s]"
      ]
     },
     "metadata": {},
     "output_type": "display_data"
    },
    {
     "name": "stdout",
     "output_type": "stream",
     "text": [
      "D:/daps/daps/ipad_office1/segments\\m3\\segment_30.wav\n",
      "m3\n"
     ]
    },
    {
     "data": {
      "application/vnd.jupyter.widget-view+json": {
       "model_id": "8455a8d7a4e44d30a5cd680878bc1033",
       "version_major": 2,
       "version_minor": 0
      },
      "text/plain": [
       "Transcribing:   0%|          | 0/1 [00:00<?, ?it/s]"
      ]
     },
     "metadata": {},
     "output_type": "display_data"
    },
    {
     "name": "stdout",
     "output_type": "stream",
     "text": [
      "D:/daps/daps/ipad_office1/segments\\m3\\segment_31.wav\n",
      "m3\n"
     ]
    },
    {
     "data": {
      "application/vnd.jupyter.widget-view+json": {
       "model_id": "f1803c59895548dfbf67fb6e364b5234",
       "version_major": 2,
       "version_minor": 0
      },
      "text/plain": [
       "Transcribing:   0%|          | 0/1 [00:00<?, ?it/s]"
      ]
     },
     "metadata": {},
     "output_type": "display_data"
    },
    {
     "name": "stdout",
     "output_type": "stream",
     "text": [
      "D:/daps/daps/ipad_office1/segments\\m3\\segment_32.wav\n",
      "m3\n"
     ]
    },
    {
     "data": {
      "application/vnd.jupyter.widget-view+json": {
       "model_id": "a6bc7fdad98546a78e2797001e500063",
       "version_major": 2,
       "version_minor": 0
      },
      "text/plain": [
       "Transcribing:   0%|          | 0/1 [00:00<?, ?it/s]"
      ]
     },
     "metadata": {},
     "output_type": "display_data"
    },
    {
     "name": "stdout",
     "output_type": "stream",
     "text": [
      "D:/daps/daps/ipad_office1/segments\\m3\\segment_33.wav\n",
      "m3\n"
     ]
    },
    {
     "data": {
      "application/vnd.jupyter.widget-view+json": {
       "model_id": "44321156a20d4bb99cc812a31da328f2",
       "version_major": 2,
       "version_minor": 0
      },
      "text/plain": [
       "Transcribing:   0%|          | 0/1 [00:00<?, ?it/s]"
      ]
     },
     "metadata": {},
     "output_type": "display_data"
    },
    {
     "name": "stdout",
     "output_type": "stream",
     "text": [
      "D:/daps/daps/ipad_office1/segments\\m3\\segment_34.wav\n",
      "m3\n"
     ]
    },
    {
     "data": {
      "application/vnd.jupyter.widget-view+json": {
       "model_id": "56127b78b5424ea591c08a48ee886b55",
       "version_major": 2,
       "version_minor": 0
      },
      "text/plain": [
       "Transcribing:   0%|          | 0/1 [00:00<?, ?it/s]"
      ]
     },
     "metadata": {},
     "output_type": "display_data"
    },
    {
     "name": "stdout",
     "output_type": "stream",
     "text": [
      "D:/daps/daps/ipad_office1/segments\\m3\\segment_35.wav\n",
      "m3\n"
     ]
    },
    {
     "data": {
      "application/vnd.jupyter.widget-view+json": {
       "model_id": "faaad62a50544466835ed3cc7dd5e51d",
       "version_major": 2,
       "version_minor": 0
      },
      "text/plain": [
       "Transcribing:   0%|          | 0/1 [00:00<?, ?it/s]"
      ]
     },
     "metadata": {},
     "output_type": "display_data"
    },
    {
     "name": "stdout",
     "output_type": "stream",
     "text": [
      "D:/daps/daps/ipad_office1/segments\\m3\\segment_36.wav\n",
      "m3\n"
     ]
    },
    {
     "data": {
      "application/vnd.jupyter.widget-view+json": {
       "model_id": "56e7f4fb276848298d179f92e9787ff6",
       "version_major": 2,
       "version_minor": 0
      },
      "text/plain": [
       "Transcribing:   0%|          | 0/1 [00:00<?, ?it/s]"
      ]
     },
     "metadata": {},
     "output_type": "display_data"
    },
    {
     "name": "stdout",
     "output_type": "stream",
     "text": [
      "D:/daps/daps/ipad_office1/segments\\m3\\segment_37.wav\n",
      "m3\n"
     ]
    },
    {
     "data": {
      "application/vnd.jupyter.widget-view+json": {
       "model_id": "1fbabb04dfdc4a14994c2fffe03a3917",
       "version_major": 2,
       "version_minor": 0
      },
      "text/plain": [
       "Transcribing:   0%|          | 0/1 [00:00<?, ?it/s]"
      ]
     },
     "metadata": {},
     "output_type": "display_data"
    },
    {
     "name": "stdout",
     "output_type": "stream",
     "text": [
      "D:/daps/daps/ipad_office1/segments\\m3\\segment_4.wav\n",
      "m3\n"
     ]
    },
    {
     "data": {
      "application/vnd.jupyter.widget-view+json": {
       "model_id": "3f62468a162d4ac79cf6722b20d15f18",
       "version_major": 2,
       "version_minor": 0
      },
      "text/plain": [
       "Transcribing:   0%|          | 0/1 [00:00<?, ?it/s]"
      ]
     },
     "metadata": {},
     "output_type": "display_data"
    },
    {
     "name": "stdout",
     "output_type": "stream",
     "text": [
      "D:/daps/daps/ipad_office1/segments\\m3\\segment_5.wav\n",
      "m3\n"
     ]
    },
    {
     "data": {
      "application/vnd.jupyter.widget-view+json": {
       "model_id": "57c59a855360435b9b2072c9554350ae",
       "version_major": 2,
       "version_minor": 0
      },
      "text/plain": [
       "Transcribing:   0%|          | 0/1 [00:00<?, ?it/s]"
      ]
     },
     "metadata": {},
     "output_type": "display_data"
    },
    {
     "name": "stdout",
     "output_type": "stream",
     "text": [
      "D:/daps/daps/ipad_office1/segments\\m3\\segment_6.wav\n",
      "m3\n"
     ]
    },
    {
     "data": {
      "application/vnd.jupyter.widget-view+json": {
       "model_id": "48c4af79281e435981e09567f676166b",
       "version_major": 2,
       "version_minor": 0
      },
      "text/plain": [
       "Transcribing:   0%|          | 0/1 [00:00<?, ?it/s]"
      ]
     },
     "metadata": {},
     "output_type": "display_data"
    },
    {
     "name": "stdout",
     "output_type": "stream",
     "text": [
      "D:/daps/daps/ipad_office1/segments\\m3\\segment_7.wav\n",
      "m3\n"
     ]
    },
    {
     "data": {
      "application/vnd.jupyter.widget-view+json": {
       "model_id": "a22d08d55b1f41029d445d12001f53e2",
       "version_major": 2,
       "version_minor": 0
      },
      "text/plain": [
       "Transcribing:   0%|          | 0/1 [00:00<?, ?it/s]"
      ]
     },
     "metadata": {},
     "output_type": "display_data"
    },
    {
     "name": "stdout",
     "output_type": "stream",
     "text": [
      "D:/daps/daps/ipad_office1/segments\\m3\\segment_8.wav\n",
      "m3\n"
     ]
    },
    {
     "data": {
      "application/vnd.jupyter.widget-view+json": {
       "model_id": "3f30ddd50d80436b8df200bc5dd6cc2c",
       "version_major": 2,
       "version_minor": 0
      },
      "text/plain": [
       "Transcribing:   0%|          | 0/1 [00:00<?, ?it/s]"
      ]
     },
     "metadata": {},
     "output_type": "display_data"
    },
    {
     "name": "stdout",
     "output_type": "stream",
     "text": [
      "D:/daps/daps/ipad_office1/segments\\m3\\segment_9.wav\n",
      "m3\n"
     ]
    },
    {
     "data": {
      "application/vnd.jupyter.widget-view+json": {
       "model_id": "ddb6d05075e74289853769a7bb427a56",
       "version_major": 2,
       "version_minor": 0
      },
      "text/plain": [
       "Transcribing:   0%|          | 0/1 [00:00<?, ?it/s]"
      ]
     },
     "metadata": {},
     "output_type": "display_data"
    },
    {
     "name": "stdout",
     "output_type": "stream",
     "text": [
      "D:/daps/daps/ipad_office1/segments\\m4\\segment_0.wav\n",
      "m4\n"
     ]
    },
    {
     "data": {
      "application/vnd.jupyter.widget-view+json": {
       "model_id": "95748908248f41b7980324de43c6f91e",
       "version_major": 2,
       "version_minor": 0
      },
      "text/plain": [
       "Transcribing:   0%|          | 0/1 [00:00<?, ?it/s]"
      ]
     },
     "metadata": {},
     "output_type": "display_data"
    },
    {
     "name": "stdout",
     "output_type": "stream",
     "text": [
      "D:/daps/daps/ipad_office1/segments\\m4\\segment_1.wav\n",
      "m4\n"
     ]
    },
    {
     "data": {
      "application/vnd.jupyter.widget-view+json": {
       "model_id": "327d6dd52db644369ce9defd9b5262bc",
       "version_major": 2,
       "version_minor": 0
      },
      "text/plain": [
       "Transcribing:   0%|          | 0/1 [00:00<?, ?it/s]"
      ]
     },
     "metadata": {},
     "output_type": "display_data"
    },
    {
     "name": "stdout",
     "output_type": "stream",
     "text": [
      "D:/daps/daps/ipad_office1/segments\\m4\\segment_10.wav\n",
      "m4\n"
     ]
    },
    {
     "data": {
      "application/vnd.jupyter.widget-view+json": {
       "model_id": "1ab457db376149688628f30c55b34b8b",
       "version_major": 2,
       "version_minor": 0
      },
      "text/plain": [
       "Transcribing:   0%|          | 0/1 [00:00<?, ?it/s]"
      ]
     },
     "metadata": {},
     "output_type": "display_data"
    },
    {
     "name": "stdout",
     "output_type": "stream",
     "text": [
      "D:/daps/daps/ipad_office1/segments\\m4\\segment_11.wav\n",
      "m4\n"
     ]
    },
    {
     "data": {
      "application/vnd.jupyter.widget-view+json": {
       "model_id": "38b755d61d5d49a08346a0f8fa6cdbe4",
       "version_major": 2,
       "version_minor": 0
      },
      "text/plain": [
       "Transcribing:   0%|          | 0/1 [00:00<?, ?it/s]"
      ]
     },
     "metadata": {},
     "output_type": "display_data"
    },
    {
     "name": "stdout",
     "output_type": "stream",
     "text": [
      "D:/daps/daps/ipad_office1/segments\\m4\\segment_12.wav\n",
      "m4\n"
     ]
    },
    {
     "data": {
      "application/vnd.jupyter.widget-view+json": {
       "model_id": "a3e2a00c0c8145efb227f02885b0ed2d",
       "version_major": 2,
       "version_minor": 0
      },
      "text/plain": [
       "Transcribing:   0%|          | 0/1 [00:00<?, ?it/s]"
      ]
     },
     "metadata": {},
     "output_type": "display_data"
    },
    {
     "name": "stdout",
     "output_type": "stream",
     "text": [
      "D:/daps/daps/ipad_office1/segments\\m4\\segment_13.wav\n",
      "m4\n"
     ]
    },
    {
     "data": {
      "application/vnd.jupyter.widget-view+json": {
       "model_id": "9b1822ee3aae4ba0af81179ce1102861",
       "version_major": 2,
       "version_minor": 0
      },
      "text/plain": [
       "Transcribing:   0%|          | 0/1 [00:00<?, ?it/s]"
      ]
     },
     "metadata": {},
     "output_type": "display_data"
    },
    {
     "name": "stdout",
     "output_type": "stream",
     "text": [
      "D:/daps/daps/ipad_office1/segments\\m4\\segment_14.wav\n",
      "m4\n"
     ]
    },
    {
     "data": {
      "application/vnd.jupyter.widget-view+json": {
       "model_id": "158347f374374541bc074b6548bed05b",
       "version_major": 2,
       "version_minor": 0
      },
      "text/plain": [
       "Transcribing:   0%|          | 0/1 [00:00<?, ?it/s]"
      ]
     },
     "metadata": {},
     "output_type": "display_data"
    },
    {
     "name": "stdout",
     "output_type": "stream",
     "text": [
      "D:/daps/daps/ipad_office1/segments\\m4\\segment_15.wav\n",
      "m4\n"
     ]
    },
    {
     "data": {
      "application/vnd.jupyter.widget-view+json": {
       "model_id": "9ec289c4de044d53bb47b736139905e8",
       "version_major": 2,
       "version_minor": 0
      },
      "text/plain": [
       "Transcribing:   0%|          | 0/1 [00:00<?, ?it/s]"
      ]
     },
     "metadata": {},
     "output_type": "display_data"
    },
    {
     "name": "stdout",
     "output_type": "stream",
     "text": [
      "D:/daps/daps/ipad_office1/segments\\m4\\segment_16.wav\n",
      "m4\n"
     ]
    },
    {
     "data": {
      "application/vnd.jupyter.widget-view+json": {
       "model_id": "05f0322304c74858b62a71e064c3bed8",
       "version_major": 2,
       "version_minor": 0
      },
      "text/plain": [
       "Transcribing:   0%|          | 0/1 [00:00<?, ?it/s]"
      ]
     },
     "metadata": {},
     "output_type": "display_data"
    },
    {
     "name": "stdout",
     "output_type": "stream",
     "text": [
      "D:/daps/daps/ipad_office1/segments\\m4\\segment_17.wav\n",
      "m4\n"
     ]
    },
    {
     "data": {
      "application/vnd.jupyter.widget-view+json": {
       "model_id": "8c9c961c87514bf1bcdaaf75cb40deb1",
       "version_major": 2,
       "version_minor": 0
      },
      "text/plain": [
       "Transcribing:   0%|          | 0/1 [00:00<?, ?it/s]"
      ]
     },
     "metadata": {},
     "output_type": "display_data"
    },
    {
     "name": "stdout",
     "output_type": "stream",
     "text": [
      "D:/daps/daps/ipad_office1/segments\\m4\\segment_18.wav\n",
      "m4\n"
     ]
    },
    {
     "data": {
      "application/vnd.jupyter.widget-view+json": {
       "model_id": "50efa876ca05490ebe4a482924809e94",
       "version_major": 2,
       "version_minor": 0
      },
      "text/plain": [
       "Transcribing:   0%|          | 0/1 [00:00<?, ?it/s]"
      ]
     },
     "metadata": {},
     "output_type": "display_data"
    },
    {
     "name": "stdout",
     "output_type": "stream",
     "text": [
      "D:/daps/daps/ipad_office1/segments\\m4\\segment_19.wav\n",
      "m4\n"
     ]
    },
    {
     "data": {
      "application/vnd.jupyter.widget-view+json": {
       "model_id": "9b3899608642472dbaa2ee19af0271b0",
       "version_major": 2,
       "version_minor": 0
      },
      "text/plain": [
       "Transcribing:   0%|          | 0/1 [00:00<?, ?it/s]"
      ]
     },
     "metadata": {},
     "output_type": "display_data"
    },
    {
     "name": "stdout",
     "output_type": "stream",
     "text": [
      "D:/daps/daps/ipad_office1/segments\\m4\\segment_2.wav\n",
      "m4\n"
     ]
    },
    {
     "data": {
      "application/vnd.jupyter.widget-view+json": {
       "model_id": "3b715b7307464292b8c168d12f7ae6d9",
       "version_major": 2,
       "version_minor": 0
      },
      "text/plain": [
       "Transcribing:   0%|          | 0/1 [00:00<?, ?it/s]"
      ]
     },
     "metadata": {},
     "output_type": "display_data"
    },
    {
     "name": "stdout",
     "output_type": "stream",
     "text": [
      "D:/daps/daps/ipad_office1/segments\\m4\\segment_20.wav\n",
      "m4\n"
     ]
    },
    {
     "data": {
      "application/vnd.jupyter.widget-view+json": {
       "model_id": "9c31ba51f07a4eccb4471a42f040dc09",
       "version_major": 2,
       "version_minor": 0
      },
      "text/plain": [
       "Transcribing:   0%|          | 0/1 [00:00<?, ?it/s]"
      ]
     },
     "metadata": {},
     "output_type": "display_data"
    },
    {
     "name": "stdout",
     "output_type": "stream",
     "text": [
      "D:/daps/daps/ipad_office1/segments\\m4\\segment_21.wav\n",
      "m4\n"
     ]
    },
    {
     "data": {
      "application/vnd.jupyter.widget-view+json": {
       "model_id": "3bf7c593278b4112aa814a9b9eeb9739",
       "version_major": 2,
       "version_minor": 0
      },
      "text/plain": [
       "Transcribing:   0%|          | 0/1 [00:00<?, ?it/s]"
      ]
     },
     "metadata": {},
     "output_type": "display_data"
    },
    {
     "name": "stdout",
     "output_type": "stream",
     "text": [
      "D:/daps/daps/ipad_office1/segments\\m4\\segment_22.wav\n",
      "m4\n"
     ]
    },
    {
     "data": {
      "application/vnd.jupyter.widget-view+json": {
       "model_id": "a8d5e7ce960b44609808f9547e84cddb",
       "version_major": 2,
       "version_minor": 0
      },
      "text/plain": [
       "Transcribing:   0%|          | 0/1 [00:00<?, ?it/s]"
      ]
     },
     "metadata": {},
     "output_type": "display_data"
    },
    {
     "name": "stdout",
     "output_type": "stream",
     "text": [
      "D:/daps/daps/ipad_office1/segments\\m4\\segment_23.wav\n",
      "m4\n"
     ]
    },
    {
     "data": {
      "application/vnd.jupyter.widget-view+json": {
       "model_id": "61a03b9003af4ba9a49b15ac25e11f5b",
       "version_major": 2,
       "version_minor": 0
      },
      "text/plain": [
       "Transcribing:   0%|          | 0/1 [00:00<?, ?it/s]"
      ]
     },
     "metadata": {},
     "output_type": "display_data"
    },
    {
     "name": "stdout",
     "output_type": "stream",
     "text": [
      "D:/daps/daps/ipad_office1/segments\\m4\\segment_3.wav\n",
      "m4\n"
     ]
    },
    {
     "data": {
      "application/vnd.jupyter.widget-view+json": {
       "model_id": "4ca39ac963734053b2f5804a82007e17",
       "version_major": 2,
       "version_minor": 0
      },
      "text/plain": [
       "Transcribing:   0%|          | 0/1 [00:00<?, ?it/s]"
      ]
     },
     "metadata": {},
     "output_type": "display_data"
    },
    {
     "name": "stdout",
     "output_type": "stream",
     "text": [
      "D:/daps/daps/ipad_office1/segments\\m4\\segment_4.wav\n",
      "m4\n"
     ]
    },
    {
     "data": {
      "application/vnd.jupyter.widget-view+json": {
       "model_id": "61fcbdd1ba464976aca28b1cb9e92b60",
       "version_major": 2,
       "version_minor": 0
      },
      "text/plain": [
       "Transcribing:   0%|          | 0/1 [00:00<?, ?it/s]"
      ]
     },
     "metadata": {},
     "output_type": "display_data"
    },
    {
     "name": "stdout",
     "output_type": "stream",
     "text": [
      "D:/daps/daps/ipad_office1/segments\\m4\\segment_5.wav\n",
      "m4\n"
     ]
    },
    {
     "data": {
      "application/vnd.jupyter.widget-view+json": {
       "model_id": "713a350007124f22ad439a3b42d9fb93",
       "version_major": 2,
       "version_minor": 0
      },
      "text/plain": [
       "Transcribing:   0%|          | 0/1 [00:00<?, ?it/s]"
      ]
     },
     "metadata": {},
     "output_type": "display_data"
    },
    {
     "name": "stdout",
     "output_type": "stream",
     "text": [
      "D:/daps/daps/ipad_office1/segments\\m4\\segment_6.wav\n",
      "m4\n"
     ]
    },
    {
     "data": {
      "application/vnd.jupyter.widget-view+json": {
       "model_id": "48f1bdb869164158b10a5a1efd002991",
       "version_major": 2,
       "version_minor": 0
      },
      "text/plain": [
       "Transcribing:   0%|          | 0/1 [00:00<?, ?it/s]"
      ]
     },
     "metadata": {},
     "output_type": "display_data"
    },
    {
     "name": "stdout",
     "output_type": "stream",
     "text": [
      "D:/daps/daps/ipad_office1/segments\\m4\\segment_7.wav\n",
      "m4\n"
     ]
    },
    {
     "data": {
      "application/vnd.jupyter.widget-view+json": {
       "model_id": "55811281d88841429f77054c7c6c4a39",
       "version_major": 2,
       "version_minor": 0
      },
      "text/plain": [
       "Transcribing:   0%|          | 0/1 [00:00<?, ?it/s]"
      ]
     },
     "metadata": {},
     "output_type": "display_data"
    },
    {
     "name": "stdout",
     "output_type": "stream",
     "text": [
      "D:/daps/daps/ipad_office1/segments\\m4\\segment_8.wav\n",
      "m4\n"
     ]
    },
    {
     "data": {
      "application/vnd.jupyter.widget-view+json": {
       "model_id": "c57798569bf7408db1f5b521ecd578e4",
       "version_major": 2,
       "version_minor": 0
      },
      "text/plain": [
       "Transcribing:   0%|          | 0/1 [00:00<?, ?it/s]"
      ]
     },
     "metadata": {},
     "output_type": "display_data"
    },
    {
     "name": "stdout",
     "output_type": "stream",
     "text": [
      "D:/daps/daps/ipad_office1/segments\\m4\\segment_9.wav\n",
      "m4\n"
     ]
    },
    {
     "data": {
      "application/vnd.jupyter.widget-view+json": {
       "model_id": "c9465bc341f34cb5981d70a58dffa1f0",
       "version_major": 2,
       "version_minor": 0
      },
      "text/plain": [
       "Transcribing:   0%|          | 0/1 [00:00<?, ?it/s]"
      ]
     },
     "metadata": {},
     "output_type": "display_data"
    },
    {
     "name": "stdout",
     "output_type": "stream",
     "text": [
      "D:/daps/daps/ipad_office1/segments\\m5\\segment_0.wav\n",
      "m5\n"
     ]
    },
    {
     "data": {
      "application/vnd.jupyter.widget-view+json": {
       "model_id": "77e81088dd854bdca4290c6c2f2c92e3",
       "version_major": 2,
       "version_minor": 0
      },
      "text/plain": [
       "Transcribing:   0%|          | 0/1 [00:00<?, ?it/s]"
      ]
     },
     "metadata": {},
     "output_type": "display_data"
    },
    {
     "name": "stdout",
     "output_type": "stream",
     "text": [
      "D:/daps/daps/ipad_office1/segments\\m5\\segment_1.wav\n",
      "m5\n"
     ]
    },
    {
     "data": {
      "application/vnd.jupyter.widget-view+json": {
       "model_id": "5f3c6a16f59c45dbb51fbf2d8777bb56",
       "version_major": 2,
       "version_minor": 0
      },
      "text/plain": [
       "Transcribing:   0%|          | 0/1 [00:00<?, ?it/s]"
      ]
     },
     "metadata": {},
     "output_type": "display_data"
    },
    {
     "name": "stdout",
     "output_type": "stream",
     "text": [
      "D:/daps/daps/ipad_office1/segments\\m5\\segment_10.wav\n",
      "m5\n"
     ]
    },
    {
     "data": {
      "application/vnd.jupyter.widget-view+json": {
       "model_id": "5de4411c4cbf452088c1bf3494702bc2",
       "version_major": 2,
       "version_minor": 0
      },
      "text/plain": [
       "Transcribing:   0%|          | 0/1 [00:00<?, ?it/s]"
      ]
     },
     "metadata": {},
     "output_type": "display_data"
    },
    {
     "name": "stdout",
     "output_type": "stream",
     "text": [
      "D:/daps/daps/ipad_office1/segments\\m5\\segment_11.wav\n",
      "m5\n"
     ]
    },
    {
     "data": {
      "application/vnd.jupyter.widget-view+json": {
       "model_id": "647f266987f74615bff46b9e38224acf",
       "version_major": 2,
       "version_minor": 0
      },
      "text/plain": [
       "Transcribing:   0%|          | 0/1 [00:00<?, ?it/s]"
      ]
     },
     "metadata": {},
     "output_type": "display_data"
    },
    {
     "name": "stdout",
     "output_type": "stream",
     "text": [
      "D:/daps/daps/ipad_office1/segments\\m5\\segment_12.wav\n",
      "m5\n"
     ]
    },
    {
     "data": {
      "application/vnd.jupyter.widget-view+json": {
       "model_id": "0f1623b040db4632a1efccbcdfb5732e",
       "version_major": 2,
       "version_minor": 0
      },
      "text/plain": [
       "Transcribing:   0%|          | 0/1 [00:00<?, ?it/s]"
      ]
     },
     "metadata": {},
     "output_type": "display_data"
    },
    {
     "name": "stdout",
     "output_type": "stream",
     "text": [
      "D:/daps/daps/ipad_office1/segments\\m5\\segment_13.wav\n",
      "m5\n"
     ]
    },
    {
     "data": {
      "application/vnd.jupyter.widget-view+json": {
       "model_id": "c9af6360ea74411684e96b0e50805ce6",
       "version_major": 2,
       "version_minor": 0
      },
      "text/plain": [
       "Transcribing:   0%|          | 0/1 [00:00<?, ?it/s]"
      ]
     },
     "metadata": {},
     "output_type": "display_data"
    },
    {
     "name": "stdout",
     "output_type": "stream",
     "text": [
      "D:/daps/daps/ipad_office1/segments\\m5\\segment_14.wav\n",
      "m5\n"
     ]
    },
    {
     "data": {
      "application/vnd.jupyter.widget-view+json": {
       "model_id": "f18afca7343d4ac3810342d0c918e28a",
       "version_major": 2,
       "version_minor": 0
      },
      "text/plain": [
       "Transcribing:   0%|          | 0/1 [00:00<?, ?it/s]"
      ]
     },
     "metadata": {},
     "output_type": "display_data"
    },
    {
     "name": "stdout",
     "output_type": "stream",
     "text": [
      "D:/daps/daps/ipad_office1/segments\\m5\\segment_15.wav\n",
      "m5\n"
     ]
    },
    {
     "data": {
      "application/vnd.jupyter.widget-view+json": {
       "model_id": "1d9a40e5b4e245dfbb907460e8a83389",
       "version_major": 2,
       "version_minor": 0
      },
      "text/plain": [
       "Transcribing:   0%|          | 0/1 [00:00<?, ?it/s]"
      ]
     },
     "metadata": {},
     "output_type": "display_data"
    },
    {
     "name": "stdout",
     "output_type": "stream",
     "text": [
      "D:/daps/daps/ipad_office1/segments\\m5\\segment_16.wav\n",
      "m5\n"
     ]
    },
    {
     "data": {
      "application/vnd.jupyter.widget-view+json": {
       "model_id": "c26699c4ae5b4e63ab34ba4682b1083b",
       "version_major": 2,
       "version_minor": 0
      },
      "text/plain": [
       "Transcribing:   0%|          | 0/1 [00:00<?, ?it/s]"
      ]
     },
     "metadata": {},
     "output_type": "display_data"
    },
    {
     "name": "stdout",
     "output_type": "stream",
     "text": [
      "D:/daps/daps/ipad_office1/segments\\m5\\segment_17.wav\n",
      "m5\n"
     ]
    },
    {
     "data": {
      "application/vnd.jupyter.widget-view+json": {
       "model_id": "e3479520a3264a3a8d8dd0c2ec9ceed7",
       "version_major": 2,
       "version_minor": 0
      },
      "text/plain": [
       "Transcribing:   0%|          | 0/1 [00:00<?, ?it/s]"
      ]
     },
     "metadata": {},
     "output_type": "display_data"
    },
    {
     "name": "stdout",
     "output_type": "stream",
     "text": [
      "D:/daps/daps/ipad_office1/segments\\m5\\segment_18.wav\n",
      "m5\n"
     ]
    },
    {
     "data": {
      "application/vnd.jupyter.widget-view+json": {
       "model_id": "e6b76a8511b344168b63f5baab5875c1",
       "version_major": 2,
       "version_minor": 0
      },
      "text/plain": [
       "Transcribing:   0%|          | 0/1 [00:00<?, ?it/s]"
      ]
     },
     "metadata": {},
     "output_type": "display_data"
    },
    {
     "name": "stdout",
     "output_type": "stream",
     "text": [
      "D:/daps/daps/ipad_office1/segments\\m5\\segment_19.wav\n",
      "m5\n"
     ]
    },
    {
     "data": {
      "application/vnd.jupyter.widget-view+json": {
       "model_id": "d589b63564734589a4ecada97b34ec7f",
       "version_major": 2,
       "version_minor": 0
      },
      "text/plain": [
       "Transcribing:   0%|          | 0/1 [00:00<?, ?it/s]"
      ]
     },
     "metadata": {},
     "output_type": "display_data"
    },
    {
     "name": "stdout",
     "output_type": "stream",
     "text": [
      "D:/daps/daps/ipad_office1/segments\\m5\\segment_2.wav\n",
      "m5\n"
     ]
    },
    {
     "data": {
      "application/vnd.jupyter.widget-view+json": {
       "model_id": "5d05abd169b540ed8be253029bccf4da",
       "version_major": 2,
       "version_minor": 0
      },
      "text/plain": [
       "Transcribing:   0%|          | 0/1 [00:00<?, ?it/s]"
      ]
     },
     "metadata": {},
     "output_type": "display_data"
    },
    {
     "name": "stdout",
     "output_type": "stream",
     "text": [
      "D:/daps/daps/ipad_office1/segments\\m5\\segment_20.wav\n",
      "m5\n"
     ]
    },
    {
     "data": {
      "application/vnd.jupyter.widget-view+json": {
       "model_id": "a5c30ead170e4ca885f199af77e0df85",
       "version_major": 2,
       "version_minor": 0
      },
      "text/plain": [
       "Transcribing:   0%|          | 0/1 [00:00<?, ?it/s]"
      ]
     },
     "metadata": {},
     "output_type": "display_data"
    },
    {
     "name": "stdout",
     "output_type": "stream",
     "text": [
      "D:/daps/daps/ipad_office1/segments\\m5\\segment_21.wav\n",
      "m5\n"
     ]
    },
    {
     "data": {
      "application/vnd.jupyter.widget-view+json": {
       "model_id": "3e0968c3feb64ec7b339937f05189977",
       "version_major": 2,
       "version_minor": 0
      },
      "text/plain": [
       "Transcribing:   0%|          | 0/1 [00:00<?, ?it/s]"
      ]
     },
     "metadata": {},
     "output_type": "display_data"
    },
    {
     "name": "stdout",
     "output_type": "stream",
     "text": [
      "D:/daps/daps/ipad_office1/segments\\m5\\segment_22.wav\n",
      "m5\n"
     ]
    },
    {
     "data": {
      "application/vnd.jupyter.widget-view+json": {
       "model_id": "6df5d717cb0d46ebb01ad38e121d08d5",
       "version_major": 2,
       "version_minor": 0
      },
      "text/plain": [
       "Transcribing:   0%|          | 0/1 [00:00<?, ?it/s]"
      ]
     },
     "metadata": {},
     "output_type": "display_data"
    },
    {
     "name": "stdout",
     "output_type": "stream",
     "text": [
      "D:/daps/daps/ipad_office1/segments\\m5\\segment_23.wav\n",
      "m5\n"
     ]
    },
    {
     "data": {
      "application/vnd.jupyter.widget-view+json": {
       "model_id": "9b67e06528624673a471e8877f204f3b",
       "version_major": 2,
       "version_minor": 0
      },
      "text/plain": [
       "Transcribing:   0%|          | 0/1 [00:00<?, ?it/s]"
      ]
     },
     "metadata": {},
     "output_type": "display_data"
    },
    {
     "name": "stdout",
     "output_type": "stream",
     "text": [
      "D:/daps/daps/ipad_office1/segments\\m5\\segment_24.wav\n",
      "m5\n"
     ]
    },
    {
     "data": {
      "application/vnd.jupyter.widget-view+json": {
       "model_id": "7388dc32bec84ac3af198258aefc3948",
       "version_major": 2,
       "version_minor": 0
      },
      "text/plain": [
       "Transcribing:   0%|          | 0/1 [00:00<?, ?it/s]"
      ]
     },
     "metadata": {},
     "output_type": "display_data"
    },
    {
     "name": "stdout",
     "output_type": "stream",
     "text": [
      "D:/daps/daps/ipad_office1/segments\\m5\\segment_25.wav\n",
      "m5\n"
     ]
    },
    {
     "data": {
      "application/vnd.jupyter.widget-view+json": {
       "model_id": "3c05fa2305034c2082c3972dfc8d2325",
       "version_major": 2,
       "version_minor": 0
      },
      "text/plain": [
       "Transcribing:   0%|          | 0/1 [00:00<?, ?it/s]"
      ]
     },
     "metadata": {},
     "output_type": "display_data"
    },
    {
     "name": "stdout",
     "output_type": "stream",
     "text": [
      "D:/daps/daps/ipad_office1/segments\\m5\\segment_26.wav\n",
      "m5\n"
     ]
    },
    {
     "data": {
      "application/vnd.jupyter.widget-view+json": {
       "model_id": "9ec8289e6b3b4c1ebd5512bad9fb3f7f",
       "version_major": 2,
       "version_minor": 0
      },
      "text/plain": [
       "Transcribing:   0%|          | 0/1 [00:00<?, ?it/s]"
      ]
     },
     "metadata": {},
     "output_type": "display_data"
    },
    {
     "name": "stdout",
     "output_type": "stream",
     "text": [
      "D:/daps/daps/ipad_office1/segments\\m5\\segment_27.wav\n",
      "m5\n"
     ]
    },
    {
     "data": {
      "application/vnd.jupyter.widget-view+json": {
       "model_id": "3f5ff609e5794fb58b0a789783909aed",
       "version_major": 2,
       "version_minor": 0
      },
      "text/plain": [
       "Transcribing:   0%|          | 0/1 [00:00<?, ?it/s]"
      ]
     },
     "metadata": {},
     "output_type": "display_data"
    },
    {
     "name": "stdout",
     "output_type": "stream",
     "text": [
      "D:/daps/daps/ipad_office1/segments\\m5\\segment_28.wav\n",
      "m5\n"
     ]
    },
    {
     "data": {
      "application/vnd.jupyter.widget-view+json": {
       "model_id": "0386cbdadd12490b8ccad21eaf704286",
       "version_major": 2,
       "version_minor": 0
      },
      "text/plain": [
       "Transcribing:   0%|          | 0/1 [00:00<?, ?it/s]"
      ]
     },
     "metadata": {},
     "output_type": "display_data"
    },
    {
     "name": "stdout",
     "output_type": "stream",
     "text": [
      "D:/daps/daps/ipad_office1/segments\\m5\\segment_29.wav\n",
      "m5\n"
     ]
    },
    {
     "data": {
      "application/vnd.jupyter.widget-view+json": {
       "model_id": "a8a1ecf57c354afe83ac2d644718f578",
       "version_major": 2,
       "version_minor": 0
      },
      "text/plain": [
       "Transcribing:   0%|          | 0/1 [00:00<?, ?it/s]"
      ]
     },
     "metadata": {},
     "output_type": "display_data"
    },
    {
     "name": "stdout",
     "output_type": "stream",
     "text": [
      "D:/daps/daps/ipad_office1/segments\\m5\\segment_3.wav\n",
      "m5\n"
     ]
    },
    {
     "data": {
      "application/vnd.jupyter.widget-view+json": {
       "model_id": "9bb808840b9444229d726e80daec5a47",
       "version_major": 2,
       "version_minor": 0
      },
      "text/plain": [
       "Transcribing:   0%|          | 0/1 [00:00<?, ?it/s]"
      ]
     },
     "metadata": {},
     "output_type": "display_data"
    },
    {
     "name": "stdout",
     "output_type": "stream",
     "text": [
      "D:/daps/daps/ipad_office1/segments\\m5\\segment_30.wav\n",
      "m5\n"
     ]
    },
    {
     "data": {
      "application/vnd.jupyter.widget-view+json": {
       "model_id": "9b7f01225d1d4f73b1bb6416b101ac1f",
       "version_major": 2,
       "version_minor": 0
      },
      "text/plain": [
       "Transcribing:   0%|          | 0/1 [00:00<?, ?it/s]"
      ]
     },
     "metadata": {},
     "output_type": "display_data"
    },
    {
     "name": "stdout",
     "output_type": "stream",
     "text": [
      "D:/daps/daps/ipad_office1/segments\\m5\\segment_31.wav\n",
      "m5\n"
     ]
    },
    {
     "data": {
      "application/vnd.jupyter.widget-view+json": {
       "model_id": "bb774f188617427c830068a756508eb6",
       "version_major": 2,
       "version_minor": 0
      },
      "text/plain": [
       "Transcribing:   0%|          | 0/1 [00:00<?, ?it/s]"
      ]
     },
     "metadata": {},
     "output_type": "display_data"
    },
    {
     "name": "stdout",
     "output_type": "stream",
     "text": [
      "D:/daps/daps/ipad_office1/segments\\m5\\segment_32.wav\n",
      "m5\n"
     ]
    },
    {
     "data": {
      "application/vnd.jupyter.widget-view+json": {
       "model_id": "9221a36d703a45259b3da819b7b79ccf",
       "version_major": 2,
       "version_minor": 0
      },
      "text/plain": [
       "Transcribing:   0%|          | 0/1 [00:00<?, ?it/s]"
      ]
     },
     "metadata": {},
     "output_type": "display_data"
    },
    {
     "name": "stdout",
     "output_type": "stream",
     "text": [
      "D:/daps/daps/ipad_office1/segments\\m5\\segment_33.wav\n",
      "m5\n"
     ]
    },
    {
     "data": {
      "application/vnd.jupyter.widget-view+json": {
       "model_id": "c96a908f24684005b2b65590a3b2468b",
       "version_major": 2,
       "version_minor": 0
      },
      "text/plain": [
       "Transcribing:   0%|          | 0/1 [00:00<?, ?it/s]"
      ]
     },
     "metadata": {},
     "output_type": "display_data"
    },
    {
     "name": "stdout",
     "output_type": "stream",
     "text": [
      "D:/daps/daps/ipad_office1/segments\\m5\\segment_34.wav\n",
      "m5\n"
     ]
    },
    {
     "data": {
      "application/vnd.jupyter.widget-view+json": {
       "model_id": "ffc98f5953a54b128e44fcaa58613482",
       "version_major": 2,
       "version_minor": 0
      },
      "text/plain": [
       "Transcribing:   0%|          | 0/1 [00:00<?, ?it/s]"
      ]
     },
     "metadata": {},
     "output_type": "display_data"
    },
    {
     "name": "stdout",
     "output_type": "stream",
     "text": [
      "D:/daps/daps/ipad_office1/segments\\m5\\segment_35.wav\n",
      "m5\n"
     ]
    },
    {
     "data": {
      "application/vnd.jupyter.widget-view+json": {
       "model_id": "2b05bf141edc41de9771b6402b5198d0",
       "version_major": 2,
       "version_minor": 0
      },
      "text/plain": [
       "Transcribing:   0%|          | 0/1 [00:00<?, ?it/s]"
      ]
     },
     "metadata": {},
     "output_type": "display_data"
    },
    {
     "name": "stdout",
     "output_type": "stream",
     "text": [
      "D:/daps/daps/ipad_office1/segments\\m5\\segment_4.wav\n",
      "m5\n"
     ]
    },
    {
     "data": {
      "application/vnd.jupyter.widget-view+json": {
       "model_id": "8f4c6b8696cb4f0daa03ef6ec6d2e841",
       "version_major": 2,
       "version_minor": 0
      },
      "text/plain": [
       "Transcribing:   0%|          | 0/1 [00:00<?, ?it/s]"
      ]
     },
     "metadata": {},
     "output_type": "display_data"
    },
    {
     "name": "stdout",
     "output_type": "stream",
     "text": [
      "D:/daps/daps/ipad_office1/segments\\m5\\segment_5.wav\n",
      "m5\n"
     ]
    },
    {
     "data": {
      "application/vnd.jupyter.widget-view+json": {
       "model_id": "ad502df3717946e1a19294533fc8d5db",
       "version_major": 2,
       "version_minor": 0
      },
      "text/plain": [
       "Transcribing:   0%|          | 0/1 [00:00<?, ?it/s]"
      ]
     },
     "metadata": {},
     "output_type": "display_data"
    },
    {
     "name": "stdout",
     "output_type": "stream",
     "text": [
      "D:/daps/daps/ipad_office1/segments\\m5\\segment_6.wav\n",
      "m5\n"
     ]
    },
    {
     "data": {
      "application/vnd.jupyter.widget-view+json": {
       "model_id": "c8078f2e9058495f8f8f5a5488564a82",
       "version_major": 2,
       "version_minor": 0
      },
      "text/plain": [
       "Transcribing:   0%|          | 0/1 [00:00<?, ?it/s]"
      ]
     },
     "metadata": {},
     "output_type": "display_data"
    },
    {
     "name": "stdout",
     "output_type": "stream",
     "text": [
      "D:/daps/daps/ipad_office1/segments\\m5\\segment_7.wav\n",
      "m5\n"
     ]
    },
    {
     "data": {
      "application/vnd.jupyter.widget-view+json": {
       "model_id": "7d08eb71b5a9495bb5e8a07cc5206cde",
       "version_major": 2,
       "version_minor": 0
      },
      "text/plain": [
       "Transcribing:   0%|          | 0/1 [00:00<?, ?it/s]"
      ]
     },
     "metadata": {},
     "output_type": "display_data"
    },
    {
     "name": "stdout",
     "output_type": "stream",
     "text": [
      "D:/daps/daps/ipad_office1/segments\\m5\\segment_8.wav\n",
      "m5\n"
     ]
    },
    {
     "data": {
      "application/vnd.jupyter.widget-view+json": {
       "model_id": "751bd190ff6f4df4af400739677fe7c1",
       "version_major": 2,
       "version_minor": 0
      },
      "text/plain": [
       "Transcribing:   0%|          | 0/1 [00:00<?, ?it/s]"
      ]
     },
     "metadata": {},
     "output_type": "display_data"
    },
    {
     "name": "stdout",
     "output_type": "stream",
     "text": [
      "D:/daps/daps/ipad_office1/segments\\m5\\segment_9.wav\n",
      "m5\n"
     ]
    },
    {
     "data": {
      "application/vnd.jupyter.widget-view+json": {
       "model_id": "431e9df9bffd454a8747ad95e13a05c4",
       "version_major": 2,
       "version_minor": 0
      },
      "text/plain": [
       "Transcribing:   0%|          | 0/1 [00:00<?, ?it/s]"
      ]
     },
     "metadata": {},
     "output_type": "display_data"
    },
    {
     "name": "stdout",
     "output_type": "stream",
     "text": [
      "D:/daps/daps/ipad_office1/segments\\m6\\segment_0.wav\n",
      "m6\n"
     ]
    },
    {
     "data": {
      "application/vnd.jupyter.widget-view+json": {
       "model_id": "eee03093007343f9983217a8cfc0452e",
       "version_major": 2,
       "version_minor": 0
      },
      "text/plain": [
       "Transcribing:   0%|          | 0/1 [00:00<?, ?it/s]"
      ]
     },
     "metadata": {},
     "output_type": "display_data"
    },
    {
     "name": "stdout",
     "output_type": "stream",
     "text": [
      "D:/daps/daps/ipad_office1/segments\\m6\\segment_1.wav\n",
      "m6\n"
     ]
    },
    {
     "data": {
      "application/vnd.jupyter.widget-view+json": {
       "model_id": "0479d7812428416eac9965ad4f06769a",
       "version_major": 2,
       "version_minor": 0
      },
      "text/plain": [
       "Transcribing:   0%|          | 0/1 [00:00<?, ?it/s]"
      ]
     },
     "metadata": {},
     "output_type": "display_data"
    },
    {
     "name": "stdout",
     "output_type": "stream",
     "text": [
      "D:/daps/daps/ipad_office1/segments\\m6\\segment_10.wav\n",
      "m6\n"
     ]
    },
    {
     "data": {
      "application/vnd.jupyter.widget-view+json": {
       "model_id": "13aea9f224a84febb8364b1550d9c949",
       "version_major": 2,
       "version_minor": 0
      },
      "text/plain": [
       "Transcribing:   0%|          | 0/1 [00:00<?, ?it/s]"
      ]
     },
     "metadata": {},
     "output_type": "display_data"
    },
    {
     "name": "stdout",
     "output_type": "stream",
     "text": [
      "D:/daps/daps/ipad_office1/segments\\m6\\segment_11.wav\n",
      "m6\n"
     ]
    },
    {
     "data": {
      "application/vnd.jupyter.widget-view+json": {
       "model_id": "0651950ca2d440179f3e05be8a8ab000",
       "version_major": 2,
       "version_minor": 0
      },
      "text/plain": [
       "Transcribing:   0%|          | 0/1 [00:00<?, ?it/s]"
      ]
     },
     "metadata": {},
     "output_type": "display_data"
    },
    {
     "name": "stdout",
     "output_type": "stream",
     "text": [
      "D:/daps/daps/ipad_office1/segments\\m6\\segment_12.wav\n",
      "m6\n"
     ]
    },
    {
     "data": {
      "application/vnd.jupyter.widget-view+json": {
       "model_id": "c9b78ca3095e4b7a936b7169731290bf",
       "version_major": 2,
       "version_minor": 0
      },
      "text/plain": [
       "Transcribing:   0%|          | 0/1 [00:00<?, ?it/s]"
      ]
     },
     "metadata": {},
     "output_type": "display_data"
    },
    {
     "name": "stdout",
     "output_type": "stream",
     "text": [
      "D:/daps/daps/ipad_office1/segments\\m6\\segment_13.wav\n",
      "m6\n"
     ]
    },
    {
     "data": {
      "application/vnd.jupyter.widget-view+json": {
       "model_id": "67a1af3ac6dc4621804d1f0c440b62d9",
       "version_major": 2,
       "version_minor": 0
      },
      "text/plain": [
       "Transcribing:   0%|          | 0/1 [00:00<?, ?it/s]"
      ]
     },
     "metadata": {},
     "output_type": "display_data"
    },
    {
     "name": "stdout",
     "output_type": "stream",
     "text": [
      "D:/daps/daps/ipad_office1/segments\\m6\\segment_14.wav\n",
      "m6\n"
     ]
    },
    {
     "data": {
      "application/vnd.jupyter.widget-view+json": {
       "model_id": "b8cc795639004189aa17e9d8f69562d9",
       "version_major": 2,
       "version_minor": 0
      },
      "text/plain": [
       "Transcribing:   0%|          | 0/1 [00:00<?, ?it/s]"
      ]
     },
     "metadata": {},
     "output_type": "display_data"
    },
    {
     "name": "stdout",
     "output_type": "stream",
     "text": [
      "D:/daps/daps/ipad_office1/segments\\m6\\segment_15.wav\n",
      "m6\n"
     ]
    },
    {
     "data": {
      "application/vnd.jupyter.widget-view+json": {
       "model_id": "c87b289f0db644eb8f76061f01da0875",
       "version_major": 2,
       "version_minor": 0
      },
      "text/plain": [
       "Transcribing:   0%|          | 0/1 [00:00<?, ?it/s]"
      ]
     },
     "metadata": {},
     "output_type": "display_data"
    },
    {
     "name": "stdout",
     "output_type": "stream",
     "text": [
      "D:/daps/daps/ipad_office1/segments\\m6\\segment_16.wav\n",
      "m6\n"
     ]
    },
    {
     "data": {
      "application/vnd.jupyter.widget-view+json": {
       "model_id": "5442771307ab492e93eb7dc9de50b7a3",
       "version_major": 2,
       "version_minor": 0
      },
      "text/plain": [
       "Transcribing:   0%|          | 0/1 [00:00<?, ?it/s]"
      ]
     },
     "metadata": {},
     "output_type": "display_data"
    },
    {
     "name": "stdout",
     "output_type": "stream",
     "text": [
      "D:/daps/daps/ipad_office1/segments\\m6\\segment_17.wav\n",
      "m6\n"
     ]
    },
    {
     "data": {
      "application/vnd.jupyter.widget-view+json": {
       "model_id": "8787f423cb664e7381fc5b37f004156a",
       "version_major": 2,
       "version_minor": 0
      },
      "text/plain": [
       "Transcribing:   0%|          | 0/1 [00:00<?, ?it/s]"
      ]
     },
     "metadata": {},
     "output_type": "display_data"
    },
    {
     "name": "stdout",
     "output_type": "stream",
     "text": [
      "D:/daps/daps/ipad_office1/segments\\m6\\segment_18.wav\n",
      "m6\n"
     ]
    },
    {
     "data": {
      "application/vnd.jupyter.widget-view+json": {
       "model_id": "23208f92c1164b549eed46491882d174",
       "version_major": 2,
       "version_minor": 0
      },
      "text/plain": [
       "Transcribing:   0%|          | 0/1 [00:00<?, ?it/s]"
      ]
     },
     "metadata": {},
     "output_type": "display_data"
    },
    {
     "name": "stdout",
     "output_type": "stream",
     "text": [
      "D:/daps/daps/ipad_office1/segments\\m6\\segment_19.wav\n",
      "m6\n"
     ]
    },
    {
     "data": {
      "application/vnd.jupyter.widget-view+json": {
       "model_id": "88e658003ee44f1f876a81f93fad56d1",
       "version_major": 2,
       "version_minor": 0
      },
      "text/plain": [
       "Transcribing:   0%|          | 0/1 [00:00<?, ?it/s]"
      ]
     },
     "metadata": {},
     "output_type": "display_data"
    },
    {
     "name": "stdout",
     "output_type": "stream",
     "text": [
      "D:/daps/daps/ipad_office1/segments\\m6\\segment_2.wav\n",
      "m6\n"
     ]
    },
    {
     "data": {
      "application/vnd.jupyter.widget-view+json": {
       "model_id": "a01e53b24cff40329c6d990b69da4969",
       "version_major": 2,
       "version_minor": 0
      },
      "text/plain": [
       "Transcribing:   0%|          | 0/1 [00:00<?, ?it/s]"
      ]
     },
     "metadata": {},
     "output_type": "display_data"
    },
    {
     "name": "stdout",
     "output_type": "stream",
     "text": [
      "D:/daps/daps/ipad_office1/segments\\m6\\segment_20.wav\n",
      "m6\n"
     ]
    },
    {
     "data": {
      "application/vnd.jupyter.widget-view+json": {
       "model_id": "9de9f9fc50134bf8af1f0b116fea801a",
       "version_major": 2,
       "version_minor": 0
      },
      "text/plain": [
       "Transcribing:   0%|          | 0/1 [00:00<?, ?it/s]"
      ]
     },
     "metadata": {},
     "output_type": "display_data"
    },
    {
     "name": "stdout",
     "output_type": "stream",
     "text": [
      "D:/daps/daps/ipad_office1/segments\\m6\\segment_21.wav\n",
      "m6\n"
     ]
    },
    {
     "data": {
      "application/vnd.jupyter.widget-view+json": {
       "model_id": "defe56e6c21941fe83f854138c92b658",
       "version_major": 2,
       "version_minor": 0
      },
      "text/plain": [
       "Transcribing:   0%|          | 0/1 [00:00<?, ?it/s]"
      ]
     },
     "metadata": {},
     "output_type": "display_data"
    },
    {
     "name": "stdout",
     "output_type": "stream",
     "text": [
      "D:/daps/daps/ipad_office1/segments\\m6\\segment_22.wav\n",
      "m6\n"
     ]
    },
    {
     "data": {
      "application/vnd.jupyter.widget-view+json": {
       "model_id": "6ae9219fb42b42f292ca33451282432c",
       "version_major": 2,
       "version_minor": 0
      },
      "text/plain": [
       "Transcribing:   0%|          | 0/1 [00:00<?, ?it/s]"
      ]
     },
     "metadata": {},
     "output_type": "display_data"
    },
    {
     "name": "stdout",
     "output_type": "stream",
     "text": [
      "D:/daps/daps/ipad_office1/segments\\m6\\segment_23.wav\n",
      "m6\n"
     ]
    },
    {
     "data": {
      "application/vnd.jupyter.widget-view+json": {
       "model_id": "594684b4dcda4383b78280b75c0518a1",
       "version_major": 2,
       "version_minor": 0
      },
      "text/plain": [
       "Transcribing:   0%|          | 0/1 [00:00<?, ?it/s]"
      ]
     },
     "metadata": {},
     "output_type": "display_data"
    },
    {
     "name": "stdout",
     "output_type": "stream",
     "text": [
      "D:/daps/daps/ipad_office1/segments\\m6\\segment_24.wav\n",
      "m6\n"
     ]
    },
    {
     "data": {
      "application/vnd.jupyter.widget-view+json": {
       "model_id": "032b3b7839ff4edc8f529bf01868ff2a",
       "version_major": 2,
       "version_minor": 0
      },
      "text/plain": [
       "Transcribing:   0%|          | 0/1 [00:00<?, ?it/s]"
      ]
     },
     "metadata": {},
     "output_type": "display_data"
    },
    {
     "name": "stdout",
     "output_type": "stream",
     "text": [
      "D:/daps/daps/ipad_office1/segments\\m6\\segment_25.wav\n",
      "m6\n"
     ]
    },
    {
     "data": {
      "application/vnd.jupyter.widget-view+json": {
       "model_id": "112c19c6b86f441b82bf9c63272a4f2f",
       "version_major": 2,
       "version_minor": 0
      },
      "text/plain": [
       "Transcribing:   0%|          | 0/1 [00:00<?, ?it/s]"
      ]
     },
     "metadata": {},
     "output_type": "display_data"
    },
    {
     "name": "stdout",
     "output_type": "stream",
     "text": [
      "D:/daps/daps/ipad_office1/segments\\m6\\segment_26.wav\n",
      "m6\n"
     ]
    },
    {
     "data": {
      "application/vnd.jupyter.widget-view+json": {
       "model_id": "b34dc190533e40afa256e6fc5beac0fb",
       "version_major": 2,
       "version_minor": 0
      },
      "text/plain": [
       "Transcribing:   0%|          | 0/1 [00:00<?, ?it/s]"
      ]
     },
     "metadata": {},
     "output_type": "display_data"
    },
    {
     "name": "stdout",
     "output_type": "stream",
     "text": [
      "D:/daps/daps/ipad_office1/segments\\m6\\segment_27.wav\n",
      "m6\n"
     ]
    },
    {
     "data": {
      "application/vnd.jupyter.widget-view+json": {
       "model_id": "1c1f0f65aa13461483e6b16e2df1646b",
       "version_major": 2,
       "version_minor": 0
      },
      "text/plain": [
       "Transcribing:   0%|          | 0/1 [00:00<?, ?it/s]"
      ]
     },
     "metadata": {},
     "output_type": "display_data"
    },
    {
     "name": "stdout",
     "output_type": "stream",
     "text": [
      "D:/daps/daps/ipad_office1/segments\\m6\\segment_28.wav\n",
      "m6\n"
     ]
    },
    {
     "data": {
      "application/vnd.jupyter.widget-view+json": {
       "model_id": "59f764d54dea4cc7b7b468580609b6a4",
       "version_major": 2,
       "version_minor": 0
      },
      "text/plain": [
       "Transcribing:   0%|          | 0/1 [00:00<?, ?it/s]"
      ]
     },
     "metadata": {},
     "output_type": "display_data"
    },
    {
     "name": "stdout",
     "output_type": "stream",
     "text": [
      "D:/daps/daps/ipad_office1/segments\\m6\\segment_29.wav\n",
      "m6\n"
     ]
    },
    {
     "data": {
      "application/vnd.jupyter.widget-view+json": {
       "model_id": "bef32757488943238c448ac1b1e71421",
       "version_major": 2,
       "version_minor": 0
      },
      "text/plain": [
       "Transcribing:   0%|          | 0/1 [00:00<?, ?it/s]"
      ]
     },
     "metadata": {},
     "output_type": "display_data"
    },
    {
     "name": "stdout",
     "output_type": "stream",
     "text": [
      "D:/daps/daps/ipad_office1/segments\\m6\\segment_3.wav\n",
      "m6\n"
     ]
    },
    {
     "data": {
      "application/vnd.jupyter.widget-view+json": {
       "model_id": "2e92aaf92cd748f4abef52308fb2e82e",
       "version_major": 2,
       "version_minor": 0
      },
      "text/plain": [
       "Transcribing:   0%|          | 0/1 [00:00<?, ?it/s]"
      ]
     },
     "metadata": {},
     "output_type": "display_data"
    },
    {
     "name": "stdout",
     "output_type": "stream",
     "text": [
      "D:/daps/daps/ipad_office1/segments\\m6\\segment_30.wav\n",
      "m6\n"
     ]
    },
    {
     "data": {
      "application/vnd.jupyter.widget-view+json": {
       "model_id": "08fed8c1f8a04bfbba074d0bda6f9972",
       "version_major": 2,
       "version_minor": 0
      },
      "text/plain": [
       "Transcribing:   0%|          | 0/1 [00:00<?, ?it/s]"
      ]
     },
     "metadata": {},
     "output_type": "display_data"
    },
    {
     "name": "stdout",
     "output_type": "stream",
     "text": [
      "D:/daps/daps/ipad_office1/segments\\m6\\segment_31.wav\n",
      "m6\n"
     ]
    },
    {
     "data": {
      "application/vnd.jupyter.widget-view+json": {
       "model_id": "f1e22fa9a4da43bb80519ca8a5084dc3",
       "version_major": 2,
       "version_minor": 0
      },
      "text/plain": [
       "Transcribing:   0%|          | 0/1 [00:00<?, ?it/s]"
      ]
     },
     "metadata": {},
     "output_type": "display_data"
    },
    {
     "name": "stdout",
     "output_type": "stream",
     "text": [
      "D:/daps/daps/ipad_office1/segments\\m6\\segment_32.wav\n",
      "m6\n"
     ]
    },
    {
     "data": {
      "application/vnd.jupyter.widget-view+json": {
       "model_id": "c14dbc6b6c8e4b27bd05d532225758b6",
       "version_major": 2,
       "version_minor": 0
      },
      "text/plain": [
       "Transcribing:   0%|          | 0/1 [00:00<?, ?it/s]"
      ]
     },
     "metadata": {},
     "output_type": "display_data"
    },
    {
     "name": "stdout",
     "output_type": "stream",
     "text": [
      "D:/daps/daps/ipad_office1/segments\\m6\\segment_33.wav\n",
      "m6\n"
     ]
    },
    {
     "data": {
      "application/vnd.jupyter.widget-view+json": {
       "model_id": "16295686e9564e30898dc84759faeb57",
       "version_major": 2,
       "version_minor": 0
      },
      "text/plain": [
       "Transcribing:   0%|          | 0/1 [00:00<?, ?it/s]"
      ]
     },
     "metadata": {},
     "output_type": "display_data"
    },
    {
     "name": "stdout",
     "output_type": "stream",
     "text": [
      "D:/daps/daps/ipad_office1/segments\\m6\\segment_34.wav\n",
      "m6\n"
     ]
    },
    {
     "data": {
      "application/vnd.jupyter.widget-view+json": {
       "model_id": "cd3d429ec8b5401982f93476e4f0f190",
       "version_major": 2,
       "version_minor": 0
      },
      "text/plain": [
       "Transcribing:   0%|          | 0/1 [00:00<?, ?it/s]"
      ]
     },
     "metadata": {},
     "output_type": "display_data"
    },
    {
     "name": "stdout",
     "output_type": "stream",
     "text": [
      "D:/daps/daps/ipad_office1/segments\\m6\\segment_35.wav\n",
      "m6\n"
     ]
    },
    {
     "data": {
      "application/vnd.jupyter.widget-view+json": {
       "model_id": "235ca54d83004793a1daf7e8def81082",
       "version_major": 2,
       "version_minor": 0
      },
      "text/plain": [
       "Transcribing:   0%|          | 0/1 [00:00<?, ?it/s]"
      ]
     },
     "metadata": {},
     "output_type": "display_data"
    },
    {
     "name": "stdout",
     "output_type": "stream",
     "text": [
      "D:/daps/daps/ipad_office1/segments\\m6\\segment_4.wav\n",
      "m6\n"
     ]
    },
    {
     "data": {
      "application/vnd.jupyter.widget-view+json": {
       "model_id": "e1fdc45eab5e40ef9d593328f156b144",
       "version_major": 2,
       "version_minor": 0
      },
      "text/plain": [
       "Transcribing:   0%|          | 0/1 [00:00<?, ?it/s]"
      ]
     },
     "metadata": {},
     "output_type": "display_data"
    },
    {
     "name": "stdout",
     "output_type": "stream",
     "text": [
      "D:/daps/daps/ipad_office1/segments\\m6\\segment_5.wav\n",
      "m6\n"
     ]
    },
    {
     "data": {
      "application/vnd.jupyter.widget-view+json": {
       "model_id": "3d061a285ca943fe87ce1901baf8891c",
       "version_major": 2,
       "version_minor": 0
      },
      "text/plain": [
       "Transcribing:   0%|          | 0/1 [00:00<?, ?it/s]"
      ]
     },
     "metadata": {},
     "output_type": "display_data"
    },
    {
     "name": "stdout",
     "output_type": "stream",
     "text": [
      "D:/daps/daps/ipad_office1/segments\\m6\\segment_6.wav\n",
      "m6\n"
     ]
    },
    {
     "data": {
      "application/vnd.jupyter.widget-view+json": {
       "model_id": "f19555fb25e24a118c2fa2bd600a1518",
       "version_major": 2,
       "version_minor": 0
      },
      "text/plain": [
       "Transcribing:   0%|          | 0/1 [00:00<?, ?it/s]"
      ]
     },
     "metadata": {},
     "output_type": "display_data"
    },
    {
     "name": "stdout",
     "output_type": "stream",
     "text": [
      "D:/daps/daps/ipad_office1/segments\\m6\\segment_7.wav\n",
      "m6\n"
     ]
    },
    {
     "data": {
      "application/vnd.jupyter.widget-view+json": {
       "model_id": "2be9371af6284bfcaf0270d9796eb737",
       "version_major": 2,
       "version_minor": 0
      },
      "text/plain": [
       "Transcribing:   0%|          | 0/1 [00:00<?, ?it/s]"
      ]
     },
     "metadata": {},
     "output_type": "display_data"
    },
    {
     "name": "stdout",
     "output_type": "stream",
     "text": [
      "D:/daps/daps/ipad_office1/segments\\m6\\segment_8.wav\n",
      "m6\n"
     ]
    },
    {
     "data": {
      "application/vnd.jupyter.widget-view+json": {
       "model_id": "c7afd3952aca461d872f354804905a5f",
       "version_major": 2,
       "version_minor": 0
      },
      "text/plain": [
       "Transcribing:   0%|          | 0/1 [00:00<?, ?it/s]"
      ]
     },
     "metadata": {},
     "output_type": "display_data"
    },
    {
     "name": "stdout",
     "output_type": "stream",
     "text": [
      "D:/daps/daps/ipad_office1/segments\\m6\\segment_9.wav\n",
      "m6\n"
     ]
    },
    {
     "data": {
      "application/vnd.jupyter.widget-view+json": {
       "model_id": "f6d7cb5963c74545b6095543e3a0f473",
       "version_major": 2,
       "version_minor": 0
      },
      "text/plain": [
       "Transcribing:   0%|          | 0/1 [00:00<?, ?it/s]"
      ]
     },
     "metadata": {},
     "output_type": "display_data"
    },
    {
     "name": "stdout",
     "output_type": "stream",
     "text": [
      "D:/daps/daps/ipad_office1/segments\\m7\\segment_0.wav\n",
      "m7\n"
     ]
    },
    {
     "data": {
      "application/vnd.jupyter.widget-view+json": {
       "model_id": "62271133d8424ad7ac3909f1a00deef4",
       "version_major": 2,
       "version_minor": 0
      },
      "text/plain": [
       "Transcribing:   0%|          | 0/1 [00:00<?, ?it/s]"
      ]
     },
     "metadata": {},
     "output_type": "display_data"
    },
    {
     "name": "stdout",
     "output_type": "stream",
     "text": [
      "D:/daps/daps/ipad_office1/segments\\m7\\segment_1.wav\n",
      "m7\n"
     ]
    },
    {
     "data": {
      "application/vnd.jupyter.widget-view+json": {
       "model_id": "a612735ef98143f5a17ca70d0a87e242",
       "version_major": 2,
       "version_minor": 0
      },
      "text/plain": [
       "Transcribing:   0%|          | 0/1 [00:00<?, ?it/s]"
      ]
     },
     "metadata": {},
     "output_type": "display_data"
    },
    {
     "name": "stdout",
     "output_type": "stream",
     "text": [
      "D:/daps/daps/ipad_office1/segments\\m7\\segment_10.wav\n",
      "m7\n"
     ]
    },
    {
     "data": {
      "application/vnd.jupyter.widget-view+json": {
       "model_id": "76c0fce6dbbc4d96b7fa3238ca80b5f6",
       "version_major": 2,
       "version_minor": 0
      },
      "text/plain": [
       "Transcribing:   0%|          | 0/1 [00:00<?, ?it/s]"
      ]
     },
     "metadata": {},
     "output_type": "display_data"
    },
    {
     "name": "stdout",
     "output_type": "stream",
     "text": [
      "D:/daps/daps/ipad_office1/segments\\m7\\segment_11.wav\n",
      "m7\n"
     ]
    },
    {
     "data": {
      "application/vnd.jupyter.widget-view+json": {
       "model_id": "4d1a7beef00945649f274562fefabaae",
       "version_major": 2,
       "version_minor": 0
      },
      "text/plain": [
       "Transcribing:   0%|          | 0/1 [00:00<?, ?it/s]"
      ]
     },
     "metadata": {},
     "output_type": "display_data"
    },
    {
     "name": "stdout",
     "output_type": "stream",
     "text": [
      "D:/daps/daps/ipad_office1/segments\\m7\\segment_12.wav\n",
      "m7\n"
     ]
    },
    {
     "data": {
      "application/vnd.jupyter.widget-view+json": {
       "model_id": "31563e4b6d0142468a507f128f668df9",
       "version_major": 2,
       "version_minor": 0
      },
      "text/plain": [
       "Transcribing:   0%|          | 0/1 [00:00<?, ?it/s]"
      ]
     },
     "metadata": {},
     "output_type": "display_data"
    },
    {
     "name": "stdout",
     "output_type": "stream",
     "text": [
      "D:/daps/daps/ipad_office1/segments\\m7\\segment_13.wav\n",
      "m7\n"
     ]
    },
    {
     "data": {
      "application/vnd.jupyter.widget-view+json": {
       "model_id": "9f277d4fad734af69a9576d06f69097c",
       "version_major": 2,
       "version_minor": 0
      },
      "text/plain": [
       "Transcribing:   0%|          | 0/1 [00:00<?, ?it/s]"
      ]
     },
     "metadata": {},
     "output_type": "display_data"
    },
    {
     "name": "stdout",
     "output_type": "stream",
     "text": [
      "D:/daps/daps/ipad_office1/segments\\m7\\segment_14.wav\n",
      "m7\n"
     ]
    },
    {
     "data": {
      "application/vnd.jupyter.widget-view+json": {
       "model_id": "f7b237da1bd4468c92b9dbbd752fd114",
       "version_major": 2,
       "version_minor": 0
      },
      "text/plain": [
       "Transcribing:   0%|          | 0/1 [00:00<?, ?it/s]"
      ]
     },
     "metadata": {},
     "output_type": "display_data"
    },
    {
     "name": "stdout",
     "output_type": "stream",
     "text": [
      "D:/daps/daps/ipad_office1/segments\\m7\\segment_15.wav\n",
      "m7\n"
     ]
    },
    {
     "data": {
      "application/vnd.jupyter.widget-view+json": {
       "model_id": "200aeae882d14ef08d7fcef77cab399b",
       "version_major": 2,
       "version_minor": 0
      },
      "text/plain": [
       "Transcribing:   0%|          | 0/1 [00:00<?, ?it/s]"
      ]
     },
     "metadata": {},
     "output_type": "display_data"
    },
    {
     "name": "stdout",
     "output_type": "stream",
     "text": [
      "D:/daps/daps/ipad_office1/segments\\m7\\segment_16.wav\n",
      "m7\n"
     ]
    },
    {
     "data": {
      "application/vnd.jupyter.widget-view+json": {
       "model_id": "527b5646cd8248569a048e53ace9c97c",
       "version_major": 2,
       "version_minor": 0
      },
      "text/plain": [
       "Transcribing:   0%|          | 0/1 [00:00<?, ?it/s]"
      ]
     },
     "metadata": {},
     "output_type": "display_data"
    },
    {
     "name": "stdout",
     "output_type": "stream",
     "text": [
      "D:/daps/daps/ipad_office1/segments\\m7\\segment_17.wav\n",
      "m7\n"
     ]
    },
    {
     "data": {
      "application/vnd.jupyter.widget-view+json": {
       "model_id": "39e0032ddc834ef2b108826fd5901106",
       "version_major": 2,
       "version_minor": 0
      },
      "text/plain": [
       "Transcribing:   0%|          | 0/1 [00:00<?, ?it/s]"
      ]
     },
     "metadata": {},
     "output_type": "display_data"
    },
    {
     "name": "stdout",
     "output_type": "stream",
     "text": [
      "D:/daps/daps/ipad_office1/segments\\m7\\segment_18.wav\n",
      "m7\n"
     ]
    },
    {
     "data": {
      "application/vnd.jupyter.widget-view+json": {
       "model_id": "e53460cfc81048d1b46b4379e5eae40e",
       "version_major": 2,
       "version_minor": 0
      },
      "text/plain": [
       "Transcribing:   0%|          | 0/1 [00:00<?, ?it/s]"
      ]
     },
     "metadata": {},
     "output_type": "display_data"
    },
    {
     "name": "stdout",
     "output_type": "stream",
     "text": [
      "D:/daps/daps/ipad_office1/segments\\m7\\segment_19.wav\n",
      "m7\n"
     ]
    },
    {
     "data": {
      "application/vnd.jupyter.widget-view+json": {
       "model_id": "77be0731b4a545e1bed83c6f5c55fb58",
       "version_major": 2,
       "version_minor": 0
      },
      "text/plain": [
       "Transcribing:   0%|          | 0/1 [00:00<?, ?it/s]"
      ]
     },
     "metadata": {},
     "output_type": "display_data"
    },
    {
     "name": "stdout",
     "output_type": "stream",
     "text": [
      "D:/daps/daps/ipad_office1/segments\\m7\\segment_2.wav\n",
      "m7\n"
     ]
    },
    {
     "data": {
      "application/vnd.jupyter.widget-view+json": {
       "model_id": "47994ca2a3ae42ada34a09b9470188ad",
       "version_major": 2,
       "version_minor": 0
      },
      "text/plain": [
       "Transcribing:   0%|          | 0/1 [00:00<?, ?it/s]"
      ]
     },
     "metadata": {},
     "output_type": "display_data"
    },
    {
     "name": "stdout",
     "output_type": "stream",
     "text": [
      "D:/daps/daps/ipad_office1/segments\\m7\\segment_20.wav\n",
      "m7\n"
     ]
    },
    {
     "data": {
      "application/vnd.jupyter.widget-view+json": {
       "model_id": "74fdce9827da4c73bd76811fec575bc0",
       "version_major": 2,
       "version_minor": 0
      },
      "text/plain": [
       "Transcribing:   0%|          | 0/1 [00:00<?, ?it/s]"
      ]
     },
     "metadata": {},
     "output_type": "display_data"
    },
    {
     "name": "stdout",
     "output_type": "stream",
     "text": [
      "D:/daps/daps/ipad_office1/segments\\m7\\segment_21.wav\n",
      "m7\n"
     ]
    },
    {
     "data": {
      "application/vnd.jupyter.widget-view+json": {
       "model_id": "8cf9449b44d6424ab73e5f7ea8e8940a",
       "version_major": 2,
       "version_minor": 0
      },
      "text/plain": [
       "Transcribing:   0%|          | 0/1 [00:00<?, ?it/s]"
      ]
     },
     "metadata": {},
     "output_type": "display_data"
    },
    {
     "name": "stdout",
     "output_type": "stream",
     "text": [
      "D:/daps/daps/ipad_office1/segments\\m7\\segment_22.wav\n",
      "m7\n"
     ]
    },
    {
     "data": {
      "application/vnd.jupyter.widget-view+json": {
       "model_id": "4712a49672034e5c805e35d82e27ebe4",
       "version_major": 2,
       "version_minor": 0
      },
      "text/plain": [
       "Transcribing:   0%|          | 0/1 [00:00<?, ?it/s]"
      ]
     },
     "metadata": {},
     "output_type": "display_data"
    },
    {
     "name": "stdout",
     "output_type": "stream",
     "text": [
      "D:/daps/daps/ipad_office1/segments\\m7\\segment_3.wav\n",
      "m7\n"
     ]
    },
    {
     "data": {
      "application/vnd.jupyter.widget-view+json": {
       "model_id": "fea0eac33e2e4368b245fb1c8b3b0b9f",
       "version_major": 2,
       "version_minor": 0
      },
      "text/plain": [
       "Transcribing:   0%|          | 0/1 [00:00<?, ?it/s]"
      ]
     },
     "metadata": {},
     "output_type": "display_data"
    },
    {
     "name": "stdout",
     "output_type": "stream",
     "text": [
      "D:/daps/daps/ipad_office1/segments\\m7\\segment_4.wav\n",
      "m7\n"
     ]
    },
    {
     "data": {
      "application/vnd.jupyter.widget-view+json": {
       "model_id": "b0137915516545b9a0b47607bd8012e1",
       "version_major": 2,
       "version_minor": 0
      },
      "text/plain": [
       "Transcribing:   0%|          | 0/1 [00:00<?, ?it/s]"
      ]
     },
     "metadata": {},
     "output_type": "display_data"
    },
    {
     "name": "stdout",
     "output_type": "stream",
     "text": [
      "D:/daps/daps/ipad_office1/segments\\m7\\segment_5.wav\n",
      "m7\n"
     ]
    },
    {
     "data": {
      "application/vnd.jupyter.widget-view+json": {
       "model_id": "0d66ac23b5b84cf6878bc0787df31a21",
       "version_major": 2,
       "version_minor": 0
      },
      "text/plain": [
       "Transcribing:   0%|          | 0/1 [00:00<?, ?it/s]"
      ]
     },
     "metadata": {},
     "output_type": "display_data"
    },
    {
     "name": "stdout",
     "output_type": "stream",
     "text": [
      "D:/daps/daps/ipad_office1/segments\\m7\\segment_6.wav\n",
      "m7\n"
     ]
    },
    {
     "data": {
      "application/vnd.jupyter.widget-view+json": {
       "model_id": "4efe8cc1be4d4116aea6fd03c517f995",
       "version_major": 2,
       "version_minor": 0
      },
      "text/plain": [
       "Transcribing:   0%|          | 0/1 [00:00<?, ?it/s]"
      ]
     },
     "metadata": {},
     "output_type": "display_data"
    },
    {
     "name": "stdout",
     "output_type": "stream",
     "text": [
      "D:/daps/daps/ipad_office1/segments\\m7\\segment_7.wav\n",
      "m7\n"
     ]
    },
    {
     "data": {
      "application/vnd.jupyter.widget-view+json": {
       "model_id": "695379858100484db486be3980f10518",
       "version_major": 2,
       "version_minor": 0
      },
      "text/plain": [
       "Transcribing:   0%|          | 0/1 [00:00<?, ?it/s]"
      ]
     },
     "metadata": {},
     "output_type": "display_data"
    },
    {
     "name": "stdout",
     "output_type": "stream",
     "text": [
      "D:/daps/daps/ipad_office1/segments\\m7\\segment_8.wav\n",
      "m7\n"
     ]
    },
    {
     "data": {
      "application/vnd.jupyter.widget-view+json": {
       "model_id": "28ae0a8f15904d52b360949e5035e8df",
       "version_major": 2,
       "version_minor": 0
      },
      "text/plain": [
       "Transcribing:   0%|          | 0/1 [00:00<?, ?it/s]"
      ]
     },
     "metadata": {},
     "output_type": "display_data"
    },
    {
     "name": "stdout",
     "output_type": "stream",
     "text": [
      "D:/daps/daps/ipad_office1/segments\\m7\\segment_9.wav\n",
      "m7\n"
     ]
    },
    {
     "data": {
      "application/vnd.jupyter.widget-view+json": {
       "model_id": "f43e81a913384b249fc038ae4ef98d96",
       "version_major": 2,
       "version_minor": 0
      },
      "text/plain": [
       "Transcribing:   0%|          | 0/1 [00:00<?, ?it/s]"
      ]
     },
     "metadata": {},
     "output_type": "display_data"
    },
    {
     "name": "stdout",
     "output_type": "stream",
     "text": [
      "D:/daps/daps/ipad_office1/segments\\m8\\segment_0.wav\n",
      "m8\n"
     ]
    },
    {
     "data": {
      "application/vnd.jupyter.widget-view+json": {
       "model_id": "b10ffa6c2ef8459a96acbc925d619e8c",
       "version_major": 2,
       "version_minor": 0
      },
      "text/plain": [
       "Transcribing:   0%|          | 0/1 [00:00<?, ?it/s]"
      ]
     },
     "metadata": {},
     "output_type": "display_data"
    },
    {
     "name": "stdout",
     "output_type": "stream",
     "text": [
      "D:/daps/daps/ipad_office1/segments\\m8\\segment_1.wav\n",
      "m8\n"
     ]
    },
    {
     "data": {
      "application/vnd.jupyter.widget-view+json": {
       "model_id": "6f30a1dc68024b1bada0a7a0bb641c72",
       "version_major": 2,
       "version_minor": 0
      },
      "text/plain": [
       "Transcribing:   0%|          | 0/1 [00:00<?, ?it/s]"
      ]
     },
     "metadata": {},
     "output_type": "display_data"
    },
    {
     "name": "stdout",
     "output_type": "stream",
     "text": [
      "D:/daps/daps/ipad_office1/segments\\m8\\segment_10.wav\n",
      "m8\n"
     ]
    },
    {
     "data": {
      "application/vnd.jupyter.widget-view+json": {
       "model_id": "840517e488014f089f9cbb8cf7da4df9",
       "version_major": 2,
       "version_minor": 0
      },
      "text/plain": [
       "Transcribing:   0%|          | 0/1 [00:00<?, ?it/s]"
      ]
     },
     "metadata": {},
     "output_type": "display_data"
    },
    {
     "name": "stdout",
     "output_type": "stream",
     "text": [
      "D:/daps/daps/ipad_office1/segments\\m8\\segment_11.wav\n",
      "m8\n"
     ]
    },
    {
     "data": {
      "application/vnd.jupyter.widget-view+json": {
       "model_id": "c21586fe927949a9a43235039b28b8c9",
       "version_major": 2,
       "version_minor": 0
      },
      "text/plain": [
       "Transcribing:   0%|          | 0/1 [00:00<?, ?it/s]"
      ]
     },
     "metadata": {},
     "output_type": "display_data"
    },
    {
     "name": "stdout",
     "output_type": "stream",
     "text": [
      "D:/daps/daps/ipad_office1/segments\\m8\\segment_12.wav\n",
      "m8\n"
     ]
    },
    {
     "data": {
      "application/vnd.jupyter.widget-view+json": {
       "model_id": "353b86ac236d4eb39f6cbae58603d108",
       "version_major": 2,
       "version_minor": 0
      },
      "text/plain": [
       "Transcribing:   0%|          | 0/1 [00:00<?, ?it/s]"
      ]
     },
     "metadata": {},
     "output_type": "display_data"
    },
    {
     "name": "stdout",
     "output_type": "stream",
     "text": [
      "D:/daps/daps/ipad_office1/segments\\m8\\segment_13.wav\n",
      "m8\n"
     ]
    },
    {
     "data": {
      "application/vnd.jupyter.widget-view+json": {
       "model_id": "7324a782b54a457b80bee10309f0c783",
       "version_major": 2,
       "version_minor": 0
      },
      "text/plain": [
       "Transcribing:   0%|          | 0/1 [00:00<?, ?it/s]"
      ]
     },
     "metadata": {},
     "output_type": "display_data"
    },
    {
     "name": "stdout",
     "output_type": "stream",
     "text": [
      "D:/daps/daps/ipad_office1/segments\\m8\\segment_14.wav\n",
      "m8\n"
     ]
    },
    {
     "data": {
      "application/vnd.jupyter.widget-view+json": {
       "model_id": "475bd73b92c6419bb8b41877741fc839",
       "version_major": 2,
       "version_minor": 0
      },
      "text/plain": [
       "Transcribing:   0%|          | 0/1 [00:00<?, ?it/s]"
      ]
     },
     "metadata": {},
     "output_type": "display_data"
    },
    {
     "name": "stdout",
     "output_type": "stream",
     "text": [
      "D:/daps/daps/ipad_office1/segments\\m8\\segment_15.wav\n",
      "m8\n"
     ]
    },
    {
     "data": {
      "application/vnd.jupyter.widget-view+json": {
       "model_id": "52aad5ce3fa949e8bdd4fb3c9962ad19",
       "version_major": 2,
       "version_minor": 0
      },
      "text/plain": [
       "Transcribing:   0%|          | 0/1 [00:00<?, ?it/s]"
      ]
     },
     "metadata": {},
     "output_type": "display_data"
    },
    {
     "name": "stdout",
     "output_type": "stream",
     "text": [
      "D:/daps/daps/ipad_office1/segments\\m8\\segment_16.wav\n",
      "m8\n"
     ]
    },
    {
     "data": {
      "application/vnd.jupyter.widget-view+json": {
       "model_id": "5aad74b425fe4be39e0664a97470ff51",
       "version_major": 2,
       "version_minor": 0
      },
      "text/plain": [
       "Transcribing:   0%|          | 0/1 [00:00<?, ?it/s]"
      ]
     },
     "metadata": {},
     "output_type": "display_data"
    },
    {
     "name": "stdout",
     "output_type": "stream",
     "text": [
      "D:/daps/daps/ipad_office1/segments\\m8\\segment_17.wav\n",
      "m8\n"
     ]
    },
    {
     "data": {
      "application/vnd.jupyter.widget-view+json": {
       "model_id": "02e2f6b055af429c80c82d8a272df5f1",
       "version_major": 2,
       "version_minor": 0
      },
      "text/plain": [
       "Transcribing:   0%|          | 0/1 [00:00<?, ?it/s]"
      ]
     },
     "metadata": {},
     "output_type": "display_data"
    },
    {
     "name": "stdout",
     "output_type": "stream",
     "text": [
      "D:/daps/daps/ipad_office1/segments\\m8\\segment_18.wav\n",
      "m8\n"
     ]
    },
    {
     "data": {
      "application/vnd.jupyter.widget-view+json": {
       "model_id": "deeb63903a004effab65cc58c0ebc1c5",
       "version_major": 2,
       "version_minor": 0
      },
      "text/plain": [
       "Transcribing:   0%|          | 0/1 [00:00<?, ?it/s]"
      ]
     },
     "metadata": {},
     "output_type": "display_data"
    },
    {
     "name": "stdout",
     "output_type": "stream",
     "text": [
      "D:/daps/daps/ipad_office1/segments\\m8\\segment_19.wav\n",
      "m8\n"
     ]
    },
    {
     "data": {
      "application/vnd.jupyter.widget-view+json": {
       "model_id": "021253e92943479cabb5ea5a6197edec",
       "version_major": 2,
       "version_minor": 0
      },
      "text/plain": [
       "Transcribing:   0%|          | 0/1 [00:00<?, ?it/s]"
      ]
     },
     "metadata": {},
     "output_type": "display_data"
    },
    {
     "name": "stdout",
     "output_type": "stream",
     "text": [
      "D:/daps/daps/ipad_office1/segments\\m8\\segment_2.wav\n",
      "m8\n"
     ]
    },
    {
     "data": {
      "application/vnd.jupyter.widget-view+json": {
       "model_id": "925c88bd461a46cdac45d0efef318976",
       "version_major": 2,
       "version_minor": 0
      },
      "text/plain": [
       "Transcribing:   0%|          | 0/1 [00:00<?, ?it/s]"
      ]
     },
     "metadata": {},
     "output_type": "display_data"
    },
    {
     "name": "stdout",
     "output_type": "stream",
     "text": [
      "D:/daps/daps/ipad_office1/segments\\m8\\segment_20.wav\n",
      "m8\n"
     ]
    },
    {
     "data": {
      "application/vnd.jupyter.widget-view+json": {
       "model_id": "78c46a5f2d4941759fb6f24384ab8cbd",
       "version_major": 2,
       "version_minor": 0
      },
      "text/plain": [
       "Transcribing:   0%|          | 0/1 [00:00<?, ?it/s]"
      ]
     },
     "metadata": {},
     "output_type": "display_data"
    },
    {
     "name": "stdout",
     "output_type": "stream",
     "text": [
      "D:/daps/daps/ipad_office1/segments\\m8\\segment_21.wav\n",
      "m8\n"
     ]
    },
    {
     "data": {
      "application/vnd.jupyter.widget-view+json": {
       "model_id": "c4d614e192bc45ed8834537903d97421",
       "version_major": 2,
       "version_minor": 0
      },
      "text/plain": [
       "Transcribing:   0%|          | 0/1 [00:00<?, ?it/s]"
      ]
     },
     "metadata": {},
     "output_type": "display_data"
    },
    {
     "name": "stdout",
     "output_type": "stream",
     "text": [
      "D:/daps/daps/ipad_office1/segments\\m8\\segment_22.wav\n",
      "m8\n"
     ]
    },
    {
     "data": {
      "application/vnd.jupyter.widget-view+json": {
       "model_id": "4b24a8a7409b473f8772c51a2b9040ed",
       "version_major": 2,
       "version_minor": 0
      },
      "text/plain": [
       "Transcribing:   0%|          | 0/1 [00:00<?, ?it/s]"
      ]
     },
     "metadata": {},
     "output_type": "display_data"
    },
    {
     "name": "stdout",
     "output_type": "stream",
     "text": [
      "D:/daps/daps/ipad_office1/segments\\m8\\segment_23.wav\n",
      "m8\n"
     ]
    },
    {
     "data": {
      "application/vnd.jupyter.widget-view+json": {
       "model_id": "f4a7be8a47a247d79a079e55b8d7573e",
       "version_major": 2,
       "version_minor": 0
      },
      "text/plain": [
       "Transcribing:   0%|          | 0/1 [00:00<?, ?it/s]"
      ]
     },
     "metadata": {},
     "output_type": "display_data"
    },
    {
     "name": "stdout",
     "output_type": "stream",
     "text": [
      "D:/daps/daps/ipad_office1/segments\\m8\\segment_24.wav\n",
      "m8\n"
     ]
    },
    {
     "data": {
      "application/vnd.jupyter.widget-view+json": {
       "model_id": "964306cc77ee414c944b9d3fab54a36b",
       "version_major": 2,
       "version_minor": 0
      },
      "text/plain": [
       "Transcribing:   0%|          | 0/1 [00:00<?, ?it/s]"
      ]
     },
     "metadata": {},
     "output_type": "display_data"
    },
    {
     "name": "stdout",
     "output_type": "stream",
     "text": [
      "D:/daps/daps/ipad_office1/segments\\m8\\segment_25.wav\n",
      "m8\n"
     ]
    },
    {
     "data": {
      "application/vnd.jupyter.widget-view+json": {
       "model_id": "0b4d38b8ba9749d685896ada5b1a6e00",
       "version_major": 2,
       "version_minor": 0
      },
      "text/plain": [
       "Transcribing:   0%|          | 0/1 [00:00<?, ?it/s]"
      ]
     },
     "metadata": {},
     "output_type": "display_data"
    },
    {
     "name": "stdout",
     "output_type": "stream",
     "text": [
      "D:/daps/daps/ipad_office1/segments\\m8\\segment_26.wav\n",
      "m8\n"
     ]
    },
    {
     "data": {
      "application/vnd.jupyter.widget-view+json": {
       "model_id": "26a8395294304dc1816f7c30c8ea19aa",
       "version_major": 2,
       "version_minor": 0
      },
      "text/plain": [
       "Transcribing:   0%|          | 0/1 [00:00<?, ?it/s]"
      ]
     },
     "metadata": {},
     "output_type": "display_data"
    },
    {
     "name": "stdout",
     "output_type": "stream",
     "text": [
      "D:/daps/daps/ipad_office1/segments\\m8\\segment_27.wav\n",
      "m8\n"
     ]
    },
    {
     "data": {
      "application/vnd.jupyter.widget-view+json": {
       "model_id": "ad50d8ab670141e4b5a1160e521ebdf9",
       "version_major": 2,
       "version_minor": 0
      },
      "text/plain": [
       "Transcribing:   0%|          | 0/1 [00:00<?, ?it/s]"
      ]
     },
     "metadata": {},
     "output_type": "display_data"
    },
    {
     "name": "stdout",
     "output_type": "stream",
     "text": [
      "D:/daps/daps/ipad_office1/segments\\m8\\segment_28.wav\n",
      "m8\n"
     ]
    },
    {
     "data": {
      "application/vnd.jupyter.widget-view+json": {
       "model_id": "5f8db37e36604f0e96045a00e61066c2",
       "version_major": 2,
       "version_minor": 0
      },
      "text/plain": [
       "Transcribing:   0%|          | 0/1 [00:00<?, ?it/s]"
      ]
     },
     "metadata": {},
     "output_type": "display_data"
    },
    {
     "name": "stdout",
     "output_type": "stream",
     "text": [
      "D:/daps/daps/ipad_office1/segments\\m8\\segment_29.wav\n",
      "m8\n"
     ]
    },
    {
     "data": {
      "application/vnd.jupyter.widget-view+json": {
       "model_id": "8da3554534984d1eb1f6e8eca9e1b3b1",
       "version_major": 2,
       "version_minor": 0
      },
      "text/plain": [
       "Transcribing:   0%|          | 0/1 [00:00<?, ?it/s]"
      ]
     },
     "metadata": {},
     "output_type": "display_data"
    },
    {
     "name": "stdout",
     "output_type": "stream",
     "text": [
      "D:/daps/daps/ipad_office1/segments\\m8\\segment_3.wav\n",
      "m8\n"
     ]
    },
    {
     "data": {
      "application/vnd.jupyter.widget-view+json": {
       "model_id": "f112c4c5bc7b473286cfbaabafa79287",
       "version_major": 2,
       "version_minor": 0
      },
      "text/plain": [
       "Transcribing:   0%|          | 0/1 [00:00<?, ?it/s]"
      ]
     },
     "metadata": {},
     "output_type": "display_data"
    },
    {
     "name": "stdout",
     "output_type": "stream",
     "text": [
      "D:/daps/daps/ipad_office1/segments\\m8\\segment_30.wav\n",
      "m8\n"
     ]
    },
    {
     "data": {
      "application/vnd.jupyter.widget-view+json": {
       "model_id": "7962e611fa224f1da6820264a3e74373",
       "version_major": 2,
       "version_minor": 0
      },
      "text/plain": [
       "Transcribing:   0%|          | 0/1 [00:00<?, ?it/s]"
      ]
     },
     "metadata": {},
     "output_type": "display_data"
    },
    {
     "name": "stdout",
     "output_type": "stream",
     "text": [
      "D:/daps/daps/ipad_office1/segments\\m8\\segment_31.wav\n",
      "m8\n"
     ]
    },
    {
     "data": {
      "application/vnd.jupyter.widget-view+json": {
       "model_id": "127a7f342f184c6d9351d68dd692a641",
       "version_major": 2,
       "version_minor": 0
      },
      "text/plain": [
       "Transcribing:   0%|          | 0/1 [00:00<?, ?it/s]"
      ]
     },
     "metadata": {},
     "output_type": "display_data"
    },
    {
     "name": "stdout",
     "output_type": "stream",
     "text": [
      "D:/daps/daps/ipad_office1/segments\\m8\\segment_32.wav\n",
      "m8\n"
     ]
    },
    {
     "data": {
      "application/vnd.jupyter.widget-view+json": {
       "model_id": "2020414bc83a4b0b8855149b27f2e572",
       "version_major": 2,
       "version_minor": 0
      },
      "text/plain": [
       "Transcribing:   0%|          | 0/1 [00:00<?, ?it/s]"
      ]
     },
     "metadata": {},
     "output_type": "display_data"
    },
    {
     "name": "stdout",
     "output_type": "stream",
     "text": [
      "D:/daps/daps/ipad_office1/segments\\m8\\segment_33.wav\n",
      "m8\n"
     ]
    },
    {
     "data": {
      "application/vnd.jupyter.widget-view+json": {
       "model_id": "dcbe52141db54c7da49b498903f292c9",
       "version_major": 2,
       "version_minor": 0
      },
      "text/plain": [
       "Transcribing:   0%|          | 0/1 [00:00<?, ?it/s]"
      ]
     },
     "metadata": {},
     "output_type": "display_data"
    },
    {
     "name": "stdout",
     "output_type": "stream",
     "text": [
      "D:/daps/daps/ipad_office1/segments\\m8\\segment_34.wav\n",
      "m8\n"
     ]
    },
    {
     "data": {
      "application/vnd.jupyter.widget-view+json": {
       "model_id": "16f4e862632740469775c5808b110058",
       "version_major": 2,
       "version_minor": 0
      },
      "text/plain": [
       "Transcribing:   0%|          | 0/1 [00:00<?, ?it/s]"
      ]
     },
     "metadata": {},
     "output_type": "display_data"
    },
    {
     "name": "stdout",
     "output_type": "stream",
     "text": [
      "D:/daps/daps/ipad_office1/segments\\m8\\segment_35.wav\n",
      "m8\n"
     ]
    },
    {
     "data": {
      "application/vnd.jupyter.widget-view+json": {
       "model_id": "55449854d0394b379adbcd72da32fbe7",
       "version_major": 2,
       "version_minor": 0
      },
      "text/plain": [
       "Transcribing:   0%|          | 0/1 [00:00<?, ?it/s]"
      ]
     },
     "metadata": {},
     "output_type": "display_data"
    },
    {
     "name": "stdout",
     "output_type": "stream",
     "text": [
      "D:/daps/daps/ipad_office1/segments\\m8\\segment_4.wav\n",
      "m8\n"
     ]
    },
    {
     "data": {
      "application/vnd.jupyter.widget-view+json": {
       "model_id": "8f00865a8b094ed3b715c07cf6cc63cc",
       "version_major": 2,
       "version_minor": 0
      },
      "text/plain": [
       "Transcribing:   0%|          | 0/1 [00:00<?, ?it/s]"
      ]
     },
     "metadata": {},
     "output_type": "display_data"
    },
    {
     "name": "stdout",
     "output_type": "stream",
     "text": [
      "D:/daps/daps/ipad_office1/segments\\m8\\segment_5.wav\n",
      "m8\n"
     ]
    },
    {
     "data": {
      "application/vnd.jupyter.widget-view+json": {
       "model_id": "aae8355d37ce4316a7202046f247ed8e",
       "version_major": 2,
       "version_minor": 0
      },
      "text/plain": [
       "Transcribing:   0%|          | 0/1 [00:00<?, ?it/s]"
      ]
     },
     "metadata": {},
     "output_type": "display_data"
    },
    {
     "name": "stdout",
     "output_type": "stream",
     "text": [
      "D:/daps/daps/ipad_office1/segments\\m8\\segment_6.wav\n",
      "m8\n"
     ]
    },
    {
     "data": {
      "application/vnd.jupyter.widget-view+json": {
       "model_id": "c9a255924005447daf7b5d02c9ae5e5a",
       "version_major": 2,
       "version_minor": 0
      },
      "text/plain": [
       "Transcribing:   0%|          | 0/1 [00:00<?, ?it/s]"
      ]
     },
     "metadata": {},
     "output_type": "display_data"
    },
    {
     "name": "stdout",
     "output_type": "stream",
     "text": [
      "D:/daps/daps/ipad_office1/segments\\m8\\segment_7.wav\n",
      "m8\n"
     ]
    },
    {
     "data": {
      "application/vnd.jupyter.widget-view+json": {
       "model_id": "0896e40bca2243feaf19262504bd14c9",
       "version_major": 2,
       "version_minor": 0
      },
      "text/plain": [
       "Transcribing:   0%|          | 0/1 [00:00<?, ?it/s]"
      ]
     },
     "metadata": {},
     "output_type": "display_data"
    },
    {
     "name": "stdout",
     "output_type": "stream",
     "text": [
      "D:/daps/daps/ipad_office1/segments\\m8\\segment_8.wav\n",
      "m8\n"
     ]
    },
    {
     "data": {
      "application/vnd.jupyter.widget-view+json": {
       "model_id": "24b2cea1ef854e79b3d79580f56b8ead",
       "version_major": 2,
       "version_minor": 0
      },
      "text/plain": [
       "Transcribing:   0%|          | 0/1 [00:00<?, ?it/s]"
      ]
     },
     "metadata": {},
     "output_type": "display_data"
    },
    {
     "name": "stdout",
     "output_type": "stream",
     "text": [
      "D:/daps/daps/ipad_office1/segments\\m8\\segment_9.wav\n",
      "m8\n"
     ]
    },
    {
     "data": {
      "application/vnd.jupyter.widget-view+json": {
       "model_id": "b12315db870141aa97e85575d55f80eb",
       "version_major": 2,
       "version_minor": 0
      },
      "text/plain": [
       "Transcribing:   0%|          | 0/1 [00:00<?, ?it/s]"
      ]
     },
     "metadata": {},
     "output_type": "display_data"
    },
    {
     "name": "stdout",
     "output_type": "stream",
     "text": [
      "D:/daps/daps/ipad_office1/segments\\m9\\segment_0.wav\n",
      "m9\n"
     ]
    },
    {
     "data": {
      "application/vnd.jupyter.widget-view+json": {
       "model_id": "e2ca0011a2f94f27a9a9de4c7f1a4f9d",
       "version_major": 2,
       "version_minor": 0
      },
      "text/plain": [
       "Transcribing:   0%|          | 0/1 [00:00<?, ?it/s]"
      ]
     },
     "metadata": {},
     "output_type": "display_data"
    },
    {
     "name": "stdout",
     "output_type": "stream",
     "text": [
      "D:/daps/daps/ipad_office1/segments\\m9\\segment_1.wav\n",
      "m9\n"
     ]
    },
    {
     "data": {
      "application/vnd.jupyter.widget-view+json": {
       "model_id": "7d11a1c92d8e4d9a98b78e0d0344a14f",
       "version_major": 2,
       "version_minor": 0
      },
      "text/plain": [
       "Transcribing:   0%|          | 0/1 [00:00<?, ?it/s]"
      ]
     },
     "metadata": {},
     "output_type": "display_data"
    },
    {
     "name": "stdout",
     "output_type": "stream",
     "text": [
      "D:/daps/daps/ipad_office1/segments\\m9\\segment_10.wav\n",
      "m9\n"
     ]
    },
    {
     "data": {
      "application/vnd.jupyter.widget-view+json": {
       "model_id": "e2f506e739c8436386c04c1d284609a6",
       "version_major": 2,
       "version_minor": 0
      },
      "text/plain": [
       "Transcribing:   0%|          | 0/1 [00:00<?, ?it/s]"
      ]
     },
     "metadata": {},
     "output_type": "display_data"
    },
    {
     "name": "stdout",
     "output_type": "stream",
     "text": [
      "D:/daps/daps/ipad_office1/segments\\m9\\segment_11.wav\n",
      "m9\n"
     ]
    },
    {
     "data": {
      "application/vnd.jupyter.widget-view+json": {
       "model_id": "26d341b936954f73bf6b83c12d61b76e",
       "version_major": 2,
       "version_minor": 0
      },
      "text/plain": [
       "Transcribing:   0%|          | 0/1 [00:00<?, ?it/s]"
      ]
     },
     "metadata": {},
     "output_type": "display_data"
    },
    {
     "name": "stdout",
     "output_type": "stream",
     "text": [
      "D:/daps/daps/ipad_office1/segments\\m9\\segment_12.wav\n",
      "m9\n"
     ]
    },
    {
     "data": {
      "application/vnd.jupyter.widget-view+json": {
       "model_id": "56e3ee8882e44b3f97c78b197238893b",
       "version_major": 2,
       "version_minor": 0
      },
      "text/plain": [
       "Transcribing:   0%|          | 0/1 [00:00<?, ?it/s]"
      ]
     },
     "metadata": {},
     "output_type": "display_data"
    },
    {
     "name": "stdout",
     "output_type": "stream",
     "text": [
      "D:/daps/daps/ipad_office1/segments\\m9\\segment_13.wav\n",
      "m9\n"
     ]
    },
    {
     "data": {
      "application/vnd.jupyter.widget-view+json": {
       "model_id": "187f753367d143a88ccf1d6db867d71e",
       "version_major": 2,
       "version_minor": 0
      },
      "text/plain": [
       "Transcribing:   0%|          | 0/1 [00:00<?, ?it/s]"
      ]
     },
     "metadata": {},
     "output_type": "display_data"
    },
    {
     "name": "stdout",
     "output_type": "stream",
     "text": [
      "D:/daps/daps/ipad_office1/segments\\m9\\segment_14.wav\n",
      "m9\n"
     ]
    },
    {
     "data": {
      "application/vnd.jupyter.widget-view+json": {
       "model_id": "6d96739a13be47228bcd7dce4a948e99",
       "version_major": 2,
       "version_minor": 0
      },
      "text/plain": [
       "Transcribing:   0%|          | 0/1 [00:00<?, ?it/s]"
      ]
     },
     "metadata": {},
     "output_type": "display_data"
    },
    {
     "name": "stdout",
     "output_type": "stream",
     "text": [
      "D:/daps/daps/ipad_office1/segments\\m9\\segment_15.wav\n",
      "m9\n"
     ]
    },
    {
     "data": {
      "application/vnd.jupyter.widget-view+json": {
       "model_id": "039f45d9ac5f499cb7b436c3d14b79c6",
       "version_major": 2,
       "version_minor": 0
      },
      "text/plain": [
       "Transcribing:   0%|          | 0/1 [00:00<?, ?it/s]"
      ]
     },
     "metadata": {},
     "output_type": "display_data"
    },
    {
     "name": "stdout",
     "output_type": "stream",
     "text": [
      "D:/daps/daps/ipad_office1/segments\\m9\\segment_16.wav\n",
      "m9\n"
     ]
    },
    {
     "data": {
      "application/vnd.jupyter.widget-view+json": {
       "model_id": "3ed710066e52445e847028ba1913de65",
       "version_major": 2,
       "version_minor": 0
      },
      "text/plain": [
       "Transcribing:   0%|          | 0/1 [00:00<?, ?it/s]"
      ]
     },
     "metadata": {},
     "output_type": "display_data"
    },
    {
     "name": "stdout",
     "output_type": "stream",
     "text": [
      "D:/daps/daps/ipad_office1/segments\\m9\\segment_17.wav\n",
      "m9\n"
     ]
    },
    {
     "data": {
      "application/vnd.jupyter.widget-view+json": {
       "model_id": "c5b8c6b6462e4409b866d14a3aee9932",
       "version_major": 2,
       "version_minor": 0
      },
      "text/plain": [
       "Transcribing:   0%|          | 0/1 [00:00<?, ?it/s]"
      ]
     },
     "metadata": {},
     "output_type": "display_data"
    },
    {
     "name": "stdout",
     "output_type": "stream",
     "text": [
      "D:/daps/daps/ipad_office1/segments\\m9\\segment_18.wav\n",
      "m9\n"
     ]
    },
    {
     "data": {
      "application/vnd.jupyter.widget-view+json": {
       "model_id": "63720342586d459fa886842c94e8d5fe",
       "version_major": 2,
       "version_minor": 0
      },
      "text/plain": [
       "Transcribing:   0%|          | 0/1 [00:00<?, ?it/s]"
      ]
     },
     "metadata": {},
     "output_type": "display_data"
    },
    {
     "name": "stdout",
     "output_type": "stream",
     "text": [
      "D:/daps/daps/ipad_office1/segments\\m9\\segment_19.wav\n",
      "m9\n"
     ]
    },
    {
     "data": {
      "application/vnd.jupyter.widget-view+json": {
       "model_id": "5e27a5ccdff449e09bdd7e4f69241a18",
       "version_major": 2,
       "version_minor": 0
      },
      "text/plain": [
       "Transcribing:   0%|          | 0/1 [00:00<?, ?it/s]"
      ]
     },
     "metadata": {},
     "output_type": "display_data"
    },
    {
     "name": "stdout",
     "output_type": "stream",
     "text": [
      "D:/daps/daps/ipad_office1/segments\\m9\\segment_2.wav\n",
      "m9\n"
     ]
    },
    {
     "data": {
      "application/vnd.jupyter.widget-view+json": {
       "model_id": "04e11b6c4cbc4d399466affe453c8fdb",
       "version_major": 2,
       "version_minor": 0
      },
      "text/plain": [
       "Transcribing:   0%|          | 0/1 [00:00<?, ?it/s]"
      ]
     },
     "metadata": {},
     "output_type": "display_data"
    },
    {
     "name": "stdout",
     "output_type": "stream",
     "text": [
      "D:/daps/daps/ipad_office1/segments\\m9\\segment_20.wav\n",
      "m9\n"
     ]
    },
    {
     "data": {
      "application/vnd.jupyter.widget-view+json": {
       "model_id": "dbc278ab5e754e39a8821ad0dc23ed3b",
       "version_major": 2,
       "version_minor": 0
      },
      "text/plain": [
       "Transcribing:   0%|          | 0/1 [00:00<?, ?it/s]"
      ]
     },
     "metadata": {},
     "output_type": "display_data"
    },
    {
     "name": "stdout",
     "output_type": "stream",
     "text": [
      "D:/daps/daps/ipad_office1/segments\\m9\\segment_21.wav\n",
      "m9\n"
     ]
    },
    {
     "data": {
      "application/vnd.jupyter.widget-view+json": {
       "model_id": "5caebdbda5854a96a82164901d2d5518",
       "version_major": 2,
       "version_minor": 0
      },
      "text/plain": [
       "Transcribing:   0%|          | 0/1 [00:00<?, ?it/s]"
      ]
     },
     "metadata": {},
     "output_type": "display_data"
    },
    {
     "name": "stdout",
     "output_type": "stream",
     "text": [
      "D:/daps/daps/ipad_office1/segments\\m9\\segment_22.wav\n",
      "m9\n"
     ]
    },
    {
     "data": {
      "application/vnd.jupyter.widget-view+json": {
       "model_id": "55000a8b89c5456ba9e2869b25235b09",
       "version_major": 2,
       "version_minor": 0
      },
      "text/plain": [
       "Transcribing:   0%|          | 0/1 [00:00<?, ?it/s]"
      ]
     },
     "metadata": {},
     "output_type": "display_data"
    },
    {
     "name": "stdout",
     "output_type": "stream",
     "text": [
      "D:/daps/daps/ipad_office1/segments\\m9\\segment_23.wav\n",
      "m9\n"
     ]
    },
    {
     "data": {
      "application/vnd.jupyter.widget-view+json": {
       "model_id": "356b2c0aa44f4327a501f56cbde262e5",
       "version_major": 2,
       "version_minor": 0
      },
      "text/plain": [
       "Transcribing:   0%|          | 0/1 [00:00<?, ?it/s]"
      ]
     },
     "metadata": {},
     "output_type": "display_data"
    },
    {
     "name": "stdout",
     "output_type": "stream",
     "text": [
      "D:/daps/daps/ipad_office1/segments\\m9\\segment_24.wav\n",
      "m9\n"
     ]
    },
    {
     "data": {
      "application/vnd.jupyter.widget-view+json": {
       "model_id": "6f910b3182ff4c06b5f07a739aa12843",
       "version_major": 2,
       "version_minor": 0
      },
      "text/plain": [
       "Transcribing:   0%|          | 0/1 [00:00<?, ?it/s]"
      ]
     },
     "metadata": {},
     "output_type": "display_data"
    },
    {
     "name": "stdout",
     "output_type": "stream",
     "text": [
      "D:/daps/daps/ipad_office1/segments\\m9\\segment_25.wav\n",
      "m9\n"
     ]
    },
    {
     "data": {
      "application/vnd.jupyter.widget-view+json": {
       "model_id": "41ab62a9f922426c9e012a36d4bb070c",
       "version_major": 2,
       "version_minor": 0
      },
      "text/plain": [
       "Transcribing:   0%|          | 0/1 [00:00<?, ?it/s]"
      ]
     },
     "metadata": {},
     "output_type": "display_data"
    },
    {
     "name": "stdout",
     "output_type": "stream",
     "text": [
      "D:/daps/daps/ipad_office1/segments\\m9\\segment_26.wav\n",
      "m9\n"
     ]
    },
    {
     "data": {
      "application/vnd.jupyter.widget-view+json": {
       "model_id": "a14ebae1a9dd4f5bb65ff2ae034ed6ba",
       "version_major": 2,
       "version_minor": 0
      },
      "text/plain": [
       "Transcribing:   0%|          | 0/1 [00:00<?, ?it/s]"
      ]
     },
     "metadata": {},
     "output_type": "display_data"
    },
    {
     "name": "stdout",
     "output_type": "stream",
     "text": [
      "D:/daps/daps/ipad_office1/segments\\m9\\segment_27.wav\n",
      "m9\n"
     ]
    },
    {
     "data": {
      "application/vnd.jupyter.widget-view+json": {
       "model_id": "76daea6c3d4f487980f9319fa81d29ab",
       "version_major": 2,
       "version_minor": 0
      },
      "text/plain": [
       "Transcribing:   0%|          | 0/1 [00:00<?, ?it/s]"
      ]
     },
     "metadata": {},
     "output_type": "display_data"
    },
    {
     "name": "stdout",
     "output_type": "stream",
     "text": [
      "D:/daps/daps/ipad_office1/segments\\m9\\segment_28.wav\n",
      "m9\n"
     ]
    },
    {
     "data": {
      "application/vnd.jupyter.widget-view+json": {
       "model_id": "96eabeb7c6fc4197bc013a3aeb9bf583",
       "version_major": 2,
       "version_minor": 0
      },
      "text/plain": [
       "Transcribing:   0%|          | 0/1 [00:00<?, ?it/s]"
      ]
     },
     "metadata": {},
     "output_type": "display_data"
    },
    {
     "name": "stdout",
     "output_type": "stream",
     "text": [
      "D:/daps/daps/ipad_office1/segments\\m9\\segment_29.wav\n",
      "m9\n"
     ]
    },
    {
     "data": {
      "application/vnd.jupyter.widget-view+json": {
       "model_id": "473df390435941c984d1dd926ff49f0d",
       "version_major": 2,
       "version_minor": 0
      },
      "text/plain": [
       "Transcribing:   0%|          | 0/1 [00:00<?, ?it/s]"
      ]
     },
     "metadata": {},
     "output_type": "display_data"
    },
    {
     "name": "stdout",
     "output_type": "stream",
     "text": [
      "D:/daps/daps/ipad_office1/segments\\m9\\segment_3.wav\n",
      "m9\n"
     ]
    },
    {
     "data": {
      "application/vnd.jupyter.widget-view+json": {
       "model_id": "b5ff7c943d534e7f99c16043b071816e",
       "version_major": 2,
       "version_minor": 0
      },
      "text/plain": [
       "Transcribing:   0%|          | 0/1 [00:00<?, ?it/s]"
      ]
     },
     "metadata": {},
     "output_type": "display_data"
    },
    {
     "name": "stdout",
     "output_type": "stream",
     "text": [
      "D:/daps/daps/ipad_office1/segments\\m9\\segment_30.wav\n",
      "m9\n"
     ]
    },
    {
     "data": {
      "application/vnd.jupyter.widget-view+json": {
       "model_id": "20d2d16c951845aba0e497a7ab5090e1",
       "version_major": 2,
       "version_minor": 0
      },
      "text/plain": [
       "Transcribing:   0%|          | 0/1 [00:00<?, ?it/s]"
      ]
     },
     "metadata": {},
     "output_type": "display_data"
    },
    {
     "name": "stdout",
     "output_type": "stream",
     "text": [
      "D:/daps/daps/ipad_office1/segments\\m9\\segment_31.wav\n",
      "m9\n"
     ]
    },
    {
     "data": {
      "application/vnd.jupyter.widget-view+json": {
       "model_id": "9515a2e24d024b68b00d1df044b0ca35",
       "version_major": 2,
       "version_minor": 0
      },
      "text/plain": [
       "Transcribing:   0%|          | 0/1 [00:00<?, ?it/s]"
      ]
     },
     "metadata": {},
     "output_type": "display_data"
    },
    {
     "name": "stdout",
     "output_type": "stream",
     "text": [
      "D:/daps/daps/ipad_office1/segments\\m9\\segment_32.wav\n",
      "m9\n"
     ]
    },
    {
     "data": {
      "application/vnd.jupyter.widget-view+json": {
       "model_id": "793cf8fe96cf4e8a8be948a829ca31cd",
       "version_major": 2,
       "version_minor": 0
      },
      "text/plain": [
       "Transcribing:   0%|          | 0/1 [00:00<?, ?it/s]"
      ]
     },
     "metadata": {},
     "output_type": "display_data"
    },
    {
     "name": "stdout",
     "output_type": "stream",
     "text": [
      "D:/daps/daps/ipad_office1/segments\\m9\\segment_33.wav\n",
      "m9\n"
     ]
    },
    {
     "data": {
      "application/vnd.jupyter.widget-view+json": {
       "model_id": "bf398dfc43834802aed62ca1ca865762",
       "version_major": 2,
       "version_minor": 0
      },
      "text/plain": [
       "Transcribing:   0%|          | 0/1 [00:00<?, ?it/s]"
      ]
     },
     "metadata": {},
     "output_type": "display_data"
    },
    {
     "name": "stdout",
     "output_type": "stream",
     "text": [
      "D:/daps/daps/ipad_office1/segments\\m9\\segment_34.wav\n",
      "m9\n"
     ]
    },
    {
     "data": {
      "application/vnd.jupyter.widget-view+json": {
       "model_id": "de2bf66371234dacaf94593b8ef90095",
       "version_major": 2,
       "version_minor": 0
      },
      "text/plain": [
       "Transcribing:   0%|          | 0/1 [00:00<?, ?it/s]"
      ]
     },
     "metadata": {},
     "output_type": "display_data"
    },
    {
     "name": "stdout",
     "output_type": "stream",
     "text": [
      "D:/daps/daps/ipad_office1/segments\\m9\\segment_4.wav\n",
      "m9\n"
     ]
    },
    {
     "data": {
      "application/vnd.jupyter.widget-view+json": {
       "model_id": "13a2c213624f4afd8d3b968842c7688a",
       "version_major": 2,
       "version_minor": 0
      },
      "text/plain": [
       "Transcribing:   0%|          | 0/1 [00:00<?, ?it/s]"
      ]
     },
     "metadata": {},
     "output_type": "display_data"
    },
    {
     "name": "stdout",
     "output_type": "stream",
     "text": [
      "D:/daps/daps/ipad_office1/segments\\m9\\segment_5.wav\n",
      "m9\n"
     ]
    },
    {
     "data": {
      "application/vnd.jupyter.widget-view+json": {
       "model_id": "34a2235c8fba4470b6857c64deca1d2d",
       "version_major": 2,
       "version_minor": 0
      },
      "text/plain": [
       "Transcribing:   0%|          | 0/1 [00:00<?, ?it/s]"
      ]
     },
     "metadata": {},
     "output_type": "display_data"
    },
    {
     "name": "stdout",
     "output_type": "stream",
     "text": [
      "D:/daps/daps/ipad_office1/segments\\m9\\segment_6.wav\n",
      "m9\n"
     ]
    },
    {
     "data": {
      "application/vnd.jupyter.widget-view+json": {
       "model_id": "af2e9955eda540b5ab85ca1a4dae3e98",
       "version_major": 2,
       "version_minor": 0
      },
      "text/plain": [
       "Transcribing:   0%|          | 0/1 [00:00<?, ?it/s]"
      ]
     },
     "metadata": {},
     "output_type": "display_data"
    },
    {
     "name": "stdout",
     "output_type": "stream",
     "text": [
      "D:/daps/daps/ipad_office1/segments\\m9\\segment_7.wav\n",
      "m9\n"
     ]
    },
    {
     "data": {
      "application/vnd.jupyter.widget-view+json": {
       "model_id": "ddd4be806646451aa9dd8545b07b6f45",
       "version_major": 2,
       "version_minor": 0
      },
      "text/plain": [
       "Transcribing:   0%|          | 0/1 [00:00<?, ?it/s]"
      ]
     },
     "metadata": {},
     "output_type": "display_data"
    },
    {
     "name": "stdout",
     "output_type": "stream",
     "text": [
      "D:/daps/daps/ipad_office1/segments\\m9\\segment_8.wav\n",
      "m9\n"
     ]
    },
    {
     "data": {
      "application/vnd.jupyter.widget-view+json": {
       "model_id": "85034f4fda894a99910e8cb694710ff9",
       "version_major": 2,
       "version_minor": 0
      },
      "text/plain": [
       "Transcribing:   0%|          | 0/1 [00:00<?, ?it/s]"
      ]
     },
     "metadata": {},
     "output_type": "display_data"
    },
    {
     "name": "stdout",
     "output_type": "stream",
     "text": [
      "D:/daps/daps/ipad_office1/segments\\m9\\segment_9.wav\n",
      "m9\n"
     ]
    },
    {
     "data": {
      "application/vnd.jupyter.widget-view+json": {
       "model_id": "601c94ffdf934f178a58427c53c267cb",
       "version_major": 2,
       "version_minor": 0
      },
      "text/plain": [
       "Transcribing:   0%|          | 0/1 [00:00<?, ?it/s]"
      ]
     },
     "metadata": {},
     "output_type": "display_data"
    }
   ],
   "source": [
    "for index, row in segments_df.iterrows():\n",
    "    print(row['wav_files'])\n",
    "    print(row['speaker'])\n",
    "    #print(row['file_name'])\n",
    "    transcriptions = parakeet_ctc_process(asr_model, row['wav_files'])\n",
    "    # append the transcriptions to the df\n",
    "    segments_df.at[index, 'transcriptions'] = transcriptions"
   ]
  },
  {
   "cell_type": "code",
   "execution_count": 15,
   "metadata": {},
   "outputs": [
    {
     "data": {
      "text/html": [
       "<div>\n",
       "<style scoped>\n",
       "    .dataframe tbody tr th:only-of-type {\n",
       "        vertical-align: middle;\n",
       "    }\n",
       "\n",
       "    .dataframe tbody tr th {\n",
       "        vertical-align: top;\n",
       "    }\n",
       "\n",
       "    .dataframe thead th {\n",
       "        text-align: right;\n",
       "    }\n",
       "</style>\n",
       "<table border=\"1\" class=\"dataframe\">\n",
       "  <thead>\n",
       "    <tr style=\"text-align: right;\">\n",
       "      <th></th>\n",
       "      <th>wav_files</th>\n",
       "      <th>file_name</th>\n",
       "      <th>speaker</th>\n",
       "      <th>transcriptions</th>\n",
       "    </tr>\n",
       "  </thead>\n",
       "  <tbody>\n",
       "    <tr>\n",
       "      <th>0</th>\n",
       "      <td>D:/daps/daps/ipad_office1/segments\\f1\\segment_...</td>\n",
       "      <td>f1</td>\n",
       "      <td>f1</td>\n",
       "      <td>captain neimmo stood up</td>\n",
       "    </tr>\n",
       "    <tr>\n",
       "      <th>1</th>\n",
       "      <td>D:/daps/daps/ipad_office1/segments\\f1\\segment_...</td>\n",
       "      <td>f1</td>\n",
       "      <td>f1</td>\n",
       "      <td>i followed him</td>\n",
       "    </tr>\n",
       "    <tr>\n",
       "      <th>2</th>\n",
       "      <td>D:/daps/daps/ipad_office1/segments\\f1\\segment_...</td>\n",
       "      <td>f1</td>\n",
       "      <td>f1</td>\n",
       "      <td>sat in the scroll work up the ceiling</td>\n",
       "    </tr>\n",
       "    <tr>\n",
       "      <th>3</th>\n",
       "      <td>D:/daps/daps/ipad_office1/segments\\f1\\segment_...</td>\n",
       "      <td>f1</td>\n",
       "      <td>f1</td>\n",
       "      <td>i stared in genuine wonderment at this room so...</td>\n",
       "    </tr>\n",
       "    <tr>\n",
       "      <th>4</th>\n",
       "      <td>D:/daps/daps/ipad_office1/segments\\f1\\segment_...</td>\n",
       "      <td>f1</td>\n",
       "      <td>f1</td>\n",
       "      <td>and i couldn't believe my eyes</td>\n",
       "    </tr>\n",
       "    <tr>\n",
       "      <th>...</th>\n",
       "      <td>...</td>\n",
       "      <td>...</td>\n",
       "      <td>...</td>\n",
       "      <td>...</td>\n",
       "    </tr>\n",
       "    <tr>\n",
       "      <th>660</th>\n",
       "      <td>D:/daps/daps/ipad_office1/segments\\m9\\segment_...</td>\n",
       "      <td>m9</td>\n",
       "      <td>m9</td>\n",
       "      <td>inlaid with copperwor</td>\n",
       "    </tr>\n",
       "    <tr>\n",
       "      <th>661</th>\n",
       "      <td>D:/daps/daps/ipad_office1/segments\\m9\\segment_...</td>\n",
       "      <td>m9</td>\n",
       "      <td>m9</td>\n",
       "      <td>other than their wide shelves a large number o...</td>\n",
       "    </tr>\n",
       "    <tr>\n",
       "      <th>662</th>\n",
       "      <td>D:/daps/daps/ipad_office1/segments\\m9\\segment_...</td>\n",
       "      <td>m9</td>\n",
       "      <td>m9</td>\n",
       "      <td>these furnishings followed the contours of the...</td>\n",
       "    </tr>\n",
       "    <tr>\n",
       "      <th>663</th>\n",
       "      <td>D:/daps/daps/ipad_office1/segments\\m9\\segment_...</td>\n",
       "      <td>m9</td>\n",
       "      <td>m9</td>\n",
       "      <td>their lower parts leading to huge couches upho...</td>\n",
       "    </tr>\n",
       "    <tr>\n",
       "      <th>664</th>\n",
       "      <td>D:/daps/daps/ipad_office1/segments\\m9\\segment_...</td>\n",
       "      <td>m9</td>\n",
       "      <td>m9</td>\n",
       "      <td>light movable reading stands which could be pu...</td>\n",
       "    </tr>\n",
       "  </tbody>\n",
       "</table>\n",
       "<p>665 rows × 4 columns</p>\n",
       "</div>"
      ],
      "text/plain": [
       "                                             wav_files file_name speaker  \\\n",
       "0    D:/daps/daps/ipad_office1/segments\\f1\\segment_...        f1      f1   \n",
       "1    D:/daps/daps/ipad_office1/segments\\f1\\segment_...        f1      f1   \n",
       "2    D:/daps/daps/ipad_office1/segments\\f1\\segment_...        f1      f1   \n",
       "3    D:/daps/daps/ipad_office1/segments\\f1\\segment_...        f1      f1   \n",
       "4    D:/daps/daps/ipad_office1/segments\\f1\\segment_...        f1      f1   \n",
       "..                                                 ...       ...     ...   \n",
       "660  D:/daps/daps/ipad_office1/segments\\m9\\segment_...        m9      m9   \n",
       "661  D:/daps/daps/ipad_office1/segments\\m9\\segment_...        m9      m9   \n",
       "662  D:/daps/daps/ipad_office1/segments\\m9\\segment_...        m9      m9   \n",
       "663  D:/daps/daps/ipad_office1/segments\\m9\\segment_...        m9      m9   \n",
       "664  D:/daps/daps/ipad_office1/segments\\m9\\segment_...        m9      m9   \n",
       "\n",
       "                                        transcriptions  \n",
       "0                              captain neimmo stood up  \n",
       "1                                       i followed him  \n",
       "2                sat in the scroll work up the ceiling  \n",
       "3    i stared in genuine wonderment at this room so...  \n",
       "4                       and i couldn't believe my eyes  \n",
       "..                                                 ...  \n",
       "660                              inlaid with copperwor  \n",
       "661  other than their wide shelves a large number o...  \n",
       "662  these furnishings followed the contours of the...  \n",
       "663  their lower parts leading to huge couches upho...  \n",
       "664  light movable reading stands which could be pu...  \n",
       "\n",
       "[665 rows x 4 columns]"
      ]
     },
     "execution_count": 15,
     "metadata": {},
     "output_type": "execute_result"
    }
   ],
   "source": [
    "segments_df['transcriptions'] = segments_df['transcriptions'].apply(lambda x: x[0] if isinstance(x, list) else x)\n",
    "segments_df"
   ]
  },
  {
   "cell_type": "code",
   "execution_count": 16,
   "metadata": {},
   "outputs": [],
   "source": [
    "segments_df.to_csv(\"f_segments.csv\", index=False)"
   ]
  },
  {
   "cell_type": "code",
   "execution_count": 1,
   "metadata": {},
   "outputs": [
    {
     "data": {
      "text/html": [
       "<div>\n",
       "<style scoped>\n",
       "    .dataframe tbody tr th:only-of-type {\n",
       "        vertical-align: middle;\n",
       "    }\n",
       "\n",
       "    .dataframe tbody tr th {\n",
       "        vertical-align: top;\n",
       "    }\n",
       "\n",
       "    .dataframe thead th {\n",
       "        text-align: right;\n",
       "    }\n",
       "</style>\n",
       "<table border=\"1\" class=\"dataframe\">\n",
       "  <thead>\n",
       "    <tr style=\"text-align: right;\">\n",
       "      <th></th>\n",
       "      <th>wav_files</th>\n",
       "      <th>file_name</th>\n",
       "      <th>speaker</th>\n",
       "      <th>transcriptions</th>\n",
       "    </tr>\n",
       "  </thead>\n",
       "  <tbody>\n",
       "    <tr>\n",
       "      <th>0</th>\n",
       "      <td>D:/daps/daps/ipad_office1/segments\\f1\\segment_...</td>\n",
       "      <td>f1</td>\n",
       "      <td>f1</td>\n",
       "      <td>captain neimmo stood up</td>\n",
       "    </tr>\n",
       "    <tr>\n",
       "      <th>1</th>\n",
       "      <td>D:/daps/daps/ipad_office1/segments\\f1\\segment_...</td>\n",
       "      <td>f1</td>\n",
       "      <td>f1</td>\n",
       "      <td>i followed him</td>\n",
       "    </tr>\n",
       "    <tr>\n",
       "      <th>2</th>\n",
       "      <td>D:/daps/daps/ipad_office1/segments\\f1\\segment_...</td>\n",
       "      <td>f1</td>\n",
       "      <td>f1</td>\n",
       "      <td>sat in the scroll work up the ceiling</td>\n",
       "    </tr>\n",
       "    <tr>\n",
       "      <th>3</th>\n",
       "      <td>D:/daps/daps/ipad_office1/segments\\f1\\segment_...</td>\n",
       "      <td>f1</td>\n",
       "      <td>f1</td>\n",
       "      <td>i stared in genuine wonderment at this room so...</td>\n",
       "    </tr>\n",
       "    <tr>\n",
       "      <th>4</th>\n",
       "      <td>D:/daps/daps/ipad_office1/segments\\f1\\segment_...</td>\n",
       "      <td>f1</td>\n",
       "      <td>f1</td>\n",
       "      <td>and i couldn't believe my eyes</td>\n",
       "    </tr>\n",
       "    <tr>\n",
       "      <th>...</th>\n",
       "      <td>...</td>\n",
       "      <td>...</td>\n",
       "      <td>...</td>\n",
       "      <td>...</td>\n",
       "    </tr>\n",
       "    <tr>\n",
       "      <th>660</th>\n",
       "      <td>D:/daps/daps/ipad_office1/segments\\m9\\segment_...</td>\n",
       "      <td>m9</td>\n",
       "      <td>m9</td>\n",
       "      <td>inlaid with copperwor</td>\n",
       "    </tr>\n",
       "    <tr>\n",
       "      <th>661</th>\n",
       "      <td>D:/daps/daps/ipad_office1/segments\\m9\\segment_...</td>\n",
       "      <td>m9</td>\n",
       "      <td>m9</td>\n",
       "      <td>other than their wide shelves a large number o...</td>\n",
       "    </tr>\n",
       "    <tr>\n",
       "      <th>662</th>\n",
       "      <td>D:/daps/daps/ipad_office1/segments\\m9\\segment_...</td>\n",
       "      <td>m9</td>\n",
       "      <td>m9</td>\n",
       "      <td>these furnishings followed the contours of the...</td>\n",
       "    </tr>\n",
       "    <tr>\n",
       "      <th>663</th>\n",
       "      <td>D:/daps/daps/ipad_office1/segments\\m9\\segment_...</td>\n",
       "      <td>m9</td>\n",
       "      <td>m9</td>\n",
       "      <td>their lower parts leading to huge couches upho...</td>\n",
       "    </tr>\n",
       "    <tr>\n",
       "      <th>664</th>\n",
       "      <td>D:/daps/daps/ipad_office1/segments\\m9\\segment_...</td>\n",
       "      <td>m9</td>\n",
       "      <td>m9</td>\n",
       "      <td>light movable reading stands which could be pu...</td>\n",
       "    </tr>\n",
       "  </tbody>\n",
       "</table>\n",
       "<p>665 rows × 4 columns</p>\n",
       "</div>"
      ],
      "text/plain": [
       "                                             wav_files file_name speaker  \\\n",
       "0    D:/daps/daps/ipad_office1/segments\\f1\\segment_...        f1      f1   \n",
       "1    D:/daps/daps/ipad_office1/segments\\f1\\segment_...        f1      f1   \n",
       "2    D:/daps/daps/ipad_office1/segments\\f1\\segment_...        f1      f1   \n",
       "3    D:/daps/daps/ipad_office1/segments\\f1\\segment_...        f1      f1   \n",
       "4    D:/daps/daps/ipad_office1/segments\\f1\\segment_...        f1      f1   \n",
       "..                                                 ...       ...     ...   \n",
       "660  D:/daps/daps/ipad_office1/segments\\m9\\segment_...        m9      m9   \n",
       "661  D:/daps/daps/ipad_office1/segments\\m9\\segment_...        m9      m9   \n",
       "662  D:/daps/daps/ipad_office1/segments\\m9\\segment_...        m9      m9   \n",
       "663  D:/daps/daps/ipad_office1/segments\\m9\\segment_...        m9      m9   \n",
       "664  D:/daps/daps/ipad_office1/segments\\m9\\segment_...        m9      m9   \n",
       "\n",
       "                                        transcriptions  \n",
       "0                              captain neimmo stood up  \n",
       "1                                       i followed him  \n",
       "2                sat in the scroll work up the ceiling  \n",
       "3    i stared in genuine wonderment at this room so...  \n",
       "4                       and i couldn't believe my eyes  \n",
       "..                                                 ...  \n",
       "660                              inlaid with copperwor  \n",
       "661  other than their wide shelves a large number o...  \n",
       "662  these furnishings followed the contours of the...  \n",
       "663  their lower parts leading to huge couches upho...  \n",
       "664  light movable reading stands which could be pu...  \n",
       "\n",
       "[665 rows x 4 columns]"
      ]
     },
     "execution_count": 1,
     "metadata": {},
     "output_type": "execute_result"
    }
   ],
   "source": [
    "import pandas as pd\n",
    "segments_df = pd.read_csv(\"f_segments.csv\")\n",
    "segments_df"
   ]
  },
  {
   "cell_type": "code",
   "execution_count": 2,
   "metadata": {},
   "outputs": [
    {
     "data": {
      "text/html": [
       "<div>\n",
       "<style scoped>\n",
       "    .dataframe tbody tr th:only-of-type {\n",
       "        vertical-align: middle;\n",
       "    }\n",
       "\n",
       "    .dataframe tbody tr th {\n",
       "        vertical-align: top;\n",
       "    }\n",
       "\n",
       "    .dataframe thead th {\n",
       "        text-align: right;\n",
       "    }\n",
       "</style>\n",
       "<table border=\"1\" class=\"dataframe\">\n",
       "  <thead>\n",
       "    <tr style=\"text-align: right;\">\n",
       "      <th></th>\n",
       "      <th>wav_files</th>\n",
       "      <th>transcriptions</th>\n",
       "      <th>transcriptions2</th>\n",
       "      <th>speaker</th>\n",
       "    </tr>\n",
       "  </thead>\n",
       "  <tbody>\n",
       "    <tr>\n",
       "      <th>0</th>\n",
       "      <td>D:/daps/daps/ipad_office1/segments\\f1\\segment_...</td>\n",
       "      <td>captain neimmo stood up</td>\n",
       "      <td>captain neimmo stood up</td>\n",
       "      <td>f1</td>\n",
       "    </tr>\n",
       "    <tr>\n",
       "      <th>1</th>\n",
       "      <td>D:/daps/daps/ipad_office1/segments\\f1\\segment_...</td>\n",
       "      <td>i followed him</td>\n",
       "      <td>i followed him</td>\n",
       "      <td>f1</td>\n",
       "    </tr>\n",
       "    <tr>\n",
       "      <th>2</th>\n",
       "      <td>D:/daps/daps/ipad_office1/segments\\f1\\segment_...</td>\n",
       "      <td>sat in the scroll work up the ceiling</td>\n",
       "      <td>sat in the scroll work up the ceiling</td>\n",
       "      <td>f1</td>\n",
       "    </tr>\n",
       "    <tr>\n",
       "      <th>3</th>\n",
       "      <td>D:/daps/daps/ipad_office1/segments\\f1\\segment_...</td>\n",
       "      <td>i stared in genuine wonderment at this room so...</td>\n",
       "      <td>i stared in genuine wonderment at this room so...</td>\n",
       "      <td>f1</td>\n",
       "    </tr>\n",
       "    <tr>\n",
       "      <th>4</th>\n",
       "      <td>D:/daps/daps/ipad_office1/segments\\f1\\segment_...</td>\n",
       "      <td>and i couldn't believe my eyes</td>\n",
       "      <td>and i couldn't believe my eyes</td>\n",
       "      <td>f1</td>\n",
       "    </tr>\n",
       "    <tr>\n",
       "      <th>...</th>\n",
       "      <td>...</td>\n",
       "      <td>...</td>\n",
       "      <td>...</td>\n",
       "      <td>...</td>\n",
       "    </tr>\n",
       "    <tr>\n",
       "      <th>660</th>\n",
       "      <td>D:/daps/daps/ipad_office1/segments\\m9\\segment_...</td>\n",
       "      <td>inlaid with copperwor</td>\n",
       "      <td>inlaid with copperwor</td>\n",
       "      <td>m9</td>\n",
       "    </tr>\n",
       "    <tr>\n",
       "      <th>661</th>\n",
       "      <td>D:/daps/daps/ipad_office1/segments\\m9\\segment_...</td>\n",
       "      <td>other than their wide shelves a large number o...</td>\n",
       "      <td>other than their wide shelves a large number o...</td>\n",
       "      <td>m9</td>\n",
       "    </tr>\n",
       "    <tr>\n",
       "      <th>662</th>\n",
       "      <td>D:/daps/daps/ipad_office1/segments\\m9\\segment_...</td>\n",
       "      <td>these furnishings followed the contours of the...</td>\n",
       "      <td>these furnishings followed the contours of the...</td>\n",
       "      <td>m9</td>\n",
       "    </tr>\n",
       "    <tr>\n",
       "      <th>663</th>\n",
       "      <td>D:/daps/daps/ipad_office1/segments\\m9\\segment_...</td>\n",
       "      <td>their lower parts leading to huge couches upho...</td>\n",
       "      <td>their lower parts leading to huge couches upho...</td>\n",
       "      <td>m9</td>\n",
       "    </tr>\n",
       "    <tr>\n",
       "      <th>664</th>\n",
       "      <td>D:/daps/daps/ipad_office1/segments\\m9\\segment_...</td>\n",
       "      <td>light movable reading stands which could be pu...</td>\n",
       "      <td>light movable reading stands which could be pu...</td>\n",
       "      <td>m9</td>\n",
       "    </tr>\n",
       "  </tbody>\n",
       "</table>\n",
       "<p>665 rows × 4 columns</p>\n",
       "</div>"
      ],
      "text/plain": [
       "                                             wav_files  \\\n",
       "0    D:/daps/daps/ipad_office1/segments\\f1\\segment_...   \n",
       "1    D:/daps/daps/ipad_office1/segments\\f1\\segment_...   \n",
       "2    D:/daps/daps/ipad_office1/segments\\f1\\segment_...   \n",
       "3    D:/daps/daps/ipad_office1/segments\\f1\\segment_...   \n",
       "4    D:/daps/daps/ipad_office1/segments\\f1\\segment_...   \n",
       "..                                                 ...   \n",
       "660  D:/daps/daps/ipad_office1/segments\\m9\\segment_...   \n",
       "661  D:/daps/daps/ipad_office1/segments\\m9\\segment_...   \n",
       "662  D:/daps/daps/ipad_office1/segments\\m9\\segment_...   \n",
       "663  D:/daps/daps/ipad_office1/segments\\m9\\segment_...   \n",
       "664  D:/daps/daps/ipad_office1/segments\\m9\\segment_...   \n",
       "\n",
       "                                        transcriptions  \\\n",
       "0                              captain neimmo stood up   \n",
       "1                                       i followed him   \n",
       "2                sat in the scroll work up the ceiling   \n",
       "3    i stared in genuine wonderment at this room so...   \n",
       "4                       and i couldn't believe my eyes   \n",
       "..                                                 ...   \n",
       "660                              inlaid with copperwor   \n",
       "661  other than their wide shelves a large number o...   \n",
       "662  these furnishings followed the contours of the...   \n",
       "663  their lower parts leading to huge couches upho...   \n",
       "664  light movable reading stands which could be pu...   \n",
       "\n",
       "                                       transcriptions2 speaker  \n",
       "0                              captain neimmo stood up      f1  \n",
       "1                                       i followed him      f1  \n",
       "2                sat in the scroll work up the ceiling      f1  \n",
       "3    i stared in genuine wonderment at this room so...      f1  \n",
       "4                       and i couldn't believe my eyes      f1  \n",
       "..                                                 ...     ...  \n",
       "660                              inlaid with copperwor      m9  \n",
       "661  other than their wide shelves a large number o...      m9  \n",
       "662  these furnishings followed the contours of the...      m9  \n",
       "663  their lower parts leading to huge couches upho...      m9  \n",
       "664  light movable reading stands which could be pu...      m9  \n",
       "\n",
       "[665 rows x 4 columns]"
      ]
     },
     "execution_count": 2,
     "metadata": {},
     "output_type": "execute_result"
    }
   ],
   "source": [
    "segments_df.drop('file_name', axis=1, inplace=True)\n",
    "segments_df['transcriptions2'] = segments_df['transcriptions']\n",
    "# and change the order of the columns to wav_files, transcriptions,transcriptions2, speaker\n",
    "segments_df = segments_df[['wav_files', 'transcriptions', 'transcriptions2', 'speaker']]\n",
    "segments_df"
   ]
  },
  {
   "cell_type": "code",
   "execution_count": 39,
   "metadata": {},
   "outputs": [],
   "source": [
    "from sklearn.model_selection import train_test_split\n",
    "# keep only m1\n",
    "segments_df_m1 = segments_df[segments_df['speaker'] == 'm1']\n",
    "train, test = train_test_split(segments_df_m1, test_size=0.2, random_state=42)\n",
    "train.to_csv(\"D:/daps/daps/ipad_office1/segments/meta_train.csv\", index=False, sep='|')\n",
    "test.to_csv(\"D:/daps/daps/ipad_office1/segments/meta_test.csv\", index=False, sep='|')"
   ]
  },
  {
   "cell_type": "code",
   "execution_count": null,
   "metadata": {},
   "outputs": [],
   "source": [
    "test = pd.read_csv(\"D:/daps/daps/ipad_office1/segments/meta_test.csv\", sep='|')\n",
    "# rename wav\n",
    "test.rename(columns={'wav_files': 'audio_file', 'transcriptions': 'text', 'speaker': 'speaker_name'}, inplace=True)\n",
    "# save the test df to a csv file\n",
    "test.to_csv(\"D:/daps/daps/ipad_office1/segments/meta_test.csv\", index=False, sep='|')"
   ]
  },
  {
   "cell_type": "code",
   "execution_count": null,
   "metadata": {},
   "outputs": [],
   "source": [
    "import pandas as pd\n",
    "train = pd.read_csv(\"D:/daps/daps/ipad_office1/segments/meta_train.csv\", sep='|')\n",
    "# rename wav_files to audio_file, transcriptions to text, speaker to speaker_name\n",
    "train.rename(columns={'wav_files': 'audio_file', 'transcriptions': 'text', 'speaker': 'speaker_name'}, inplace=True)\n",
    "# save the train df to a csv file\n",
    "train.to_csv(\"D:/daps/daps/ipad_office1/segments/meta_train.csv\", index=False, sep='|')\n"
   ]
  },
  {
   "cell_type": "code",
   "execution_count": 5,
   "metadata": {},
   "outputs": [],
   "source": [
    "meta_train_path = \"D:/daps/daps/ipad_office1/segments/meta_train.csv\"\n",
    "meta_test_path = \"D:/daps/daps/ipad_office1/segments/meta_test.csv\""
   ]
  },
  {
   "cell_type": "code",
   "execution_count": 1,
   "metadata": {},
   "outputs": [
    {
     "name": "stderr",
     "output_type": "stream",
     "text": [
      "c:\\Users\\spn\\anaconda3\\envs\\capstone\\Lib\\site-packages\\transformers\\utils\\generic.py:441: UserWarning: torch.utils._pytree._register_pytree_node is deprecated. Please use torch.utils._pytree.register_pytree_node instead.\n",
      "  _torch_pytree._register_pytree_node(\n",
      "c:\\Users\\spn\\anaconda3\\envs\\capstone\\Lib\\site-packages\\transformers\\utils\\generic.py:309: UserWarning: torch.utils._pytree._register_pytree_node is deprecated. Please use torch.utils._pytree.register_pytree_node instead.\n",
      "  _torch_pytree._register_pytree_node(\n",
      "c:\\Users\\spn\\anaconda3\\envs\\capstone\\Lib\\site-packages\\transformers\\utils\\generic.py:309: UserWarning: torch.utils._pytree._register_pytree_node is deprecated. Please use torch.utils._pytree.register_pytree_node instead.\n",
      "  _torch_pytree._register_pytree_node(\n"
     ]
    }
   ],
   "source": [
    "import os\n",
    "import numpy as np\n",
    "import traceback\n",
    "from TTS.demos.xtts_ft_demo.utils.gpt_train import train_gpt\n",
    "import torch\n",
    "import torchaudio\n",
    "from TTS.tts.configs.xtts_config import XttsConfig\n",
    "from TTS.tts.models.xtts import Xtts\n",
    "class xtts_v2_Model():\n",
    "    def __init__(self, train_csv_path, eval_csv_path, num_epochs, batch_size, grad_acumm, output_path, max_audio_length, language=\"en\"):\n",
    "        self.train_csv_path = train_csv_path\n",
    "        self.eval_csv_path = eval_csv_path\n",
    "        self.num_epochs = num_epochs\n",
    "        self.batch_size = batch_size\n",
    "        self.grad_acumm = grad_acumm\n",
    "        self.output_path = output_path\n",
    "        self.max_audio_length = max_audio_length\n",
    "        self.language = language\n",
    "        self.config_path = None\n",
    "        self.original_xtts_checkpoint = None\n",
    "        self.vocab_file = None\n",
    "        self.exp_path = None\n",
    "        self.speaker_wav = None\n",
    "\n",
    "\n",
    "    def train_model(self):\n",
    "        #clear_gpu_cache()\n",
    "        if not self.train_csv_path or not self.eval_csv_path:\n",
    "            return \"You need to run the data processing step or manually set `Train CSV` and `Eval CSV` fields !\", \"\", \"\", \"\", \"\"\n",
    "        try:\n",
    "            # convert seconds to waveform frames\n",
    "            max_audio_length = int(self.max_audio_length * 22050)\n",
    "            self.config_path, self.original_xtts_checkpoint, self.vocab_file, self.exp_path, self.speaker_wav = train_gpt(self.language, self.num_epochs, self.batch_size, self.grad_acumm, self.train_csv_path, self.eval_csv_path, output_path=self.output_path, max_audio_length=max_audio_length)\n",
    "        except:\n",
    "            traceback.print_exc()\n",
    "            error = traceback.format_exc()\n",
    "            return f\"The training was interrupted due an error !! Please check the console to check the full error message! \\n Error summary: {error}\", \"\", \"\", \"\", \"\"\n",
    "\n",
    "        # copy original files to avoid parameters changes issues\n",
    "        os.system(f\"cp {self.config_path} {self.exp_path}\")\n",
    "        os.system(f\"cp {self.vocab_file} {self.exp_path}\")\n",
    "\n",
    "        ft_xtts_checkpoint = os.path.join(self.exp_path, \"best_model.pth\")\n",
    "        print(\"Model training done!\")\n",
    "        #clear_gpu_cache()\n",
    "        return \"Model training done!\", self.config_path, self.vocab_file, ft_xtts_checkpoint, self.speaker_wav\n"
   ]
  },
  {
   "cell_type": "code",
   "execution_count": 2,
   "metadata": {},
   "outputs": [],
   "source": [
    "train_meta = 'D:/daps/daps/ipad_office1/segments/meta_train.csv'\n",
    "eval_meta = 'D:/daps/daps/ipad_office1/segments/meta_test.csv'\n",
    "num_epochs = 10\n",
    "batch_size = 4\n",
    "grad_acumm = 1\n",
    "out_path = 'D:/daps/daps/ipad_office1/segments/xtts_v2'\n",
    "max_audio_length = 10\n",
    "lang = \"en\"\n",
    "xtts_v2 =xtts_v2_Model(train_meta, eval_meta, num_epochs, batch_size, grad_acumm, out_path, max_audio_length, lang)"
   ]
  },
  {
   "cell_type": "code",
   "execution_count": 3,
   "metadata": {},
   "outputs": [
    {
     "name": "stderr",
     "output_type": "stream",
     "text": [
      " > Training Environment:\n",
      " | > Backend: Torch\n",
      " | > Mixed precision: False\n",
      " | > Precision: float32\n",
      " | > Current device: 0\n",
      " | > Num. of GPUs: 1\n",
      " | > Num. of CPUs: 16\n",
      " | > Num. of Torch Threads: 1\n",
      " | > Torch seed: 1\n",
      " | > Torch CUDNN: True\n",
      " | > Torch CUDNN deterministic: False\n",
      " | > Torch CUDNN benchmark: False\n",
      " | > Torch TF32 MatMul: False\n"
     ]
    },
    {
     "name": "stdout",
     "output_type": "stream",
     "text": [
      ">> DVAE weights restored from: D:/daps/daps/ipad_office1/segments/xtts_v2\\run\\training\\XTTS_v2.0_original_model_files/dvae.pth\n",
      " | > Found 28 files in D:\\daps\\daps\\ipad_office1\\segments\n"
     ]
    },
    {
     "name": "stderr",
     "output_type": "stream",
     "text": [
      " > Start Tensorboard: tensorboard --logdir=D:/daps/daps/ipad_office1/segments/xtts_v2\\run\\training\\GPT_XTTS_FT-April-08-2024_01+42PM-944ace8\n",
      "\n",
      " > Model has 518442047 parameters\n",
      "\n",
      "\u001b[4m\u001b[1m > EPOCH: 0/10\u001b[0m\n",
      " --> D:/daps/daps/ipad_office1/segments/xtts_v2\\run\\training\\GPT_XTTS_FT-April-08-2024_01+42PM-944ace8\n",
      "\n",
      "\u001b[1m > TRAINING (2024-04-08 13:43:11) \u001b[0m\n"
     ]
    },
    {
     "name": "stdout",
     "output_type": "stream",
     "text": [
      " > Sampling by language: dict_keys(['en'])\n"
     ]
    },
    {
     "name": "stderr",
     "output_type": "stream",
     "text": [
      "\n",
      "\u001b[1m   --> TIME: 2024-04-08 13:46:39 -- STEP: 0/7 -- GLOBAL_STEP: 0\u001b[0m\n",
      "     | > loss_text_ce: 0.022716492414474487  (0.022716492414474487)\n",
      "     | > loss_mel_ce: 3.8409974575042725  (3.8409974575042725)\n",
      "     | > loss: 3.8637139797210693  (3.8637139797210693)\n",
      "     | > grad_norm: 0  (0)\n",
      "     | > current_lr: 5e-06 \n",
      "     | > step_time: 21.7228  (21.72280263900757)\n",
      "     | > loader_time: 185.6995  (185.6995391845703)\n",
      "\n"
     ]
    },
    {
     "name": "stdout",
     "output_type": "stream",
     "text": [
      " > Filtering invalid eval samples!!\n"
     ]
    },
    {
     "name": "stderr",
     "output_type": "stream",
     "text": [
      "\n",
      "\u001b[1m > EVALUATION \u001b[0m\n",
      "\n"
     ]
    },
    {
     "name": "stdout",
     "output_type": "stream",
     "text": [
      " > Total eval samples after filtering: 6\n"
     ]
    },
    {
     "name": "stderr",
     "output_type": "stream",
     "text": [
      "\n",
      "  \u001b[1m--> EVAL PERFORMANCE\u001b[0m\n",
      "     | > avg_loader_time: 0.12119293212890625 \u001b[0m(+0)\n",
      "     | > avg_loss_text_ce: 0.026474604383111 \u001b[0m(+0)\n",
      "     | > avg_loss_mel_ce: 3.23940372467041 \u001b[0m(+0)\n",
      "     | > avg_loss: 3.265878438949585 \u001b[0m(+0)\n",
      "\n",
      " > BEST MODEL : D:/daps/daps/ipad_office1/segments/xtts_v2\\run\\training\\GPT_XTTS_FT-April-08-2024_01+42PM-944ace8\\best_model_7.pth\n",
      "\n",
      "\u001b[4m\u001b[1m > EPOCH: 1/10\u001b[0m\n",
      " --> D:/daps/daps/ipad_office1/segments/xtts_v2\\run\\training\\GPT_XTTS_FT-April-08-2024_01+42PM-944ace8\n",
      "\n",
      "\u001b[1m > TRAINING (2024-04-08 13:49:10) \u001b[0m\n",
      "\n",
      "\u001b[1m > EVALUATION \u001b[0m\n",
      "\n",
      "\n",
      "  \u001b[1m--> EVAL PERFORMANCE\u001b[0m\n",
      "     | > avg_loader_time:\u001b[92m 0.07329320907592773 \u001b[0m(-0.047899723052978516)\n",
      "     | > avg_loss_text_ce:\u001b[92m 0.02639484405517578 \u001b[0m(-7.976032793521881e-05)\n",
      "     | > avg_loss_mel_ce:\u001b[92m 3.105867862701416 \u001b[0m(-0.13353586196899414)\n",
      "     | > avg_loss:\u001b[92m 3.132262706756592 \u001b[0m(-0.13361573219299316)\n",
      "\n",
      " > BEST MODEL : D:/daps/daps/ipad_office1/segments/xtts_v2\\run\\training\\GPT_XTTS_FT-April-08-2024_01+42PM-944ace8\\best_model_14.pth\n",
      "\n",
      "\u001b[4m\u001b[1m > EPOCH: 2/10\u001b[0m\n",
      " --> D:/daps/daps/ipad_office1/segments/xtts_v2\\run\\training\\GPT_XTTS_FT-April-08-2024_01+42PM-944ace8\n",
      "\n",
      "\u001b[1m > TRAINING (2024-04-08 13:56:23) \u001b[0m\n",
      "\n",
      "\u001b[1m > EVALUATION \u001b[0m\n",
      "\n",
      "\n",
      "  \u001b[1m--> EVAL PERFORMANCE\u001b[0m\n",
      "     | > avg_loader_time:\u001b[92m 0.06342339515686035 \u001b[0m(-0.009869813919067383)\n",
      "     | > avg_loss_text_ce:\u001b[92m 0.02622164599597454 \u001b[0m(-0.00017319805920124054)\n",
      "     | > avg_loss_mel_ce:\u001b[92m 3.0298399925231934 \u001b[0m(-0.07602787017822266)\n",
      "     | > avg_loss:\u001b[92m 3.0560617446899414 \u001b[0m(-0.07620096206665039)\n",
      "\n",
      " > BEST MODEL : D:/daps/daps/ipad_office1/segments/xtts_v2\\run\\training\\GPT_XTTS_FT-April-08-2024_01+42PM-944ace8\\best_model_21.pth\n",
      "\n",
      "\u001b[4m\u001b[1m > EPOCH: 3/10\u001b[0m\n",
      " --> D:/daps/daps/ipad_office1/segments/xtts_v2\\run\\training\\GPT_XTTS_FT-April-08-2024_01+42PM-944ace8\n",
      "\n",
      "\u001b[1m > TRAINING (2024-04-08 14:03:43) \u001b[0m\n",
      "\n",
      "\u001b[1m > EVALUATION \u001b[0m\n",
      "\n",
      "\n",
      "  \u001b[1m--> EVAL PERFORMANCE\u001b[0m\n",
      "     | > avg_loader_time:\u001b[92m 0.061261892318725586 \u001b[0m(-0.0021615028381347656)\n",
      "     | > avg_loss_text_ce:\u001b[92m 0.026057548820972443 \u001b[0m(-0.00016409717500209808)\n",
      "     | > avg_loss_mel_ce:\u001b[92m 2.963408946990967 \u001b[0m(-0.06643104553222656)\n",
      "     | > avg_loss:\u001b[92m 2.989466428756714 \u001b[0m(-0.06659531593322754)\n",
      "\n",
      " > BEST MODEL : D:/daps/daps/ipad_office1/segments/xtts_v2\\run\\training\\GPT_XTTS_FT-April-08-2024_01+42PM-944ace8\\best_model_28.pth\n",
      "\n",
      "\u001b[4m\u001b[1m > EPOCH: 4/10\u001b[0m\n",
      " --> D:/daps/daps/ipad_office1/segments/xtts_v2\\run\\training\\GPT_XTTS_FT-April-08-2024_01+42PM-944ace8\n",
      "\n",
      "\u001b[1m > TRAINING (2024-04-08 14:11:11) \u001b[0m\n",
      "\n",
      "\u001b[1m > EVALUATION \u001b[0m\n",
      "\n",
      "\n",
      "  \u001b[1m--> EVAL PERFORMANCE\u001b[0m\n",
      "     | > avg_loader_time:\u001b[92m 0.05876326560974121 \u001b[0m(-0.002498626708984375)\n",
      "     | > avg_loss_text_ce:\u001b[92m 0.025926785543560982 \u001b[0m(-0.00013076327741146088)\n",
      "     | > avg_loss_mel_ce:\u001b[92m 2.9347071647644043 \u001b[0m(-0.0287017822265625)\n",
      "     | > avg_loss:\u001b[92m 2.9606339931488037 \u001b[0m(-0.028832435607910156)\n",
      "\n",
      " > BEST MODEL : D:/daps/daps/ipad_office1/segments/xtts_v2\\run\\training\\GPT_XTTS_FT-April-08-2024_01+42PM-944ace8\\best_model_35.pth\n",
      "\n",
      "\u001b[4m\u001b[1m > EPOCH: 5/10\u001b[0m\n",
      " --> D:/daps/daps/ipad_office1/segments/xtts_v2\\run\\training\\GPT_XTTS_FT-April-08-2024_01+42PM-944ace8\n",
      "\n",
      "\u001b[1m > TRAINING (2024-04-08 14:18:28) \u001b[0m\n",
      "\n",
      "\u001b[1m > EVALUATION \u001b[0m\n",
      "\n",
      "\n",
      "  \u001b[1m--> EVAL PERFORMANCE\u001b[0m\n",
      "     | > avg_loader_time:\u001b[92m 0.03850698471069336 \u001b[0m(-0.02025628089904785)\n",
      "     | > avg_loss_text_ce:\u001b[92m 0.025840165093541145 \u001b[0m(-8.662045001983643e-05)\n",
      "     | > avg_loss_mel_ce:\u001b[92m 2.879944086074829 \u001b[0m(-0.054763078689575195)\n",
      "     | > avg_loss:\u001b[92m 2.9057843685150146 \u001b[0m(-0.05484962463378906)\n",
      "\n",
      " > BEST MODEL : D:/daps/daps/ipad_office1/segments/xtts_v2\\run\\training\\GPT_XTTS_FT-April-08-2024_01+42PM-944ace8\\best_model_42.pth\n",
      "\n",
      "\u001b[4m\u001b[1m > EPOCH: 6/10\u001b[0m\n",
      " --> D:/daps/daps/ipad_office1/segments/xtts_v2\\run\\training\\GPT_XTTS_FT-April-08-2024_01+42PM-944ace8\n",
      "\n",
      "\u001b[1m > TRAINING (2024-04-08 14:22:20) \u001b[0m\n",
      "\n",
      "\u001b[1m > EVALUATION \u001b[0m\n",
      "\n",
      "\n",
      "  \u001b[1m--> EVAL PERFORMANCE\u001b[0m\n",
      "     | > avg_loader_time:\u001b[92m 0.03216195106506348 \u001b[0m(-0.006345033645629883)\n",
      "     | > avg_loss_text_ce:\u001b[92m 0.02578323520720005 \u001b[0m(-5.692988634109497e-05)\n",
      "     | > avg_loss_mel_ce:\u001b[92m 2.8505377769470215 \u001b[0m(-0.029406309127807617)\n",
      "     | > avg_loss:\u001b[92m 2.8763210773468018 \u001b[0m(-0.02946329116821289)\n",
      "\n",
      " > BEST MODEL : D:/daps/daps/ipad_office1/segments/xtts_v2\\run\\training\\GPT_XTTS_FT-April-08-2024_01+42PM-944ace8\\best_model_49.pth\n",
      "\n",
      "\u001b[4m\u001b[1m > EPOCH: 7/10\u001b[0m\n",
      " --> D:/daps/daps/ipad_office1/segments/xtts_v2\\run\\training\\GPT_XTTS_FT-April-08-2024_01+42PM-944ace8\n",
      "\n",
      "\u001b[1m > TRAINING (2024-04-08 14:26:20) \u001b[0m\n",
      "\n",
      "\u001b[1m   --> TIME: 2024-04-08 14:28:29 -- STEP: 1/7 -- GLOBAL_STEP: 50\u001b[0m\n",
      "     | > loss_text_ce: 0.019884824752807617  (0.019884824752807617)\n",
      "     | > loss_mel_ce: 2.676158905029297  (2.676158905029297)\n",
      "     | > loss: 2.6960437297821045  (2.6960437297821045)\n",
      "     | > grad_norm: 0  (0.0)\n",
      "     | > current_lr: 5e-06 \n",
      "     | > step_time: 21.1342  (21.13419818878174)\n",
      "     | > loader_time: 0.0038  (0.0037925243377685547)\n",
      "\n",
      "\n",
      "\u001b[1m > EVALUATION \u001b[0m\n",
      "\n",
      "\n",
      "  \u001b[1m--> EVAL PERFORMANCE\u001b[0m\n",
      "     | > avg_loader_time:\u001b[92m 0.022197246551513672 \u001b[0m(-0.009964704513549805)\n",
      "     | > avg_loss_text_ce:\u001b[92m 0.025777623057365417 \u001b[0m(-5.6121498346328735e-06)\n",
      "     | > avg_loss_mel_ce:\u001b[92m 2.8501927852630615 \u001b[0m(-0.00034499168395996094)\n",
      "     | > avg_loss:\u001b[92m 2.8759703636169434 \u001b[0m(-0.00035071372985839844)\n",
      "\n",
      " > BEST MODEL : D:/daps/daps/ipad_office1/segments/xtts_v2\\run\\training\\GPT_XTTS_FT-April-08-2024_01+42PM-944ace8\\best_model_56.pth\n",
      "\n",
      "\u001b[4m\u001b[1m > EPOCH: 8/10\u001b[0m\n",
      " --> D:/daps/daps/ipad_office1/segments/xtts_v2\\run\\training\\GPT_XTTS_FT-April-08-2024_01+42PM-944ace8\n",
      "\n",
      "\u001b[1m > TRAINING (2024-04-08 14:30:07) \u001b[0m\n",
      "\n",
      "\u001b[1m > EVALUATION \u001b[0m\n",
      "\n",
      "\n",
      "  \u001b[1m--> EVAL PERFORMANCE\u001b[0m\n",
      "     | > avg_loader_time:\u001b[91m 0.03354024887084961 \u001b[0m(+0.011343002319335938)\n",
      "     | > avg_loss_text_ce:\u001b[92m 0.02577224373817444 \u001b[0m(-5.379319190979004e-06)\n",
      "     | > avg_loss_mel_ce:\u001b[92m 2.8451809883117676 \u001b[0m(-0.005011796951293945)\n",
      "     | > avg_loss:\u001b[92m 2.870953321456909 \u001b[0m(-0.00501704216003418)\n",
      "\n",
      " > BEST MODEL : D:/daps/daps/ipad_office1/segments/xtts_v2\\run\\training\\GPT_XTTS_FT-April-08-2024_01+42PM-944ace8\\best_model_63.pth\n",
      "\n",
      "\u001b[4m\u001b[1m > EPOCH: 9/10\u001b[0m\n",
      " --> D:/daps/daps/ipad_office1/segments/xtts_v2\\run\\training\\GPT_XTTS_FT-April-08-2024_01+42PM-944ace8\n",
      "\n",
      "\u001b[1m > TRAINING (2024-04-08 14:33:48) \u001b[0m\n",
      "\n",
      "\u001b[1m > EVALUATION \u001b[0m\n",
      "\n",
      "\n",
      "  \u001b[1m--> EVAL PERFORMANCE\u001b[0m\n",
      "     | > avg_loader_time:\u001b[91m 0.034412384033203125 \u001b[0m(+0.0008721351623535156)\n",
      "     | > avg_loss_text_ce:\u001b[91m 0.025801097974181175 \u001b[0m(+2.8854236006736755e-05)\n",
      "     | > avg_loss_mel_ce:\u001b[91m 2.8722763061523438 \u001b[0m(+0.027095317840576172)\n",
      "     | > avg_loss:\u001b[91m 2.8980774879455566 \u001b[0m(+0.02712416648864746)\n",
      "\n"
     ]
    },
    {
     "name": "stdout",
     "output_type": "stream",
     "text": [
      "Model training done!\n"
     ]
    }
   ],
   "source": [
    "_, config_path, vocab_path, ft_xtts_checkpoint, speaker_wav = xtts_v2.train_model()"
   ]
  },
  {
   "cell_type": "code",
   "execution_count": 8,
   "metadata": {},
   "outputs": [
    {
     "name": "stdout",
     "output_type": "stream",
     "text": [
      "Loading model...\n",
      "[2024-04-08 14:41:37,901] [INFO] [real_accelerator.py:191:get_accelerator] Setting ds_accelerator to cuda (auto detect)\n"
     ]
    },
    {
     "name": "stderr",
     "output_type": "stream",
     "text": [
      "[2024-04-08 14:41:38,394] torch.distributed.elastic.multiprocessing.redirects: [WARNING] NOTE: Redirects are currently not supported in Windows or MacOs.\n"
     ]
    },
    {
     "name": "stdout",
     "output_type": "stream",
     "text": [
      "[2024-04-08 14:41:38,841] [INFO] [logging.py:96:log_dist] [Rank -1] DeepSpeed info: version=0.14.0+ce78a63, git-hash=ce78a63, git-branch=master\n",
      "[2024-04-08 14:41:38,841] [WARNING] [config_utils.py:69:_process_deprecated_field] Config parameter replace_method is deprecated. This parameter is no longer needed, please remove from your call to DeepSpeed-inference\n",
      "[2024-04-08 14:41:38,843] [WARNING] [config_utils.py:69:_process_deprecated_field] Config parameter mp_size is deprecated use tensor_parallel.tp_size instead\n",
      "[2024-04-08 14:41:38,843] [INFO] [logging.py:96:log_dist] [Rank -1] quantize_bits = 8 mlp_extra_grouping = False, quantize_groups = 1\n",
      "[2024-04-08 14:41:39,187] [INFO] [logging.py:96:log_dist] [Rank -1] DeepSpeed-Inference config: {'layer_id': 0, 'hidden_size': 1024, 'intermediate_size': 4096, 'heads': 16, 'num_hidden_layers': -1, 'dtype': torch.float32, 'pre_layer_norm': True, 'norm_type': <NormType.LayerNorm: 1>, 'local_rank': -1, 'stochastic_mode': False, 'epsilon': 1e-05, 'mp_size': 1, 'scale_attention': True, 'triangular_masking': True, 'local_attention': False, 'window_size': 1, 'rotary_dim': -1, 'rotate_half': False, 'rotate_every_two': True, 'return_tuple': True, 'mlp_after_attn': True, 'mlp_act_func_type': <ActivationFuncType.GELU: 1>, 'specialized_mode': False, 'training_mp_size': 1, 'bigscience_bloom': False, 'max_out_tokens': 1024, 'min_out_tokens': 1, 'scale_attn_by_inverse_layer_idx': False, 'enable_qkv_quantization': False, 'use_mup': False, 'return_single_tuple': False, 'set_empty_params': False, 'transposed_mode': False, 'use_triton': False, 'triton_autotune': False, 'num_kv': -1, 'rope_theta': 10000}\n"
     ]
    },
    {
     "name": "stderr",
     "output_type": "stream",
     "text": [
      "c:\\Users\\spn\\anaconda3\\envs\\capstone\\Lib\\site-packages\\transformers\\utils\\generic.py:309: UserWarning: torch.utils._pytree._register_pytree_node is deprecated. Please use torch.utils._pytree.register_pytree_node instead.\n",
      "  _torch_pytree._register_pytree_node(\n"
     ]
    }
   ],
   "source": [
    "from models.TTS_utils import load_manual_xtts_v2\n",
    "ft_xtts_checkpoint = 'D:/daps/daps/ipad_office1/segments/xtts_v2/run/training/GPT_XTTS_FT-April-08-2024_01+42PM-944ace8'\n",
    "model = load_manual_xtts_v2(config_path, ft_xtts_checkpoint)"
   ]
  },
  {
   "cell_type": "code",
   "execution_count": 10,
   "metadata": {},
   "outputs": [
    {
     "data": {
      "text/plain": [
       "XttsConfig(output_path='output', logger_uri=None, run_name='run', project_name=None, run_description='🐸Coqui trainer run.', print_step=25, plot_step=100, model_param_stats=False, wandb_entity=None, dashboard_logger='tensorboard', save_on_interrupt=True, log_model_step=None, save_step=10000, save_n_checkpoints=5, save_checkpoints=True, save_all_best=False, save_best_after=10000, target_loss=None, print_eval=False, test_delay_epochs=0, run_eval=True, run_eval_steps=None, distributed_backend='nccl', distributed_url='tcp://localhost:54321', mixed_precision=False, precision='fp16', epochs=1000, batch_size=32, eval_batch_size=16, grad_clip=0.0, scheduler_after_epoch=True, lr=0.001, optimizer='radam', optimizer_params=None, lr_scheduler=None, lr_scheduler_params={}, use_grad_scaler=False, allow_tf32=False, cudnn_enable=True, cudnn_deterministic=False, cudnn_benchmark=False, training_seed=54321, model='xtts', num_loader_workers=0, num_eval_loader_workers=0, use_noise_augment=False, audio=XttsAudioConfig(sample_rate=22050, output_sample_rate=24000), use_phonemes=False, phonemizer=None, phoneme_language=None, compute_input_seq_cache=False, text_cleaner=None, enable_eos_bos_chars=False, test_sentences_file='', phoneme_cache_path=None, characters=None, add_blank=False, batch_group_size=0, loss_masking=None, min_audio_len=1, max_audio_len=inf, min_text_len=1, max_text_len=inf, compute_f0=False, compute_energy=False, compute_linear_spec=False, precompute_num_workers=0, start_by_longest=False, shuffle=False, drop_last=False, datasets=[BaseDatasetConfig(formatter='', dataset_name='', path='', meta_file_train='', ignored_speakers=None, language='', phonemizer='', meta_file_val='', meta_file_attn_mask='')], test_sentences=[], eval_split_max_size=None, eval_split_size=0.01, use_speaker_weighted_sampler=False, speaker_weighted_sampler_alpha=1.0, use_language_weighted_sampler=False, language_weighted_sampler_alpha=1.0, use_length_weighted_sampler=False, length_weighted_sampler_alpha=1.0, model_args=XttsArgs(gpt_batch_size=1, enable_redaction=False, kv_cache=True, gpt_checkpoint=None, clvp_checkpoint=None, decoder_checkpoint=None, num_chars=255, tokenizer_file='', gpt_max_audio_tokens=605, gpt_max_text_tokens=402, gpt_max_prompt_tokens=70, gpt_layers=30, gpt_n_model_channels=1024, gpt_n_heads=16, gpt_number_text_tokens=6681, gpt_start_text_token=None, gpt_stop_text_token=None, gpt_num_audio_tokens=1026, gpt_start_audio_token=1024, gpt_stop_audio_token=1025, gpt_code_stride_len=1024, gpt_use_masking_gt_prompt_approach=True, gpt_use_perceiver_resampler=True, input_sample_rate=22050, output_sample_rate=24000, output_hop_length=256, decoder_input_dim=1024, d_vector_dim=512, cond_d_vector_in_each_upsampling_layer=True, duration_const=102400), model_dir=None, languages=['en', 'es', 'fr', 'de', 'it', 'pt', 'pl', 'tr', 'ru', 'nl', 'cs', 'ar', 'zh-cn', 'hu', 'ko', 'ja', 'hi'], temperature=0.75, length_penalty=1.0, repetition_penalty=5.0, top_k=50, top_p=0.85, num_gpt_outputs=1, gpt_cond_len=30, gpt_cond_chunk_len=4, max_ref_len=30, sound_norm_refs=False)"
      ]
     },
     "execution_count": 10,
     "metadata": {},
     "output_type": "execute_result"
    }
   ],
   "source": [
    "model.config"
   ]
  },
  {
   "cell_type": "code",
   "execution_count": 19,
   "metadata": {},
   "outputs": [
    {
     "data": {
      "text/plain": [
       "'D:/daps/daps/ipad_office1/segments/xtts_v2\\\\run\\\\training\\\\XTTS_v2.0_original_model_files/config.json'"
      ]
     },
     "execution_count": 19,
     "metadata": {},
     "output_type": "execute_result"
    }
   ],
   "source": [
    "config_path"
   ]
  },
  {
   "cell_type": "code",
   "execution_count": 21,
   "metadata": {},
   "outputs": [],
   "source": [
    "from TTS.tts.utils.speakers import SpeakerManager\n",
    "from TTS.utils.audio import AudioProcessor\n",
    "ft_xtts_checkpoint = 'D:/daps/daps/ipad_office1/segments/xtts_v2/run/training/GPT_XTTS_FT-April-08-2024_01+42PM-944ace8/model.pth'\n",
    "\n",
    "manager = SpeakerManager(encoder_model_path= ft_xtts_checkpoint)"
   ]
  },
  {
   "cell_type": "code",
   "execution_count": 23,
   "metadata": {},
   "outputs": [
    {
     "data": {
      "text/plain": [
       "[]"
      ]
     },
     "execution_count": 23,
     "metadata": {},
     "output_type": "execute_result"
    }
   ],
   "source": [
    "manager.speaker_names"
   ]
  },
  {
   "cell_type": "code",
   "execution_count": 2,
   "metadata": {},
   "outputs": [
    {
     "name": "stderr",
     "output_type": "stream",
     "text": [
      "c:\\Users\\spn\\anaconda3\\envs\\capstone\\Lib\\site-packages\\TTS\\api.py:70: UserWarning: `gpu` will be deprecated. Please use `tts.to(device)` instead.\n",
      "  warnings.warn(\"`gpu` will be deprecated. Please use `tts.to(device)` instead.\")\n"
     ]
    },
    {
     "name": "stdout",
     "output_type": "stream",
     "text": [
      " > tts_models/multilingual/multi-dataset/xtts_v2 is already downloaded.\n",
      " > Using model: xtts\n",
      " > Text splitted to sentences.\n",
      "[\"It took me quite a long time to develop a voice, and now that I have it I'm not going to be silent.\"]\n",
      " > Processing time: 7.212629079818726\n",
      " > Real-time factor: 0.876148475154269\n"
     ]
    },
    {
     "data": {
      "text/plain": [
       "'output.wav'"
      ]
     },
     "execution_count": 2,
     "metadata": {},
     "output_type": "execute_result"
    }
   ],
   "source": [
    "from TTS.api import TTS\n",
    "tts = TTS(\"tts_models/multilingual/multi-dataset/xtts_v2\", gpu=True)\n",
    "\n",
    "# generate speech by cloning a voice using default settings\n",
    "tts.tts_to_file(text=\"It took me quite a long time to develop a voice, and now that I have it I'm not going to be silent.\",\n",
    "                file_path=\"output.wav\",\n",
    "                speaker_wav=\"here.wav\",\n",
    "                language=\"en\")\n"
   ]
  },
  {
   "cell_type": "code",
   "execution_count": 27,
   "metadata": {},
   "outputs": [
    {
     "ename": "AttributeError",
     "evalue": "'TTS' object has no attribute 'speakers'",
     "output_type": "error",
     "traceback": [
      "\u001b[1;31m---------------------------------------------------------------------------\u001b[0m",
      "\u001b[1;31mAttributeError\u001b[0m                            Traceback (most recent call last)",
      "Cell \u001b[1;32mIn[27], line 1\u001b[0m\n\u001b[1;32m----> 1\u001b[0m \u001b[43mtts\u001b[49m\u001b[38;5;241;43m.\u001b[39;49m\u001b[43mspeakers\u001b[49m\n",
      "File \u001b[1;32mc:\\Users\\spn\\anaconda3\\envs\\capstone\\Lib\\site-packages\\torch\\nn\\modules\\module.py:1688\u001b[0m, in \u001b[0;36mModule.__getattr__\u001b[1;34m(self, name)\u001b[0m\n\u001b[0;32m   1686\u001b[0m     \u001b[38;5;28;01mif\u001b[39;00m name \u001b[38;5;129;01min\u001b[39;00m modules:\n\u001b[0;32m   1687\u001b[0m         \u001b[38;5;28;01mreturn\u001b[39;00m modules[name]\n\u001b[1;32m-> 1688\u001b[0m \u001b[38;5;28;01mraise\u001b[39;00m \u001b[38;5;167;01mAttributeError\u001b[39;00m(\u001b[38;5;124mf\u001b[39m\u001b[38;5;124m\"\u001b[39m\u001b[38;5;124m'\u001b[39m\u001b[38;5;132;01m{\u001b[39;00m\u001b[38;5;28mtype\u001b[39m(\u001b[38;5;28mself\u001b[39m)\u001b[38;5;241m.\u001b[39m\u001b[38;5;18m__name__\u001b[39m\u001b[38;5;132;01m}\u001b[39;00m\u001b[38;5;124m'\u001b[39m\u001b[38;5;124m object has no attribute \u001b[39m\u001b[38;5;124m'\u001b[39m\u001b[38;5;132;01m{\u001b[39;00mname\u001b[38;5;132;01m}\u001b[39;00m\u001b[38;5;124m'\u001b[39m\u001b[38;5;124m\"\u001b[39m)\n",
      "\u001b[1;31mAttributeError\u001b[0m: 'TTS' object has no attribute 'speakers'"
     ]
    }
   ],
   "source": [
    "tts.speakers"
   ]
  }
 ],
 "metadata": {
  "kernelspec": {
   "display_name": "capstone",
   "language": "python",
   "name": "python3"
  },
  "language_info": {
   "codemirror_mode": {
    "name": "ipython",
    "version": 3
   },
   "file_extension": ".py",
   "mimetype": "text/x-python",
   "name": "python",
   "nbconvert_exporter": "python",
   "pygments_lexer": "ipython3",
   "version": "3.11.7"
  }
 },
 "nbformat": 4,
 "nbformat_minor": 2
}
